{
 "cells": [
  {
   "cell_type": "markdown",
   "metadata": {},
   "source": [
    "# Movie reviews\n",
    "\n",
    "This notebook takes you though a complete iteration of Machine Learning Assignment 1 - Movie reviews. The assignment details (including links to download the data) can be found [here](https://docs.google.com/document/d/1WGYw99e5q6j5V0Zrf2HveagU6URt_kVvdR8B9HYQ99E/edit?usp=sharing). "
   ]
  },
  {
   "cell_type": "markdown",
   "metadata": {},
   "source": [
    "You are encouraged to create features beyond those available in the feature extraction documentation. Possibilities include the length of the comment/review, its grammar, punctuation, etc."
   ]
  },
  {
   "cell_type": "markdown",
   "metadata": {},
   "source": [
    "The Machine Learning task: \n",
    "This is a classification task. You will predict **Sentiment**, which is equal to **1 if the movie review is a “good” review** or **0 if it is not a “good” review**. "
   ]
  },
  {
   "cell_type": "markdown",
   "metadata": {},
   "source": [
    "Variables that should never be on the X side of the equation: \n",
    "- id\n",
    "- Sentiment\n",
    "- OR ANY VARIATION OF THESE!\n"
   ]
  },
  {
   "cell_type": "markdown",
   "metadata": {},
   "source": [
    "Your work will be assessed on: \n",
    "- how accurately your model classifies on a test set\n",
    "- how well your model generalizes\n",
    "- the organization and documentation of your Jupyter Notebooks\n",
    "- communication of your work in class reflections and final presentations\n",
    "- model improvement over the semester\n",
    "-  -10 points if you use a random_seed of 74 in your train/test data split"
   ]
  },
  {
   "cell_type": "code",
   "execution_count": null,
   "metadata": {},
   "outputs": [],
   "source": []
  },
  {
   "cell_type": "markdown",
   "metadata": {},
   "source": [
    "## import libraries we will use:"
   ]
  },
  {
   "cell_type": "code",
   "execution_count": 8,
   "metadata": {},
   "outputs": [],
   "source": [
    "# all imports and magic commands\n",
    "import numpy as np\n",
    "import pandas as pd\n",
    "import matplotlib.pyplot as plt\n",
    "# from my_measures import BinaryClassificationPerformance\n",
    "from sklearn.feature_extraction.text import HashingVectorizer\n",
    "from sklearn.feature_extraction.text import TfidfTransformer\n",
    "from scipy.sparse import csr_matrix, hstack\n",
    "from sklearn.preprocessing import StandardScaler\n",
    "from sklearn.model_selection import train_test_split\n",
    "%matplotlib inline"
   ]
  },
  {
   "cell_type": "markdown",
   "metadata": {},
   "source": [
    "using NLTK, let's explore the data"
   ]
  },
  {
   "cell_type": "code",
   "execution_count": null,
   "metadata": {},
   "outputs": [],
   "source": []
  },
  {
   "cell_type": "markdown",
   "metadata": {},
   "source": [
    "## Local BinaryClassificationPerformance()"
   ]
  },
  {
   "cell_type": "code",
   "execution_count": 9,
   "metadata": {},
   "outputs": [],
   "source": [
    "# my_measures\n",
    "class BinaryClassificationPerformance():\n",
    "    '''Performance measures to evaluate the fit of a binary classification model, v1.02'''\n",
    "    \n",
    "    def __init__(self, predictions, labels, desc, probabilities=None):\n",
    "        '''Initialize attributes: predictions-vector of predicted values for Y, labels-vector of labels for Y'''\n",
    "        '''probabilities-optional, probability that Y is equal to True'''\n",
    "        self.probabilities = probabilities\n",
    "        self.performance_df = pd.concat([pd.DataFrame(predictions), pd.DataFrame(labels).reset_index(drop=True)], axis=1, ignore_index=True)\n",
    "        self.performance_df.columns = ['preds', 'labls']\n",
    "        self.desc = desc\n",
    "        self.performance_measures = {}\n",
    "        self.image_indices = {}\n",
    "  \n",
    "    def compute_measures(self):\n",
    "        '''Compute performance measures defined by Flach p. 57'''\n",
    "        self.performance_measures['Pos'] = self.performance_df['labls'].sum()\n",
    "        self.performance_measures['Neg'] = self.performance_df['labls'].shape[0] - self.performance_df['labls'].sum()\n",
    "        self.performance_measures['TP'] = ((self.performance_df['preds'] == True) & (self.performance_df['labls'] == True)).sum()\n",
    "        self.performance_measures['TN'] = ((self.performance_df['preds'] == False) & (self.performance_df['labls'] == False)).sum()\n",
    "        self.performance_measures['FP'] = ((self.performance_df['preds'] == True) & (self.performance_df['labls'] == False)).sum()\n",
    "        self.performance_measures['FN'] = ((self.performance_df['preds'] == False) & (self.performance_df['labls'] == True)).sum()\n",
    "        self.performance_measures['Accuracy'] = (self.performance_measures['TP'] + self.performance_measures['TN']) / (self.performance_measures['Pos'] + self.performance_measures['Neg'])\n",
    "        self.performance_measures['Precision'] = self.performance_measures['TP'] / (self.performance_measures['TP'] + self.performance_measures['FP'])\n",
    "        self.performance_measures['Recall'] = self.performance_measures['TP'] / self.performance_measures['Pos']\n",
    "        self.performance_measures['desc'] = self.desc\n",
    "\n",
    "    def img_indices(self):\n",
    "        '''Get the indices of true and false positives to be able to locate the corresponding images in a list of image names'''\n",
    "        self.performance_df['tp_ind'] = ((self.performance_df['preds'] == True) & (self.performance_df['labls'] == True))\n",
    "        self.performance_df['fp_ind'] = ((self.performance_df['preds'] == True) & (self.performance_df['labls'] == False))\n",
    "        self.image_indices['TP_indices'] = np.where(self.performance_df['tp_ind']==True)[0].tolist()\n",
    "        self.image_indices['FP_indices'] = np.where(self.performance_df['fp_ind']==True)[0].tolist()"
   ]
  },
  {
   "cell_type": "markdown",
   "metadata": {},
   "source": [
    "### IMPORTANT!!! Make sure you are using `BinaryClassificationPerformance` v1.02"
   ]
  },
  {
   "cell_type": "code",
   "execution_count": 10,
   "metadata": {
    "scrolled": true
   },
   "outputs": [
    {
     "name": "stdout",
     "output_type": "stream",
     "text": [
      "Help on class BinaryClassificationPerformance in module __main__:\n",
      "\n",
      "class BinaryClassificationPerformance(builtins.object)\n",
      " |  BinaryClassificationPerformance(predictions, labels, desc, probabilities=None)\n",
      " |  \n",
      " |  Performance measures to evaluate the fit of a binary classification model, v1.02\n",
      " |  \n",
      " |  Methods defined here:\n",
      " |  \n",
      " |  __init__(self, predictions, labels, desc, probabilities=None)\n",
      " |      Initialize attributes: predictions-vector of predicted values for Y, labels-vector of labels for Y\n",
      " |  \n",
      " |  compute_measures(self)\n",
      " |      Compute performance measures defined by Flach p. 57\n",
      " |  \n",
      " |  img_indices(self)\n",
      " |      Get the indices of true and false positives to be able to locate the corresponding images in a list of image names\n",
      " |  \n",
      " |  ----------------------------------------------------------------------\n",
      " |  Data descriptors defined here:\n",
      " |  \n",
      " |  __dict__\n",
      " |      dictionary for instance variables (if defined)\n",
      " |  \n",
      " |  __weakref__\n",
      " |      list of weak references to the object (if defined)\n",
      "\n"
     ]
    }
   ],
   "source": [
    "help(BinaryClassificationPerformance)"
   ]
  },
  {
   "cell_type": "code",
   "execution_count": 16,
   "metadata": {},
   "outputs": [],
   "source": [
    "movie_data = pd.read_csv('../week04/final_data/moviereviews_train.tsv', sep='\\t')"
   ]
  },
  {
   "cell_type": "code",
   "execution_count": 17,
   "metadata": {},
   "outputs": [
    {
     "data": {
      "text/html": [
       "<div>\n",
       "<style scoped>\n",
       "    .dataframe tbody tr th:only-of-type {\n",
       "        vertical-align: middle;\n",
       "    }\n",
       "\n",
       "    .dataframe tbody tr th {\n",
       "        vertical-align: top;\n",
       "    }\n",
       "\n",
       "    .dataframe thead th {\n",
       "        text-align: right;\n",
       "    }\n",
       "</style>\n",
       "<table border=\"1\" class=\"dataframe\">\n",
       "  <thead>\n",
       "    <tr style=\"text-align: right;\">\n",
       "      <th></th>\n",
       "      <th>sentiment</th>\n",
       "    </tr>\n",
       "  </thead>\n",
       "  <tbody>\n",
       "    <tr>\n",
       "      <th>count</th>\n",
       "      <td>25000.00000</td>\n",
       "    </tr>\n",
       "    <tr>\n",
       "      <th>mean</th>\n",
       "      <td>0.50000</td>\n",
       "    </tr>\n",
       "    <tr>\n",
       "      <th>std</th>\n",
       "      <td>0.50001</td>\n",
       "    </tr>\n",
       "    <tr>\n",
       "      <th>min</th>\n",
       "      <td>0.00000</td>\n",
       "    </tr>\n",
       "    <tr>\n",
       "      <th>25%</th>\n",
       "      <td>0.00000</td>\n",
       "    </tr>\n",
       "    <tr>\n",
       "      <th>50%</th>\n",
       "      <td>0.50000</td>\n",
       "    </tr>\n",
       "    <tr>\n",
       "      <th>75%</th>\n",
       "      <td>1.00000</td>\n",
       "    </tr>\n",
       "    <tr>\n",
       "      <th>max</th>\n",
       "      <td>1.00000</td>\n",
       "    </tr>\n",
       "  </tbody>\n",
       "</table>\n",
       "</div>"
      ],
      "text/plain": [
       "         sentiment\n",
       "count  25000.00000\n",
       "mean       0.50000\n",
       "std        0.50001\n",
       "min        0.00000\n",
       "25%        0.00000\n",
       "50%        0.50000\n",
       "75%        1.00000\n",
       "max        1.00000"
      ]
     },
     "execution_count": 17,
     "metadata": {},
     "output_type": "execute_result"
    }
   ],
   "source": [
    "movie_data.describe()"
   ]
  },
  {
   "cell_type": "code",
   "execution_count": 18,
   "metadata": {},
   "outputs": [
    {
     "data": {
      "text/html": [
       "<div>\n",
       "<style scoped>\n",
       "    .dataframe tbody tr th:only-of-type {\n",
       "        vertical-align: middle;\n",
       "    }\n",
       "\n",
       "    .dataframe tbody tr th {\n",
       "        vertical-align: top;\n",
       "    }\n",
       "\n",
       "    .dataframe thead th {\n",
       "        text-align: right;\n",
       "    }\n",
       "</style>\n",
       "<table border=\"1\" class=\"dataframe\">\n",
       "  <thead>\n",
       "    <tr style=\"text-align: right;\">\n",
       "      <th></th>\n",
       "      <th>id</th>\n",
       "      <th>sentiment</th>\n",
       "      <th>review</th>\n",
       "    </tr>\n",
       "  </thead>\n",
       "  <tbody>\n",
       "    <tr>\n",
       "      <th>0</th>\n",
       "      <td>5814_8</td>\n",
       "      <td>1</td>\n",
       "      <td>With all this stuff going down at the moment w...</td>\n",
       "    </tr>\n",
       "    <tr>\n",
       "      <th>1</th>\n",
       "      <td>2381_9</td>\n",
       "      <td>1</td>\n",
       "      <td>\\The Classic War of the Worlds\\\" by Timothy Hi...</td>\n",
       "    </tr>\n",
       "    <tr>\n",
       "      <th>2</th>\n",
       "      <td>7759_3</td>\n",
       "      <td>0</td>\n",
       "      <td>The film starts with a manager (Nicholas Bell)...</td>\n",
       "    </tr>\n",
       "    <tr>\n",
       "      <th>3</th>\n",
       "      <td>3630_4</td>\n",
       "      <td>0</td>\n",
       "      <td>It must be assumed that those who praised this...</td>\n",
       "    </tr>\n",
       "    <tr>\n",
       "      <th>4</th>\n",
       "      <td>9495_8</td>\n",
       "      <td>1</td>\n",
       "      <td>Superbly trashy and wondrously unpretentious 8...</td>\n",
       "    </tr>\n",
       "  </tbody>\n",
       "</table>\n",
       "</div>"
      ],
      "text/plain": [
       "       id  sentiment                                             review\n",
       "0  5814_8          1  With all this stuff going down at the moment w...\n",
       "1  2381_9          1  \\The Classic War of the Worlds\\\" by Timothy Hi...\n",
       "2  7759_3          0  The film starts with a manager (Nicholas Bell)...\n",
       "3  3630_4          0  It must be assumed that those who praised this...\n",
       "4  9495_8          1  Superbly trashy and wondrously unpretentious 8..."
      ]
     },
     "execution_count": 18,
     "metadata": {},
     "output_type": "execute_result"
    }
   ],
   "source": [
    "movie_data.head()"
   ]
  },
  {
   "cell_type": "code",
   "execution_count": 25,
   "metadata": {},
   "outputs": [
    {
     "name": "stdout",
     "output_type": "stream",
     "text": [
      "With all this stuff going down at the moment with MJ i've started listening to his music, watching the odd documentary here and there, watched The Wiz and watched Moonwalker again. Maybe i just want to get a certain insight into this guy who i thought was really cool in the eighties just to maybe make up my mind whether he is guilty or innocent. Moonwalker is part biography, part feature film which i remember going to see at the cinema when it was originally released. Some of it has subtle messages about MJ's feeling towards the press and also the obvious message of drugs are bad m'kay.<br /><br />Visually impressive but of course this is all about Michael Jackson so unless you remotely like MJ in anyway then you are going to hate this and find it boring. Some may call MJ an egotist for consenting to the making of this movie BUT MJ and most of his fans would say that he made it for the fans which if true is really nice of him.<br /><br />The actual feature film bit when it finally starts is only on for 20 minutes or so excluding the Smooth Criminal sequence and Joe Pesci is convincing as a psychopathic all powerful drug lord. Why he wants MJ dead so bad is beyond me. Because MJ overheard his plans? Nah, Joe Pesci's character ranted that he wanted people to know it is he who is supplying drugs etc so i dunno, maybe he just hates MJ's music.<br /><br />Lots of cool things in this like MJ turning into a car and a robot and the whole Speed Demon sequence. Also, the director must have had the patience of a saint when it came to filming the kiddy Bad sequence as usually directors hate working with one kid let alone a whole bunch of them performing a complex dance scene.<br /><br />Bottom line, this movie is for people who like MJ on one level or another (which i think is most people). If not, then stay away. It does try and give off a wholesome message and ironically MJ's bestest buddy in this movie is a girl! Michael Jackson is truly one of the most talented people ever to grace this planet but is he guilty? Well, with all the attention i've gave this subject....hmmm well i don't know because people can be different behind closed doors, i know this for a fact. He is either an extremely nice but stupid guy or one of the most sickest liars. I hope he is not the latter.\n"
     ]
    }
   ],
   "source": [
    "sample_review=movie_data['review'][0]\n",
    "print(sample_review)"
   ]
  },
  {
   "cell_type": "markdown",
   "metadata": {},
   "source": [
    "## Basic features:"
   ]
  },
  {
   "cell_type": "markdown",
   "metadata": {},
   "source": [
    "- How long is the text?"
   ]
  },
  {
   "cell_type": "code",
   "execution_count": 21,
   "metadata": {},
   "outputs": [
    {
     "data": {
      "text/plain": [
       "['With',\n",
       " 'all',\n",
       " 'this',\n",
       " 'stuff',\n",
       " 'going',\n",
       " 'down',\n",
       " 'at',\n",
       " 'the',\n",
       " 'moment',\n",
       " 'with',\n",
       " 'MJ',\n",
       " \"i've\",\n",
       " 'started',\n",
       " 'listening',\n",
       " 'to',\n",
       " 'his',\n",
       " 'music,',\n",
       " 'watching',\n",
       " 'the',\n",
       " 'odd',\n",
       " 'documentary',\n",
       " 'here',\n",
       " 'and',\n",
       " 'there,',\n",
       " 'watched',\n",
       " 'The',\n",
       " 'Wiz',\n",
       " 'and',\n",
       " 'watched',\n",
       " 'Moonwalker',\n",
       " 'again.',\n",
       " 'Maybe',\n",
       " 'i',\n",
       " 'just',\n",
       " 'want',\n",
       " 'to',\n",
       " 'get',\n",
       " 'a',\n",
       " 'certain',\n",
       " 'insight',\n",
       " 'into',\n",
       " 'this',\n",
       " 'guy',\n",
       " 'who',\n",
       " 'i',\n",
       " 'thought',\n",
       " 'was',\n",
       " 'really',\n",
       " 'cool',\n",
       " 'in',\n",
       " 'the',\n",
       " 'eighties',\n",
       " 'just',\n",
       " 'to',\n",
       " 'maybe',\n",
       " 'make',\n",
       " 'up',\n",
       " 'my',\n",
       " 'mind',\n",
       " 'whether',\n",
       " 'he',\n",
       " 'is',\n",
       " 'guilty',\n",
       " 'or',\n",
       " 'innocent.',\n",
       " 'Moonwalker',\n",
       " 'is',\n",
       " 'part',\n",
       " 'biography,',\n",
       " 'part',\n",
       " 'feature',\n",
       " 'film',\n",
       " 'which',\n",
       " 'i',\n",
       " 'remember',\n",
       " 'going',\n",
       " 'to',\n",
       " 'see',\n",
       " 'at',\n",
       " 'the',\n",
       " 'cinema',\n",
       " 'when',\n",
       " 'it',\n",
       " 'was',\n",
       " 'originally',\n",
       " 'released.',\n",
       " 'Some',\n",
       " 'of',\n",
       " 'it',\n",
       " 'has',\n",
       " 'subtle',\n",
       " 'messages',\n",
       " 'about',\n",
       " \"MJ's\",\n",
       " 'feeling',\n",
       " 'towards',\n",
       " 'the',\n",
       " 'press',\n",
       " 'and',\n",
       " 'also',\n",
       " 'the',\n",
       " 'obvious',\n",
       " 'message',\n",
       " 'of',\n",
       " 'drugs',\n",
       " 'are',\n",
       " 'bad',\n",
       " \"m'kay.<br\",\n",
       " '/><br',\n",
       " '/>Visually',\n",
       " 'impressive',\n",
       " 'but',\n",
       " 'of',\n",
       " 'course',\n",
       " 'this',\n",
       " 'is',\n",
       " 'all',\n",
       " 'about',\n",
       " 'Michael',\n",
       " 'Jackson',\n",
       " 'so',\n",
       " 'unless',\n",
       " 'you',\n",
       " 'remotely',\n",
       " 'like',\n",
       " 'MJ',\n",
       " 'in',\n",
       " 'anyway',\n",
       " 'then',\n",
       " 'you',\n",
       " 'are',\n",
       " 'going',\n",
       " 'to',\n",
       " 'hate',\n",
       " 'this',\n",
       " 'and',\n",
       " 'find',\n",
       " 'it',\n",
       " 'boring.',\n",
       " 'Some',\n",
       " 'may',\n",
       " 'call',\n",
       " 'MJ',\n",
       " 'an',\n",
       " 'egotist',\n",
       " 'for',\n",
       " 'consenting',\n",
       " 'to',\n",
       " 'the',\n",
       " 'making',\n",
       " 'of',\n",
       " 'this',\n",
       " 'movie',\n",
       " 'BUT',\n",
       " 'MJ',\n",
       " 'and',\n",
       " 'most',\n",
       " 'of',\n",
       " 'his',\n",
       " 'fans',\n",
       " 'would',\n",
       " 'say',\n",
       " 'that',\n",
       " 'he',\n",
       " 'made',\n",
       " 'it',\n",
       " 'for',\n",
       " 'the',\n",
       " 'fans',\n",
       " 'which',\n",
       " 'if',\n",
       " 'true',\n",
       " 'is',\n",
       " 'really',\n",
       " 'nice',\n",
       " 'of',\n",
       " 'him.<br',\n",
       " '/><br',\n",
       " '/>The',\n",
       " 'actual',\n",
       " 'feature',\n",
       " 'film',\n",
       " 'bit',\n",
       " 'when',\n",
       " 'it',\n",
       " 'finally',\n",
       " 'starts',\n",
       " 'is',\n",
       " 'only',\n",
       " 'on',\n",
       " 'for',\n",
       " '20',\n",
       " 'minutes',\n",
       " 'or',\n",
       " 'so',\n",
       " 'excluding',\n",
       " 'the',\n",
       " 'Smooth',\n",
       " 'Criminal',\n",
       " 'sequence',\n",
       " 'and',\n",
       " 'Joe',\n",
       " 'Pesci',\n",
       " 'is',\n",
       " 'convincing',\n",
       " 'as',\n",
       " 'a',\n",
       " 'psychopathic',\n",
       " 'all',\n",
       " 'powerful',\n",
       " 'drug',\n",
       " 'lord.',\n",
       " 'Why',\n",
       " 'he',\n",
       " 'wants',\n",
       " 'MJ',\n",
       " 'dead',\n",
       " 'so',\n",
       " 'bad',\n",
       " 'is',\n",
       " 'beyond',\n",
       " 'me.',\n",
       " 'Because',\n",
       " 'MJ',\n",
       " 'overheard',\n",
       " 'his',\n",
       " 'plans?',\n",
       " 'Nah,',\n",
       " 'Joe',\n",
       " \"Pesci's\",\n",
       " 'character',\n",
       " 'ranted',\n",
       " 'that',\n",
       " 'he',\n",
       " 'wanted',\n",
       " 'people',\n",
       " 'to',\n",
       " 'know',\n",
       " 'it',\n",
       " 'is',\n",
       " 'he',\n",
       " 'who',\n",
       " 'is',\n",
       " 'supplying',\n",
       " 'drugs',\n",
       " 'etc',\n",
       " 'so',\n",
       " 'i',\n",
       " 'dunno,',\n",
       " 'maybe',\n",
       " 'he',\n",
       " 'just',\n",
       " 'hates',\n",
       " \"MJ's\",\n",
       " 'music.<br',\n",
       " '/><br',\n",
       " '/>Lots',\n",
       " 'of',\n",
       " 'cool',\n",
       " 'things',\n",
       " 'in',\n",
       " 'this',\n",
       " 'like',\n",
       " 'MJ',\n",
       " 'turning',\n",
       " 'into',\n",
       " 'a',\n",
       " 'car',\n",
       " 'and',\n",
       " 'a',\n",
       " 'robot',\n",
       " 'and',\n",
       " 'the',\n",
       " 'whole',\n",
       " 'Speed',\n",
       " 'Demon',\n",
       " 'sequence.',\n",
       " 'Also,',\n",
       " 'the',\n",
       " 'director',\n",
       " 'must',\n",
       " 'have',\n",
       " 'had',\n",
       " 'the',\n",
       " 'patience',\n",
       " 'of',\n",
       " 'a',\n",
       " 'saint',\n",
       " 'when',\n",
       " 'it',\n",
       " 'came',\n",
       " 'to',\n",
       " 'filming',\n",
       " 'the',\n",
       " 'kiddy',\n",
       " 'Bad',\n",
       " 'sequence',\n",
       " 'as',\n",
       " 'usually',\n",
       " 'directors',\n",
       " 'hate',\n",
       " 'working',\n",
       " 'with',\n",
       " 'one',\n",
       " 'kid',\n",
       " 'let',\n",
       " 'alone',\n",
       " 'a',\n",
       " 'whole',\n",
       " 'bunch',\n",
       " 'of',\n",
       " 'them',\n",
       " 'performing',\n",
       " 'a',\n",
       " 'complex',\n",
       " 'dance',\n",
       " 'scene.<br',\n",
       " '/><br',\n",
       " '/>Bottom',\n",
       " 'line,',\n",
       " 'this',\n",
       " 'movie',\n",
       " 'is',\n",
       " 'for',\n",
       " 'people',\n",
       " 'who',\n",
       " 'like',\n",
       " 'MJ',\n",
       " 'on',\n",
       " 'one',\n",
       " 'level',\n",
       " 'or',\n",
       " 'another',\n",
       " '(which',\n",
       " 'i',\n",
       " 'think',\n",
       " 'is',\n",
       " 'most',\n",
       " 'people).',\n",
       " 'If',\n",
       " 'not,',\n",
       " 'then',\n",
       " 'stay',\n",
       " 'away.',\n",
       " 'It',\n",
       " 'does',\n",
       " 'try',\n",
       " 'and',\n",
       " 'give',\n",
       " 'off',\n",
       " 'a',\n",
       " 'wholesome',\n",
       " 'message',\n",
       " 'and',\n",
       " 'ironically',\n",
       " \"MJ's\",\n",
       " 'bestest',\n",
       " 'buddy',\n",
       " 'in',\n",
       " 'this',\n",
       " 'movie',\n",
       " 'is',\n",
       " 'a',\n",
       " 'girl!',\n",
       " 'Michael',\n",
       " 'Jackson',\n",
       " 'is',\n",
       " 'truly',\n",
       " 'one',\n",
       " 'of',\n",
       " 'the',\n",
       " 'most',\n",
       " 'talented',\n",
       " 'people',\n",
       " 'ever',\n",
       " 'to',\n",
       " 'grace',\n",
       " 'this',\n",
       " 'planet',\n",
       " 'but',\n",
       " 'is',\n",
       " 'he',\n",
       " 'guilty?',\n",
       " 'Well,',\n",
       " 'with',\n",
       " 'all',\n",
       " 'the',\n",
       " 'attention',\n",
       " \"i've\",\n",
       " 'gave',\n",
       " 'this',\n",
       " 'subject....hmmm',\n",
       " 'well',\n",
       " 'i',\n",
       " \"don't\",\n",
       " 'know',\n",
       " 'because',\n",
       " 'people',\n",
       " 'can',\n",
       " 'be',\n",
       " 'different',\n",
       " 'behind',\n",
       " 'closed',\n",
       " 'doors,',\n",
       " 'i',\n",
       " 'know',\n",
       " 'this',\n",
       " 'for',\n",
       " 'a',\n",
       " 'fact.',\n",
       " 'He',\n",
       " 'is',\n",
       " 'either',\n",
       " 'an',\n",
       " 'extremely',\n",
       " 'nice',\n",
       " 'but',\n",
       " 'stupid',\n",
       " 'guy',\n",
       " 'or',\n",
       " 'one',\n",
       " 'of',\n",
       " 'the',\n",
       " 'most',\n",
       " 'sickest',\n",
       " 'liars.',\n",
       " 'I',\n",
       " 'hope',\n",
       " 'he',\n",
       " 'is',\n",
       " 'not',\n",
       " 'the',\n",
       " 'latter.']"
      ]
     },
     "execution_count": 21,
     "metadata": {},
     "output_type": "execute_result"
    }
   ],
   "source": [
    "sample_review.split()"
   ]
  },
  {
   "cell_type": "code",
   "execution_count": 22,
   "metadata": {},
   "outputs": [
    {
     "data": {
      "text/plain": [
       "433"
      ]
     },
     "execution_count": 22,
     "metadata": {},
     "output_type": "execute_result"
    }
   ],
   "source": [
    "len(sample_review.split())"
   ]
  },
  {
   "cell_type": "code",
   "execution_count": 28,
   "metadata": {},
   "outputs": [],
   "source": [
    "# let's clean it for < br/>\n",
    "sample_review = sample_review.replace(\"<br />\", \" \").replace(\"\\\\\", \"\").replace(\"\\'\", \"'\")"
   ]
  },
  {
   "cell_type": "code",
   "execution_count": 29,
   "metadata": {},
   "outputs": [
    {
     "data": {
      "text/plain": [
       "\"With all this stuff going down at the moment with MJ i've started listening to his music, watching the odd documentary here and there, watched The Wiz and watched Moonwalker again. Maybe i just want to get a certain insight into this guy who i thought was really cool in the eighties just to maybe make up my mind whether he is guilty or innocent. Moonwalker is part biography, part feature film which i remember going to see at the cinema when it was originally released. Some of it has subtle messages about MJ's feeling towards the press and also the obvious message of drugs are bad m'kay.  Visually impressive but of course this is all about Michael Jackson so unless you remotely like MJ in anyway then you are going to hate this and find it boring. Some may call MJ an egotist for consenting to the making of this movie BUT MJ and most of his fans would say that he made it for the fans which if true is really nice of him.  The actual feature film bit when it finally starts is only on for 20 minutes or so excluding the Smooth Criminal sequence and Joe Pesci is convincing as a psychopathic all powerful drug lord. Why he wants MJ dead so bad is beyond me. Because MJ overheard his plans? Nah, Joe Pesci's character ranted that he wanted people to know it is he who is supplying drugs etc so i dunno, maybe he just hates MJ's music.  Lots of cool things in this like MJ turning into a car and a robot and the whole Speed Demon sequence. Also, the director must have had the patience of a saint when it came to filming the kiddy Bad sequence as usually directors hate working with one kid let alone a whole bunch of them performing a complex dance scene.  Bottom line, this movie is for people who like MJ on one level or another (which i think is most people). If not, then stay away. It does try and give off a wholesome message and ironically MJ's bestest buddy in this movie is a girl! Michael Jackson is truly one of the most talented people ever to grace this planet but is he guilty? Well, with all the attention i've gave this subject....hmmm well i don't know because people can be different behind closed doors, i know this for a fact. He is either an extremely nice but stupid guy or one of the most sickest liars. I hope he is not the latter.\""
      ]
     },
     "execution_count": 29,
     "metadata": {},
     "output_type": "execute_result"
    }
   ],
   "source": [
    "sample_review"
   ]
  },
  {
   "cell_type": "code",
   "execution_count": 35,
   "metadata": {},
   "outputs": [
    {
     "data": {
      "text/plain": [
       "'I dont know why people think this is such a bad movie. Its got a pretty good plot, some good action, and the change of location for Harry does not hurt either. Sure some of its offensive and gratuitous but this is not the only movie like that. Eastwood is in good form as Dirty Harry, and I liked Pat Hingle in this movie as the small town cop. If you liked DIRTY HARRY, then you should see this one, its a lot better than THE DEAD POOL. 4/5'"
      ]
     },
     "execution_count": 35,
     "metadata": {},
     "output_type": "execute_result"
    }
   ],
   "source": [
    "movie_data['review'][5]"
   ]
  },
  {
   "cell_type": "code",
   "execution_count": 39,
   "metadata": {},
   "outputs": [
    {
     "data": {
      "text/plain": [
       "True"
      ]
     },
     "execution_count": 39,
     "metadata": {},
     "output_type": "execute_result"
    }
   ],
   "source": [
    "'test' in 'this was a test'"
   ]
  },
  {
   "cell_type": "code",
   "execution_count": 44,
   "metadata": {},
   "outputs": [
    {
     "data": {
      "text/plain": [
       "True"
      ]
     },
     "execution_count": 44,
     "metadata": {},
     "output_type": "execute_result"
    }
   ],
   "source": [
    "'boring' in sample_review"
   ]
  },
  {
   "cell_type": "code",
   "execution_count": 114,
   "metadata": {},
   "outputs": [
    {
     "data": {
      "text/plain": [
       "-0.42857142857142855"
      ]
     },
     "execution_count": 114,
     "metadata": {},
     "output_type": "execute_result"
    }
   ],
   "source": [
    "negative_words=[\"stupid\", \"liar\", \"guilty\", \"hate\", \n",
    "                \"boring\", \"bad\", \"not\", \"hates\", \"bad\", \n",
    "                \"terrible\", \"waste\", \"hated\", \"awful\", \"dumb\", \"idiot\",\n",
    "               \"badly\", \"mediocore\", \"ridiculous\", \"nonsense\", \"disaster\", \"monstrously\",\n",
    "               \"ill\"]\n",
    "positive_words=[\"great\", \"loved\", \"fun\", \"cute\", \"entertaining\", \"good\", \"wholesome\",\n",
    "               \"nice\", \"impressive\", \"funny\", \"classic\", \"pretty\", \"beautiful\"]\n",
    "# count the occurance of any of the posittive words iin the text:\n",
    "\n",
    "        \n",
    "        \n",
    "def getOccurrences(str, word):\n",
    "    # split the string by spaces in a\n",
    "    a = str.split(\" \")\n",
    " \n",
    "    # search for pattern in a\n",
    "    count = 0\n",
    "    for i in range(0, len(a)):\n",
    "         \n",
    "        # if match found increase count\n",
    "        if (word == a[i]):\n",
    "           count = count + 1\n",
    "            \n",
    "    return count \n",
    "\n",
    "def word_test(sample_review):\n",
    "    tot_pos=0\n",
    "    tot_neg=0\n",
    "    for word in range(0, len(negative_words)):\n",
    "        num=getOccurrences(sample_review, negative_words[word])\n",
    "        if num>0:\n",
    "            tot_neg+=num\n",
    "    for word in range(0, len(positive_words)):\n",
    "        num=getOccurrences(sample_review, positive_words[word])\n",
    "        if num>0:\n",
    "            tot_pos+=num\n",
    "    if (tot_pos+tot_neg)==0:\n",
    "        return 1.0\n",
    "    else:\n",
    "#     print(tot_pos, tot_neg)\n",
    "        return((tot_pos-tot_neg) / (tot_pos+tot_neg))\n",
    "\n",
    "word_test(sample_review)"
   ]
  },
  {
   "cell_type": "code",
   "execution_count": 115,
   "metadata": {},
   "outputs": [
    {
     "data": {
      "text/plain": [
       "pandas.core.series.Series"
      ]
     },
     "execution_count": 115,
     "metadata": {},
     "output_type": "execute_result"
    }
   ],
   "source": [
    "l=movie_data['review'].str.split(' ').str.len()\n",
    "type(l)"
   ]
  },
  {
   "cell_type": "code",
   "execution_count": 116,
   "metadata": {},
   "outputs": [
    {
     "data": {
      "text/html": [
       "<div>\n",
       "<style scoped>\n",
       "    .dataframe tbody tr th:only-of-type {\n",
       "        vertical-align: middle;\n",
       "    }\n",
       "\n",
       "    .dataframe tbody tr th {\n",
       "        vertical-align: top;\n",
       "    }\n",
       "\n",
       "    .dataframe thead th {\n",
       "        text-align: right;\n",
       "    }\n",
       "</style>\n",
       "<table border=\"1\" class=\"dataframe\">\n",
       "  <thead>\n",
       "    <tr style=\"text-align: right;\">\n",
       "      <th></th>\n",
       "      <th>0</th>\n",
       "    </tr>\n",
       "  </thead>\n",
       "  <tbody>\n",
       "    <tr>\n",
       "      <th>0</th>\n",
       "      <td>0.571429</td>\n",
       "    </tr>\n",
       "    <tr>\n",
       "      <th>1</th>\n",
       "      <td>1.600000</td>\n",
       "    </tr>\n",
       "    <tr>\n",
       "      <th>2</th>\n",
       "      <td>0.000000</td>\n",
       "    </tr>\n",
       "    <tr>\n",
       "      <th>3</th>\n",
       "      <td>0.000000</td>\n",
       "    </tr>\n",
       "    <tr>\n",
       "      <th>4</th>\n",
       "      <td>1.000000</td>\n",
       "    </tr>\n",
       "    <tr>\n",
       "      <th>...</th>\n",
       "      <td>...</td>\n",
       "    </tr>\n",
       "    <tr>\n",
       "      <th>24995</th>\n",
       "      <td>2.000000</td>\n",
       "    </tr>\n",
       "    <tr>\n",
       "      <th>24996</th>\n",
       "      <td>1.500000</td>\n",
       "    </tr>\n",
       "    <tr>\n",
       "      <th>24997</th>\n",
       "      <td>1.000000</td>\n",
       "    </tr>\n",
       "    <tr>\n",
       "      <th>24998</th>\n",
       "      <td>0.000000</td>\n",
       "    </tr>\n",
       "    <tr>\n",
       "      <th>24999</th>\n",
       "      <td>2.000000</td>\n",
       "    </tr>\n",
       "  </tbody>\n",
       "</table>\n",
       "<p>25000 rows × 1 columns</p>\n",
       "</div>"
      ],
      "text/plain": [
       "              0\n",
       "0      0.571429\n",
       "1      1.600000\n",
       "2      0.000000\n",
       "3      0.000000\n",
       "4      1.000000\n",
       "...         ...\n",
       "24995  2.000000\n",
       "24996  1.500000\n",
       "24997  1.000000\n",
       "24998  0.000000\n",
       "24999  2.000000\n",
       "\n",
       "[25000 rows x 1 columns]"
      ]
     },
     "execution_count": 116,
     "metadata": {},
     "output_type": "execute_result"
    }
   ],
   "source": [
    "# list of strings\n",
    "lst = []\n",
    "# Calling DataFrame constructor on list\n",
    "# df = pd.DataFrame(lst)\n",
    "# df\n",
    "for i in range(0, len(movie_data['review'])): \n",
    "    n= word_test(movie_data['review'][i])\n",
    "    lst.append(n+1)\n",
    "    \n",
    "#     print(\"movie_data['sent_count']\",n)\n",
    "df = pd.DataFrame(lst)\n",
    "df  \n",
    "# word_test(movie_data['review'])"
   ]
  },
  {
   "cell_type": "markdown",
   "metadata": {},
   "source": [
    "# Function for feature building and extraction on natural language data"
   ]
  },
  {
   "cell_type": "code",
   "execution_count": 111,
   "metadata": {},
   "outputs": [],
   "source": [
    "# function that takes raw data and completes all preprocessing required before model fits\n",
    "def process_raw_data(fn, my_random_seed, test=False):\n",
    "    # read and summarize data\n",
    "    movie_data = pd.read_csv(fn, sep='\\t')\n",
    "    print(\"movie_data is:\", type(movie_data))\n",
    "    print(\"movie_data has\", movie_data.shape[0], \"rows and\", movie_data.shape[1], \"columns\", \"\\n\")\n",
    "    print(\"the data types for each of the columns in movie_data:\")\n",
    "    print(movie_data.dtypes, \"\\n\")\n",
    "    print(\"the first 10 rows in movie_data:\")\n",
    "    print(movie_data.head(5))\n",
    "    if (not test):\n",
    "        print(\"The rate of 'good' movie reviews in the dataset: \")\n",
    "        print(movie_data['sentiment'].mean())\n",
    "\n",
    "    # vectorize Bag of Words from review text; as sparse matrix\n",
    "    if (not test): # fit_transform()\n",
    "        hv = HashingVectorizer(n_features=2 ** 17, alternate_sign=False)\n",
    "        X_hv = hv.fit_transform(movie_data.review)\n",
    "        fitted_transformations.append(hv)\n",
    "        print(\"Shape of HashingVectorizer X:\")\n",
    "        print(X_hv.shape)\n",
    "    else: # transform() \n",
    "        X_hv = fitted_transformations[0].transform(movie_data.review)\n",
    "        print(\"Shape of HashingVectorizer X:\")\n",
    "        print(X_hv.shape)\n",
    "    \n",
    "    # http://scikit-learn.org/stable/modules/generated/sklearn.feature_extraction.text.TfidfTransformer.html\n",
    "    if (not test):\n",
    "        transformer = TfidfTransformer()\n",
    "        X_tfidf = transformer.fit_transform(X_hv)\n",
    "        fitted_transformations.append(transformer)\n",
    "    else:\n",
    "        X_tfidf = fitted_transformations[1].transform(X_hv)\n",
    "    \n",
    "    # create additional quantitative features\n",
    "    # features from Amazon.csv to add to feature set\n",
    "    \n",
    "    #FEATURES:\n",
    "    movie_data['word_count'] = movie_data['review'].str.split(' ').str.len()\n",
    "#     movie_data['punc_count'] = movie_data['review'].str.count(\"\\.\")\n",
    "#     movie_data['sent_count']=[]\n",
    "    lst = []\n",
    "    # Calling DataFrame constructor on list\n",
    "    # df = pd.DataFrame(lst)\n",
    "    # df\n",
    "    for i in range(0, len(movie_data['review'])): \n",
    "        n= word_test(movie_data['review'][i])\n",
    "        lst.append(n+1)\n",
    "    #     print(\"movie_data['sent_count']\",n)\n",
    "    movie_data['sent_count']= pd.DataFrame(lst)\n",
    "#     df \n",
    "\n",
    "#     X_quant_features = movie_data[[\"word_count\", \"punc_count\",  'sent_count']]\n",
    "    X_quant_features = movie_data[[\"word_count\", 'sent_count']]\n",
    "    print(\"Look at a few rows of the new quantitative features: \")\n",
    "    print(X_quant_features.head(10))\n",
    "    \n",
    "    # Combine all quantitative features into a single sparse matrix\n",
    "    X_quant_features_csr = csr_matrix(X_quant_features)\n",
    "    X_combined = hstack([X_tfidf, X_quant_features_csr])\n",
    "    X_matrix = csr_matrix(X_combined) # convert to sparse matrix\n",
    "    print(\"Size of combined bag of words and new quantitative variables matrix:\")\n",
    "    print(X_matrix.shape)\n",
    "    \n",
    "    # Create `X`, scaled matrix of features\n",
    "    # feature scaling\n",
    "    if (not test):\n",
    "        sc = StandardScaler(with_mean=False)\n",
    "        X = sc.fit_transform(X_matrix)\n",
    "        fitted_transformations.append(sc)\n",
    "        print(X.shape)\n",
    "        y = movie_data['sentiment']\n",
    "    else:\n",
    "        X = fitted_transformations[2].transform(X_matrix)\n",
    "        print(X.shape)\n",
    "    \n",
    "    # Create Training and Test Sets\n",
    "    # enter an integer for the random_state parameter; any integer will work\n",
    "    if (test):\n",
    "        X_submission_test = X\n",
    "        print(\"Shape of X_test for submission:\")\n",
    "        print(X_submission_test.shape)\n",
    "        print('SUCCESS!')\n",
    "        return(movie_data, X_submission_test)\n",
    "    else: \n",
    "        X_train, X_test, y_train, y_test, X_raw_train, X_raw_test = train_test_split(X, y, movie_data, test_size=0.2, random_state=my_random_seed)\n",
    "        print(\"Shape of X_train and X_test:\")\n",
    "        print(X_train.shape)\n",
    "        print(X_test.shape)\n",
    "        print(\"Shape of y_train and y_test:\")\n",
    "        print(y_train.shape)\n",
    "        print(y_test.shape)\n",
    "        print(\"Shape of X_raw_train and X_raw_test:\")\n",
    "        print(X_raw_train.shape)\n",
    "        print(X_raw_test.shape)\n",
    "        print('SUCCESS!')\n",
    "        return(X_train, X_test, y_train, y_test, X_raw_train, X_raw_test)"
   ]
  },
  {
   "cell_type": "markdown",
   "metadata": {},
   "source": [
    "# Create training and test sets from function"
   ]
  },
  {
   "cell_type": "code",
   "execution_count": 112,
   "metadata": {},
   "outputs": [
    {
     "name": "stdout",
     "output_type": "stream",
     "text": [
      "movie_data is: <class 'pandas.core.frame.DataFrame'>\n",
      "movie_data has 25000 rows and 3 columns \n",
      "\n",
      "the data types for each of the columns in movie_data:\n",
      "id           object\n",
      "sentiment     int64\n",
      "review       object\n",
      "dtype: object \n",
      "\n",
      "the first 10 rows in movie_data:\n",
      "       id  sentiment                                             review\n",
      "0  5814_8          1  With all this stuff going down at the moment w...\n",
      "1  2381_9          1  \\The Classic War of the Worlds\\\" by Timothy Hi...\n",
      "2  7759_3          0  The film starts with a manager (Nicholas Bell)...\n",
      "3  3630_4          0  It must be assumed that those who praised this...\n",
      "4  9495_8          1  Superbly trashy and wondrously unpretentious 8...\n",
      "The rate of 'good' movie reviews in the dataset: \n",
      "0.5\n",
      "Shape of HashingVectorizer X:\n",
      "(25000, 131072)\n",
      "Look at a few rows of the new quantitative features: \n",
      "   word_count  sent_count\n",
      "0         433    0.571429\n",
      "1         158    1.600000\n",
      "2         378    0.000000\n",
      "3         379    0.000000\n",
      "4         367    1.000000\n",
      "5          89    1.000000\n",
      "6         112    0.000000\n",
      "7         132    0.000000\n",
      "8         163    1.000000\n",
      "9          43    1.000000\n",
      "Size of combined bag of words and new quantitative variables matrix:\n",
      "(25000, 131074)\n",
      "(25000, 131074)\n",
      "Shape of X_train and X_test:\n",
      "(20000, 131074)\n",
      "(5000, 131074)\n",
      "Shape of y_train and y_test:\n",
      "(20000,)\n",
      "(5000,)\n",
      "Shape of X_raw_train and X_raw_test:\n",
      "(20000, 5)\n",
      "(5000, 5)\n",
      "SUCCESS!\n",
      "Number of fits stored in `fitted_transformations` list: \n",
      "3\n"
     ]
    }
   ],
   "source": [
    "# create an empty list to store any use of fit_transform() to transform() later\n",
    "# it is a global list to store model and feature extraction fits\n",
    "fitted_transformations = []\n",
    "\n",
    "# CHANGE FILE PATH and my_random_seed number (any integer other than 74 will do): \n",
    "X_train, X_test, y_train, y_test, X_raw_train, X_raw_test = process_raw_data(fn='../week04/final_data/moviereviews_train.tsv', my_random_seed=74)\n",
    "\n",
    "print(\"Number of fits stored in `fitted_transformations` list: \")\n",
    "print(len(fitted_transformations))"
   ]
  },
  {
   "cell_type": "code",
   "execution_count": 113,
   "metadata": {},
   "outputs": [
    {
     "name": "stdout",
     "output_type": "stream",
     "text": [
      "  (0, 1595)\t19.763338341424575\n",
      "  (0, 1786)\t25.518105503367355\n",
      "  (0, 4412)\t4.5794880691760484\n",
      "  (0, 8564)\t1.2782559780665708\n",
      "  (0, 13294)\t154.92272391038324\n",
      "  (0, 13677)\t0.6349093904227626\n",
      "  (0, 15860)\t4.657509877485911\n",
      "  (0, 20378)\t4.743304840658256\n",
      "  (0, 24734)\t2.6512647577129154\n",
      "  (0, 25246)\t12.799365661906835\n",
      "  (0, 28331)\t1.7134238552579635\n",
      "  (0, 31028)\t2.8230648691907927\n",
      "  (0, 31622)\t9.483268592868663\n",
      "  (0, 32253)\t3.224875421155861\n",
      "  (0, 34278)\t19.615848858270766\n",
      "  (0, 37777)\t1.4945210406243707\n",
      "  (0, 38851)\t8.071036362504625\n",
      "  (0, 38990)\t1.5107090199206104\n",
      "  (0, 39480)\t3.627010710953719\n",
      "  (0, 43099)\t2.4835132475673753\n",
      "  (0, 43902)\t1.4745069343835042\n",
      "  (0, 45581)\t4.467626782299751\n",
      "  (0, 49453)\t1.7203672715874432\n",
      "  (0, 51110)\t53.02056973611625\n",
      "  (0, 55847)\t11.679937689184646\n",
      "  :\t:\n",
      "  (19999, 94639)\t1.5616914302247829\n",
      "  (19999, 96143)\t11.076422982872923\n",
      "  (19999, 96784)\t4.374479051206937\n",
      "  (19999, 97317)\t2.502888237852477\n",
      "  (19999, 99537)\t3.8744056382235406\n",
      "  (19999, 104082)\t8.36427467326549\n",
      "  (19999, 104611)\t5.537409695452996\n",
      "  (19999, 104938)\t7.1602218522588945\n",
      "  (19999, 105654)\t17.290002015500917\n",
      "  (19999, 108195)\t7.517674859522448\n",
      "  (19999, 108328)\t9.25595812848686\n",
      "  (19999, 110145)\t5.040847282343857\n",
      "  (19999, 110558)\t1.165597449736197\n",
      "  (19999, 113612)\t14.030888596049635\n",
      "  (19999, 116407)\t13.161836216874715\n",
      "  (19999, 117403)\t10.086483197621986\n",
      "  (19999, 119465)\t1.7347764484905515\n",
      "  (19999, 122043)\t7.4999588366099905\n",
      "  (19999, 123512)\t9.078644417270999\n",
      "  (19999, 125336)\t3.472159975978817\n",
      "  (19999, 128014)\t29.177889492055904\n",
      "  (19999, 128991)\t4.847562738426355\n",
      "  (19999, 129594)\t34.780370031549076\n",
      "  (19999, 131072)\t0.6446326241598449\n",
      "  (19999, 131073)\t2.908907213987735\n"
     ]
    }
   ],
   "source": [
    "print(X_train)"
   ]
  },
  {
   "cell_type": "raw",
   "metadata": {},
   "source": []
  },
  {
   "cell_type": "markdown",
   "metadata": {},
   "source": [
    "# Fit (and tune) Various Models"
   ]
  },
  {
   "cell_type": "markdown",
   "metadata": {},
   "source": [
    "### MODEL: ordinary least squares"
   ]
  },
  {
   "cell_type": "code",
   "execution_count": 92,
   "metadata": {},
   "outputs": [
    {
     "name": "stdout",
     "output_type": "stream",
     "text": [
      "{'Pos': 10033, 'Neg': 9967, 'TP': 4567, 'TN': 5372, 'FP': 4595, 'FN': 5466, 'Accuracy': 0.49695, 'Precision': 0.4984719493560358, 'Recall': 0.45519784710455496, 'desc': 'ols_train'}\n"
     ]
    }
   ],
   "source": [
    "from sklearn import linear_model\n",
    "ols = linear_model.SGDClassifier(loss=\"squared_loss\")\n",
    "ols.fit(X_train, y_train)\n",
    "\n",
    "ols_performance_train = BinaryClassificationPerformance(ols.predict(X_train), y_train, 'ols_train')\n",
    "ols_performance_train.compute_measures()\n",
    "print(ols_performance_train.performance_measures)"
   ]
  },
  {
   "cell_type": "code",
   "execution_count": null,
   "metadata": {},
   "outputs": [],
   "source": []
  },
  {
   "cell_type": "markdown",
   "metadata": {},
   "source": [
    "### MODEL: SVM, linear"
   ]
  },
  {
   "cell_type": "code",
   "execution_count": 93,
   "metadata": {},
   "outputs": [
    {
     "name": "stdout",
     "output_type": "stream",
     "text": [
      "{'Pos': 10033, 'Neg': 9967, 'TP': 10033, 'TN': 9966, 'FP': 1, 'FN': 0, 'Accuracy': 0.99995, 'Precision': 0.9999003388479171, 'Recall': 1.0, 'desc': 'svm_train'}\n"
     ]
    }
   ],
   "source": [
    "from sklearn import linear_model\n",
    "svm = linear_model.SGDClassifier()\n",
    "svm.fit(X_train, y_train)\n",
    "\n",
    "svm_performance_train = BinaryClassificationPerformance(svm.predict(X_train), y_train, 'svm_train')\n",
    "svm_performance_train.compute_measures()\n",
    "print(svm_performance_train.performance_measures)"
   ]
  },
  {
   "cell_type": "markdown",
   "metadata": {},
   "source": [
    "### MODEL: logistic regression"
   ]
  },
  {
   "cell_type": "code",
   "execution_count": 94,
   "metadata": {},
   "outputs": [
    {
     "name": "stdout",
     "output_type": "stream",
     "text": [
      "{'Pos': 10033, 'Neg': 9967, 'TP': 10033, 'TN': 9967, 'FP': 0, 'FN': 0, 'Accuracy': 1.0, 'Precision': 1.0, 'Recall': 1.0, 'desc': 'lgs_train'}\n"
     ]
    }
   ],
   "source": [
    "from sklearn import linear_model\n",
    "lgs = linear_model.SGDClassifier(loss='log')\n",
    "lgs.fit(X_train, y_train)\n",
    "\n",
    "lgs_performance_train = BinaryClassificationPerformance(lgs.predict(X_train), y_train, 'lgs_train')\n",
    "lgs_performance_train.compute_measures()\n",
    "print(lgs_performance_train.performance_measures)"
   ]
  },
  {
   "cell_type": "markdown",
   "metadata": {},
   "source": [
    "### MODEL: Naive Bayes"
   ]
  },
  {
   "cell_type": "code",
   "execution_count": 95,
   "metadata": {},
   "outputs": [
    {
     "ename": "ValueError",
     "evalue": "Negative values in data passed to MultinomialNB (input X)",
     "output_type": "error",
     "traceback": [
      "\u001b[0;31m---------------------------------------------------------------------------\u001b[0m",
      "\u001b[0;31mValueError\u001b[0m                                Traceback (most recent call last)",
      "\u001b[0;32m<ipython-input-95-0d47685ebaf1>\u001b[0m in \u001b[0;36m<module>\u001b[0;34m\u001b[0m\n\u001b[1;32m      1\u001b[0m \u001b[0;32mfrom\u001b[0m \u001b[0msklearn\u001b[0m\u001b[0;34m.\u001b[0m\u001b[0mnaive_bayes\u001b[0m \u001b[0;32mimport\u001b[0m \u001b[0mMultinomialNB\u001b[0m\u001b[0;34m\u001b[0m\u001b[0;34m\u001b[0m\u001b[0m\n\u001b[1;32m      2\u001b[0m \u001b[0mnbs\u001b[0m \u001b[0;34m=\u001b[0m \u001b[0mMultinomialNB\u001b[0m\u001b[0;34m(\u001b[0m\u001b[0;34m)\u001b[0m\u001b[0;34m\u001b[0m\u001b[0;34m\u001b[0m\u001b[0m\n\u001b[0;32m----> 3\u001b[0;31m \u001b[0mnbs\u001b[0m\u001b[0;34m.\u001b[0m\u001b[0mfit\u001b[0m\u001b[0;34m(\u001b[0m\u001b[0mX_train\u001b[0m\u001b[0;34m,\u001b[0m \u001b[0my_train\u001b[0m\u001b[0;34m)\u001b[0m\u001b[0;34m\u001b[0m\u001b[0;34m\u001b[0m\u001b[0m\n\u001b[0m\u001b[1;32m      4\u001b[0m \u001b[0;34m\u001b[0m\u001b[0m\n\u001b[1;32m      5\u001b[0m \u001b[0mnbs_performance_train\u001b[0m \u001b[0;34m=\u001b[0m \u001b[0mBinaryClassificationPerformance\u001b[0m\u001b[0;34m(\u001b[0m\u001b[0mnbs\u001b[0m\u001b[0;34m.\u001b[0m\u001b[0mpredict\u001b[0m\u001b[0;34m(\u001b[0m\u001b[0mX_train\u001b[0m\u001b[0;34m)\u001b[0m\u001b[0;34m,\u001b[0m \u001b[0my_train\u001b[0m\u001b[0;34m,\u001b[0m \u001b[0;34m'nbs_train'\u001b[0m\u001b[0;34m)\u001b[0m\u001b[0;34m\u001b[0m\u001b[0;34m\u001b[0m\u001b[0m\n",
      "\u001b[0;32m~/opt/anaconda3/lib/python3.8/site-packages/sklearn/naive_bayes.py\u001b[0m in \u001b[0;36mfit\u001b[0;34m(self, X, y, sample_weight)\u001b[0m\n\u001b[1;32m    639\u001b[0m \u001b[0;34m\u001b[0m\u001b[0m\n\u001b[1;32m    640\u001b[0m         \u001b[0mself\u001b[0m\u001b[0;34m.\u001b[0m\u001b[0m_init_counters\u001b[0m\u001b[0;34m(\u001b[0m\u001b[0mn_effective_classes\u001b[0m\u001b[0;34m,\u001b[0m \u001b[0mn_features\u001b[0m\u001b[0;34m)\u001b[0m\u001b[0;34m\u001b[0m\u001b[0;34m\u001b[0m\u001b[0m\n\u001b[0;32m--> 641\u001b[0;31m         \u001b[0mself\u001b[0m\u001b[0;34m.\u001b[0m\u001b[0m_count\u001b[0m\u001b[0;34m(\u001b[0m\u001b[0mX\u001b[0m\u001b[0;34m,\u001b[0m \u001b[0mY\u001b[0m\u001b[0;34m)\u001b[0m\u001b[0;34m\u001b[0m\u001b[0;34m\u001b[0m\u001b[0m\n\u001b[0m\u001b[1;32m    642\u001b[0m         \u001b[0malpha\u001b[0m \u001b[0;34m=\u001b[0m \u001b[0mself\u001b[0m\u001b[0;34m.\u001b[0m\u001b[0m_check_alpha\u001b[0m\u001b[0;34m(\u001b[0m\u001b[0;34m)\u001b[0m\u001b[0;34m\u001b[0m\u001b[0;34m\u001b[0m\u001b[0m\n\u001b[1;32m    643\u001b[0m         \u001b[0mself\u001b[0m\u001b[0;34m.\u001b[0m\u001b[0m_update_feature_log_prob\u001b[0m\u001b[0;34m(\u001b[0m\u001b[0malpha\u001b[0m\u001b[0;34m)\u001b[0m\u001b[0;34m\u001b[0m\u001b[0;34m\u001b[0m\u001b[0m\n",
      "\u001b[0;32m~/opt/anaconda3/lib/python3.8/site-packages/sklearn/naive_bayes.py\u001b[0m in \u001b[0;36m_count\u001b[0;34m(self, X, Y)\u001b[0m\n\u001b[1;32m    761\u001b[0m     \u001b[0;32mdef\u001b[0m \u001b[0m_count\u001b[0m\u001b[0;34m(\u001b[0m\u001b[0mself\u001b[0m\u001b[0;34m,\u001b[0m \u001b[0mX\u001b[0m\u001b[0;34m,\u001b[0m \u001b[0mY\u001b[0m\u001b[0;34m)\u001b[0m\u001b[0;34m:\u001b[0m\u001b[0;34m\u001b[0m\u001b[0;34m\u001b[0m\u001b[0m\n\u001b[1;32m    762\u001b[0m         \u001b[0;34m\"\"\"Count and smooth feature occurrences.\"\"\"\u001b[0m\u001b[0;34m\u001b[0m\u001b[0;34m\u001b[0m\u001b[0m\n\u001b[0;32m--> 763\u001b[0;31m         \u001b[0mcheck_non_negative\u001b[0m\u001b[0;34m(\u001b[0m\u001b[0mX\u001b[0m\u001b[0;34m,\u001b[0m \u001b[0;34m\"MultinomialNB (input X)\"\u001b[0m\u001b[0;34m)\u001b[0m\u001b[0;34m\u001b[0m\u001b[0;34m\u001b[0m\u001b[0m\n\u001b[0m\u001b[1;32m    764\u001b[0m         \u001b[0mself\u001b[0m\u001b[0;34m.\u001b[0m\u001b[0mfeature_count_\u001b[0m \u001b[0;34m+=\u001b[0m \u001b[0msafe_sparse_dot\u001b[0m\u001b[0;34m(\u001b[0m\u001b[0mY\u001b[0m\u001b[0;34m.\u001b[0m\u001b[0mT\u001b[0m\u001b[0;34m,\u001b[0m \u001b[0mX\u001b[0m\u001b[0;34m)\u001b[0m\u001b[0;34m\u001b[0m\u001b[0;34m\u001b[0m\u001b[0m\n\u001b[1;32m    765\u001b[0m         \u001b[0mself\u001b[0m\u001b[0;34m.\u001b[0m\u001b[0mclass_count_\u001b[0m \u001b[0;34m+=\u001b[0m \u001b[0mY\u001b[0m\u001b[0;34m.\u001b[0m\u001b[0msum\u001b[0m\u001b[0;34m(\u001b[0m\u001b[0maxis\u001b[0m\u001b[0;34m=\u001b[0m\u001b[0;36m0\u001b[0m\u001b[0;34m)\u001b[0m\u001b[0;34m\u001b[0m\u001b[0;34m\u001b[0m\u001b[0m\n",
      "\u001b[0;32m~/opt/anaconda3/lib/python3.8/site-packages/sklearn/utils/validation.py\u001b[0m in \u001b[0;36mcheck_non_negative\u001b[0;34m(X, whom)\u001b[0m\n\u001b[1;32m   1045\u001b[0m \u001b[0;34m\u001b[0m\u001b[0m\n\u001b[1;32m   1046\u001b[0m     \u001b[0;32mif\u001b[0m \u001b[0mX_min\u001b[0m \u001b[0;34m<\u001b[0m \u001b[0;36m0\u001b[0m\u001b[0;34m:\u001b[0m\u001b[0;34m\u001b[0m\u001b[0;34m\u001b[0m\u001b[0m\n\u001b[0;32m-> 1047\u001b[0;31m         \u001b[0;32mraise\u001b[0m \u001b[0mValueError\u001b[0m\u001b[0;34m(\u001b[0m\u001b[0;34m\"Negative values in data passed to %s\"\u001b[0m \u001b[0;34m%\u001b[0m \u001b[0mwhom\u001b[0m\u001b[0;34m)\u001b[0m\u001b[0;34m\u001b[0m\u001b[0;34m\u001b[0m\u001b[0m\n\u001b[0m\u001b[1;32m   1048\u001b[0m \u001b[0;34m\u001b[0m\u001b[0m\n\u001b[1;32m   1049\u001b[0m \u001b[0;34m\u001b[0m\u001b[0m\n",
      "\u001b[0;31mValueError\u001b[0m: Negative values in data passed to MultinomialNB (input X)"
     ]
    }
   ],
   "source": [
    "from sklearn.naive_bayes import MultinomialNB\n",
    "nbs = MultinomialNB()\n",
    "nbs.fit(X_train, y_train)\n",
    "\n",
    "nbs_performance_train = BinaryClassificationPerformance(nbs.predict(X_train), y_train, 'nbs_train')\n",
    "nbs_performance_train.compute_measures()\n",
    "print(nbs_performance_train.performance_measures)"
   ]
  },
  {
   "cell_type": "markdown",
   "metadata": {},
   "source": [
    "### MODEL: Perceptron"
   ]
  },
  {
   "cell_type": "code",
   "execution_count": 96,
   "metadata": {},
   "outputs": [
    {
     "name": "stdout",
     "output_type": "stream",
     "text": [
      "{'Pos': 10033, 'Neg': 9967, 'TP': 10033, 'TN': 9967, 'FP': 0, 'FN': 0, 'Accuracy': 1.0, 'Precision': 1.0, 'Recall': 1.0, 'desc': 'prc_train'}\n"
     ]
    }
   ],
   "source": [
    "from sklearn import linear_model\n",
    "prc = linear_model.SGDClassifier(loss='perceptron')\n",
    "prc.fit(X_train, y_train)\n",
    "\n",
    "prc_performance_train = BinaryClassificationPerformance(prc.predict(X_train), y_train, 'prc_train')\n",
    "prc_performance_train.compute_measures()\n",
    "print(prc_performance_train.performance_measures)"
   ]
  },
  {
   "cell_type": "markdown",
   "metadata": {},
   "source": [
    "### MODEL: Ridge Regression Classifier"
   ]
  },
  {
   "cell_type": "code",
   "execution_count": 97,
   "metadata": {},
   "outputs": [
    {
     "name": "stdout",
     "output_type": "stream",
     "text": [
      "{'Pos': 10033, 'Neg': 9967, 'TP': 10033, 'TN': 9967, 'FP': 0, 'FN': 0, 'Accuracy': 1.0, 'Precision': 1.0, 'Recall': 1.0, 'desc': 'rdg_train'}\n"
     ]
    }
   ],
   "source": [
    "from sklearn import linear_model\n",
    "rdg = linear_model.RidgeClassifier()\n",
    "rdg.fit(X_train, y_train)\n",
    "\n",
    "rdg_performance_train = BinaryClassificationPerformance(rdg.predict(X_train), y_train, 'rdg_train')\n",
    "rdg_performance_train.compute_measures()\n",
    "print(rdg_performance_train.performance_measures)"
   ]
  },
  {
   "cell_type": "markdown",
   "metadata": {},
   "source": [
    "### MODEL: Random Forest Classifier"
   ]
  },
  {
   "cell_type": "code",
   "execution_count": 98,
   "metadata": {},
   "outputs": [
    {
     "name": "stdout",
     "output_type": "stream",
     "text": [
      "{'Pos': 10033, 'Neg': 9967, 'TP': 8847, 'TN': 6588, 'FP': 3379, 'FN': 1186, 'Accuracy': 0.77175, 'Precision': 0.7236217896286602, 'Recall': 0.8817900926941095, 'desc': 'rdf_train'}\n"
     ]
    }
   ],
   "source": [
    "from sklearn.ensemble import RandomForestClassifier\n",
    "rdf = RandomForestClassifier(max_depth=2, random_state=0)\n",
    "rdf.fit(X_train, y_train)\n",
    "\n",
    "rdf_performance_train = BinaryClassificationPerformance(rdf.predict(X_train), y_train, 'rdf_train')\n",
    "rdf_performance_train.compute_measures()\n",
    "print(rdf_performance_train.performance_measures)"
   ]
  },
  {
   "cell_type": "markdown",
   "metadata": {},
   "source": [
    "### ROC plot to compare performance of various models and fits"
   ]
  },
  {
   "cell_type": "code",
   "execution_count": 99,
   "metadata": {
    "scrolled": false
   },
   "outputs": [
    {
     "ename": "NameError",
     "evalue": "name 'nbs_performance_train' is not defined",
     "output_type": "error",
     "traceback": [
      "\u001b[0;31m---------------------------------------------------------------------------\u001b[0m",
      "\u001b[0;31mNameError\u001b[0m                                 Traceback (most recent call last)",
      "\u001b[0;32m<ipython-input-99-49706aace984>\u001b[0m in \u001b[0;36m<module>\u001b[0;34m\u001b[0m\n\u001b[0;32m----> 1\u001b[0;31m \u001b[0mfits\u001b[0m \u001b[0;34m=\u001b[0m \u001b[0;34m[\u001b[0m\u001b[0mols_performance_train\u001b[0m\u001b[0;34m,\u001b[0m \u001b[0msvm_performance_train\u001b[0m\u001b[0;34m,\u001b[0m \u001b[0mlgs_performance_train\u001b[0m\u001b[0;34m,\u001b[0m \u001b[0mnbs_performance_train\u001b[0m\u001b[0;34m,\u001b[0m \u001b[0mprc_performance_train\u001b[0m\u001b[0;34m,\u001b[0m \u001b[0mrdg_performance_train\u001b[0m\u001b[0;34m,\u001b[0m \u001b[0mrdf_performance_train\u001b[0m\u001b[0;34m]\u001b[0m\u001b[0;34m\u001b[0m\u001b[0;34m\u001b[0m\u001b[0m\n\u001b[0m\u001b[1;32m      2\u001b[0m \u001b[0;34m\u001b[0m\u001b[0m\n\u001b[1;32m      3\u001b[0m \u001b[0;32mfor\u001b[0m \u001b[0mfit\u001b[0m \u001b[0;32min\u001b[0m \u001b[0mfits\u001b[0m\u001b[0;34m:\u001b[0m\u001b[0;34m\u001b[0m\u001b[0;34m\u001b[0m\u001b[0m\n\u001b[1;32m      4\u001b[0m     plt.plot(fit.performance_measures['FP'] / fit.performance_measures['Neg'], \n\u001b[1;32m      5\u001b[0m              fit.performance_measures['TP'] / fit.performance_measures['Pos'], 'bo')\n",
      "\u001b[0;31mNameError\u001b[0m: name 'nbs_performance_train' is not defined"
     ]
    }
   ],
   "source": [
    "fits = [ols_performance_train, svm_performance_train, lgs_performance_train, nbs_performance_train, prc_performance_train, rdg_performance_train, rdf_performance_train]\n",
    "\n",
    "for fit in fits:\n",
    "    plt.plot(fit.performance_measures['FP'] / fit.performance_measures['Neg'], \n",
    "             fit.performance_measures['TP'] / fit.performance_measures['Pos'], 'bo')\n",
    "    plt.text(fit.performance_measures['FP'] / fit.performance_measures['Neg'], \n",
    "             fit.performance_measures['TP'] / fit.performance_measures['Pos'], fit.desc)\n",
    "plt.axis([0, 1, 0, 1])\n",
    "plt.title('ROC plot: test set')\n",
    "plt.xlabel('False positive rate')\n",
    "plt.ylabel('True positive rate')\n",
    "plt.show()"
   ]
  },
  {
   "cell_type": "markdown",
   "metadata": {},
   "source": [
    "### looking at reviews based on their classification\n",
    "\n",
    "Let's say we decide that Ordinary Least Squares (OLS) Regression is the best model for generalization. Let's take a look at some of the reviews and try to make a (subjective) determination of whether it's generalizing well. "
   ]
  },
  {
   "cell_type": "code",
   "execution_count": 100,
   "metadata": {},
   "outputs": [],
   "source": [
    "ols_predictions = ols.predict(X_train)"
   ]
  },
  {
   "cell_type": "markdown",
   "metadata": {},
   "source": [
    "### let's look at some false positives:"
   ]
  },
  {
   "cell_type": "code",
   "execution_count": 101,
   "metadata": {},
   "outputs": [
    {
     "name": "stdout",
     "output_type": "stream",
     "text": [
      "Examples of false positives:\n",
      "10\n",
      "FAIL. I'd love to give this crap a 0. Yes, I registered just to rate this garbage. I want to go back in time and cut my wrist. Heres some copy and paste to take up 10 lines. FAIL. I'd love to give this crap a 0. Yes, I registered just to rate this garbage. I want to go back in time and cut my wrist. Heres some copy and paste to take up 10 lines. FAIL. I'd love to give this crap a 0. Yes, I registered just to rate this garbage. I want to go back in time and cut my wrist. Heres some copy and paste to take up 10 lines. FAIL. I'd love to give this crap a 0. Yes, I registered just to rate this garbage. I want to go back in time and cut my wrist. Heres some copy and paste to take up 10 lines. FAIL. I'd love to give this crap a 0. Yes, I registered just to rate this garbage. I want to go back in time and cut my wrist. Heres some copy and paste to take up 10 lines.\n",
      "* * * * * * * * * \n",
      "30\n",
      "OK, I love bad horror. I especially love horror bad enough to make fun of. Demonicus, or House of the Dead - those were bad enough to make fun of. Severed was not.<br /><br />It was worse.<br /><br />(spoilers - who cares?)<br /><br />My friend and I sat through the entire film, and I have a number of comments, both in the \\this sucks\\\" style and in the realm of actual critiques.<br /><br />Plot (sort of) - There's a guy in this city (which is possibly Seattle, see comment below) who is running around and cutting off heads. He's been doing this for over a year (I'm not going back to get exact numbers - thank you VERY much), possibly two or three years. One head a week. And the police are JUST NOW calling in a \\\"specialist\\\" (who ONCE refers to himself as a psychic, but that never comes up again).<br /><br />Schya right! Feds take over after, what, THREE connected homicides? After NEARLY A HUNDRED SIMILAR KILLINGS we'd be under freaking martial law!!!!!<br /><br />Anyway, this \\\"specialist\\\" consults the voodoo chick who the police have been ignoring the entire time, and the two of them come to the conclusion that it's Baron Samedi, a voodoo spirit, who is cutting off heads to gain enough power to make himself a body (and then presumably take over the world - or possibly just go to Disneyland).<br /><br />Um.<br /><br />Setting - where IS this happening? Well, if you're not from Seattle, you might not realize that at the bar/rave (occupied by about ten of the movie staff and their family members), there's a poster for a local radio station, and that in the highly-entertaining, \\\"Pulp Fiction\\\"esqe dialog (as IF) between the two cops (yes, the ones who get their heads cut off about 15 minutes into the flick) they discuss \\\"the new stadium\\\" which may still have been an issue when this movie was made.<br /><br />Being from Seattle, I apologize on the movie's behalf and hang my head in shame.<br /><br />OK, here's where it gets really critical - being a horror movie writer (not published, don't go looking for my name in the IMDb), I do research. Lots of research. And unlike the writers of this movie, I know that Baron Samedi - while a Voudon Loa (spirit) who guards the graveyards and has traditionally been associated (by various Christian oppressors) with \\\"Satan\\\" - is actually a \\\"Loki\\\"-like trickster god. <br /><br />In other words, he doesn't cut off heads.<br /><br />Besides, a major part of the Voudoun religion is that Baron Samedi can have a body whenever he wants. Their religious ceremonies center around the possession of various members of the congregation by the loa.<br /><br />Not to mention, if he's already possessed someone, why make a NEW body?<br /><br />Also, if Baron Samedi GOT a body, he wouldn't go around cutting off heads, he'd get some good rum and cigars and par-TAY!!!<br /><br />In summary, the only thing they did get (surprisingly) right is that in the completely unnecessary Tarot card reading (used only to show that the voodoo chick is \\\"spooky\\\") they didn't screw up the interpretations of the cards the way most movies do. Again, I've done research. (Anyone remember the old late-night ad for phone-in tarot readings - \\\"The lovers - you will soon fall madly in love...\\\" and all that nonsense?)<br /><br />If you made it this far through my comments, I congratulate you. And I'm sorry again. I'll be more sorry if you feel the need to watch the film on account of me, so please don't.\"\n",
      "* * * * * * * * * \n",
      "156\n",
      "This movie was strange... I watched it while ingesting a quarter of psilcybe cubensis (mushrooms). It was really weird. Im pretty sure you are supposed to watch it high, but mushrooms weren't enough. I couldn't stop laughing.. maybe lsd would work. The movie is a bunch of things morphing into other things, and dancing. Its really cheesy for todays standards but when it was released im sure it was well... one of a kind. I could see how some people would think this movie was good, but I didn't think it was very interesting, and I was on mushrooms at the time. If your having a party or something and everybodys pretty lit, pop it on you'll get a few laughs.\n",
      "* * * * * * * * * \n",
      "347\n",
      "The best that I can say about this film is that it was mildly amusing at times, and that it was an adequate time killer. Unfortunately, this film is also so annoying that I wanted to slap these characters around. This is the kind of film that is so sweet, it hurts your teeth. The intentions were good, I suppose, but things get awfully tiresome when the dialogue is SO nauseating. When the two leads aren't together on-screen, this really isn't bad at all, but be afraid during those frequent moments when the loving couple starts talking to one another.\n",
      "* * * * * * * * * \n",
      "364\n",
      "This is, ostensibly, a movie about multiple grief. As such, it ought to move viewers and make them empathetic with the plight of the main characters. However, its irritatingly postmodern style makes it almost incomprehensible. The camera continually switches from one scene to another, from one personal crisis to the next, creating a choppy, disjointed effect. Most characters appear to live aimless, unstructured lives, held together by their professional commitments. (It also stretches credibility that a man who has just been given what amounts to a likely death sentence, would cheerfully indulge in a sex romp with a woman he has just met). The storyline (if there is a storyline) is difficult to follow. In sum, the overall effect is rather disappointing. In spite of all that, the acting is generally good and some of the scenes are quite powerful.\n",
      "* * * * * * * * * \n",
      "388\n",
      "Probably somebody heard of Alberto Tomba. A former policeman, a former sky champion, and, now, a TERRIBLE actor. \\Alex L'Ariete\\\" was planned to be a TV \\\"mini serial\\\", but the Italian television itself refused to show the movie on its channels. Now it's a, believe me, ridiculous movie. The script it's simply hilarious (it's supposed to be a dramatic movie), something like a 5 years old kid work. But what really blows you away it's the amateurish acting: Alberto Tomba, who actually was not believable as a policeman himself, plays terribly a totally silly character: a special operations italian policeman specialized in smashing doors open! (\\\"ariete\\\" is \\\"ram\\\"). This super-guy will try to save a young nice girl life (an actual italian \\\"little\\\" TV showgirl, married to the singer Eros Ramazzotti): nice but absolutely inept in the acting. Lose this one and make yourself a favour. A movie that is a shame to Italian cinema industry: only John Travolta in Earth Attack got close..\"\n",
      "* * * * * * * * * \n",
      "421\n",
      "Band Camp was awful, The Naked Mile was a little better, and this third straight to DVD in the American Pie franchise seems the same quality as the predecessor. Basically Erik Stifler (John White) split from his girlfriend after losing his virginity, and now him and Mike 'Cooze' Coozeman (Jake Siegel) are joining Erik's cousin Dwight (Steve Talley) at college. With the promise of many parties, plenty of booze, and enough hot chicks at the Beta House, they only have fifty listed tasks to carry out to become official privileged members. But a threat comes into sight with the rivals, GEK (\\Geek\\\") House, led by power-hungry nerd (and sheep shagger) Edgar (Tyrone Savage) offering bigger and better than what Beta have. To settle it once and for all, Beta and Gek go into battle with the banned, for forty years, Greek Games to beat each other in, with the loser moving out. The last champion of the games, Noah Levenstein aka Jim's Dad (the only regular Eugene Levy) runs the show, which sees the people unhooking bras, a gladiator duel floating on water, catching a greased pig, Russian Roulette in the mouth with cartridges of aged horse spunk, wife carrying and drinking a full keg of alcohol (with puking not disqualifying). It all comes to the sudden death, with a guy getting stripper lap dancing, and they have to resist cumming, Beta House win when Edgar cums with a girl dressed as a sheep on his lap. Also starring Flubber's Christopher McDonald as Mr. Stifler, Meghan Heffern as Ashley, Dan Petronijevic as Bull, Nic Nac as Bobby, Christine Barger as Margie, Italia Ricci as Laura Johnson, Moshana Halbert as Sara Coleman, Sarah Power as Denise, Andreja Punkris as Stacy and Jordan Prentice as Rock. The nudity amount is very slightly increased, as is the grossness of the jokes, and I could guess it being rated one star out of five, but I like it. Adequate!\"\n",
      "* * * * * * * * * \n",
      "474\n",
      "This film had a lot of promise, and the plot was relatively interesting, however the actors, director and editors seriously let this film down.<br /><br />I feel bad for the writers, it could have been good. The acting is wooden, very few of the characters are believable.<br /><br />Who ever edited this clearly just learnt some new edit techniques and wanted to splash them all over the film. There are lots of quick 'flashy' edits in almost every scene, which are clearly meant to be symbolic but just end up as annoying.<br /><br />I wanted to like this film and expected there to be a decent resolution to the breakdown of equilibrium but alas no, it left me feeling like I'd wasted my time and the film makers had wasted their money.\n",
      "* * * * * * * * * \n",
      "534\n",
      "Yep, lots of shouting, screaming, cheering, arguing, celebrating, fist clinching, high fiving & fighting. You have a general idea as to why, but can never be 100% certain. A naval knowledge would be an advantage for the finer points, but then you'd probably spot the many flaws. Not an awful film & Hackman & Washington are their usual brilliant, but the plot was one you could peg pretty early on. I'm still waiting to see a submarine film where people get on with each other & don't argue, but then you probably wouldn't have a film.<br /><br />4/10\n",
      "* * * * * * * * * \n",
      "614\n",
      "Must have to agree with the other reviewer. This has got to be the WORST movie, let alone western I have ever seen. Terrible acting, dialogue that was unimaginative and pathetic (let alone completely inappropriate for supposedly being in the 1800s), and oh, did I mention a battery pack prominently displayed on the back of one of the characters? I was waiting for the boom mike to fall in the middle of a scene. And the ending? The least I can say is that it was consistent with the rest of the movie...completely awful. And yes, it did contain every cliché in the book from the slow walk down the empty dusty road to the laughable \\let's remember when\\\" shots when a main character dies. Luckily I saw this on free TV. Don't waste your time.\"\n",
      "* * * * * * * * * \n",
      "968\n",
      "Maddy (Debbie Rochon) is a mentally unstable young woman with a troubled past who gets more than she bargained for when she goes to a pool party with a handsome coworker. When her date and his friends jokingly say they belong to a `Murder Club,' Maddy takes it seriously and moves straight up to `Level 3' by bashing in the brains of a woman in a parking garage (for denting her car!). But is Maddy also the one donning a plastic mask and killing off other members of the group or has someone else lost it?<br /><br />The plot of this film (originally titled MAKE 'EM BLEED) is very poorly conceived, full of holes and spirals completely out of control before a ludicrous, out-of-left-field twist ending. Some of the dialogue is downright laughable. I didn't have a problem with Rochon's performance, but the supporting cast was atrocious. However, I managed to sit through this Full Moon release thoroughly entertained. There's plenty of skin and blood and it's the perfect type of flick to sit around with a group of your buddies and pick apart. Horror fans may also enjoy the cameos from Brinke Stevens and Lloyd Kaufman (as Debbie's parents) and Julie Strain (an early victim).<br /><br />Score: 4 out of 10\n",
      "* * * * * * * * * \n",
      "1050\n",
      "Well this is a typical \\straight to the toilet\\\" slasher film.<br /><br />Long story short, a bunch of teenagers/young adults becoming stranded in the middle of creepy woods and get hacked down by naked nymphomaniac demons.<br /><br />This movie has all the basics for this slasher fromage:<br /><br />-Naked women, -teens or young adults being marooned in someplace spooky, -gory death scenes, -the last survivor being a well built young woman who will always show off her midriff, but never bra less, -a creepy, crazy man who knows about the evil, -lesbian kiss scene, -sex being a killer, -no plot<br /><br />Even then for a cheesy slasher film, it was really terrible. The atmosphere is totally dead. Nothing, not even the sexually explicit scenes and nudity, was enough to keep the male and lesbian female audience interested. Watching it felt like it was being watched with a nasty head congestion or a nasty head cold.<br /><br />Give the demonic ..... 0/10.\"\n",
      "* * * * * * * * * \n",
      "1172\n",
      "The reviewer from Poland must be a feminist, for she finds \\Young Catherine\\\" to be a great film and historically accurate. Nothing could be further from the truth. As a practicing Russian historian for many, many years I took exception with YC at almost every turn, and in particular the politically correct depiction of her as the boss who single-handed moved Russia into a direction of dominance. The truth? She was only brought to St.Petersburg to be a wife and mother, and found she had to \\\"bond\\\" with the dvoriane, the boyars, and the military just to survive. So long as she did not challenge them she was able/ permitted to indulge her cultural wishes (filling up the Hermitage with art treasures, etc.). There are so many proofs that she was not \\\"great,\\\" but in this area of post-modern revisionism proof is not very popular. YC is only a costume drama, a bit of fluff from Ted Turner that, like \\\"Peter the Great\\\" in 1986, is one more example of how badly Russia is portrayed in the West.\"\n",
      "* * * * * * * * * \n",
      "1195\n",
      "Born Again is a sub-standard episode from season one. It deals with the subject of reincarnation and just doesn't fly. I've never been big on reincarnation and that could be part of my apathy toward this episode. It does reference the Tooms case which is some nice continuation from the previous episode. But the positives end there. Which is unfortunate because that takes place at the beginning of the episode. I think it's ludicrous that a dead guy would chose to reincarnate in the body of a completely unrelated girl. And he waits until the girl turns eight to start exacting revenge. There's even a serious lack of witty Mulder & Scully dialogue to keep the episode afloat. If you're into reincarnation, maybe this episode is up your alley. If you're not, then at least you can learn what bradycardia is.\n",
      "* * * * * * * * * \n",
      "1208\n",
      "POSSIBLY VERY MINOR SPOILERS<br /><br />This movie is billed as the first Russian horror movie. Unfortunately, as far as I am concerned, \\The Witch\\\" (its Russian title) will take a place of dishonor in the gallery of horrible Russian movies. It is based on Nikolai Gogol's story \\\"Viy\\\" which is a classic in Russia. \\\"Based\\\" is the key word here since no familiarity with the story is required. Instead, the less you know about Gogol, the better. <br /><br />It is a unique production because we are quite used to directors taking stories from other cultures and adapting them to their own culture. The spate of American remakes of foreign films is a prime example, but then again, Sturgess turned Kurosawa's Seven Samurai into The Magnificent Seven with splendid results, and Kurosawa transferred Shakespeare's Macbeth into Japan to make an incredibly powerful Throne in Blood, while King Lear became a riveting Ran. However, with \\\"The Witch,\\\" we have Russians transplanting a Russian classical tale onto the American soil. The movie was shot in Estonia in English with the aim of dubbing it into English using American actors and have reasonably synchronous lip movements. <br /><br />As a natural consequence, lost is the colorful Ukrainian background for the story, in comes a drab American small town seemingly lifted from some outdated horror book manual. Gone is the boozy seminarian Khoma Brutus, instead we have a boozy journalist who is about to win Pullitzer prize, and who at the same time writes about X-Files-like events and frequents Miss Boobs contests. (I never thought Pullitzer prize was given for that kind of writing, now I humbly stand corrected.) In a strange nod to Russianness, the journalist is named Ivan Berkhoff. They should've named him John Smith because it is impossible to get more hackneyed, clichéd and generic than this movie. <br /><br />Berkhoff goes to a town named Castleville, gets stranded on a dirt road, staggers on until he finds a dilapidated house and is rather un-welcomed by an old crone. All that to the accompaniment of a radio announcement about the forces of evil being at their most powerful, and people better staying indoors and avoiding water. Need I mention that it's raining really hard? After a few supposedly frightening scenes which had me laughing, the story finds our journalist dressed as a priest, he's mistaken for a priest, and the local sheriff tells him his daughter who died after being brutally attacked wanted the new priest to pray for her for three nights. At this point, the action supposedly starts. Those who have time to kill are welcome to it. <br /><br />What is wrong with this film? Everything, starting with the dialog and down to the prop department. The dialog which I heard in Russian was clearly originally written in English, and it was compiled exclusively from clichés and platitudes picked from American films. The actors just as clearly struggled with English because the timing of their speech was labored and unnatural, and the Russian dubbing followed suit. The acting is mostly atrocious, and not only because the actors find it often difficult to talk but because they don't have anything approaching a range of facial expressions. For the most part, they're just blank or you wish they were. The only exceptions being the sheriff played by Lembit Ulfsak, a fine Estonian actor, and Arnis Lizitis who plays a wheelchair bound resident of Castleville. Oh, and a rooster of course who's absolutely natural on camera! I know actors complain of being upstaged by dogs and cats but when Nikolaev is upstaged by a rooster it is a sad testimony to the general quality of acting in the film.<br /><br />There wasn't a single scary moment in the entire film, and there wasn't a single original moment in the film either. Mind you, this comment's coming from somebody who's rather inexperienced with horror. The film is filled with standard moves used in horror movie since the genre's inception. At a critical moment, the camera lingers lovingly on a kerosene lamp. The lamp promptly goes out. It must have seen a few horror movies, too. An example of supreme idiocy comes at another moment, a character jumps out of a bathtub and runs at the camera. He's wearing something the looks like loincloth! It doesn't get any more idiotic than this!<br /><br />Those in Russia who liked it claim it should've been advertised as a mystical thriller. I wasn't thrilled either. It was run-of-the-mill from start to finish. I particularly enjoyed the fact that the entire population of the little town behaved as if they knew exactly they lived in a horror movie, except they weren't quite sure whether it had zombies or not. Therefore, some of them acted zombie-like just in case. <br /><br />The makers of the film say it's about finding faith. Such a fine collections of idiotic actions, stupidly contrived moments, and, yes, clichés, doesn't deserve to be about finding faith. The movie is so thoroughly and utterly fake it deserves only to be an exhibit in a wax figure museum.\"\n",
      "* * * * * * * * * \n",
      "1615\n",
      "If you are under the age of 6 or 7, then you're going to really enjoy this movie. My youngest daughter is glued to the TV when she watches it. As an adult, I can't stand it!! I'm all up for sequels....when they have a decent storyline. But this is nowhere near up to standard. Please forgive me for slating what is after all a kid's film, but when you have to sit through it nearly every day when your kids who love it so much, you'll understand why. My daughter would watch this film over and over again on the same day if we let her.<br /><br />I've given this film 4 out of 10 purely for the fact that it keeps my youngest entertained.\n",
      "* * * * * * * * * \n",
      "1758\n",
      "I've seen some bad things in my time. A half dead cow trying to get out of waist high mud; a head on collision between two cars; a thousand plates smashing on a kitchen floor; human beings living like animals.<br /><br />But never in my life have I seen anything as bad as The Cat in the Hat.<br /><br />This film is worse than 911, worse than Hitler, worse than Vllad the Impaler, worse than people who put kittens in microwaves.<br /><br />It is the most disturbing film of all time, easy.<br /><br />I used to think it was a joke, some elaborate joke and that Mike Myers was maybe a high cocaine sniffing drug addled betting junkie who lost a bet or something.<br /><br />I shudder\n",
      "* * * * * * * * * \n",
      "1886\n",
      "Alien Hunter: 5 out of 10: Is it me or does every movie that starts in Roswell, New Mexico suck. Take Alien mixed with The Thing, mixed with Contact, mixed with of all things On the Beach, The Andromeda Strain, the classroom scene from Raiders of the Lost Ark and a throw in a little Stargate to boot. <br /><br />Derivative doesn't even begin to describe this movie. Of course with nothing original plot wise they amp up the gore and sex right? Nope gore is a blink and you miss it affair and sex is all tease. (James Spader causally mentions he needs a shower and the delectable Leslie Stefanson asks to join him",
      ". he turns her down. AGGH!) <br /><br />In fact if a movie ever needed a shower scene to liven things up this is it. I mean if your going to have impossibly good-looking women in white bathing suits wandering around an Antarctica research base why not go for broke.<br /><br />With about 30 seconds of actual thrill in the entire movie Alien Hunter is remarkable serious and slow going for a sci-fi adventure. Needed a much better plot twist to liven it up and by the way the Alien itself is a horribly clichéd artifice and has virtually no screen time for someone who shares half the title. <br /><br />I also inquired during viewing what is with the Children of the Corn in space motif. (Note that since Jason of Friday the 13th fame, Pinhead from Hellraiser and that Leprechaun have all traveled to space to slay nubile teenagers why not the cornfield?) The characters in the cornfield dress like Logan's Run extras and I was just waiting for the stalks to come alive and attack them.<br /><br />That however would have been exciting and apparently against this movies covenant. The acting is mostly fine as Spader reprises his Stargate role while Stefanson and Janine Eser model the latest in Antarctic beachwear. John Lynch however read the whole script and acts the like the insane bad guy well before the story would indicate it.<br /><br />Alien Hunter is a disappointing derivative slog that makes me pine for a proper Children of The Corn in Space movie.\n",
      "* * * * * * * * * \n",
      "2135\n",
      "This movie was craptacular. I was so emotionally uninvolved in every single character that the movies' biggest antagonist was, in fact, myself. I played it beautifully throughout; promising myself I would walk away, but only drinking another beer hoping it would auto-magically transform into something engrossing along the way. Even in this state, I couldn't help but notice that Cuba's acting was as flimsy as tracing paper. His obsessive dedication to his job was unconvincingly done as well as his one night binge after the failure of his own idiot standards. Burt came on the screen as a General, that's right, a General (who wears too much makeup). I fell into a frighteningly fast binge to rival Cuba's, except mine was real and I stubbed my toe. Recompense! Recompense my stubbed toe!\n",
      "* * * * * * * * * \n",
      "2226\n",
      "...for one of the worst Swedish movies ever...forgive me for being dull.<br /><br />First of all i haven't seen the first one (i was bored that's my reason for watching the 2nd before the 1st one), well i hope the first one is better than this, it was filled with weird cut scenes and very strange plot changes, For the people that have seen this and think 4/10 is high (belive me so do i), but it made me laugh a few times, because it was so bizarre so bad and i still laugh thinking of the punk that came up with this idea, what's next \\Det sjunde inseglet II\\\". Sequels not based on novel or book doesn't turning out great to often, and this is a perfect example of one.<br /><br />OK i'm gonna be honest with you: i did laugh a bit, it got a few decent jokes in it and slapstick humor. But don't buy it, rent it. Just let some other idiot do it or download it.<br /><br />4/10 This movie will be remembered and the director is probably laughed out already...\"\n",
      "* * * * * * * * * \n",
      "2281\n",
      "This is one of those films that makes you want the time you spent watching it back, and then some, like the time you spent accidentally picking it out, the time you spent getting to the video store, etc.<br /><br />First off, the look: It's grainy, it's low budget. Now that in itself doesn't make for a bad film. But the way it was filmed makes the action look unnatural, so that's kind of distracting.<br /><br />Then, the story. 3 gals go on a gal's weekend away from guys. Of course, as EVERYONE does when going on a camping trip, they stop on the way to get earrings. When they arrive at the area in which they're going to stay, they get pulled over by Mr. Ranger Sir, who scolds them for throwing a lit cigarette out of the car at fire season, and then drives them where they're going (a remote cabin). Of course, 2 \\cute guys\\\" wander into their vicinity, and Bambi (yes, Bambi) and Aubry are immediately smitten, but apparently Bambi is smitten by anything with two legs. Mady is rather disappointed by this development because she was looking forward to a weekend of forgetting about her ex by getting sh**-faced and stoned with her gal-pals.<br /><br />Oh, and I almost forgot, there's a mean old hermit that lives up that way, that's perhaps someone to not tangle with, and the area & cabin in which they're staying have a sort of \\\"reputation\\\".<br /><br />So of course, sooner or later (unfortunately, MUCH later) some of our weekend wood-visitors begin to die, and find various booby traps (although a couple of them actually hit a little lower than that) and of course, the remaining campers are understandably upset. No cell phone reception of course (who would miss out on a chance to check their cell phone for reception in a movie anymore?). Mr. Ranger Sir keeps popping up at odd times & his behavior seems a bit odd but he has said he will get help.<br /><br />There's a fantastic twist to this that you just won't want to miss too, if you're still awake. Pray that you wake up to a blank screen.<br /><br />The acting in this is terrible, the production values are terrible, and the whole undertaking is just lame & I find it amazing this was even released. Avoid at all costs, 1 out of 10.\"\n",
      "* * * * * * * * * \n",
      "2286\n",
      "I can only assume that the other reviewers of this \\film\\\" are stockholders in the production company, as this was quite possibly the worst movie I've seen in the last five years. From the opening shot of a Rabbi laughing uncontrollably for no apparent reason, it was clear that the actors in this film would kill to be considered \\\"B-Level.\\\" Both my wife and I were in a great mood before starting this film, and we were genuinely looking forward to a funny popcorn movie. We knew we hadn't rented Citizen Kane, and we weren't expecting to see the most amazing movie ever. However, after 40 minutes of enduring the most painfully unfunny bit of garbage I've ever seen, we shut it off instead of wasting another minutes of our lives.<br /><br />If a \\\"comedy\\\" with no laughs, terrible acting, thin plot and annoying characters are your thing, then this film is for you. Honestly, Troll 2 is better--at least I laughed at the popcorn sex scene.<br /><br />I cannot justify writing a longer review of this picture because I've already wasted almost an hour trying to find one joke.\"\n",
      "* * * * * * * * * \n",
      "2661\n",
      "Lynn Hollister, a small-town lawyer, travels to the nearby big city on business connected with the death of his friend Johnny. (Yes, Lynn is a man despite the feminine-sounding Christian name. Were the scriptwriters trying to make a snide reference to the fact that John Wayne's birth name was \\Marion\\\"?) Hollister at first believes Johnny's death to have been an accident, but soon realises that Johnny was murdered. Further investigations reveal a web of corruption, criminality and election rigging connected to Boss Cameron, the leading light in city 's political machine.<br /><br />That sounds like the plot of a gritty crime thriller, possibly made in the film noir style which was starting to become popular in 1941. It isn't. \\\"A Man Betrayed\\\", despite its theme, is more like a light romantic comedy than a crime drama. Hollister falls in love with Cameron's attractive daughter Sabra, and the film then concentrates as much on their resulting romance as on the suspense elements.<br /><br />This film might just have worked if it had been made as a straightforward serious drama. One reviewer states that John Wayne is not at all believable as a lawyer, but he couldn't play a cowboy in every movie, and a tough crusading lawyer taking on the forces of organised crime would probably have been well within his compass. Where I do agree with that reviewer is when he says that Wayne was no Cary Grant impersonator. Romantic comedy just wasn't up his street. One of the weaknesses of the studio system is that actors could be required to play any part their bosses demanded of them, regardless of whether it was up their street or not, and as Wayne was one of the few major stars working for Republic Pictures they doubtless wanted to get as much mileage out of him as they could.<br /><br />That said, not even Cary Grant himself could have made \\\"A Man Betrayed\\\" work as a comedy. That's not a reflection on his comic talents; it's a reflection on the total lack of amusing material in this film. I doubt if anyone, no matter how well developed their sense of humour might be, could find anything to laugh at in it. The film's light-hearted tone doesn't make it a successful comedy; it just prevents it from being taken seriously as anything else. This is one of those films that are neither fish nor flesh nor fowl nor good red herring. 3/10\"\n",
      "* * * * * * * * * \n",
      "2664\n",
      "Although Bette Davis did a WONDERFUL job as Mildred, I felt that the film wasn't the best I had seen. At the end of the movie I was left feeling like there was something missing in it.<br /><br />Bette Davis did a perfect job, though, and she made me hate her and pity her all the while. Leslie Howard did very good as the lovelorn Philip Carey, and I so pitied him throughout the movie for being in love with such a horrible dame. It's such a sad thing when one finds him/herself in love with a bad seed. And especially if it's someone like Philp Carey, who is a sensitive person, though pathetic.<br /><br />In the end, the acting was what came through and not the plot. The ending scene was particularly good, but I am not one to give it away. Although others may find this movie good, I was one who found it so-so. I should recommend this movie to those who like a bad seed so they can see what may happen to them if they find themselves in love with that horrible person.\n",
      "* * * * * * * * * \n",
      "2879\n",
      "Yep.. this is definatly up there with some of the worst of the MSTifyed movies, but I have definately seen worse. Think Gremlins rated R. Well anyway, I met Rick Sloane at some sci-fi convention, that amazingly, he was lecturing at! It was one of those really low budget conventions, where everything goes, an everyone brought in something (if you want to see crap, you should have of seen what some friends and I brought in).<br /><br />He seemed like a very nice guy, he was very cool about my questions and comments on Hobgoblins, and he even told me not to take it seriously, and said he loved the MST3K version!<br /><br />All in all, Rick Sloane knew what he was doing. And I think was meant to bad like Mars Attacks. So I guess I'm standing up for this movie and giving it a 5, and betraying all my fellow MSTies. Sorry guys.\n",
      "* * * * * * * * * \n",
      "3050\n",
      "Motocrossed was fun, but it wasn't that great. I guess I just didn't understand a lot of the Motocross racing \\lingo\\\" (and there was A LOT of that in the film)! The plot wasn't what I expected from the Disney Channel previews, so that could account for some of my disappointment.\"\n",
      "* * * * * * * * * \n",
      "3077\n",
      "if my grandma did films they would probably do much better figure than this one... incredible bad... the main characters (the mom, the dad and son) are OK. Specially the mother she's a nice actress and the kid also proves to be a nice one specially on the scenes where he is supposed to be scary. But does the the director know the meaning of the words Plot Point, Triller and Good Script. the script hasn't any evolving atmosphere to become a suspense thing. If you like being chased by trees you can probably enjoy it, otherwise just stay at home and sleep. oh... actually there was something funny: the movie's from 2001 but we couldn't realize it since the image is so bad (like on mini-dv) and the cars are so old (like 70 and 80's).\n",
      "* * * * * * * * * \n",
      "3179\n",
      "Written by Stephen King, but this treatment is not as solid as most of his stories on film. A mother and son move into a small Indiana town with a secret. They are Sleepwalkers, feline type creatures that feed on young virgins. This little story has its share of gore and special effects; plus hints of incest.<br /><br />Alice Krige is outstanding as the mother. Others appearing are Madchen Amick, Brian Krause and Cindy Pickett. Look for very small roles for John Landis and Clive Barker. Stephen King cameos as the caretaker of the cemetery.\n",
      "* * * * * * * * * \n",
      "3271\n",
      "This movie has some of the worst acting that I have ever seen! Some scenes are original such as the nails coming through the floor. This nail trap catches these bad guys. The rest of the movie degrades as you go. I can't believe that this movie is not even in the bottom 100 movies of all time. I also can't believe that there are sequels! The next crap movie that I want to watch is R.O.T.O.R. Could R.O.T.O.R really be much worse than this?<br /><br />\n",
      "* * * * * * * * * \n",
      "3412\n",
      "Here's how you do it: Believe in God and repent for your sins. Then things should turn around within the next day or so. <br /><br />Until the last fifteen minutes, this movie just plays as a bad recap of a drunk's crappy life. His mom dies. His stepmom's a b_tch. His dad dies. He drinks. He gets married. He has kids. He drinks some more. His wife gets mad. He disappoints his kids. The wife threatens to leave. He calls up a reverend late night b/c he wants to kill himself. Then after the recap happens, that's when we get the \\Left Behind\\\"-like subtle message.<br /><br />\\\"He needed a paycheck\\\". This is the phrase I had to repeat over and over once credits started to roll so I wouldn't lose my respect for Madsen.<br /><br />Madsen drops to his knees and begs Christ's forgiveness. Once he does, he walks outside and actually says that he sees the world in a different way. He tells his wife that he's found God and that's good enough for her. Flip scene four months and the wife is tired of going to church. End the movie as Madsen walks by the bar and gives a soliloquy about how happy he is with Christ and without alcohol. Final moment? He gives a little dismissive wave to the bar (i.e. sin house) and give a gay, Miami-Vice, after-school special congratulatory jump in the air as the camera freeze-frames. See why I had to repeat the phrase? \\\"He needed a paycheck\\\".<br /><br />Man this movie is bad. The B-Grade 80's production values don't help much. The script could have easily been a \\\"Touched By An Angel\\\" episode. It could have been knocked out in 30 minutes plus commercials. The acting is wooden and never believable. Even Madsen, of whom I'm a big fan and is the sole reason I sat through this, makes it clear that this is his first acting job and he doesn't know his a$$ from his elbow yet on camera. 45 minutes into it I started to get discouraged. This thing was like homework. I just wanted to put it away and say that alright, I saw half of it. That's good enough. But no. If I sat through Cheerleader Ninjas, I could sit throughout this.<br /><br />The only reason I'm not giving this thing a 1 is for two points: 1) I love Madsen. I know it's not fair. But it's great seeing the opening title \\\"Introducing Michael Madsen\\\". Sue me. 2) Some of the Dialogue is so bad that it's classic. I'll stick some quotes at the end of this so you can enjoy them too.<br /><br />That's about it. To wrap it up ,this thing is a piece of crap that should stay flushed with the rest of the turds. But hey! Look! Michael Madsen! (See also TILT, EXECUTIVE TARGET, MY BOSS'S DAUGHTER, etc). Now I've gotta rewatch Reservoir Dogs and watch Madsen torture a cop to get my respect back for him. See ya, Kids.<br /><br />\\\"This stuff's gonna make me go blind, but I'm gonna drink it anyway\\\" - Madsen's first taste of cheap alcohol<br /><br />\\\"I don't understand! Everything seems so beautiful!\\\" - Madsen walking outside after confessing to God<br /><br />\\\"I'm going downtown later and pick up a bible and I'm gonna get a haircut too\\\" - Madsen after converting at the dinner table, because Satan lives in your hair\"\n",
      "* * * * * * * * * \n",
      "3488\n",
      "I'm not even gonna waste time on this one; it's not funny, not scary, practically unwatchable and only occassionaly gory(the FX suck though(no pun intended)). This is a disclaimer; WATCH AT YOUR PERIL! Ask yourself 1 question; Are slugs scary?\n",
      "* * * * * * * * * \n",
      "3593\n",
      "there are three kinds of bad films - the cheap, the boring, and the tasteless. the only really bad movies are boring and tasteless. <br /><br />boring films are just, well, boring - if you don't leave quickly enough, you fall asleep.<br /><br />tasteless films actually have their defenders; but the fact remains that they are masturbatory aids for very sick people.<br /><br />only the cheap bad films are really funny, because the filmmakers wanted to make their films so desperately, they way-over-reached beyond their abilities and available resources.<br /><br />Bo Derek is just naturally boring and tasteless; fortunately, fate and a lack of funds and skill redeem her by making her seem cheap as well. this film is hilarious and it may well be the last really funny-bad film ever made.<br /><br />i first saw this in a theater, may god forgive me; i was laughing so hard i was rolling off my seat, and so too with most of the rest of the audience.<br /><br />it's clear that Derek and her husband-promoter, conceived of this film as, partly, a satire; unfortunately, the dereks clearly lacked any of the necessary resources to pull that off; consequently, the 'satirical' element comes off as some school-girl's impression of some gay young man's impression of frank gorshin's impression of the riddler in batman trying to pretend he's robin - it doesn't fly over our heads, it has no clue where any human head might be.<br /><br />on the other hand, there are some supposedly serious moments in this film - it is supposed to be an action film, remember - that are so astoundingly cheesy, one wonders if someone squirted spoiled milk in one's eye.<br /><br />as for Derek's infamous tendency to reveal her breasts - i can't imagine a less erotic nudity photographic display, she is so weird looking with those broad shoulders, i can't imagine what any one ever saw in her.<br /><br />as for the plot - such as it is - well, it isn't; Derek chases around Africa, and god alone knows why. then her father - Harris - pretends to act in some maniacal puppet-show, and then of course there's the hunk'o'Tarzan that seems to have wondered in from advertisement without knowing that the subject's changed - probably because he hasn't seen a script - apparently no one has.<br /><br />negligible camera work, shoddy editing - if it weren't for the 3-way with the chimp, the film would be unbearable -<br /><br />as it is, it's a real hoot.\n",
      "* * * * * * * * * \n",
      "3645\n",
      "The \\documentary\\\", and we use that term loosely apparently, summarizes that Muslims are trying to violently take over the world. Then states that any Muslim that doesn't admit this is either ignorant of their own faith or lying to your face! Also every person that is interviewed in the film has found a market for their ludicrous take on reality by selling claptrap to conservatives willing to let others do the thinking for them. What the West NEEDS to know is this is nothing more than propaganda aimed at mental midgets. If you are looking for an actual documentary on Islam and the current state of the Middle-East I would look elsewhere. Try something that provides multiple points of view from qualified sources.\"\n",
      "* * * * * * * * * \n",
      "3702\n",
      "Normally I would have given this movie a 6. It tackles a very important topic and it does it relatively well - despite Katie Wright which is an accomplishment in and of itself.<br /><br />I have no idea if she was actually instructed to play the character like this or is naturally irritating, but she did an awesome job at making it impossible for me to care for Lexi. There's no dimension to her other than how confused, helpless and clueless she is, and how good she is at whimpering. I can understand how a young girl who blames herself for the loss of her friend and whose eating disorder has spiraled out of control would be distraught, scared and in pain. However, Wright's entire performance is based on incessant wailing and sniveling, the rest being whining. I couldn't help but feel this particular girl's problem was caused not by the demon that is Bulimia, but by her not having a backbone. I very much doubt that's the point the movie meant to make.\n",
      "* * * * * * * * * \n",
      "3760\n",
      "Why?!! This was an insipid, uninspired and embarrassing film. The embarrassment comes from being from the city where they made it...Pittsburgh PA! Why did they let these people do such a BAAAAAD movie there?<br /><br />When this movie was originally to be released...it was more of a romantic comedy...and no ROBO-anything. That all got changed along with cuteness courtesy of Disney. WHY???? They did a terrible interpretation of this classic comic character. Seeing Matthew Broderick make fun of his own movies was not fun either. Sheesh!!\n",
      "* * * * * * * * * \n",
      "4151\n",
      "I'm actually watching this film as I write this . . . If the following comments \\prove my lack of development as a true, artistic film maker\\\", then so be it . . .<br /><br />But . . . I thought (am still thinking as I'm presently viewing) that this film . . . to put it mildly, is very, very overrated. Again, very.<br /><br />It looks like a really, really bad student film done by a someone with beyond extremely limited resources . . . and who didn't pay that much attention to detail.<br /><br />I don't want to go on and on regarding all the different ways that I find this film lacking, but . . . well . . . I just don't get it (rememeber, I fully admit that maybe it's ME that's the idiot here - not the film maker - for not getting this \\\"piece of imaginative genius\\\") . . . I rented this on a whim because the reviews were very, very outstanding . . .<br /><br />Sheesh . . .\"\n",
      "* * * * * * * * * \n",
      "4256\n",
      "In this 'sequel' Bruce is still called Billy Lo (get it? Bruce= Billy, Lo= Lee. No?) But apart from that, that's all it has in common with the other movie. Billy doesn't seem to be an actor anymore. He seems to be in another country. He's more like a spy. He's the only cast member to return and sadly, they kill him off to make way for a new character, his brother, Bobby. Sadly, when Bruce dies, the movie pretty much dies with him. This was extremely poorly made. It seemed like they were writing the script as they were filming. The footage works for a while (it's not too obvious at first) but soon Bruce is always shown in the dark all the time (he kicks out a light at one stage for no other apparent reason to hide the fact that it's not Bruce playing the part). Sadly when he dies the movie changes. I can't help but wonder if they were filming as they were writing and may well have planned to keep Bruce alive, but later decided to kill him off because it would not have been plausible as Bobby does not appear until Billy is dead. It's hard to change the lead character halfway in the movie and Bruce is a hard act to follow so it's hard to now accept Bobby as the star. Bruce is never seen again in this movie. I think they should have made this sequel without Bruce he has a lame role in this movie. People hoping to see a new Bruce Lee movie will be disappointed to see that although he's given the top billing, he only has a featuring role. Even the worst movies have at least one memorable bit. If there was one bit about this movie people seem to talk about, it's the scene where Billy fights in a plant nursery. Ironically it doesn't even use Bruce Lee footage. Mind you, they did it more convincingly in No Retreat No Surrender. Not one of the other actors here ever made anything else memorable. Bruce's girlfriend (Colleen Camp) is never mentioned. My advice is to turn it off as soon as Bruce is finished writing his letter to his brother. Nothing else in the movie is worth watching. I found it really sad to see Bruce die. I don't see how a small budgeted movie like this could get enough money to use footage from Enter The Dragon. This was a cheap way of trying to cash in on Bruce's name. Oddly this and the original are credited in Bruce's filmography. Thankfully so far, no one has tried anything like this again. 1981 was the year of Bruce's last movie appearance. It was a sad way to end it, but thankfully this is proof that Bruce's movie career should be left alone.\n",
      "* * * * * * * * * \n"
     ]
    },
    {
     "name": "stdout",
     "output_type": "stream",
     "text": [
      "4341\n",
      "one may ask why? the characters snarl, yell, and chew the scenery without any perceptible reason except someone wanted to make a movie in barcelona. billie baldwin, is that the right one?, is forgettable in the cop/estranged-husband/loving-father-of-cute-little-blond-girl role. the story seems to have been cut and pasted from the scenes thrown away from adventure films in the last three years. ellen pompeo's lack of charisma is a black hole that seems to suck the energy out of every scene she is in. her true acting range is displayed when she takes her blouse off as the movies careens from one limp chase scene to another. unfortunately, the directing rarely goes bad enough to be camp or a parody. it is all just cliché, familiar in every respect. the director cast his own daughter as the precocious brat probably because no respectable agent would have permitted a client to ruin a career by being in such a lame, contrived and uninteresting movie. the only heist here is the theft of the investor's money and the viewer's time.\n",
      "* * * * * * * * * \n",
      "4414\n",
      "I am completely baffled as to why this film is even liked, let alone held in such high regard, especially by so many critics who are, otherwise, quite sensible.<br /><br />There is one key word which describes this film to its core - irritating.<br /><br />The most easily explained example of this is the director's use - or, more accurately, abuse - of music. In the first half, a really dull reggae tune is played about three times (when once is too often). But in the second half, The Mommas And The Papas \\California Dreamin'\\\" is played at least seven times, usually at top volume. Godsakes, whether you liked the song or not beforehand, you'd be thoroughly sick of it by the end. Just think, some people claim to have seen this film four or five times. This means they've listened to California Dreamin either 28 or 35 times.....<br /><br />All of this needless hyper-repetition (it contributes nothing to the story) could possibly be excused if the remainder of the film had any lingering merit, or if the story was in any way involving.<br /><br />But it ain't.<br /><br />The only aspect I found likeable was Bridgette Lin's charging around and still playing Asia The Invincible in a raincoat and sunnies. Even this wore off fairly quickly.<br /><br />I'm sure this film's undeserved high reputation will convince many poor suckers to go and see it.<br /><br />I can only warn you - if you've never seen a HK movie before, don't start with this one.<br /><br />If you feel compelled to watch it, avoid at all costs seeing it in a cinema. The fast-forward and mute buttons are essential tools for survival here.<br /><br />You have been warned !\"\n",
      "* * * * * * * * * \n",
      "4566\n",
      "Nell Shipman must have been paid a hefty sum of money to promote the Maxwell automobile's off-road capabilities. The plot of the movie is pretty simple, Nell plays a writer who has a bad case of writer's block, and needs inspiration, so she goes to visit Mexico to absorb the atmosphere. There she meets the hero (Bert Van Tuyle), a cowboy who chooses to drive a car rather than ride a horse. While Nell is visiting with her father's partner at his mining camp, a gang of local bandits kidnap her and bring her to their camp deep in the wilderness. The hero needs to get to her quickly, so he decides to drive there in his car. This is where the film takes a weird twist. Bert proceeds to drive over every terrain imaginable, huge rocks, small streams, heavy brush, scraggly tree stumps, steep inclines, etc etc, for the greater part of the film we get to see this car struggling to crawl over obstacles. Now mind you, this isn't a modern-day ATV, it's a 1920 Maxwell automobile, so it looks very out-of-place as an off-road vehicle. And it clearly has limitations for some of the terrain it encounters, we get to see it stuck more than once in this film. But the filmmakers made an effort to show it beating the odds and eventually passing all the obstacles. Once the hero gets to the hidden camp and rescues the girl, he jumps in the car with her and drives off with the bandits in hot pursuit (on horseback), and at this point it became hysterically funny to me. Watching this car slowly rolling over huge rocks, getting stuck in gravel and mountain brush, going forward and back to get momentum enough to pass over fallen tree limbs, the bandits should have had ample time to catch up. But they never do, even though we are to believe this wilderness chase goes on throughout the night. And in a silly climax, the car climbs a mountainside, and helps Nell and the hero push a huge boulder down the side to crush the pursuing bandits.<br /><br />After seeing this film you would think the army should invest in 1920 Maxwell automobiles because they clearly have better off-road capabilities than Hummers and Bradley tanks combined. Watch this film just for laughs, it's worth it just to see Nell cuddling up to the car grill and saying \\You did your best, brave little car\\\"\"\n",
      "* * * * * * * * * \n",
      "4632\n",
      "First of all, let me say the I am LDS or rather, I am a Mormon. So when I watched this film, I automatically gave it the benefit of the doubt. I can usually find something redeeming in every movie I watch. And this one was no exception. It does have its redeeming moments. But they are few and far between.<br /><br />One of the first things I noticed that bothered me very greatly was that it seemed as though Halestorm was ashamed of our Church! In the LDS Church, congregations are called \\wards\\\" and the basketball court is in the \\\"cultural hall\\\". NEVER ONCE are either of these two names mentioned. The Church is never referred to by name and \\\"the standards\\\" is as far as it goes in mentioning what our Church believes.<br /><br />It makes me wonder if the directors are really LDS or LDS wannabes? This film had so much potential! It could have really shown our Church in a positive light and helped the public to see not only what we have to offer, but also what we believe. Instead it was only mildly entertaining and left much to be desired. If I were not already LDS, I'd be left thinking Mormons are stupid, idiotic and ashamed of their beliefs.<br /><br />It is NOT a film I will recommend to my nonLDS friends.<br /><br />Sorry Halestorm. You can do better than this!\"\n",
      "* * * * * * * * * \n",
      "4811\n",
      "Woman (Miriam Hopkins as Virginia) chases Man (Joel McCrea as Kenneth) for father (Charles Winninger as B.J.). Woman wants to get Man to invest some of deceased mother's money in father's business venture; but, father is notorious for losing money on hair-brained schemes. Little does anyone know, but real evil schemers are posing as Man's best friends in order to steal his fortune...<br /><br />The production looks engaging, but the story fails to engage. The players don't play drunk well. Notable as Broderick Crawford's first appearance - as gopher \\Hunk\\\"; other than running errands, Mr. Crawford gets pinned to the floor by Mr. McCrea. <br /><br />*** Woman Chases Man (4/28/37) John G. Blystone ~ Miriam Hopkins, Joel McCrea, Charles Winninger, Broderick Crawford\"\n",
      "* * * * * * * * * \n",
      "4840\n",
      "Jill Dunne (played by Mitzi Kapture), is an attractive, nice woman, over-whelmed by a smart-mouthed teenage daughter, Liv (Martha MacIsaac) and a petty, two-timing husband, Sean (Rick Roberts), both of which were tediously self-centered, and obnoxious.<br /><br />This was advertised as a troubled family stalked by a crazed killer during a relentless storm.<br /><br />The storm doesn't even happen until about the last 5 minutes of the film, and then it isn't anything to send anybody running to the storm cellar.<br /><br />The stalking, likewise doesn't get intense until almost the end of the film.<br /><br />Most of the film we spend listening to Jill and her insufferable daughter, Liv, argue until I just wanted to back slap the daughter into next week.<br /><br />Jill's problem with Liv is that she has taken up with Zack, a boy of questionable character, and they are constantly making out--in fact Jill comes home to find the two of them on Liv's bed.<br /><br />The rest of the time we spend listening to Jill's husband Sean either whine at Jill or criticize her.<br /><br />Sean was not at all appealing--since his face is so covered in freckles you could play connect the dots.<br /><br />The story begins with Jill being notified of an out-standing bill on their credit card for a hotel she has never been to, and that she thought Sean had never been to either.<br /><br />Jill goes to the hotel where she meets the owner & manager, Richard Grant (Nick Mancuso), a very nice, older, divorced man, who is sympathetic to her. In fact, when he spots her husband there again, he phones Jill and tips her off.<br /><br />Jill returns to the hotel, sees Sean with another woman. She is upset, leaves without Sean seeing her, and does absolutely nothing. In fact, she doesn't even say anything to Sean when he arrives home. This made no sense to me.<br /><br />Jill has given Richard her business card, and so he calls her and she is apparently in real estate. She shows him a condo. Afterwards they have a drink, and things get cozy between them.<br /><br />Richard and Jill are getting it on, hot and heavy. In fact, he seems a bit more aggressive than necessary, when Jill suddenly decides to cut out.<br /><br />Jill and Sean have a confrontation about his cheating. Sean whines about how Jill has been letting him down since her father died. Apparently his lack of any morals is all her fault. Eventually Jill confesses her own lack of morals and near adultery to Sean--and of course that's all her fault too, as far as Sean is concerned.<br /><br />The little family decides to go on a camping trip--which means more whining and grousing among them, especially from the spoiled daughter.<br /><br />I was so rooting for the stalker to get everybody, but Jill.<br /><br />3 stars\n",
      "* * * * * * * * * \n",
      "4860\n",
      "I agree totally with the last commenter this could be the worst movie ever made .I too had to fast forward through most of this movie. Michael Madsen must have done this movie as a favor to someone.The picture quality is grainy all the way through .And what little plot there is,is just plain stupid .I give this movie a 1 out of 10 if I could give it a lower score I would .Don't waste your time on this movie or you'll regret it.\n",
      "* * * * * * * * * \n",
      "4923\n",
      "In spite of having some exciting (and daring) sequences, NBTN just never gets going. There are exploding boats, hat pin murders, mass suicides, pathologists with body parts, and all sorts of classic mystery/horror scenes, but they're interspersed with extended periods of pure exposition. Everybody in the movie looks bored. This is a shame because many of the sequences would be considered daring at the time this was filmed.<br /><br />Add to this the \\too-proper\\\" Brit characters and you feel like you've drifted into a Sherlock Holmes movie.<br /><br />Finally, the cinematography is very ordinary. There are lots of opportunities for beautiful shots of of the countryside, or complex shots of someone being pulled into a huge bonfire, but the whole thing is unimaginative and dull.<br /><br />Definitely only for Lee and Cushing fans.\"\n",
      "* * * * * * * * * \n",
      "5051\n",
      "After we counted the use of the f word, oh, about 22 times in the first 10 minutes or so of the film, listened to some really bad actors going on about a woman and a horse, and pretty much acting like 12 year old boys being naughty together, well, we turned it off. Relying on gratuitous profanity and potty humor is a sure sign of a loser Hollywood movie, the product of unimaginative and no-talent writers. <br /><br />We did give it a second chance, thinking surely it would get better. No dice. Later, my boyfriend skipped through the rest of the movie in case it improved, still no dice.<br /><br />The main character did have a cool bike.<br /><br />I wouldn't recommend this to anyone except maybe really immature adolescents, or frat boys.\n",
      "* * * * * * * * * \n",
      "5092\n",
      "After waking up at 3:30 in the morning and not being able to go to sleep, I decided that I may as well be entertained while I suffered from sleep deprivation. This movie was on HBO and I decided to watch it. What a mistake!<br /><br />Here is the plot (potential spoilers, if you even care) : a neurotic man with an addiction to candy (Josh Kornbluth) works as a temp for some ridiculous company. Suddenly, he is offered the chance to \\go perm,\\\" which seems to be the favorite catch-phrase of this movie. But with a secure job and a secure income within his grasp, Josh decides for whatever stupid reason that he doesn't want to do it. He hopelessly bungles several minor tasks and his laziness and lack of ambition fill me with contempt. His inability to send several \\\"very important\\\" letters within a given amount of time is supposed to be hilarious, but is merely stupid. Josh meets and deceives a lawyer woman and they wind up in bed together (obviously a fantasy of Josh's in real life, as such a thing would never happen). A bunch of other stuff happens, but it's too trite and inane to go into now.<br /><br />Despite the fact that this movie is billed as a comedy, I only laughed twice during it; the first time was the opening shot of Josh Kornbluth (my initial reaction was one of stifling fear) and the second was when he was in bed with the attractive woman (yeah, right). Josh Kornbluth is perhaps the most terrifying-looking person I have ever seen in my life. He is an unattractive, overweight, balding Jewish man who I am supposed to believe has sex with beautiful women. I do not at all sympathize with Josh's character. He is lazy and unmotivated and I just don't appreciate the failed attempts at humor. Skip it, even if your life depends upon it.\"\n",
      "* * * * * * * * * \n",
      "5144\n",
      "You know you're in trouble when the opening narration basically tells you who survives. It all goes downhill from there. Unnecessary, \\Matrix\\\"-influenced bullet-time camera work. Pointless cuts to video game footage. Crusty old sea captains and wacky seamen. Ravers who become skilled combatants in the blink of an eye. Even the zombies are boring.<br /><br />I was hoping for at least a \\\"so bad it's good\\\" zombie movie, but this one is \\\"so bad those involved with its creation should be barred from ever making a movie again\\\".<br /><br />\"\n",
      "* * * * * * * * * \n",
      "5213\n",
      "To put it simply, The Fan was a disappointment. It felt like as if I was watching Taxi Driver, except Taxi Driver was much better than this. It seemed like the filmmakers wanted us to root for Robert Deniro's character 100 percent. This approach didn't work.\n",
      "* * * * * * * * * \n",
      "5413\n",
      "The Marquis De Sade, Egypt, ancient Gnostic cults, Robert Englund in a dual role, gratuitous sex and nudity, murder and mayhem... on paper Tobe Hopper's Night Terrors sounds like it should be at least a fun, entertaining flick given the ingredients. It's not. It is a plot less, incoherent shambles that brings little entertainment. There is basically no plot beyond some vague stuff about a cult that follows the work of De Sade who for some unclear reason feel the need to seduce the daughter of a local Christian archaeologist and kill her. That is pretty much it- I think it has something to with the Gnostics but who knows what the writers were thinking. Most of the movie is a meandering mess as the heroine is exposed to various weirdness, dream sequences and erotic encounters, intercut with scenes of Englund as the imprisoned De Sade in the 19th century chewing the scenery. It seems like the makers were trying for something serious but whatever their pretensions were they are buried in the cheesiness, bad acting, sleaze and fake looking decapitated heads.<br /><br />There aren't too many good points. Robert Englund is fun to watch, as always and the lead actress, Zoe Trilling, whilst not very talented, is attractive and in various stages of undress through the movie but watching Night Terrors is a chore. At least I got to see the movie from which the \\When you're as criminal as I\\\" bit from the Australian film certification ratings guide that was on the front of so many VHS tapes from the nineties came from.\"\n",
      "* * * * * * * * * \n",
      "5426\n",
      "Aside for being classic in the aspect of its cheesy lines and terrible acting, this film should never be watched unless you are looking for a good cure for your insomnia. I can't imagine anyone actually thinking this was a \\good movie.\\\"\"\n",
      "* * * * * * * * * \n",
      "5447\n",
      "Despite its interesting premise, 'Sniper' is quite tedious. With a tighter script and sharper directing it could have been electrifying; instead it plods along with little tension.\n",
      "* * * * * * * * * \n",
      "5450\n",
      "THE DECOY is one of those independent productions, made by obvious newcomers, but it doesn't have all the usual flaws that sink most such films. It has a definite story, it has adequate acting, the photography is very good, the hero and the bad guy are both formidable men, and the background music isn't overdone. This is a DVD New Release, so people will be looking here to see if it's worthwhile. I don't know where all the 10's come from, as there's no way this film is that good --- even if you're the filmmaker's mother. <br /><br />The last film we saw at a theater was Warner's trashing of J K Rawlings much-loved and excellent book, Order of the Phoenix. In comparing THE DECOY with PHOENIX, consider that PHOENIX (as made by Warners) had no story, certainly no acting was allowed by the director, the photography was dreadful, and the wall-of-sound overbearing musical score was just a mess. I rated Phoenix a \\1\\\" because the scale doesn't go any lower. THE DECOY is 4 times better -- in all regards.<br /><br />If you have the opportunity, give THE DECOY a chance. Remember, this isn't \\\"Decoy 3 -- the Shootout\\\" or any such nonsense. It's original. If your expectations aren't overblown by the foolish \\\"10\\\" scores here, you might just enjoy the film on its own terms.\"\n",
      "* * * * * * * * * \n",
      "5473\n",
      "I understand what this movie was trying to portray. How the old are often ignored and treated like a bother, which means they end up feeling unappreciated and like their lives are empty.<br /><br />I do not have a problem with this message, but I just feel that it could have been put across in a way that is not so painful to watch. I enjoy a good art movie but when a movie becomes too self-consciously arty (as in this case) the result is often frustrating. Including shots of a person packing a suitcase slowly that take 5 minutes try to make a point but just end up annoying the audience.<br /><br />The female characters are very weak and you end up wanting to just tell them to pull it together. This is a movie you feel you should enjoy or rate highly and certainly has its' merits but I was just too frustrated watching it to ever recommend it to someone else. It might have a deeper message than other Roger Michell movies (for example: 'Notting Hill') but at least that was a movie you could enjoy watching.\n",
      "* * * * * * * * * \n",
      "5475\n",
      "This movie was horrible.<br /><br />They didn't develop any of the characters at all and the storyline was played out horribly. It was a definite sleeper. You'd expect the action scenes on a movie like this to be its strong points but D-Wars surprises you with even a let down in that department. <br /><br />Also, the acting was just a step above the level of a low budget porno flick. And I seriously mean that.<br /><br />I was actually happy to see the end credits on this one cause it was just that bad!!! Please, whatever you do people, don't waste your time and money on a crappy movie like D-Wars.\n",
      "* * * * * * * * * \n",
      "5524\n",
      "This movie was yet another waste of time... Why oh why do I keep renting crap like this?... someone please tell me... *sigh* Oh well. back to the movie at hand: Cube Zero is probably worth it if you REALLY REALLY enjoyed the first movie, (like I did), and just want to check out what's up in the last (hopefully) movie scraped together just to keep some poor actors and screenwriters employed, then of course this is the movie for you. But if you are looking for a good movie with good acting and a fantastic plot... *evil grin* then this movie is definitely for you :-D.... OK I'm lying... At best this movie sucks. OK, I have to admit that certain elements to it was cool.. well.. coolish... and I laughed quite a few times, prolly at the wrong things, but nevertheless I was amused. :-) But all in all the few things that barely makes the \\ok\\\" category isn't enough to make this movie worth it at all.. Unless you count \\\"Manos - Hand of Fate\\\" one of the top ten movies EVER!\"\n",
      "* * * * * * * * * \n",
      "5667\n",
      "I am a Christian... and I feel this movie is awful.<br /><br />Nobody but hard-core, Bible-belt Christians are going to like this movie. The message is just too in your face. If you want to touch a wider audience, you have to be way more subtle. You can't have the dad waving the bible around and carrying it with him in EVERY scene. RIDICULOUS! <br /><br />Poor direction. The reveal of people missing should have been terrifying, but it was laughable. They leave their clothes on the ground? It reminded me of old Ed Wood movies: \\Oh my God! People are missing!\\\" That scene in the plane is just stupid. Think about it: if you found your relative's clothes next to you, you wouldn't just scream \\\"oh my god. they disappeared! they're missing!\\\" and start crying and yelling. You would first be in denial... you just wouldn't jump to that conclusion. Watch Jodie Foster in FLIGHTPLAN. My favorite shot is the dog sitting out on the lawn with a pile of clothes and boots sitting next to him. I about fell off the couch I was laughing so hard.<br /><br />The music was so bad and so distracting. It was as if the composer was in his own world scoring his own movies. \\\"here's my chance to do a thriller\\\", \\\"here's my chance to do action!\\\" STOP TELLING ME HOW TO FEEL JAMES COVELL! A good score supports what's happening on the screen... this movie needed more of an UNDER score, but instead it was as much in your face as the message was.<br /><br />The writing was bland. So was Captain Christian Kirk Cameron. Chelsea was the worse: \\\"you don't understand! People are missing!\\\". Brad Johnson was laughable. The two stand out performances came from the Anti-Christ and the older guy (sorry, can't remember their names) In watching the \\\"making of\\\" (to answer my question of \\\"what were they thinking???\\\"), the producers and filmmakers and actors are just deluding themselves... saying \\\"we're gonna reach wide audiences\\\" and \\\"brad Johnson is amazing\\\" and \\\"this is just like a Hollywood movie\\\". I came to the conclusion that they just don't know what the \\\"heck\\\" they are doing.<br /><br />I commend the effort. Getting the message to a wide audience is a fantastic idea. Film is the best medium possible to do that. Look at movies like WIDE AWAKE, SIGNS, CONTACT, PASSION OF Christ, even O'BROTHER, WHERE ART THOU? The bottom line is that the film needed to be made by people who have talent and vision. Unfortunately, it was not.\"\n",
      "* * * * * * * * * \n",
      "5787\n",
      "This movie is lame and not funny at all. The plot doesn't even make sense. Some scientist who works on the fringes of science opens a doorway to another dimension (maybe hell???) and his daughter gets sucked through it or something, then one day for no apparent reason she comes back and now she has big breasts and wears a skimpy outfit (I guess the demons in the other dimension made it for her?) The main character is a guy who wants to marry his girlfriend but she is gay so obviously she's more interested in her new girlfriend, and they stumble upon this witch spell book (they want to be witches or something???) and the evil spell ends up getting read again which is how the evil demon comes to earth which only the bikini top girl and the spurned guy in love can stop apparently. There is topless scenes for no reason and a guy in it who my boyfriend says is a well known wrestler but his part is completely unnecessary, obviously they made something up just to put him in it because then maybe wrestling fans will actually watch this pointless movie. I'm sure the topless girls doesn't hurt there either. The extra features on the DVD were even more confusing than the rest of the movie, I thought it might help explain what was going on but it actually just made things more confusing. Who are these people and what are they doing? Basically this is a go-camping-to-make-out-then-fight-a-monster movie but there are a bunch of things (like the other dimension and book seller) than make it confusing. I didn't like the movie but it was only like five bucks so big deal. I don't recommend watching it though it was just too stupid, I can't think of any part of the movie that was good.\n",
      "* * * * * * * * * \n",
      "5791\n",
      "Come on. The new twist is nearly ok, but from avenging the Elm Street children Freddy is just killing people now. More of the same: Special effects with no actual character development or anything. Simply bad and insulting. SCARY..? Nope. Not at all. Just bad.\n",
      "* * * * * * * * * \n",
      "5817\n",
      "Oh Geez... There are so many other films I want to see out there... I got stuck with my nephew for the weekend and this is what he wanted - Yeah...<br /><br />I used to watch this show when I was in college...it was mindless, kinda fun, and somewhat action-oriented. The show had a good heart tho...and the characters were cute; no one ever got killed or even hurt badly... it was like a cartoon come to life. Cut to 2005...What happened? This one doesn't work. As others have said, there simply isn't a cohesive story and the performances are weird...almost annoying - definitely not faithful to the original characters...the whole thing is a like a Mad TV skit and it lasts over 100 minutes! This was one of the few times I've been EMBARRASSED watching a film. What were they thinking? As best I can tell, must've been for the product marketing, toys, etc. All I can say is, let this one die a quick death. It makes the original Dukes of Hazzard seem like Masterpiece Theater...<br /><br />I think the only remake left to do from TV is Gilligan's Island... Good Luck!\n",
      "* * * * * * * * * \n",
      "5888\n",
      "Well, I was excited at first to download an animated open source movie, only to be ruined by a demo reel. The animation is excellent, the lip syncing is awful, and you keep watching the movie hoping to understand what's going on, only to realize nothing is going on. You feel no emotion for the characters, only pity for the creators for wasting their time. I have seen short films with twice the emotion in half the time! This could of been an excellent short film, if they had just taken the time to hire a real director. I'm sure everyone over at Blender is excited to showcase their software and its rendering capabilities, but sorry guys-story telling is what makes a movie.\n",
      "* * * * * * * * * \n",
      "5911\n",
      "Early film directed by D.W. Griffith; it features a gloriously happy King (Arthur V. Johnson) and his Queen (Marion Leonard) - but, wait! When the King leaves the scene, his Queen makes music with the palace's Minstrel (Henry B. Walthall). When the King discovers the lovers, he decides to enact a horrific Edgar Allen Poe-type revenge. It's difficult to believe the lovers can't hear those plotting against them; although the actors are trying to look alternately noisy (the lovers) and quiet (the cement mixers). The sets make \\The Sealed Room\\\" look very staged. The performances are okay, and the story is easy to follow. <br /><br />*** The Sealed Room (9/2/09) D.W. Griffith ~ Arthur V. Johnson, Henry B. Walthall, Marion Leonard\"\n",
      "* * * * * * * * * \n",
      "5946\n",
      "There are a lot of pretentious people out there who will pretend that this is endowed with some kind of beautiful meaning, and that ignorant fools like me don't 'get' it. Obviously this means that we should stick to Hollywood dross.<br /><br />It has every, a-hem, artistic cliché in the book - I guess it is good that the director is one of the chosen few. Almost a self parody drowning in its own pretense.<br /><br />The director of the (almost equally embarrassing) movie 'Ratcatcher' returns with another piece wallowing in artistic nonsense; it is difficult to understand and apparently is a study of alienation. The best way to describe this film is alienating for its viewers.\n",
      "* * * * * * * * * \n",
      "6151\n",
      "I grew up (b. 1965) watching and loving the Thunderbirds. All my mates at school watched. We played \\Thunderbirds\\\" before school, during lunch and after school. We all wanted to be Virgil or Scott. No one wanted to be Alan. Counting down from 5 became an art form. I took my children to see the movie hoping they would get a glimpse of what I loved as a child. How bitterly disappointing. The only high point was the snappy theme tune. Not that it could compare with the original score of the Thunderbirds. Thankfully early Saturday mornings one television channel still plays reruns of the series Gerry Anderson and his wife created. Jonatha Frakes should hand in his directors chair, his version was completely hopeless. A waste of film. Utter rubbish. A CGI remake may be acceptable but replacing marionettes with Homo sapiens subsp. sapiens was a huge error of judgment.\"\n",
      "* * * * * * * * * \n",
      "6154\n",
      "When i finally had the opportunity to watch Zombie 3(Zombie Flesheaters 2 in Europe)on an import Region 2 Japanese dvd,i was blown away by just how entertaining this zombie epic is.The transfer is just about immaculate,as good as it's ever going to look unless Anchor Bay gets a hold of it.The gore truly stands out like it should and you can really appreciate the excellent makeup and gore fx.The sound is also terrific.It's only 2 channel dolby but if you have a receiver with Dolby Prologic 2,you can really appreciate the cheesy music(actually a very good score),and the effective although cheap sound effects.It never sounded so good,and the excellent transfer adds to the overall enjoyment.<br /><br />I never realized just how much blood flows in this film,it's extremely brutal with exploding head shots,exploding puss filled mega pimples,a cleaver to a zombies throat,a woman's burned off extremities(how come it did'nt burn the guy also),intestinal munching,zombie babies and so much more i lost track.<br /><br />This is no doubt for hardcore Zombie action fans,especially of the Italian kind.There is some excellent set pieces and cinematography to be found,i think people don't give it enough credit,if you see a clean print,and not some horrendous pirate copy,it's a whole other experience entirely.<br /><br />This film never lets up for a second,and i realize it's inconsistent plotwise,the dubbing is horrible,the acting is stiff,and it's sense of irreverence is celebrated in grand fashion,but that's part of it's charm.<br /><br />To me this is one of the best horror films ever made,you can't make a film this bad,so good,on purpose.It's accidental genius of the highest order.If they played it for laughs it would have been a disaster,but they played it straight as an arrow and the result is a terrific cult classic that thumbs it's nose at any and all traditional moviemaking standards.<br /><br />Tons of action sequences,exotic locales,excellent set design,good,sometimes great cinematography,wonderfully cheesy acting,and inconsistent but still interesting plot,great makeup effects,beautiful women who can kick butt,excellent music,and sometimes hilarious,sometimes creepy,but always entertaining zombies.How can you go wrong with this film,it has it all,a cult classic that stands the test of time.\n",
      "* * * * * * * * * \n",
      "6210\n",
      "I thought the movie was a poor documentary. Nothing of substance was discussed. It seemed to cheapen the ideas and did not provide anything new. The film lacked wonder or romance or anything that would really drive one to science. Most scientists appeared \\stereotyped\\\" and sometimes weird. A woman said that her awards didn't matter a whole lot, only children that were helped. She said that after a 10 minute scene where she explained all her awards. Playing \\\"humble scientist\\\", are we? \\\"I have equations dancing in my head,\\\" another said. I don't see how that explains anything to us. It hasn't covered significant effects of science on our culture. Politics of science were barely touched.<br /><br />Not a bad flick for a 10-14 year-olds. Other than that, I felt it was boring and unrevealing.<br /><br />4/10\"\n",
      "* * * * * * * * * \n",
      "6221\n",
      "I was really looking forward to this movie based on the previews and press it received, but after viewing it I was terribly disappointed. Slums is a totally unfunny film mixed with a Todd Solondz type of disturbing family reality sans Todd's brand of humor. The story drags along and each scene is worse than the last. Maybe I missed the point, but if this film is an example of every girl's growing up experience I am glad to be a man.\n",
      "* * * * * * * * * \n",
      "6325\n",
      "Follows the usual formula in putting a new recruit -- this time the first African-American (Cuba Gooding) after President Truman desegregates the Armed Forces -- through the U. S. Navy's deep-sea diver training program that is run by a racist zealot (Robert DeNiro). If the program weren't bad enough, it's got to be located in Bayonne, New Jersey.<br /><br />There's nothing wrong with the performances. Robert De Niro activates his Southern accent and shouts gibberish effectively. Cuba Gooding, raised by a stern father as a poor black farm boy in the South, is the expectable paragon of rectitude. The girls -- one could hardly call them women -- are Charleze Theron and Lonette McKee. They have minor roles and are mostly there to argue that their men should exercise common sense. Other decent performers -- Powers Boothe and Hal Holbrook -- have even more perfunctory roles.<br /><br />That's about it. Almost everything else could have been assembled by a computer. A ship is called a boat. Robert De Niro salutes indoors, uncovered. After a brutal assault on hospital personnel, he's transferred out of his outfit instead of being busted. Somebody shouts \\I'm outta here\\\" in the early 1950s. (Maybe it was a common expression at the time. If so, \\\"my bad.\\\") People address each other by rank -- \\\"Lieutenant\\\", \\\"Boatswain's Mate,\\\" \\\"Commander,\\\" as they do in the Army, whereas in the Navy they are simple \\\"Mister\\\" (if an officer) or addressed by their last name (if enlisted). I didn't bother to check if there was a rank called \\\"Senior Master Chief\\\" in 1950.<br /><br />Cuba Gooding has a tough row to hoe. Everyone in the Navy, it seems, hates Negroes except for one guy from Wisconsin. He stutters and is held in contempt by the others in his class. It's like the scene in \\\"Animal House\\\", in which the applicant to a tony fraternity is asked to wait in a room with a Sikh, a black man, and a blind kid.<br /><br />Gooding is an enlisted man, a second class petty officer. He manages to marry a beautiful woman who has just graduated from medical school. In one of their arguments she pleads with him. She just wants to be a doctor and he should join her, quit the Navy, and lead a quiet life. \\\"And just let life pass you by?\\\", he retorts. Yes. Yes, just be a doctor's spouse and let life pass you by. You can wave to it from the golf course in Boca Raton.<br /><br />These kinds of flicks were common enough in World War II. \\\"Bombardier,\\\" \\\"Airial Gunner,\\\" that sort of thing. Cheap as they often were, they had some educational features. You learned something about becoming a bombardier or a gunner. Here, the technical details are skipped over, perhaps because the writer knew nothing about them (except Boyle's law, which we learned in high-school chemistry).<br /><br />I couldn't follow what was happening during some of the emergencies without which a movie like this wouldn't exist. If I got the mechanical problems right, it was because I guessed correctly. The direction is no help either. The movie abounds in close ups, so many that they lose any dramatic impact they might have had. And the emergencies are confusing because they're ill focused.<br /><br />Why go on? Want to see a better example of this kind of movie? Almost any will do -- except maybe \\\"G. I. Jane\\\", in which the abused hero is a heroin. Try the training camp scenes in \\\"The Young Lions.\\\" There the victim is a Jew. Or try \\\"From Here to Eternity,\\\" in which no easy sympathy buttons are pushed and the victim is a grown man who refuses to bend and who is active in bringing the conflict on, just like \\\"Cool Hand Luke.\\\" No easy excuses are offered, because easy excuses are too easy.<br /><br />Thoroughly formulaic, and not well done.\"\n",
      "* * * * * * * * * \n",
      "6548\n",
      "In light of the recent and quite good Batman the Brave and the Bold, now is the time to bear a fatal blow to that mistake in the life of Batman. Being a huge fan since the first revival by Tim Burton 20 years ago, I have been able to accept different tonalities in the character, dark or campy. This one is just not credible : too many effects, poor intrigues and so few questions. What is great about Batman is the diversity of his skills and aspects of his personality : detective, crime-fighter, playboy, philanthropist etc. The Batman shows him only in his karate days. And by the way, how come the Penguin is capable of such virtuosity when jumping in the air regardless of his portly corpulence ? And look at the Joker, a mixture of Blanka in Street Fighter 2 and a stereotypical reggae man, what Batman fan could accept such a treason ? Not me anyway. Batman is much better without \\The\\\" article in front of his name.\"\n",
      "* * * * * * * * * \n",
      "6634\n",
      "Just like last years event WWE New Years Revolution 2006 was headlined by an Elimination Chamber match. The difference between last years and this years match however was the entertainment value. In reality only three people stood a chance of walking out of the Pepsi Arena in Albany, New York with the WWE Championship. Those men were current champion John Cena, Kurt Angle and Shawn Michaels. There was no way Vinnie Mac would put the belt on any of the rookies; Carlito or Chris Masters. And Kane? Kane last held the WWE Championship in June 1998, and that was only for one night. It was obvious he wasn't going to be the one either. Last years match was a thrilling affair with six of the best WWE had to offer. 2006 was a predictable and disappointing affair but still the match of the night by far.<br /><br />The only surprise of the evening came after the bell had run on the main event. Out strolled Vince McMahon himself and demanded they lift the chamber. It was then announced that Edge was cashing in his money in the bank championship match right then and there. With no time to prepare and just off the back of winning the Elimination Chamber match John Cena did not stand a chance and dropped the title after a spear to one of the most entertaining heels in WWE. This was the only entertaining piece of action that happened all night.<br /><br />The undercard, like last year, was truly atrocious. Triple H and The Big Show put on a snore fest that had me struggling to stay away. HHH picked up the win but that was never in any real doubt was it? Any pay-per-view that has both Jerry Lawler and Viscera wrestling on the same card will never have any chance of becoming a success really does it. The King pinned Helms (who books this stuff?) and Big Vis tasted defeat against the wasted Shelton Benjamin with a little help from his Mama.<br /><br />The women of the WWE also had a busy night. There was the usual Diva nonsense with a Bra and Panties Gauntlet match which was won by Ashley and the Woman's Championship was also on the line. In a match, I thought would have been left to brew till WrestleMania 22 Mickie James challenged Trish Stratus in a good match. Trish won the contest but it was evident that this is going to continue for the foreseeable future.<br /><br />The opening contest of the night pitted soon to be WWE Champion Edge against Intercontinental Champion, Ric Flair. This could have been better but it was a battered and bloody Flair that retained after a disqualification finish. Edge obviously had bigger fish to fry.<br /><br />So New Years Revolution kicked off the 2006 pay-per-view calendar in disastrous fashion. The only good thing from that is knowing that for the WWE the only way is up. They don't get much worse than this.\n",
      "* * * * * * * * * \n",
      "6819\n",
      "My 7-year-old daughter loved it, as Disney execs crassly calculated that she would. That's the problem with \\Air Buddies.\\\" It's a strictly by-the-numbers children's film filled with carefully calculated cuteness, a couple politically correct morals, and enough potty humor to avoid the dreaded G rating. As a parent, or even as a 10-year-old, you've seen it all before, and done better before. Think \\\"101 Dalmatians Meets Home Alone\\\" and you get the general idea. I'm of the opinion that a good children's story is a good story, period. \\\"Air Buddies,\\\" which is about as original as recycled paper, fails to meet that standard. It isn't the worst video your child could watch, but there are megatons of better ones.\"\n",
      "* * * * * * * * * \n",
      "6853\n",
      "I question its importance to Queer Cinema as it seems to be more about having a homosexual encounter via violent behavior than making any clear statements regarding homosexuality and violence.<br /><br />Three tales are tangled together in a rather sloppy manner. I found myself trying to untangle the messy narrative in the first 15 minutes, that alone didn't sit well with me. Weak plot points were endlessly repeated as though we might not have gotten it the first 10 times.<br /><br />There was a feeling of padded dialog throughout the film. More like a 45 minute Boy's Brief short rather than a fleshed out full-length film. It had a certain erotic flair, male nudity and sex appeal but overall the sum did not equal its parts.<br /><br />The 1st part: Boxer/Stalker storyline was the strongest and yet it too felt like it had been pulled thin. Bob has been following Tim for four years and only now is he confronting him? I felt as though their cat-mouse game was not developed enough to merit its conclusion. We needed more information about them and less Parking Lot/Locker scenes with Tim relentlessly saying \\What do you want?\\\" <br /><br />The 2nd part: Danny wants his buddy, Tony, to beat him up while he jacks-off. Tony doesn't seem to mind, but he doesn't even appear interested in exploring the implications of his homo erotic hobby -- not even after they do it in the nude. This tale lacks the all-important transition from \\\"I'm a straight boy smacking my guy friend around for fun\\\" to \\\"I think I might be gay and hitting him because I'd like to spread his ass and do him S/M style.\\\" A very important thing to leave out.<br /><br />Clearly these stories each could have conveyed their points in half the time. The 3rd part with the man and woman slapping each other around adds to that thought. Furthermore, it was unnecessary and added nothing to the film. Yes, the actors did a fine job under the circumstances and the four male leads were very sexy. The make-up (bruises and cuts) however was on par with a grammar school talent show.<br /><br />There wasn't enough meat to this story to have any impact on the gay politic. The film made no statement, squandered time, and is not engaging or worthy enough for thoughtful investment. Its fatal flaw is its amateurish approach, that makes it ultimately impossible to take seriously.\"\n",
      "* * * * * * * * * \n",
      "6863\n",
      "Posh Spice Victoria Beckham and her alleged new adventures after just moving to LA for work purposes (footballer hubby David is now a Galaxy LA player after his transfer from Real Madrid) was originally going to be a full series,but was thankfully abridged to just one hour or so.But even in this form,it is still numbingly interminable.<br /><br />Like virtually all 'reality' TV shows,most of the incident comes across as blatantly faked,with the programme itself even admitting that Posh's newly appointed personal assistant is an actress.An Ugly-Betty lookalike,we hear some lamely written and performed banter early on(with an obvious joke about Becks' apparent dalliance with a previous,and rather more glamorous PA Rebecca Loos,though her name is not mentioned) with further sequences involving a fake blow-up doll to trick the paparazzi and hopeless attempts to pitch a baseball.<br /><br />This could have been more entertaining if all had acknowledged it was a piece of fluff,and had an actress or impersonator in the lead role.Talented impressionist Ronni Ancona would've been perfect and is better at being Posh than Posh herself is,and if this more sensible decision had been taken,much more fun and amusement would've ensued.Sadly,we are left with the real thing here (Ms Ancona may have rejected the script as too weak anyway),and although there are odd scattered attempts at self-deprecation and irony,it never remotely works because of prior info of La Beckham's considerable wealth beforehand,and her non-ability at delivering would-be jokes;despite the intentions to send up her image,Mrs Beckham comes across as a shallow egotist,and her weak one-liners don't persuade us she has any humorous self-awareness.I suspect that if a more realistic fly-on-the-wall documentary approach had been taken,namely Posh walking down any street in LA and being totally ignored (instead of the frantic,staged scenes of mild hysteria on show here), and associates making unscripted jibes about the previously mentioned Ms Loos,this would've made marginally better TV,but being sycophantic PR material,the bony one herself would never allow such events to happen.<br /><br />Having said that,the later scenes where she made a special appearance at the baseball stadium where she was indifferently presented in front of an uninterested crowd show it will be tough times ahead if she wants to make it big in Hollywood.Her colleague Scary Spice (aka Mel Brown) also found it impossible to make it big residing in the movie capital despite her affair (which was not consummated) with big name Eddie Murphy.<br /><br />The Spice Girls were of course a massively successful bubblegum pop group in the mid 1990's,more so in their native Britain but still popular briefly in other countries,including the US.They were certainly good fun at their peak of glory (1997) when there seemed to be a glorious period of optimism in the UK with Cool Britannia and a New Labour government which The Spice Girls seemed to sum up better then anyone else at the time,even if it was somewhat manufactured.But they were never outstanding musical or singing talents,and UK optimism seemed to fade rapidly later that year (the starting point was arguably the tragic death of Princess Diana),as did The Spices' themselves.Their presence on the music and entertainment scene soon became repetitive and obvious,and if they had all quietly moved out of the public eye permanently with dignity to enjoy their fortunes, then we would have all had pleasant memories encrypted on our mind without any guilt.Unfortunately,the emergence of the hideous 'celebrity' culture in the UK towards the start of the millennium has put paid to those imaginings,and we have all suffered thousands,if not millions of stories about the Spices since,Posh being the worst offender,with the rest of her colleagues not too far behind.It was recently announced that there will be a reunion tour soon,which is baffling as they have never gone away and they certainly don't require any additions to their swelling bank accounts.Maybe it's because two of them are struggling single mothers,perhaps?<br /><br />Good,it's soon time for Becks' adventures on a revelatory documentary next,I can hardly wait.............<br /><br />Rating:2 out of 10.\n",
      "* * * * * * * * * \n",
      "6898\n",
      "This is not a very good movie, but it's not a stinker either. It is very confusing and unnecessarily long so rent it at your own risk.<br /><br />My GF and I have figured this movie out (we think) so here it is:<br /><br />***MAJOR SPOILERS BELOW***<br /><br />Firstly, this movie is actually quite simple after you remove all of the confusing unconscious-dream-state junk (95% of the movie.)<br /><br />Ignoring the junk, what REALLY happened is this: A group of school friends go to a rave one night. They leave and get into a car accident where everyone but Cassie and Sean die. That's the simple cut down version. (That's right, I said Sean, bear with me)<br /><br />Right after the accident, Cassie lays in the hospital stuck in between life & death right up until the very end of the movie. This is where the dream part starts.<br /><br />The movie is called SOUL Survivors, right? Cassie's mind and soul carries on after the accident interacting with the other souls (Annie, Matt, Raven, the 2 weirdos and Jude) along with images conjured up by her mind (Sean, school and everything else around her). The souls continue doing what they were defined as: Annie the rave-going chick, the 2 weirdo-killers (from opening scene), Father Jude still helping people etc.<br /><br />We are then taken on a very long ride, shown lots of images (many of which my GF and I still can't tie in) but it all boils down to it not being Cassie's time to die.<br /><br />At the end, Cassie wakes up in the hospital after being \\dead\\\" for a while. Her family and Sean are there. This is reality again. She's OK.<br /><br />Then the director adds a little extra spice by trying to confuse us again by showing a little dream snippet of her in the wheelchair being strangled. But this part is really just a nightmare, and she wakes up beside Sean, obviously still dealing with her traumatic experience.<br /><br />Due to space restrictions, we didn't cover every little thing, but feel free to drop us an e-mail if you want to.<br /><br />\"\n",
      "* * * * * * * * * \n",
      "6958\n",
      "I rented this movie about 3 years ago, and it still stands out in my mind as the worst movie ever made. I don't think I ever finished it. It is worse than a home video made by a high school student. I remember them doing a flashback to 1970 something and in the flashback there was a man with a polo shirt, oakley sunglasses and a newer SUV, like a Toyota Rav-4 or something (I don't remember). I don't understand how they could have possibly said that to be in the 70s. He might have had a cell phone too, I cant remember, It was just horrible. I returned it to the video store and asked them why they even carry the movie and if I could get the hour of my life back. To this day it is the worst movie I have ever seen, and I have seen some pretty bad ones.\n",
      "* * * * * * * * * \n",
      "6989\n",
      "Jude Law gives his all in this beautifully filmed vampire flick which offers little else of value. Completely lacking in eroticism, excitement, or leading ladies with appeal. One decent fight, a few moments of mild suspense. And a one-note plot.<br /><br />The movie waxes philisophic in a series of conversations between Law's character and a dogged homicide detective, well played by Timothy Spall. But despite their best efforts, both actors are staked to the cross of the film's banality.<br /><br />With a lesser actor in the lead role -- and without the benefit of Oliver Curtis's cinematography -- Crocodiles would blend into the sea of low-budget vampire quickies.\n",
      "* * * * * * * * * \n",
      "7223\n",
      "When I was a kid we always used to be babysat, and we always used to rent a film or see a film at the cinema. This is one of the films we watched. This is one of the stupidest films I've ever seen, I think it might even be a Walt Disney Pictures film! A martian is dropped on earth, turns into a human, befriends a human, and is trying everything he can to get back home. But he is distracted by the wonders of the Earth. The only good comment I can give is the choice of actors, Back to the Future's Christopher Lloyd as the martian, Uncle Martin, Dumb and Dumber's Jeff Daniels as Tim O'Hara, Elizabeth Hurley as Brace Channing and Daryl Hannah as Lizzie. But apart from that it's complete crap. Poor!\n",
      "* * * * * * * * * \n",
      "7254\n",
      "The school nerd Marty (Simon Scuddamore) is sexually humiliated by a bunch of classmates and then is in a lab explosion (set by them also) where his face is scarred by acid. Years later all the jerks get invited back to the high school (since closed) for a reunion. What they didn't know is that Marty is inviting them back to kill them. Then a storm starts, they're locked in the school and Marty starts to take revenge.<br /><br />Pretty silly. The murders are inventive and gory and there are some creepy atmospheric shots of the deserted school--but that's about it. The humiliations inflicted on Scuddamore are more than cruel (he's stripped, has his head dunked in a toilet AND gets burnt) and are just uncomfortable to watch. Considering Scuddamore committed suicide shortly after this was released make them almost impossible to view. Also this movie goes out of its way to have nudity. There is full frontal of Scuddamore (surprising for any movie) but one girl decides to take a bath alone...AFTER they know a killer is wandering around after them! And then there's the couple that has to have sex. This is the type of film where the killer seems to know where everybody is going to be and can teleport himself to them. It ends with a twist which had me groaning and rolling my eyes then ANOTHER twist which had me wanting to throw something heavy at the TV! The acting is bearable--not good, but bearable. Caroline Munro is in this too. She's a very beautiful woman but not much of an actress.<br /><br />This gets a 3 for some effectively gory murders and atmosphere. Otherwise it's run of the mill and forgettable. Scuddamore's tragic suicide has given this film more attention than it deserves.\n",
      "* * * * * * * * * \n",
      "7299\n",
      "OK, as everyone has pointed out, this film is a complete dog. To some degree this is because it was a gory sexploitation film that had a lot of material excised (or darkened down to near invisibility) to escape the censor's X-rating; but the film has many other flaws as well.<br /><br />To begin with, the scriptwriter seems to have got his werewolves and vampires mixed up. The baddies in this film are furry and don't like silver but in every other respect they behave like vampires. Now you just can't do that with a crappy genre flick, you've got to stick to the rules of the genre or the fans get all confused and annoyed by suspending disbelief in the wrong thing. In fact the whole (confusing and poorly presented) plot is something that has already been done for vampires, but doesn't make any sense in a werewolf movie.<br /><br />Secondly, the werewolf costumes are the lamest you have ever seen. Anybody in the werewolf movie business ought to know that the werewolf costumes and transformations are something the fans assess critically, yet some of these werewolves are just plain goofy.<br /><br />There are a couple of slightly good bits. I actually quite liked the score. Others have mentioned Sybil Danning's tits. And...<br /><br />(***SPOILER***, if such a thing can exist)<br /><br />I also quite liked the plan for attacking the werewolves' stronghold. There are so many horror movies that rely on characters behaving stupidly, but in this case they first acquire a very sensible and effective anti-werewolf arsenal and go slaughter the monsters. I mean, you can kill werewolves with silver bullets, and we have some pretty powerful firearms these days. Shouldn't be too hard to put two and two together, hmm? But in typical style this movie goes over the top and adds some other very zany and amusing anti-lycanthrope weapons.\n",
      "* * * * * * * * * \n",
      "7329\n",
      "As an avid fan of Cary Grant, I expected to watch this movie and howl with laughter, as AMC billed it as a comedy. I have never been more disappointed with a film! Cary's usual charm and effortless comedy are AWOL from this entire movie; he comes across as strained, bored, and just not himself. Mississip's character ranks among one of the worst stereotypes I have ever witnessed - his accent is terribly exaggerated (and incorrect, according to which part of Mississippi he claims to hail from), and whenever he does deliver a line, it's several decibels higher than any other cast member. Mississip tried to make himself stand out in the film as a lovable, country-bumpkin goofball, but in the end, he manages only to detract from the already weak plot. Mansfield looks more like an obscene blow-up doll than a Hollywood sex kitten, and while she was never known in Hollywood for her acting ability, this film screams that she never had that ability to begin with. Ray Walston's character was sugary and ultimately contrived. For four men on shore leave, it was the tamest leave I've ever seen. I watched this nightmare until its very end, and while I won't spoil that for anyone, I will tell you that it's the most absurd you'll ever see. The film tries to spark patriotism and a sense of debt to the fighting men, but the film misses that point totally because of its weak plot line and weak cast. Sorry, Cary!\n",
      "* * * * * * * * * \n",
      "7708\n",
      "This may be one of the worst movies to ever make it to production, ever.<br /><br />1. The most exciting part is the beginning, where the guy is walking... and walking... and walking (spoiler). There is about 15 minutes of just walking. How? <br /><br />2. Not to mention there's a lot of issues with the lighting, and it's almost like they even shot the night scenes during the day. <br /><br />3. The acting was TERRIBLE. It looks like they found a community theater (in Mexico)... and then took the people who were turned away.<br /><br />Please, for the love of everything holy, don't rent this movie. If you know someone who owns it, apologize to them. The director should be subject to punishment through the war crimes tribunal for foisting this on the public.\n",
      "* * * * * * * * * \n"
     ]
    },
    {
     "name": "stdout",
     "output_type": "stream",
     "text": [
      "7733\n",
      "I was VERY disappointed with this film. I expected more of a Thelma and Louise female-buddy crime movie. Instead, the women prison escapees in this flick, had no sense of loyalty to one another. They were an extremely vulgar pack of hyenas, who beat each other up, double-crossed each other, and even committed lesbian rape against other women in the film.<br /><br />Instead of being shrewed thieves, who stuck together to plan their escape and find the hidden stash of money, the women escapees were too selfish and vicious, to trust each other for long. These women weren't liberated in a positive sense. They just ended up being a bunch of loose-cannons, incapable of respect for themselves, or each other. If you like 70s female crime caper films, skip this bomb, and see The Great Texas Dynamite Chase, which stars Claudia Jennings and Jocelyn Jones.\n",
      "* * * * * * * * * \n",
      "7928\n",
      "::POTENTIAL SPOILERS::<br /><br />Man, this movie was awful. A Catholic/superstitious/suspense thriller it goes over already well tread ground from previous movies.<br /><br />The doubting priest. Sex and the priesthood. Politics and religion. Church hypocrisy. Conspiracy involving the church. The dawn of a new evil age. All kinds of dark magic voodoo battles between good and evil.<br /><br />Pretty stupid and lame with a weak storyline to suffice. The story revolves around two concepts: Absolution, better known as the Sacrament of Anointing the Sick - the last rights a person can ask for to cleanse one's sins while on the brink of death; And Excommunication, the act of cutting a person off from the Church. Basically, an Excommunicated person can't receive Absolution. Thus comes in the Sin Eater, and I'll leave it at that. Throw in all the dopy things I already listed and you have \\The Order\\\".<br /><br />I found the sex scene with the priest interlaced with shots of a picture of the Virgin Mary rather insulting to Catholics. It also ends with Heath Ledger saying (I paraphrase) \\\"I am the redeemer and damner of sins, I live on without love blah blah blah\\\" /cue him walking in dark alley with long trench coat alla \\\"The Matrix\\\".<br /><br />I gave this movie a 1 for not only being crappy and unoriginal but also because it managed to insult an entire faith in the process. If you want to see something better I suggest \\\"The Prophecy\\\" with Christopher Walken.\"\n",
      "* * * * * * * * * \n",
      "7951\n",
      "In the small American town of Meadowvale Dr. Anthony Blake (David Gale, the IMDb listing for this character is wrong it's definitely Dr. Blake not Dr. Blakely) is the director and founder of the famed 'Psychological Research Institute' and also host's a local T.V. programme called 'Independent Thinkers'. He uses this T.V. show to hypnotise the viewers and make them commit acts of violence. Dr. Blake has the help of a large brain with an evil face that uses it's spinal cord as a tail thingy. Usually the brain is just sitting in a tank, eats mice and the odd bad actor, each time it eats someone it gets much bigger. Meanwhile at the local high-school gifted but troublesome teenager Jim Majelewski (Tom Bresnahan) has been caught putting Sodium down the toilets. Jim is sent to Dr. Blake at the PRI for help with his attitude and behavioural problems. While there Dr. Blake hooks Jim up to, well something I'm not actually sure what. This whatever it is, is attached to the brain. At first Jim is able to resist the brain's mind control. The brain feels that Jim is a threat to itself and it's plans. Once out of the PRI Jim starts having bizarre hallucinations and crashes his car. Jim makes it to his waitress girlfriend Janet (Cynthia Preston as Cyndy Preston) but is handed back to Dr. Blake's assistant Verna (George Buza) soon after by Officer Marks (Harry Booker). The brain wants to kill Jim because he is the only one capable of withstanding it's mind control techniques, and with 'Independent Thinkers' going national the brain doesn't want anything or anyone to stop it's evil plan for world domination! Jim quickly realises that the brain is controlling the entire town and he alone must stop the brain, before it takes over the world!<br /><br />Directed by Ed Hunt who calls himself Edward Hunt here, the Brain wasn't as bad as I thought it was going to be. Don't get me wrong as it certainly isn't great either. The script by Barry Pearson tries a stab at satire with the brain washing and mind control by T.V. storyline. It moves along at a fair pace and isn't too boring. No explanation is given for the existence of the brain at all, it's just there and that's it we have to accept it. The story is a little choppy and never fully explores one single element, there's the T.V. mind control, the brain itself, Jim being hunted by the police & his misbehaviour and various other little bits and pieces here and there including a bizarre revelation regarding Dr. Blake that isn't explained at all. Production wise this film looks cheap, and probably was cheap. The acting isn't great but I've seen worse, and what is David Gale doing in this? In fact this role is similar to Gale's role in Re-Animator (1985) even down to his character's deaths in both films. The brain itself at first sits in a tank and starts to grow whenever it eats someone and by the end it is pretty big. Each stage is just made of rubber. It doesn't look particularly good and isn't scary or creepy, just cheap. There's no blood or gore in it apart from a blink and you'll miss it decapitation. The nudity is provided by Dr. Blake's assistant Vivian (Christine Kossak as Christine Kossack) before she gets eaten. The brain had a certain entertainment value for me but I would think most people would dislike it. Maybe worth a watch if you can see it on T.V. for free.\n",
      "* * * * * * * * * \n",
      "7963\n",
      "One of the most boring slashers ever.. If you can even call it that. I wouldn't watch this if it even ended up being some kind of porno movie, which it completely resembles. The fact that you're watching a small group of middle-aged people in the woods is really unbearable. They made these kinds of movies for teens, so who were they really aiming for when they made this sleep-fest? My favorite part of this movie is the cover art and it's the only reason I chose to seek out this movie, which happened to be part of a Suspense Classics 50 Movie Pack.. and after seeing the other movies in this 50 pack, you'll realize that it belongs nowhere else. So if you're in the mood for a decent slasher in the woods, I recommend Just Before Dawn and The Final Terror.\n",
      "* * * * * * * * * \n",
      "8100\n",
      "(NOTE: I thought I'd be the only one writing what I did below, but I see the others here agree. I guess it was pretty obvious - this was overdoing the bait-the-cat bit. Anyway, here is what I had written:)<br /><br />The owners have left on vacation for two weeks - a trip to California - leaving the cat (Sylvester) all alone and locked in the house. That means no milk, but the cat, to his relief, does find a bunch of canned tuna. However, to his dismay, he can't find the opener.<br /><br />It turns out the little mouse in the house has it...and baits the cat with it. This is a mean rodent who keeps teasing Sylvester with the opener and then yanking it away at the last second. Sylvester tries everything possible to open the can of tuna but can't do it. <br /><br />This is a frustrating story, and why they make the sadistic mouse the \\good guy\\\" is beyond me. It's like some of the Tom & Jerry cartoons where poor Tom always gets the worst of it even though many times the little mouse starts the conflict!\"\n",
      "* * * * * * * * * \n",
      "8165\n",
      "I watched this movie on march 21 this year.Must say disappointment.But much better than \\Tridev\\\".Plot is hackneyed.Tells about Prabhat who lives with his father,Wife and his little brother.The movie opens when he saves a bride.Anyway.Azghar Jhurhad makes a plot to kill his young brother.He makes a plan by sending few man.They come to a school pretended to be Prabhats friends.Kill that kid.His father throws him out of the house.Then later comes back.He and Aakash go to Kenya to find him.Sunny gives a good performance,Chunky was annoying at best,Naseerdun is wasted.Divya did good,Sonam was wasted,Jyotsna was wasted but looked cute.The kid which played Sunnys brother in the movie was cute.Too sad he had to get his character killed.The girl was cute but was annoying.The other kid did good.Alok did good.Kiran was adequate.Amrish and Gulshan did good.The cinematography is excellent in both India and Kenya.Script is weak but has a few good dialogs.Also drags .The movie.The music was alright.I only liked one song\\\"Saat Samundar\\\" the lyrics of that song was good.The other songs were forgettable.Don't watch this. Rating-3/10\"\n",
      "* * * * * * * * * \n",
      "8170\n",
      "Paul Armstrong is a liberal, Scottish-born, professor of law at Harvard, known for his passionate opposition to the death penalty, who is hired to take on the case of Bobby Earl, a young black man from Florida who has been convicted of the rape and murder of Joanie Shriver, an eleven year old white girl. Earl claims that his confession to the crime was obtained under duress by a sadistic police officer and that the real murderer is Blair Sullivan, a serial killer already under sentence of death for several other murders. Armstrong visits Sullivan in his cell on death row, hoping to persuade him to confess to Joanie's murder, thereby saving Earl from the electric chair. <br /><br />At first all goes well. Sullivan confesses and Earl is released from prison when the appeal court quashes his conviction. As this development takes place only a little after halfway through the film, it is at this point that alarm bells will start ringing in the mind of the viewer. \\Warning! Major plot twist ahead!\\\" And so it proves. The anticipated twist soon materialises. Earl, it transpires, is actually guilty of the crime of which he has just been acquitted, and probably of several others as well, but hatched a diabolical plan together with Sullivan in order to secure his freedom; Sullivan will confess to Joanie's murder if Earl will murder his parents. (Just why Sullivan wanted his parents dead is never precisely explained). Armstrong now finds that he is himself in danger from the man whose life he has just saved; Earl has a grudge against Armstrong's wife, herself a lawyer, who acted as Counsel for the prosecution in an earlier case when Earl was accused of rape. <br /><br />\\\"Just Cause\\\" is an example of the auto-cannibalism in which Hollywood sometimes likes to indulge, cobbling together one film by recycling themes and plot devices from a number of others. The first half owes an obvious debt to films like \\\"Intruder in the Dust\\\" and \\\"To Kill a Mockingbird\\\"; about the only difference is that the Sheriff who beats a confession out of Bobby Earl is himself black, whereas in earlier films he would have been white. (Police brutality is now an equal opportunities activity). The central twist in the plot was borrowed from Costa-Gavras's \\\"Music Box\\\", although in that film the revelation does not occur until the very end. The finale, in which a lawyer, his wife and their young daughter are in danger from a former client, is an obvious plagiarism of the two versions of \\\"Cape Fear\\\", which also take place in the swamplands of the American South. Ed Harris' characterisation of Sullivan as a Bible-quoting religious maniac is a direct imitation of Robert de Niro's character in the Scorsese version of \\\"Cape Fear\\\", made four years before \\\"Just Cause\\\". <br /><br />(There is a postscript. Just as \\\"Just Cause\\\" borrowed heavily from several other movies, seven years later its central plot twist was, in its turn, to be blatantly plagiarised in the Ashley Judd vehicle \\\"High Crimes\\\"). <br /><br />The trouble with this style of film-making-by-numbers is that the resulting films are generally much less distinguished than those which inspired them. The whole is normally very much less than the sum of the parts, and \\\"Just Cause\\\" is a much lesser film than any of those which were cannibalised to make it. Harris is normally a gifted actor but this is one of his weakest performances, largely because he is not so much playing a character as playing de Niro playing Max Cady. Blair Underwood is OK as Bobby Earl the (supposedly) innocent young man of the early scenes, but unconvincing as Bobby Earl the murderous psychopath of the later ones. Sean Connery as Armstrong and Laurence Fishburne as the black Sheriff are rather better, but neither is good enough to save the film. (Connery and Harris were to act together in another, better, film, \\\"The Rock\\\", the following year). <br /><br />There is another problem with \\\"Just Cause\\\". The first half of the film looks like a standard liberal \\\"issue\\\" movie, anti-death penalty, anti-racist and critical of heavy-handed policing. The second half looks more like the work of a die-hard reactionary, preaching the message that all criminals are evil bastards, that the only way to deal with them is to fry them in the chair, that liberal lawyers are the useful idiots of the criminal fraternity and that police officers who beat up suspects are to be commended as heroes. The filmmakers seem to have been blissfully unaware that the plot twist casually introduced into the middle of their film had the (presumably unwanted) effect of reversing its political stance, or if they were aware of the problem they ignored it. A suitably convoluted plot was obviously thought to be more important than political consistency. 4/10\"\n",
      "* * * * * * * * * \n",
      "8249\n",
      "A wealthy Harvard dude falls for a poor Radcliffe chick much to the consternation of his strict father (Ray Milland).<br /><br />Syrupy, sugary, and most of all, sappy story about a battle of the 'classes' when rich-kid Ryan O'Neal brings home a waif of a librarian for his snobbish parents to ridicule. Ali MacGraw is the social derelict with the filthy mouth while John Marley plays her devout-Catholic father, but no one in the film is more annoying than O'Neal himself with his whimpering portrayal as Harvard's champion yuppie.<br /><br />Followed 8(!) years later by 'Oliver's Story'.\n",
      "* * * * * * * * * \n",
      "8408\n",
      "It figures this is a French film, LOL, with the emphasis on young girls with much older men...why is it the French are so fixated on this kind of thing? When the age difference is this great, it really comes off as pervy! Valentina Cervi is beautiful (she bears a strong resemblance to Olivia Hussey, of Zeffirelli's '68 Romeo and Juliet, set in a similar period), but she looks about 15 and the actor playing Tassi, her painting instructor, looks...well, 50 is KIND.<br /><br />Other posters have done the work of explaining the historical record (unusually detailed in this case) of the real Artemisia, a great artist and one of the earliest recognized female painters of this period (17th century). Her story speaks to us in modern times particularly because of the age-old accusation that \\all great artists were men\\\" -- she pretty much blasts that assertion to bits -- and because the story of her rape trial is so poignant. Not only was she clearly assaulted, and forced into a degrading sexual relationship (because in those days marriage to your assaulter was the only way to avoid social shame), but Tassi was a serial rapist and possibly killed his wife and child.<br /><br />The movie does a terrible disservice by inverting this truly fascinating and remarkable real life story -- very dramatic and not in need of any \\\"spicing up\\\" -- because in some weird Frencified way, it's \\\"hotter\\\" to have an oversexed teenager drawing male sexual organs and having a hot love affair with a man old enough to be her grandfather. That's \\\"sexy\\\" -- the truth is boring and seems too feminist/politically correct.<br /><br />It also disturbs me that this is ONLY part of Artemisia life considered interesting enough to film. The fact that she painted for decades (her famous painting of Judith beheading Holfernes was painted AFTER, not before the rape), that she was the first woman admitted to the prestigious Florentine Academy, that she went on to have children...oh that's boring stuff. After all, that's about a middle aged woman and they aren't \\\"hot\\\" like teenagers.<br /><br />I understand that there is a lot of creative license in making a film (or a book) about a real historical character. You need to create dialog, have subplots, create dramatic structure. Certainly some details can be sacrificed -- it's no big deal if the dates are moved a few years, or if Artemisia is played by a blonde actress (when we know from her self portraits that she was a brunette...and a big boned one, not a skinny minny), or something like that. But to turn her story around on her, and make rape into a romance is actually sick and disturbing. It's even worse because the director is female. She should be horribly ashamed of herself!<br /><br />If you LIKE this (and I know some people could care less about the real woman artist and just like period costumes and hot sex), you will probably like \\\"Dangerous Beauty\\\" with Rufus Sewell and Catherine McCormack. Similarly based on heavily re-written history, with lots of heaving bosoms and jewel encrusted goblets: Bon Appetit!\"\n",
      "* * * * * * * * * \n",
      "8484\n",
      "This movie gets both a 6/10 rating from me, as well as a 9/10. Here is why: As a standard horror movie for the standard horror crowd, where action and gore and scares are taken into consideration, this movie WILL bore you. It's basically a family drama similar to what you'd see on the Lifetime channel, but put in a horror universe. The story and formula are age-old, retreaded hundreds of times. If you're looking for any originality in the plot structure or the minimal conflicts, you'll be disappointed. Take away the zombies and you'll have something just as melodramatic as A Beautiful Mind, tripping on cheese. This is the 6/10.<br /><br />However, the basic synopsis and idea is pretty original and over-the-top. It's literally something you and your friends would joke about when you're half-drunk . . . but that joke actually got a theatrical release. The idea gets a 9/10 from me. The only reason it isn't perfect is because they could have taken it even further, but they didn't.<br /><br />The mix of both is mixed. I thought it was funny, but as with most all comedies, it wasn't THAT funny. I had my mom and little sister watch it with me and the jokes we made about it were funnier than the jokes scripted. There were moments of utter genius, but there were also moments of pure boredom.<br /><br />I sincerely hope that other movies take this kind of over-the-top risk and original ideas. I just can't say it was perfect, or even near it, because of the lack of originality to the plot.<br /><br />A GREAT family movie. A great movie to watch with a bunch of guys (or girls). A great movie to watch with anyone . . . but if you watch it alone, it will be a bit boring. Other people always make this kind of movie funnier and richer.<br /><br />4/10\n",
      "* * * * * * * * * \n",
      "8564\n",
      "Spencer Tracy and Katherine Hepburn would roll over in their graves if they knew this Guess Who's Coming to Dinner Rip Off was actually in theaters. Along with Sidney Poitier and Katherine Houghton these four brilliant actors made a great cultural statement with Director Stanley Kramer's 1967 master piece. This present day rip off is a joke. So a white guy from an overly stereotyped Italian family in Rhode Island brings his African American girlfriend home (Insert GASP here) to his grand father's funeral. His family members reactions were of course....predictable. This movie was so painfully telegraphed from start to finish my girlfriend actually started fake snoring to signal to me that she wanted to leave. Do yourself a favor and rent the original. Take a pass on Wake.\n",
      "* * * * * * * * * \n",
      "8632\n",
      "This movie was based on actual fact? I sincerely hope not!<br /><br />We get to see what appears to be numerous armed cops empty an equal amount of guns at 2 guys who only got armored torso's. That's a great idea; aim for the armor!...excuse me, but how about those big fat unmissable heads or their legs for crying out loud. Or were there invisible tanks protecting them? were they from Crypton?Did i miss something here?<br /><br />This movie started out decent enough but after 20 minutes of shoot-out it really takes a turn to boringlane.<br /><br />And that documentary style didn't work for me either, but thats just something one finds likable or not.<br /><br />Highly unbelievable stuff which makes it hard to see it through 'til the end.<br /><br />3/10 for the fine editing.\n",
      "* * * * * * * * * \n",
      "8723\n",
      "Evidently when you offer a actor enough money they will do anything. I am not sure how much John Rys-Daves got, but most of the money he made should go to his fans as an apology for even being associated with such a ROTTEN movie. The special effects were worse then effects from the 1950's B movies and the acting of the rest of the cast was even worse. As to how bad the acting was a child gave the second best performance in my opinion. The English was terribly accented and I think no one could really even speak English they just memorized how the words should sound instead of memorizing the script and trying to make their character both \\life-like\\\" and real.\"\n",
      "* * * * * * * * * \n",
      "8725\n",
      "One would think that a film about a young person's coming to terms with his burgeoning homosexuality would be anything but boring. Think again. This production should be bottled and sold as a cure for insomnia because it's about ten times as potent as any sleep aid on the market. It's almost as if the film maker *considered* making a movie, but got lazy and decided instead to run a series of random (and randomly BORING) images and go-nowhere scenes, throw in a couple of actual scenes featuring actual acting, pretend that good lighting ins't important in the film-making process, and wrap it up under the auspices of an \\arthouse\\\" film. This is exactly kind of crappy product that makes it easy for a lot of traditional film-makers to poo-poo the indie film movement, and which keeps the general public from more easily embracing indie films.<br /><br />If you're interested in films covering this subject matter, you'd be much better off tuning in to some of the great short films available at Logo's website or renting Get Real. Better yet, read Stone Butch Blues. Whatever you do, skip this long-winded piece of dreck.\"\n",
      "* * * * * * * * * \n",
      "8874\n",
      "I can't recommend this film as a date movie. Gary Oldman's semi-autobiographical account of life lived on a South East London estate is a violent, Beckettian account of one of Dante's circles of hell, frankly. At the centre of it is Ray Winstone, who has done this sort of character before but never as well. The film opens with him ordering drinks at a pub bar - that's all - and you are already gripped with a sense of the frustration, self-loathing and barbarism that he exhibits in many different ways throughout the course of the movie. It's an acting masterclass.<br /><br />Of course the stymied and dispossessed need a foil in a drama such as this and Winstone is matched by Kathy Burke as his long-suffering wife, who absorbs and ultimately rejects his unbearable behaviour. Charlie Creed-Miles does an able turn as the fuse-lighting druggie son Billy although he must have wondered sometimes exactly what he let himself in for. Gary Oldman directs close up on the actors, maximising the claustrophobia of their council flat squalor. 4/10\n",
      "* * * * * * * * * \n",
      "8891\n",
      "Jack Black's character, Tim Dingman the \\Dreamer\\\" in Envy, finds wealth and success in the idea of a aerosol spray \\\"Vapoorize\\\" that when sprayed on doggie dung, makes the poo disappear into thin air. <br /><br />For a moment I was hoping that Vapoorize was a real product so that I could spray it on this \\\"stinker\\\" of a movie and make it disappear into thin air as well.<br /><br />Although Envy is not the worst movie that I have seen in the past 12 months (that honor goes to The Cat in the Hat), it does get the honor of a close second.<br /><br />Not funny, not sad, not anything. A real \\\"Stinkeroo\\\"!!!!!<br /><br />A 0.2 out of 10!!\"\n",
      "* * * * * * * * * \n",
      "8922\n",
      "This \\film\\\" attempts to follow the genre of low budget, hand-held camera flicks that have proved to be very effective and successful.<br /><br />This one, fails, and HOW.<br /><br />It's amazing how many so called \\\"awards\\\" this piece of garbage has got plastered on the cover..... it makes you wonder what these critics were on when they actually submitted this....<br /><br />Words fail to describe just how absolutely appalling this movie really is. Seriously, it's THAT BAD.<br /><br />I watched it in 20 minutes flat, on almost continual fast forward.<br /><br />From rubbish lighting to dreadful directing, grainy visuals to muffled sound, and of course not forgetting the ABYSMAL acting, this was one completely and utterly pathetic piece of so-called film making.<br /><br />It seriously, has NO redeeming qualities - whatsoever. Save your cash and watch a decent low budget horror flick, there are plenty out there - Dead End, The Blair Witch, REC, to name but a few.<br /><br />AVOID this rubbish at all costs. DO NOT waste your money or time on this piece of trash pretending to be an actual film.<br /><br />Take heed of all the other comments! You've been warned!\"\n",
      "* * * * * * * * * \n",
      "9199\n",
      "This was a blind buy used DVD. It totally killed a nice buzz I had going when I hit play.<br /><br />It's bubble-headed comedy, but it's um. squalid. The plot is ZANY!, but the characters do things to each other that are so petty and disturbed and conveniently contrived I ultimately found it depressing to watch.<br /><br />Maybe the box lead me to expect something more than an uneven, goofy caper film. (I know, I know, the quotes on the box & the Academy Award nomination mean nothing.)\n",
      "* * * * * * * * * \n",
      "9330\n",
      "In 1967, mine workers find the remnants of an ancient vanished civilization named Abkani that believe there are the worlds of light and darkness. When they opened the gate between these worlds ten thousand years ago, something evil slipped through before the gate was closed. Twenty-two years ago, the Government Paranormal Research Agency Bureau 713 was directed by Professor Lionel Hudgens (Matthew Walker), who performed experiments with orphan children. On the present days, one of these children is the paranormal investigator Edward Carnby (Christian Slater), who has just gotten an Abkani artifact in South America, and is chased by a man with abilities. When an old friend of foster house disappears in the middle of the night, he discloses that demons are coming back to Earth. With the support of the anthropologist Aline Cedrac (Tara Reid) and the leader of the Bureau 713, Cmdr. Richard Burke (Stephen Dorff), and his squad, they battle against the evil creatures.<br /><br />In spite of having a charismatic good cast, leaded by Christian Slater, Tara Reid and Stephen Dorff, \\Alone in the Dark\\\" never works and is a complete mess, without development of characters or plot. The reason may be explained by the \\\"brilliant\\\" interview of director Uwe Boll in the Extras of the DVD, where he says that \\\"videogames are the bestsellers of the younger generations that are not driven by books anymore\\\". Further, his target audience would be people aged between twelve and twenty-five years old. Sorry, but I find both assertions disrespectful with the younger generations. I have a daughter and a son, and I know many of their friends and they are not that type of stupid stereotype the director says. Further, IMDb provides excellent statistics to show that Mr. Uwe Boll is absolutely wrong. My vote is three.<br /><br />Title (Brazil): \\\"Alone in the Dark  O Despertar do Mal\\\" (\\\"Alone in the Dark  The Awakening of the Evil\\\")\"\n",
      "* * * * * * * * * \n",
      "9565\n",
      "Encompassing virtual reality, the potential of computers, communication with the past, the ongoing struggle to express your identity in a constraining society, and the fascinating Ada Byron Lovelace portrayed by the fascinating Tilda Swinton, this film should have been great. But it is lousy, terrible if you consider the potential! The acting - aside from Tilda Swinton and Karen Black - veers from tolerable to atrocious. The plot construction is awkward to say the least - the modern day programmer is a dull one-note character, but half the movie is spent setting up her character, and then when Ada finally appears, it is to narrate the events of her life, not to present an engaging story (Swinton almost pulls this off, though). You never fully get to know her as a real person, just an icon from a grad student's history paper.<br /><br />The digital effects, such as a digital dog and bird, are lousy and distracting, considering it was 1997 and not 1985. And, finally, the script is just bad. Bad, often pretentious dialog - especially the fights between the programmer and her boyfriend, which made me squirm - cold and distant characters, and zero attempt to create a sense of wonder. The programmer successfully contacts a person in the past! Astonishing! But it hardly seems to surprise anyone, and her boyfriend says, \\Well, be careful.\\\" (Although we're given no clue then or later why it might be dangerous, and it never seems to actually be dangerous.)<br /><br />Also, despite being about computers and Ada Lovelace and her love of mathematics, it is clear no one involved with the script had any knowledge of mathematics OR computers - any references to these subjects come across as complete mumbo jumbo that defies any suspension of disbelief.<br /><br />One scene, towards the end of the movie, is quite good, a monolog by Tilda Swinton expressing her sadness at the fragility of life but her joy in that life. Poignant, passionate, and insightful, it seems to be dropped in from another movie.<br /><br />So I am disappointed in this movie, because it is a missed opportunity for a fascinating little cult film. If you find the subject matter interesting, you might want to rent it, but be forewarned. See Orlando for another, much much better examination of gender roles in history with a great Tilda Swinton performance.<br /><br />***spoiler/question: * *<br /><br />At the end of the movie, Ada asks that her memories not be preserved (in what I thought was the best scene in the movie). But then the modern day programmer seems to do it anyway, transferring the memories into her little girl (hence the title of the movie). Am I correct, that the programmer violated Ada's wishes without even struggling over it? Or is this another confusing plot point that I'm misinterpreting?\"\n",
      "* * * * * * * * * \n",
      "9577\n",
      "Eight academy nominations? It's beyond belief. I can only think it was a very bad year - even by Hollywood standards. With Huston as director and Jack Nicholson and Kathleen Turner as leads I probably would have swallowed the bait and watched this anyway, but the Oscar nominations really sold it to me, and I feel distinctly cheated as a result.<br /><br />So it's a black comedy is it? Can anyone tell me where the humour is in Prizzi's Honor? It's certainly tasteless (the shooting in the head of a policeman's wife is but another supposedly comic interlude in this intended farce about mafia life) but with the exception of a joke about 'your favourite Mexican cigars' (which I imagine is an old joke for Americans who have been officially forbidden from buying anything Cuban for the last 50 years) I failed to spot anything of a comic nature - and I did try. There is a lot of Mafia cliché but cliché doesn't constitute humour in my book.<br /><br />Is it a romantic comedy of sorts? Never. The characters and their relationships are so completely incredible and shallow that they are on a par with Ben Afleck and Jennifer Lopez in Gigli.<br /><br />Is it a cleverly devised parody about the Mafia? Not in a million years. The plot is just pointlessly absurd rather than comically absurd, and it usually just has the feel of a really bad (and cheap) Mafia movie. It feels more like a homage than a parody.<br /><br />With one-dimensional characters and little in the way of humour written for them, the actors are left doing dodgy accents and pulling faces. Well it isn't enough; even when the face is being pulled by that master of the comic facial expression, Jack Nicholson (repleat with puffed up top lip ... now is that meant to be a parody of Brando's padded jowls in The Godfather?... Oh! Who cares?... all I know is, it isn't funny).<br /><br />Throw in some slow, plodding direction (this film drags on for 2 hours), some hopelessly daft and clichéd dialogue such as; \\You remember the Camora? Well we're far bigger, we'll track you down wherever you go\\\", and clichéd mannerisms and you'll be reaching for that fast forward button before you can say \\\"capiche?\\\". Prizzi's Honor is far from being Huston's \\\"masterpiece\\\" and is rather a very poor last work. It's definitely one work in the great director's canon that should be given a concrete overcoat and tossed into the Hudson River.\"\n",
      "* * * * * * * * * \n",
      "9665\n",
      "Strictly a routine, by-the-numbers western (directed by genre-mainstay Andrew V. McLaglen, so is that any wonder?). Army colonel Brian Keith spars with smarmy bandit Dean Martin, who has just kidnapped the colonel's wife (Honor Blackman, who never found her niche after playing Pussy Galore in \\Goldfinger\\\"). Fist-fights, shoot-outs, stagecoach robberies and Denver Pyle in a supporting role...in other words, absolutely nothing new or original. Talking in a low monotone throughout, Keith gets to dally with a prostitute (something of a shock after his run on TV's \\\"Family Affair\\\"), but otherwise this low-rent material wastes Keith's amiable talents. It's also bad news for Dino, who doesn't seem to notice or care. Hack direction, poor writing and several unfunny attempts at lowball humor. * from ****\"\n",
      "* * * * * * * * * \n",
      "10019\n",
      "When Rodney Dangerfield is on a roll, he's hilarious. In My 5 Wives, he's not on a roll. The timing of the one-liners is off, but they're the best thing going for the movie. The five women who play the wives don't add up to one whole actress between them. The plot is very weak. Even the premise is pretty weak; there are a few jokes about having multiple wives, but the situation has little to do with anything else in the movie. Most of the movie could play the same way even if Rodney's character had only one wife, so the premise seems more like an old man's fantasy than a key part of the comedy. Another old man's fantasy: we're supposed to accept that Rodney's character is an athletic skier.<br /><br />Jerry Stiller seems to be phoning in his role just to do a buddy a favor, and the rest of the name actors must simply be desperate for work.<br /><br />The odd nods to political correctness later in the movie don't really do anything for the movie. For those who like their movies politically correct, the non-PC humor is still there in the first place, and the seeming apologies for it still don't get the point. For those who hate seeing a movie cave in to political correctness, the PC add-ins are just annoying digressions.<br /><br />This has to be the mildest R-rated movie I've ever seen. There are some racy jokes, and the bedroom scenes would have made shocking TV 40 years ago, but that's about it. Maybe it was the topless men (kidding).<br /><br />The DVD features interviews where the cast members seem to find depth and importance in this movie and in their roles. I kept wondering if they were serious or kidding. They seem to be serious, but I kept thinking, \\They must be kidding!\\\" There's also a peculiar disclaimer suggesting that since the movie never actually names the Mormons or the Church of Latter-Day Saints, that somehow it's not about them. Never mind that the movie features a polygamous religion in Utah, and makes reference to Brigham Young.<br /><br />In short, My 5 Wives was a disappointment. I was hoping for Rodney on a roll, but the best I can say for the movie is that Rodney was looking pretty good for a guy who was pushing 80 at the time.\"\n",
      "* * * * * * * * * \n",
      "10142\n",
      "I haven't seen this movie in a while, so I'm afraid I can't be very specific about details... It did have some interesting points. Ralph Bakshi's attempt at an animated adaptation of J.R.R Tolkien's masterpiece was a very ambitious project, so ambitious in fact that it went bankrupt at some point during the production. Therefore, not only does it stop abruptly somewhere around the middle of the second book of the trilogy (with sort of a shade of a hint of a sequel that was never made), the film itself seems less than finished. It seems that some characters were animated while others were filmed, but whether or not it's intentional is hard to say. The whole thing seems shabbily made and undone, especially the Orcs and the Nazgul. Another problem, of course, is the huge gaps in the plot. Bakshi was in a rush to finish this movie, and he somehow hoped to cram a book and a half in little more than two hours (the new trilogy by Peter Jackson does it in about twice that time.) Far too many important bits were left out (and I don't refer only to Tom Bombadil, which, I think, was lovely in the book but would look silly in a movie.) And of course, the ending, which is completely sudden and out of place. I'm not even sure if Bakshi originally intended to end the film there, or if he even had any idea where he's going to end it.<br /><br />The characters... well, most of them were okay. The hobbits don't look so bad (except for the gay Sam. Did you know that the producers of the new trilogy originally wanted to make Sam a woman so there would be a feminine lead character?) If you're a Tolkien fanatic (like me), watch this movie (though I'm not too sure about buying it. What special features does the DVD version have, anyway?) But know in advance that you're not going to watch a real 'Lord Of The Rings Movie' but not much more than a historical curiosity, which probably looks not much better than the 60s version would have had the Beatles carried on with their plan (I actually think a psychedelic LOTR could have been quite cool. The idea was to cast George as Gandalf, Paul as Frodo, Ringo as Sam and John as Gollum.) If you didn't read the book or didn't like it much or don't like animation films or don't want to see a half-finished movie... stay away.\n",
      "* * * * * * * * * \n",
      "10245\n",
      "I'm a fan of Matthew Modine, but this film--which I stumbled upon on cable--is absolutely witless. I see that the screenwriter and director were one and the same, so there was no one around to check her worst instincts. There are no surprises, no original lines, and no original characters. The goldfish was basically the most sympathetic character. What a waste of all this acting talent. Given how expensive it is to film in New York these days, I have to wonder how this got made in the first place. And if you're wondering why I watched it at all, it came on after a film that I like on cable and I left it on while I worked at the computer. It's not a very demanding picture!\n",
      "* * * * * * * * * \n",
      "10292\n",
      "It as absolutely incredible to me that anyone could make the comment that this film is not preachy. It is not only oppressively preachy, but absurd, stagebound, dramatically straight-jacketed, and painfully overwrought. Watching it, one feels like an 8 year old child being punished by having to write \\I will not become a fascist\\\" on the blackboard 100 times.<br /><br />Now I understand that it was made during the height of WW2, and was intended to be a brave condemnation of Hitler and the terrible suffering he brought about, (which anyone would whole-heartedly applaud) and I'm sure it accurately captured the mood of the day. But it is presented in such an immature, over-obvious, sledgehammer way, it fails abysmally as a work of art.<br /><br />The only good performances here are from Paul Lukas, who brings sincerity and intensity to his role as a quietly heroic anti-fascist; and Lucile Watson as the amusingly ill-mannered rich grandmother who slowly comes to realize how dangerous the world has become. Though their rootless upbringing has subjected them to all kinds of hardships, the children are ridiculously shown as robotically well-behaved little snips. They do not even remotely resemble real human beings. And Bette Davis, a great actress, here is so one dimensionally noble I cringed every time she was on screen. Her every word, her every gesture is meant to convey how SUPPORTIVE and UNDERSTANDING she is of the SACRIFICES her husband has to make and the great CAUSE he is fighting for, that she must've been wired to receive a painful electric shock if she dared allowed any hint of doubt or shading to surface in her portrayal.<br /><br />So yes, this is a very IMPORTANT film, just not a very good one.\"\n",
      "* * * * * * * * * \n",
      "10400\n",
      "I saw this movie years ago, and I was impressed... but then again I was only 12 years old. I recently re-watched it and want that time back. This film is pretty bad. While I like Lee Majors, Chris Makepeace (watch My Bodyguard (1980)if you would like to see a GOOD movie that he was in... of Meatballs (also starring Bill Murray) for some laughs), and Burgess Meredith, this role does/did nothing for their careers.<br /><br />Anyway, Lee Majors character, Franklyn Hart, is an ex- race car driver who plans on driving his race car (which he had in storage) across the country to California. One Problem: The government has outlawed all private transportation. I thought the concept was OK (not the worse I've heard of), but the execution failed horribly.\n",
      "* * * * * * * * * \n"
     ]
    },
    {
     "name": "stdout",
     "output_type": "stream",
     "text": [
      "10408\n",
      "SPOILERS. Strange people with generous tastes have been reviewing this film. Allow me to add balance by pointing out the following:<br /><br />Script: Dreadful. As Tom and Dan are \\getting to know each other,\\\" bantering about films, the talk is clearly that of one person, and I suspect it was the director, who carefully worked his words to sound intelligent. At one point, Dan asks, \\\"Have you heard of the HIV virus?\\\" and it sounds about as natural as asking, \\\"Have you communicated with the nine alien races?\\\"<br /><br />Acting: White teeth do and a chiseled face do not a sensitive performer make. Speedman did well enough with what he was given, I suppose, but Marsden was terrible -- unsympathetic, unbelievable, and downright smug and smarmy throughout his captivity. There is an emptiness to his performances (also see Interstate 60).<br /><br />Plot: Spare me! The moments of half-escape were not thrilling but irritating and weak. Recall Marsden pretending to try keys in the door and then throwing them down: \\\"They don't work, man!\\\" Tee-hee. And beware the semi black-and-white flashbacks, which are initiated with some schlocky sound taken from CSI and other crime dramas. <br /><br />Most important of all, most dangerous, evil, and offensive, is the homophobia (external or internal, you decide) in a film in which HIV is considered a weapon. Tom says that Dan may have taken off the condom or not used it at all -- excuse me, where was Tom while they were having sex? There is some villainizing of the inserting partner which comes off as a villainizing of the gay man in general.<br /><br />In sum: Beware!\"\n",
      "* * * * * * * * * \n",
      "10453\n",
      "They should have called this movie: \\Adopted Mouse Brother That is Slightly Inspired by Someone's Vague Recollection of Stuart Little Who Just Kind of Skimmed the Book a Little, But Mostly Just Remembered the Cover\\\" If it wasn't so misleading I'd give it a better review.<br /><br />But seriously people, do your kids a favor and have them read the book. They might actually learn something instead of having their mind numbed by what we all know as Hollywood film.<br /><br />The book Stuart little isn't about a mouse, it's about a person who happens to be very small and mouse-like. He's born to his parents, not adopted. The book is about his life and his eventual departure from home and the journey he embarks on. There is a cat named Snowball who thinks he's food and wants to eat him, but Snowball can't talk. <br /><br />In the movie they screw all of that up. I think the only things that they kept from the book were the boat race and the names.\"\n",
      "* * * * * * * * * \n",
      "10531\n",
      "Kid found as a baby in the garbage and raised at a martial arts academy has a knack for sinking baskets. With the help of the man who found him he gets in to college and is promoted to the championship as he searches for his real parents. Infinitely better in pieces action comedy is a real mess as a whole. It seems to be striving for a hipper basketball version of Shaolin Soccer, but the comedy is scatter shot, its focus wanders more than a Chihuahua with ADD on quadruple espresso. I kept asking \\What am I watching\\\". I watched it from start to finish and I still don't know what the hell happened. Its a shame since there are some great action scenes, some amusing jokes and the occasional moment, but nothing, none of it ever comes together, I'd take a pass.\"\n",
      "* * * * * * * * * \n",
      "10561\n",
      "Hee hee hee. This movie is so bad that it doesn't even try to hide the fact that it sucks big time. I remember the day I first saw this on MST. Sun was shining, looked like a good day. then, I saw this product of Rick Sloane which consisted of horrible plush dolls wreaking havoc in the crappy 80s fest land. Kevin, wussy extraordinaire, tries to impress his girlfriend, manages an assistant security guard job, fights with rakes, and plenty more stuff in this very badly made series of images. No plot or story is needed. Obviously no acting is necessary as the film proves. An army guy and his sex crazed girl will make you wanna leap off a cliff, and the dorky friend who gets his kicks off phone sex will make you say, \\ He has got some nice red shorts\\\". Plus, I really hated the old security guard and wished he had an accident in his supermarket cart. Just when you think it's over, wait until the Club Scum scene. Ask for Road Rash.<br /><br />I advise that after viewing this film, a good month to regain senses and sanity. And if you see Rick Sloane, give him a good kick to the groin to show how much we appreciate this crapsterpiece called Hobgoblins.\"\n",
      "* * * * * * * * * \n",
      "10599\n",
      "Justifications for what happened to his movie in terms of distributors and secondary directors, drunks and receptionists doing script rewrites aside, let's just take this movie as it's offered, without extraneous explanations.<br /><br />This movie is God awful. Straight up craptastic. Rather than rehash what may serve as a plot, I'll run a highlight reel of some curious points that made me scratch my head.<br /><br />A class (of 5) take a field trip for a history class to the middle of friggin' nowhere Ireland. These students may be Canadian or American, it's difficult to tell. That it was filmed in a Canadian forest rather than Ireland is rather obvious as well. One student seems to know nothing about history and is basically the \\dumb jock\\\" character from a number of kick ass 80's movie, except when he channels Randy from Scream. One character may be Chris Klein's stunt double. He has a girlfriend who probably gets killed, but it's never really established if that is true. One character is sullen and removed from her peers...just...cuz... and then there's a blonde girl. Yay blonde girl.<br /><br />Ireland has a population of 2. They're cousins. Gary, who is clearly the same age or younger than the rest of the cast, is called \\\"sir\\\" more than once. He's very ominous and wears a knit cap. His cousin is a roughed up porn star with the worst Irish accent to befoul film in my lifetime and most likely beyond.<br /><br />Picturesque Ireland features many Canadian forests and swampy areas and 2 ducks which appear more than once in cut scenes.<br /><br />The producers got a discount on volume fake entrails. Good for them.<br /><br />Unbeknownst to me, horribly inbred freaks have access to brand spanking new hunting knives. Perhaps there's some kind of outdoorsman outlet nearby with a blind and deaf clerk working the register.<br /><br />Also unbeknownst to me, if you inbreed for roughly 600 years, as the story leads us to believe happened, you end up being somewhat lumpy, yet amazingly spry and fairly strong. Genetics are a wonderful game of craps.<br /><br />There may or may not be more than one freak in this film. Reference is made to \\\"them\\\" and we see shadows, yet only one odd looking dude is seen ever. And when one odd looking dude is finally killed, apparently all danger is passed. I'm running with my initial assumption that no one thought to outfit a second man in full make up, thus they just used the one. That's what it looks like on screen, anyway.<br /><br />Richard Grieco should be ashamed.<br /><br />Also of note, aside from those shiny new knives, the inbred freaks have access to some posh leather gear, as once Richard Grieco cuts his bonds, there are fresh ones ready for the next sucker who gets tied up...who also then escapes, because the chains give you enough slack to just undo them, making one wonder why they even bother tying anyone up.<br /><br />A dead body in a shack will be maggot-ridden after what I would guess is about 2 hours has passed. Said dead body will also have glasses on, when no characters wore them. Curious.<br /><br />Jenna Jameson appears for no reason from stage left, chats for 2 minutes, vanishes stage left. In the middle of a giant forest. That's not unusual, as Gary can also pop out of nowhere, which is also known as whatever exists in TV land off the screen.<br /><br />Ms. Jameson dies sadly and somehow her clothes vanish like my hopes that this movie wouldn't suck wind.<br /><br />I offer a special nod to the \\\"Breeder\\\" character, the poor girl who has been used by the freaks for months (or maybe years) for breeding purposes. The poor girl who still has eye shadow on and emotes on camera with all the passion and conviction of a stuffed chihuahua.<br /><br />The ending of this movie was clearly tacked on by a drunk or someone with a fierce mental disability that has been cultivated and encouraged with excessive gasoline drinking over the years.<br /><br />Apparently this wasn't just random crap I found on the movie network late at night, apparently people have heard of and even followed this movie through it's production. How sad for you all. I have nothing more to say. May God have mercy on us all.\"\n",
      "* * * * * * * * * \n",
      "10711\n",
      "To be a Buster Keaton fan is to have your heart broken on a regular basis. Most of us first encounter Keaton in one of the brilliant feature films from his great period of independent production: 'The General', 'The Navigator', 'Sherlock Jnr'. We recognise him as the greatest figure in the entire history of film comedy, and we want to see more of his movies. Here the heartbreak begins. After 'Steamboat Bill Jnr', Keaton's brother-in-law Joseph Schenck pressured him into signing a contract that put Keaton under the control of MGM. Keaton became just one more actor for hire, performing someone else's scripts. Then his alcoholism got worse. After 'Steamboat Bill Jnr', Keaton never again made a truly first-rate film. A couple of sources describe a would-be masterpiece comedy that Keaton claimed he *almost* got to make at MGM: a parody of 'Grand Hotel'. Biographer Tom Dardis has offered convincing evidence that Keaton made up this story.<br /><br />The heartbreak increases because, among the many years of Keaton's long steady decline, he just occasionally came up with a good film ... such as his short comedy 'Grand Slam Opera'. I continue to search for the lost footage of Keaton's dramatic scene with Spencer Tracy in 'It's a Mad Mad World': a sequence in which embittered cop Tracy telephones an old retired crook (Keaton) and tries to recruit his assistance in stealing Smiler Grogan's cash. That footage is almost certainly gone forever, but I keep looking.<br /><br />'Speak Easily', alas, is one of Keaton's films from the beginning of his decline. MGM were trying to build up Jimmy Durante (who, coincidentally, played Smiler Grogan three decades later) as a new comedy star. Unfortunately, MGM tried to build up Durante by teaming him with Keaton, whose style of comedy was simply incompatible with Durante's. (I'm a fan of both.) Throughout his career, Durante was a merciless scene-stealer: commendably, he knew that he was being built up at Keaton's expense, and Keaton was the only co-star whom Durante never attempted to upstage.<br /><br />Keaton was often cast as the victim of extremely cruel machinations. In 'Speak Easily', he plays a didactic and humourless Midwestern college professor named Post (because he's as wooden as one) who receives a letter informing him that he's inherited $750,000, which he must travel to New York City to claim. Does he make a 'phone call to verify this? Does he even check the postmark? No; he takes his life's savings out of the bank and rushes to New York. As soon as he's gone, Post's manservant confesses that he wrote the (fake) letter to jostle Professor Post out of his rut!<br /><br />Post, who thinks he's a 3/4-millionaire, crosses paths with Jimmy Dodge (Durante), who's trying to produce a musical revue but hasn't any money. The characters which these two brilliant comedians are playing onscreen simply fail to intermesh. Keaton is playing one of those eggheads (like Mister Logic in 'Viz') who intellectualises everything. Durante plays one of those annoying hepcats who is incapable of making any straightforward statement because the script requires him always to speak in slang. There's a painfully unfunny dialogue scene in which Durante is trying to talk to Keaton about money, but - instead of coming straight out with it - Durante has to use increasingly contrived slang terms like 'kale', 'cartwheels' and so forth ... while Keaton of course has no idea what Durante's on about. I'll give Keaton credit: his own dry and dusty prairie voice, his flat Kansas accent, is absolutely perfect for the character he's playing here.<br /><br />Sidney Toler, looking much leaner and more handsome here than he would be just a year later, is impressive as the excitable director of the revue bankrolled (on tick) by Professor Post. Henry Armetta, whom I've never found funny, is even less funny than usual here, offering a running gag with a stupid payoff. Thelma Todd impressed me here, in a more villainous version of the role she played in 'Horse Feathers' (a much funnier movie). Edward Brophy, one of my favourite character actors, is wasted.<br /><br />Part of the problem with 'Speak Easily' is that supporting characters behave in completely inappropriate ways. Keaton's lawyer shows up at Durante's theatre with an urgent message for Keaton ... but he isn't there, so the lawyer proceeds to divulge Keaton's personal business to the first total stranger he meets. (Fire that lawyer, Buster!) In another scene, Professor Post - the guy who's perceived as bankrolling this musical - blunders into the chorus girls' changing room, and all the chorus girls immediately squeal and cover themselves. I know for a fact that *modern* chorus girls would never react this way, and I seriously doubt that chorus girls in 1932 behaved that way either ... certainly not in response to the 'angel' controlling their show's pursestrings.<br /><br />SPOILERS COMING. About half an hour into the unfunny 'Speak Easily', the great Jimmy Durante seats himself at the piano, grins into the camera, and does that distinctive little shake of his head as he starts to play a tune. This is the moment when I thought that, at long last, this movie was finally going to settle down to its purpose of entertaining us. Alas, no. Most annoying of all is the ending of this film, which uses the single most hackneyed and implausible cliche in all of comedy: the one in which an utterly incompetent dimwit becomes a star comedian through his own ineptitude. (Keaton would be forced to replay this cliche in a 1955 episode of 'Screen Directors Playhouse'; Chaplin had already used it in 'The Circus'.)<br /><br />I very nearly wept - in anger and sorrow - at the wasted opportunities in 'Speak Easily'. Mostly out of respect for the work that Keaton, Durante, Toler, Brophy and Miss Todd have done elsewhere, I'll rate this movie 2 points out of 10.<br /><br />\n",
      "* * * * * * * * * \n",
      "10833\n",
      "We had to go to an appointment, so we turned on the DVR to record the ending. After it was over, I looked at my husband and said, \\Do you have a clue?\\\". He shook his head no. I said, \\\"So you made me watch the end of this movie and I have no clue what just happened\\\". He didn't \\\"make\\\" me, but you know.<br /><br />The movie body itself was quite good. There was a lot of suspense. It kept you wondering. Then came the ending. The ending was... well it just ENDED. You weren't let in on what happened or why. Right up until the credits I kept thinking something would happen to explain it, but it never did. So I came here expecting someone figured it out and I just wasn't paying attention. Nope. Here four years later, I'm just as clueless as tom sawyer was.<br /><br />I still have no clue what went on. I'm just glad I didn't waste any $$ to buy it because I sure would have been mad.<br /><br />OHHHHH! I get it! The end of the movie is what disappeared! ROFL\"\n",
      "* * * * * * * * * \n",
      "10913\n",
      "This is a direct sequel to 'The Mummy's Hand' (1940), because the lead character, Stephen Banning (played by Dick Foran) is now thirty years older and is relating the story (with the help of archival footage) to his son's fiancé. There are only two unusual aspects to the film: the early death of Banning, and the presence of Turhan Bey.<br /><br />Lon Chaney as the mummy Kharis gets top billing, though given the nature of his role, he has little more to do than limp along or thrash his arms about. There's nothing scary about his presence, except for his attempt to carry off the fiancé, Isobel (Elyse Knox). Dick Foran gets second billing, but he's killed off within the first fifteen minutes! We'd have to wait until 'Psycho' (1960) when a lead character (Janet Leigh) dies way before the end of the movie! Banning's buddy from the first film, Babe Jenson (now Henson), shows up a little later looking much, much, older and not doing any of the comic shtick he did in the original. It's hard to believe it's the same actor! Unfortunately, this great acting job is wasted because he gets killed by Kharis after only two brief scenes. It's then left up to Banning's son John (played by bit player John Hubbard) to led the chase to the cemetery--NO! The sheriff leads a torch wielding mob to Banning's house to burn it down and kill the mummy. Sound Universally familiar? <br /><br />Turhan Bey is introduced to audiences as the new High Priest, Mehmet Bey, to care for and feed tana leaves to Kharis. With his 'exotic' voice and appearance, it's too bad he gets so easily killed. A better movie would have had 'Babe' take Von Helsing type charge of things in tracking down the mummy, with a final decisive battle with him and Mehmet Bay. But instead we have a pedestrian rehash of different set pieces from previous Universal horror films, put together by the hack Griffin Jay who wrote many of Universal's other clunkers, although he also did 'Don Winslow of the Navy' (1942) as well as 'Don Winslow of the Coast Guard' (1943) which also featured Elyse Knox.<br /><br />Elyse Knox played Anne Howe in six Joe Palooka movies (1946-1949), and of course, Turhan Bey, with 43 movie and TV credits, is great in the title role of 'The Amazing Dr. X' (1948).<br /><br />The cinematography is much darker and more atmospheric (with lots of noirish shadows in the sheriff's office) than the first 'Kharis' mummy film, but there's little else of interest or excitement.<br /><br />I'll give it a 3.\n",
      "* * * * * * * * * \n",
      "10934\n",
      "I haven't been able to decide if this movie is so bad it's good, or, to quote Enid Coleslaw, \\so bad it's gone past good and back to bad again.\\\" No matter, it forced me look much the same way a pile of weird coloured vomit might, and it offers up a number of scenes that you won't forget even if you want to. There's a sneering young Ray Liotta telling a pigtailed Pia that her creative writing trophy looks like a penis. A bit later, there's Ray again, molesting Pia, not with the appropriately shaped trophy but a garden hose. There's a firm chinned Pia telling her domineering Mom that she wants to go to bed with Ray's geezer father, Walter. There's the actress in the graveyard scene yowling the best line ever written by Pia or anyone else: \\\"WWWWHHHYYYYYYY!\\\" There's that garden hose again, as Walter waves it Pia's face and roars \\\"Is this more to your liking!?\\\" There's Pia and her date so turned on by closeups of each other masticating salad that they start tearing each other's clothes off. There's Pia showering but forgetting to remove her dress. Perhaps best of all, there's Pia's typewriter, but instead of keys there are the miniature talking heads of those who have tormented her the most (afterwards, I was afraid to open my laptop). And finally there's Pia at \\\"The Awards\\\" exposing Hollywood for the cesspool it is, spitting out the second best line ever, \\\"I guess I'm not the only one who has ever had to **** her way to the top.\\\" I see I have already spent more time commenting on \\\"The Lonely Lady\\\" than I have on far better pictures, so I'll quit. Be forewarned, though, that once you start watching you probably won't be able to take your eyes off the screen until two hours of your life have vanished forever.\"\n",
      "* * * * * * * * * \n",
      "10965\n",
      "I have read the book a couple of times and this movie doesn't follow exactly as it should. I could let this slide, it is after all a movie. However I have serious issues with the setting of the movie. Nobody has seemed to mention that this movie and the book it is based on are based in actual events that happened in Nebraska. I live in Nebraska. I grew up in the town that this movie is supposed to be based on. First of all, the \\small\\\" town that is talked about as the setting, is the third largest city in the state. With a population of around 50,000. Grand Island is the largest city between Lincoln and Denver. Second the scenery for the movie is wrong. Grand Island is in the Platte river valley. Which is very flat with very few trees. I tried watching this movie, but it made me mad to see my hometown being treated so bad. This was a real event. Large sections of the city were wiped out. In the book they talk about riding bikes from Mormon Island to Fonner Park. I guess you could if you don't mind a 15 mile ride each way. For anyone who wants to know what really happened go here http://www.theindependent.com/twisters/\"\n",
      "* * * * * * * * * \n",
      "11027\n",
      "Too bad, I really like Kristen Cloke and Gary Busey. But the director failed to put this together. There's a lot of action, a lot of promise, but it all comes off hokey. The director didn't do his job. Promising action comes off lame. So much seems contrived in a desperate attempt to save the film. This version of \\The Rage\\\" (DirecTV credits it as 1996) simply isn't worth the time to watch it. Another director would have done a better job.\"\n",
      "* * * * * * * * * \n",
      "11031\n",
      "Awful, awful, awful.<br /><br />A condescending remark at the start and a few nasty autopsy photos does not a good movie make. Once again I'm amazed at the determination and skill that some people have in achieving a movie production and yet they don't have the pride to realise that what they have made is an utter pile of crap.<br /><br />I sat and tried to think of a redeeming feature so that I could at least balance my criticism but the only one I could think of was that the opening track by Pink was pretty good....I wonder if she has seen this?<br /><br />Watch this at your peril, the boredom may kill you.\n",
      "* * * * * * * * * \n",
      "11049\n",
      "Outrageously trashy karate/horror thriller with loads of graphically gory violence and gratuitous nudity, and a thoroughly preposterous and bizarre \\plot\\\". This is lowbrow and low-grade entertainment that will appeal only to viewers with particularly kinky tastes, but it's kind of cheerfully bad and I must admit that I wasn't actually bored while watching it.... (*1/2)\"\n",
      "* * * * * * * * * \n",
      "11065\n",
      "Eyes of the Werewolf (1999) is a really bad movie. The premise was real good but the overall execution was just terrible. I wished the filmmakers would have taken their time with this project instead of rushing it into production. Some blind dude gets some new eyes, bad thing is that they belong to a mean old werewolf. Nasty things begins to happen to the dude as he turns into a cheesy looking creature. Can he find a cure before his hot girlfriend finds out? Who is that weird little troll who helps him out and what's up with that female cop? If you really want to find out, check out Eyes of the Werewolf!<br /><br />Not a bad idea for a movie. I just wished the filmmakers would have spent a lot for time in pre-production before they decided to shoot the movie.\n",
      "* * * * * * * * * \n",
      "11105\n",
      "Okay, if you've seen The Ring, you've basically seen The Grudge. It's trying to be scary by just having freaky camera work and loud sounds, but it fails miserably. The plot, if you can call it that, is weak and rather full of holes, for instance, how would the care center have known that Yoko didn't show up for work when the people who lived in the house were not there? And it's not really clear what Bill Pullman's character had to do with anything. He just kind of came out of nowhere to advance the plot. It didn't make a lot of sense what happened to the original family. Who was hanging in the room, the little boy or the dad? And was Yoko alive or dead when the care center guy found her? There were too many unanswered questions and I was too bored to think about it more.\n",
      "* * * * * * * * * \n",
      "11187\n",
      "I've read comments that you shouldn't watch this film if you're looking for stirring Shakespearian dialogue. This is true, unfortunately, because all the stirring dialogue, this wonderful play contains, has been cut, and replaced with songs. I've read this play, and recently was lucky enough to see it performed, at it remains one of my favourite Shakespearian Comedies, but this movie seems to take all that I like about it away. The Princess, though no doubt doing what she was directed to do, had no regal bearing, and all the girls seemed to lose the cleverness of their characters - also affected by unwise cuts, which not only took away the female characters already sparse dialogue, but took comments out of context - it was a little unnerving to hear the Princess proclaim; \\We are wise girls to mock our lovers so!\\\", when mocking had not taken place at all. The news reels throughout the film also disrupted the flow, and took away many excellent scenes, as they showed the information in the scenes after them, and were in modern phrasing. In conclusion, an excellent play, ruined by an odd concept, and unwise cuts. Kenneth, I usually love what you do. What were you thinking?\"\n",
      "* * * * * * * * * \n",
      "11302\n",
      "I saw this movie the first time at about twelve o'clock on a Saturday evening. It really is the perfect time for this one. I have never, EVER seen a movie that was actually more predictable and drenched with stereotypes. If you want to see a thrilling action movie, don't watch it because you might lose the will to live halfway through. However, if you want a good laugh, please watch it! I even bought the Chuck Norris 3DVD collection thanks to my enjoyable Saturday night. What especially struck me is that évery scene that would be expensive to make was copy-pasted from a Discovery documentary or an old TV-special on the US Army. Furthermore I was amazed by the fact that they didn't put the slightest effort in making the production look real. Afghanistan is, as far as I can remember, nowhere near any sea and yet with a single click Deke escapes from the terrorists sand-castle with his jet-pack and is taken away by a submarine (probably Discovery). Later on in the movie, Deke throws an Islam terrorist against the wall. In the slow motion scene you can beautifully see the long hairs of the Korean stuntman flap in the air when smashed against the wall. Gotta love it. I recommend you watch it with some friends and a good amount of beer though, only then you'll understand why I've been mad enough to spend 6,99 euro's on the box.\n",
      "* * * * * * * * * \n",
      "11511\n",
      "While most of the movie is very amateurish, the Kosher slaughter scene is played up, but not untrue. Kosher law says that an animal must be conscious when the blade touches it's skin. The Kosher slaughter scene is accurate as anyone knows who has seen one, or has seen the Peta film showing a Kosher slaughter, in which the animals throat is cut, and the esophagus cut out while it is still alive, conscious, and obviously suffering. We must remember that history is written by the victors. Is one even Allowed to even THINK that maybe the Nazis were right??<br /><br />Doesn't it say anything that the Nazis had outlawed this vicious religious slaughter, and the Jews are still practicing it even today?\n",
      "* * * * * * * * * \n",
      "11922\n",
      "Man, what the hell were the people who made this film on? And more importantly where can I get some? The opening scene sets the tone for the film: a woman writhing naked in a circle of fire, transforming into a werewolf. And this is no Rick Baker 'American werewolf' transformation, folks. We're talking some of the worst makeup ever captured on film here. I can just imagine some stoned Italian spreading glue on naked Annik Borel (who plays Daniela, the film's protagoness (is that a word?)), and asking her to roll in fur. That's how bad it is.<br /><br />From here on in it doesn't get much better. Minutes are wasted as the scenery chewing male actors waffle on about Daniela and her condition or something (I can't remember, but the dialogue is so bad if you don't laugh at it you'll cry).<br /><br />The funny thing is Daniela isn't even a werewolf, she's a psycho who goes mental whenever there is a man around (understandable, as she was raped as a child) so she thinks she becomes a werewolf like her ancestor (the opening scene). She can't help but tear out the throat of every man she meets, and she only wants to be loved! Things start looking up for Daniela as she meets and falls in love with a buff stuntman who doesn't trigger her 'episodes'. Check out the montage here, one of the cheesiest you'll ever see (laughing and hugging after diving headfirst through a window).<br /><br />Daniela's luck doesn't hold out as the film takes a brutal turn, she is suddenly viciously beaten and raped by a group of thugs who kill the stuntman. Reminiscent of \\I spit on your grave\\\", Daniela extracts bloody vengeance on her rapists.<br /><br />This is 100 minutes of my life I will never get back. But hey, that's the game you play when you're a film geek.\"\n",
      "* * * * * * * * * \n",
      "11937\n",
      "This is by far one of the most boring and horribly acted accounts of the early days of Adolf Hitler that I have ever watched. Robert Carlyle is a wonderful actor, but to cast him as Hitler is just plain wrong. To cast Liev Schrieber as Hitler's longtime friend and aid, Haefengstal must have emitted cries of despair and anguish from the Simon Wiesenthal Centre. A J-W playing a Nazi supporter, bad bad bad casting. This was not an enjoyable family film with a good historical background. This was Hollywood rubbish at its finest, cashing in on the strength of a strong (but sorely under utilized) supporting cast of actors whom seemed to have all but disappeared from the acting radar in the past 5 years.<br /><br />The fake German accents (vee vill vin zis var) is insulting to German people everywhere. My mother is German and she sat fuming at the sound of the voices which kept switching from American/English/German all in the same sentence. The supporting cast make better cardboard cutouts at the local video store than they do on screen. Jenna Malone as the fated Geli Raubal, was splendid though, she captured the innocence and confusion of this tragic young woman who ultimately ended her own life to escape what her future would have been like in Hitler's shadow.<br /><br />If you would like a tremendously fantastic and historically accurate account of Hitler's early years leading up to and including the war/holocaust, rent \\Inside the Third Reich\\\" 1983 starring Rutger Hauer as Albert Speer and Derek Jacobi as Hitler. It was good and made more sense then this baloney.<br /><br />As a historical researcher of the Third Reich I can honestly tell you, this had me reaching for my books to confirm its myriad of inaccuracies.\"\n",
      "* * * * * * * * * \n",
      "11990\n",
      "I love Jamie Foxx.<br /><br />And I enjoy 99% of all movies I see.<br /><br />And I walked out of this one.<br /><br />Now, I admit, it may have had something to do with the two middle-aged white women in the back of theatre who laughed at every little thing (\\Oh no, Jamie's knocking on a door! HEE HEE HEE!\\\"), but... this was just so incredibly annoying. There could be no sustained camera shot, and no camera shot from a conventional angle... everything had to be in-your-face, loud, and annoying.<br /><br />The bad guy tried to be smooth and Malkovich-like, but at this point, it's just old and tired. He brought nothing new or interesting. From all the characters, too many lines you saw coming, too many you've heard before, and too many \\\"tough guy\\\" lines... and I don't mind that sort of thing, really, as long as there's a bit of originality to it. In fact, pretty much the entire supporting cast just sucked.<br /><br />I love Jamie Foxx, and I think he's really funny, and I thought he was funny in this movie... but not nearly funny enough for me to endure everything else. <br /><br />This movie needed less shoot-em-up, less annoying camera shots, more emotion, more feeling, and more Jamie Foxx. I gave it a 2.\"\n",
      "* * * * * * * * * \n",
      "12101\n",
      "This film proves that the \\commercial\\\" cinema ,or else,the Hollywood movies are in a serious crisis.There is absolutely no reason that this movie should have been produced apart from the fact that somebody expected success based on Shaquille's name.There is no worth referring to the plot :it is a bit more perplexed than a knot.What else?The screen is somewhat dim,O'Neal is a bad actor but Francis Capra is even worse.<br /><br />Rating: 1 / 10.\"\n",
      "* * * * * * * * * \n",
      "12231\n",
      "I chose \\Dead Creatures\\\" because I thought it was a zombies movie just like \\\"28 days\\\" or so... but not at all. It isn't even a horror movie. Nothing happens, except for a group of women that seem to have been infected by a strange virus that make her to eat human flesh in order to survive. <br /><br />That plot gives rise to a series of disgusting scenes of cannibalism...<br /><br />Very VERY BAD MOVIE.<br /><br />*My rate: 2/10<br /><br />------------------<br /><br />------------------\"\n",
      "* * * * * * * * * \n",
      "12243\n",
      "Basically this is about a couple who want to adopt a second child. At the adoption agency they meet a mouse (Stuart) and they decide to adopt him. If you think that this is stupid, hold it, because it's getting worse.<br /><br />Stuart arrives to his new home, where he is treated like a human child. (Spare me!) The rest is pretty much the usual cliché, about family problems, jealousy from the elder \\brother\\\", and at the end all issues are resolved and they are all a \\\"happy family\\\". Boring and worn out as this is, it is also shown in the most blunt and unsophisticated way.<br /><br />I don't know if the director believed that he was being creative by introducing a mouse to the cliché, or he was just trying to fill in minutes, but he only upgraded the cliché from boring to abhorrent.<br /><br />Then why I gave a 3 and not a ZERO? Because of the family cat, who loves Stuart as much as the \\\"brother\\\". And because of some funny gigs, where Stuart makes good use of his small size.<br /><br />On the overall I believe that the film would work reasonably well if: a. Stuart was a PET and not a \\\"sibling\\\". b. It had kept to the funny gigs, like Stuart trying to outwit the cat, and had left out boring clichés which don't even match with anything else.\"\n",
      "* * * * * * * * * \n",
      "12433\n",
      "This clunker of a film sets a new standard for bad filmmaking. Jared Rushton gives an adequate performance of a very poorly-created character in an ill-fated movie, thereby creating a net effect of a very bad movie. The film's main thrust is how a boy's temporary excursion into the Canadian wilderness after surviving a plane crash solo allows the disgruntled adolescent to deal with his anguish over discovering his mother's extramarital affair. Unfortunately it turns into a bizarre collage of random \\survival events\\\" (including two especially hokey scenes involving fighting a bear) and strange hallucinations that make you wonder if this kid isn't just sitting in an alley somewhere on pot dreaming up this whole movie (and what a nightmare it is!). Furthermore, despite the heralds of some reviewers of the family viewability of the film, there are several scenes not suitable for very young children or family viewing, including a graphic scene of the dead pilot underwater with one of his eyes apparently exploded.<br /><br />All in all, a terrible movie that nobody should be subjected to, much less innocent kids.\"\n",
      "* * * * * * * * * \n",
      "12566\n",
      "I wasn't as \\lucky\\\" as some of the others commenting on this film: i have never seen anything else out of the...shall we say... \\\"fecund\\\" mind of Sarno. I agree with many: some of the actresses who spend a lot of time topless and (go-go) dancing are not really that attractive. I kinda liked Fraulein Crank(?)...she was so homely , she was cute! The acting was pretty stale, also, though delivering lines in a second language might have accounted for a lot of that problem. Trying to follow the plot was a major chore: was there one, really? I do heartily agree with one other comment: for a vampire movie, there's not much blood. Yep, if you want GOOD bloodsucking flicks, check out such Hammer classics as \\\"Horror of Dracula\\\" and (my personal favourite) \\\"Brides of Dracula\\\".<br /><br />The most (unintentionally) humorous part is where the lady doctor gets her clothes torn off by a cloud of bats...which you never SEE!...the bats, I mean.<br /><br />Okay as a time-waster if you happen to catch it on cable here in the Great White North but, for heaven's sake, don't rent it!\"\n",
      "* * * * * * * * * \n",
      "12627\n",
      "It is incredible!! ..yes, someone before me wrote that it was a time wasting to seat and watch this film.. it is! Don't do so! I'm totally rankled! I liked Wesley Snipes, and I founded funny that he played his name's meaning in a movie. Anyway, I wanted to see this film (at home only of course) but now (just after) I am absolutely disappointed! It was his worst movie ever. Inwatchable!! Bad actor-play! Bad cameraman! Bad scenario! ..Only one good think: that wonderful girl! Must be a manikin surely! Eeeeh!! MB ..10 lines minimum?! I don't want to waste you're time anymore to read my opinion! I hope, i was clear and under-stable, because English is not my native method of speaking. So have grate time, and see good films, like i try too.. Peace!\n",
      "* * * * * * * * * \n",
      "12635\n",
      "Miscasting happens. Susannah Yorke is a luminous young Jane Eyre, and her performance is impeccable. However, Edward Rochester is supposed to be 35. White-haired George C. Scott looks and behaves like an arthritic 80. Jane's deceased uncle is in better shape! He creaks and snarls, obnoxious and grim. He looks like an ax-murderer who has sent his ax out to be sharpened; we're not surprised he keeps a wife caged in the attic! The great love story looks like a sado-masochistic nightmare. There is enough darkness in the novel, but Bronte's Rochester is relatively young, athletic, powerful, and charming when he chooses to be. He has a fine speaking and singing voice, a good mind, and a conscience that he unsuccessfully attempts to stifle.\n",
      "* * * * * * * * * \n"
     ]
    },
    {
     "name": "stdout",
     "output_type": "stream",
     "text": [
      "12702\n",
      "Iberia is nice to see on TV. But why see this in silver screen? Lot of dance and music. If you like classical music or modern dance this could be your date movie. But otherwise one and half hour is just too long time. If you like to see skillful dancing in silver screen it's better to see Bollywood movie. They know how to combine breath taking dancing to long movie. Director Carlos Saura knows how to shoot dancing from old experience. And time to time it's look really good. but when the movie is one and hour it should be at least most of time interesting. There are many kind of art not everything is bigger then life and this film is not too big.\n",
      "* * * * * * * * * \n",
      "12860\n",
      "I saw the 7.5 IMDb rating on this movie and on the basis of that decided to watch this movie which my roommate had rented. She said she had seen it before. \\It's funny and sad! I cried the first time I saw it,\\\" she gushed. Maybe compared to other Bollywood movies this deserves a 7.5 out of 10, but in comparison to all the other movies I have seen in my lifetime, this deserves no more than a 3. Any movie where I can perpetually guess what is going to happen next is no good for me. The characters are unbelievable, how the act is not realistic at all and their motives are contrived. It is over dramatic and the songs aren't all that great. My biggest problem with Bollywood movies is the lack of subtlety. All the emotions are way too overdone and thus not at all realistic. Any emotion or bond between characters that is the least bit subtle must be magnified with an unnecessary song. I think I understood that the relationship between the father and son was more like one between friends than one between a parent and child without having to have it conveyed via a five minute long song. The stupid comic relief complete with laugh track was not funny or necessary (we get it, Laxman isn't the sharpest tool in the shed). If a movie tries to elicit tears through the most hackneyed means possible it just isn't meaningful, just a bit embarrassing.<br /><br />*****SPOILER*****<br /><br />Generally if someone has terminal stage lung cancer their son who lives with them would know something was wrong without having to be told. Too many plot holes to count. At first the movie was amusing and cute in the way Bollywood movies are to people who don't watch them that avidly but it just got tedious. It takes a lot of skill to make a movie that is amusing and heartwrenching and the best way to do it is usually not having all the amusing parts in the first half of the movie and all the heartwrenching parts at the end.<br /><br />*****SPOILER OVER***** Perhaps it had a very little more depth than other Bollywood movies that I have seen, but not much at all. I spent more time laughing at the stupidity of the movie than the parts that were supposed to be funny. I didn't shed a single tear nor did I feel like it, rather I was overwhelmed with a feeling of disgust at the attempt at a dramatic ending. I don't recommend this movie if you want to watch something good, I recommend it if you want to watch a Bollywood movie that is kind of sad.\"\n",
      "* * * * * * * * * \n",
      "12863\n",
      "Well this movie actually made me feel so strongly that I signed up for an IMDb account just to warn people. It is patently AWFUL!! NOTHING makes sense in this movie. There is way too many subplots for a start. Josh Hartnett's character is an aspiring actor and yoga instructor as well as a cop who seems to be living way beyond his means and only teaches yoga to hot girls (Some of whom wait naked in his jacuzzi for when he comes back from work). Add to that the fact that his dad was killed by a crooked cop who just so happens to be in on the current crime being investigated by the hapless duo. Harrison Ford's character is trying to sell real estate on the side and is sleeping with the Internal Affairs investigator's ex-wife who happens to run a psychic radio show which Ford's character calls from time to time. NONSENSE!!<br /><br />I can't remember the characters names (that's how forgettable this is) so I'll refer to them as Ford and Hartnett.<br /><br />Then there's the dialogue which is brutal. I mean cringe-inducing stuff here. Throw in every cliché in the book (having a heart-to-heart in a dark bar during the day over a drink where the bartender knows his name; the duo being investigated by internal affairs (why??); hartnett confronting his dad's killer) and you've got one hell of a mess.<br /><br />As I mentioned the plot is preposterous and continuity is non-existent: 1) When Ford's car is being repossessed, how the hell did the repo guys know where it would be parked? Were they following him?? 2) When Hartnett goes to the morgue and it just so happens that the only clue from the crime scene (an earring) is replicated on of the charred bodies there (that was lucky!) 3) When the two are arrested and taken in for questioning - Ford keeps answering his phone and Hartnett \\centers himself\\\" with a yoga pose on the table. Instead of taking the phone from Ford the IA guy waits for it to ring each time and then tries to grab it off the table before Ford does. Meanwhile the female IA officer in with Hartnett is rubbing herself all over him. Then, inexplicably, the two are released without answering any questions. 4) During the car chase Hartnett's car is crashing and smashing its way around Hollywood but then suddenly the car is perfect again. Not a scratch! 5) When Ford chases the bad guy into the building and he gets in the elevator how the hell does he know which floor the bad guy got off at?? 6) When the two are chasing the bad guy around in hartnett's car, Ford is trying to close a real estate deal. Come on! 7) The bad guy is the most unconvincing record exec ever. His motivation for killing an aspiring group of rappers on his label? They might leave his label and it's a warning to keep his other groups loyal. But hang on, how is he ever going to sign anyone new with that business plan?? 8) Why is the IA guy who is investigating Ford arrested in the end? There is no explication!! 9) And Hartnett gets to use his \\\"acting\\\" to capture the bad guy in the end.<br /><br />I could go on, I really could. Anyone who is looking deeper into this movie than a straight up action comedy needs their head examined because that's all it is. There's nothing else to it! It's not supposed to be satirical or ironic. It's just crap.\"\n",
      "* * * * * * * * * \n",
      "13015\n",
      ":::SPOILER ALERT:::<br /><br />Soooo, Arnie's really a good guy, but after an incident with some fighting in a helicopter and some disobeying of orders, he's sent to jail (or rather some sort of work camp). He escapes, but after a short while he's caught once again. This time ends up in a freakish reality show in which he's supposed to run for a while from a bunch of tough guys with different themes, and eventually die. But we all know Arnie, and we all know that he's tougher than even the toughest of tough guys.<br /><br />I really wanted to like this movie, being an Arnie-fan and all. However, \\The Running Man\\\" contains too many flaws that really annoy the crap out of me. E.g. The reconstruction of Arnie's fight inside the helicopter, where the shocked audience is showed a short summary of the incident, complete with 5-10 different camera angles. This means that the military helicopter in which Arnie flew was equipped with almost 10 cameras filming the crew members, one of which _inside_ the eye of one of the crew members Arnie beats.<br /><br />There are other flaws also, and the plot, which in theory seems to be very interesting and innovative, works for a while, then it sort of creates a pool of stupidness and unrealism in which it drowns.<br /><br />The acting can't really be said to be anything better than sub par, with Arnie in the leading role, doing an average Arnie performance. The rest of the cast get by without being especially good or bad.<br /><br />The special effects are OK, without being impressive.<br /><br />RATING: 3/10\"\n",
      "* * * * * * * * * \n",
      "13081\n",
      "This movie was almost intolerable to sit through. I can get beyond the fact that it looks like it was shot with a home video camera and that this movie is supposed to span over weeks in time yet the characters do not once change outfits, but the acting broke the 4th wall to pieces for me. I've seen better acting in a 4th grade play. Aside from that the plot is unrealistic. If the man suspected the guy he would have turned him in. I was also heavily disappointed that all the killings were done with a gun what kind of gore is that. That is not a copycat the Zodiac did not kill using just a gun the authorities would have known it wasn't him. Another thing that really bothered me was that they called Disassociative Identity Disorder DSM 4 when that is the name of the book used to diagnose people with mental disorders not the name of the disorder. Overall I think this movie is not the kind of movie that could be done with a low budget at least not as low as they had or they could have made sure they had better actors or more gore. Plenty of people have went the low budget route with out having to use horrible actors look at Easy Rider that had Dennis Hopper and Jack Nicholson and a low budget.\n",
      "* * * * * * * * * \n",
      "13121\n",
      "\\Welcome to Collinwood\\\" is kind of a disaster. Considering the people involved, it should've been multiple times better.<br /><br />Watching it, if you're at least somewhat attached to the faith that it'll get better, will probably make you cry. It's one of those movies that had potential, but was robbed of this potential thanks to a terrible script and some bad acting, not to mention the strangely annoying and unnecessary George Clooney character and the guy who reminds me of Richard Dreyfuss but about whom I care so little that I don't even want to know his name.<br /><br />The film's only saving grace is the weird con vocabulary it introduces. I found myself thinking of it time and time again as I watched more crime capers. This is the only reason I gave the film a 3. The plot is boring, the characters are neurotic, needlessly offensive, and highly unlikable. They are in a constant state of agonizing stress and they're all so irritating that I celebrated their obstacles. They yell at each other and swear crassly. The dialogue is insipid at best and insultingly stupid at its low points.<br /><br />I find that Steven \\\"Traffic\\\" Soderbergherabracadabrablahblah and George Clooney are to blame for this. They should be tried for war crimes, if anyone actually remembers this crap long enough to care.\"\n",
      "* * * * * * * * * \n",
      "13166\n",
      "My wife and I just finished this movie and I came onto to IMDb to commiserate with the reviewers that found this movie less than satisfactory. However, of the 10 pages of reviews, only a handful are negative. I feel that this movie is a great concept gone horribly awry and I want to warn those who are looking to watch the movie into the future.<br /><br />I admit, I'm more inspired to write reviews when I don't like a movie than as to when I do, so my handful of reviews are all negative. Still, that doesn't mean I'm biased towards not enjoying a movie, but I often find more eloquent reviews of movies I do enjoy.<br /><br />Paris je t'aime is the most pretentious movie I've seen in years. By using an \\intelligent\\\" concept and attaching some big talent to a couple of the WAY to many short stories, the movie ends up the worst of all worlds. It is art for arts sake, but something that a 2 year old could dream up and accomplish. Giving the director free reign of 5 minutes of screen time proves why there is a division of labor even in entertainment. Directors can't write, writers can't direct. (I'd like to throw in also that Clint Eastwood is overrated, but that is because he's an actor turn director {which rarely works, either}).<br /><br />What ends up on the screen is a garbled mess of short stories that don't make any sense, are not completed in 5 minutes and in total, spoil Paris to me. Why call it Paris je t'aime when a more apropos title is cluster f*ck? There are only a couple stories that are watchable, most notably the piece by Alfonso Cuarón, but everything else will fall into obscurity. The Coen brothers short is passable, but can you name a movie of theirs that does not contain a scene with a pick guitar? It's as if all the directors decided on doing whatever it is they want to do and chose Paris as the place to do it. As we all love Paris, present company included, we are blinded by the fact that this movie SUCKS. In fact, I think they put the directors names on each of the shorts because directors saw how poor of a film this is and decided to make sure they were blamed only for their 5 minutes. Seriously. SERIOUSLY.<br /><br />People, Natalie Portman is NOT a good actress. She is is not a pixie dream girl waiting to be yours. And Maggie Gyllenhaal, why?!? Are you people acting or just regurgitating performances from other movies? I'm looking at you Natalie Portman (Garden State, Closer), Elijah Wood (Sin City) and Catalina Sandino Moreno (Maria Full of Grace).<br /><br />One final comment on the acting: I give double kudos to Nick Nolte for acting and looking more humane than you have in ages or perhaps ever will again. Find his short on youtube as his 5 minutes are quite enjoyable.<br /><br />Writing short stories is very difficult and only a handful of authors have gotten it right. I'm thinking of Ernst Hemingway, Raymond Carver, F. Scott Fitzgerald, and John Cheever, just to name a few. It is much harder than writing a full novel and only the truly talented can accomplish this. The same can be said about short films. It appears that only one director will live on in the annals of history.<br /><br />If you uphold Paris as a gem to be discovered and reflected through your own lenses with your own story, then don't expect to enjoy this movie at all. The directors either didn't care or were lazy. In either scenario, by the time you are reading this it means you rented it. Praise be that you didn't pay 10 dollars a head in theaters for it.\"\n",
      "* * * * * * * * * \n",
      "13175\n",
      "I was curious to watch this movie. A lot of people seem to be excited. I also have my beliefs. I believe in Jesus Christ but I'm opened for any kind of views or opinions. It doesn't matter for me, if Jesus existed in the way it's written in the bible. If Maria was a virgin or not, or all the other similar pagan coincidences. What matters for me is the idea of salvation, the idea of love as the only way to find peace in this world.<br /><br />What made me angry is when somebody takes a sentence, present it as a fact but without showing the context it was written. For example, they showed in this movie following sentence big: \\Those enemies of mine who did not want me to be king over them - bring them here and kill them in front of me\\\" Jesus (Lukas 19:27) What they didn't tell you is the context. Jesus told a story about an evil king. There is no passage in the bible where Jesus supports killing. He is love! After quoting the bible wrong they present us yelling people (pseudo-christians) filled with hate. The majority of viewers don't check the informations presented so they start thinking Jesus=hate=not good for me or for anybody else. This is pure manipulation people. Please use your brain. Don't take everything as a fact they tell you in this movie. We destroy our own basis, our civilization if we start dismantling Jesus in this way and the message he brought to us. You saw off the branch you're sitting on.\"\n",
      "* * * * * * * * * \n",
      "13187\n",
      "It was 9:30 PM last night at my friend's camping trailer and we were so hyped to watch South Park (a new episode). The thing is, in my country, South Park airs at 10:30 PM and we decided to kill time by watching the show now airing, Father of the Pride. I'll start by saying that I have only watched to episodes. The first time I watched it, I found it unfunny and crude for nothing, so I thought ''Holy sh*t, I have a football game early tomorrow, so I have to stop watching stupid cartoons''. But yesterday, I tried to give Father of the Pride a second chance. I find that it's a complete rip-off of The Simpsons, only replacing yellow human characters by lions instead.<br /><br />The second thing is I wonder why it got it's TV-14 rating. I find The Simpsons a lot more vulgar, and the only real vulgarity in this show is a few homosexual (unfunny) jokes. The Simpsons is also a lot more violent (Halloween specials) and crude. I also heard that the creator of the series has also directed Shrek 2, well I've got news for him: Shrek 2 was way better and I think he stayed too much in the family thematic. However, I must admit that Father of the Pride did make me smile (even burst out laughing once) three or four times.<br /><br />All in all, I don't mind Father of the Pride. I don't hate it, but I don't like either. I've seen way better from ''The Simpsons''.<br /><br />3.5/10\n",
      "* * * * * * * * * \n",
      "13384\n",
      "A friend once asked me to read a screenplay of his that had been optioned by a movie studio. To say it was one of the most inept and insipid scripts I'd ever read would be a bold understatement. Yet I never told him this. Why? Because in a world where films like \\While She Was Out\\\" can be green-lighted and attract an Oscar- winning star like Kim Basinger, a screenplay lacking in character, content and common sense is no guarantee that it won't sell.<br /><br />As so many other reviewers have pointed out, \\\"While She Was Out\\\" is a dreadfully under-written Woman-in-Peril film that has abused housewife Basinger hunted by four unlikely hoods on Christmas Eve. Every gripe is legitimate, from the weak dialog and bad acting to the jaw-dropping lapses of logic, but Basinger is such an interesting actress and the premise is not without promise. Here are a couple of things that struck me:<br /><br />1) I don't care how much we are supposed to think her husband is a jerk, the house IS a mess with toys. Since when did it become child abuse to make kids pick up after themselves?<br /><br />2) Racially diverse gangs are rare everywhere except Hollywood, where they are usually the only racially balanced groups on screen.<br /><br />3) Sure the film is stupid. But so are the countless \\\"thrillers\\\" I've sat through where the women are portrayed as wailing, helpless victims of male sadism. Stupid or not, I found it refreshing to see a woman getting the best of her tormentors.<br /><br />4) I LOVED the ending! <br /><br />5) Though an earlier reviewer coined this phrase, I really DO think this film should be retitled \\\"The Red Toolbox of Doom.\\\"\"\n",
      "* * * * * * * * * \n",
      "13499\n",
      "This is complete and absolute garbage, a fine example of what a BAD movie is like, this can't be appealing to anyone, not even b-movie fans. Do not, I repeat, DO NOT waste precious time of your life on this piece of trash. Bad acting, bad directing, horrible (but I mean really horrible) script, and complete lack of an idea as to what entertainment (of any form) is. I bought the DVD for 3 dollars, I swear I could almost pay someone to take it. Burning it would not be enough for what this movie did to me. I like b-movies, the killer toys, the weird lagoon monsters, but this is nowhere near. You know those movies that are so bad they are funny? Not even. Just plain old pathetic.\n",
      "* * * * * * * * * \n",
      "13507\n",
      "First of all, the actor they have to play Jesus has blue eyes... half the actors they have playing Jews have blue eyes. Aren't there enough brown-eyed actors out there? Jesus being depicted as having blue eyes is one of my pet peeves. He was a full-blooded Jew! Second of all, what is it with old English-language movies that are supposed to take place in non-English-speaking countries, and everybody has English accents? (Another example is David Lean's \\Dr. Zhivago\\\".) Aren't there enough either Jewish actors or actors who can do a Israeli accent? The movie often is not true to the Scriptures, and so seems to doubt the legitimacy of Jesus's claim to be the Messiah. In the bible, when Jesus is baptized by John, a voice comes from heaven saying \\\"This is my beloved son, in whom I am well pleased\\\" (Matthew 3:17, Mark 1:11, Luke 3:22). In the movie, John the Baptist says this! The screenwriter seems to be trying to portray the believers as crazy, as well. For example, in the bible, the angel Gabriel tells Mary she will become pregnant with the Son of God (Luke 1:26-38), but in the movie, we do not see or hear any angel - Mary appears to be talking to a moonbeam, and when Mary's mother hears her talking to someone and peeks in on her, she doesn't hear or see anyone either. Also, in the movie, when Jesus is speaking to the Pharisees in the Temple in Jerusalem, he says, \\\"You shall not see me here again, not until you learn to cry, 'Blessed is he who comes in the name of the Lord', for I and my father are one and the same.\\\" The correct line (Matthew 23:39 and Luke 13:35)is \\\"You will not see me again until you say, 'Blessed is he who comes in the name of the Lord.'\\\" Period. Jesus never claimed to be God. The movie cuts out a lot of important parts (the Sermon on the Mount is very expurgated), but then spends a lot of time on stuff that isn't even in the bible (a whole scene with Mary Magdalene talking with a john). It seems like the screenwriter, instead of wanting to do a movie version of the Scriptures, wanted to make a movie about what he thinks might have really happened behind (and between) the scenes. The movie has one gem though - during the scene where Jesus tells the parable of the Prodigal Son, at Matthew the tax collector's house, I had tears streaming down my face. It is the best movie I've seen about Jesus's ministry (but that isn't saying much, because the others are just terrible). \\\"Jesus Christ Superstar\\\" is my favourite movie about Jesus's last days (\\\"The Passion of the Christ\\\" is way too graphic), though I like how \\\"Jesus of Nazareth\\\", instead of just ending with Jesus's death, continues on and shows his resurrection.\"\n",
      "* * * * * * * * * \n",
      "13696\n",
      "American film makers decided to make a film they think is Japanese. The characters all badly represented, the actors are not even Japanese and the set is cheap, unreal and definitely doesn't represent Kyoto in Early 20ties and 30ties. Who ever read the book understand that the script writers didn't add any extra value to differentiate the movie from the script. Worse, they even changed the original plot line with a few goofs. Rob Marshall is using for his two main characters two well known Chinese actors who joined before in crouching tiger hidden dragon. Marshall probably saw one Chinese movie and tho they represent Japanese culture. Seeing those two actors together again even makes the movies more ridiculous. Quentine Tarantino's last scene in Kill Bill #1 is ten times more Japanese made than that of this movie.\n",
      "* * * * * * * * * \n",
      "13812\n",
      "Near the beginning, after it's been established that outlaw John Dillinger (Warren Oates), is an egomaniacal rapist, another bandit of the 1930s is cornered in a farm house and surrounded by the FBI. Second-in-command Melvin Purvis (Ben Johnson), surveys the situations, sticks a lighted cigar in his mouth, picks up two loaded .45-caliber automatics, and stalks off into the distant house alone. Bang, bang, bang. Purvis emerges alone from the house, carrying the female hostage, the miscreant dead. All in long shot.<br /><br />If you're enthralled by stories like Red Riding Hood, this should have considerable appeal.<br /><br />Oh, it's as exciting as it is mindless. Pretty Boy Floyd meets his demise dramatically. Multiple violations of the civic code. Plenty of shoot outs with Tommy guns and pistols. Blood all over.<br /><br />As history, it stinks. Few remember Melvin Purvis as an FBI hero, partly, I would guess, because of his name. Melvin PURVIS? We all remember J. Edgar Hoover, who fired Melvin Purvis because he was a rival in the quest for public attention though.<br /><br />The picture was written and directed by John Milius. He's the guy who had it written into his contract that, should any animals be shot and killed in the course of one of his productions, he should be the designated shooter. Milius is the guy, a compleat gun freak, who had Teddy Roosevelt's Rough Riders in the Spanish-American war shouting quotations from Henry V -- \\Saint Crispin's Day\\\" and all that.<br /><br />Exciting, yes, and complete garbage. \\\"I knew I'd never take him alive, and I didn't try too hard neither.\\\" That is, kill 'em all and let God sort them out.<br /><br />You'll just love it.\"\n",
      "* * * * * * * * * \n",
      "13834\n",
      "I just rented this today....heard lots of good reviews beforehand. WOW!! What a pile of steaming poo this movie is!! Does anyone know the address of the director so I can get my five dollars back???? Finally someone bumped \\Stop-loss\\\" from the 'Worst Iraq War Movie Ever' number one spot. To be fair, I don't think there are any good Iraq war movies anyway, but this was REALLY bad. <br /><br />I won't get into any technical inaccuracies, there's a hundred reviews from other GWOT vets that detail them all. If the director bothered to consult even the lowliest E-nothing about technical accuracy however they could've made the movie somewhat realistic....maybe. I guess the writer should be given the \\\"credit\\\" for this waste of a film. He or she obviously hatched the plot for this movie from some vivid imagination not afflicted with the restraints of reality. Does anybody but me wonder what the point of this movie was? Was there a message? Seriously though.....WTF????<br /><br />I'm pretty amazed at all the positive reviews really. This film is hard to watch as a vet because of all the glaring inaccuracies but even if one could overlook that, the plot sucks, characters are shallow (to say the least) and the acting is poor at best. It's ironic, I suppose, that this movie is supposed to be about Explosive Ordinance Disposal, because it's the biggest bomb I've seen this year.\"\n",
      "* * * * * * * * * \n",
      "13835\n",
      "I was very disappointed in this 1970 film based on a Bernard Malamud story. This is basically a story of possible redemption, racial bias and the unfulfillment of life based on mistrust.<br /><br />A black Jewish angel is sent to help a struggling tailor and his critically ill wife. If Morris Mishkin (Zero Mostel) will only believe in the angel (Belafonte), his wife Fanny (Ida Kaminska) will recover. The problem is that Morris has basically given up on life and just refuses to believe that Belafonte is an angel.<br /><br />When he believes it, Fanny improves but in the end he has doubts and Fanny suffers accordingly. It would have been very nice if there had been an English translation in the last scene when a dying Fanny speaks to Morris.<br /><br />Jan Kadar, who successfully directed Miss Kaminska in her Oscar nominated brilliant performance in 1966's \\The Shop on Main Street\\\" directs this film as well. Kaminska is reduced in the film to mostly bed scenes and her kindness in her speech really doesn't convey the desperate situation that she faces. She keeps calling for Ruthie, their daughter, who disobeyed them by marrying out of the Jewish religion. For most of the film, she does not realize the Angel's appearance in her apartment.<br /><br />The scene in the pharmacy is muddled and the scene where the Angel's girl friend confronts Belafonte in their apartment, is memorable but all too brief.<br /><br />We don't know why Belafonte is in danger and why he has died.<br /><br />Those viewing this film must have left the theater in a state of depression and desperation.\"\n",
      "* * * * * * * * * \n",
      "14023\n",
      "Here we have 2 misunderstood kids who never stood a chance against a cruel, poverty riddled existence: Robin Hoods singled out by the police for persecution because they were a trifle wild at times. Gad! According to this crap Bonnie was the sweetest little thing west of the Missouri who was taught to be a psychopathic murderer by a fun loving boyfriend who didn't really want to hurt anybody....he just wanted things without putting a lot of energy into getting them. Badly acted, poorly filmed, unbelievable dialogue, unrealistic use of weaponry, gore that looked more like grape jelly than the real thing. Avoid this bilgewater. Thumbs down. -5 stars.\n",
      "* * * * * * * * * \n",
      "14031\n",
      "A badly-acted two-character comedy-drama abruptly transmogrifies into a weren't-we-awful-to-the-Indians polemic, with lousy special effects, exploitative use of nudity, and ugly violence. It's as sincere as a politician's handshake, as obvious as a car salesman's pitch, one of the worst movies in the history of the universe. Absolute and utter dreck.\n",
      "* * * * * * * * * \n",
      "14084\n",
      "Is it possible to give a movie NO STARS? I suppose not. However many stars IMDb displays this just think zero and you'll get my drift. Director and photographer Timothy Hines didn't have much of a budget compared to Spielberg's Herculean effort with the same material (rumored to be the most expensive movie ever made), but that need not be an insurmountable handicap. I've seen some wonderful work done on a comparative shoestring (\\Soldier and Saints\\\" is a recent example). With hard work, integrity and, above all, talent it is certainly possible to realize a faithful rendition of Wells' novella -- and at fraction of what was spent by Dreamworks on its \\\"War of the Worlds\\\". Unfortunately, Hines failed in all these departments. Even if he had had Spielberg's budget and Tom Cruise signed for the lead his movie would have stunk just as badly as this barnyard animal he's foisted on us.<br /><br />Primarily, Hines seems unable to tell a story. Thanks to digital video technology he can record images and sound, but he shows little aptitude for assembling a narrative with what he records. A guy walks down a country lane, a lot. He talks badly aped Received English to some other guy. Then he walks down the same lane, only shot from the back this time to show he's returning -- clever, eh? Walking and talking, for nearly an hour that's all that happens. OK, I'll grant that one extended excursion from the main character's house to the impact site on Horsell Common to show that it's a considerable distance from one place to the other might be useful (a first-year film student could storyboard a more economical and more aesthetical establishing sequence than this, btw), but half a dozen times? Back and forth, back and forth, et cetera, et cetera with some yakkity-yak in between. Remarkable. The only explanation for this surfeit of redundancy other than total artistic ineptitude is a desire to pad out thirty minutes of wretchedly amateurish CG works into something that could be offered as a feature-length film. Finally the Martian fighting machines appear and the walking and talking becomes running and talking, or shrieking. Later we get staggering and wailing for dessert.<br /><br />Thankfully, much of the dialogue is lifted straight from H.G. Wells' text; else we'd have no idea what is going on. But is it not the whole point of cinema to illuminate a text, to realize what words alone can't convey? If a film relies on dialogue or monologue to tell us what we see or how to feel, why bother? Why not do a radio play? Orson Welles made himself a household name doing just that. However, Hines thinks he's a filmmaker, so he's content to mouth the words and swallow the meaning.<br /><br />Secondly, Hines was able to buy some CG effects of a sort for his movie, but he has no idea how to use them. Now I for one have no unquenchable sweet tooth for eye candy. I believe good science fiction cinema doesn't need dazzling technical effects. Some really potent Sci-Fi's have flourished on virtually none at all. But \\\"The War of the Worlds\\\" as film requires a certain baseline effort. Wells tells a story that hinges on things can be seen and heard and even smelled. The effects don't need to be complex; they can even be crude (e.g. fighting machines on wires gliding over miniature streets as seen in the George Pal/Byron Haskins 1953 version), but they must be handled well. Unfortunately Hines' effects are both crude and incompetent  tripod fighting machines higher than a cathedral spire stomp around making a noise like a pogo stick bouncing on linoleum  Martian squidoids even though oppressed by four times the gravity of their native world scurry and flit about without perceptible effort  skeletons totally denuded of flesh and muscle writhe and scream -- the same damn horse and buggy greenscreens its way across the foreground a dozen times (flipped left for right occasionally in hope that we might not notice)  and on ad nauseum. Crude technique is forgivable. So you have a CG fire effect that's less than convincing? Fine, we can work around that. Just don't use it too often and only show glimpses of it. That stomped woman sequence looks more like a crushed plum? Throw it away. It's not necessary. You say your Martian flyer looks like a toy on a string? If you must use it, go ahead, but please don't show it twice! But no, Hines won't listen. We get the worst looking stuff used again and again. Gotta get those 180 minutes somehow, boy.<br /><br />Next we have acting, or more precisely too much acting. Whether in a speaking role or just paid to die on queue everybody in this film is acting his little heart out. Evidently Hines thinks he's getting a bargain -- More fleeing in terror over there! You, quaking behind that tree, let's have a real conniption fit this take. You call that writhing in agony? Nonsense, my grandmother can writhe better -- Nevertheless the cast as a whole and individually stink. They aren't even good amateurs. But this needn't prove fatal. Many a good movie has been made with rancid acting. That's what directors are for. And editors. Which brings up another point",
      " Who the hell let Tim Hines edit this cheese factory? If America's butchers were as adept at meat cutting as Hines is at film cutting your next hamburger would be all fingers and no beef. In spite of the near three-hour running time there is lots of stuff missing from this movie -- not sequences, but single frames, creating a herky-jerky effect that's nauseating to watch. Maybe Hines intention was to simulate the effect of a hand cranked cine camera of the 1890's. If he was I can say he doesn't know how to do it.\"\n",
      "* * * * * * * * * \n",
      "14132\n",
      "If an auteur gives himself 2 credits before the main title and about 15 more credits before the movie starts, and the first shot shows the auteur rolling around on a bed in lycra bike shorts, it won't be a surprise to observe that said auteur has the kind of body that should never be seen in spandex. The kind of look that might be useful to a homosexual aversion therapist.<br /><br />Others have given this thing the dishing it deserves. For me the most pitiable moment came when the trip from LA was signified by a plane landing at what appeared to be LAX; and the return was signified by a shot of a Fedex cargo plane.\n",
      "* * * * * * * * * \n",
      "14229\n",
      "As a fan of Eric Rohmer's studies of the contemporary war between the sexes, I was very eager to see \\The Lady and The Duke (L'Anglaise et le duc)\\\" for how he would treat men and women during a real war, the French Revolution. <br /><br />The film looks beautiful, with each scene designed as a period painting, like a tableaux vivant. And I expected much talking, as that's Rohmer's style. But maybe Rohmer was restrained by basing the screenplay on a real woman's writings is why this mostly felt like a docudrama version of \\\"The Scarlet Pimpernel.\\\"<br /><br />As awful as the excesses of Robespierre et al, how about some recognition that the French aristocrats were spoiled brats? I kept humming to myself: \\\"Marat, we're poor/and the poor stay poor;\\\" you could also pick a tune from \\\"Les Miz.\\\"<br /><br />I wasn't all that sympathetic as the central figure has to go back and forth between her city home and country manor to stay ahead of the Revolution. At one point her maid claims the pantry is bare but sure manages to lay out a fine repast. I simply didn't understand her, an English sympathizer who alternately rejects and defends her former lover and patron as he and the Revolution keep shifting political focus; I think I was supposed to sympathize with her consistency more than their political machinations, like a character out of \\\"The Scarlet Pimpernel.\\\" Hey, the only reason she didn't go back home was her disgrace after an affair and child with the Prince of Wales or somebody. <br /><br />Usually in a revolutionary period there's some groundswell of change going on in relations between men and women, but I saw none here. I once went to a Herbert Marcuse lecture that concluded with a lengthy Q & A; the last question, from an audience member far older than the rest of us acolytes, heck she had gray hair, was \\\"Why are revolutionaries so grim?\\\" She was hooted at and Marcuse didn't deign to respond to it seriously -- but it's the only thing of substance I remember from the whole evening. Rohmer demonstrates that counter-revolutionaries are also grim and didactic.<br /><br />(originally written 8/11/2002)\"\n",
      "* * * * * * * * * \n",
      "14385\n",
      "Tierney's an authentic tough guy, but this movie misfire from normally competent RKO undercuts his impact at every turn. The script is about as plausible as OJ Simpson at a Ten Cmmandments dinner. Just count the times Tierney's incredible car companions swallow one lame excuse after another for his evasive and violent acts. The old cliché about it \\only happening in the movies\\\" applies here in spades. Then there's the guy playing the watchman, who appears to have wandered in from a boozy WC Fields comedy, ruining the menacing mood in the process. The static one-room sets don't help either, and neither does director Feist's obvious lack of feel for the material. Then add a final car chase missing both imagination and pay-off, and the results are pretty flat. In fact the movie only picks up in the station-house scenes where hard-bitten cops discover the hidden powers of innocent-looking gas station attendants. Too bad that Tieney's career never really gelled. I gather that was due largely to being as big a tough guy off-screen as on and getting in one sleazy scrape after another. His ice-cold manner and clarity of emotion remind me at times of Lee Marvin at his tough-guy best. Anyway this project might have worked as a radio play, but as a movie with a promising noir title, it's a disappointment.\"\n",
      "* * * * * * * * * \n",
      "14439\n",
      "the writing of the journalists and the required over eager reckless press officer and sobbing grandma was ham-fisted and cliché ridden.<br /><br />I cant blame the actors, but surely someone must have said \\are you joking I cant say this!\\\"<br /><br />This episode had a press perspective and police perspective, while the police perspective was standard enough, the press perspective and characterization was overdrawn exaggerated and at points insultingly unbelievable.<br /><br />I notice that this was an HBO co production, if so then perhaps the sledgehammer stereotypes can be explained in that light,<br /><br />I was completely cringing during the press conference scene. it lacked any credibility and did not remotely ring true. 40 minutes into the first episode and I am still waiting for the suspense.<br /><br />Skip Five Daysthis. the 2008/9 production with these characters is far better and more suspenseful even if the crime is over the top.<br /><br />This story had unforgivable moments which can only be described as staggeringly unbelievable.<br /><br />For a press officer to start a press conference without an investigating officer present to take press questions.<br /><br />so unbelievable it felt like amateur hour.<br /><br />I then began looking for Journalists called \\\"Scoop\\\" and for Perry White to make an appearance.<br /><br />I saw the 2009 Hunter before \\\"five days\\\"made it to Australia, not realizing it was a prequel and was looking forward to Bonneville and McTeer going around again.<br /><br />Head shakingly awful.\"\n",
      "* * * * * * * * * \n",
      "14573\n",
      "You know you're in trouble when John Cassavetes is operating at half-speed instead of full-throttle in a movie, and \\The Incubus\\\" is a dreadful, worst-case scenario of a great actor going through the motions to pay the bills. Actually, observing the hammy script and John Hough's 'baroque' art direction, one can hardly blame him. The movie has something to do with a series of rape-murders going on in a small town, with a lot of supernatural hokum mixed in. Somehow, the direction manages to suck tension and interest out of every scene, and Cassavetes seems visibly P.O.'ed at times. The Incubus itself, which doesn't show up until the last scene, is a well-done creation, but it's not worth waiting for.<br /><br />1/10\"\n",
      "* * * * * * * * * \n",
      "14583\n",
      "This is 30 minute show about one joke. The joke, Cavemen are not treated fairly. HaHaHa!!! He can't dial a phone because he is a Caveman. Cavemen are not as smart as human beings. Oh jeez, those Cavemen are so unsophisticated. There is no humor in this show. They can only run off this one joke for so long and they already have with the Geico commercials. This show does not deserve a time slot on national T.V. <br /><br />This show tries to hard to be funny, but it just isn't. Watching this show, I was thinking that it was trying to be like a \\Bachelor's Gone Wild Show.\\\" Meaning they go to the bar and try to sleep with many women. The crying caveman is annoying. The caveman with the glasses is too smart to be a caveman(HAHAHA!!!). All three of them have personalities, but I can't figure out why I don't care about them.\"\n",
      "* * * * * * * * * \n",
      "14657\n",
      "I think it was an overrated PG-13 crap! At least BRITTANY SNOW's performance was good and some others like IDRIS ELBA were good too, but some others teens in the prom like the leads friends were not that convincing. The killer was so dumb and looked so stupid too. The deaths were stupid, boring and completely unoriginals. The movie was very boring too and very overrated. It wasn't suspenseful at all, i almost fall asleep. Its another bad PG-13 remake, its really a dreadful movie IMO. The ending was so stupid and the climax was very rushed and boring. The movie is pretty slow too. Overall the only good thing about this crap fest is maybe BRITTANY SNOW i think she gave a good performance and IDRIS ELBA too, but besides that it was a completely dreadful movie and horrible remake. Well thats just my opinion. i gave it a 2/10.\n",
      "* * * * * * * * * \n",
      "14789\n",
      "I was China in this film. I choose the screen name Sheeba Alahani because I was modeling at the time in Italy and they couldn't pronounce my real name correctly, so I choose Sheeba and then added Alahani since it was similar to Alohalani.<br /><br />I had never acted before (and it shows), but it was so much fun to film. They gave me \\acting lessons\\\" each morning (which obviously were not useful). They dubbed my voice (thank goodness).<br /><br />David and Peter were a blast on the set, full of good humor and jokes. This film was never meant to be taken seriously, it was a tax write off according to inside information. <br /><br />I give it a 1 because I have a sense of humor, but a 10 for the fun I had \\\"acting\\\" in it.\"\n",
      "* * * * * * * * * \n",
      "14792\n",
      "A movie best summed up by the scene where a victim simulates disembowelment by pulling some poor animal's intestines out from under her T-shirt. Too terrible for words.\n",
      "* * * * * * * * * \n"
     ]
    },
    {
     "name": "stdout",
     "output_type": "stream",
     "text": [
      "14829\n",
      "Seldom do I give up on a movie without seeing the entire show. This is particularly true when I have rented it on DVD. Syriana was one in which I did give up. Half way through I turned it off in bored disgust.<br /><br />This movie is disjointed, boring, confusing and lackluster. The acting was dry and without credible portrayals. The general plot was good but developed in such an insipid and boring fashion that it failed to grasp my attention or interest. The multiple sub plots often failed to connect to each other and seemed more like random stories than an actual connected plot. Too bad such a serious subject and such great actors could create such a flop. I cannot imagine this movie receiving any nominations much less an award.\n",
      "* * * * * * * * * \n",
      "14851\n",
      "Not too keen on this really. The story is pretty horrid and unconvincing. I enjoyed the first 10 minutes, bill nunns good. After that it was pretty appalling. Tim doesn't fit the role, he comes across as a smug self inflated ass & Pruitt taylor vince is entirely unconvincing as a trumpet player. It's a idealist film and as a musician, feel slightly offended after watching it. There's no scenes of 1900 practising or playing with his fellow band mates, he's completely self indulgent. I find it hard to build any relationship with this kind of character, maybe i'm watching the wrong film. If you have no real passion for life or sense of what musics all about then happily indulge in the suspension of disbelief and watch this waffle.\n",
      "* * * * * * * * * \n",
      "14863\n",
      "This movie was extremely poorly conceived from every angle except technological. I stood and watched everyone waddle out of the theater, their faces drained like their lives flashed before their eyes -- eyes wandering at their neighbor, wondering if it was just them. I mean, how could the movie really be bad. Nobody'll admit it, it's a classic case of The Emperor Wears No Clothes. \\Who am I to question a movie containing a guy who stops a jet liner?\\\" But the fact remains, every member of the audience is thinking what I'm writing right now. I actually plagiarized their faces.<br /><br />Obviously Lois is only aroused by power, she won't even have a cup of coffee with the Superman With Glasses who doesn't stop jet liners. It can't be the look in \\\"his\\\" eyes to the depths of his soul or anything like that. In the old Supermans, she had some level of connection with him, he wasn't priority number 1, obviously, but it strengthened her character that she was \\\"torn\\\". I bet Henry Kissinger would have even won this Lois over before Clark Kent.<br /><br />And now it's official, Kryptonite does to Superman what eating at McDonalds does to the avg. person.<br /><br />SUPERMAN \\\"ONE\\\" He loses his earth dad, then finds his real super dad, the story is captivating every step of the way. He's human, he relates to people and he feels love for people, he relates to highschool students, he relates to people who feel different. He relates. The Superman Returns superman seems to relate only to Superpeople and it seems he's just \\\"doing a job\\\" when he's saving people.<br /><br />There's something about Clark that Lois likes, she's really internally in love with him but can't admit it, and when he comes into the picture as Superman, it throws a kink in the on-the-rocks love. Without Superman, she would've fallen in love with Clark (at least that's what the movie points to, whether it was the intention or not). Superman Returns is a love story between a woman and SUPERMAN, Clark is like a pile of horse maneur to Lois. Literally.<br /><br />SUPERMAN TWO I just watched it again. As a kid, I \\\"thought\\\" I enjoyed the action, but now I know it was the STORY that held me then too, watching it over and over again. If I saw Superman Returns as a child, I would've hated it then too, I think.<br /><br />There is so much heart and soul and superpower going around in this movie, it's sick. Superman gives up his powers for love as a world plot is going on and meanwhile, MEANWHILE, Lex Luther's got something fantastic up his sleeve.<br /><br />SUPERMAN THREE Now there's a three-way love story between Superman and Lana and Clark, only humanity wins and Clark's inner nature beats Superman's power, because when his SUPERmoral nature is gone and he's SuperHUMAN (who does human things with his superpowers), she sees it's not the power of Superman that she's in love with, it's not SUPERpowerman, but SUPERMORTALman that she loves -- and who's really SUPER. And when she tells Clark she \\\"prefers\\\" him to Superman, he is elated, he has made a human connection again. He wants to be accepted for who he is, not just for his ability to bend steel. THIS IS THE KIND OF STUFF THAT'S MISSING FROM SUPERMAN RETURNS.<br /><br />Clark super-sneezes to help the kid get a strike - humanity again. Plus, it's an INERESTING use of superpowers. He's not just using straight brute strength.<br /><br />He crushes the coal into a diamond for his woman because she had to sell hers, love is the only thing that drives him to use his powers other than for saving.<br /><br />It seems there's nothing at stake in Superman Returns. Even in Superman Three, we see the damages caused by the nemesis' world domination plot.. we see suffering, we see how it effects Pryor and others and people in the middle of it.. there's no damage, esp. emotional from Lex's plot to sink the US. We see a glob of crystal thrown into space.. Superman had to get very creative in the first three Supermans in order to stop the plot against him, he couldn't just \\\"access\\\" his superpowers. In the first one, he had to stop two missiles going in different directions and then break his universal mandate and erase history to save Lois' life... (this was THIRTY YEARS AGO!!\\\") In the second one, he had to outsmart three guys that he was already more POWERFUL than, but combined with Lex's genius, and the villains' immoral tactics, Superman's overpowering wasn't enough, he had to work one against the other and outsmart them... In Superman III, again, his superpowers weren't enough to win.. He had to outsmart a computer that calculated everything it saw. He couldn't use straight aggression on the computer because it calculated it in advance, so he had to use a benign acid that would only become deadly to the computer after the computer responded to the aggression. And he found that acid earlier when he couldn't simply use his superpowers to BLOW out a fire because it was a chemical fire, so he had to use his superbrains -- he couldn't carry water, so he froze a lake and dropped it on the fire.. Now in Superman Returns, he simply lunges the island into outerspace, like a night temp for UPS. He doesn't need to figure anything out, he just uses his \\\"super strength\\\". And Lex Luther's brilliance was shown at the premeditation level of a junkie who just ran out of junk.<br /><br />To say nothing of the fact that he threw that island into outerspace after getting stabbed with a KNIFE of kyrptonite right in the bloodstream AND the island itself was dripping kryptonite spores in his face, but he just averted his eyes and nose like it wasn't Grey Poupon he was looking at.\"\n",
      "* * * * * * * * * \n",
      "14887\n",
      "This movie isn't about football at all. It's about Jesus/GOD!! It's the same kind of sappy sanctimonious religious drivel you get from those arch idiots who wrestle for Jesus, or pump iron for Jesus. Yeah, Jesus was totally buffed, liked contact sports, and definitely owned a full set of dumb bells. DUHHH! This movie should have been entitled \\Hiking for Jesus,\\\" or something along those lines just to let the general public know that the real intent of this movie is to convert people to Christianity, and to pander to those whose brains have already been thoroughly washed in the blood of the lamb. That the title is derived from the Bible is made clear when the head coach is reading his Bible and asking Jesus for help. The recent sports movie \\\"Invincible\\\" was 100 times more inspiring than this was, and Jesus wasn't even a factor. It was just the desire and determination of an individual with a dream.<br /><br />Any broad appeal as an inspirational sports movie is ultimately lost amidst all of the blatant Bible thumping and sanctimonious religious propaganda. One gets the impression that the sole message is the only way you can succeed and make positive gain is if you accept Jesus as your personal savior. But this is simply not true, and is therefore a lie being perpetuated by those who believe that it is true and want everyone else to believe it. The image of the winning athlete thanking Jesus when he wins comes directly to mind. What does he do when he loses? Does he curse Jesus? Of course not! When he loses Jesus isn't responsible. Jesus is only responsible when he wins. And the logic goes round and round and round, and it ends up exactly where the true believer needs it to be, every time!! I had to hit pause when the scene with the coach receiving a brand new truck came on so I could stop rolling on the floor laughing my ass off and catch my breath. Materialism is not what Jesus taught. I find it odd that most so called \\\"Christians\\\" seem to either forget or ignore this message from their \\\"savior,\\\" especially when I see a Jesus fish on the back of a huge gas guzzling SUV that passes me like I'm standing still.<br /><br />Another message this movie implies is that Jesus apparently cares more about the win loss record of a mediocre high school football team that he does about the millions of starving children in the world. The final scene where the insecure and unsure kicker boots a 51 yard field goal and it is hyped up as an unbelievably incredible miracle puts the final gag me with a spoon religious red flag on this turkey. I only gave it three stars because the guy who played the black coach could actually act.\"\n",
      "* * * * * * * * * \n",
      "14987\n",
      "it was the worst ending i have ever seen if some one can please tell me how and why the last chick goes crazy and eats the old women in the end. why dose the movie have all those cheap crappy scares in it in the beginning but yet when the first person dies they kill them all off in 5 minutes! most of the people could act but i do give so credit to the porn stars they did their best. also it had a couple funny parts and kills like when the care taker gets his organs riped out of his ass and then gets choked with it. if this movie had an ending that could make any since i would have given it a 8 out of 10 but the ending made no since. the ending sucked but the rest was great\n",
      "* * * * * * * * * \n",
      "15157\n",
      "This is arguably the worst film I have ever seen, and I have quite an appetite for awful (and good) movies. It could (just) have managed a kind of adolescent humour if it had been consistently tongue-in-cheek --à la ROCKY HORROR PICTURE SHOW, which was really very funny. Other movies, like PLAN NINE FROM OUTER SPACE, manage to be funny while (apparently) trying to be serious. As to the acting, it looks like they rounded up brain-dead teenagers and asked them to ad-lib the whole production. Compared to them, Tom Cruise looks like Alec Guinness. There was one decent interpretation -- that of the older ghoul-busting broad on the motorcycle.\n",
      "* * * * * * * * * \n",
      "15166\n",
      "Oh, I heard so much good about this movie. Went to see it with my best friend (she's female, I'm male). Now please allow me a divergent opinion from the mainstream. After the first couple of dozen \\take off your clothes,\\\" we both felt a very strange combination of silliness and boredom. We laughed (at it, not with it), we dozed (and would have been better off staying in bed), we were convinced we had spent money in vain. And we had. The plot was incoherent, and the characters were a group of people about whom it was impossible to care. A waste of money, a waste of celluloid. This movie doesn't even deserve one out of ten votes, but that's the lowest available. I'm not sure why this movie has the reputation that it does of being excellent; I don't recommend it to anyone who has even a modicum of taste or intelligence.\"\n",
      "* * * * * * * * * \n",
      "15531\n",
      "I don't give much credence to AIDS conspiracy theories but its sociologically interesting to see the phenomenon dramatized. In the early years of the AIDS epidemic, the suffering and paranoia of the scared and dying often generated such dark fantasies. This was especially true in the politically radical and sexually extreme demi-monde of San Francisco. The city, renowned for its beauty, has rarely appeared uglier than in this film. A sense of darkness and decomposition pervades every scene.<br /><br />While the acting and plot can't be said to be well-done the films unique cultural context and oppressively dark mood at least partly saves the film from being a complete loss. Actually, I found the most interesting performance to be Irit Levi as a crusty and cynical Jewish, lesbian (?) police detective. She's interesting, though not necessarily convincing.<br /><br />Highlights: the film's use of the garishly tragic Turandot is an effective motif and there is a sublime silent cameo by iconic performance artist, Ron Athey.\n",
      "* * * * * * * * * \n",
      "15569\n",
      "Film starts with 3 people meeting each other in the bar. OK. They're talking about their imaginary lives, lying all the time, with no reason. Still OK.From time to time, they even make you laugh. Interesting. First 30 minutes you actually enjoy it! But then...things become worse...Nothing's happening...for a long time...and then, when something happen, all you can see are naked old \\ladies\\\" touching each other! Not OK. Disgusting! By the way, this part should be the top of the movie, but it's everything except that! Movie has no point,it's boring, and sick! <br /><br />The strangest thing is that here(Belgrade, Serbia) on FEST (film festival), this movie was the most popular according to researches, of course, before people watched it! I even thought(before watching): \\\"Hay, this might be interesting, although it's a Russian movie\\\"! But, God, No!!!!\"\n",
      "* * * * * * * * * \n",
      "15571\n",
      "This is the first of \\The Complete Dramatic Works of William Shakespeare\\\" BBC series I've seen, and if all of them are like this, I might watch no more. Being practically the full text of the play is everything this \\\"Romeo & Juliet\\\" has going for it, lacking in all other departments. Alvin Rakoff reveals himself as a dreadful director, both in the technical and artistic aspects. In the former, because he commits mistakes that even a first grade film student would wisely avoid. Take in consideration, for example, the badly edited first shot of Abraham and Balthasar in the opening scene, or the Nurse's entering of Friar Lawrence's cell, asking where's Romeo with him being so very in front of her that she'd clearly see him even if she was blind. And, in the latter, because every single one of the performers is misdirected, even if some of them are good actors. Rebecca Saire looks exactly the way I've always imagined Juliet to look like, and she doesn't seem to be a bad actress for a teenager, but her performance totally lacks passion of any kind. Patrick Ryecart as Romeo is even worse, being not only as dull as Juliet, but also way too old and not even good-looking, coming across as a combination of Malcolm McDowell and the Chucky doll. Putting them together makes impossible to think they feel anything for each other, let alone being the main players of the greatest love story ever written. Alan Rickman, in his screen debut, plays Tybalt like if he was Darth Vader, which is a huge mistake that takes away the complexity that Shakespeare intended, no character being a hero or a villain but all flawed human beings. This Tybalt is so mean-looking that we don't believe the characters' pity after his demise. As for Paris, I kept thinking of \\\"Prince Valium\\\" from Spaceballs. Only Celia Johnson manages to do the character of the Nurse some justice.<br /><br />At 168 minutes, this production is unable to make us empathize with the characters, because the characters don't empathize with each other and never seen to believe their own roles. The best screen version is still Franco Zeffirelli's. But, to be fair, this BBC one isn't nearly as bad as abominations like George Cukor's flamboyant geriatric version, or the crime against Humanity that is Baz Luhrmann's feature-length MTV video. 4/10.\"\n",
      "* * * * * * * * * \n",
      "15666\n",
      "Why take a show that millions of us watched and loved as children and make a complete joke of it? They ask why Hollywood isn't making the money it used to. Because they put out garbage and pay actors huge amounts of money to be garbage men and ask us to pay $10 to see their garbage. The TV show was what it was, good people in bad situations where the good IL' boys come out on top. It wasn't Gone with the Wind but it was fun. This movie is garbage! Hollywood can't come up with anything original so they take something that was good and ruin it for some $$$$. I only hope that this movie makes 10x's less than it cost to make. The only one's to have any fun with this crap are the guys who got to drive the General Lee. The audience is the victim.<br /><br />Don't see it, watch the reruns of the TV show instead. They still hold up 20 years later.\n",
      "* * * * * * * * * \n",
      "15681\n",
      "This film (along with Rinne) are minor gems amongst the retread homage pics that have passed for horror movies so far at the 8FTDF \\HorrorFest.\\\" And, yes, that's faint praise indeed. 'Cause there's not much worse in filmdom than would-be auteurs who think atmosphere is a substitute for a coherent plot.<br /><br />And that's all you get with The Abandoned. This is a film that was made almost entirely in the directors head. Sure, it would have been nice if he'd transfered it to film, but this happened instead. It's a very pretty film with a few genuine scares, but the last reel is strictly for the latte slurping cineaste crowd.\"\n",
      "* * * * * * * * * \n",
      "15691\n",
      "Watching \\Speak Easily\\\" is painful for fans of Buster Keaton. Seeing such a phenomenal writer, actor, comic, director, and stunt man subjected to this humiliating spectacle is like seeing a Picasso used as a drop cloth, or perhaps more like seeing the finest Camembert adulterated with whey solids and processed into Cheez-Whiz. <br /><br />Keaton is ill-cast as Professor Post, whose overblown vocabulary is the only thing keeping him from saying, \\\"Tell me about the rabbits, George.\\\" (Post would have said something like, \\\"Kindly inform me as to the status of the small mammals in the family Leporidae of the order Lagomorpha, kind sir, who I believe is primarily addressed with the epithet 'George'.\\\") When Keaton created his own characters, they might be situationally clueless but they weren't stupid. They were quick studies and became masters of their worlds. Not so with Post, who never stops stumbling and bumbling and who who has no more control of his destiny than a bilge rat had of the Titanic. And while Keaton's original characters had a charming naiveté and innocence, Post comes across as such a profound sexual retardate that if he ever did become physically aroused, he'd put an ice bag on the swelling and seek medical help. <br /><br />There are a couple of small, redeeming moments, such as Keaton's attempts to get rid of the vampish Thema Todd or his suggestion as to appropriate attire for a Greek dance, but it's just not worth enduring the entire film to see them.<br /><br />If you're a fan of bad movies, get drunk and watch \\\"Speak Easily\\\" with friends, a la \\\"Mystery Science Theater 3000\\\". But other than that, stick with the silents. Let them be 100% of what Buster Keaton is remembered for.\"\n",
      "* * * * * * * * * \n",
      "15710\n",
      "A rating of \\1\\\" does not begin to express how dull, depressing and relentlessly bad this movie is.\"\n",
      "* * * * * * * * * \n",
      "15760\n",
      "\\Sleeping With the Enemy\\\" is a predictable, 'been there before' thriller that never seems to find any inspiration no matter how desperately cast and crew try. I can't believe a bunch of my friends talked me into seeing this at the movies some sixteen years ago.<br /><br />The complete lack of originality from the Ronald Bass screenplay (based upon the Nancy Price novel) does not help, nor does the stale direction of Joseph Ruben or the very average performance from Julia Roberts. The supporting cast including Patrick Bergin and Kevin Anderson do little to help.<br /><br />There really isn't a lot to say. Just give it a miss.<br /><br />Sunday, April 14, 1991 - Hoyts Cinema Centre Melbourne\"\n",
      "* * * * * * * * * \n",
      "15838\n",
      "I am really surprised that this movie get a ranking like this! I haven't seen such a bad movie for years.Omg this was a really bad movie. Splatter, is not enough to describe the unnecessary (nearly funny) blood scenes). If you didn't like hostel2 or Wolf Creek or Halloween (2007) ..well this is 10 time worse. The story remind me RL Stine goosebumps.!<br /><br />I can't tell about the acting since the script was so terrible.Cliché all the time. (why i must write 10lines? i never understood this.)<br /><br />==Here comes spoilers==<br /><br />The story is about a butcher killing people all the time in metro. We are talking about thousands of killings and no one gets notice. Actually those people are just missing. And There is the good guy that tries to solve the mystery (well there is no mystery for us because we know from the beginning the bad guy) and as usual no one believes him! what a surprise! In the end he puts butcher clothes and fights to death with the killer butcher!\n",
      "* * * * * * * * * \n",
      "15877\n",
      "I'm a Black man living in a predominantly Black city. That being said, I have some major misgivings about Tyler Perry's work. I realize that some people out there feel the need to praise him, because he's Black and trying to portray a positive image about the culture. But, I honestly do believe that, were Perry White, this film would have had the NAACP, Al Sharpton, and Jessie Jackson all over his ass.<br /><br />I have been forced to watch this movie one whole hell of a lot recently and each repeated viewing makes my blood boil. The characters are poorly written and acted. The jokes are so bad, I have to actually be told something is supposed to be funny. I'm just going to break this big pile of sh-t down.<br /><br />Madea=suck. The character may have had some appeal, but it doesn't anymore. When the only thing she ever seems to do is smack around children and threaten adults with violence she is less than useless. She is unnecessary.<br /><br />The situation with the wife beating fiancé was horsesh-t. If a woman was so scared to death of her husband, why would she try to run away when he's sleeping in bed. Wouldn't it have made more sense for her to leave when he was at work. At any rate, the characters in this arc were so annoying and overbearing that I hoped he would throw her off the balcony and was royally ticked when he didn't.<br /><br />Then there are the two lovebirds. A bus driver asks a woman out by harassing her while he's making his rounds. I couldn't believe it. I really couldn't believe when she agreed to go out with him even more. But, what takes the cake is that a grown man was reduced to tossing pebbles at a window and passing notes like a ten year old by a castrating mega bitch. I don't use this term lightly, but that woman only had two modes. Morose victim and psycho momma. No matter which of these two faces she showed, however, there was one constant. The bus driver wasn't going to get any. He even married her without sampling the goods--WTF! <br /><br />Then there's the family reunion scene. Here we've got the mother load which includes implied incestual taboos, grinding for the sake of grinding, shirtless, overly musclebound, b-ball, plus the great taste of Maya Angelou. When those babes dragged their butts outside and called a meeting, was I wrong to wish that the oldest of them was claimed by a heart attack. All this crap is going on at the reunion, in laughably easy to separate groups, and then they ring a bell. When they do, everyone drops what they're doing and heads on over for a stern talking too, just like a pack of Pavlov's doggies--WTF!! <br /><br />Then you have the final five minutes of the film. In it we see the abusive fiancé get manhandled by his longtime victim and all around bad actress. There is an impromptu wedding where Black people are dressed like angels and are hanging from the ceiling--WTF!!! The only reason to watch it this far, besides testing your threshold for pain, is the hope that the second villain of this story gets her ass handed to her as well. Guess what, it doesn't happen. Instead, Perry takes the testicularly challenged way out and plays it safe, ending the movie on a tone of forgiveness--WTF!! <br /><br />I'm pretty sure that, if given a day , I could probably write a doctoral dissertation on all the ways this movie sucks. Don't even get me started on the rest of Tyler Perry's films. I'm just going to say this. In my opinion, as a Black guy, D.W. Griffith's legacy lives on. The irony is that it is doing so through a Black man who will be praised for doing what Birth of a Nation did, selling us down the river. I only wish Perry's films were dudes so I could kick them in the nuts. Thanks a lot, dude!! What are you going to follow this up with in 2009, a comedy about the raping and savage beating of slaves in Colonial America?\n",
      "* * * * * * * * * \n",
      "16040\n",
      "Hilariously obvious \\drama\\\" about a bunch of high school (I think) kids who enjoy non-stop hip-hop, break dancing, graffiti and trying to become a dj at the Roxy--or something. To be totally honest I was so bored I forgot! Even people who love the music agree this movie is terribly acted and--as a drama--failed dismally. We're supposed to find this kids likable and nice. I found them bland and boring. The one that I REALLY hated was Ramon. He does graffiti on subway trains and this is looked upon as great. Excuse me? He's defacing public property that isn't his to begin with. Also these \\\"great\\\" kids tap into the city's electricity so they can hold a big dance party at an abandoned building. Uh huh. So we're supposed to find a bunch of law breakers lovable and fun.<br /><br />I could forgive all that if the music was good but I can't stand hip hop. The songs were--at best--mediocre and they were nonstop! They're ALWAYS playing! It got to the point that I was fast-forwarding through the many endless music numbers. (Cut out the music and you haver a 30 minute movie--maybe) There are a few imaginative numbers--the subway dance fight, a truly funny Santa number and the climatic Roxy show. If you love hip hop here's your movie. But it you're looking for good drama mixed in--forget it. Also HOW did this get a PG rating? There's an incredible amount of swearing in this.\"\n",
      "* * * * * * * * * \n",
      "16236\n",
      "In 1454, in France, the sorcerer Alaric de Marnac (Paul Naschy) is decapitated and his mistress Mabille De Lancré (Helga Liné) is tortured to death accused of witchcraft, vampirism and lycanthropy. Before they die, they curse the next generations of their executioners. In the present days (in the 70's), Hugo de Marnac (Paul Naschy) and Sylvia (Betsabé Ruiz) and their friends Maurice Roland (Vic Winner) and his beloved Paula (Cristina Suriani) go to a séance session, where they evoke the spirit of Alaric de Marnac. They decide to travel to the Villas de Sade, a real estate of Hugo's family in the countryside, to seek a monastery with a hidden treasure. They find Alaric's head and the fiend possesses them, bringing Mabille back to life and executing the locals in gore sacrifices. After the death of her father, Elvira (Emma Cohen) recalls that he has the Thor's Hammer amulet hidden in a well; together with Maurice, they try to defeat the demoniac Alaric de Marnac and Mabille.<br /><br />Last weekend I bought a box of horror genre with five DVDs of Paul Naschy per US$ 9.98; despite of having no references, I decided to take the chance. The first DVD with the uncut and restored version \\Horror Rises from the Tomb\\\" is a trash B (or C) movie that immediately made me recall Ed Wood. The ridiculous story is disclosed through awful screenplay, direction, performances, cinematography, decoration, special effects and edition and with lots of naked women. The result is simply hilarious and I can guarantee that Ed Wood's style is back. My vote is three.<br /><br />Title (Brazil): Not Available\"\n",
      "* * * * * * * * * \n"
     ]
    },
    {
     "name": "stdout",
     "output_type": "stream",
     "text": [
      "16353\n",
      "An intriguing premise of hand-drawn fantasy come to life in a child's fever dreams. However, I imagine the average nonfictional child is far more adept at scaring themselves than Bernard Rose is at riveting the viewer. The duel between Anna's two realities drags on far too long to sustain interest, especially considering that the little girl playing her is the most abrasive child actor I've ever seen.<br /><br />Use only for kindling.\n",
      "* * * * * * * * * \n",
      "16426\n",
      "I would have rated this film a minus 10 but sadly it is not offered.<br /><br />Why I didn't walk out in the first five minutes of this movie I cannot say. I should have gone with my instinct and left immediately!! Several people in our theater did and sadly I didn't follow them out.<br /><br />The story lacked all criteria for a movie. NO plot. Awful acting! Even Robin Williams was so disappointing that I may never see another film he is in. Not a single relationship in the story went beyond parlor talk. I did like the tazer scene. Too bad it didn't shock some meat into the senselessness of the plot. Someone needs to tazer the writer and director of this film!\n",
      "* * * * * * * * * \n",
      "16600\n",
      "I don't know where to begin, so I'll begin with a snippet from the back of the cover of this movie. \\Alive combines the tension of Vincenzo Natali's Cube with Kitamura's own Versus.\\\" I have not seen Versus, so I can't comment on that, but I think Cube was an excellent movie which I recommend to everyone. However, in this case someone has clearly confused \\\"tension\\\" with \\\"boredom\\\".<br /><br />I'll just go ahead and spoil the entire plot, because besides being one holy Swiss cheese of a plot, it's also moldy cheese, and the movie is not worth spending any time on even if you don't know the plot beforehand, so it doesn't matter. If I have misunderstood the plot, don't hit me - it's probably because I had to struggle to keep my eyelids open.<br /><br />So the American military in Nevada once lost a UFO i the Nambi desert. This apparently makes sense because they're both deserts so surely they're practically the same place. Different continents or not. A monkey broke into the UFO and acquired an alien something which was passed on to a Japanese researcher who had to eat the monkey to survive in the desert. What ever. The alien thing is now passed on to anyone who's \\\"bloodthirsty\\\" enough to kill the current host. The Japanese military wants to use it for military stuff, so they decide to make it pass from the current host (the researcher's daughter) to some other dude. But instead of just picking someone out of the military, which is full of people who are bloodthirsty AND already on the military's side, they decide that it's probably a good idea to pick some criminal out of death row instead. Oh, and the reason they pick this particular criminal from death row is because he was the first person in history to not die from the non-lethal electric shock which is the standard execution method, because everyone dies from the placebo effect when they get electrocuted. I don't know if they do this so they can giggle in the staff room at how everyone dies even though it's not deadly, or if they just want to cut down the electricity bill.<br /><br />Then the movie turns into what The Matrix would have been if it had been really lame, and superfluous fighting bores us to tears for what feels like an hour. And oh wait, now they remember that they already had a dude who was infected with the alien thing, so the entire movie up to this point was actually a totally waste of time and also human lives. Then everyone dies. The end.<br /><br />The only one moment in the movie where I didn't want to go away and sleep or eat a sandwich instead, was when a dude was pinned to a wall by a pipe through his chest, and he's hanging around up there and another dude walks by. The dude hanging on the wall says \\\"I'm in pain, shoot me\\\". And the living dude looks at him, and it's not like he's a mean dude or anything, so he really looks sorrowful and doesn't want the guy on the wall to suffer. So he shoots him.<br /><br />(Rhetorical pause.)<br /><br />In the stomach. \\\"Gee THANKS A FREAKIN' HEAP.\\\"\"\n",
      "* * * * * * * * * \n",
      "16626\n",
      "The Soloist has all ingredients to impress the Academy. Its director, Joe Wright, has already authored a best picture candidate. The leading actor, Robert Downey Jr., starred in a widely praised superhero film. Finally, the movie itself is a drama. When it was mysteriously pulled from release in late 2008, filmgoers and critics were baffled. Now that I've seen it, I assure you Universal didn't just delay this film to promote Iron Man-Oscar buzz. The Soloist is a weak drama with no external conflict that is vastly inferior to any 2009 best picture candidates.<br /><br />Downey and co-star Jamie Fox aren't to be blamed for this mishap. Joe Wright is largely at fault but even he can't save a Lifetime story. Many movies are too complex and alienate viewers. This one is unusually simple. It's a movie about a newspaper reporter, Steve Lopez (Downey), who befriends a homeless musician, Nathaniel Ayers (Jamie Fox). That's it. Ayers is schizophrenic and doesn't resonate with Lopez's traditional approach to friendship. The two become friends. They begin this movie as acquaintances and are BFFs by its end. Tension consists of moments like this: will Ayers let Lopez take him to the homeless shelter? This material would have been better suited as a made-for-TV production rather than a feature film.<br /><br />Wright includes many scenes of cheap humor to obscure the lack of content. Lopez battles yard-defiling raccoons in what I consider a sub-plot. Do you remember when this happened in Atonement or Pride and Prejudice? Those films were structured enough to permit an occasional joke but nothing so prolonged. Ayers' back story is fleshed out when it doesn't need to be. Worst of all, these scenes are not connected and appear at random intervals. It's a way of admitting that the main story carries little appeal. Nathaniel was a violin prodigy with a tough upbringing (I was too). This is a fabricated attempt to create sympathy with Ayers when most of us already have it. He's a homeless schizophrenic for crying out loud! The movie somewhat conveys humanity's love for music, like Amadeus and Beethoven Lives Upstairs. It isn't as effective as either of those pictures, however. The entire film is hinged on Ayers' schizophrenia. It ultimately is how he interacts with everyone else. His being a musician is a nice touch but hardly worth including. The film doesn't incorporate this characteristic fully into his persona. Take music out of Amadeus or Beethoven Lives Upstairs, and no film remains. The Soloist is more about friendship in general than music. Nathaniel could be a writer or film critic and few lines of dialog would need to be seriously altered.<br /><br />This is only Joe Wright's third film, and his first that isn't a romance staring Keira Knightley. Let's hope this film isn't an indication of how limited his abilities are. There are stylistic nods to his earlier works but The Soloist is much weaker than either of them. In his defense, Universal should not have agreed to widely release this picture. This film seems tailored for Imagine Entertainment (distributors of Changeling). I wouldn't be so disappointed with it if had a limited release. Its poor box office performance may inhibit better dramas from being distributed nationally.\n",
      "* * * * * * * * * \n",
      "16647\n",
      "This very low budget comedy caper movie succeeds only in being low budget. Dialog is dumbfoundingly stupid, chase scenes are uniformly boring, and most of the on-screen money seems to have been saved for a series of crashes and explosions in a parking lot during the film's last five minutes (a briefly glimpsed port-a-potty early in that scene is certain to wrecked and spew crap on the film's chief villain--no prop is here without a purpose). The whole film is depressingly reminiscent of those that occasionally came out of Rodger Corman's studio when he'd give a first time director a few bucks and a camera--but without the discipline Corman would impose.\n",
      "* * * * * * * * * \n",
      "16706\n",
      "I, also having endured hundreds of children's movies in the past, consider this to be one of the worst I have ever seen.<br /><br />1) I resent in this day and age having to explain to my children that Russia is not \\the bad guys\\\". Also, that mocking Russian names like \\\"Poopchev\\\" is inappropriate.<br /><br />2) The grandfather fly's birthday party scene contained a quasi-sexist joke in which he implied that males drink beer and women talk on the phone. Two other flies also needlessly use the word \\\"crap\\\" twice.<br /><br />3) The whole movie largely smacks of 1950's stereotypes and propaganda that I thought we, as a nation, were proud to have risen above.<br /><br />In all it's just crude, badly animated, even more badly written and not worth wasting the time to view.\"\n",
      "* * * * * * * * * \n",
      "16718\n",
      "This was a less than exciting short film I saw between features on Turner Classic Movies recently. While the film popped out due to its very intense Technicolor, the film itself just wasn't that moving and at times the plot looked pretty cheesy--like this was made for classroom use and capturing the attention of a wider audience WASN'T even a consideration. In particular, I really hated how many times in the film things were reiterated--such as when the characters talked to her, they usually said \\Clara Barton\\\" instead of \\\"ma'am\\\", \\\"Miss Barton\\\" or \\\"Clara\\\". Plus, one sickly confederate soldier said that he was a \\\"Johnny Reb, A Confederate a Rebel,...\\\"--almost like he was the cartoon character Mojo Jojo from the Powerpuff Girls. This was just sloppy writing--period.<br /><br />It was interesting to see John Hamilton (later, \\\"Perry White\\\" on the SUPERMAN TV show) in a beard as President Garfield. Yep--it's him under that beard.\"\n",
      "* * * * * * * * * \n",
      "17082\n",
      "In my opinion this movie advances no new thought. seems to me like taking a spear to a spear without looking to the side! the director seems to have an agenda! Duh! I find that his rational is lacking there does not seem to be room for the alternative view. I for one am usually on the side of the naysayer but this movie lacks credibility as it relies on the fantastic observations of the man/woman on the street. really now if you wish to cr5eate a credible alternative to a creed held onto for 2000+ years you have got to make more of an effort allowing the other side to voice their beliefs. I'm not sure but at the beginning of the movie it felt like an attack on the Cristian faith, I for one am a non believer, but allow for the beliefs of others, and would not wish no ridicule them but try to understand and tolerate.\n",
      "* * * * * * * * * \n",
      "17222\n",
      "Anyone who has read my review for Uwe Boll's \\Alone In The Dark\\\" will remember that I compared the unenviable task of sitting through that piece of human waste to having each and every hair on your arm pulled out. Well, take that analogy a step further with this irredeemable gutter trash and try to imagine the pain of getting your teeth extracted without novacaine. Do that, and you'll have a general idea of what Eli Roth's \\\"Cabin Fever\\\" is all about.<br /><br />I never believed any one film was capable of topping the sheer agonizing dreck that Uwe Boll cranks out as the \\\"worst film ever made.\\\" But, in all honesty, I have to say \\\"Cabin Fever\\\" comes very close. This is yet another sad excuse for a motion picture that had absolutely no valid reason to meet with any form of theatrical release. For somebody who claims to love the horror genre as much as Eli Roth does, he has created the single most annoying and convoluted patchwork of a movie I think I have ever seen in my entire life. How do you screw up a story like this? Think of the potential this plot would have had without the poorly written characters, without the bad writing, and without all that unnecessary and unfunny comedy. A movie dealing with a grotesque flesh-eating virus could and should have been so much better than what Roth dished out for us here. This script failed on so many levels with me. And, while I do not doubt the evident talent this director possesses, I do know that he fumbled the ball big time on an idea that could very well have redefined the horror genre.<br /><br />To say this was a production of missed opportunities would indeed be a gross play on words. A generous amount of blood and unsettling special effects can't even save it, and that is one element I normally go for. There really was nothing about \\\"Cabin Fever\\\" that I could easily recommend to anybody. When three quarters of the crowd walks out of the theater halfway through, you know the movie is sinking fast. My best advice to those reading this would be to simply rent before purchasing. One viewing was more than enough for me to know that I will most likely never bother with it again.\"\n",
      "* * * * * * * * * \n",
      "17572\n",
      "If movies like Ghoulies rip off Gremlins, then Hobgoblins sinks to the new low of ripping off garbage like Ghoulies. These barely-animated furbies have some kind of scheme to fulfill fantasies (which involve basically groteque characters' sex dreams - oh joy), but what that has to do with anything is anybody's guess, except to let the director indulge his kinky penchant for erotica. They show this down in the 8th circle of Hell, one suspects. There's no real plot - just \\goblins - kill!\\\" and feeble attempts at humor and a mild attempt to arouse the viewing audience.\"\n",
      "* * * * * * * * * \n",
      "17686\n",
      "I feel like I've just watched a snuff film....a beautifully acted, taut, engrossing and horrible thing! A two hour litany of perversion in the most basic and all inclusive sense of the word, sexual violence and torture, rape, decapitation, incest, corruption, live burial, and abuse, abuse, abuse. No redemption whatsoever. And I WAS entertained. I couldn't stop watching. What does this say about me, about the people who make and act in this sort of thing, and a world that has become so desensitized that eventually real snuff films will be the norm. And I'm neither puritanical nor humorless, I don't try to hide from the existence of darkness, and I definitely have not led a sheltered life, but I am ashamed of myself. AND I'm sorry to see my British cousins dragging the subject-matter sewers the way my own tribe does. It doesn't have to be cozy, but does it have to wallow in vicarious sadism?\n",
      "* * * * * * * * * \n",
      "17799\n",
      "REVOLT OF THE ZOMBIES (2 outta 5 stars) No, this is not a long-lost ancestor to the classic George A. Romero zombie flicks. This is a low-budget potboiler from 1936 that probably seemed very cool to audiences of the time... but seems awfully routine these days. There is actually a pretty good scene at the start of a soldier firing off his pistol into a horde of approaching zombie soldiers... and a close-up of bullets entering the bare chest of one of them. The effect looks hopelessly fake these days but in 1936 I'm sure it had audiences gasping. The story concerns the search for the secret of mind control... ostensibly to create an unstoppable zombie army... but later as a means for one character to win the woman he loves. The movie is barely an hour long but moves at a snail's pace so it seems feature-length, believe me! There really isn't much to recommend it... you may get some amusement from the faked studio shots of the star \\wading\\\" through a \\\"swamp\\\". The ending is interesting... so I'd say the movie is worth seeing at least once. More than likely you will see it as an extra feature on some cheap \\\"4 movies on 1 DVD\\\" compilation at Wal-Mart for five bucks. Hey, it's well worth the money...\"\n",
      "* * * * * * * * * \n",
      "17848\n",
      "I read about this movie in a magazine and I was intrigued. A woman, who one day sees herself drive past in her own car. Well, I thought, this could be interesting...<br /><br />...but it isn't. First, the title. The Broken? The Broken...what? What is broken? The...oh, wait...I get it, the title itself is \\broken\\\"! WOW, clever! Unfortunately, this is virtually the only thing going for it.<br /><br />The premise is not that bad, but I think Kiefer Suderland did much better in 'Mirrors'. A cross between Invasion of the Body Snatchers and Mirrors, and a rather mediocre one at that. A more suited title would be 'The Boring', since it draws out every single scene for bloody ages. Or maybe 'The Confusing' since it doesn't explain anything at all, not in the narrative nor in the story itself, only some vague idea about evil copies and somesuch, dotted with cheap scares and scenes used to death, but nothing tangible. It's just messed up.<br /><br />On the other hand, the acting and the special effects are quite good, but then again, it's not a difficult role to act.<br /><br />After watching the movie twice, I still feel unsatisfied, a little confused maybe, and not in the E. A. Poe or Stephen King kind of way. Do yourself a favor, and don't watch this one. Simply put, there are better thrillers out there.\"\n",
      "* * * * * * * * * \n",
      "18018\n",
      "I have never posted a review before, but I had to do it for this film! This film is SO bad, I found myself trying to justify how bad it is by trying to think of it as kitsch or parody. But it ISN'T. It is truly, un-self-consciously BAD. This is a serious attempt that flops gloriously. Other reviewers have pointed out the film's many flaws, so I'll try not to repeat these, but I do urge you to see this film. Throughout it I was either speechless, literally gasping with disbelief, or rolling on the floor in hysterics. I haven't had so much fun watching a film in years. In fact, I'm going to try to get all my friends to see it because it's the kind of movie that needs to be shared.<br /><br />My favorite parts: -- When Arthur auditions to be a go-go boy (his dancing is unbelievable) -- The gratuitous nudity (the director/leading actor just had to get a nude shot in) -- The preacher's office with its cardboard and crayon rendition of Christ -- Of course, the famous wedding scene with the palm trees and the forgotten rings (what narrative function does this play?!?) -- The ex-wife's wrestling match with Ben to get possession of her gun -- The detailed sequence wherein Arthur kills the preacher; he apparently burns him up with this incredibly measly match -- Yes, the gay religious-fanatic brother with his bleached hair and WeHo fashions -- And, my favorite, the use of Joplin's \\The Entertainer\\\" as the opening soundtrack and \\\"Pachebel's Canon in D Major\\\" as the closing soundtrack! -- the list goes on and on -- a MUST SEE!!!\"\n",
      "* * * * * * * * * \n",
      "18092\n",
      "For those of you who've never heard of it (or seen it on A&E), Cracker is a brilliant British TV show about an overweight, chain-smoking, foulmouthed psychologist named Fitz who helps the Manchester police department get into the heads of violent criminals. It's considered to be one of the finest shows ever to come out of England (and that's saying something), and was tremendously successful in England and around the world back in 1993.<br /><br />Now, the original stars have re-teamed with the original writer to knock out one more 2-hour episode. I've loved this show ever since I'd first seen it, over a decade ago. The DVD box set holds a place of honor in my collection, and I can quote a good deal of Fitz's interrogation scenes practically word for word. The idea of Robbie Coltrane reteaming with Jimmy McGovern for another TV movie about Fitz filled me with absolute glee.<br /><br />I'll start with the good. One of the many things that impressed me about the original Cracker series was how quickly Fitz was defined as a character. Five minutes into the first episode  with his lecture (throwing the books into the air), his drinking, and his cussing of the guy after him on the gambling machine queue  and you knew, simply knew, who this character was. You could feel him \\clicking\\\" in your mind, the kind of click that only happens when a great actor gets a great role written by a great writer.<br /><br />Coltrane, of course, remained great throughout the show, but I always felt that some of the later episodes  those not written by McGovern  mistreated the character.<br /><br />So the good news is this: Fitz is back. As soon as you see him in this show  making incredibly inappropriate comments at his daughter's wedding  you'll feel that \\\"click\\\" once again. It's him: petulant one moment and truly sorry the next, always insightful, sincere to the point of tactlessness but brilliantly funny in the process. If you love this character as much as I do, you'll be delighted with how he is portrayed in the movie. And this extends to Judith and Mark: in fact, everything having to do with the Fitzs is handled perfectly.<br /><br />The problem I do have with this movie revolves around the crime Fitz is trying to solve. In standard Cracker fashion, we know exactly who the criminal is in the first five minutes  the suspense lies in seeing Fitz figure it out. In this case, we have a serial killer who is out for American blood. And the reason for this, unfortunately, is not due to any believable psychological trauma  rather, it seems that the murders are here simply to allow the writer to display his personal political beliefs.<br /><br />It's difficult for me to write this, as I truly believe that Jimmy McGovern is one of the greatest writers in the world. Nor do I have a problem with movies that are about current issues, or movies that take a political stand. But in the Cracker universe, we expect to see the characters behaving like human beings, not like caricatures. Instead, the Americans in this movie are all depicted in an entirely stereotypical fashion. They're know-nothing loudmouths who complain about everything, treat the locals like crap and cheat on their wives  one of them even manages to do all of the above within less than 5 minutes. I honestly thought I'd mistakenly switched channels or something.<br /><br />But it doesn't stop there. We get constant reminders of just how badly the war in Iraq is going  reminders that have nothing whatsoever to do with the story and appear practically out of nowhere. The killer is so busy ranting about how Bush is worse than Hitler that he almost forgets to get on with the killing; but more to the point, he is such a mouthpiece for the writer's political views that he forgets to act like a believable human being, and thus we  as an audience  don't buy his sudden transformation from a happy family man to a tortured serial-killing soul.<br /><br />I can't say that this ruined the show for me  it's was still good TV, better than almost everything else in the genre (mainly due to, once again, Coltrane). But its constant politicizing made it impossible for it to be as good as the real Cracker classics like \\\"To Be A Somebody\\\"  an episode that was just as \\\"issuey\\\", but one that was handled with far more subtlety and psychological depth.<br /><br />Two other small points: Panhandle not being around is a disappointment, but what's worse are her replacements. The entire police department  which for so long filled with such great characters - is now full of vanilla. Completely interchangeable cops who lack any and all personality (how you could drain Coupling's Richard Coyle of personality is beyond me, but it is indeed missing here).<br /><br />Also, there are couple of moments where the show lost its believability for me. One such instance revolves around Fitz having to narrow down the entire population of Manchester from 1 million to a hundred based on some very strange criteria (French windows? How does the computer know if I have French windows?)  he not only succeeds in doing this, but he succeeds in less than an hour. I don't think so.<br /><br />So, all in all, I was a little disappointed. It's recommended viewing, but remember to leave at least some of your expectations at the door. Still, if there's new series to come after this, it would all have been for the good: I'm convinced that McGovern can still write great stuff, and maybe now that he's got his politics out of his system he can go back to writing about people.\"\n",
      "* * * * * * * * * \n",
      "18437\n",
      "I can't believe that people thought this stinking heap of trash was funny. Shifting the attempts at humor among cruelty, disgust and stupidity, 'There's Something About Mary' leaves little reason to stay until the end. Sure, Cameron Diaz is very pretty, but that is never going to be enough to save a movie. Ben Stiller tries hard to work within the plot, and is obviously very talented, but the movie is a loser.<br /><br />Not once were any of the scenes believable. The shots were badly timed and poorly framed. The Farreley brothers should be kept away from making films at all costs. I check IMDB to see what they are working on just so I know what to avoid.<br /><br />2/10; the bonus is from the one time I smiled. It's not like I'm immune to humor or alone in my opinion. My wife hated it, too. The next day we saw 'Rush Hour' and laughed ourselves silly. This movie just stunk.\n",
      "* * * * * * * * * \n",
      "18710\n",
      "This film seems to be completely pointless. There is no reason why anything that happens in it happens, as if it was written by a small child who got bored halfway through and thought \\how can I wrap this up?\\\". And what were Jared Harris and Christopher Walken thinking? Did they do it for a bet? I couldn't tell you the plot, I'm not entirely sure there is one to be quite frank, but if there is it didn't register. Jared and his bird go to Ireland after she falls down the stairs while lashed up, as you do. They go to a house with a very annoying small girl in it, meet Christopher Walken who has dug up some ancient woman preserved in peat. He brings her back to life for no other reason than it continues the story and she shows her gratitude by immediately icing him. From then on it all gets a bit silly. A couple of hours of my life that I'd like back!\"\n",
      "* * * * * * * * * \n",
      "18882\n",
      "What is the most harrowing movie ever made? The gynaecological nightmare of 'Cries and Whispers'? The acid psychodramas of Fassbinder? The discomfiting black comedy of 'Last House on the left? I'm sure for that portion of the film-loving public that tie their masts to the good ship Buster Keaton, there is only one answer - any one of his sound films. <br /><br />I don't know what flayed my soul more poignantly in this movie - the grounding of Keaton's intricate and expansive physical art to humdrum slapstick; the painful hesitation of this master filmmaker with dialogue - not that he hasn't a lovely, comic voice, or that he can't make dialogue funny; it's just that the studio don't seem to have given him enough takes, and so he seems to be trying to remember his lines before he delivers, which only makes him - Keaton, not his character, look silly; or is it the humiliation of seeing Keaton caught up in a tawdry sex farce, when he has given us some of the richest accounts of romantic frustration in film? <br /><br />No, I know what was most disturbing - having to watch Buster Keaton, cinema's greatest comedian, sit aside to observe Jimmy Durante doing his schtick. It is horrors such as this that get yer Dantes composing yer Infernos.<br /><br />MGM seem to have got the curious idea that the best way to adapt Keaton to sound was to turn him into a Marx Brother, complete with verbal pedantry, elaborate, tedious 'clowning', shambolic slapstick, theatrical setting, triumph through chaos, and Thelma Todd. Keaton was just not that sort of comic, and where Groucho's malicious tongue and gleeful opportunism might just have made this plot work, Buster's socially inept professor can't, he is too studied and predictable. <br /><br />What Buster needed was to be allowed experiment like Lang in 'M', or Rene Clair; he would never have tried to hold back the tide like Chaplin. When a film like 'The General' is alluded to - messing about with trains - the loss becomes even more apparent. <br /><br />And the thing is, in patches amid the flat direction, the film isn't all that bad - there is an excellent jolt when a camera on the bus leaves Keaton alone at a railway station; and the denouement, if hardly original, is at least livelier than what went before. There is something almost endearing about the way Keaton slows down a plot that needs all the zip it can get. <br /><br />There is a film in here about loneliness, emotionally paralysing order, the numbing effects of education etc., struggling to get out. The best way to appreciate this film is to watch not the narrative of Professor TZ Post, but of emasculated genius Buster Keaton, trapped in a prison of mediocrity, confounded by new technology, mocked by a malevolent fate (in this case the studio), retaining a stoical grace. Looked at like that, it becomes a kind of masterpiece.\n",
      "* * * * * * * * * \n",
      "18972\n",
      "James Bond in the wilderness? Well, that's the way it looks: Pierce Brosnan is after all best known as Bond in \\Tommorrow Never Dies\\\" (1997) and \\\"Golden Eye\\\" (1995) - both shot prior to this release. Frankly, the film's two leads are both badly miscast, with Brosnan turning in the marginally more convincing performance, and with Annie Galipeau (as Pony, Grey Owl's love interest) having to battle with carelessly-written dialogue.<br /><br />The two aunts, on the other hand are perfect. But the film is not about aunts. It is about the wilds of the Canadian wilderness. And while the photography may be pretty, there is no grit to the harsh reality of living in the wilds. Annie Galipeau, as Pony, just fails to be convincing, unfortunately, because I really wanted to believe in her. She was a relatively inexperienced twenty-year-old on this film, and it could have worked, but Richard Attenborough was maybe just not tough enough on her. He makes her look vulnerable, which of course she is.. but in the wrong sort of way.<br /><br />But one thing for sure, she appears picture-perfect throughout. But mascara and eyebrow thickener in the wilderness? It just doesn't fit, especially as she only ever seems to walk forest trials with Bond (sorry, Grey Owl), and use photo-ops for kissing close-ups.<br /><br />I've lived with forest people in the Pacific North West, and they simply don't look this pretty and stay so sweet while fighting for survival. Which brings me to another point: the film fails to evoke the period in which it is set: the 1930s. I put the blame here largely on a lack-lustre script that is keen on preaching at the expense of dramatic arc, plot points and those small details that can evoke period through action.<br /><br />William Nicholson wrote the screenplay, and his latest offering, \\\"Elizabeth, the Golden Age\\\" opened three days ago, so I do hope there is an improvement.<br /><br />Yes, I've read the comments others have posted, but I'm not convinced. A lot of potential, but mishandled and even maybe ill-conceived. If it had had a religious film, it would have been panned, but because it preaches environmentalism, the film remains somewhat above criticism, since it is \\\"politically correct.\\\" Sorry, for all that, I don't buy it. Amen.\"\n",
      "* * * * * * * * * \n",
      "19003\n",
      "I tried to watch this movie in a military camp during an overseas mission, and let me tell you, you'll watch anything under those circumstances. Not this piece of sh*t though.<br /><br />The first five minutes set the tone by weak porn-movie quality acting, weird out-of-the-blue plot twists and unbelievable situations and behavior. It gets worse after that. This movie does not have one single saving grace, and yet it is not bad in a way that would make it funny to watch. It's just horrible. I've seen quite many movies in my life and I'm not one of those snobby know-all critics, I mean I'll enjoy most movies to some extent even if they're bad. This one... man.<br /><br />Steer _well_ clear of this one, my friend.\n",
      "* * * * * * * * * \n",
      "19015\n",
      "William Lustig's followup to \\Maniac\\\" proves conclusively that, without Tom Savini's spectacular effects and Spinell's convincing performance, \\\"Maniac\\\" would never have become the cult hit that it did. \\\"Vigilante\\\" is badly directed, with a simple-minded script that spells everything out for you and is predictable at every turn, and also mediocre performances by all the actors. Judging from the sense of \\\"deja vu\\\" this film gave me, Lustig had watched \\\"Death Wish\\\" several times too many before making this! (*1/2)\"\n",
      "* * * * * * * * * \n",
      "19032\n",
      "I just finished watching Going Overboard. I have to say that we should send every copy of this film to Iraq and make them watch. I even tried to get a blind women to watch this and she turned it off in like 20 min. Adam Sandler could not find a better project than this? As for the writing, if thats what you want to call it, those responsible should be forced to watch this movie forever in Hell!! I believe that somewhere I read that the budget for this film was $10,000 and they were way under. Did Wallmart get a good deal on this? Every store has a big huge bin of this crap sitting on the sales floor. The only good thing about this movie is you can use the DVD as a coaster, or trade it to a friend, but then they might not be your friend anymore!!\n",
      "* * * * * * * * * \n"
     ]
    },
    {
     "name": "stdout",
     "output_type": "stream",
     "text": [
      "19146\n",
      "Alas, poor Hamlet. I knew him, dear reader, and let me tell thee, THIS VERSION SUCKS! I don't know who of all people put up the money for this flotsam, but I hope that they're proud of themselves. They took THE classic play and turned it into the most boring melodrama imaginable. This version is quite literally so bad, that not even the presence of a great thespian like Maximilian Schell in the title role can save it. This movie's only redeeming quality is that it made great fodder for \\MST3K\\\"; Mike, Servo and Crow had a lot of fun with this one.<br /><br />But either way, I'm sure that Shakespeare, had he been alive when they made this, would not have wanted his name associated with it. This \\\"Hamlet\\\" is not even so bad that's it good; it's just plain bad. Absolutely dreadful.\"\n",
      "* * * * * * * * * \n",
      "19216\n",
      "The plot is about a female nurse, named Anna, is caught in the middle of a world-wide chaos as flesh-eating zombies begin rising up and taking over the world and attacking the living. She escapes into the streets and is rescued by a black police officer. So far, so good! I usually enjoy horror movies, but this piece of film doesn't deserve to be called horror. It's not even thrilling, just ridiculous.Even \\the Flintstones\\\" or \\\"Kukla, Fran and Ollie\\\" will give you more excitement. It's like watching a bunch of bloodthirsty drunkards not being able to get into a shopping mall to by more liquor. The heroes who has locked themselves in, inside the shopping-mall to avoid being eaten by the hoodlums outside, are not better either. Even though they doesn't seem to be drunk, they give the impression of being mentally disabled. Save your money instead of spending it on this!\"\n",
      "* * * * * * * * * \n",
      "19236\n",
      "Oh my god. the idea that this movie is a thriller is an absolute joke to me. besides the point that it seems to be written by a 5 year old. the plot, the acting and even the props and filming of this movie were all beyond disgrace.<br /><br />I am not usually this critical about any movie, cause every person has his/her style. But this movie, however, was probably the worst movie i have seen in 2008. I can honestly believe that this movie is unknown, and i think it should stay like this, for movies like these are making the thriller genre a joke.<br /><br />I advise anyone that is a fan of thriller movies, or even simply movies to stay far away from this one.\n",
      "* * * * * * * * * \n",
      "19261\n",
      "Nothing to say but Wow! Has anyone actually had somebody sneak up on them in an open field? Well this happens about 25 times in this movie(clearly the directors' favorite scare tactic). In one of the opening scenes the smooth talking/hot shot producer has to ride in the back seat so the camera man could sit in the front to film. Shortly after he arrives to the field the 5 contestants show up and, although it is clearly at latest 2 in the afternoon they are all convinced that the sun will set any minute. After about 30 minutes of boobless trash we are privileged with a flashback of the clown's history in which we see some of his previous victims. If you watch this movie check out the ladies chest.. her ribs go all the way to her neck, it was flat out disgusting. Most horror movies action occurs during the night but without a night vision camera the chaos is forced to happen during the day. The few night shots that did make it in to the movie look like they were stolen from the Blair Witch Project or random shots from the directors backyard. The movie somewhat redeemed itself in the end when there was a matrix like shoot out with the clown that we rewound and watched over and over laughing hysterically.<br /><br />Definitely RENT THIS MOVIE IF YOU HAVE EVER BEEN SNUCK UP ON IN AN OPEN FIELD.<br /><br />SIGNED, THE ANSWER\n",
      "* * * * * * * * * \n",
      "19483\n",
      "Wow...I can't believe just how bad ZOMBIE DOOM (aka VIOLENT SH!T 3) really is. I'd heard the rumors, read the reviews - but had to make my mind up for myself. Well, let me tell ya - IT BLOWS!!! The worst acting of any film ever made, dubbing that must have been done while everyone involved was completely wasted, inept and laughable gore FX, no discernible plot, \\cinematography\\\" that looks like my grandma filmed it with her camcorder, weapons props that are no joke - made out of tin-foil - the list goes on and on...<br /><br />Three guys get stranded on an island where a bunch of weirdos run around with plastic and tin-foil swords. Two of the captives are freed along with a rebel of the island freaks, and are given a day's head start before they are hunted down by the rest of the \\\"tribe\\\"...that's pretty much it...<br /><br />Honestly - this is one of THE WORST films I've ever had the misfortune to subject myself too. The budget had to be about $200 and was spent entirely on the gore FX (which actually may not have been a bad idea...). There is NOTHING to ZOMBIE DOOM other than strung-together ridiculous looking gore scenes with lots of HORRIBLY dubbed dialog. This film makes other no-budget outings like PREMUTOS: LORD OF THE LIVING DEAD look like TITANIC. Some may rank ZD in the \\\"so-bad-it's-good\\\" category - and I guess if you're REALLY drunk or high and watching it with a few friends MST3K-style - I guess it could be looked at that way. But not by me. I hated pretty much everything about it. If ZOMBIE DOOM or ZOMBIE 90 (which is equally appalling and is included as a \\\"bonus\\\" on the Shock-O-Rama release of ZD) is indicative of Andreas Schnaas' other works - then he should be banned from ever having anything to do with making a film ever again under penalty of death. There is one amusing kung-fu battle in the latter half of the film, and a lot of blood - so I'll grant this one a VERY generous 3/10 - Do yourself a favor and skip this.\"\n",
      "* * * * * * * * * \n",
      "19526\n",
      "There are exactly 2 good things to be said about \\Fantasies\\\" (both mentioned by a previous reviewer as well): <br /><br />a) Bo Derek's extraordinary, poetry-inspiring beauty. She has shots in this movie where she gives even Catherine Zeta-Jones a run for her money, and that's a high compliment indeed. Her nudity is brief and discreet, but just looking at her face is enough.<br /><br />b) The Greek island setting, with its sun and crystal-clear blue waters.<br /><br />Other than that, there is no story, the dialogue is abysmal and at times unintentionally funny (\\\"He touched you where you're a woman!\\\"), and Peter Hooten's character is a slimy jerk. Bo overplays the naivete of her character, but then again when you have to work with dialogue this bad it's unfair to blame the actors (the fact that she kept saying the name \\\"Damir\\\" in almost every sentence is a major irritation). Oh, and although the film is set on a Greek island, there is hardly a Greek word to be heard - apparently everyone there, from kids to old people, speaks English the whole time. (*)\"\n",
      "* * * * * * * * * \n",
      "19580\n",
      "A patient escapes from a mental hospital, killing one of his keepers and then a University professor after he makes his way to the local college. Next semester, the late prof's replacement and a new group of students have to deal with a new batch of killings. The dialogue is so clichéd it is hard to believe that I was able to predict lines in quotes. This is one of those cheap movies that was thrown together in the middle of the slasher era of the '80's. Despite killing the heroine off, this is just substandard junk. Horrible acting, horrible script, horrible effects, horrible horrible horrible!! \\Splatter University\\\" is just gunk to put in your VCR when you have nothing better to do, although I suggest watching your head cleaner tape, that would be more entertaining. Skip it and rent \\\"Girl's Nite Out\\\" instead.<br /><br />Rated R for Strong Graphic Violence, Profanity, Brief Nudity and Sexual Situations.\"\n",
      "* * * * * * * * * \n",
      "19620\n",
      "This movie is not only a very bad movie, with awful actors --or presumed actors--, a bored direction and a story unattractive, it also copies exactly an scene from the excellent \\giallio\\\" \\\"Torso\\\", directed by Sergio Martino in 1973 (two years before), one of the most celebrated psycho-thrillers of Italian cinema and a cult-movie around the world. In \\\"La Sanguinusa conduce la danza\\\", the director replays the bed scene between the black girl and the white girl, with an peeping-tom watching from a window of the bedroom. Naturally, the scene in Rizzo's movie is ridiculous and inferior to the softness and charming in Martino's film. To put another black girl, another white girl and another peeping-tom replaying the scene is simply the most appropriate way of prove that Rizzo's movie has no ideas, no originality, no taste, and nothing at all. I think that such things are an offense to spectator.\"\n",
      "* * * * * * * * * \n",
      "19647\n",
      "This bogus journey never comes close to matching the wit and craziness of the excellent adventure these guys took in their first movie. This installment tries to veer away from its prequel to capture some new blood out of the joke, but it takes a wrong turn and journeys nowhere interesting or funny.<br /><br />There's almost a half-hour wasted on showing the guys doing a rock concert (and lots of people watching on \\free TV\\\"--since when does that happen?) Surely the script writer could have done something more creative; look at how all the random elements of the first movie were neatly tied up together by a converging them at the science presentation. Not in this film, which pretty much ended the Bill & Ted franchise. The joke was over.<br /><br />The Grim Reaper is tossed into the mix, for whatever reason. This infusion, like the whole plot, is done poorly and lacks sparks for comedy or audience involvement. There's a ZZ Top impression, hammered in for no reason. There's lights, smoke, mirrors, noise. But nothing really creative or funny.<br /><br />Skip this bogus thing.\"\n",
      "* * * * * * * * * \n",
      "19769\n",
      "I have read all of the Love Come Softly books. Knowing full well that movies can not use all aspects of the book,but generally they at least have the main point of the book. I was highly disappointed in this movie. The only thing that they have in this movie that is in the book is that Missy's father comes to visit,(although in the book both parents come). That is all. The story line was so twisted and far fetch and yes, sad, from the book, that I just couldn't enjoy it. Even if I didn't read the book it was too sad. I do know that Pioneer life was rough,but the whole movie was a downer. The rating is for having the same family orientation of the film that makes them great.\n",
      "* * * * * * * * * \n",
      "19916\n",
      "Any movie that has nude scenes of Karen Allen and I'm still so bored I walk out, that is a stinker! <br /><br />Karen gets stuck in Paris, and befriends a sissily-handsome French man with whom she is having sex soon. Of course he's married, (\\But, cheri, why should that be a problem?\\\") What could be an interesting clash of cultures is (believe it or not) just dull. I walked out. <br /><br />Maybe the movie got a lot better after I left; but it would have had to have gotten a LOT better to make up for a rotten beginning.<br /><br />My advice, if you find yourself in this, run, do not walk, for the exit. Save your time and your energy. Most assuredly save your money. It's a shame the production company didn't save its money.\"\n",
      "* * * * * * * * * \n",
      "19950\n",
      "Okay... it seems like so far, only the Barman fans have commented on this film - time for a counterpoint. Beware, this writeup is *LONG*.<br /><br />For those not in the knowing (mostly the non-Belgians) : Tom Barman, director of this film, is the frontman of dEUS, one of the better known rock bands of the late 90's here in Belgium. Basically, they made a couple of very adventurous and innovative albums and quickly rose to fame on the national scale. Then, egos started hurting and the band basically fell apart, with Barman and a couple of others remaining to go on making albums under the dEUS-monicker. The way it always happens in such cases, the post-breakdown dEUS was a lot tamer and less interesting than the original. They tried to go for an international breakthrough with their album \\The Ideal Crash\\\" in 1999, presenting a much diluted form of their earlier style of songwriting. They didn't quite make it. However, egos were still pretty big it seems : big enough for Barman to consider himself enough of an artist to try on movies.<br /><br />More often than not this sort of thing is a VERY big mistake, and this film does not make the exception. And Barman clearly went for *art* on this one, another very big mistake. For one thing, he's a musician, not a movie director. For another, dEUS at it's best made fun and provoking music, but never anything close to what I would consider *art*. It shows.<br /><br />So, what's this movie about? Basically, it tells the story of a bunch of completely uninteresting people, doing equally uninteresting things over the course of a totally uninteresting friday in Antwerp, as even more uninteresting stuff happens to them in the act of being uninteresting. The characters are shallow, the plot totally pointless and the film just doesn't have any other redeeming qualities to make up for these shortcomings. Humor? The whole film made me smile (slightly) about 3 times, and actually managed to provoke a single 5-second laugh (not quite loud). Mood? The film just doesn't seem to show any kind of emotion or feeling at all. Mystery? Well, (*MINOR SPOILER*)the idea of the \\\"wind-man\\\", inspiring the name of the film, is as enthralling as a banana pepper pizza - not very, and has been done a thousand times before (anyone remember Johny Destiny - one of Tarantino's worst appearances on film to date)(*END MINOR SPOILER*). And well, its *artistic*, so don't expect any kind of real action to make up for all the previous. In other words, except for the few smiles, it bored me out of my shorts.<br /><br />So what remains? Well, the soundtrack is pretty good, though it suffers from some of the same problems that other OST's have shown lately : first, it makes the movie seem like nothing more than a commercial for the CD. Second, it gives the impression that Barman is trying to hide the weaknesses and lack of emotional content in the film behind the content quality of the songs, which simply doesn't work. In the end, it makes the film look like nothing more than an illustration to the songs. And sadly, it's Barmans own contribution to the soundtrack which gets the most attention, though it is the weakest part of the whole soundtrack as far as I'm concerned. All in all, it just stands to show that Barman knows more about music than movies. Camera work is okay as well, though not anything that would make you scream out with joy.<br /><br />The only thing about this movie that kept me watching was the sight-seeing factor. Since I originate from Antwerp, it was fun to play a kind of \\\"guess-the-location\\\" game. I would hardly consider this as a quality though.<br /><br />All in all, another chance lost for Flemmish film. I keep on noticing that lately, the best Belgian movies have been coming from the French part of the country. This is mostly because at least, they have something to tell and manage to tell it in way that is both sharp and emotional (the brothers Daerden come to mind). Maybe the Flemmish art-house filmmakers should try that too.\"\n",
      "* * * * * * * * * \n",
      "19959\n",
      "True, there are many movies much worse then this movie. This movie was no Manos: The Hands of Fate, or Troll 2 (yes, I have seen them both.. twice) but at the same time this movie is No Alien, Predator or even Alien Vs. Predator (Yes, even that movie surpassed this). Movies like this make Battlefield Earth look like a Star Wars it is so bad. Razzie awards lookout, your biggest competition has just arrived in theaters. This film I'm talking about is of course Alone in the Dark. I'll try to take you though a step by step process on why this film was so bad.<br /><br />Acting- I'll first start off with what perhaps was the best component of this film (next to the ending credits, which played 'Wish I had An Angel', the acting. Christian Slater must be proud of himself, he successfully proved that it is possible to act decent in a film worse then drinking antifreeze. Though all his awful dialog he had to speak, it made me wonder why he just didn't walk off the set halfway. Perhaps it was because of Stephen Dorff being in the film as well (somebody he wishes he could be but fails at it). Tara Reid is a bad actress but good looking and that's all that really matters in films like these. That is not to say the acting was perfect though, it was average, not good, and perhaps the only thing in the film not good.<br /><br />The Soundtrack- Except for 'Wish I had An Angel', the soundtrack is pointless and bad heavy medal being pumped into the viewers ears, perhaps to disguise the awful story (something I will get to soon). A long and very expensive 2 CD soundtrack is now up for sale for those musically challenged.<br /><br />The Directing- Directed by Hollywoods favorite director Uwe Ball who brought us the classic House of the Dead. Telling us \\Yes, movies can get this utterly bad and that's just the beginning to my deadly saga of awful movies\\\". At least it is said to be directed by Uwe Ball. Without being told I would have guessed a monkey was kidnapped from the Congo, brought here and forced to make opinions on how to make the movie under penalty of being shocked. The director of photography was probably a camcorder taped onto a skateboard and pushed forward until it hits a wall. On the scenes where the camera should stay still it is constantly moving, not allowing us to stop anywhere and when it should be moving in action, the camera stops for some reason.<br /><br />The Producing- Who on earth is stupid enough to put money towards this bomb? I pity the fool... sometimes. Sometimes I'm glad he or she was taught such a lesson to never put money towards garbage worse then dog dung tied up in a bag.<br /><br />The Writing / Storyboard- Trying to Analise the story is more painful then jamming an ice pick under a big toe and kicking a soccer ball as hard as I possibly could with it right after but I will still attempt it.<br /><br />Edward Carnby escapes as a child from an orphanage where 20 children where to go under science experiments. He escapes and hides in an electrical outlet where he is electrocuted (this is the point where it got so bad i started to laugh out loud). Then it fast-forwards many years later where he's a paranoia detective. He get's attacked by some zombie that can't be shot to death, kills it and moves on with life. Later on he gets attacked by some crazy looking monster and he discovers secrets that nobody else knows.<br /><br />Yeah, the plot is bad, really really bad. The film beings with expecting us to read approximately 10 minutes, which felt like 100, of random text about an untrue civilization called the Abskani. The film goes not to have one twist after another, more then the audience can handle, more then the audience wants to handle, more then the audience could ever care about. This storyline is rock bottom bad that even Double Dragon does better.<br /><br />Overall, miss out on this movie. I gave it a 1 out of 10 but that is because there is no 0.\"\n",
      "* * * * * * * * * \n"
     ]
    }
   ],
   "source": [
    "# false positives\n",
    "\n",
    "print(\"Examples of false positives:\")\n",
    "\n",
    "import random, time\n",
    "\n",
    "for i in range(0, len(ols_predictions)):\n",
    "    if (ols_predictions[i] == 1):\n",
    "        if (X_raw_train.iloc[i]['sentiment'] == 0):\n",
    "            if (random.uniform(0, 1) < 0.05): # to print only 5% of the false positives\n",
    "                print(i)\n",
    "                print(X_raw_train.iloc[i]['review'])\n",
    "                print('* * * * * * * * * ')\n"
   ]
  },
  {
   "cell_type": "markdown",
   "metadata": {},
   "source": [
    "---\n",
    "\n",
    "# <span style=\"color:red\">WARNING: Don't look at test set performance too much!</span>\n",
    "\n",
    "---\n",
    "\n",
    "The following cells show performance on your test set. Do not look at this too often! "
   ]
  },
  {
   "cell_type": "markdown",
   "metadata": {},
   "source": [
    "# Look at performance on the test set"
   ]
  },
  {
   "cell_type": "markdown",
   "metadata": {},
   "source": [
    "### MODEL: ordinary least squares"
   ]
  },
  {
   "cell_type": "code",
   "execution_count": 102,
   "metadata": {},
   "outputs": [
    {
     "name": "stdout",
     "output_type": "stream",
     "text": [
      "{'Pos': 2467, 'Neg': 2533, 'TP': 1045, 'TN': 1458, 'FP': 1075, 'FN': 1422, 'Accuracy': 0.5006, 'Precision': 0.49292452830188677, 'Recall': 0.42359140656668015, 'desc': 'ols_test'}\n"
     ]
    }
   ],
   "source": [
    "ols_performance_test = BinaryClassificationPerformance(ols.predict(X_test), y_test, 'ols_test')\n",
    "ols_performance_test.compute_measures()\n",
    "print(ols_performance_test.performance_measures)"
   ]
  },
  {
   "cell_type": "markdown",
   "metadata": {},
   "source": [
    "### MODEL: SVM, linear"
   ]
  },
  {
   "cell_type": "code",
   "execution_count": 103,
   "metadata": {},
   "outputs": [
    {
     "name": "stdout",
     "output_type": "stream",
     "text": [
      "{'Pos': 2467, 'Neg': 2533, 'TP': 2054, 'TN': 2096, 'FP': 437, 'FN': 413, 'Accuracy': 0.83, 'Precision': 0.8245684464070654, 'Recall': 0.8325901905147953, 'desc': 'svm_test'}\n"
     ]
    }
   ],
   "source": [
    "svm_performance_test = BinaryClassificationPerformance(svm.predict(X_test), y_test, 'svm_test')\n",
    "svm_performance_test.compute_measures()\n",
    "print(svm_performance_test.performance_measures)"
   ]
  },
  {
   "cell_type": "markdown",
   "metadata": {},
   "source": [
    "### MODEL: logistic regression"
   ]
  },
  {
   "cell_type": "code",
   "execution_count": 104,
   "metadata": {},
   "outputs": [
    {
     "name": "stdout",
     "output_type": "stream",
     "text": [
      "{'Pos': 2467, 'Neg': 2533, 'TP': 2031, 'TN': 2085, 'FP': 448, 'FN': 436, 'Accuracy': 0.8232, 'Precision': 0.8192819685356999, 'Recall': 0.8232671260640454, 'desc': 'lgs_test'}\n"
     ]
    }
   ],
   "source": [
    "lgs_performance_test = BinaryClassificationPerformance(lgs.predict(X_test), y_test, 'lgs_test')\n",
    "lgs_performance_test.compute_measures()\n",
    "print(lgs_performance_test.performance_measures)"
   ]
  },
  {
   "cell_type": "markdown",
   "metadata": {},
   "source": [
    "### MODEL: Naive Bayes"
   ]
  },
  {
   "cell_type": "code",
   "execution_count": 105,
   "metadata": {},
   "outputs": [
    {
     "ename": "AttributeError",
     "evalue": "'MultinomialNB' object has no attribute 'feature_log_prob_'",
     "output_type": "error",
     "traceback": [
      "\u001b[0;31m---------------------------------------------------------------------------\u001b[0m",
      "\u001b[0;31mAttributeError\u001b[0m                            Traceback (most recent call last)",
      "\u001b[0;32m<ipython-input-105-a30e9e01d50e>\u001b[0m in \u001b[0;36m<module>\u001b[0;34m\u001b[0m\n\u001b[0;32m----> 1\u001b[0;31m \u001b[0mnbs_performance_test\u001b[0m \u001b[0;34m=\u001b[0m \u001b[0mBinaryClassificationPerformance\u001b[0m\u001b[0;34m(\u001b[0m\u001b[0mnbs\u001b[0m\u001b[0;34m.\u001b[0m\u001b[0mpredict\u001b[0m\u001b[0;34m(\u001b[0m\u001b[0mX_test\u001b[0m\u001b[0;34m)\u001b[0m\u001b[0;34m,\u001b[0m \u001b[0my_test\u001b[0m\u001b[0;34m,\u001b[0m \u001b[0;34m'nbs_test'\u001b[0m\u001b[0;34m)\u001b[0m\u001b[0;34m\u001b[0m\u001b[0;34m\u001b[0m\u001b[0m\n\u001b[0m\u001b[1;32m      2\u001b[0m \u001b[0mnbs_performance_test\u001b[0m\u001b[0;34m.\u001b[0m\u001b[0mcompute_measures\u001b[0m\u001b[0;34m(\u001b[0m\u001b[0;34m)\u001b[0m\u001b[0;34m\u001b[0m\u001b[0;34m\u001b[0m\u001b[0m\n\u001b[1;32m      3\u001b[0m \u001b[0mprint\u001b[0m\u001b[0;34m(\u001b[0m\u001b[0mnbs_performance_test\u001b[0m\u001b[0;34m.\u001b[0m\u001b[0mperformance_measures\u001b[0m\u001b[0;34m)\u001b[0m\u001b[0;34m\u001b[0m\u001b[0;34m\u001b[0m\u001b[0m\n",
      "\u001b[0;32m~/opt/anaconda3/lib/python3.8/site-packages/sklearn/naive_bayes.py\u001b[0m in \u001b[0;36mpredict\u001b[0;34m(self, X)\u001b[0m\n\u001b[1;32m     76\u001b[0m         \u001b[0mcheck_is_fitted\u001b[0m\u001b[0;34m(\u001b[0m\u001b[0mself\u001b[0m\u001b[0;34m)\u001b[0m\u001b[0;34m\u001b[0m\u001b[0;34m\u001b[0m\u001b[0m\n\u001b[1;32m     77\u001b[0m         \u001b[0mX\u001b[0m \u001b[0;34m=\u001b[0m \u001b[0mself\u001b[0m\u001b[0;34m.\u001b[0m\u001b[0m_check_X\u001b[0m\u001b[0;34m(\u001b[0m\u001b[0mX\u001b[0m\u001b[0;34m)\u001b[0m\u001b[0;34m\u001b[0m\u001b[0;34m\u001b[0m\u001b[0m\n\u001b[0;32m---> 78\u001b[0;31m         \u001b[0mjll\u001b[0m \u001b[0;34m=\u001b[0m \u001b[0mself\u001b[0m\u001b[0;34m.\u001b[0m\u001b[0m_joint_log_likelihood\u001b[0m\u001b[0;34m(\u001b[0m\u001b[0mX\u001b[0m\u001b[0;34m)\u001b[0m\u001b[0;34m\u001b[0m\u001b[0;34m\u001b[0m\u001b[0m\n\u001b[0m\u001b[1;32m     79\u001b[0m         \u001b[0;32mreturn\u001b[0m \u001b[0mself\u001b[0m\u001b[0;34m.\u001b[0m\u001b[0mclasses_\u001b[0m\u001b[0;34m[\u001b[0m\u001b[0mnp\u001b[0m\u001b[0;34m.\u001b[0m\u001b[0margmax\u001b[0m\u001b[0;34m(\u001b[0m\u001b[0mjll\u001b[0m\u001b[0;34m,\u001b[0m \u001b[0maxis\u001b[0m\u001b[0;34m=\u001b[0m\u001b[0;36m1\u001b[0m\u001b[0;34m)\u001b[0m\u001b[0;34m]\u001b[0m\u001b[0;34m\u001b[0m\u001b[0;34m\u001b[0m\u001b[0m\n\u001b[1;32m     80\u001b[0m \u001b[0;34m\u001b[0m\u001b[0m\n",
      "\u001b[0;32m~/opt/anaconda3/lib/python3.8/site-packages/sklearn/naive_bayes.py\u001b[0m in \u001b[0;36m_joint_log_likelihood\u001b[0;34m(self, X)\u001b[0m\n\u001b[1;32m    775\u001b[0m     \u001b[0;32mdef\u001b[0m \u001b[0m_joint_log_likelihood\u001b[0m\u001b[0;34m(\u001b[0m\u001b[0mself\u001b[0m\u001b[0;34m,\u001b[0m \u001b[0mX\u001b[0m\u001b[0;34m)\u001b[0m\u001b[0;34m:\u001b[0m\u001b[0;34m\u001b[0m\u001b[0;34m\u001b[0m\u001b[0m\n\u001b[1;32m    776\u001b[0m         \u001b[0;34m\"\"\"Calculate the posterior log probability of the samples X\"\"\"\u001b[0m\u001b[0;34m\u001b[0m\u001b[0;34m\u001b[0m\u001b[0m\n\u001b[0;32m--> 777\u001b[0;31m         return (safe_sparse_dot(X, self.feature_log_prob_.T) +\n\u001b[0m\u001b[1;32m    778\u001b[0m                 self.class_log_prior_)\n\u001b[1;32m    779\u001b[0m \u001b[0;34m\u001b[0m\u001b[0m\n",
      "\u001b[0;31mAttributeError\u001b[0m: 'MultinomialNB' object has no attribute 'feature_log_prob_'"
     ]
    }
   ],
   "source": [
    "nbs_performance_test = BinaryClassificationPerformance(nbs.predict(X_test), y_test, 'nbs_test')\n",
    "nbs_performance_test.compute_measures()\n",
    "print(nbs_performance_test.performance_measures)"
   ]
  },
  {
   "cell_type": "markdown",
   "metadata": {},
   "source": [
    "### MODEL: Perceptron"
   ]
  },
  {
   "cell_type": "code",
   "execution_count": 106,
   "metadata": {},
   "outputs": [
    {
     "name": "stdout",
     "output_type": "stream",
     "text": [
      "{'Pos': 2467, 'Neg': 2533, 'TP': 2064, 'TN': 2104, 'FP': 429, 'FN': 403, 'Accuracy': 0.8336, 'Precision': 0.8279181708784596, 'Recall': 0.83664369679773, 'desc': 'prc_test'}\n"
     ]
    }
   ],
   "source": [
    "prc_performance_test = BinaryClassificationPerformance(prc.predict(X_test), y_test, 'prc_test')\n",
    "prc_performance_test.compute_measures()\n",
    "print(prc_performance_test.performance_measures)"
   ]
  },
  {
   "cell_type": "markdown",
   "metadata": {},
   "source": [
    "### MODEL: Ridge Regression Classifier"
   ]
  },
  {
   "cell_type": "code",
   "execution_count": 107,
   "metadata": {},
   "outputs": [
    {
     "name": "stdout",
     "output_type": "stream",
     "text": [
      "{'Pos': 2467, 'Neg': 2533, 'TP': 2037, 'TN': 2017, 'FP': 516, 'FN': 430, 'Accuracy': 0.8108, 'Precision': 0.7978848413631022, 'Recall': 0.8256992298338063, 'desc': 'rdg_test'}\n"
     ]
    }
   ],
   "source": [
    "rdg_performance_test = BinaryClassificationPerformance(rdg.predict(X_test), y_test, 'rdg_test')\n",
    "rdg_performance_test.compute_measures()\n",
    "print(rdg_performance_test.performance_measures)"
   ]
  },
  {
   "cell_type": "markdown",
   "metadata": {},
   "source": [
    "### MODEL: Random Forest Classifier"
   ]
  },
  {
   "cell_type": "code",
   "execution_count": 108,
   "metadata": {},
   "outputs": [
    {
     "name": "stdout",
     "output_type": "stream",
     "text": [
      "{'Pos': 2467, 'Neg': 2533, 'TP': 2152, 'TN': 1677, 'FP': 856, 'FN': 315, 'Accuracy': 0.7658, 'Precision': 0.7154255319148937, 'Recall': 0.8723145520875557, 'desc': 'rdf_test'}\n"
     ]
    }
   ],
   "source": [
    "rdf_performance_test = BinaryClassificationPerformance(rdf.predict(X_test), y_test, 'rdf_test')\n",
    "rdf_performance_test.compute_measures()\n",
    "print(rdf_performance_test.performance_measures)"
   ]
  },
  {
   "cell_type": "markdown",
   "metadata": {},
   "source": [
    "### ROC plot to compare performance of various models and fits"
   ]
  },
  {
   "cell_type": "code",
   "execution_count": 109,
   "metadata": {},
   "outputs": [
    {
     "ename": "NameError",
     "evalue": "name 'nbs_performance_test' is not defined",
     "output_type": "error",
     "traceback": [
      "\u001b[0;31m---------------------------------------------------------------------------\u001b[0m",
      "\u001b[0;31mNameError\u001b[0m                                 Traceback (most recent call last)",
      "\u001b[0;32m<ipython-input-109-54593837b2eb>\u001b[0m in \u001b[0;36m<module>\u001b[0;34m\u001b[0m\n\u001b[0;32m----> 1\u001b[0;31m \u001b[0mfits\u001b[0m \u001b[0;34m=\u001b[0m \u001b[0;34m[\u001b[0m\u001b[0mols_performance_test\u001b[0m\u001b[0;34m,\u001b[0m \u001b[0msvm_performance_test\u001b[0m\u001b[0;34m,\u001b[0m \u001b[0mlgs_performance_test\u001b[0m\u001b[0;34m,\u001b[0m \u001b[0mnbs_performance_test\u001b[0m\u001b[0;34m,\u001b[0m \u001b[0mprc_performance_test\u001b[0m\u001b[0;34m,\u001b[0m \u001b[0mrdg_performance_test\u001b[0m\u001b[0;34m,\u001b[0m \u001b[0mrdf_performance_test\u001b[0m\u001b[0;34m]\u001b[0m\u001b[0;34m\u001b[0m\u001b[0;34m\u001b[0m\u001b[0m\n\u001b[0m\u001b[1;32m      2\u001b[0m \u001b[0;34m\u001b[0m\u001b[0m\n\u001b[1;32m      3\u001b[0m \u001b[0;32mfor\u001b[0m \u001b[0mfit\u001b[0m \u001b[0;32min\u001b[0m \u001b[0mfits\u001b[0m\u001b[0;34m:\u001b[0m\u001b[0;34m\u001b[0m\u001b[0;34m\u001b[0m\u001b[0m\n\u001b[1;32m      4\u001b[0m     plt.plot(fit.performance_measures['FP'] / fit.performance_measures['Neg'], \n\u001b[1;32m      5\u001b[0m              fit.performance_measures['TP'] / fit.performance_measures['Pos'], 'bo')\n",
      "\u001b[0;31mNameError\u001b[0m: name 'nbs_performance_test' is not defined"
     ]
    }
   ],
   "source": [
    "fits = [ols_performance_test, svm_performance_test, lgs_performance_test, nbs_performance_test, prc_performance_test, rdg_performance_test, rdf_performance_test]\n",
    "\n",
    "for fit in fits:\n",
    "    plt.plot(fit.performance_measures['FP'] / fit.performance_measures['Neg'], \n",
    "             fit.performance_measures['TP'] / fit.performance_measures['Pos'], 'bo')\n",
    "    plt.text(fit.performance_measures['FP'] / fit.performance_measures['Neg'], \n",
    "             fit.performance_measures['TP'] / fit.performance_measures['Pos'], fit.desc)\n",
    "plt.axis([0, 1, 0, 1])\n",
    "plt.title('ROC plot: test set')\n",
    "plt.xlabel('False positive rate')\n",
    "plt.ylabel('True positive rate')\n",
    "plt.show()"
   ]
  },
  {
   "cell_type": "markdown",
   "metadata": {},
   "source": [
    "---\n",
    "\n",
    "# <span style=\"color:red\">SUBMISSION</span>\n",
    "\n",
    "---"
   ]
  },
  {
   "cell_type": "code",
   "execution_count": 24,
   "metadata": {},
   "outputs": [
    {
     "name": "stdout",
     "output_type": "stream",
     "text": [
      "movie_data is: <class 'pandas.core.frame.DataFrame'>\n",
      "movie_data has 25000 rows and 2 columns \n",
      "\n",
      "the data types for each of the columns in movie_data:\n",
      "id        object\n",
      "review    object\n",
      "dtype: object \n",
      "\n",
      "the first 10 rows in movie_data:\n",
      "         id                                             review\n",
      "0  12311_10  Naturally in a film who's main themes are of m...\n",
      "1    8348_2  This movie is a disaster within a disaster fil...\n",
      "2    5828_4  All in all, this is a movie for kids. We saw i...\n",
      "3    7186_2  Afraid of the Dark left me with the impression...\n",
      "4   12128_7  A very accurate depiction of small time mob li...\n",
      "Shape of HashingVectorizer X:\n",
      "(25000, 131072)\n",
      "Look at a few rows of the new quantitative features: \n",
      "   word_count  punc_count\n",
      "0         131           5\n",
      "1         169          15\n",
      "2         176          18\n",
      "3         112           5\n",
      "4         133           8\n",
      "5         331          20\n",
      "6         121          18\n",
      "7         230          22\n",
      "8          59           3\n",
      "9         224          14\n",
      "Size of combined bag of words and new quantitative variables matrix:\n",
      "(25000, 131074)\n",
      "(25000, 131074)\n",
      "Shape of X_test for submission:\n",
      "(25000, 131074)\n",
      "SUCCESS!\n",
      "Number of rows in the submission test set (should be 25,000): \n"
     ]
    }
   ],
   "source": [
    "# read in test data for submission\n",
    "# CHANGE FILE PATH and my_random_seed number (any integer other than 74 will do): \n",
    "raw_data, X_test_submission = process_raw_data(fn='../week04/final_data/moviereviews_test.tsv', my_random_seed=74, test=True)\n",
    "print(\"Number of rows in the submission test set (should be 25,000): \")"
   ]
  },
  {
   "cell_type": "markdown",
   "metadata": {},
   "source": [
    "---\n",
    "\n",
    "Choose a <span style=\"color:red\">*single*</span> model for your submission. In this code, I am choosing the Ordinary Least Squares model fit, which is in the `ols` object. But you should choose the model that is performing the best for you! "
   ]
  },
  {
   "cell_type": "code",
   "execution_count": 25,
   "metadata": {},
   "outputs": [
    {
     "name": "stdout",
     "output_type": "stream",
     "text": [
      "0.40176\n"
     ]
    }
   ],
   "source": [
    "# store the id from the raw data\n",
    "my_submission = pd.DataFrame(raw_data[\"id\"])\n",
    "# concatenate predictions to the id\n",
    "my_submission[\"prediction\"] = ols.predict(X_test_submission)\n",
    "# look at the proportion of positive predictions\n",
    "print(my_submission['prediction'].mean())"
   ]
  },
  {
   "cell_type": "code",
   "execution_count": 26,
   "metadata": {},
   "outputs": [
    {
     "data": {
      "text/html": [
       "<div>\n",
       "<style scoped>\n",
       "    .dataframe tbody tr th:only-of-type {\n",
       "        vertical-align: middle;\n",
       "    }\n",
       "\n",
       "    .dataframe tbody tr th {\n",
       "        vertical-align: top;\n",
       "    }\n",
       "\n",
       "    .dataframe thead th {\n",
       "        text-align: right;\n",
       "    }\n",
       "</style>\n",
       "<table border=\"1\" class=\"dataframe\">\n",
       "  <thead>\n",
       "    <tr style=\"text-align: right;\">\n",
       "      <th></th>\n",
       "      <th>id</th>\n",
       "      <th>review</th>\n",
       "      <th>word_count</th>\n",
       "      <th>punc_count</th>\n",
       "    </tr>\n",
       "  </thead>\n",
       "  <tbody>\n",
       "    <tr>\n",
       "      <th>0</th>\n",
       "      <td>12311_10</td>\n",
       "      <td>Naturally in a film who's main themes are of m...</td>\n",
       "      <td>131</td>\n",
       "      <td>5</td>\n",
       "    </tr>\n",
       "    <tr>\n",
       "      <th>1</th>\n",
       "      <td>8348_2</td>\n",
       "      <td>This movie is a disaster within a disaster fil...</td>\n",
       "      <td>169</td>\n",
       "      <td>15</td>\n",
       "    </tr>\n",
       "    <tr>\n",
       "      <th>2</th>\n",
       "      <td>5828_4</td>\n",
       "      <td>All in all, this is a movie for kids. We saw i...</td>\n",
       "      <td>176</td>\n",
       "      <td>18</td>\n",
       "    </tr>\n",
       "    <tr>\n",
       "      <th>3</th>\n",
       "      <td>7186_2</td>\n",
       "      <td>Afraid of the Dark left me with the impression...</td>\n",
       "      <td>112</td>\n",
       "      <td>5</td>\n",
       "    </tr>\n",
       "    <tr>\n",
       "      <th>4</th>\n",
       "      <td>12128_7</td>\n",
       "      <td>A very accurate depiction of small time mob li...</td>\n",
       "      <td>133</td>\n",
       "      <td>8</td>\n",
       "    </tr>\n",
       "  </tbody>\n",
       "</table>\n",
       "</div>"
      ],
      "text/plain": [
       "         id                                             review  word_count  \\\n",
       "0  12311_10  Naturally in a film who's main themes are of m...         131   \n",
       "1    8348_2  This movie is a disaster within a disaster fil...         169   \n",
       "2    5828_4  All in all, this is a movie for kids. We saw i...         176   \n",
       "3    7186_2  Afraid of the Dark left me with the impression...         112   \n",
       "4   12128_7  A very accurate depiction of small time mob li...         133   \n",
       "\n",
       "   punc_count  \n",
       "0           5  \n",
       "1          15  \n",
       "2          18  \n",
       "3           5  \n",
       "4           8  "
      ]
     },
     "execution_count": 26,
     "metadata": {},
     "output_type": "execute_result"
    }
   ],
   "source": [
    "raw_data.head()"
   ]
  },
  {
   "cell_type": "code",
   "execution_count": 27,
   "metadata": {},
   "outputs": [
    {
     "data": {
      "text/html": [
       "<div>\n",
       "<style scoped>\n",
       "    .dataframe tbody tr th:only-of-type {\n",
       "        vertical-align: middle;\n",
       "    }\n",
       "\n",
       "    .dataframe tbody tr th {\n",
       "        vertical-align: top;\n",
       "    }\n",
       "\n",
       "    .dataframe thead th {\n",
       "        text-align: right;\n",
       "    }\n",
       "</style>\n",
       "<table border=\"1\" class=\"dataframe\">\n",
       "  <thead>\n",
       "    <tr style=\"text-align: right;\">\n",
       "      <th></th>\n",
       "      <th>id</th>\n",
       "      <th>prediction</th>\n",
       "    </tr>\n",
       "  </thead>\n",
       "  <tbody>\n",
       "    <tr>\n",
       "      <th>0</th>\n",
       "      <td>12311_10</td>\n",
       "      <td>0</td>\n",
       "    </tr>\n",
       "    <tr>\n",
       "      <th>1</th>\n",
       "      <td>8348_2</td>\n",
       "      <td>0</td>\n",
       "    </tr>\n",
       "    <tr>\n",
       "      <th>2</th>\n",
       "      <td>5828_4</td>\n",
       "      <td>0</td>\n",
       "    </tr>\n",
       "    <tr>\n",
       "      <th>3</th>\n",
       "      <td>7186_2</td>\n",
       "      <td>0</td>\n",
       "    </tr>\n",
       "    <tr>\n",
       "      <th>4</th>\n",
       "      <td>12128_7</td>\n",
       "      <td>1</td>\n",
       "    </tr>\n",
       "  </tbody>\n",
       "</table>\n",
       "</div>"
      ],
      "text/plain": [
       "         id  prediction\n",
       "0  12311_10           0\n",
       "1    8348_2           0\n",
       "2    5828_4           0\n",
       "3    7186_2           0\n",
       "4   12128_7           1"
      ]
     },
     "execution_count": 27,
     "metadata": {},
     "output_type": "execute_result"
    }
   ],
   "source": [
    "my_submission.head()"
   ]
  },
  {
   "cell_type": "code",
   "execution_count": 28,
   "metadata": {},
   "outputs": [
    {
     "data": {
      "text/plain": [
       "(25000, 2)"
      ]
     },
     "execution_count": 28,
     "metadata": {},
     "output_type": "execute_result"
    }
   ],
   "source": [
    "my_submission.shape"
   ]
  },
  {
   "cell_type": "code",
   "execution_count": 29,
   "metadata": {},
   "outputs": [
    {
     "ename": "FileNotFoundError",
     "evalue": "[Errno 2] No such file or directory: '/home/ec2-user/data/moviereviews_submission.csv'",
     "output_type": "error",
     "traceback": [
      "\u001b[0;31m---------------------------------------------------------------------------\u001b[0m",
      "\u001b[0;31mFileNotFoundError\u001b[0m                         Traceback (most recent call last)",
      "\u001b[0;32m<ipython-input-29-c341f54ea125>\u001b[0m in \u001b[0;36m<module>\u001b[0;34m\u001b[0m\n\u001b[1;32m      1\u001b[0m \u001b[0;31m# export submission file as pdf\u001b[0m\u001b[0;34m\u001b[0m\u001b[0;34m\u001b[0m\u001b[0;34m\u001b[0m\u001b[0m\n\u001b[1;32m      2\u001b[0m \u001b[0;31m# CHANGE FILE PATH:\u001b[0m\u001b[0;34m\u001b[0m\u001b[0;34m\u001b[0m\u001b[0;34m\u001b[0m\u001b[0m\n\u001b[0;32m----> 3\u001b[0;31m \u001b[0mmy_submission\u001b[0m\u001b[0;34m.\u001b[0m\u001b[0mto_csv\u001b[0m\u001b[0;34m(\u001b[0m\u001b[0;34m'/home/ec2-user/data/moviereviews_submission.csv'\u001b[0m\u001b[0;34m,\u001b[0m \u001b[0mindex\u001b[0m\u001b[0;34m=\u001b[0m\u001b[0;32mFalse\u001b[0m\u001b[0;34m)\u001b[0m\u001b[0;34m\u001b[0m\u001b[0;34m\u001b[0m\u001b[0m\n\u001b[0m",
      "\u001b[0;32m~/opt/anaconda3/lib/python3.8/site-packages/pandas/core/generic.py\u001b[0m in \u001b[0;36mto_csv\u001b[0;34m(self, path_or_buf, sep, na_rep, float_format, columns, header, index, index_label, mode, encoding, compression, quoting, quotechar, line_terminator, chunksize, date_format, doublequote, escapechar, decimal)\u001b[0m\n\u001b[1;32m   3202\u001b[0m             \u001b[0mdecimal\u001b[0m\u001b[0;34m=\u001b[0m\u001b[0mdecimal\u001b[0m\u001b[0;34m,\u001b[0m\u001b[0;34m\u001b[0m\u001b[0;34m\u001b[0m\u001b[0m\n\u001b[1;32m   3203\u001b[0m         )\n\u001b[0;32m-> 3204\u001b[0;31m         \u001b[0mformatter\u001b[0m\u001b[0;34m.\u001b[0m\u001b[0msave\u001b[0m\u001b[0;34m(\u001b[0m\u001b[0;34m)\u001b[0m\u001b[0;34m\u001b[0m\u001b[0;34m\u001b[0m\u001b[0m\n\u001b[0m\u001b[1;32m   3205\u001b[0m \u001b[0;34m\u001b[0m\u001b[0m\n\u001b[1;32m   3206\u001b[0m         \u001b[0;32mif\u001b[0m \u001b[0mpath_or_buf\u001b[0m \u001b[0;32mis\u001b[0m \u001b[0;32mNone\u001b[0m\u001b[0;34m:\u001b[0m\u001b[0;34m\u001b[0m\u001b[0;34m\u001b[0m\u001b[0m\n",
      "\u001b[0;32m~/opt/anaconda3/lib/python3.8/site-packages/pandas/io/formats/csvs.py\u001b[0m in \u001b[0;36msave\u001b[0;34m(self)\u001b[0m\n\u001b[1;32m    182\u001b[0m             \u001b[0mclose\u001b[0m \u001b[0;34m=\u001b[0m \u001b[0;32mFalse\u001b[0m\u001b[0;34m\u001b[0m\u001b[0;34m\u001b[0m\u001b[0m\n\u001b[1;32m    183\u001b[0m         \u001b[0;32melse\u001b[0m\u001b[0;34m:\u001b[0m\u001b[0;34m\u001b[0m\u001b[0;34m\u001b[0m\u001b[0m\n\u001b[0;32m--> 184\u001b[0;31m             f, handles = get_handle(\n\u001b[0m\u001b[1;32m    185\u001b[0m                 \u001b[0mself\u001b[0m\u001b[0;34m.\u001b[0m\u001b[0mpath_or_buf\u001b[0m\u001b[0;34m,\u001b[0m\u001b[0;34m\u001b[0m\u001b[0;34m\u001b[0m\u001b[0m\n\u001b[1;32m    186\u001b[0m                 \u001b[0mself\u001b[0m\u001b[0;34m.\u001b[0m\u001b[0mmode\u001b[0m\u001b[0;34m,\u001b[0m\u001b[0;34m\u001b[0m\u001b[0;34m\u001b[0m\u001b[0m\n",
      "\u001b[0;32m~/opt/anaconda3/lib/python3.8/site-packages/pandas/io/common.py\u001b[0m in \u001b[0;36mget_handle\u001b[0;34m(path_or_buf, mode, encoding, compression, memory_map, is_text)\u001b[0m\n\u001b[1;32m    426\u001b[0m         \u001b[0;32mif\u001b[0m \u001b[0mencoding\u001b[0m\u001b[0;34m:\u001b[0m\u001b[0;34m\u001b[0m\u001b[0;34m\u001b[0m\u001b[0m\n\u001b[1;32m    427\u001b[0m             \u001b[0;31m# Encoding\u001b[0m\u001b[0;34m\u001b[0m\u001b[0;34m\u001b[0m\u001b[0;34m\u001b[0m\u001b[0m\n\u001b[0;32m--> 428\u001b[0;31m             \u001b[0mf\u001b[0m \u001b[0;34m=\u001b[0m \u001b[0mopen\u001b[0m\u001b[0;34m(\u001b[0m\u001b[0mpath_or_buf\u001b[0m\u001b[0;34m,\u001b[0m \u001b[0mmode\u001b[0m\u001b[0;34m,\u001b[0m \u001b[0mencoding\u001b[0m\u001b[0;34m=\u001b[0m\u001b[0mencoding\u001b[0m\u001b[0;34m,\u001b[0m \u001b[0mnewline\u001b[0m\u001b[0;34m=\u001b[0m\u001b[0;34m\"\"\u001b[0m\u001b[0;34m)\u001b[0m\u001b[0;34m\u001b[0m\u001b[0;34m\u001b[0m\u001b[0m\n\u001b[0m\u001b[1;32m    429\u001b[0m         \u001b[0;32melif\u001b[0m \u001b[0mis_text\u001b[0m\u001b[0;34m:\u001b[0m\u001b[0;34m\u001b[0m\u001b[0;34m\u001b[0m\u001b[0m\n\u001b[1;32m    430\u001b[0m             \u001b[0;31m# No explicit encoding\u001b[0m\u001b[0;34m\u001b[0m\u001b[0;34m\u001b[0m\u001b[0;34m\u001b[0m\u001b[0m\n",
      "\u001b[0;31mFileNotFoundError\u001b[0m: [Errno 2] No such file or directory: '/home/ec2-user/data/moviereviews_submission.csv'"
     ]
    }
   ],
   "source": [
    "# export submission file as pdf\n",
    "# CHANGE FILE PATH: \n",
    "my_submission.to_csv('/home/ec2-user/data/moviereviews_submission.csv', index=False)"
   ]
  },
  {
   "cell_type": "markdown",
   "metadata": {},
   "source": [
    "# Submit to Canvas: 1) the CSV file that was written in the previous cell and 2) the url to the repository (GitHub or other) that contains your code and documentation"
   ]
  },
  {
   "cell_type": "code",
   "execution_count": null,
   "metadata": {},
   "outputs": [],
   "source": []
  },
  {
   "cell_type": "code",
   "execution_count": null,
   "metadata": {},
   "outputs": [],
   "source": []
  },
  {
   "cell_type": "code",
   "execution_count": null,
   "metadata": {},
   "outputs": [],
   "source": []
  },
  {
   "cell_type": "code",
   "execution_count": null,
   "metadata": {},
   "outputs": [],
   "source": []
  },
  {
   "cell_type": "code",
   "execution_count": null,
   "metadata": {},
   "outputs": [],
   "source": []
  },
  {
   "cell_type": "code",
   "execution_count": null,
   "metadata": {},
   "outputs": [],
   "source": []
  },
  {
   "cell_type": "code",
   "execution_count": null,
   "metadata": {},
   "outputs": [],
   "source": []
  },
  {
   "cell_type": "code",
   "execution_count": null,
   "metadata": {},
   "outputs": [],
   "source": []
  },
  {
   "cell_type": "code",
   "execution_count": null,
   "metadata": {},
   "outputs": [],
   "source": []
  }
 ],
 "metadata": {
  "kernelspec": {
   "display_name": "Python 3",
   "language": "python",
   "name": "python3"
  },
  "language_info": {
   "codemirror_mode": {
    "name": "ipython",
    "version": 3
   },
   "file_extension": ".py",
   "mimetype": "text/x-python",
   "name": "python",
   "nbconvert_exporter": "python",
   "pygments_lexer": "ipython3",
   "version": "3.8.3"
  }
 },
 "nbformat": 4,
 "nbformat_minor": 2
}
