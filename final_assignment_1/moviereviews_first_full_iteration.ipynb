{
 "cells": [
  {
   "cell_type": "markdown",
   "metadata": {},
   "source": [
    "# Movie reviews\n",
    "\n",
    "This notebook takes you though a complete iteration of Machine Learning Assignment 1 - Movie reviews. The assignment details (including links to download the data) can be found [here](https://docs.google.com/document/d/1WGYw99e5q6j5V0Zrf2HveagU6URt_kVvdR8B9HYQ99E/edit?usp=sharing). "
   ]
  },
  {
   "cell_type": "markdown",
   "metadata": {},
   "source": [
    "## import libraries we will use:"
   ]
  },
  {
   "cell_type": "code",
   "execution_count": 30,
   "metadata": {},
   "outputs": [],
   "source": [
    "# all imports and magic commands\n",
    "import numpy as np\n",
    "import pandas as pd\n",
    "import matplotlib.pyplot as plt\n",
    "# from my_measures import BinaryClassificationPerformance\n",
    "from sklearn.feature_extraction.text import HashingVectorizer\n",
    "from sklearn.feature_extraction.text import TfidfTransformer\n",
    "from scipy.sparse import csr_matrix, hstack\n",
    "from sklearn.preprocessing import StandardScaler\n",
    "from sklearn.model_selection import train_test_split\n",
    "%matplotlib inline"
   ]
  },
  {
   "cell_type": "markdown",
   "metadata": {},
   "source": [
    "## Local BinaryClassificationPerformance()"
   ]
  },
  {
   "cell_type": "code",
   "execution_count": 31,
   "metadata": {},
   "outputs": [],
   "source": [
    "# my_measures\n",
    "class BinaryClassificationPerformance():\n",
    "    '''Performance measures to evaluate the fit of a binary classification model, v1.02'''\n",
    "    \n",
    "    def __init__(self, predictions, labels, desc, probabilities=None):\n",
    "        '''Initialize attributes: predictions-vector of predicted values for Y, labels-vector of labels for Y'''\n",
    "        '''probabilities-optional, probability that Y is equal to True'''\n",
    "        self.probabilities = probabilities\n",
    "        self.performance_df = pd.concat([pd.DataFrame(predictions), pd.DataFrame(labels).reset_index(drop=True)], axis=1, ignore_index=True)\n",
    "        self.performance_df.columns = ['preds', 'labls']\n",
    "        self.desc = desc\n",
    "        self.performance_measures = {}\n",
    "        self.image_indices = {}\n",
    "  \n",
    "    def compute_measures(self):\n",
    "        '''Compute performance measures defined by Flach p. 57'''\n",
    "        self.performance_measures['Pos'] = self.performance_df['labls'].sum()\n",
    "        self.performance_measures['Neg'] = self.performance_df['labls'].shape[0] - self.performance_df['labls'].sum()\n",
    "        self.performance_measures['TP'] = ((self.performance_df['preds'] == True) & (self.performance_df['labls'] == True)).sum()\n",
    "        self.performance_measures['TN'] = ((self.performance_df['preds'] == False) & (self.performance_df['labls'] == False)).sum()\n",
    "        self.performance_measures['FP'] = ((self.performance_df['preds'] == True) & (self.performance_df['labls'] == False)).sum()\n",
    "        self.performance_measures['FN'] = ((self.performance_df['preds'] == False) & (self.performance_df['labls'] == True)).sum()\n",
    "        self.performance_measures['Accuracy'] = (self.performance_measures['TP'] + self.performance_measures['TN']) / (self.performance_measures['Pos'] + self.performance_measures['Neg'])\n",
    "        self.performance_measures['Precision'] = self.performance_measures['TP'] / (self.performance_measures['TP'] + self.performance_measures['FP'])\n",
    "        self.performance_measures['Recall'] = self.performance_measures['TP'] / self.performance_measures['Pos']\n",
    "        self.performance_measures['desc'] = self.desc\n",
    "\n",
    "    def img_indices(self):\n",
    "        '''Get the indices of true and false positives to be able to locate the corresponding images in a list of image names'''\n",
    "        self.performance_df['tp_ind'] = ((self.performance_df['preds'] == True) & (self.performance_df['labls'] == True))\n",
    "        self.performance_df['fp_ind'] = ((self.performance_df['preds'] == True) & (self.performance_df['labls'] == False))\n",
    "        self.image_indices['TP_indices'] = np.where(self.performance_df['tp_ind']==True)[0].tolist()\n",
    "        self.image_indices['FP_indices'] = np.where(self.performance_df['fp_ind']==True)[0].tolist()"
   ]
  },
  {
   "cell_type": "markdown",
   "metadata": {},
   "source": [
    "### IMPORTANT!!! Make sure you are using `BinaryClassificationPerformance` v1.02"
   ]
  },
  {
   "cell_type": "code",
   "execution_count": 35,
   "metadata": {},
   "outputs": [
    {
     "name": "stdout",
     "output_type": "stream",
     "text": [
      "Help on class BinaryClassificationPerformance in module __main__:\n",
      "\n",
      "class BinaryClassificationPerformance(builtins.object)\n",
      " |  BinaryClassificationPerformance(predictions, labels, desc, probabilities=None)\n",
      " |  \n",
      " |  Performance measures to evaluate the fit of a binary classification model, v1.02\n",
      " |  \n",
      " |  Methods defined here:\n",
      " |  \n",
      " |  __init__(self, predictions, labels, desc, probabilities=None)\n",
      " |      Initialize attributes: predictions-vector of predicted values for Y, labels-vector of labels for Y\n",
      " |  \n",
      " |  compute_measures(self)\n",
      " |      Compute performance measures defined by Flach p. 57\n",
      " |  \n",
      " |  img_indices(self)\n",
      " |      Get the indices of true and false positives to be able to locate the corresponding images in a list of image names\n",
      " |  \n",
      " |  ----------------------------------------------------------------------\n",
      " |  Data descriptors defined here:\n",
      " |  \n",
      " |  __dict__\n",
      " |      dictionary for instance variables (if defined)\n",
      " |  \n",
      " |  __weakref__\n",
      " |      list of weak references to the object (if defined)\n",
      "\n"
     ]
    }
   ],
   "source": [
    "help(BinaryClassificationPerformance)"
   ]
  },
  {
   "cell_type": "markdown",
   "metadata": {},
   "source": [
    "# Function for feature building and extraction on natural language data"
   ]
  },
  {
   "cell_type": "code",
   "execution_count": 33,
   "metadata": {},
   "outputs": [],
   "source": [
    "# function that takes raw data and completes all preprocessing required before model fits\n",
    "def process_raw_data(fn, my_random_seed, test=False):\n",
    "    # read and summarize data\n",
    "    movie_data = pd.read_csv(fn, sep='\\t')\n",
    "    print(\"movie_data is:\", type(movie_data))\n",
    "    print(\"movie_data has\", movie_data.shape[0], \"rows and\", movie_data.shape[1], \"columns\", \"\\n\")\n",
    "    print(\"the data types for each of the columns in movie_data:\")\n",
    "    print(movie_data.dtypes, \"\\n\")\n",
    "    print(\"the first 10 rows in movie_data:\")\n",
    "    print(movie_data.head(5))\n",
    "    if (not test):\n",
    "        print(\"The rate of 'good' movie reviews in the dataset: \")\n",
    "        print(movie_data['sentiment'].mean())\n",
    "\n",
    "    # vectorize Bag of Words from review text; as sparse matrix\n",
    "    if (not test): # fit_transform()\n",
    "        hv = HashingVectorizer(n_features=2 ** 17, alternate_sign=False)\n",
    "        X_hv = hv.fit_transform(movie_data.review)\n",
    "        fitted_transformations.append(hv)\n",
    "        print(\"Shape of HashingVectorizer X:\")\n",
    "        print(X_hv.shape)\n",
    "    else: # transform() \n",
    "        X_hv = fitted_transformations[0].transform(movie_data.review)\n",
    "        print(\"Shape of HashingVectorizer X:\")\n",
    "        print(X_hv.shape)\n",
    "    \n",
    "    # http://scikit-learn.org/stable/modules/generated/sklearn.feature_extraction.text.TfidfTransformer.html\n",
    "    if (not test):\n",
    "        transformer = TfidfTransformer()\n",
    "        X_tfidf = transformer.fit_transform(X_hv)\n",
    "        fitted_transformations.append(transformer)\n",
    "    else:\n",
    "        X_tfidf = fitted_transformations[1].transform(X_hv)\n",
    "    \n",
    "    # create additional quantitative features\n",
    "    # features from Amazon.csv to add to feature set\n",
    "    movie_data['word_count'] = movie_data['review'].str.split(' ').str.len()\n",
    "    movie_data['punc_count'] = movie_data['review'].str.count(\"\\.\")\n",
    "\n",
    "    X_quant_features = movie_data[[\"word_count\", \"punc_count\"]]\n",
    "    print(\"Look at a few rows of the new quantitative features: \")\n",
    "    print(X_quant_features.head(10))\n",
    "    \n",
    "    # Combine all quantitative features into a single sparse matrix\n",
    "    X_quant_features_csr = csr_matrix(X_quant_features)\n",
    "    X_combined = hstack([X_tfidf, X_quant_features_csr])\n",
    "    X_matrix = csr_matrix(X_combined) # convert to sparse matrix\n",
    "    print(\"Size of combined bag of words and new quantitative variables matrix:\")\n",
    "    print(X_matrix.shape)\n",
    "    \n",
    "    # Create `X`, scaled matrix of features\n",
    "    # feature scaling\n",
    "    if (not test):\n",
    "        sc = StandardScaler(with_mean=False)\n",
    "        X = sc.fit_transform(X_matrix)\n",
    "        fitted_transformations.append(sc)\n",
    "        print(X.shape)\n",
    "        y = movie_data['sentiment']\n",
    "    else:\n",
    "        X = fitted_transformations[2].transform(X_matrix)\n",
    "        print(X.shape)\n",
    "    \n",
    "    # Create Training and Test Sets\n",
    "    # enter an integer for the random_state parameter; any integer will work\n",
    "    if (test):\n",
    "        X_submission_test = X\n",
    "        print(\"Shape of X_test for submission:\")\n",
    "        print(X_submission_test.shape)\n",
    "        print('SUCCESS!')\n",
    "        return(movie_data, X_submission_test)\n",
    "    else: \n",
    "        X_train, X_test, y_train, y_test, X_raw_train, X_raw_test = train_test_split(X, y, movie_data, test_size=0.2, random_state=my_random_seed)\n",
    "        print(\"Shape of X_train and X_test:\")\n",
    "        print(X_train.shape)\n",
    "        print(X_test.shape)\n",
    "        print(\"Shape of y_train and y_test:\")\n",
    "        print(y_train.shape)\n",
    "        print(y_test.shape)\n",
    "        print(\"Shape of X_raw_train and X_raw_test:\")\n",
    "        print(X_raw_train.shape)\n",
    "        print(X_raw_test.shape)\n",
    "        print('SUCCESS!')\n",
    "        return(X_train, X_test, y_train, y_test, X_raw_train, X_raw_test)"
   ]
  },
  {
   "cell_type": "markdown",
   "metadata": {},
   "source": [
    "# Create training and test sets from function"
   ]
  },
  {
   "cell_type": "code",
   "execution_count": 4,
   "metadata": {},
   "outputs": [
    {
     "name": "stdout",
     "output_type": "stream",
     "text": [
      "movie_data is: <class 'pandas.core.frame.DataFrame'>\n",
      "movie_data has 25000 rows and 3 columns \n",
      "\n",
      "the data types for each of the columns in movie_data:\n",
      "id           object\n",
      "sentiment     int64\n",
      "review       object\n",
      "dtype: object \n",
      "\n",
      "the first 10 rows in movie_data:\n",
      "       id  sentiment                                             review\n",
      "0  5814_8          1  With all this stuff going down at the moment w...\n",
      "1  2381_9          1  \\The Classic War of the Worlds\\\" by Timothy Hi...\n",
      "2  7759_3          0  The film starts with a manager (Nicholas Bell)...\n",
      "3  3630_4          0  It must be assumed that those who praised this...\n",
      "4  9495_8          1  Superbly trashy and wondrously unpretentious 8...\n",
      "The rate of 'good' movie reviews in the dataset: \n",
      "0.5\n",
      "Shape of HashingVectorizer X:\n",
      "(25000, 131072)\n",
      "Look at a few rows of the new quantitative features: \n",
      "   word_count  punc_count\n",
      "0         433          20\n",
      "1         158          16\n",
      "2         378          20\n",
      "3         379           8\n",
      "4         367           9\n",
      "5          89           5\n",
      "6         112           9\n",
      "7         132           9\n",
      "8         163           7\n",
      "9          43           5\n",
      "Size of combined bag of words and new quantitative variables matrix:\n",
      "(25000, 131074)\n",
      "(25000, 131074)\n",
      "Shape of X_train and X_test:\n",
      "(20000, 131074)\n",
      "(5000, 131074)\n",
      "Shape of y_train and y_test:\n",
      "(20000,)\n",
      "(5000,)\n",
      "Shape of X_raw_train and X_raw_test:\n",
      "(20000, 5)\n",
      "(5000, 5)\n",
      "SUCCESS!\n",
      "Number of fits stored in `fitted_transformations` list: \n",
      "3\n"
     ]
    }
   ],
   "source": [
    "# create an empty list to store any use of fit_transform() to transform() later\n",
    "# it is a global list to store model and feature extraction fits\n",
    "fitted_transformations = []\n",
    "\n",
    "# CHANGE FILE PATH and my_random_seed number (any integer other than 74 will do): \n",
    "X_train, X_test, y_train, y_test, X_raw_train, X_raw_test = process_raw_data(fn='../week04/final_data/moviereviews_train.tsv', my_random_seed=74)\n",
    "\n",
    "print(\"Number of fits stored in `fitted_transformations` list: \")\n",
    "print(len(fitted_transformations))"
   ]
  },
  {
   "cell_type": "markdown",
   "metadata": {},
   "source": [
    "# Fit (and tune) Various Models"
   ]
  },
  {
   "cell_type": "markdown",
   "metadata": {},
   "source": [
    "### MODEL: ordinary least squares"
   ]
  },
  {
   "cell_type": "code",
   "execution_count": 5,
   "metadata": {},
   "outputs": [
    {
     "name": "stdout",
     "output_type": "stream",
     "text": [
      "{'Pos': 10033, 'Neg': 9967, 'TP': 4362, 'TN': 5867, 'FP': 4100, 'FN': 5671, 'Accuracy': 0.51145, 'Precision': 0.5154809737650674, 'Recall': 0.43476527459384035, 'desc': 'ols_train'}\n"
     ]
    }
   ],
   "source": [
    "from sklearn import linear_model\n",
    "ols = linear_model.SGDClassifier(loss=\"squared_loss\")\n",
    "ols.fit(X_train, y_train)\n",
    "\n",
    "ols_performance_train = BinaryClassificationPerformance(ols.predict(X_train), y_train, 'ols_train')\n",
    "ols_performance_train.compute_measures()\n",
    "print(ols_performance_train.performance_measures)"
   ]
  },
  {
   "cell_type": "markdown",
   "metadata": {},
   "source": [
    "### MODEL: SVM, linear"
   ]
  },
  {
   "cell_type": "code",
   "execution_count": 6,
   "metadata": {},
   "outputs": [
    {
     "name": "stdout",
     "output_type": "stream",
     "text": [
      "{'Pos': 10033, 'Neg': 9967, 'TP': 10033, 'TN': 9967, 'FP': 0, 'FN': 0, 'Accuracy': 1.0, 'Precision': 1.0, 'Recall': 1.0, 'desc': 'svm_train'}\n"
     ]
    }
   ],
   "source": [
    "from sklearn import linear_model\n",
    "svm = linear_model.SGDClassifier()\n",
    "svm.fit(X_train, y_train)\n",
    "\n",
    "svm_performance_train = BinaryClassificationPerformance(svm.predict(X_train), y_train, 'svm_train')\n",
    "svm_performance_train.compute_measures()\n",
    "print(svm_performance_train.performance_measures)"
   ]
  },
  {
   "cell_type": "markdown",
   "metadata": {},
   "source": [
    "### MODEL: logistic regression"
   ]
  },
  {
   "cell_type": "code",
   "execution_count": 7,
   "metadata": {},
   "outputs": [
    {
     "name": "stdout",
     "output_type": "stream",
     "text": [
      "{'Pos': 10033, 'Neg': 9967, 'TP': 10033, 'TN': 9967, 'FP': 0, 'FN': 0, 'Accuracy': 1.0, 'Precision': 1.0, 'Recall': 1.0, 'desc': 'lgs_train'}\n"
     ]
    }
   ],
   "source": [
    "from sklearn import linear_model\n",
    "lgs = linear_model.SGDClassifier(loss='log')\n",
    "lgs.fit(X_train, y_train)\n",
    "\n",
    "lgs_performance_train = BinaryClassificationPerformance(lgs.predict(X_train), y_train, 'lgs_train')\n",
    "lgs_performance_train.compute_measures()\n",
    "print(lgs_performance_train.performance_measures)"
   ]
  },
  {
   "cell_type": "markdown",
   "metadata": {},
   "source": [
    "### MODEL: Naive Bayes"
   ]
  },
  {
   "cell_type": "code",
   "execution_count": 8,
   "metadata": {},
   "outputs": [
    {
     "name": "stdout",
     "output_type": "stream",
     "text": [
      "{'Pos': 10033, 'Neg': 9967, 'TP': 9633, 'TN': 9811, 'FP': 156, 'FN': 400, 'Accuracy': 0.9722, 'Precision': 0.9840637450199203, 'Recall': 0.9601315658327519, 'desc': 'nbs_train'}\n"
     ]
    }
   ],
   "source": [
    "from sklearn.naive_bayes import MultinomialNB\n",
    "nbs = MultinomialNB()\n",
    "nbs.fit(X_train, y_train)\n",
    "\n",
    "nbs_performance_train = BinaryClassificationPerformance(nbs.predict(X_train), y_train, 'nbs_train')\n",
    "nbs_performance_train.compute_measures()\n",
    "print(nbs_performance_train.performance_measures)"
   ]
  },
  {
   "cell_type": "markdown",
   "metadata": {},
   "source": [
    "### MODEL: Perceptron"
   ]
  },
  {
   "cell_type": "code",
   "execution_count": 9,
   "metadata": {},
   "outputs": [
    {
     "name": "stdout",
     "output_type": "stream",
     "text": [
      "{'Pos': 10033, 'Neg': 9967, 'TP': 10033, 'TN': 9967, 'FP': 0, 'FN': 0, 'Accuracy': 1.0, 'Precision': 1.0, 'Recall': 1.0, 'desc': 'prc_train'}\n"
     ]
    }
   ],
   "source": [
    "from sklearn import linear_model\n",
    "prc = linear_model.SGDClassifier(loss='perceptron')\n",
    "prc.fit(X_train, y_train)\n",
    "\n",
    "prc_performance_train = BinaryClassificationPerformance(prc.predict(X_train), y_train, 'prc_train')\n",
    "prc_performance_train.compute_measures()\n",
    "print(prc_performance_train.performance_measures)"
   ]
  },
  {
   "cell_type": "markdown",
   "metadata": {},
   "source": [
    "### MODEL: Ridge Regression Classifier"
   ]
  },
  {
   "cell_type": "code",
   "execution_count": 10,
   "metadata": {},
   "outputs": [
    {
     "name": "stdout",
     "output_type": "stream",
     "text": [
      "{'Pos': 10033, 'Neg': 9967, 'TP': 10033, 'TN': 9967, 'FP': 0, 'FN': 0, 'Accuracy': 1.0, 'Precision': 1.0, 'Recall': 1.0, 'desc': 'rdg_train'}\n"
     ]
    }
   ],
   "source": [
    "from sklearn import linear_model\n",
    "rdg = linear_model.RidgeClassifier()\n",
    "rdg.fit(X_train, y_train)\n",
    "\n",
    "rdg_performance_train = BinaryClassificationPerformance(rdg.predict(X_train), y_train, 'rdg_train')\n",
    "rdg_performance_train.compute_measures()\n",
    "print(rdg_performance_train.performance_measures)"
   ]
  },
  {
   "cell_type": "markdown",
   "metadata": {},
   "source": [
    "### MODEL: Random Forest Classifier"
   ]
  },
  {
   "cell_type": "code",
   "execution_count": 11,
   "metadata": {},
   "outputs": [
    {
     "name": "stdout",
     "output_type": "stream",
     "text": [
      "{'Pos': 10033, 'Neg': 9967, 'TP': 8847, 'TN': 6588, 'FP': 3379, 'FN': 1186, 'Accuracy': 0.77175, 'Precision': 0.7236217896286602, 'Recall': 0.8817900926941095, 'desc': 'rdf_train'}\n"
     ]
    }
   ],
   "source": [
    "from sklearn.ensemble import RandomForestClassifier\n",
    "rdf = RandomForestClassifier(max_depth=2, random_state=0)\n",
    "rdf.fit(X_train, y_train)\n",
    "\n",
    "rdf_performance_train = BinaryClassificationPerformance(rdf.predict(X_train), y_train, 'rdf_train')\n",
    "rdf_performance_train.compute_measures()\n",
    "print(rdf_performance_train.performance_measures)"
   ]
  },
  {
   "cell_type": "markdown",
   "metadata": {},
   "source": [
    "### ROC plot to compare performance of various models and fits"
   ]
  },
  {
   "cell_type": "code",
   "execution_count": 12,
   "metadata": {
    "scrolled": false
   },
   "outputs": [
    {
     "data": {
      "image/png": "[encoded data removed]",
      "text/plain": [
       "<Figure size 432x288 with 1 Axes>"
      ]
     },
     "metadata": {
      "needs_background": "light"
     },
     "output_type": "display_data"
    }
   ],
   "source": [
    "fits = [ols_performance_train, svm_performance_train, lgs_performance_train, nbs_performance_train, prc_performance_train, rdg_performance_train, rdf_performance_train]\n",
    "\n",
    "for fit in fits:\n",
    "    plt.plot(fit.performance_measures['FP'] / fit.performance_measures['Neg'], \n",
    "             fit.performance_measures['TP'] / fit.performance_measures['Pos'], 'bo')\n",
    "    plt.text(fit.performance_measures['FP'] / fit.performance_measures['Neg'], \n",
    "             fit.performance_measures['TP'] / fit.performance_measures['Pos'], fit.desc)\n",
    "plt.axis([0, 1, 0, 1])\n",
    "plt.title('ROC plot: test set')\n",
    "plt.xlabel('False positive rate')\n",
    "plt.ylabel('True positive rate')\n",
    "plt.show()"
   ]
  },
  {
   "cell_type": "markdown",
   "metadata": {},
   "source": [
    "### looking at reviews based on their classification\n",
    "\n",
    "Let's say we decide that Ordinary Least Squares (OLS) Regression is the best model for generalization. Let's take a look at some of the reviews and try to make a (subjective) determination of whether it's generalizing well. "
   ]
  },
  {
   "cell_type": "code",
   "execution_count": 13,
   "metadata": {},
   "outputs": [],
   "source": [
    "ols_predictions = ols.predict(X_train)"
   ]
  },
  {
   "cell_type": "markdown",
   "metadata": {},
   "source": [
    "### let's look at some false positives:"
   ]
  },
  {
   "cell_type": "code",
   "execution_count": 14,
   "metadata": {},
   "outputs": [
    {
     "name": "stdout",
     "output_type": "stream",
     "text": [
      "Examples of false positives:\n",
      "132\n",
      "A worn-out plot of a man who takes the rap for a woman in a murder case + the equally worn-out plot of an outsider on the inside who eventually is shut out.<br /><br />With such an outstanding case, one would think the film would rise above its hackneyed origins. But scene after scene drones by with no change in intensity, no character arcs, and inexplicable behavior.<br /><br />The homosexuality theme was completely unnecessary -- or on the other hand, completely unexplored. It seemed to be included only to titillate the viewers. When will Hollywood learn that having gay characters does not automatically make a more compelling picture?<br /><br />A regrettably dreadful movie. When will Lauren Bacall pick a good one? I expected better of her and Kristin Scott Thomas. This one is definitely one to miss.\n",
      "* * * * * * * * * \n",
      "150\n",
      "Bad acting. Bad writing. This was a poorly written film. It's too bad because it had some potential. It's not even close to American Pie or Something about Mary as previous comments might have you believe. Rent it at dollar night from you local video store if you're kind of bored.\n",
      "* * * * * * * * * \n",
      "267\n",
      "I am very surprised to see such a high rating for this film, and of the few reviews that there are to be positive. I saw the movie and was pretty dissapointed. I didn't find it very enjoyable at all. It was slow, and lacks the entertainment value. Even the murder scenes are lackluster, with real close-up shots of generic stabbings that don't look good at all. And the supposed great twist ending is really not much, I did see it coming, and then the ending just seemed cliche. This movie may not get much mention, but by the little that it does get, it is overrated. I would not recommend this movie.\n",
      "* * * * * * * * * \n",
      "287\n",
      "It was nice to see all the familiar characters again, but the story bothered me. We loved Ariel in the first movie- so why is the second one centered around her daughter? The new characters were annoying and I didn't like the plot of this. Worst of all, Christopher Daniel Barnes didn't come back as the voice of Eric! Disney, please stop remaking classic movies with these shoddy imitations.\n",
      "* * * * * * * * * \n",
      "342\n",
      "This ABC straight-to-TV failure does absolutely no justice to the brilliant fantasy novel that is A Wrinkle in Time. Ms. Madeleine L'Engle brought children and adults alike into a magical, fantastical and original world like no author before her. This novel, the first in her 'time quartet', is a beautiful take on life, the universe, and time itself. Yet it is easy for any child or adolescent to understand. Its unwavering morals are prevalent throughout the book. This film adaptation can be seen as nothing but a mockery of Ms. L'Engle's work of art. Honestly, what were they thinking? The effects look cheap and ridiculous, the plot is mushy and uneven, the dialogue is far-fetched and just about every magical characteristic of the novel has been lost. This was a horrible attempt at bringing this book to the screen. I sincerely hope that someday an intelligent, worthy director (Guillermo del Toro, David Yates, Alfonso Cuarón) makes another attempt at bringing this book to the screen and understands it for what it truly is: a masterpiece. This adaptation can only be compared to boring, fake and cheap motel-room art which holds no ground and makes absolutely no impact on its audience.\n",
      "* * * * * * * * * \n",
      "404\n",
      "Documentary about nomadic Persians making a treacherous traverse of massive mountains to get their herds to grass. Watching this silent, black and white feature, marred in part by a twink-twink-twink Oriental music score that could not have been used in the original exhibition, is even duller than it sounds. The spectacular scenery is lost on a small black and white screen, and there is an utter failure to establish any kind of plot line. I loved Nanook of the North and March of the Penguins, but despised this movie, notwithstanding the similarity of the theme. Physical hardships alone are just not that interesting.\n",
      "* * * * * * * * * \n",
      "559\n",
      "It was a decent movie, I actually kind of enjoyed it. But the ending is so abrupt!! There is absolutely no closure and it leaves tons of loose ends. What happens after the concert? What happens with her boyfriend? Does she hook up with Grant? Does she come beck in the next semester? And what about Angela? Obviously Holly's performance would knock Angela down a few pegs, but nothing is shown to indicate how she reacts. There is so much left up in the air and it's very unsatisfying. I don't know if it is trying to leave room for a sequel or something, but it is a terrible ending and I think that it really makes the movie a joke. I was very disappointed.\n",
      "* * * * * * * * * \n",
      "731\n",
      "This superior inferiority to the original dumb \\Blind Dead\\\" movie is another trash bin waste. So many people have hyped up these films that I can't believe what they say about it. Since I was a kid I have heard about how scary and great these films are and I saw them all and was throughly disappointed, was everyone on drugs, from the 1970's or do they just not know how boring this crude is?\"\n",
      "* * * * * * * * * \n",
      "760\n",
      "The easiest way to describe this movie is as a satire. The target of the satire is quite vast, from the US Government to corporate America. It is also not a stinging satire, but rather a silly one.<br /><br />Think of this movie as a mix between the Kentucky Fried movie, Airplane and Police Squad series, done with a much smaller budget and not as funny. I can see how this movie is a satire of many sci-fi disaster movies from the 50's and 60's. I see this movie as a big influence on Tim Burton's Mars Attacks.<br /><br />The plot is simple enough. Genetically engineered giant tomatoes go \\crazy\\\" and start attacking people and cities. At first there is a cover up and then it blows over into full blown war.<br /><br />The movie runs the gamut of characters and characterizations : Lois \\\"Fairchild\\\" (a Lois Lane clone), a very ambitious Presidential Press Secretary, Clark Kent, Mason Dixon (FIA agent who hasn't worked since the Bay of Pigs), a useless President (who only seems to be able to sign his name and attack New York), an even inept Congress, a sleazy marketing CEO, and Mason's team consisting of an obese East German \\\"female\\\" swimmer, a scuba diver, a crazed WWII paratrooper and an African-American disguise expert (disguised as George Washington, Abraham Lincoln, Hitler and finally as a tomato). Did I also forget to mention, lots and lots of tomatoes? There are all kinds of tomatoes from small tomatoes, to giant plastic tomatoes, to smashed tomatoes, to tomato juice and finally to people dressed up as tomatoes.<br /><br />On top of all this, you have a couple of musical numbers as well. They aren't that good and seem to be dubbed. The best tune is by far the theme of the movie (\\\"Attack of the Killer Tomatoes\\\"). It is way too catchy and you might end up humming or singing it in public. Be warned.<br /><br />Most of the movie is quite amusing and shows the absurdity of various real life situations as well as various entertainment genres. I don't believe I was induced to laughter, but mostly smiled and scratched my head. I definitely recommend this movie for fans of B and C grade movies, but only as a rental.<br /><br />-Celluloid Rehab\"\n",
      "* * * * * * * * * \n",
      "794\n",
      "i love horror films, low budget, 50's, 60's, 70's, 80's.. but how can anyone think this is a very good horror film? let's compare it to titles in a similar vein- haunted house films. the haunting, the changeling, the shining. or for a similar technology based horror film that was FAAAR better, (though still FAR from great) Demon Seed. OK, i'll be fair.. let's compare it to made-for-TV horror films! don't go to sleep.. waaay creepier and better done. salem's lot, the night stalker, night gallery, even don't go in the basement or crowhaven farm were far better. *SPOILERS* first of all, for as good a scene as the bloody shower scene was, you have a scene like the opening scene.. oh boy! the garden hose comes alive to hose down some frisky teenagers! TERRIBLE. also, just what we understand about the house.. it apparently needs to use its video cameras to see what is going on, and it's a very emotional house. not a spirit, or demon, or entity, it's a house thats \\possessed\\\", but by what? we are led to believe an inanimate object learned to love suzie/margaret, our protagonist? now that I'm on the topic of suzie.. another scene that totally bothered me, this poor old crazy lady comes, tells you she was your nurse, pours her heart out, falls in the boiling pool, struggling in agony for 45 seconds, and what does margaret do? does she risk her hands being burnt to save this poor elderly woman that came there to warn her's life? no, she stands there and watches! the acting for the most part was better than average for a horror film, but that's where the positives end. for at least a more interesting, and fun horror film about an inanimate object that kills people watch death bed: the bed that eats. i have a feeling the people who rated this so highly either haven't watched it since it originally aired, or remembered it scaring them as children. this film was pretty much merit less.\"\n",
      "* * * * * * * * * \n",
      "915\n",
      "There were good performances by Robin Williams and others but the movie was dull overall and very disappointing compared to the positive reviews.<br /><br />I thought Sy might become a serial killer who bores people to death: a forlorn guy in ugly clothes trails his victims around food courts, quoting Oprah and reciting his medical history until they beg him to shoot them.<br /><br />I think the movie mostly appeals to egomaniacs who think strangers are interested in their photos. I expect most retail workers want a break from the customers.\n",
      "* * * * * * * * * \n",
      "939\n",
      "I was not expecting much going in to this, but still came away disappointed. This was my least favorite Halestorm production I have seen. I thought it was supposed to be a comedy, but I only snickered at 3 or 4 jokes. Is it really a funny gag to see a fat guy eating donuts and falling down over and over? What was up with the janitor in Heaven scene? Fred Willard has been hilarious with some of his Christopher Guest collaborations, but this did not work. They must have spent all the budget on getting \\known\\\" actors to appear in this because there was no lighting budget. It looked like it was filmed with a video camera and most scenes were very dark. Does it really take that much film to show someone actually shoot and make a basket, as opposed to cutting away and editing a ball swishing through a basket? I try not to be too critical of low budget comedies, but if you want to see something funny go to a real Church basketball game instead of this movie.\"\n",
      "* * * * * * * * * \n",
      "960\n",
      "Ever heard of a taiwanese horror movie? Or any taiwanese movie? Propably for a reason. This one was a really boring one, even though it has black magic including withered baby bodies and people exploding from the inside with thousands of eels.<br /><br />Having read other peoples thoughts, I was looking forward for some violence and gore, but there's not much at all. Some blood puking and other lame stuff, if you are waiting for graphic gore or any gruesome effects you will be disappointed. They clearly didn't use the eel exploding and other things to their maximum potent.<br /><br />Pretty much nothing good about this movie; a single character that wasn't completely bland and a few OK black magic spells, like the eel one. The plot was confusing and boring. The characters were thin and annoying, including the main character. The horror aspect didn't work at all, the most horrifying thing was an albino girl (not that scary really). This is the worst Asian horror movie I have ever seen.\n",
      "* * * * * * * * * \n",
      "998\n",
      "The word in the summary sums it up d'oh ;) Five girls get lost trying to find their way home, when they stop at a store to get directions they hit a parked car breaking one headlight on it, they flea the scene in fair of getting in trouble but suddenly they see one headlight coming up behind them (ooooh).<br /><br />From there out everything is screaming, crying and violence when they try to get away from this crazy person who lost it because of a headlight ;), well the screaming and crying pretty much stays through the entire movie (very annoying) The movie is shot, with a cheap camera trying to make it seem \\real\\\" or \\\"shocking\\\" I guess, it's just embarrassing and useless though. In lack of anything better to compare it with, \\\"Blair witch style\\\".<br /><br />The screaming and crying for pretty much the entire movie with crappy sound was over the top annoying, you literally get a headache :)<br /><br />I'm sorry but this was not scary, only an annoying painful piece of crap movie.\"\n",
      "* * * * * * * * * \n",
      "1229\n",
      "***SPOILERS*** Let's start with the \\good\\\" of this film--the serviceable acting of Cynthia Rothrock and Richard Norton. The rest of the acting is awful (this isn't aided by the atrocious script). The worst culprit is the villain, Buntao, the head of an Asian crime syndicate (played by Frans Tumbuan). I was laughing my head off as he was expressing his \\\"fury\\\" over having lost a bunch of money; horrid performance. Patrick Muldoon isn't much better, and his \\\"it's a hostile takeover\\\" line (that's the remainder of the title of this film) was delivered about as badly as one could do it. There are no other main characters, but no other actor/actress distinguished him/herself in this film. We next come to the plot. This should tell you all you need to know: In the original \\\"Rage and Honor,\\\" Cynthia Rothrock, who plays Chris Fairchild, was a teacher in the inner city. Now, she's a C.I.A. agent (or was it some other governmental agency--sorry, but this film was so bad that I don't even remember). Hmmm...I can imagine what that C.I.A. application process was like. Interviewer: What past job experience do you have? Chris: I was a teacher. Interviewer: Okay; you're hired! I only give it a \\\"2\\\" because of some decent acting and a nice plot twist at the end (though we know that Tommy (Muldoon), the secret villain, will be caught).\"\n",
      "* * * * * * * * * \n",
      "1405\n",
      "I didnt think it was possible, but i have found film worse than 'Body Melt'. This film is really really bad! And what makes it worse is that its another Australian film...<br /><br />Shot on what looks like VHS, and with a terrible 80's rock soundtrack, it just keep getting worse and worse, which is hard to believe seeing how bad the beginning is (skinned male hanging up-side-down in a white tomato sauce sprayed room anyone?).<br /><br />And why do their accents keep changing? From bad New York drawl, to prissy english, then pure Aussie! And it happens to the whole cast!<br /><br />This film also claims to have won some film festival on the cover (i believe it was the Utah Film Festival). This has to be a lie because no-one in their right mind would nominate this for anything (perhaps the Golden Rasberries but i thinks its too bad for that aswell).<br /><br />Come on guys! This film has to be number 1 on the bottom 100!!! It has to be ten times a bad as those films already on there.<br /><br />Well done to the \\film\\\" makers of this trash, for proving there is a reason not to see films..... 0/10\"\n",
      "* * * * * * * * * \n",
      "1418\n",
      "This is by far one of the worst movies i have ever seen, the poor special effects along with the poor acting are just a few of the things wrong with this film. I am fan of the first two major leagues but this one is lame!\n",
      "* * * * * * * * * \n",
      "1455\n",
      "Is this the same Kim Ki Duk who directed the poignant, life-spanning testimonial of \\Spring, Summer, Fall, Winter and Spring\\\"? The same Kim Ki Duk who directed the exquisite, nearly silent, heartbreaking longing of \\\"3 Iron\\\"? The same Kim Ki Duk who dazzled us with the staggering tragedy of \\\"The Coast Guard\\\" and made us squirm about the ugliness of nonchalant teenage prostitution before returning to his almost patented nature motif to allow us all (characters and viewers alike) to experience redemption in \\\"Samaritan Girl\\\"? I just cannot seem to find him in this film.<br /><br />Oh, sure, Kim's nature motif is still present. The film takes place entirely on a lake surrounded by mountains and on fishing floats resting placidly on the surface of calm waters. Yes, it's Kim Ki Duk, all right. Kim even describes the film as \\\"beautiful\\\" in an interview included in the DVD's special features. But I'm not sure anymore what that means after viewing this putrescent presentation.<br /><br />What is beautiful about angry, potty-mouthed prostitutes, lustful, violent and potty-mouthed fishermen, a covetous mute merchant, explicit animal torture, sequences of self-mutilation and a pace that swings nauseatingly between bestial carnality and mindless brutality? These are the only elements of humanity that present themselves in this utterly confounding and ultimately pointless film. If it is based on a fable or intended as a parable or is meant to be symbolic of something greater, this reviewer is unfamiliar with the source material. It has been favorably compared to \\\"Audition\\\" by Japanese director Takashi Miike (much to Kim's satisfaction), but aside from some astonishingly good performances, especially given what they had to work with, by lead actors Seo Jung and Kim Yoo Suk, I find little reason to recommend this film. I have not seen \\\"Audition,\\\" but I doubt it would alter in any way my view of \\\"The Isle.\\\" Its violence is pornographic and senselessly sadistic. Its sex is not pornographic, but passionless and masochistic. Characters behave on irritating impulse because there is no plot. Its point is either non-existent or, I will admit, lost amidst Korean cultural quirks that I fail to understand.<br /><br />The only beauty is in the cinematography, which is classic Kim: fog-shrouded boats lapping slowly across a serene lake, mountainous terrain dominating the background, and an imaginative and playful use of color. At times it seems as if viewers are locked in a big Kim Ki Duk romper room. Some touches, like the mysterious and seductive mute merchant played by Jung and the pleasantly odd use of motorbikes, are intriguing. But as a film, this effort is downright confusing and, in the end, offensive to the senses, not necessarily to sensibilities. One hopes that Kim will leave this kind of film-making in the trash heap of his past, for we know he is capable of so much more.\"\n",
      "* * * * * * * * * \n",
      "1493\n",
      "I don't remember a movie where I have cared less about where the characters have come from, what happens to them or where they are going. I realize that Hollywood's greatest pastime is navel-gazing, but these people are either too despicable or too boring to take up time with. For what it's worth, though, the discussion that followed the showing, under the auspices of the Key Sunday Cinema series, did make allowance that possibly the three women did show some redeeming characteristics. I disagree.\n",
      "* * * * * * * * * \n",
      "1640\n",
      "Okay, I've tried and I've tried, but I STILL DON'T GET this Guy Maddin thing. Tales From the Gimli Hospital left me cold, that movie about the Austrian villagers and the one about the Ice Nymph were pretty to look but lacking in the story department...and this nudie movie about abortion and hockey is just boring. I'm glad Maddin has an appreciation for silent film, but I dislike his films for the same reason I dislike the films of Quentin Tarantino: they're empty homages to better, more imaginative films--films that advanced the art form or broke new ground--and are all style and no substance. No amount of jump cuts and odd camera angles can disguise the fact that Maddin is an unoriginal David Lynch wannabe, though he DOES have one advantage over Tarantino: he generally doesn't write embarrassing dialogue, because most of his films rely on intertitles. The bottom line is, Maddin's schtick is clever clever film-making for aspiring film majors.\n",
      "* * * * * * * * * \n",
      "1745\n",
      "This extremely weak Australian excuse for a motion picture is sort of like the Pavlov Dog Experiment amongst horror movies. You remember this famous \\Conditioned Reflex\\\" experiment from your school books, right? The Russian scientist Pavlov proved that dogs tended to salivate before the food actually came into their mouths and this through repetitive routines stimulating the animal's reflexes. Pavlov rung a bell a couple of instants before the food was delivered to the dog and, after a while, he became anxious and excited and already started salivating from hearing the sound of the bell. What the hell has this whole boring explanation in common with a sleazy and low-budgeted Aussie slasher flick, I hear you think? Well, the modus operandi of the maniacal killer in \\\"Nightmares\\\" is an exact variant on Pavlov's experiment. Each and every single murder sequence is preceded by the raw sound and image of the killer breaking a window, because he/she insists on using a sharp piece of glass to slice up the victims. So this means that, after a short while, inattentive and bored viewers can afford to doze off and simply look up again when they hear the sound of shattering glass. That way they still don't miss anything special! <br /><br />Regarding the quality of \\\"Nightmares\\\" as a film I can be very brief. This is a cheap, uninspired and largely imbecilic Aussie cash-in on the contemporary popular trend of American slasher movies. In the early 60's, a four-year-old witnesses the cruel death of her mother as her throat gets slit open in a nasty car accident. Twenty years later the same girl  Helen Selleck  is a successful stage actress, but she still has severe mental issues and regularly suffers from horrible flashbacks and traumatic nightmares. She auditions for a role in a black comedy play revolving on death and gets the part. Shortly after the big premiere, everyone who's even remotely involved with the production gets slaughtered. It is truly retarded how this movie attempts to uphold the mystery regarding the killer's identity and motivations even though even the most infantile viewer can figure it out after the first murder already. I don't think I've ever seen a more obvious whodunit than \\\"Nightmares\\\" and the creators should have just showed his/her face straight away and save themselves from embarrassment. The murders are explicit and very bloody and there's also an unhealthy large amount of gratuitous nudity to \\\"enjoy\\\". However, the production values are poor and thus the movie is never at one point shocking or provocative. The few clips we get to see of the actual play make it appear that it quite possible could be the worst thing ever performed on stage. The only positive elements in the film are the characters of the director and the gay newspaper critic, whom are both delightfully sarcastic and insult the rest of the cast members as much as we do. \\\"Nightmares\\\" is a dreadful piece of exploitative horror cinema, but hey, at least I gave you a golden tip to make it more digestible.\"\n",
      "* * * * * * * * * \n",
      "1761\n",
      "This was in short a terrible disappointment. By far the worst adaptation of one of my favourite novels. The dialogue was horribly clumsy; I could sense no feeling behind the words expressed by the characters. The lines were delivered too hastily and felt rather out of place. They could just as well have been cited by statues. The chemistry between George C. Scott and Susannah York was non-existent and watching an American Rochester felt strange. He could have at least tried to do a British accent. I like George C. Scott as an actor, but this simply did not work. I felt like I was watching highlights from Jane Eyre, where the main pieces of the story had been randomly put together with no regard to the flow of the story. The scenery and music were all very nice, but I could feel none of the passion and love that is supposed to be between Jane and Rochester and the movie left me totally unmoved.<br /><br />If you want to see a good version of Jane Eyre I suggest you watch the 1983 BBC version with Timothy Dalton and Zelah Clarke or the 1997 version with Ciarán Hinds and Samantha Morton. Now these two are brilliant adaptations.\n",
      "* * * * * * * * * \n",
      "1776\n",
      "Two films are useful for scaring people to God, this and 'Event Horizon'. One has a significant and poignant message, the other is as one-dimensional as a religious movie can get. Too bad Paul Anderson went on to the accursed Resident Evil movies, he really had something going.<br /><br />Thief in the Night is hampered by many obvious independent film attributes (acting, storytelling, dialog, and persuasion) and it's obvious what the film's intentions are from the start. The Christian film industry hasn't learned from the failures of this, so we are stuck with The Omega Code, Left Behind, and the other Tribulation movies. Their underlying element is that they are so concerned with selling their message: \\Get saved, folks!\\\" that everything else becomes second to whacking the audience over the head with a Bible.<br /><br />Overall, I can't believe I'm even writing this much about a movie this ineffective. Skip it entirely and go back to Sam Neil gouging out his eyeballs. 1 out of 5.\"\n",
      "* * * * * * * * * \n",
      "2036\n",
      "Summer season is here when the choices in the cinemas are limited to what's the hottest movie of the week, given 99.9% of the screens dedicated to screening it. OK, so I may exaggerate on the percentage, but you get my drift. Besides stuff from Hollywood, Bollywood too have their own share of highly anticipated blockbusters, and from some of the trailers shown, I'm hyped to watch them too. Tashan was billed as one of THE most highly anticipated for 2008, but I was quite surprised at the lower than low turnout at the cinemas. When I watched Jodha Akbar, it was a full house, but it wasn't for Tashan.<br /><br />After watching it, I knew why. It was entertaining, but it was fundamentally weak. Just like it's literal English title, which means \\Style\\\", Tashan is all style, but little substance. Not that it doesn't have the usual star power, but scenes felt forced, and some bordered on a tad ridiculous, even for Bollywood standards I must say. Which is quite surprising given that Tashan is directed and written by Vijay Krishna Acharya, who wrote Dhoom and Dhoom 2, both of which I enjoyed tremendously. <br /><br />In his rookie directorial outing with Tashan, while you can't fault his direction, you'd probably scratch your head over the plot, which was clunky at best. It tried to force too many things into the story, though credit be given where it allowed you some avenue to question character motivation, but that came a little too late, and only toward the finale, which left you guessing for just a moment before it latched into full blown action mimicking many a Thai action movie, with Hong Kong's wirework and Hollywood's ludicrous firearms and gunplay with zero recoil. And in a bid to include everything including the kitchen sink, you have an assortment of vehicles appearing, and the one that took the cake, in a Dhoom 2 homage, was the jetski boat in the middle of nowhere.<br /><br />At best, Tashan can be enjoyed as unintentional comedy, and this is attributed to how the cast hammed up with their characters. Saif Ali Khan plays Jimmy Cliff, a call center executive who gives English tuition, only as a platform for fishing out new girlfriend material. His playboy ways gets junked aside when he meets with Pooja Singh (Kareena Kapoor), who's not exactly who she seems, the meek and sweet natured hottie. She engages Jimmy's services for her boss, mobster Bhaiyyaji (Anil Kapoor), who probably gets most of the laughs as he speaks broken English and phrases must like how an ah-beng does it. And to complete the quartet, Akshay Kumar plays Bachchan Pandey, an illiterate gangster for hire who got engaged by Bhaiyyaji to hunt down Jimmy and Pooja when they escape with money stolen from Bahiyyaji's business.<br /><br />So begins a road trip of sorts, with friends who turned enemies, and enemies whom you know will become friends as the road trip wears on. Jimmy Cliff is probably the most implausible of all, because he goes from zero to hero, executing moves that would shame Rambo, in absolutely no time, which is quite out of character. Kareena Kapoor amps up the sex factor as she uses her charms to guile both men, and has plenty of opportunity to do so given the much touted bikini scenes, and other costumes that boast of plunging necklines or hemlines way above the knee. Every character has a backstory created, and I thought Akshay Kumar's Bachchan Pandey was probably the best, the most touching and the most fun of the lot, even though his character seemed a lot like a non-green Incredible Hulk with his gravity-defying leaps and power packing punches. His wounds also heal automatically, which impressively puts Wolverine to shame. And the best part is his theme song, which is damn alpha-male and played in ra-ra mode each time he takes on adversaries.<br /><br />But sad to say, that's the only tune that is memorable, something that cheers \\\"Bachchan- Pandey-Bachchan-Pandey\\\". For most Bollywood movies I watch, I will usually be able to, despite the obvious language gaps, emerge from screenings humming a tune or two. I wasn't able to do that after Tashan, because the songs unfortunately just weren't catchy at all. Usually the song/dance routine works well into the storyline without any necessity to bring the characters out of the current scene or location. That I enjoy, versus plucking them out and plonking them into extreme settings high atop a mountain, or atop jagged rocks on the beach front.<br /><br />Tashan probably didn't take itself too seriously, but coming from Vijay Krishna Acharya's story, you probably wanted something a little more decent rather than the ridiculous, and for continuity to be a little more careful as well. Billed as a blockbuster, now I can start to understand why the crowds have already shunned this one. Despite Akshay Kumr stealing the show, Tashan could have been better on the whole.\"\n",
      "* * * * * * * * * \n",
      "2047\n",
      "First let me state that I do not believe in god (if you want to use the word atheist, fine, but I don't like that word since it describes what I'm not, not what I am) but I hated this \\documentary.\\\" The production values were damn near non existent, the premise extremely shaky and whole thing seemed to be an exercise in Brian Flemming's insecurities.<br /><br />The production values were terrible and Brian Flemming is clearly an amateurish director at best. The narration sounded like he just narrated over the film all in one shot, and he didn't practice at all. There were way to many umms and pauses when he should have been talking in the movie. animation was also pretty damn bad.<br /><br />The whole idea that Jesus is a mythical character is not taken seriously by historians and biblical scholars. As I stated before, I do not believe in God, and I don't think that whether or not Jesus was a real man says nothing about the existence of God. My personal view, Jesus probably was a real man but he lived in a time where there were many massiah's (look up apollonius of tiana) and that the stories of his life and preaching were blown out of proportion the farther you got from his death. According to the Wikipedia article on the historicity of Jesus (and there's a good citation for this so it's garbage) \\\"virtually all scholars in the fields of biblical studies and history agree that Jesus was a Jewish teacher from Galilee who was regarded as a healer, was baptized by John the Baptist, was accused of sedition against the Roman Empire, and on the orders of Roman Governor Pontius Pilate was sentenced to death by crucifixion.[1]\\\" I was left wondering at the end of the documentary if this was more about the director's insecurities than anything else. I was left wondering if he was trying to convince himself more than anyone else. The most telling example of this is the final interview he was with the religious school principal. He's not even coy about it. The way he bombards the teacher is unfair and while I agree with the director partially, that teaching kids about hell fire is a bad thing, the way that Flemming confronted the principal was just awkward to watch. Flemming had a chance to perhaps get a good discussion going, if he was more tactile with his interview. Instead he comes off aggressive with \\\"isn't it bad to teach kids this stuff.\\\" The guy cuts the interview short and I mean, what did he expect, the principal to say \\\"oh yes, I see it is, I have seen the light, this will now be a secular school?\\\" It seems that Flemming is getting revenge for what he feels was a wrong done to him in childhood. This isn't about the documentary, this is about Flemming's insecurities, and has nothing to do with the supposed topic of the documentary. Flemming shows what he's really doing here, and that is the real downfall of this so-called documentary.\"\n",
      "* * * * * * * * * \n",
      "2060\n",
      "I'm not sure if Carpenter is looking to raise questions on abortion, and make the really heavy-handed and obvious point that a woman should be allowed an abortion if Satan is the father, but it drags on and on. Ron Perlman is laughable. The baby is really stupid looking, basically a crab with a baby head mounted on it. You can pretty much see the material on the Satan costume. What a mess. This episode has about five minutes of story and 55 minutes of tedium. Very, very bad. And the ending is just ridiculous. After learning his baby is dead, does the devil destroy the abortion clinic and kill everyone in a huge, bloody, gory, uproar? NO! He just puts his head down and sulks out of the room. Terrible.\n",
      "* * * * * * * * * \n",
      "2081\n",
      "\\Gone With The Wind\\\" is one of the most overrated movies in history. It is a film loved by mothers, grandmothers, and shut-ins who go to the movies once every five years. As a zombie movie, it blows. There isn't a shambling corpse in sight, and it's terribly light in the gore department. \\\"Zombie 3\\\", on the other hand, is big on shambling corpses and quite generous with its blood-spilling -- therefore, it is better than \\\"Gone With the Wind\\\". It is also not overrated. Most reviewers are under no delusions that it is rubbish. It is, however, not boring rubbish. After a terrorist steals a virus, he drops it while being pursued by a helicopter, and the chemicals leak into the ground. The terrorist, who has been exposed to the nasty concoction, hides in a hotel room where he slowly morphs into a flesh-eating zombie. One of his first victim's is a cleaning lady. Once she's bitten, Lucio Fulci's brand of hell breaks loose. As usual for a Fulci flick, the acting is atrocious, the storyline is riddled with plot holes, and the gore is plentiful. Turns out the film was directed by Fulci and Bruno Mattei, so that explains its rather schizophrenic nature. It is badly shot, too, poorly edited, and the sound design is flat. Still, it is saved by its gleeful adherence to the goriest of murders and its impatient pacing. Definitely worth picking up if you're an undead completest. Or don't like \\\"Gone With The Wind\\\", undoubtedly the worst zombie movie of all time.\"\n",
      "* * * * * * * * * \n",
      "2295\n",
      "I just saw the third week of Stephen Kings' Nightmares and Dreamscapes mini series; meaning, I saw 6 episodes so far. I have to say that the stories are really weak. I have read Stephen King's Skeleton Crew, a collection of his short stories that was published way back. I recall most of the stories were average to poor but there was one that was really excellent, if not outstanding.<br /><br />What I'm trying to say is that just because this mini series is from a collection of stories from Stephen King does not mean that it will be any good. In fact, if his previous collection of short stories are of any indication, then most of this mini series will be average to poor.<br /><br />In Stephen King's defense, I have not read these new short stories. Perhaps they are good as stories in a book and not readily adaptable to television, or perhaps it was the fault of the scriptwriters in trying to write an interesting script. Who knows. Also, these short stories may have been made exclusively for this mini series and not not for print purpose. Maybe that may have been the problem. If Stephen King had submitted these crap stories to an editor, I am sure the editor would have immediately told him to make it more interesting because as is, it is simply boring.<br /><br />What is clear from all of this is that the problem is with the stories/script and not the actors and actresses because this mini series has some excellent people acting on it.<br /><br />Seeing this mini series really makes me appreciate those old \\Twilight Zone\\\" series. Each series was only half an hour but it was compelling and riveting. I don't understand why this mini series could not accomplish similar feat. I am sure this mini series had a good deal of money to make a good mini series but unfortunately, something must not have clicked.<br /><br />For instance, this week there were two episodes shown. The first involved a horror story writer who buys a picture drawn by an artist who committed suicide. The writer begins to see changes in the picture as he is driving homeward. Feeling uncomfortable, he throws away the painting but it keeps appearing near him. Also, the portrait of an individual in that picture is killing people and is out to kill him. (I will not even mention the second episode for this week involving criminals and their loot because it was even more boring than this episode!)<br /><br />This premise is interesting and so the story should be good but after seeing it, I was frustrated because there were too many gaps in the story as well as extraneous materials that was shown that did nothing to help the story. After the last scene, I was left with more questions than answers.<br /><br />I tried for 3 weeks to get into this mini series but it was just too aggravating due to poor stories/script. If this was a movie, I would have recommended that people should wait for the movie to come out on cable or such. I would not even recommend that it be rented in your video store. However, given that this is on TNT, a cable channel, I would say if you have not seen it already, then try it for one week. If you do not like it that week, then you will not like the past series nor the future ones, since they all share the same boring trait.\"\n",
      "* * * * * * * * * \n",
      "2305\n",
      "The only good thing about this movie was the shot of Goldie Hawn standing in her little french cut bikini panties and struggling to keep a dozen other depraved women from removing her skimpy little cotton top while she giggled and cooed. Ooooof! Her loins rival those of Nina Hartley. This movie came out when I was fourteen and that shot nearly killed me. I'd forgotten about it all tucked away in the naughty Roladex of my mind until seeing it the other day on TV, where they actually blurred her midsection in that scene, good grief, reminding me what a smokin' hottie of a woman Goldie Hawn was in the '80s. Kurt Russell must have had a fun life.\n",
      "* * * * * * * * * \n",
      "2367\n",
      "Hello Mary Lou: Prom Night II starts at the Hamilton High School prom of 1957 where Mary Lou Maloney (Lisa Schrage) is cheating on her date Bill Nordham (Steve Atkinson) with Bud Cooper (Robert Lewis). Bill finds out & is devastated, meanwhile Mary Lou is announced prom queen 1957 & takes to the stage to accept her award. Bill, still hurting, decides to play a practical joke on Mary Lou so he throws a firecracker on stage but the still lit fuse catches Mary Lou's dress setting it & her on fire, within seconds Mary Lou is toast. 30 years later & Hamilton High is soon to hold it's annual prom night. Bill (Micheal Ironside) is now the principal & has a teenage son named Craig (Justin Louis) who is dating Vicki Carpenter (Wendy Lyon) & are both planning on going to the prom together. Bud (Richard Monette) is now a priest, that terrible night 30 years ago still haunt both Bill & Bud. One day Vicki is looking around the schools basement when she discovers a large trunk which she opens, this turns out to be a bad move as the vengeful spirit of Mary Lou is set free & is intent on claiming her crown as prom queen & in her spare time sets out to avenge her untimely death. First up is Jess Browning (Beth Gondek) whose death is put down to a suicide, Mary Lou begins to posses Vicki's body as the night of the prom draws nearer. After disposing of some competition in the shape of Kelly Hennenlotter (Terri Hawkes) who tries to fix the prom so she wins. Mary Lou in Vicki's body is crowned Hamilton High prom queen which allows Mary Lou herself to come back from the dead to make an unexpected appearance & really liven the party up...<br /><br />With absolutely no connection to the original Prom Night (1980) & directed by Bruce Pittman I thought Hello Mary Lou: Prom Night II wasn't a particularly good film. The script by Ron Oliver concentrates more on supernatural elements rather than cheap teen slasher themes, whether this was a good or bad decision will depend on your expectations I suppose. Personally I found these different elements didn't really gel or work that well together at all. The whole film was far to slow to be really enjoyable, after the opening sequence where Mary Lou dies no one else is killed until the half hour mark & then the film plods along for another half an hour until Vicki is finally possessed & the film finally picks up momentum for the climax where an evil Mary Lou kills a whole one person at the prom before she is supposedly defeated, come on horror film fans you did expect that clichéd 'killer not dead & ready for a sequel' ending didn't you? Don't expect a hight body count, just five throughout the entire film & none particularly graphic although I did like the way Monica (Beverley Hendry as Beverly Hendry) tried to hide in a shower room locker which Mary Lou crushed & resulting in poor Monica's blood oozing out. The supernatural side of Hello Mary Lou: Prom Night II is depicted by Vicki having lots of hallucinations for the first hour & Mary Lou controlling objects during the latter stages including a couple of creepy shots of a rocking horse which comes to life, the blackboard scene is quite good as well as it turns into water & zombie hands drag Vicki into it. The slasher side of Hello Mary Lou: Prom Night II isn't outstanding, I did like Mary Lou herself as she churns out the obligatory one-liners & she made for a good villain even if she didn't get to kill enough people. Oh, & yes I did get the running homages to various other horror film director's with almost all of the character's sharing last names with one, this obviously adds nothing to the film but is a nice little touch I suppose. The acting is OK but the normally dependable Micheal Ironside looks lost & uninterested almost as if he's asking himself what he's doing in this & if he'll ever work again. Forget about any gore, someone is hanged, there is a stabbing with a crucifix that happens off screen, someone is impaled with a neon light, a computer goes crazy & electrocutes someones face(!?) & Mary Lou bursts out of Vicki's body at first as a rotting zombie which was quite a cool scene. There are some full frontal nudity shots in the girls shower as well, if that's your thing. To give it some credit Hello Mary Lou: Prom Night II is OK to watch, has reasonable production values throughout & is generally well made. Overall I was disappointed by Hello Mary Lou: Prom Night II, it was just too slow & ultimately uneventful to maintain my interest for nearly 100 minutes. I'm not sure whether it deserves a 3 or 4 star rating, I'll give it a 4 as there's nothing specifically wrong with it I suppose & I've sat through much worse films but it just didn't really do anything for me I'm afraid.\n",
      "* * * * * * * * * \n",
      "2420\n",
      "I saw Crispin Glover's \\What Is It?\\\" at the Ann Arbor film festival. Admittedly, the film was at least aptly named, because I got the distinct sense that even the writer/director could provide no answer. At the question and answer session after the screening, Mr. Glover said that the film was originally meant to be a short film to show the virtue of using actors with down-syndrome. However, this is in itself not enough of a reason to create a film. Actors are, in my opinion, building blocks for a larger vision - a larger vision that seemed muddled at best and absent at worst.<br /><br />Crispin Glover also said that he wanted to address taboo subjects. Well, he does do that. But why? The film seems to have no stance, no reason for addressing anything. Does he feel these things shouldn't be taboo? The film doesn't even give me an indicator of that. Taboo for the sake of taboo is not interesting. It can't even afford to make the taboo disturbing or inciting on any level because he hasn't made the audience care in any way. <br /><br />Ignoring problems with the concept for a moment, the thing that actually shocked me most was how poorly the film was put together. The editing, cinematography, and other technical aspects seemed frequently to be extremely amateur. Glover said 125-150 thousand dollars went into the movie, and I feel that the money should have been spent on different designers (Glover actually did some design himself - I know I saw at least sound design in the credits). The painted sets are okay (not great), but used poorly. Parts feel like a photographed stage play - which would be fine if that went to any sort of purpose, but in Glover's hands it just feels sloppy. Other parts are filmed like a sort of Home Movie, of inferior quality to a lot of the stuff I see first-time filmmakers do on iMovie.<br /><br />Perhaps the biggest problem with \\\"What Is It?\\\" is I can't even understand how seriously the film is to be taken. There are some parts that feel like Glover is screaming at you to think seriously. At other points, he seems off on his own little joke. Perhaps he meant for this to be ironic, or meaningful in some way, but I just felt that Glover couldn't even get himself to give his film any sort of serious attention.<br /><br />Glover said he originally wanted it to be a short film. If only it had been. At seventy-two minutes, the film runs out of imagery and ideas in the first twenty, and it is arguable if the ideas were formulated enough to claim that they were even there for that period of time.\"\n",
      "* * * * * * * * * \n",
      "2421\n",
      "As a huge fan of horror films, especially J-horror and also gore i thought Nekeddo burâddo sounded pretty good. I researched the plot, read reviews, and even looked at some photos to make sure it seemed like a good gory and scary movie to watch before downloading it. So excited it had finished and ready to be scared and recoiling in horror at the amazing gore i was expecting i was terribly disappointed. The plot was ridiculous and didn't even make sense and left too much unexplained, the gore was hilarious rather then horrifying, and what was with the cartoon style sound effects ? The acting was probably the only thing mildly scary about it. I did not understand the cactus idea and the way the mothers husband disappeared in the middle of the sea after following a flashing light, they left both pretty unexplained, or perhaps i missed it as my mind couldn't understand what i was actually seeing. I appreciate the way it was supposed to be; shocking and a few scenes (the strange cannibalism and own mother kissing?)certainly were, i just think they went a little bit far and not even in a horrifying way, they made it to unconvincing which made it more believable to be a comedy rather than a horror in my opinion. However it is a very entertaining film and got a lot of laughs out of me and a couple of friends, but sadly we were expecting horror not comedy so its worth a watch for the entertainment value, but don't be expecting a dark, deeply scary and horrifying film; you'll just be disappointed. If this was a horror comedy/spoof i'd probably rate it about a nine, the climax being the weird scene when the husband climbed inside his wife's stomach and closed up her wounds, but as a horror sadly i gave it a one.\n",
      "* * * * * * * * * \n",
      "2474\n",
      "Truly one of the most dire films I've ever sat through. I've never actually taken the time to write one of these but felt compelled to after witnessing this affront to film-making and feel somewhat aggrieved to be wasting my time on such a piece of turd to be honest. There were so many parts that infuriated me with their complete randomness and lack of sense (e.g. when would the police force ever shoot people with infectious diseases? When would hospitals ever through out such people for lack of a cure? Why was the guy who spotted him spying on his wife wandering around outside in his dressing gown whilst carrying a gun as she rolled around on the bed?). Also, the characterisation - as we've almost come to expect in such films - was awful (e.g. the way the blonde guy - I don't remember his frickin name and don't give a toss anyway - completely turned against his girlfriend and ran off to leave her) and I ended up wanting them all to meet grisly ends! The production was horribly disjointed and the cinematography nothing to write home about.\n",
      "* * * * * * * * * \n",
      "2505\n",
      "This movie was messed up. A sequel to \\John Carpenter's Vampires\\\", this didn't add up right. I'm not sure that I enjoyed this much. It was a little strange. Stick to the first \\\"Vampires\\\", it's a good movie. \\\"Vampires: Los Muetos\\\" wasn't a good attempt of a sequel.<br /><br />4/10\"\n",
      "* * * * * * * * * \n",
      "2516\n",
      "Spirit of a murdered high school geek animates a scarecrow which then takes revenge on everyone.<br /><br />This movie really annoyed me. It has a great looking monster, has some good low budget effects, some atmosphere but manages to short circuit the good stuff with bad. Half way in I started to fast forward and then step through the chapters on the DVD.<br /><br />The problems with this movie are many. First off the cast looks about thirty and yet they are suppose to be in high school. You don't believe anything from the get go as a result. The scarecrow, while looking great isn't much beyond that. He says stupid one liners and moves in a manner more designed to be funny then scary. Is this a comedy or a horror movie? Its a problem that goes beyond the one liners to much of the dialog and set up. It seems more send up of every cliché than heartfelt horror film. I some how expect that the film was made for a very narrow audience in mind, horror fans who want to mock the genre rather than embrace it.<br /><br />Despite the good looking monster this is a film to avoid. Even if you pick it up in the bargain bin for under five bucks, you're paying too much.<br /><br />Avoid.\n",
      "* * * * * * * * * \n",
      "2564\n",
      "*MANY MANY SPOILERS IN THIS REVIEW* This movie was horrible. I am a huge baseball fan so I thought I'd watch it, and I was very disappointed. It started out okay.. When I saw the bad influence DeNiro had on his young son, I was hoping that he would become a better father throughout the movie or something. Anyways, at the beginning it seemed as if DeNiro was supposed to be the protagonist. He was the only one that believed in Bobby, and he had his adorable son that he was losing custody of, which gave me a reason to feel bad for him. He wanted to help Bobby by talking to Primo, when out of absolutely nowhere he brutally stabs Primo to death... Not to mention that sketchy reoccurring song \\I WANT TO **** YOU!!!!\\\" at random unfitting moments.<br /><br />Later, when DeNiro saves Bobby's son from drowning, I was hoping that the movie could redeem itself.. He could forgive himself for killing Primo if he saved Bobby's son. But of course this is far beyond the depth of the movie, because all he cares about is getting CREDIT for the murder, and does so by stealing Bobby's son, car, and dog and holding them hostage- Bobby just has to hit a home run and announce that DeNiro is a \\\"true fan\\\" while displaying a picture of him biting a knife.<br /><br />Now we get to the completely unrealistic scene at the end... It is pouring like hell and we are expected to believe that the game hasn't been called. Then DeNiro somehow magically appears on the field in an umpire suit and calls Bobby out at home, proceeding to pull out his knife and start stabbing everyone that runs onto the field. There are seemingly no officers on the field (but the police are on their way), so DeNiro steps on the mound and prepares to pitch a knife to Bobby when he gets shot to death. But don't worry, this cheerful and pleasant movie has a happy ending, because Bobby find his son.<br /><br />This is NOT a sports movie. It is NOT about a fan. As far as I know, fans are not rabid psychopaths that threaten, rob, and throw knives at their admirees. This is likely to be the sickest movie I will ever see in my life. The plot was shallow, the soundtrack sucked, the movie had no purpose whatsoever. I warn you not to waste your time on this disgusting excuse for a film.\"\n",
      "* * * * * * * * * \n",
      "2588\n",
      "Well...i was going to wait till this came out on video to see it, and i wish i had, I actually caught scary movie 2 on cable the other day, and it made me yearn for more of the same, what i got was AIRPLANE on CRACK... i mean if you like Airplane or any other Leslie nielsen vehicles, then you'll probably be in heaven, but if your used to the usually WAYANS COMEDY, then you will be dissapointed, there was alot more Eye candy in this one which will keep young hormone raged teenage boys happy, which is probably why it was a box office hit the first week it came out. I enjoyed scary movie 2 ten times more then this fodder, and part one 5 times as much. Odd that the better of the 3 is part 2, but then again i always liked Halloween 2 better then the original as well..maybe its just me. The funniest part of the movie has to be the way the Aliens Say Goodbye. But that wasnt worth the 11 dollars i spent to catch a matinee of this with my fiance. Save yourself cash and catch part 2 again on cable till this is released on Video tape, and then Rent it, dont buy it.\n",
      "* * * * * * * * * \n",
      "2794\n",
      "Two sisters, their perverted brother, and their cousin have car trouble. They then happen about the home of Dr. Hackenstein whom conveniently needs the body parts of three nubile young women to use in an experiment to bring his deceased lover back to life. He tells them that he'll help them get home in the morning, so they spend the night. Then the good doctor gets down to work in this low-budget horror-comedy.<br /><br />I found this to be mildly amusing, nothing at all to actually go out of your way for (I stumbled across it on Netflix instant view & streamed it to the xbox 360), but better then I expected it to be for a Troma acquired film. Most of the humor doesn't work, but their are still some parts that caused me to smile. Plus the late, great Anne Ramsey has a small part and she was always a treat to watch.<br /><br />Eye Candy: Bambi Darro & Sylvia Lee Baker got topless <br /><br />My Grade: D+\n",
      "* * * * * * * * * \n",
      "2806\n",
      "A Christmas Story Is A Holiday Classic And My Favorite Movie. So Naturally, I Was Elated When This Movie Came Out In 1994. I Saw It Opening Day and Was Prepared To Enjoy Myself. I Came Away Revolted And Digusted. The Anticipation that Rang True In A Christmas Story Is Curiously Missing from This mess. A Red Ryder BB Gun Is Better to get than a chinese top.And It Is Not Very Funny At all. Charles Grodin Is Good but the Buck Stops There. Bottom Line:1 Star. Don't Even Bother.\n",
      "* * * * * * * * * \n",
      "3297\n",
      "You believe in God or you don't. You believe in Jesus or you don't. You believe He is the Son of God or you don't. The choice is up to you.<br /><br />Director Denys Arcand has really done everything he could to bring back Jesus to a mere historic figure, social worker, son of two humans, instead of the Son of God the Holy Spirit and Mary, Who opened Heaven again for us. Encouraging the Big Bang, a world come from evolution, instead of seeing the beauty of creation. The film depicts a theologian bringing some \\modern findings\\\" to the actor who plays Jesus in the Passion Play, who happily incorporates them in his play.<br /><br />The depicted priest who runs the sanctuary where the Passion Play is performed in Montreal has a sexual relation with one of the female players of the Passion Play instead of showing his love for God through celibacy. More often than not the director's abhorrence of the Church is clearly visible.<br /><br />The director has tried to make a parallel between Jesus' life and the Passion Play actor's life. This is an admirable attempt, but depicting the Resurrection with the transplantation of the Passion Play actor's organs in other bodies signifies how the director thinks about Jesus.<br /><br />My opinion is not important, God's opinion is, but I wouldn't want to stand in the shoes of the director and actors when standing before Jesus' throne.\"\n",
      "* * * * * * * * * \n",
      "3335\n",
      "Too bad Chuck Norris has gone to TV. He made some good movies before he hit TV. This is a typical TV movie intended to pass the time. Unfortunately it wastes Chuck's talent as an actor. I hope he returns to the big screen some day.\n",
      "* * * * * * * * * \n",
      "3486\n",
      "I saw this film when it was first released. The memory of how bad it was has stayed with me almost forty years. I didn't want to trust my own sentiments about the movie when I saw it, so I consulted a movie review published in a major metropolitan newspaper the next day- sentiment confirmed, the reviewer wrote that the movie was incoherent, indecipherable, and uninspiring. A little research reveals that the producer was star Leslie Caron's husband, thus the whiff of nepotism suggests the beginning for this awful film. The film's roster of many capable actors - Caron, Warren Oates, Scatman Crothers, Gloria Grahame, and James Sikking among others - suggests that it holds some promise. But the death of this film is attributable to its terrible screenplay. The \\mystery\\\" implicated is so obscure and so little revealed throughout the film that the viewer is left perplexed from scene to scene. The movie seems torn between being a detective mystery and an espionage thriller, but never settles upon one or the other. The sense of suspense is entirely absent. The main characters settle on playing dry, emotionless types in a fashion that inspires no empathy whatsoever. The cinematography is pedestrian. The result is that the hapless viewer loses interest in the characters, the plot, and, in the end, the film itself. I am little surprised that there is no version of this pathetic film available to purchase. I hope that if TCM finds a print of this film and feels compelled to air it that it is safely relegated to the 4:00 am slot.\"\n",
      "* * * * * * * * * \n",
      "3516\n",
      "It's curious that the two stars of Meet The People were a pair of movie stars who went into the new medium of television and became even bigger successes and who both went into the production end of things and enjoyed tycoon status on the small screen. Lucille Ball however was not a major star, that would come with television. As for Dick Powell he desperately wanted to get out of doing films like Meet The People and his career salvation would be coming in his next film.<br /><br />I think the only reason that Dick Powell did the film was because a young player from MGM was cast in a specialty number and he was seeing her at the time. His private time with June Allyson was far better than what we see on the screen. Powell looks crashingly bored and can't summon up any kind of emotion at all.<br /><br />He was probably tired of doing these musicals with silly plots, the kind he ran from Warner Brothers from. The original show Meet The People was not a book show, it was a revue and it ran in the 1940-41 season on Broadway for 160 performances. When MGM bought it, they scrapped everything but the title and the title song. The rest of the score was patched together from various and sundry songwriters, none of the songs is memorable. Odd when you consider some of the source material is from Burton Lane, E.Y. Harburg, Harold Arlen, and Rodgers&Hart. These guys just must have emptied the trunk for material.<br /><br />The plot is sillier than even most of the musical propaganda pieces of the time. Powell is the writer of a revue called Meet The People and he's a shipyard worker who wins a lottery date with movie star Lucille Ball. She's interested, he's interested, they're both interested in the revue, but creative differences keep them apart of course until the finale. That's the film in a nutshell.<br /><br />MGM did give Powell and Ball some good musical acts which are the main reason for watching Meet The People. The big bands of Vaughn Monroe and Spike Jones are here and the highlight of the film for me is Bert Lahr dressed in a commodore's suit like Lou Costello had in the dream sequence in In The Navy. The song Heave Ho is written by Arlen and Harburg who wrote for Lahr, the Courage number from The Wizard Of Oz. And as just about everyone in the world has seen that film, you have an idea of Heave Ho is like.<br /><br />Dick Powell's next film was Murder My Sweet in which he finally bid a not so fond adieu to musicals. And Lucy would have to wait for television before the world got to see what she really could do.\n",
      "* * * * * * * * * \n",
      "3642\n",
      "Ira Levin's Broadway smash comes to the screen with hardly any meat on its bones, a mystery plot with just a few tricks and twists but nobody worth caring about. Frustrated writer Michael Caine plots to steal the work of a brilliant young man and pass it off as his own; his devious plan may include murdering the talented kid, which has Caine's flighty spouse up in arms. The first act in which everyone is introduced is excruciatingly dead, with Caine doing everything an actor can to keep the pacing up. Dyan Cannon is miscast as his wife (she's too smart and clever herself to be passed off as a ditz) and Christopher Reeve (in the middle portion of the film) seems extremely uncomfortable in the role of the better writer. These three characters, and Irene Worth's bothersome neighbor, are so undefined that what happens after the set-up barely even registers until well after the second act has begun. Sidney Lumet's direction is stagy and fuzzy, the set design unconvincing and poorly-lit, and the finale is a total disaster. The actors struggle to give the script some substance, but with such thin material all we see are their laborious efforts. *1/2 from ****\n",
      "* * * * * * * * * \n",
      "3719\n",
      "The only scary thing about this movie is the thought that whoever made it might make a sequel.<br /><br />From start to finish \\The Tooth Fairy\\\" was just downright terrible. It seemed like a badly-acted children's movie which got confused, with a \\\"Wizard of Oz\\\" witch melting and happy kiddies ending combined with some bad gore effects and swearing.<br /><br />Half of the cast seem completely unnecessary except for conveniently being there to get murdered in some fashion. The sister of the two brothers, Cherise the aura reader and Mrs. McDonald have entirely no point in the film - they could have included them in the main plot for some interesting side stories but apparently couldn't be bothered. The people watching the film know the characters are there for some bloody death scene but come on, at least TRY and have a slight plot for them. The story in general is weak with erratic behavior from the characters that makes you wish they all get eaten by the witch.<br /><br />Add the weak plot and the weak acting together (the children are particularly wooden) and the movie ends up a complete failure. If only MST3K could have had a go at this one ...\"\n",
      "* * * * * * * * * \n",
      "3804\n",
      "A question for you : A family go to a new house and get stalked by demonic forces . Which film am I talking about ? Every horror film you`ve seen ? Yes that`s true but that`s not the answer I`m looking for . I`ll narrow it down by saying there`s a lot of teen angst scenes . Doesn`t help ? Well there`s lots of bits where the characters are stalked by a creature and you see the characters through the creature`s POV . No futher forward ? Okay there`s a dream sequence involving lots of blood ? Could still be any horror film you say . Oh gawd this could take weeks so I`ll say the film I`m talking about features loads of Aussies many of whom have appeared in NEIGHBOURS and HOME AND AWAY . Yes that`s right the film is THE THIRD CIRCLE ( aka CUBBYHOUSE ) and do you understand what the above exercise is about ? It`s about me pointing out how THE THIRD CIRCLE is absolutely no different from any horror film that`s been made\n",
      "* * * * * * * * * \n",
      "3806\n",
      "Recherche is a good word to describe this movie.<br /><br />Let's say every movie has a selling point, a gimmick. Transformers' gimmick is the awesome effects as well as fan boys nostalgia. Sleepless in Seattle's gimmick is situational in their tag-line, \\What if someone you never met, someone you never saw, someone you never knew was the only someone for you?\\\" Many romance relies heavily on these gimmicks and some through draw of big names. Leap Years employs both by using the Irish folklore as the circumstance and featuring considerably famous names within the country.<br /><br />So now that the audience are in the cinema, besides all the usual elements in characters, conflict or consequences, crisis, resolve and denouement, they also look forward to stimulating dialog, more absorbing situations as a result of the leap years, interesting sub-plots and perhaps, to a certain extent, a good twist in the middle or towards the end of the story that favors the circumstances of the characters.<br /><br />This is what Jean Yeo is trying not to achieve. If they've tried to, their goal was apparently in the other court, at the other stadium, on the other end of the planet. She and her writer, Alain Layrac, utterly failed to provide stimulating dialog. Most of the lines were contrived. It seems that they have a bag filled with lines which she would like to use in her movie: \\\"Okay, these are the lines and quotes which I've heard or read from either movies I've seen or books I've read before and they all sound good to me. If they sound good to me, they will sound good to the audience. Therefore, all i have to do is piece them all together. I am going to use all of them.\\\" The result is cathartic. I can't say that the lines were unnecessary and bears no relation to the story or in driving the plot on, but they seem to spring out of nowhere, catching you off guard with these quotable quotes.<br /><br />On a personal level, i know people who cite quotes based on most of the situations in our dialog, trying to make it meaningful to themselves while nodding along. I don't go out with them anymore because the urge to punch them is overwhelming.<br /><br />Secondly, the characters portrayed are silly and one-dimensional. With exception to the unnatural dialog which implies their motivation (necessary to drive the plot), there was no sense of conviction in them. I haven't an idea who they are. They are all simpletons spouting lines from the advice column of a female-oriented magazine.<br /><br />The gimmick in the leap years is not enough to drive the story on because the circumstances are too shallow. Then again, there are movies with less but fared better than this, aren't there. They made it up with my first and second point. Moreover, the sub-plots are inconsequential (not that it's a bad thing for movies) and thin (bad thing).<br /><br />Jean Yeo and the producers are trying to pass off the terrible plot with fancy locations and passable photography. This is because they probably understand that it is possible and easier to attain the approval from some viewers than the others with the good use of cinematography, soundtrack and filming location. These non-discerning viewers.<br /><br />It is not even the kind of movie that is so bad that it's good. It is just bad. Don't watch this.\"\n",
      "* * * * * * * * * \n",
      "3849\n",
      "I saw this movie years ago in a group tradition of Fast Forward Film Festivals, where we would set out to rent a bunch of B-movies and vote for who picked the worst.<br /><br />The night we watched this, it was voted the best, due to semblance of plot and fun costuming.<br /><br />This is certainly a silly, kitschy, movie, to be watched under the full understanding that you are watching low-budget fluff. Personally, however, I wouldn't recommend additional substances ... this movie will leave it's own mark on you.<br /><br />It made enough of an impression on me that I've actually been trying to get my hands on a copy for a few years.<br /><br />A good choice if you are setting out to watch bad movies. This one is fun, and I remember bouncy music ...\n",
      "* * * * * * * * * \n"
     ]
    },
    {
     "name": "stdout",
     "output_type": "stream",
     "text": [
      "3874\n",
      "I watched this movie last week sometime and had the biggest laugh i've had in a long while. The plot of the film is pretty dumb and convoluted in a badly crafted way. The only plus to be found anywhere in the film are Corey Savier's impressive abs. Alexandra Paul (i think that's her name) is horrendous as the preacher's wife who has a history of depression. Ted McKenzie is gross and his character's a twit on top of it all. And as if the fact that you think she's having sex with her son isn't enough, they throw in needless sax solos at every opportunity! The end and climax of this film is absolutely abysmal and also laughable. I mean who the hell wants to carry the child of a con who tried to make you think he was your son and that you were having an incestuous relationship with him!\n",
      "* * * * * * * * * \n",
      "3960\n",
      "Near the beginning of \\The Godfather: Part III,\\\" Michael Corleone's son wants to drop out of law school and become a musician. Michael Corleone does not want this. But his estranged ex-wife, Kay, manages to convince him to let Anthony Corleone pursue music as he wishes. So he does.<br /><br />That seems like an odd way to start a review, as it is a minor plot point and has nothing really to do with the major action. Just bear with me here; you'll see where I'm going with this eventually. Now let me tell you about the major plot. It is about Michael Corleone wanting to quit crime for good (he has largely abandoned all criminal elements in his family business). But then along comes Vincent Mancini, an illegitimate nephew, who is involved in a feud. So of course Michael must endure yet another brush with criminality and gun violence and all that good gangster stuff. Meanwhile, Vincent has a semi-incestuous affair with Michael's daughter Mary. Oh, and Michael and Kay are trying to patch up all the horrid things that happened at the end of Part II.<br /><br />It is like a soap opera. One horrid, awful, 169-minute soap opera. Gone is any sort of the sophistication, romance, and emotional relevance that made the first two movies hit home so hard. After a 16-year break in the franchise, Francis Ford Coppola delivered a mess of sop and pretentiousness entirely incongruous with the first two films, once again proving his last great work was \\\"Apocalypse Now\\\" back in the 1970's.<br /><br />What's worse, \\\"The Godfather: Part III\\\" isn't even a logical follow-up of \\\"The Godfather: Part II.\\\" Michael is a completely different person. He hasn't just gone to seed (which might be legitimate, even if it'd be no fun to watch). He's become a goody-goody that's trying to fix all the tragedy that made Part II such a devastating masterpiece. His confession to the priest was bad enough, but that little diabetes attack in the middle pushed it over to nauseating. He also gets back together with Kay! For heaven's sakes, there is absolutely no way that should happen, as the 2nd movie made abundantly clear! She aborted his baby, and his Sicilian upbringing made him despise her for it. Didn't Francis Ford Coppola even think of these things?<br /><br />And don't even get me started on Mary and Vincent's affair! For a romance so forbidden, it was shockingly unengaging. Sofia Coppola's acting did nothing to help. She made the smartest move of her life when she switched from in front of the camera to behind it, because she was possibly THE worst actress I have ever seen in a Best Picture nominee. Every line she delivered was painfully memorized, and every time the drama rested on her acting abilities, all she elicited was inappropriate giggles. In the climactic scene--I won't go into detail, but you'll know which scene I'm talking about when/if you watch it--she looks at Michael and says, \\\"......Daddy?\\\" I think I was meant to cry, but the line was delivered so poorly I burst out into long, loud laughter!<br /><br />Now we get to the climax, and now you will also realize why I took time to start the review with a description of Anthony Corleone's musical ambitions. After 140 minutes of petty drama and irrelevant happenstances, Anthony Corleone returns... with an opera! So Michael, Kay, Mary, and Vincent go to see it, and for about 10-15 minutes a couple killers walk around trying to assassinate Michael. About this climactic sequence, I must say one thing: It was really good! But not because of the killers--they were pretty boring. I just really liked the opera. It had some great music and real great set pieces. And, from what little it showed us, it seemed that the story had echoes of the Corleone family's origin. I'll bet it was one swell opera, and I'll bet Michael Corleone was glad he let his son switch from law school to music.<br /><br />My biggest wish is this: that Francis Ford Coppola had merely filmed Anthony Corleone's opera for 169 minutes and ditched the rest of the soggy melodrama. Better yet, I wish he hadn't made \\\"The Godfather: Part III\\\" at all. Part II gave us the perfect ending. This spin off was self-indulgent and unnecessary.<br /><br />P.S. This is not a gut reaction to the film. I watched all 3 Godfather films over a month ago (though I was rewatching the first one). Not only does this mean that my expectations for Part III weren't screwed (in fact, I had set the bar rather low for it after what I heard), but it also means I've had a good time to think about all three films. While I was a bit disappointed with Part II at first, the more I thought about it, the better it seemed. But with Part III, it was bad to begin with, then got worse the more I thought about it. The sad thing is that many people will stop with Part I, but if they watch Part II as well, they will most likely go on to Part III. If you have the will, watch Parts I & II and pretend like Part III never existed.\"\n",
      "* * * * * * * * * \n",
      "3965\n",
      "Have you ever sat watching a movie when 20 or 30 minutes have gone by and suddenly you realize that you have actually seen the movie before? That happened to me with \\The Young Graduates\\\". The cover of the video box, if you can find the video, is extremely deceiving. I'd swear that the two women on the cover aren't even in the film.<br /><br />Anyway, I was either born a decade too late to appreciate the finer points of this film or...it is simply pointless junk. I'm heavily leaning toward the latter but I guess some out there have developed a connection to this movie.<br /><br />Hmm...plot. A plot. Let's see...there must be a plot around here somewhere. Nope, I can't find it. It's pretty much about some high school seniors acting dopey and doing drugs and speaking in a language that became outdated decades ago. One of the female students has a crush on her teacher. The teacher has a frigid wife (whom he indeed refers to as an iceberg) so he is receptive to the girl's advances.<br /><br />There's a lot of driving around and inane dialogue and plenty of spastic dancing. Our cat, BooBoo, was transfixed by the dancing high school kids. She watched with amazing intensity as the dancers gyrated and shook out on the dance floor. It's nice to see that at least one species has found something interesting in this relic. 1/10\"\n",
      "* * * * * * * * * \n",
      "4227\n",
      "This movie was amusing at times, hell sometimes it was even downright funny.<br /><br />The underlying message I got from the film though, was that women are responsible for all of the troubles of man. Every time a woman is depicted in the film, she is being lazy, being slutty or lambasting some poor guy for no apparent reason. I don't think the message involved is good for women or gay men.<br /><br />But, it is a comedy, and a piece of art, so it is simply someones point of view. Even if I don't agree with it, they are still entitled to it.<br /><br />An amusing film, but some of the comments others have made are just plain stupid. Best film ever my foot.\n",
      "* * * * * * * * * \n",
      "4325\n",
      "I am very surprised by the positive comments because there were four of us that saw this at one screening and we all walked out. We personally felt that it was painfully slow to watch and couldn't sit through the whole movie. And we really tried to stick with it. In particular, those in the group who really wanted to like it because of their personal experiences with sexual orientation alienation in the school years depicted didn't like or identify with it at all. :(<br /><br />That said, it is great to see that this film really resonated with a lot of people here on the boards and with reviewers. That's the beauty of the subjective art form of film. :)\n",
      "* * * * * * * * * \n",
      "4632\n",
      "First of all, let me say the I am LDS or rather, I am a Mormon. So when I watched this film, I automatically gave it the benefit of the doubt. I can usually find something redeeming in every movie I watch. And this one was no exception. It does have its redeeming moments. But they are few and far between.<br /><br />One of the first things I noticed that bothered me very greatly was that it seemed as though Halestorm was ashamed of our Church! In the LDS Church, congregations are called \\wards\\\" and the basketball court is in the \\\"cultural hall\\\". NEVER ONCE are either of these two names mentioned. The Church is never referred to by name and \\\"the standards\\\" is as far as it goes in mentioning what our Church believes.<br /><br />It makes me wonder if the directors are really LDS or LDS wannabes? This film had so much potential! It could have really shown our Church in a positive light and helped the public to see not only what we have to offer, but also what we believe. Instead it was only mildly entertaining and left much to be desired. If I were not already LDS, I'd be left thinking Mormons are stupid, idiotic and ashamed of their beliefs.<br /><br />It is NOT a film I will recommend to my nonLDS friends.<br /><br />Sorry Halestorm. You can do better than this!\"\n",
      "* * * * * * * * * \n"
     ]
    },
    {
     "name": "stdout",
     "output_type": "stream",
     "text": [
      "4990\n",
      "Normally I dont have a problem with gratuitous swearing in films, but this one really annoyed me. All they did was swear. For the whole film. (And, as someone else noted, get cancer) It was boring, rambling and pretentious. I wouldnt If I were you. <br /><br />Its also not that I dont like films which, as most people who like it will claim 'observe life'. I love Eat Drink Man Woman, and all that happens in that is that a load of Taiwanese people lead their lives. But I could relate to them. I have never met anyone who swore as much as the 'actors' in this film, and I used to work on a construction site. So go figure. Having said that William H. Macy made me grin. Once. <br /><br />2/10. Avoid, unless you enjoy tedium.\n",
      "* * * * * * * * * \n",
      "5063\n",
      "I just saw this Movie on a local TV Station (TV8's \\Big Chuck and Little John\\\" in Cleveland, Ohio) I had never heard of this movie and decided to watch it.<br /><br />I know of no thesaurus that can even come close to aiding me in describing how bad this movie really is. The script is awful. The acting, well other than one of two exceptions, is pointless since there is nothing in this material that merits any real effort.<br /><br />It looks like a bunch of little ideas, leftover from various writing sessions, that where thrown into a blender. It's not just funny. The \\\"parody\\\" aspect is strained at best. Some references where almost out of date (even for the time of it's release). No wonder I had never heard of it, it's really bad, worse than anything Saturday Night Live, MAD TV or even In Living color put out in their worst days.<br /><br />If you see it on TV, it is a great example of how NOT to make a movie. Whatever you do DON'T WASTE A CENT.<br /><br />Adam\"\n",
      "* * * * * * * * * \n",
      "5135\n",
      "Just like everybody else have said, the acting is awful, no story or whatsoever, poor directing. About the SFX, the 360 degree, matrix style shooting, 1 shoot is stupid enough, but for each characters. I mean come on gimme a break. And what's up with all those video game scenes, just to remind us it's a \\video game adaptation\\\"? Jesus, they should have fired whoever think up this idea.<br /><br />0.00001/10\"\n",
      "* * * * * * * * * \n",
      "5229\n",
      "This was a complete disappointment. The acting isn't bad, but the production was just so bad that at times I felt I needed to stop it, but I sadly made it through and was able to finish it a bit embarrassed by the whole poor movie. It is o.k. if you are o.k. with cheesy moral plots and don't mind watching a movie that vastly misconstrues Whitman. If you want a cheesy fictional story go for it.\n",
      "* * * * * * * * * \n",
      "5231\n",
      "A half-hearted attempt to bring Elvis Presley into the modern day, but despite a sexy little shower scene and a pseudo-Playboy magazine subplot, Presley is surrounded by the same old coy, winking clichés. A woman picks E.P. up on the beach and then proceeds to take over his life--and he doesn't seem to care! Dick Sargent is grueling in another sidebar, but Don Porter and Rudy Vallee (!) try hard as Elvis' two bosses (he's moonlighting, you see). Some of the songs are quite good, especially \\Almost in Love\\\", but if you want to see a looser, hipper, updated Elvis sex-comedy--look elsewhere. When Elvis and his Fatal Attraction get into bed together, there's actually a wooden board in between them! Get real. ** from ****\"\n",
      "* * * * * * * * * \n",
      "5422\n",
      "I could not believe how awful this film was; I rarely watch commercial TV, but thought \\Well, Diane Keaton is always worth watching\\\". I stand corrected. Everyone involved should be hanging their heads in shame.<br /><br />I realize there are not a lot of great roles for women of a certain age, but the script to this was so inept, clichéd and baffling that I am surprised it ever got into development or that Ms. Keaton thought she could make a silk purse out of this sow's ear. None of the characters had a shred of believability and were so incredibly unlikeable. The acting looked like exercises in a BEGINNING class - I stared in open-mouthed horror through most of this wondering \\\"What were they thinking?\\\". Very, very sad that it has come to this. Don't waste your time.\"\n",
      "* * * * * * * * * \n",
      "5429\n",
      "\\National Lampoon Goes to the Movies\\\" is the worst movie ever made, surpassing even the witless \\\"Plan 9 from Outer Space.\\\" At least that movie was just inept; the Lampoon film, on the other hand, is both inept and mean. Once upon a time, movies used to respect their audiences' intelligence. This one, however, holds a fetid, rotting carcass up to our faces -- and then tries to rub our noses in it.<br /><br />Another reviewer on this site wrote that the only good parts of the movie are the nude scenes; and I agree, Misses Ganzel and Dusenberry do flash a bit of flesh, and very nice flesh it is. But the directors seem not to realize that even T&A needs a good story to surround it. There's none of that here.<br /><br />Perversely, the film makers save the worst for last. The third of the three segments is the ugliest of the trio. In this vignette, Robby Benson plays an eager-beaver young police officer reporting for duty on his first day on the job. He is paired with a weary, cynical oldtimer played by Richard Widmark. For just a moment, we are given hope that this film will end triumphantly. Surely, we think, the youngster's spunky attitude will rub off on the cynic and change him for the better.<br /><br />Forlorn hope! Instead, the cynic wins the day -- and the youngster's spark is doused forever. \\\"National Lampoon Goes to the Movies\\\" and heads right for the toilet, asking us to follow it down the drain. Nominally, this is a comedy. But where's the humor?\"\n",
      "* * * * * * * * * \n",
      "5450\n",
      "THE DECOY is one of those independent productions, made by obvious newcomers, but it doesn't have all the usual flaws that sink most such films. It has a definite story, it has adequate acting, the photography is very good, the hero and the bad guy are both formidable men, and the background music isn't overdone. This is a DVD New Release, so people will be looking here to see if it's worthwhile. I don't know where all the 10's come from, as there's no way this film is that good --- even if you're the filmmaker's mother. <br /><br />The last film we saw at a theater was Warner's trashing of J K Rawlings much-loved and excellent book, Order of the Phoenix. In comparing THE DECOY with PHOENIX, consider that PHOENIX (as made by Warners) had no story, certainly no acting was allowed by the director, the photography was dreadful, and the wall-of-sound overbearing musical score was just a mess. I rated Phoenix a \\1\\\" because the scale doesn't go any lower. THE DECOY is 4 times better -- in all regards.<br /><br />If you have the opportunity, give THE DECOY a chance. Remember, this isn't \\\"Decoy 3 -- the Shootout\\\" or any such nonsense. It's original. If your expectations aren't overblown by the foolish \\\"10\\\" scores here, you might just enjoy the film on its own terms.\"\n",
      "* * * * * * * * * \n",
      "5803\n",
      "Before writing this review, I went back and reread the reviews of others. This movie was a particular disappointment to me, since it features two of my favorite dancers, Gene Kelly and George Chakiris, boasts a score by the often wonderous Michel LeGrand (\\Wuthering Heights,\\\" \\\"Ice Station Zebra,\\\" \\\"The Thomas Crowne Affair\\\"). The dancing was stilted, unmotivated and unoriginal, the songs forgettable, the story a joke. Even the costuming was not particularly flattering. Only the photography correctly captured the proper mood and spirit. I'm glad other people enjoyed \\\"The Young Girls of Rochefort,\\\" though I most certainly did not.\"\n",
      "* * * * * * * * * \n",
      "5968\n",
      "A mediocre Sci-Fi Channel original picture. A little squirmish, but not much. The nuclear powered submarine U.S.S. Jimmy Carter is on a mission deep below thick frigid ice near the North Pole when it is attacked by giant super charged electric eels. A member of the crew (Simmone Jade Mackinnon)thinks she has devised a way to communicate with the monsters, but is not given much chance for vague reasons. Also among the crew are:David Keith, Mark Sheppard and Sean Whalen. This movie could have been somewhat better if the eels/monsters were not so cartoonish.\n",
      "* * * * * * * * * \n",
      "6121\n",
      "First of all, I have to say I have worked for blockbuster and have seen quite a few movies to the point its tough for me to find something I haven't seen. Taking this into account, I want everyone to know that this movie was by far the worst film ever made, it made me pine for Gigli, My Boss's Daughter, and any other piece of junk you've ever seen. BeLyt must be out of his mind, I've only found one person who liked it and even they couldn't tell me what the movie was about. If you are able to decipher this movie and are able to tell me what it was about you have to either be the writer or a fortune teller because there's any other way a person could figure this crap out.<br /><br />FOR THE LOVE OF G-D STAY AWAY!\n",
      "* * * * * * * * * \n",
      "6151\n",
      "I grew up (b. 1965) watching and loving the Thunderbirds. All my mates at school watched. We played \\Thunderbirds\\\" before school, during lunch and after school. We all wanted to be Virgil or Scott. No one wanted to be Alan. Counting down from 5 became an art form. I took my children to see the movie hoping they would get a glimpse of what I loved as a child. How bitterly disappointing. The only high point was the snappy theme tune. Not that it could compare with the original score of the Thunderbirds. Thankfully early Saturday mornings one television channel still plays reruns of the series Gerry Anderson and his wife created. Jonatha Frakes should hand in his directors chair, his version was completely hopeless. A waste of film. Utter rubbish. A CGI remake may be acceptable but replacing marionettes with Homo sapiens subsp. sapiens was a huge error of judgment.\"\n",
      "* * * * * * * * * \n",
      "6374\n",
      "I am a VERY big fan of Jenna Jameson, but this movie is horrible. At the time Jenna Jameson was married to Brad Armstrong and he was the director of this film and Jenna was the hottest porn star ever. So, of course, Brad tried to make as much money as he could off her by making this big budget porn film. Now I know why they don't make big budget porn movies anymore. In a fantasy world, porn stars could act, but this is the real world and they can't act. That's why there porn stars, if a women as beautiful as Jenna could act, then she would have tried to go into mainstream movies instead of porn. Just because your beautiful doesn't make you a movie star. A fine example of this is Traci Lords, when she was a teen thru her 20's she was one of the most beautiful, sexy women on earth. She made her move into low budget mainstream films and couldn't act. Where is she now? I gave it a 2 instead of a 1 rating just because Jenna is so hot, but there are better movies she has made then \\Dream Quest\\\". Come on Jenna, we don't want to hear you talk, as much as we want to see you have sex. Also, you Jenna, would have a lot more fans and more money in your bank account if you would have done anal on film.\"\n",
      "* * * * * * * * * \n",
      "6466\n",
      "I really must watch a good movie soon, because it seems every other entry or so is something that I despise. However my history speaks, I must not tell a lie. Bobby Deerfield and everything about it sucks big green banana peels. I never thought that I would see a film thud as thunderously as this one did. Al Pacino isn't acting in this film: he's posing. There are many, many scenes of his character, who is a race car driver, just staring at the camera. He's perfectly awful. Marthe Keller is just as bad. These two are supposed to be in a love affair, and there is simply no chemistry whatsoever. Sydney Pollack directed this film? There's no trace of the genius behind Tootsie here. Is this the same man I cheered for in Eyes Wide Shut? I can hardly believe it. Save yourself a horrible movie experience. Run, don't walk, away from Bobby Deerfield.\n",
      "* * * * * * * * * \n",
      "6471\n",
      "This movie is easily the worst of the series. Though New Line might just be looking at sales, they all know the only reason this one made more money than the one prior was due to its 3D ending. It wasn't that the 3-D was good either, because it was 50's 3D with the red and blue lenses(anaglyph.) It was just the fact that people wanted to see what it would look like. Beyond that this movie was so poorly done! Bad script, bad characters, bad acting, worse directing. This movie is trying to push the camp factor almost to the point of being like a \\Looney Tunes\\\" episode.<br /><br />Seriously, not for horror audience, because it is corny and not scary, and not funny or amusing for comedy crowds. Just a total mess with some really bad cameos that are still trying to play this whole thing as camp and having it fall way short of what they probably wanted.<br /><br />I remember most of us who had been fans of this series were just praying that it would end at this point because of how bad it had gotten. This is one of the movies that helped take horror out of popularity and ride a fad of belief that audiences really wanted to laugh with some stupid comedy than see a good and scary horror film.\"\n",
      "* * * * * * * * * \n",
      "6667\n",
      "Okay I must say that before the revealing of the 'monster'. saying that he really didn't fit into that category, just some weird thing that had an annoying screech! And personally I think a granny could have ran away from that thing, but anyway. I actually was getting into this film, although having the main character a drunk and a heroine addict didn't come as an appeal. But such scenes as when she runs away from the train, and you can see the figure at the door was kind of creepy, also where the guard had just been killed and the 'monster' put his hand on the screen.<br /><br />But then disaster stuck form the moment the monster was revealed it just became your average horror, with limited thrills or scares. Slowly I became more bored, and wanted to shut the thing off. I like most people have said was rooting for the homeless people to make it, specially the guy, he gave me a few cheap laughs here and there. I think this film could have really been something special instead it became what every other horror nowadays are! Just boring and well not worth the money.<br /><br />if you are looking for a cheap scare here and there, or a mindless gore fest (which is limited, hardly any in fact) by all means give it a go, but for all you serious horror watchers look somewhere else, much better films out there.\n",
      "* * * * * * * * * \n",
      "6812\n",
      "But it does have some good action and a plot that is somewhat interesting. Nevsky acts like a body builder and he isn't all that attractive, in fact, IMO, he is UGLY. ( his acting skills lack everything! ) Sascha is played very well by Joanna Pacula, but she needed more lines than she was given, her character needed to be developed. There are way too many men in this story, there is zero romance, too much action, and way too dumb of an ending. It is very violent. I did however love the scenery, this movie takes you all over the world, and that is a bonus. I also liked how it had some stuff about the mafia in it, not too much or too little, but enough that it got my attention. The actors needed to be more handsome...The biggest problem I had was that Nevsky was just too normal, not sexy enough. I think for most guys, Sascha will be hot enough, but for us ladies that are fans of action, Nevsky just doesn't cut it. Overall, this movie was fine, I didn't love it nor did I hate it, just found it to be another normal action flick.\n",
      "* * * * * * * * * \n",
      "6825\n",
      "Yes, CHUNKY, this is the nick-name that Donna Reeds' romantic lead played by Tom Drake tags her with! So lets get this clear right away. From her first ingénue role in THE GET-AWAY (1941) too her last, DALLAS (1984-1985) Ms. Reed could NEVER be described as CHUNKY. Not this attractive and slim actress. Whose roles at M.G.M. seldom lived up to her talents.<br /><br />Ms. Reed is supported by a cast of competent character actors, who unfortunately must flounder through this alleged 'screw-ball' comedy. Clearly M.G.M. was out of their depth making this type of film. A type better produced over at COLUMBIA, PARAMOUNT, RKO and even UNIVERSAL. Neither the 'touch' of Ernst Lubitsch nor the wit of Preston Sturges could save this film. A rather conventional romantic comedy that had all the markings of a pre-war (WWII) effort.<br /><br />If Irving Thalberg had still been alive the screen-play would have either gone through a significant rewrite or never seen the light of day. It did fit into Louis B. Mayer's 'safe-zone' of none challenging family entertainment. A form that could not stand up to the post-war challenges of the 'DeHavilland Decision', loss of their theater chains, television and would contribute to M.G.M.s decline. Fortunetly for Donna Reed her best days are ahead of her culminating in FROM HERE TO ETERNITY (1953) and her Oscar win as Best Supporting Actress.\n",
      "* * * * * * * * * \n",
      "6904\n",
      "one word boring.<br /><br />the young demi looks good, but she's pregnant (- point for that =D) the movie is not scary at all...<br /><br />the first scenes looked little crappy, i could render better clouds with my laptop, and after effects. but that was then... and now is now. some movies do not get old well... this is one of them.<br /><br />not worth renting or buying... get something better instead like the exorcist, ...<br /><br />next =D<br /><br />oh the drama part in the beginning just and simply suxor =D\n",
      "* * * * * * * * * \n",
      "6917\n",
      "I cannot for the life of me explain what the popularity of the children's television show, power rangers is all about.<br /><br />I never understood why unsuspecting children liked this show in the first place, since the characters seem so idiotic and not worth caring about whatsoever.<br /><br />The costumes look completely atrocious, like multi colored spandex that people wear to go to the gym.<br /><br />What exactly is the purpose of this show anyways, but for kids to learn how to fight to solve their problems? What is up with the awful hair cuts, and clothing on this show anyway? Not to mention this show is still playing on cable television, just to make money to teach kids how to fight each other when they disagree on a certain problem.<br /><br />There's far better entertainment for today's children, hopefully they aren't as gullible as kids of the 1990s who watched this show.<br /><br />Oh, and what is up with the homo erotic tension between the red and green rangers anyway?\n",
      "* * * * * * * * * \n",
      "6975\n",
      "In all of low budget history. this movie has to be one of the worst. True ther are some humorous sides to the movie, but in general it was just plain awful. I just can't understand what person could not out run a bunch of slugs. I mean they have to be one of the slowest creatures on the planet. The only part worth while in this movie is the close up of a slugs attempt to bite the finger of a man. This was rather amusing.\n",
      "* * * * * * * * * \n",
      "7044\n",
      "Following the disasterous Revolution, this film was pretty much the final nail in the coffin of Goldcrest and thus the British Film Industry. The film is absolute pants, it's full of music from the attempted mid-80's jazz revival and based on a book & author that was briefly popular at that time and has deservedly sank back into obscurity. Temple searched for ages trying to find Suzette and came up with 8th Wonders Patsy Kensett another person who was briefly popular at the time. By the time the film came out of post production the Jazz revival was over, as was Kensett's career and the film met a totally uncaring film public.<br /><br />Mediocre would be an overstatement for some of the worst/campest/cheesiest acting to ever grace the British silver screen watching it almost 20 years on and the film is truely cringeworthy.\n",
      "* * * * * * * * * \n",
      "7362\n",
      "When I was a kid in the 50's and 60's anything connected with Disney was by definition great. What happened? They are able to get any actors and actresses they want, the best of their time. But somehow Disney manages to screw things up in spite of their abundant resources.<br /><br />Disney can afford the best writers, the best producers and directors, but still...they screw things up! This movie is crap. The sad thing is that I suspect Disney in their arrogance does not even know when a movie is good or bad.<br /><br />It is only due to the talent of the actors that I can even give it a 3 of 10.\n",
      "* * * * * * * * * \n",
      "7566\n",
      "What did producer/director Stanley Kramer see in Adam Kennedy's novel and Kennedy's very puzzling screenplay? Were there a few pieces left out on purpose? And what about Gene Hackman, Richard Widmark, Edward Albert, Eli Wallach and Mickey Rooney? What did they see in this very muddled story?<br /><br />And why did Candice Bergen, who gave a horrible performance, accept such a thankless role?<br /><br />The Domino Principle wants to be on the same footing as The Parallax View or The Manchurian Candidate and misses the mark by a very wide margin. A major misfire by Stanley Kramer.\n",
      "* * * * * * * * * \n"
     ]
    },
    {
     "name": "stdout",
     "output_type": "stream",
     "text": [
      "7583\n",
      "Ok, honestly I dont see why everybody thinks this is so great. Its really not. There were two good things that came out of this movie 1. Jack's performance, he was very good I can tip my hat for him. 2. Danny's performance, he was good. No other then that it got pretty stupid. And, what was Stanley Kubrick thinking drafting Shelly as the Wendy? She was so bad. She looked the same every time she got scared. The problem with this movie was the ending. I would have had more respect for it if Kubrick would have ended it differently. And, the over all movie was just stupid. The problem with the movie is that the book was so much better. So dont see the movie read the book and you will be much better off. 3/10.\n",
      "* * * * * * * * * \n",
      "7710\n",
      "The night of the prom: the most important night to any shallow girl composed almost entirely of plastic. And so the characters kept reminding us every ten minutes when some head-peckingly miniscule event occurred in their miniscule lives.<br /><br />There really is no excuse for Prom Night. There is less than nothing original about it and I truly would have given it zero or less stars were it possible on IMDb. The only part of my viewing that I enjoyed was when a group of teenagers sitting in front of us decided to play a game of 'ghosts'. It was a lot more exciting than whatever was going on on the screen in front of them.<br /><br />The plot was basically some guy going on a rampage. And the thing was, it wasn't even a slightly exciting rampage. Maybe if the guy had been remotely frightening rather than a tame Robbie Williams lookalike with a baseball cap, I might have sat there feeling slightly anxious. The fact that I cared less about the characters than I did about the colour of the cinema carpet didn't really add to the effect, either. And to make matters worse, the rest of the characters were equally one-dimensional and oblivious. The hotel staff didn't seem to notice or care that one of their maids had vanished and are further proof that a murderer is unrecognisable after he has had a shave. I was incredibly surprised that the bitchy, stereotypical girl in the blue dress was the only person to notice who he was. She realises this and then proceeds to fall down the stairs, entangle herself in a plastic sheet and then knock over a pile of paint buckets. Nice one.<br /><br />The worst thing was, I hold the belief that that the director was trying his absolute hardest. He really pushed all boundaries by not showing any killing actually happening. Shocking! And the music, don't even get me started. It was almost as appropriate as stripping at a funeral.<br /><br />I really wish that Prom Night was a joke. It was terrible and stupidly predictable. No one, in their right mind or otherwise, has any reason to see this film. Mainstream cinema seems to be going downhill and films like this worsen the situation. If you get the urge to see this absolutely awful film, hear my plea. Don't do it. There are better things to spend six pounds on. Like a sheet to play ghosts with.\n",
      "* * * * * * * * * \n",
      "7725\n",
      "This is another one of those 'humans vs insects/eco-horror' features; a theme that was popular in the late 70's. Only you can't really call it horror. There's zero suspense and no gruesome events. In other words: this movie is pretty lame. It's not that it's really bad or something; it's just very boring. A construction site near a hotel uncovers a big nest of ants. Later on we learn that, probably due to different sorts of pesticides used in the past, their bite became poisonous. Some people get bitten and rushed to the hospital and it takes ages for the residents of the hospital to figure out what's going on. Robert Foxworth figures it out first and then you can see him go berserk with a digging machine for what seems like several hours. Then they flee in the house, waiting to get rescued. And, man, you should see all the efforts they make for rescuing them. I won't spoil too much, but at one point they even use a big helicopter. All the time when I was watching this, I sat there thinking \\Come on, people, you all got shoes on. Just run out of the building. I'm sure a bunch of ants won't catch up with you.\\\" It's all pretty ridiculous.<br /><br />Of course, lots of close-ups of crawling ants are shown throughout the whole movie. Ants in the garden. Ants in the garbage. Ants in the kitchen. Ants on the roof. Ants in the bedroom. Ants in the sink. And the best part: Ants crawling on people's faces while the actors are breathing through straws. But when you see groups of ants in wider shots, they indeed look like black rice the set designers glued to the wall.<br /><br />One small surprise came near the end. No, it has nothing to do with a twist in the plot. It was just that Brian Dennehy made an appearance as a chief-fireman. Ehrr... What more can I say? This movie is called IT HAPPENED AT LAKEWOOD MANOR but the box-art of my copy read ANTS and the title during the opening credits was PANIC AT LAKEWOOD MANOR. There you have it. Now, since this is a made-for-TV movie from the 70's, I'll be once again extremely mild in my final rating. Now, THE SAVAGE BEES, another 'humans vs insects' TV-movie from 1976 was much better than this one. I even feel I have to go back and add a few points to its rating after having seen ANTS. Lacking suspense, action, thrills, shocks and creepiness, the only thing you'll be left with after seeing ANTS is an annoying itch.\"\n",
      "* * * * * * * * * \n",
      "7775\n",
      "Disappointing musical version of Margaret Landon's \\Anna and the King of Siam\\\", itself filmed in 1946 with Irene Dunne and Rex Harrison, has Deborah Kerr cast as a widowed schoolteacher and mother who travels from England to Siam in 1862 to accept job as tutor to the King's many children--and perhaps teach the Royal One a thing or two in the process! Stagy picture begins well, but quickly loses energy and focus. Yul Brynner, reprising his stage triumph as the King, is a commanding presence, but is used--per the concocted story--as a buffoon. Kerr keeps her cool dignity and fares better, despite having to lip-synch to Marni Nixon's vocals. Perhaps having already played this part to death, Brynner looks like he had nothing leftover for the screen translation except bombast. Second-half, with Anna and the moppets staging a musical version of \\\"Uncle Tom's Cabin\\\" is quite ridiculous, and the Rodgers and Hammerstein songs are mostly lumbering. Brynner won a Best Actor Oscar, but it is feisty Kerr who keeps this bauble above water. Overlong, heavy, and 'old-fashioned' in the worst sense of the term. ** from ****\"\n",
      "* * * * * * * * * \n",
      "7841\n",
      "The real star of this ridiculous story is glorious technicolor. A visual treat to the eye, the film fails to stimulate the mind and heart. I was intrigued, at first, by the idea of Dietrich and Boyer leaving religion in order to \\find\\\" their capacity for love. What follows is a huge disappointment. Boyer is the only real actor in the production and one feels his torment. Dietrich's amazing wardrobe outshines her performance -- at times her face is frightening to look at -- a unfeeling mask. As a monk, Boyer held the formula for the monastery's liquer (which reminds me of the true story of Chartreuse) -- when he leaves his \\\"marriage to god\\\" the reaction by his fellow monks holds the shock and fear that perpetuate organized religion. The viewer feels Boyer was well rid of his past. However, the journey that follows is all too predictable.\"\n",
      "* * * * * * * * * \n",
      "7867\n",
      "** HERE BE SPOILERS **<br /><br />The government has continued to develop the UniversalSoldier program, now called UniSol. The soldiers are now stronger and are able to take more damage than before. However the government is downsizing, the project endangered and the supercomputer that is in the middle of all feel threatened, so he takes steps to ensure his own safety. He activates and controls the UniSols and start to run mayhem. The only one who can stop them is Deveraux (Van Damme). <br /><br />This movie is about one thing. Choreographed fighting. The story is bad, and is soon drowned in all fights. Whatever happens, and wherever they go, they fight. Unfortunately for this movie, it is no fun watching a fight where you know one part of it is indestructible. Normally you're pretty sure the hero will win, but you still want to feel the fights are between two somewhat equal combatants. Not where one is indestructible and can't lose. Then the fights just become a tool to stretch time. You wait until the final fight when Deveraux miraculously finds a way to beat his unbeatable foes. To further lower my opinion, a desperate and sure sign of a bad movie is how much scantily clad women there are. Well, there aren't really that lot of them, because the characters are most men (there are at least one woman UniSol though), but almost every woman is needlessly shown with at least just a bra once. The female leads get by with this, but we also pass through a strip-club (to use a computer no less) with much more undressed women. These moments do not give anything to the story and is just there to try to please the adolescent-minded male audience.<br /><br />So, in conclusion, boring fights. No more, no less. Well, maybe less...<br /><br />2/10\n",
      "* * * * * * * * * \n",
      "7910\n",
      "It's amazing that this movie turns out to be in one of my hitlists after all. It is by far the number 1 worst movie I have ever seen.<br /><br />Not only have I ever been this bored before (luckily not for more then 1,5 hours), the pre-adolescent attempts at humor that feature it are not even close to getting but one of the corners of my mouth slightly tilted. After the first very awkward part, you tend to hope that the other parts will be at least slightly better. You hope in vain, it only goes downhill from there.<br /><br />The movie has no story worth telling whatsoever and repeats this non-story three times. One can only hope that by some miracle all remaining copies of this movie are lost forever and Trent Harris never lays his hands on a camera again...\n",
      "* * * * * * * * * \n",
      "8072\n",
      "When I saw that IMDb users rated this movie the bottom 250 movies, I thought it was too harsh but little did I know that the low rating was absolutely correct.<br /><br />I am a big fan of the Wayans brothers. I loved their Scary Movie 2 and even enjoyed White Chicks. Little Man, however, had very few laughs and the jokes were stale.<br /><br />Obviously, the joke will revolve around Marlon Wayans, who plays a grown midget that was recently let out of prison. He and his partner, Tracy Morgan, steal a diamond meant for a gangster. Things go awry and the midget has to place the diamond with an unsuspecting couple played by Shawn Wayans and Kerry Washington. In order to get the diamond back, the midget pretends to be an abandoned baby left on the unsuspecting couples doorstep. Of course, he is taken in and the drama begins on quest for the diamond.<br /><br />The movie has some actors and actresses from Saturday Night Live like Molly Shannon and Rob Schneider as well from In Living Colour. All these talents, however, cannot help the poor script and the jokes which simply was not funny.<br /><br />The special effects to make Marlon Wayans to look like a midget was OK. I mean, it was not 100% believable but it was OK...nothing great. I just wish that the Wayans brothers had put more effort into developing a script with good jokes rather than trying to shore up their poor script with cameos from their famous comedic actors and actresses.<br /><br />Wait for it on cable or television. It really is not worth any amount of money.\n",
      "* * * * * * * * * \n",
      "8226\n",
      "Stefan is an x-con that five years ago got married to Marie. Their marriage has been stable until Stefan past catch up with them and he's offered to do a courier job. Stefan's job is a heroin delivery from Germany to Sweden which should go easily.<br /><br />In Germany Stefan meet Elli, a girl from Bosnia that has been sold to a stripclub owner. Stefan dislikes what he sees and decide to help Elli out of her misery. Due to the fact that Elli's father during the war fleed to Sweden Elli now goes with Stefan to Sweden. To make up with the past Stefan promises Elli to help her find her father, no matter what it takes. Finally back in Sweden the whole situation seems to be more complicated than Stefan ever thought of..<br /><br />This movie doesn't seem to fit in the ordinary class of swedish movies due to the fact that it's been americanized alot. Regina Lund and Cecilia Bergqvist makes it all average, the effects makes the movie a little too much though. See it and jugde for yourself.<br /><br />\n",
      "* * * * * * * * * \n",
      "8257\n",
      "Spoilers ahead -- proceed at your own caution.<br /><br />My main problem with this movie is that once Harry learns the identities of the three blackmailers -- with relative ease -- he continues to cave into their demands. And then the whole scene with his wife being kidnapped, he decides to wire his classic car up to explode (with the money in it), which makes us take a pretty tall leap of logic.<br /><br />Okay, so he wanted to keep his affair with Cini out of the public eye due to his wife's involvement with the DA campaign. This I can see, but why not hire someone to slap these turds around a bit, or even kill them once he'd determined there was no actual blackmail evidence (e.g, Cini's body?) This was a pretty interesting movie for the first 2/3 of it. After that, it sort of falls apart.\n",
      "* * * * * * * * * \n",
      "8441\n",
      "The past creeps up on a rehab-addict when he reconnects with his ill brother and a former girlfriend after what he hopes was his last stint in detox. \\Life's dramas\\\", presented here in the most simplistic way imaginable (not even the writing has any bite or wit). The cast is made up of attractive looking actors smiling glumly at one another, and the music and photography are lugubrious (a couple of the visual effects are laughable, indie-cliché touches that reek of a puny budget). Although written and directed by a man, this was produced by a woman, and I'm not sure but I think this may be a distinct reason why this picture about two men, estranged brothers growing closer, never quite gels, never feels natural or seems lived in. It's an attempt to get inside a male relationship, but the careful, sterile presentation is a cheat. No one's heart is in this, living, breathing, or bleeding this material. \\\"The Perfect Son\\\" is quickly diffused by too many cooks in the kitchen.\"\n",
      "* * * * * * * * * \n",
      "8486\n",
      "Alicia Silverstone (pre-\\Clueless\\\") plays a modern-day crime-obsessed teenager attempting to solve the brutal slaying of a local girl. Pat Verducci wrote and directed this B-flick, which isn't especially well-made but is however surprisingly serious-minded in regards to its leading character. Silverstone is appealing and successful in carving out an interesting young woman here, despite the picture's kitschy undermining. The supporting cast (including Kevin Dillon and Michael Bowen) isn't bad, though the violence in the last act goes overboard. Not a cheesy camp-fest, but nothing exceptionally memorable either. *1/2 from ****\"\n",
      "* * * * * * * * * \n",
      "8491\n",
      "I am an avid fan of horrendous movies, anything cheesy and down right ridiculous is my game. So imagine my spirit I went to the local Rent Shop, and found Vampires vs. Zombies. The name is just too entertaining, you know that no one in the world could pull off something like it, it just has to be bad.<br /><br />And boy, is it BAD. After viewing this horror-ific movie, I was speechless, literally. Me and my pal sat outside without saying a word to each other for several minutes, both of us contemplating the future of our lives after watching this movie. I broke the depressing silence with the words, \\...dude....What?\\\" Yes, i am an enthralling individual.<br /><br />Heres a quick 'street review' The Plot; There is none, at all, ever, constantly in \\\"WTF\\\" mode. The Characters; No development, forgettable. The Music; Worse than porn. The Vampires; Theirs vampires? The Zombies; Theirs Zombies?<br /><br />In the end; Everyone should see this movie, honestly, its so bad I yearn to see it again. So do yourself a favor, watch it and get Depressed.\"\n",
      "* * * * * * * * * \n",
      "8607\n",
      "This was awful. Andie Macdowell is a terrible actress. So wooden she makes a rocking horse look like it could do a better job. But then remember that turn in Four Weddings, equally as excruciating. Another film that portrays England as full of Chocolate box cottages, and village greens. I mean that school, how many schools apart from maybe Hogwarts look like that? The twee police station looked like the set from Heartbeat ( a nauseating British series set in the 60s).This film just couldn't make its mind up what it wanted to be- a comedy or a serious examination of the undercurrents in women's friendships. If it had stuck to the former then the graveyard sex scenes and the highly stupid storming of the wedding might just have worked( i say just). But those scenes just didn't work with the tragedy in the second half. I also find it implausible that Kate would ever speak to Molly again after her terrible behaviour. A final note- what is a decent actress like Staunton doing in this pile of poo? Not to mention Anna Chancellor. Macdowell should stick to advertising wrinkle cream.\n",
      "* * * * * * * * * \n"
     ]
    },
    {
     "name": "stdout",
     "output_type": "stream",
     "text": [
      "8745\n",
      "I just loved watching it though and having fun with it's total badness of a film. I saw this film through the helpful sarcasm of Mystery Science Theater 3000 and I have the DVD. If you flip the to the other side of the DVD, they show the actual movie, so I gave it a chance. Seriously, folks this is grilled cheese.<br /><br />The acting, special effects, and plot in general is very cheesy and unrealistic. \\Doesn't she need lungs\\\" said Crow noticing how the head can still talk while it doesn't have a body, and Tom Servo just wistfully remarks \\\"No, she's got neck juice!\\\". The ending is just classic and no one can touch this soundtrack with K-Porn! I loved the \\\"cat fight\\\" between the two strippers. That \\\"Meow\\\" after the fight or scene, whatever, was classic. So, in some ways this was a fun movie. I think for horror fans, you'll probably enjoy it. For a good time, watch the MSTK3 version, you'll get a great laugh.<br /><br />MST3K version: 10/10 The Brain that would die: 1/10\"\n",
      "* * * * * * * * * \n",
      "8762\n",
      "This movie proves that you can't judge a movie by the awesome artwork on the DVD cover. It also goes to show that you should learn more about a movie before you buy it (or get it for someone at Christmas). The beginning of this movie actually looks somewhat promising. Well, until you meet the characters. Pumpkin Jack (the old guy from down the street) brings the college co-eds a book full of witch's spells that he leaves at their annual haunted house (where the movie takes place). After that there is some drinking, fighting, and soft core porn. Then the action of the movie finally takes place after over an hour.<br /><br />Overall, Hallow's End was predictable, unsuspensful, and reminiscent of a soft-core porn. This movie is probably best viewed with a group of friends who have nothing better to do, as it is a good movie to make fun of. And for first-time viewers, it is really fun making predictions of the order of people who die.\n",
      "* * * * * * * * * \n",
      "8876\n",
      "The only good thing about \\People I Know\\\" is that it serves as a perfect example of movies that Al Pacino should avoid performing in. The first big turn-off I had was the way in which Pacino tried to portray a Georgia accent; at times it was weak and unattractive while in other segments it seemed too overdone. Dialogue and character interaction was terrible along with a weak plot. The supporting cast did an extremely perfunctory job in keeping the movie interesting, and within an hour I still saw no signs of a sturdy plot. The story overall is a real bore, and I had to slap myself in the face a few times to keep myself awake.<br /><br />This movie will surely bore you as well...avoid at all costs.\"\n",
      "* * * * * * * * * \n",
      "8950\n",
      "Oh, dear lord.... They've turned what was a fairly thought provoking movie into a swaggering testosterone fest.<br /><br />The original 1971 version of this movie was beautifully vague about our hero Kowalski. He was a man trying to drive from Denver to San Fransisco to win a bet. Why was he willing to risk his life for the price of a handful of uppers? We're not really sure.<br /><br />We had a few flashbacks that gave us the picture that he was an adrenaline junkie, and presumably he had led his entire life trying to make it to the vanishing point. That point you see off in the distance where the left and right shoulders of the road come together, and the road itself vanishes. He lives only to be free, and means no ill on anyone. We saw several times when there were accidents he stopped to make sure the other driver was okay before moving on, even the cops that were chasing him.<br /><br />When he saw the futility of his quest he took his life rather than be arrested and live a life of captivity. He died like he lived, running wide open.<br /><br />In the remake Kowalski has a whole history (including a first name, even.) He's trying to get to the hospital where his wife is suffering from complications to her pregnancy. He is a devoted husband, and excited expectant father. He comes to the decision to take his life after hearing his wife died in delivery, but they even leave THAT in question when they suggest that he may have jumped out of the car before it ran into the bulldozers. They even gave the part of \\super soul,\\\" the blind DJ (brilliantly portrayed by Clevon Little in the original) to JASON PRIESTLY?!?!?!?!?!? Give me a break.\"\n",
      "* * * * * * * * * \n",
      "9106\n",
      "Perhaps I'm not a sophisticate. This and Closer are two of the more supposedly cerebral films I've seen recently, and both suffer from exactly the same problem to an excruciating extent. The dialogue is false false false. Nothing that comes out of anyone's mouth seems remotely believable. Perhaps the way this film is set up that's the way it's supposed to feel, but it was unwatchable. And boring. I walked out after 20 minutes of tedium.<br /><br />I'll stick with Sleeper and Bananas for my Woody Allen fix. If I ever come across this on the teevee, I'll turn over and try to find an episode of Quincy instead.\n",
      "* * * * * * * * * \n",
      "9113\n",
      "I just got through watching this DVD at home. We love Westerns, so my husband rented it. He started apologizing to me half way through. The saddles, costumes, accents--everything was off. The part that made me so mad is where the guy didn't shoot the \\collector\\\" with his bow and arrow as he was taking the fat guy's soul. His only excuse was \\\"he only had 2 arrows left.\\\" We watched it all the way through, and, as someone else said...too many bad things to single out any one reason why it sucked. I mean, the fact that the boy happened to snatch the evil stone from the collector on the same month and day it was found, what's the point of that? And why were there a grave yard where everyone died on April 25 but the people whose souls were taken by the collector were still up walking around? If you want a movie to make fun of after a few beers, this may be your movie. However, if you want a real Western, you will hate this movie.\"\n",
      "* * * * * * * * * \n",
      "9118\n",
      "It's been close to ten years since I've seen either of the last two sequels to \\Phantasm\\\" - surely due to my still vivid remembrance of them not being very good. That being acknowledged to this day, I'm still a huge fan of the first two installments so I thought I'd go back and re-experience the 'final chapters'. Part three is definitely the worst of the series since it obviously takes itself less seriously and throws in a bunch of confusing stuff that doesn't make much sense... Again, kicking off right where the previous movie left us, Reggie saves Mike from the Tall Man who vows to come back for him later, but things aren't safe for long when they come across Jody who is inexplicably able to the take the form of a sphere. Apparently his soul is held prisoner by the Tall Man so Mike is then dragged into the sinister double-pronged Netherworld and Reg has to find him... Along the way, he meets up with a ten year-old kid and a nun-chuck wielding black chick named Rocky who assist him throughout his journey.<br /><br />There's really nothing memorable about \\\"Phantasm III\\\" other than how stupid and forcefully \\\"humorous\\\" it tries to be. Only one positive aspect that didn't even help the movie and that was the return of A. Michael Baldwin and Bill Thornbury who reprise their roles for the first time since the original 1978 classic. The problem is, they pretty much make cameo appearances... Reggie Banister is of course back in his starring role, but his bumbling, love-sick attitude makes his presence far too annoying to like. Angus Scrimm also just didn't seem entirely \\\"into\\\" his role. He talks too much here and is nowhere near as menacing and creepy in contrast with the \\\"quirkiness\\\" that the movie seemed to carelessly resort to. Most people's opinion on this flick seem pretty impassive and tend to think \\\"it's still entertaining\\\". Maybe I'm just too much of a nit picker but I just couldn't get into this one. I remember disliking it when I was a kid and after re-watching it - I can safely say - nothing has changed. Don Coscarelli rocked the scene with his original low-budget, nightmarish, legendary film \\\"Phantasm\\\", which I still rank as my top favorite horror flick and his respectable sequel kept things moving and darkly surreal and GORY, but \\\"Lord of the Dead\\\" (stupid title) just looked too rushed and slapped together to me... The inclusion of the two new characters, Tim and Rocky (the only thing missing was Scrappy Doo!!), was a strong indication of Coscarelli running out of ideas and seeing how far he could ride the franchise...<br /><br />So, it's a \\\"Phantasm\\\" movie with very little gore, nudity, and quadruple-barrel shot guns. Need I say more?\"\n",
      "* * * * * * * * * \n",
      "9178\n",
      "Want to know the secret to making a slasher film set at a fitness center work? Just pad the film out with lovely ladies in super tight workout outfits and have them bump and grind the floor like they are at a gentleman's club. That's what the makers of this horrid slasher film did and that little gimmick kept me watching till the bitter end. This is the worst slasher film I have ever seen, but every time I was ready to switch the channel, they'd add another scene with the workout girls and I'd stay put. As a slasher film, Killer Workout fails in every category I can think of. As a showcase for beautiful girls working out, it is a success. Strong recommendation to avoid, unless the thought of half the film being a big T&A show appeals to you.\n",
      "* * * * * * * * * \n",
      "9392\n",
      "Ohhh man! Now this is what I'm talking about! As far as bad/cheesy horror flicks go this movie was truly in a class of its own. A real gem!<br /><br />First off, the film wasn't originally in English. That's okay because the voice dubbing was truly exceptional! Here is my favorite excerpt from the dialog (and there is plenty more where this came from)",
      " \\I'm feeling a little better. I'm just thirsty",
      " FOR YOUR BLOOD!\\\"<br /><br />And what drama! Here is a play by play recap of the interaction between the military and scientists",
      "<br /><br />Scene 1",
      " Scientist: \\\"You can't do that",
      " It'll be a disaster!\\\" -- Military Officer: \\\"That's just science fiction\\\" (he then proceeds to cause a complete disaster just like the scientist predicted).<br /><br />Scene 2",
      " Scientist: \\\"If you do that many people will die!!!\\\" -- Military Officer: \\\"you don't know what you're talking about.\\\" (he does it and many people die).<br /><br />Scene 3",
      " Scientist: \\\"Don't do that",
      " It'll kill everyone!\\\" -- Military Officer: \\\"That's nonsense\\\" (he then proceeds to kill everyone)<br /><br />Scene 4, 5, 6, 7",
      " (you get the idea).<br /><br />If that wasn't enough",
      " there were a few scenes that really stood out as instant classics! In one scene, the military has literally 10 guys pointing guns at two unarmed men. The leader yells, \\\"Go get 'em!\\\" and all 10 army guys, one at a time, drop their guns and fist fight the two adversaries! Instant classic!<br /><br />And don't worry. No attention to detail was left out! This movie even had a hip/upbeat '80's keyboard/synth soundtrack to set the mood!<br /><br />And trust me",
      " I realize this review might contain some spoilers, but there are so many goodies in this epic I really only scratched the surface. A movie of this caliber only comes out once a decade! A true movie watching experience! A masterpiece! Wow!\"\n",
      "* * * * * * * * * \n",
      "9492\n",
      "I screamed my head off because seeing this movie was my first movie going experience ever at some 13 months old. I remember it being incredibly bloody and it made me angry. I watched it again on tv a few years ago. Big mistake -- the acting is wooden, the plot non-existent and the movie lacks merit unless 23 year-old T & A is what gets you going... 0/****\n",
      "* * * * * * * * * \n",
      "9656\n",
      "From the start, you know this is a Sam Sherman film more than an Al Adamson film because as the credits roll, \\A Sam Sherman Production\\\" appears in letters as big as the title credit. Not only that, Mr. Sherman co-wrote the screenplay and it was his idea to use Bob Livingstone, a washed-up, 69 year old Western star of the old Hollywood era to be his male lead in a picture that Sherman thought would capitalize on the recent success of \\\"Swinging Stewardesses\\\". <br /><br />Now why would you want to have a wrinkled old man as your male lead in what is supposed to be a soft-core exploitation feature? It defies explanation, but that is Sam Sherman for you. His obsession with old Hollywood colored a lot of his films for Independent International Pictures, and he and Al Adamson frequently tried to get has-been actors for their films (e.g. J. Carrol Naish, Russ Tamblyn, Lon Chaney Jr.,etc.). But Bob Livingstone? Tell me the drive-in demographic knew who this '40's second-rater was; it's ridiculous! <br /><br />But then again, \\\"Naughty Stewardesses\\\" was a successful picture for them, so we can't just write this off as a Sherman fiasco. Still, by any aesthetic standard, it's an incoherent mess. Al Adamson wanted out of this picture, and it is easy to see why. First off, it has no genre focus at all and drifts around from super soft core (tits and ass/simulated sex only) to a kidnapping thriller (shades of Steckler's \\\"Rat Pfink and Boo Boo\\\"!) In between, we get subjected to painfully boring sequences of the stewardesses traipsing around Vegas to the hackneyed music of Sparrow, or Richard Smedley and Connie Hoffmann on a photo shoot in San Francisco. Worst of all, we get Bob Livingstone as a Jack LaLanne wannabe in a blue jumpsuit trying to be sexy...gag! (Thankfully, his big sex scene with Connie Hoffmann was deleted, but you can catch him slurping on her titties on the DVD in the Special Features section. Creepy.) <br /><br />This is a terrible, terrible movie, but I'll give it three stars for Gary Graver's photography and out of sympathy to Connie Hoffmann for having to make it with \\\"Wrinkles\\\" Livingstone. \\\"Naughty Stewardesses\\\" is for Al Adamson completists and/or scholars of exploitation film as Sam Sherman's commentary offers vital inside info. All others, BEWARE.\"\n",
      "* * * * * * * * * \n",
      "9709\n",
      "What a mess!! Why was this movie made? This, and other movies of its \\caliber\\\" should be teaching tools on how not to make a movie. Children may like it, but anyone over 10 may or will disapprove. To make matters worse was the fact that such great talent like Whoopi Goldberg and Armin Mueller Stahl were entirely wasted in a film unworthy of any notice.\"\n",
      "* * * * * * * * * \n",
      "9792\n",
      "Released on DVD in the UK as Axe, The Choke is a teen slasher that fails in pretty much every department: the story is almost non-existent, resulting in a film which comprises mostly of people wandering around a dark building; with the exception of two characters (who are quite obviously destined to be the film's survivors), everyone is thoroughly objectionable, meaning that the viewer couldn't care less when they get slaughtered; the deaths aren't gory enough (unless a brief shot of a pound of minced beef covered in fake blood turns your stomach); and the gratuitous sex scene features next to no nudity (an unforgivable mistake to make in a slasher flick!).<br /><br />The wafer-thin plot sees members of a punk band locked inside what appears to be the world's largest nightclub (there are endless abandoned corridors and rooms, unlike any club I've ever seen) where they are picked off by an unseen assailant. For a low budget effort, the production values are okay, and the cast are all seem to be fairly capable actors, but with not nearly enough genuine scares, a reluctance to get really messy (this is a slasher, so where's the graphic splatter?), way too much dreadful dialogue (particularly from the not-dead-soon-enough drummer) and some ill advised use of tacky video techniques in an attempt to add some style, the movie quickly becomes extremely boring.\n",
      "* * * * * * * * * \n",
      "9811\n",
      "MAKE A 0 YOU SACKS OF German STAPLES! well, when i started to watch this sack of crud, it was a Sunday afternoon, and i was just looking for stuff on show time. I was introduced to a hot naked babe, and like any guy (im a guy, the e-mail is my sisters...) i was happy. But then they threw it all to the dogs, spit on it, lit it on fire, and peed it out. You wanna know how? THE DUMB CHICK TALKED! The dialog throughout the film was just horrible. sounded like something my 2nd grade bro could wright. The violence was nice for some scenes, but some was just totally moronic. The scene in the pit were he gives the guy the knife... dumb moron! To sum it up, this is pure cinema barf drenched in the chocolate syrup known as nudity, and topped with the cherry of horrible acting as only a porn star could deliver.\n",
      "* * * * * * * * * \n",
      "10008\n",
      "It's often said that Tobe Hooper just struck lucky with his grisly 1974 horror film 'The Texas Chain Saw Massacre' and every time I see another Hooper film - that view is only reinforced. It would seem that Hooper wanted to make his own version of films such as Scanners and Firestarter in 1990 and so we end up with Spontaneous Combustion; a film with a couple of good ideas and a whole load more that are borrowed from other films. Put it all together and you get a messy, boring film that most people would do well to miss! The film leads the audience to believe that it might be half decent initially with an intriguing back story that focuses on some experiments carried out on two young people in the fifties. The couple have a child and shortly thereafter burn to death as a result of the experiments done on them. Fast forward some years and the baby is now an adult named Sam; but naturally he's not a normal person and soon finds when it's discovered that he has the ability to set things on fire at will.<br /><br />The film stars Brad Dourif, who must have seemed like a good casting choice given his success with Child's Play two years earlier; but actually was an uninspired decision as the central performance is really terrible; and not helped by the terrible supporting performances. The turgid direction and dull script also don't do the film many favours and the trend of lacking in favours is continued by the special effects, which are very unrealistic and have nothing on the films that this one is ripping off; all of which were made some years earlier. The plot is really slow and it's almost an hour before anything of note happens, and I didn't care for it even then. It soon becomes obvious which direction the film will go in and it all boils down to the sort of tedious ending you would expect. The final confrontation is a big disappointment and nothing is really explained during the film. Not that any revelation would have been interesting anyway. Overall, this is a rubbish film and another reason why Tobe Hooper is a long way from being a great horror director. See Firestarter again instead.\n",
      "* * * * * * * * * \n",
      "10268\n",
      "This is one of the weakest soft porn film around. I can't believe somebody wrote this stupid story before making some changes. The guy Mike is a major wimp and moron I can't believe he didn't want to take a shower with his bride-to-be Toni and be in a threesome with the french photographer Jan. He does do a threesome with Toni and Kristi but that was short I hate that every time in Soft Core Porn Films threesomes between a woman, a man, and a woman is short but a girl-girl thing is about an hour. To the makers of these films have the threesomes alot longer this film should've have two threesome scenes not one but two.\n",
      "* * * * * * * * * \n",
      "10280\n",
      "The creativeness of this movie was lost from the beginning when the writers and directors left out a good story line, only to substitute with horrible special affects. This movie seemed to be focused on amusing children, but couldn't even accomplish that. Many small low budget films have the potential to become great movies, but this movie is no where near that. Fortunately this will be another film easily made, and easily forgotten. This movie was probably a chance for the actors to make a little money on the side until their chance came along for a real role in a good movie. Anyone who has a shred of respect for films, should avoid seeing this movie at all costs.\n",
      "* * * * * * * * * \n",
      "10324\n",
      "i saw this movie last night and even after a couple of beers the only giggle this movie got out of me was when i realized that i was actually watching it. in a word, it is unfunny. UNfunny. i totally believe the trivia tidbit about jack black apologizing for making this garbage. i can't believe that barry levinson didn't just toss this script when he read the first page. moreover, i can't believe that i watched more than ten minutes of it.<br /><br />i gave it 3 out of 10* because i love to see christopher walken make terrible movies for the paycheck. also, the horse \\corky,\\\" by merely existing as a character in this movie, is actually quite ridiculous.\"\n",
      "* * * * * * * * * \n",
      "10520\n",
      "There was a genie played by Shaq His name was Kazaam, and he was whack His rhymes were corny, this lines were bad some stupid kid cryin over his stupid dad bad actin, bad casting, bad special effects whats next? this movie sucks Prolly didn't make 20 bucks he lives in a boombox not a lamp hurts like a cramp like a wet food stamp...<br /><br />Yeah, you get it, a stupid rhyming genie who can't act, in a stupid movie with horrible special effects. Oh, and its confusing as hell. I'm not even gonna go on. Let's just say, it belongs in the \\its so bad, its funny\\\" category. Watch it once with your buddies and get a good laugh. But don't expect anything spectacular.\"\n",
      "* * * * * * * * * \n",
      "10691\n",
      "Much like Orson Welles thirty years earlier,Mike Sarne was given \\the biggest train set in the world\\\"to play with,but unfortunately lacked the ability to do anything more than watch his train set become a train wreck that is still spoken of with shock and a strange sort of awe. Despite post - modern interpretations purporting somehow to see it as a gay or even feminist tract,the fact of the matter is that it was a major disaster in 1970 and remains one today.How anyone given the resources at Mr Sarne's disposal could have screwed up so royally remains a closely - guarded secret.Only Michael Cimino ever came close with the political and artistic Armageddon that constitutes \\\"Heaven's Gate\\\".Both films appeared to be ego trips for their respective directors but at least Mr Cimino had made one of the great movies of the 1970s before squandering the studio's largesse,whereas Mr Sarne had only the rather fey \\\"Joanna\\\" in his locker. Furthermore,\\\"Heaven's Gate\\\" could boast some memorable and well - handled set - pieces where,tragically,\\\"Myra Breckinridge\\\"s cupboard was bare. Simply put,it is overwhelmingly the worst example of biting the hand that feeds in the history of Hollywood.\"\n",
      "* * * * * * * * * \n",
      "10776\n",
      "....shut it off. The prologue with Fu Manchu's birthday, and the opening credits of the assassins training, is amusing. Then it drops off faster than hair sprayed with Neat. Look for a cameo by Cato in the beginning, with a figurative wink at the audience.\n",
      "* * * * * * * * * \n",
      "10832\n",
      "The only reason I am commenting is because I finally figured out why Dr. Cox was bald. Although we probably all realized it at the same time this week, Dr. Cox is bald because they showed these episodes in a different order than they filmed them. The latest episode when our favorite grumpy, Jesus-loving Nurse Roberts dies Dr. Cox shaves his head. The must have showed them out of order for some odd reason and forgot they slipped up the continuity. For shame, Scrubs. They've made mistakes like this before. I remember when Elliot is trying to date Scott Foley and her hair is wet 2 seconds before water hits her. I try not to notice these things, but my favorite show needs to step it up.\n",
      "* * * * * * * * * \n",
      "11028\n",
      "Anyone who knows me even remotely can tell you that I love bad movies almost as much as I love great ones, and I can honestly say that I have finally seen one of the all-time legendary bad movies: the almost indescribable mess that is MYRA BRECKINRIDGE. An adaptation of Gore Vidal's best-selling book (he later disowned this film version), the star-studded MYRA BRECKINRIDGE is truly a movie so bad that it remains bizarrely entertaining from beginning to end. The X-rated movie about sex change operations and Hollywood was an absolute catastrophe at the box office and was literally booed off the screen by both critics and audiences at the time of it's release. Not surprisingly, the film went on to gain a near-legendary cult status among lovers of bad cinema, and I was actually quite excited to finally see for the first time.<br /><br />Director Michael Sarne (who only had two other previous directing credits to his name at the time), took a lot of flack for the finished film, and, in honesty, it really does not look like he had a clue about what he was trying to achieve. The film is often incoherent, with entire sequences edited together in such a half-hazzard manner that many scenes become nearly incomprehensible. Also irritating is the gimmick of using archival footage from the Fox film vaults and splicing it into the picture at regular intervals. This means that there is archival footage of past film stars such as Judy Garland and Shirley Temple laced into newly-film scenes of often lewd sexual acts, and the process just doesn't work as intended (this also caused a minor uproar, as actors such as Temple and Loretta Young sued the studio for using their image without permission).<br /><br />Perhaps Sarne is not the only one to blame, however, as the film's screenplay and casting will also make many viewers shake their heads in disbelief. For instance, this film will ask you to believe that the scrawny film critic Rex Reed (in his first and last major film role) could have a sex change operation and emerge as the gorgeous sex goddess Raquel Welch?! The film becomes further hard to follow when Welch as Myra attempts to take over a film school from her sleazy uncle (played by legendary film director John Huston), seduce a nubile female film student (Farrah Fawcett), and teach the school's resident bad boy (Roger Herren) a lesson by raping him with a strap-on dildo. Did everyone follow that? <br /><br />And it gets even better (or worse, depending upon your perspective)! I have yet to mention the film's top-billed star: the legendary screen sex symbol of the nineteen-thirties, Mae West! Ms. West was 77 year old when she appeared in this film (she had been retired for 26 years), and apparently she still considered herself to be a formidable sex symbol as she plays an upscale talent agent who has hunky men (including a young Tom Selleck) throwing themselves at her. As if this weren't bad enough, the tone-deaf West actually performs two newly-written songs about halfway through the film, and I think that I might have endured permanent brain damage from listening to them! <br /><br />Naturally, none of this even closely resembles anything that any person of reasonable taste would describe as \\good,\\\" but I would give MYRA BRECKINRIDGE a 4 out of 10 because it was always morbidly entertaining even when I had no idea what in the hell was supposed to be going on. Also, most of the cast tries really hard. Raquel, in particular, appears so hell-bent in turning her poorly-written part into something meaningful that she single-handedly succeeds in making the movie worth watching. If she had only been working with a decent screenplay and capable director then she might have finally received some respect form critics.<br /><br />The rest of the cast is also fine. The endearingly over-the-top John Huston (who really should have been directing the picture) has some funny moments, Rex Reed isn't bad for a non-actor, and Farrah Fawcett is pleasantly fresh-faced and likable. Roger Herren is also fine, but he never appeared in another movie again after this (I guess he just couldn't live down being the guy who was rapped by Raquel Welch). And as anyone could guess from the description above, Mae West was totally out of her mind when she agreed to do this movie - but that's part of what makes it fun for those of us who love bad cinema.\"\n",
      "* * * * * * * * * \n"
     ]
    },
    {
     "name": "stdout",
     "output_type": "stream",
     "text": [
      "11127\n",
      "I watched this a few days ago, so details are getting hazy. The film is shot on hand-held cameras, and a lot was made of this at the time it was released originally, since we hadn't had many studio pictures made in this way. I can't help but feel this was more of a gimmick than anything, designed to make the audience think that what we are seeing on the screen hasn't had all the compromises that come with a big budget, and so was more \\real\\\". However what we have here isn't much more than a not-as-good rip off of the first half of Full Metal Jacket, so anyone who has seen that, or any one of the other rip offs there of, will know what to expect.<br /><br />The main problem I had was the stereotyped characters, with the weedy soft kids out of their depth, close harmony singing, Ebonics spouting black dudes, world weary sergeants, bitter and twisted psychos etc etc... all being put into the sorts of situations that would provide the most friction and tension at any given time. Maybe this was intentional to highlight the stupidity and injustice of the situation, maybe it was laziness, or maybe it was just a committee trying to appeal to the biggest audience, all I know is it was annoying. One novel thing was the mixture of volunteers and draftees (where normally all the characters would have been forced into the situation,) although only the scenes between the two main characters really make much play of it. This seems to be the main pivot of the plot, with the volunteers coming to their senses and the draftees gaining a sense of duty and self worth, but its all done in a rather forced and unsubtle way. The other big bug I had was how all the characters (with the exception of the psychos and the real softies) would react to each inevitable conflict with at first aggression and threats of violence, faced with Farrell's ubiquitous stoicism, immediately back down and be all reasonable and diplomatic.<br /><br />I guess if I had to find a plus it would be the acting from the two leads, which was strong and very convincing, tho considering the formulaic nature of the characters, this wasn't too hard.<br /><br />In my imagination, Bozz grew up to be Zeke off Tour of Duty, and for my money, 4 episodes of that would be more fun to watch.\"\n",
      "* * * * * * * * * \n",
      "11221\n",
      "This is a big step down after the surprisingly enjoyable original. This sequel isn't nearly as fun as part one, and it instead spends too much time on plot development. Tim Thomerson is still the best thing about this series, but his wisecracking is toned down in this entry. The performances are all adequate, but this time the script lets us down. The action is merely routine and the plot is only mildly interesting, so I need lots of silly laughs in order to stay entertained during a \\Trancers\\\" movie. Unfortunately, the laughs are few and far between, and so, this film is watchable at best.\"\n",
      "* * * * * * * * * \n",
      "11247\n",
      "You know all those letters to \\Father Christmas\\\" and \\\"Jesus\\\" that are sent every year? Well, it turns out that they are not actually delivered but dropped off in a half-forgotten corner of the post office to rot unless some bright spark figures out a way of posting them. As bizarre settings go, it's a winner and one which perfectly fits the strange movie that is \\\"Dead Letter Office\\\". Having said that, this is obviously an Australian film as opposed to a British one. If it was Royal Mail, most letters get this sort of treatment anyway. I haven't been in this flat for two years and we're still getting letters for a Mr Wang, some female priest of the Church of Latter Day I've-Never-Heard-Of-You and various catalogues for industrial equipment addressed to a plumbing company.<br /><br />\\\"Dead Letter Office\\\" (the name given to the place where undeliverable mail ends up) follows the story of Alice (Miranda Otto) who grows up in a seriously divided home. Writing to her absent father, she only learns in adulthood that her letters haven't been delivered for one reason or another. So, logically, she gets a job at the D.L.O. and finds herself working alongside other social rejects including the brooding Chilean immigrant Frank Lopez (George Del Hoyo). Slowly, she finds herself drawn to him but can she find out where her dad is without bringing the self-contained world of the Dead Letters Office to its knees?<br /><br />Nothing against this film but I was reminded of the god-awful Heather Graham film \\\"Committed\\\" while watching this. However, this is so much better than that pile of horse crap but then again, that ain't difficult. For a start, this film is much more logical. True, the metaphors are somewhat blatant and the underflowing symbolism quickly becomes a flood. But at least this is cohesive and quirky without being complete drivel. It is also well acted. Both Otto and Del Hoyo are very good as the lovers looking for something they know they'll never find while other characters are peripheral at best. Part of the trouble is that it seems to wrap up far too quickly, leaving this viewer somewhat disappointed. The other part is that when you consider Australia's draconian immigration policy (i.e. if you don't speak English, rack off!), such a story is unlikely to take place in reality. The other characters, sadly, also help to destabilise the realism by proving to be little more than odd-ball stereotypes.<br /><br />Despite that, \\\"Dead Letter Office\\\" is certainly something a little different. It might not be to everyone's taste but I liked it. Yes, it was hackneyed and predictable but sometimes, it's nice to watch a film without guns or violence or heavy-duty swearing and nudity (no chance of that in an Australian film). There ain't any major laughs, there's no Bullet Time and the characters are usually one-dimensional. But it's the story that counts here and while it's not earth-shattering in its magnificence, it's a pleasant enough way of passing the time. It's the movie equivalent of a Sheryl Crow CD - nice to listen to now and again but you wouldn't really miss it if it wasn't there.\"\n",
      "* * * * * * * * * \n",
      "11427\n",
      "Oh boy, where do I go with this one? Herendous acting, weak plot, stupid deaths, pointless nudity...<br /><br />This isn't entertainment...this is hell.<br /><br />Hell.<br /><br />Don't waste your money, time, or life on this pit of evil.<br /><br />It's just...god damn is this movie awful! Tom Savini, WHY?! Why would you waste your life on this crap? This movie not worth it. I'd rather snort crack and smash my head up against a wall than watch THIS...this sinful act again!<br /><br />Please take my advice and stay the f#@k away from this elephant turd of a film. No, you know what? I shouldn't even have to call this thing a film! Just stay AWAY!\n",
      "* * * * * * * * * \n",
      "11616\n",
      "Whale-hunters pick on the wrong freaking whale.<br /><br />A group of yahoo whale exploitists capture a female and string her up by her tail-fin. The whale's mate sees the whole thing including the moment the female's unborn baby slips out and slops onto the deck. 'Captain Nolan' (Richard Harris) could tell that the big male is really mad by the way it stared him down as if to say, \\Get out of town before high-tide.\\\" <br /><br />This story of revenge has Harris' presence and Bo's beauty, but not much else. This was Bo's first 'released' film, though her first acting job was four years previous in 'And Once Upon a Love' released in 1981 as 'Fantasies' (directed by John Derek).<br /><br />P.S. Today, the date of this review (November 20), is Bo Derek's birthday. I hope Bo has a 'whale' of a good time..... get it?..... whale?..... hee-hee.\"\n",
      "* * * * * * * * * \n",
      "11637\n",
      "Contrary to my principles, let me first come up with a conclusion, because I have just seen this piece of \\art\\\", and still am under strong impressions. The reader is asked to excuse my stronger vocabulary.<br /><br />Well, this movie is absolutely horrible, and I would never bother to write a single word about it, if it were not for the fact that \\\"44 Minutes\\\" made me sick to death, which rarely happens to me. The fact that I paid for that does not exactly makes me feel better, as well as the fact the movie deserved the high user rating here.<br /><br />So what is wrong with the movie? It has a fashionable title - \\\"44 Minutes\\\". One first thinks about \\\"15 Minutes\\\", which is by the way a much better movie, but still bad in my book, and indeed the two can be compared to some extent. But, as luck would have it, the things they share are their worst characteristics. They both feature Mr. Oleg Taktarov, who with his strong Russian accent obviously meets the popular expectations and prejudices. His purpose is to appeal to the Cold War mind. Ah, do we miss the good old times. Now, I don't imply that he is a bad actor, I am yet to judge his true performance, but he is simply not a true individual here, he is more like an archetype. How anyone can still indulge in such things is completely beyond my comprehension. We can recognize modern American xenophobia here. The point in the movie when Taktarov explains to his companion that Romanians are not Germans, and that they are in America is truly laughable. Are we to assume that the greatest desire of the wretched duo is to become \\\"true\\\" Americans? <br /><br />Then, there is the media issue. Yes, it seems that the most of what we learn comes from cameras, interviews and reporters. The director should have made us feel the rhythm of the presumed 44 minutes. Instead he bores us with interviews throughout the movie like in a cheap TV show, trying to reinvent the wheel. In 15 Minutes the issue of media is the central one.The point is presented in a way a teacher addresses an obtuse student, but that deserves a separate comment, we are focusing on 44 Minutes now. So, I have been trying to identify the purpose of this movie. What is it? To provide good time for the audience? To glorify weapons? To glorify police? Portray violence? Oh yes, the officer gives the Bible to the underage delinquent. So it must promote peace and understanding after all? I don't think so, but don't ask me. I only know I didn't enjoy any of this.<br /><br />Ah, Michael Madsen. I admit, I am a big fan. I hoped he would be a bright point, but I was wrong. It's not his fault though. <br /><br />As the final note, comparing \\\"firepower\\\" to \\\"willpower\\\" at the end of the movie was one of the worst lines I have ever heard.<br /><br />To summarize, on the scale 1-10, I give it a pure, unadulterated 1.\"\n",
      "* * * * * * * * * \n",
      "11699\n",
      "THE RINGMASTER stars Jerry Springer as a TV talkshow host called Jerry , but it`s not THE JERRY SPRINGER SHOW , his guests are trailer trash , but not the trailer trash you get on THE JERRY SPRINGER SHOW, they attack one another , but not like on.....What is the point of making a movie about THE JERRY SPRINGER show and pretending it`s not THE JERRY SPRINGER SHOW ? And on top of that this is a very boring film\n",
      "* * * * * * * * * \n",
      "11804\n",
      "Julia Roberts obviously makes a concerted effort to shake off her cotton wool Pretty Woman persona with this spurious spousal abuse thriller, but it's hard to imagine she'd end up putting in a performance as powerful and convincing (and oscar winning) as she did in Erin Brokovich based on the back of this rubbish. And make no bones about it, it's nothing more than a Julia Roberts vehicle, but unfortunately, her performance is not the most lacklustre thing about it.<br /><br />The plot has all the markings of a late night made-for-cable, and don't be under the impression that it will offer any insight into the dark world of domestic abuse because non of the characters are sketched out enough for you to really care. <br /><br />Ultimately disappointing and unsatisfying, without Roberts' name above the title, I'm sure it would have totally flopped, deservedly.\n",
      "* * * * * * * * * \n",
      "11823\n",
      "Like some of the other reviewers have alluded to previously, I'd like to know what moron actually read the script and went', \\Yea!!! This is it. This is the next film we are going to green light!!\\\" And whoever that person is, should have his or her head examined for actual brain activity. Because whoever is responsible for actually dishing out money to have this made after reading the script, well, I'd love to give you my email address and maybe you'd like to just give away some more money. This film is atrocious in every way.<br /><br />The Wayans are funny, at least they can be. They have made some good films and had some incredibly funny performances along the way. But in here, not only does the premise defy all logic, not only is the acting terrible, not only is the entire movie offensive from start to finish, not only is the direction as amateurish as you can find, but they actually want you to pay to see this film. Maybe if it was free...naaah, it would still be a waste of time.<br /><br />Usually I'd be inclined to write some long winded, detailed review about why this film is so bad, but just suffice to say that let my brevity do the talking. This is the lowest common denominator film making and it is about as unfunny as a heart attack.<br /><br />0/10..makes my top ten list of worst films of all time!\"\n",
      "* * * * * * * * * \n",
      "11837\n",
      "Mt little sister and I are self-proclaimed horror movie buffs. We have seen just about EVERYTHING, especially zombie flicks. Now, we have seen a lot of good zombie movies, and a lot of bad ones. This BY FAR is the WORST movie I have ever seen in my entire life. Not only was the acting horrible, but the special effects, graphics and ever \\zombie\\\" make-up was the worst I have seen. If you can even call it make-up ( black eye shadow around the eyes) This is totally proof that you should never judge a book by it's cover. Cause the cover to the movie is the only sweet thing about. do your selves a favor and DO NOT WATCH THIS MOVIE!!!!!!!!!!!!!!!!!! I was so adamant about this movie I went as far as putting a sticky note on the inside of the movie before i returned it to movie saying \\\"This movie sucks, don't waste your time, return NOW\\\" hahahhaa I don't want anyone else to waste a good movie night on this POS movie! i don't even know how it got the ratings that it did, t should be in the negative\"\n",
      "* * * * * * * * * \n",
      "11896\n",
      "First things first: I'm not a conservative. And even though I would never refer to myself as a liberal or a Democrat, I was opposed to the war in Iraq from day one. I think it's safe to say John Cusack and I would probably see eye-to-eye on politics, in fact, I'm sure we'd become drinking buddies if we ever got to talking about how great Adam Curtis' BBC docs are. My point is this: don't discredit this review by thinking I'm not a part of the choir Cusack is preaching to in War, Inc. There's no question WI's politics are tailored to appeal to my demographic, but the problem is, the tailoring is substandard and the the film Cusack co- wrote, produced and stars in, fits worse than a cheap suit.<br /><br />As they say \\the road to hell is paved with good intentions.\\\" Cusack, his co-writers, director Joshua Seftel and even the actors involved, no doubt had every intention of making an anti- war film every bit as biting and funny as Robert Altman's M*A*S*H, unfortunately for the viewer, they ended up with one as unfunny and unintelligent as Michael Moore's Canadian Bacon.<br /><br />The current state of US politics, foreign policy and the war \\\"effort\\\" is already absurd and, as a result, tragic, pathetic and, regrettably comical -- just watch The Daily Show and see for yourself. The bottom line is: you can't write material as funny as what the Bush administration provides us on a daily basis, so why try to compete?<br /><br />The main problem with WI is that it feels it was put together in a hurry. To get it done, Cusack basically cannibalized Grosse Pointe Blank (one of his best films), changed the setting and crammed in a shopping list of ideas lifted from the collected works of Naomi Klein. Most of these ideas are rammed down your throat in the first twenty minutes of the film and what makes them so obnoxious is none of the jokes or gags or deliberately obvious references to Halliburton, the Neo-Cons and the US occupation of Iraq, are imaginative, clever or funny. The writers are so blinded by their \u0010own dogma they felt that by simply referencing these issues the film would be funny and subversive. The trouble is...it isn't. By now these ideas are yesterday's news and unless you've been living under or rock or are so blinded by ignorance, denial and sheer stupidity (read: a right-wing Christian), these jokes insultingly simple.<br /><br />Perhaps WI would work if it was more nuanced, subversive, offensive and fattened up with detailed research/insights into the Occupation. As it is, the jokes and sight gags are all surface and are so bad, with so little finesse, subtlety or satirical wickedness, they did little more than make me groan. Homer Simpson once said \\\"It's funny 'cause it's true\\\" and The Daily Show proves this every night; War, Inc. however proves that just because it's true doesn't make it funny. The bottom line: hyperbole isn't required when it comes to lampooning US/Neo-Conservative politics...it's already a big enough joke.<br /><br />http://eattheblinds.blogspot.com/\"\n",
      "* * * * * * * * * \n",
      "11906\n",
      "Why would a person go back to a person, who kicks them in the teeth, not once, not twice, but over and over again.<br /><br />This film teaches us that in order to find love we must accept abuse (not just forgive it, but fully accept it). Gosh! No wonder my first relationship only lasted ten years. I obviously wasn't embracing my inner masochist.<br /><br />As Bucatinsky's writing debut, there are many wonderful aspects to this film; however, in order to justify the reunion of Eli and Tom, more character development would have been helpful. We are never acquainted with Eli's masochism, in fact, we are led to believe that he is not a masochist, although Tom's psycho-emotional sadism is highly evident.\n",
      "* * * * * * * * * \n",
      "12219\n",
      "Difficult to call The Grudge a horror movie. At best it made me slightly jump from surprise at a couple of moments.<br /><br />If one forgets the (failed) frightening dimension and looks at other sides of the movie, he is again disappointed. The acting is OK but not great. The story can be somewhat interesting at the beginning, while one is trying to get what's happening. But toward the end one understands there is not much to understand. \\Scary\\\" elements seems sometimes to have been added to the script without reason...<br /><br />So... (yawn) See this movie it if you have nothing more interesting to do, like cutting the carrots or looking at the clouds.\"\n",
      "* * * * * * * * * \n",
      "12300\n",
      "That word 'True' in this film's title got my alarm bells ringing. They rang louder when a title card referred to America's Civil War as the 'War Between the States' (the circumlocution preferred by die-hard southerners). Jesse James -- thief, slave-holder and murderer -- is described as a quiet, gentle farm boy.<br /><br />How dishonest is this movie? There is NO mention of slavery, far less of the documented fact that Jesse James's poor widdered mother owned slaves before the war, and that Jesse and his brother Frank actively fought to preserve slavery. According to this movie, all those Civil War soldiers were really fighting to decide whether Missouri is a northern state or a southern state ... that's ALL. (Missouri: It's a candy mint! It's a breath mint!) Black people are entirely absent from this movie, except for two glimpses of a pair of beggars, one of whom wears a \\HELP THE POOR\\\" sign that's very implausibly typeset instead of handwritten. (Some shots of 19th-century newspapers are inaccurate too, with 20th-century type fonts.)<br /><br />This film has a weird flashback structure. There's some very impressive stunt riding (and some fine work by stunt horses), and one excellent montage. I savoured one line of dialogue: 'Some of those boys will never taste beans again.' The movie gets a few facts straight: Agnes Moorehead, as Jesse's mother, conceals her right arm in the scenes following the raid by the agents of Pinkerton (here called 'Remington') in which Jesse James's real-life mother suffered injuries requiring the amputation of her lower arm. Some errors here are pardonable: during his bushwhacking days, the real Jesse James accidentally shot off part of his left middle finger, but Robert Wagner (in the title role here) does not have a stumpfinger. I've seen a photo of Jesse James's real wife; if she had looked half as glamorous as Hope Lange looks in this movie, Jesse James might have stayed home more.<br /><br />There's plenty of revisionism here, and most of the male actors wear 1950s hairstyles. But many of this movie's errors were avoidable. Jesse James's mentor William Quantrill is mentioned several times, but all the actors mispronounce his name. We see Jesse and his wife moving into an elaborate two-storey house (where he will soon die) after paying a rent of $18. Actually, Jesse James's last residence (at 1318 Lafayette Street, St Joseph, Missouri) was a simple one-storey cottage, renting for $14. There was no upper storey ... so, when Jesse James is killed, his wife could not come running from upstairs as Hope Lange does here. (She was actually in the kitchen.)<br /><br />One continuity error: Robert Wagner (with no stunt double) does an impressive job of taking a slug to the jaw and falling over while his hands are tied behind his back ... but when he gets up, the rope binding his wrists has vanished.<br /><br />The screenplay does some weird and unnecessary juggling of dates. Following the Northfield robbery attempt, Jesse says he expects to get home by his birthday. The actual Northfield bank raid by the James Gang (7 September, 1876) was two days AFTER Jesse James's birthday. (Maybe he meant next year's birthday.) Later, we see Jesse and his wife moving into their St Joseph home on a fine summer day, while Jesse tells her what he plans to do when Christmas Eve arrives ... but in real life, Mr and Mrs Jesse James moved into that house on 24 December, 1881 ... so this scene should *BE* on Christmas Eve! These errors were entirely avoidable.<br /><br />Some of the fictionalisations here don't make sense. According to this movie, the Northfield bank raid failed because one (fictional) henchman was late in cutting the telegraph wires. If this had actually happened, it would indeed have hampered the James Gang's getaway ... but it wouldn't have affected the robbery itself, which failed for other reasons.<br /><br />There are good performances here by Jeffrey Hunter (as Frank James), Moorehead, Alan Hale Jnr (as Cole Younger) and by stage actress Marian Seldes in a rare screen role. I was disappointed by Robert Wagner, normally an under-rated actor. Elsewhere, Wagner has proved his impressive range by convincingly portraying heroes, villains and morally ambiguous characters. Here, he can't seem to decide whether to depict Jesse James as a goodie or a baddie ... so he doesn't much bother. John Carradine phones in his performance in a brief role as a fictional jackleg preacher who baptises Jesse and his wife at their wedding. In fact, Jesse James was baptised in childhood by his uncle, a Methodist minister ... but perhaps this second baptism is a topping-up.<br /><br />Jesse James was no Robin Hood. (I doubt that Robin Hood was Robin Hood either, but that's another story.) There is not one single documented instance of Jesse James ever sharing his loot with anyone beyond his own family. After some of his hold-ups, he didn't even split the swag with the rest of his gang. In this movie, Jesse gets gunned down right after he vows to give up his bandit ways forever. In reality, the night before his death, Jesse James and the Ford brothers stole horses that Jesse planned to use the next day in a robbery of the Platte City bank. As preparation for most of his robberies, Jesse James stole horses from local farmers ... the same poor folk who (in the inaccurate legends) were supposedly the beneficiaries of his largesse. I cringed at one scene here, in which the fictional Jesse James is so gol-durn refined that he disapproves of an oil painting which tastefully depicts nudes.<br /><br />'The True (not much!) Story of Jesse James' is wilfully dishonest about a thieving murderer, and likewise dishonest about the Civil War. For the very impressive stunt work, one good montage and a few fine acting turns, I'll rate this obscenely dishonest movie 2 points out of 10.\"\n",
      "* * * * * * * * * \n",
      "12469\n",
      "Ye Lou's film Purple Butterfly pits a secret organization (Purple Butterfly) against the Japanese forces in war torn Shanghai. Ding Hui (Zhang Ziyi) and her ex-lover Hidehiko Itami (Toru Nakamura) find themselves on opposite sides of the conflict after a chance meeting.<br /><br />I agree with the reviewer from Paris. The film substitutes a convoluted, semi-historical conflict for a plot, without giving the audience a single reason to care about the characters or their causes. The sudden time shifting doesn't help matters as it appears completely unwarranted and pointless. Normally I don't mind dark movies, but the absence of light, the bone-jarringly shaky camera footage, and the generally bad film-making techniques really make this a tough film to watch and stay interested in. I also agree with the viewer from Georgia that this film \\has a chaotic editing style and claustrophobic cinematography\\\", but I don't think that helps the movie. The backdrop to the film is one of the most potent events of the 20th Century, and I don't believe you can do it any justice by editing it as if it were a Michael Bay film. The overly melodramatic moments don't add to its watchability.<br /><br />The actors are all suitably melancholy. Zhang Ziyi once again shows that she has an exceptionally limited acting range as she spends the entire movie doing what she seems to do best in all her films, brooding and looking generally annoyed. However, at least she adds some variety to this role by chainsmoking and engaging in the worst love-making scene since Michael Biehn and Linda Hamilton in The Terminator.<br /><br />All in all, a very disappointing film, especially seeing as how it comes from the director of Suzhou He. 2/10\"\n",
      "* * * * * * * * * \n",
      "12521\n",
      "Spinal Tap was funny because if you knew a little about heavy metal, you saw in-jokes all over the place. If you know anything about porn, this mock documentary will leave you cold. Everything in it rings false.<br /><br />Spinal Tap was funny because it took a familiar world and pushed it over the top. This film is decidedly not funny because it paints a picture of how porn is made that bears no relationship to the real world.<br /><br />The acting here is uniformly awful, but that would not matter much if the core idea of the movie were good. But it's not.\n",
      "* * * * * * * * * \n",
      "12575\n",
      "One thing that astonished me about this film (and not in a good way) was that Nathan Stoltzfus, who seems to pride himself on being the major historian on the topic of the Rosenstrasse, was one of the historians working on this film, considering how much of the actual events were altered or disregarded. <br /><br />Another reviewer said that von Trotta said she never meant for Lena to bed Goebbels, but in that case, why did she give every impression that that was what had happened? Why not show other possible reasons for the mens' release, such as the disaster that was Stalingrad, or the Nazis' fear that the international press, based in Berlin, would find out about the protest.<br /><br />Also, why did the whole storyline play second fiddle to a weak family bonding storyline that has been done over and over again? Surely something as awesome as this could carry its own history! In places, it was as if the film had two story lines that really seemed to have little in common.<br /><br />Overall, this film failed in its aim, which was to draw attention to a little-known act of resistance, which is a shame, because done better, it could have had a major impact.\n",
      "* * * * * * * * * \n",
      "12593\n",
      "As myself and my other half are big fans of trash horror we couldn't resist getting out a movie that contained both of the greats we were thrilled! However for a 2004 movie with a rip off cover of Freddy Vs Jason this is a disgrace! The worst film I have ever seen but worth a look for a laugh if you are able to sit through it!<br /><br />The acting is awful the effects...well I could do better on my camcorder in fact its so bad they only bothered to put make up on the zombies faces and left out neck, hands etc. No story line, weird flashbacks that make no sense and terrible script!<br /><br />\\you broke my tooth!\\\" from one vampire \\\"you broke my cigar\\\" was the response from the human who looked like uncle Jessie from Dukes crossed with Santa!\"\n",
      "* * * * * * * * * \n"
     ]
    },
    {
     "name": "stdout",
     "output_type": "stream",
     "text": [
      "12678\n",
      "Now, I flicked onto this just out of curiosity and had to keep watching - in the same way that you watch a car crash...<br /><br />I appreciate the fact it's a spoof, but that should not stop me from criticising the god-awful directing, acting and dialogue. Seriously, this rated as one of the poorest movies I have seen - it looked more like an episode of Tales from the Cryptkeeper, and a poor one at that...<br /><br />Okay - a few criticisms (1) when the doctor had his heart attack in front of the monster (we never see the monster attack him, so we assume its a heart attack), the army then launch shells, rockets, bullets at the monster - which was feet from the doctor - yet the doctor is not touched by any missile and is still alive (2) the army attack from about 100 yards away, and we see a flame-thrower being used - geez, those things have a range of no more than 30 metres! (3) when the monster tries to take the professor, the soldiers run into the classroom and fire into the ceiling; the monster drops the kid, and the soldiers don't try to shoot the monster??? come on! (4) the monster looks like it something out of Power Rangers! (5) there is one scene where the five \\good guys\\\" (the priest, the girl, the doctor, the reporter and the kid) all look shocked and we get reactions (along the lines of hand to mouth) one after the other - so natural! (6) the general just runs away, time after time (7) the general refuses to try electricity and wouldn't listen (8) the acting is awful (9) did I mention the rubber suit monster???? (10) that god-awful music, non-stop!\"\n",
      "* * * * * * * * * \n",
      "12702\n",
      "Iberia is nice to see on TV. But why see this in silver screen? Lot of dance and music. If you like classical music or modern dance this could be your date movie. But otherwise one and half hour is just too long time. If you like to see skillful dancing in silver screen it's better to see Bollywood movie. They know how to combine breath taking dancing to long movie. Director Carlos Saura knows how to shoot dancing from old experience. And time to time it's look really good. but when the movie is one and hour it should be at least most of time interesting. There are many kind of art not everything is bigger then life and this film is not too big.\n",
      "* * * * * * * * * \n",
      "12799\n",
      "And how it made it into production astounds me. The main character is an obnoxious show off who isn't the least bit funny. I can't stand the character at all. He's a dumb ass with nothing to offer the show. <br /><br />This is the worst cartoon to surface in the last 10 years, no joke. The story lines are both poorly written and executed. The jokes are as bad as the ones on Disney's Sweet Life of Zack and Cody. I could not dislike this show more, it's terrible and should be canceled. Even the theme song is bad. The title, even worse.<br /><br />It's as though this show is written by a couple of 15 year olds that based the character on themselves and think they're hot stuff when they're really just arrogant and lack creativity as well as humor.<br /><br />Johnny Test, go away far and fast!\n",
      "* * * * * * * * * \n",
      "12832\n",
      "THHE remake was a superior movie remake in every way. Most remakes end up being total garbage but under the very talented direction of Alexandre Aja became one of the best ever made in terms of remakes and also as far as the mutant inbreed human sub-genre of horror is concerned. In steps part 2 directed by another individual Martin Weisz and written by the father and son combo of Jonathan and Wes \\I cannot make a good horror movie to save my life anymore\\\" Craven and if this is any indication of Weisz directing skills and young Craven's writing skills we are all in for a painful future as THHE 2 not only fails to be as good as the first but also fails to entertain on ANY level.<br /><br />We start off with a fairly graphic mutant baby birth which though is rather cool will not prepare you for the utter garbage that is to come, only hint to what could have been in this film. We then get to see a crew of scientists who all to briefly are introduced and dispatched by our radiated rejects. In steps our main cast of army reservist to save the day, this is where the major problems begin.<br /><br />From very sub par acting (yes even for this kind of movie) to the horrible characters to the lack of true carnage for most of its running time THHE 2 becomes a labor to watch as a lot of nothing happens as idiotic soldiers make mistake after mistake only to meet there demise not by the mutants but themselves. Think the Marines in Aliens only the exact opposite and you have the idea of how well these soldiers are trained. This is the true shame of the film as most of the Hills occupants do not get the kills you would like to see, like in the first film, in fact if this did not have THHE 2 attachment in the beginning and the brief overview in the beginning tying this loosely to the first this could have nearly been a Sci-Fi Channel original.<br /><br />The Mutant Mountainbillies as well are not as amusing this time around in fact in a lot of way they are far inferior to our prior batch as they all come off as being rather under designed and uninteresting. Also the one that took the cake was the Sloth-like Mutant (you know Sloth from the Goonies) who helps them out in the 3rd act. I was waiting for him to ask for a Baby Ruth or start going on about Rocky Road Ice Cream. Truly disappointing and shameful is the only way to describe most of the goings on here.<br /><br />The gore is in the film but not nearly as visceral as the original in fact it seemed toned down for the most part as other than the mutant baby birth scene there really isn't anything that stood out like in the first. Another major strike against this movie. So what did work here, the answer is nothing at all. This felt like a sequel designed specifically to make money off the success of the first and not to make an actually \\\"good\\\" film.<br /><br />I can go on about the crappy Drill SGT., the radio man that has a speech impediment (that's right, he is the kind of guy I want radioing in for help in a real crisis) or the pacifist fighter that resembles the exact same character mold as our \\\"hero\\\" in the first film but I believe you get the point. This movie is not even in the same league or even the same planet as the first. It should have been given another title and been added to the Saturday Night Line up on The Sci-Fi Channel. A true shame as a solid sequel could have been made but alas it looks like another horror movie that drops the ball on nearly every level and will get one of my lowest scores as I give THHE 2 the same score as its part: 2/10 Dreadful: Words cannot describe how bad this movie is a total polar opposite of its predecessor in every way, uninspired and down-right unnecessary. Next time guys if your going to make a sequel this bad...don't even bother. Please don't go support this garbage at the theaters, save your money and thank me later!!!!\"\n",
      "* * * * * * * * * \n",
      "12991\n",
      "My brother is an avid DVD collector. He took one look at the cover (two models on toilets) and had to add it to his collection. I stayed up with him to watch what turned out to be likely the most cringeable movie (I use that term loosely) I've felt obligated to sit through. I dared not make eye contact with my brother, quite certain he must have been cursing the receipt in his clenched fist. The biggest name in the whole movie is Michael Clark Duncan who appears in one scene, which the \\filmmaker\\\" decided to show every take of (about four total) throughout the movie. In fact, the whole movie pretty much follows this suit. The fact that the DVD contained deleted footage was a shock. (I went to bed without viewing it, however). To no surprise at all, I found this disc without its case behind the TV about a week later.\"\n",
      "* * * * * * * * * \n",
      "13046\n",
      "I cannot believe that I wasted five hours of my life on this rubbish. The previous five day offering by this author was highly enjoyable and I was really looking forward to this. But most of the dialogue was completely incomprehensible. Suranne Jones was the principal culprit since she either mumbled or gabbled her lines, but most of the rest of the cast followed her example. Notable exceptions were Bernard Hill and Anne Reid, old stagers whose diction was exemplary. Do producers not listen to productions before they are aired to make sure the dialogue is audible? As a result I suppose I lost track of what was going on, and since the original plot line seemed to metamorphose into to the standard them-and-us thing between Muslims and the rest I soon lost interest. The ending was a complete anti-climax. A complete dud.\n",
      "* * * * * * * * * \n",
      "13049\n",
      "A family moves into a old house in Japan. But there's a catch it's haunted (BOO!!!). Aw, didn't mean to make you jump. It's only a review. Settle back down. Ahem, now anyways it's haunted by an old samurai who killed his wife & her lover in slow motion. This naturally makes a 3 minutes scene stretch out to about 7 or 8. Horrid acting. Horrid story. But How bad can it be you ask? Well it was SO bad my brain started to melt & leak out through my nose in thoughtful drips. It was SO bad whenever Doug McClure came on-screen I prayed that i had flashbacks of Small Wonder (Yes, i know Doug was in \\Out of this world\\\" & not \\\"small Wonder\\\", but it's pretty much the same damn show, & i can hum the \\\"small wonder\\\" theme better) There are movies that are so bad they're good. this isn't one of those<br /><br />Where i saw it: Showtime Beyond<br /><br />My Grade: F-<br /><br />Eye Candy: Mako Hattori gets topless,Susan George gets 2 love scenes ( one nude, one just topless)<br /><br />\"\n",
      "* * * * * * * * * \n",
      "13083\n",
      "There is a really good movie lurking just beneath the surface of the layers upon layers of cheese that is \\the Pagemaster\\\".<br /><br />I found this out when I watched this again this morning after neglecting it for years and years. I remember hating it with a passion when it first came out, but this time, I found that the special effects are quite good. The plot is just \\\"the Neverending Story\\\" with a creativity-endectomy, but it's an okay little flick for anyone who just wants some really awesome eye-candy. The animation is amazing, and I especially liked how the animators let their characters look and act a bit more surrealistic than the norm. I'm giving it a grade of three as I *would* have given it a two (just for parody value) if I had ever decided to watch this movie expecting it to absolutely blow my mind story-wise.\"\n",
      "* * * * * * * * * \n",
      "13109\n",
      "Without question, the worst ELVIS film ever made. The movie portrays all Indians as drunk, stupid, and lazy. Watch ELVIS's skin change color throughout the film.\n",
      "* * * * * * * * * \n",
      "13136\n",
      "When I saw that this movie was being shown on TV, I was really looking forward to it. I grew up in the 1980's and like everyone else who has grown up in that era, have seen every 80's teen and summer camp movie out there. So I couldn't wait to see this movie that totally spoofs that film genre. What a disappointment!! The movie was nothing but a bunch of really bad jokes and gags over and over, with hardly any plot and no substance. And the filmmakers attempts at dark humor totally failed-some of these so-called jokes didn't come across as anything but downright cruel and offensive. The only good things about this film were the wardrobe, music, and acting. It was nice to go on a nostalgia trip and see all of the summer clothing styles from the 80's, and the same goes for the music. And the acting was top-notch throughout: almost all of Hollywood's best comedians were present. Too bad they didn't have better material to work with.\n",
      "* * * * * * * * * \n",
      "13329\n",
      "Saturday Night Live, National Lampoon, and SCTV alumnus are all together in a sometimes funny sketch film.<br /><br />However, it is very interesting to watch now, at the start of 2005. Twenty years after this movie is supposed to take place, look at how many of their gags have become absolutely true: There is a mock movie trailer, that probably wasn't even clever at the time, for something called \\The Pregnant Man\\\" which came true with Arnold Schwarzenegger's dumb movie \\\"Junior\\\" There is a commercial spoof, that probably wasn't even clever at the time, for something featuring Sammy Davis Jr. and Jackie Onasis called \\\"Celebrity Wrestling\\\" which has now come true with a popular show called \\\"Celebrity Boxing\\\" There is a mock movie trailer, that probably wasn't even clever at the time, that features John Candy in a movie about a severed head. Watch this trailer and look how similar it's shots and plot are to Frank Hellenlotter's Basket Case!! And finally there is an ad for a late late show documentary about \\\"a dead dream, the only two left ...\\\" The name of the documentary is ... THE LAST HIPPIES! LOL.<br /><br />Four prophecies come true!\"\n",
      "* * * * * * * * * \n",
      "13335\n",
      "A sad, sad sight indeed is The Munster's Revenge. The Munsters are brought back one last time(Fred Gywnne received a huge paycheck to come back to the role of Herman Munster)in this made-for-TV movie about a pair of wax replicas of Grandpa and Herman that are robots \\terrorizing\\\" the city as preparation for a robbery of a mummy's stash at an exhibit. With the police on their heels, the two elderly television icons try to find out who is actually behind the crimes in order to clear their names. We get to see them dress in drag as waitresses(a minor highpoint in the film), grandpa turns into a bat with attached wire a couple times(one time even flying to Transylvania with Herman somehow invoking his frequent flyer miles I guess), and a most annoying relative \\\"the Phantom\\\" constantly sings and breaks glass ad nausium! What is most sad is hard to pinpoint: is it that Gywnne(especially) and Al Lewis look so haggard in every scene and so indifferent to the material. Is it the hokey costumes of the robots that have that school production values look about them. Maybe it is the ridiculous script. Sid Caesar's crazy, mostly unfunny antics. Or perhaps it is seeing something which brought me joy and fond memories as a child being treated to a super K-Mart fashion makeover. At any even, the result is decidedly disappointing and silly even for Munster standards. As for the rest of the cast, Yvonne De Carlo is adequate in a most vacuous role(though showing more cleavage than usual for a woman of her years and experience). K. C. Martell makes an ever-so-not affable Eddie Munster. Jo McDonell is an attractive Marilyn. Bob Hastings as the aforementioned Phantom looks and acts and speaks in the most absurd manner. The film has a real cheap feel about it even for a made-for-TV movie.\"\n",
      "* * * * * * * * * \n",
      "13464\n",
      "Oh a vaguely once famous actress in a film where she plays a mother to a child . It`s being shown on BBC 1 at half past midnight , I wonder if ... yup it`s a TVM <br /><br />You`ve got to hand it to TVM producers , not content on making one mediocre movie , they usually give us two mediocre movies where two themes are mixed together and NOWHERE TO HIDE is no different . The first theme is a woman in danger theme cross pollinated with a woman suffering from the pain of a divorce theme which means we have a scene of the heroine surviving a murder attempt followed by a scene having her son Sam ask why she divorced ? And being a TVM she answers that the reason is \\ That people change \\\" rather than say something along the lines like \\\" I`m a right slapper \\\" or Your daddy cruises mens public toilets for sex \\\" as does happen in real life divorce cases . And it`s young Sam I feel sorry for , not only are his parents divorced but he`s as thick as two short planks . Actually since he`s so stupid he deserves no sympathy because he`s unaware that a man flushing stuff down a toilet is a drug dealer , unaware that you might die if someone shoots at you , and unaware that I LOVE LUCY is painfully unfunny . If only our own childhoods were so innocent , ah well as Orwell said \\\" Ignorance is strength \\\" . Oh hold on Sam is suddenly an expert on marine life ! Is this character development or poor scripting ? I know what one my money`s on . And strange that Sam the boy genuis hasn`t noticed that if the story is set in 1994 then why do people often wear clothes , drive cars and ride trains from the 1950s ? But as it turns out during a plot twist it`s the mother who`s the dummy . Then there`s a final plot twist that left me feeling like an idiot for watching this\"\n",
      "* * * * * * * * * \n",
      "13475\n",
      "VERY BAD MOVIE........and I mean VERY BAD...THe plot is predictable, and it's EALLY cheesy, the creativeness of the battle and the dance scenes for the time are the only reason I didn't give the movie a one, other than that...this is def a movie one can def afford not to watch.....I feel while watching the movie, the idea behind the movie was an interesting one tho kind of cliché....bringing country bumpkins to the city blah blah blah, but I feel it might have been at least a little better if it just wasn't so cheesy, very poorly portrayed from idea to screen, i think. The Plot is somewhat predictable at times, tho the dancing I can say AT TIMES, is pretty good, The break dance battle twist was good.....IF u just pop the movie and watch the dance scenes and make up your own dialog maybe it can be a 5...lol\n",
      "* * * * * * * * * \n",
      "13496\n",
      "I notice that most of the people who think this film speaks the truth were either not born before the moon landings (1969-1972), or not old enough to appreciate them. I think it is much easier to question an historic event if you did not live through it.<br /><br />I was a youngster at the time of Apollo, but I was old enough to understand what was going on. The entire world followed the moon landings. Our families gathered around the TV to watch the launch. Newspaper headlines screamed the latest goings-on each day, from launch to landing, from moonwalks to moon liftoff, all the way to splashdown, in a multitude of languages. In school, some classes were cancelled so we could watch the main events on TV. During Apollo 13 the world prayed and held its collective breath as the men limped home to an uncertain fate. You couldn't go anywhere without someone asking what the latest was. The world was truly one community. <br /><br />Now with a buffer of 30-odd years after the fact, it is easy to claim fraud because worldwide enthusiasm and interest has died down. We are left with our history books, and anybody can claim that history is wrong and attempt to \\prove\\\" it with a bunch of lies and made-up facts while completely ignoring the preponderance of evidence showing otherwise--not to mention the proof that dwells in the souls and memories of those who lived through these wonderfully heady and fantastic days.\"\n",
      "* * * * * * * * * \n",
      "13500\n",
      "It seems the makers of this film had trouble deciding what their message really was. Consequently, they had even more trouble delivering it. They began by poorly describing principles of quantum physics which relate to sub-atomic particles. Having established a fuzzy picture of Heisenberg's Uncertainty Principle, they presented a barrage of talking heads who built a case of ridiculous logic intimating that every living person is an entity which follows the same quantum rules on a cosmic scale. Then there was a lot of talk about ideas upon which Stephen Covey and Tony Robbins have made their careers: positive thinking, interrupting bad patterns, always look on the bright side, etc. Next came a bit about how our brains can change our bodies through production of proteins: hormones which we more or less choose to create. If you are sad, you will create sad proteins. If you are happy, you will create happy proteins. It's just so simple, isn't it? Interwoven with our lessons we follow the fictitious life of Amanda, a photographer who pops anti-depressants and hates her thighs. The film makers slowly but surely were trying to get us all to say, \\Hey, Amanda, just cheer up!\\\" Why can't she cheer up? Obviously it's because the world is a BAD place where there is crime and poverty and religion, that's why. The conclusion of the film (which is basically the entire second half) brought on a barrage of contradiction. We are all a part of a whole energy where we are not beings, but a collective consciousness, but we are individuals who can change the world, but there are many of each of us because of all the different dimensions, but we can choose who we are, and we have a purpose to do good, but there is no god because there is nothing better than us, so there is no such thing as right and wrong, so there is no such thing as reward or punishment, so nothing good ever came out of religion, but we should still do good anyway, even though there is no such thing as bad and good because there is nobody to decide what that is, except for the fact that we each can make life good if we all meditate, and then crime will cease, and if we say nice things, our water will freeze into pretty shapes. Still with me? Good because there is more. According to Robert L. Park in his book \\\"Voodoo Science\\\", the whole meditation experiment put on by John Hagelin in Washington, D.C. was a farce, the numbers were doctored, and the murder rate was higher that year that any year before or since. And what about your positive attitude keeping you young and healthy? This was a message delivered by an older man who looked his age and a woman who was overweight.<br /><br />So does all this work or not? I was lucky enough to see the film at a theater where Betsy Chasse, one of the film's three directors (yes, three) fielded questions following the show. I call myself lucky because I had first-hand confirmation that these people don't know what they are talking about. Several of the questions asked by audience members had her so stumped that her husband, a chiropractor, had to step in and recite the answer. I finally had to leave when the discussion inevitably turned political, and everyone, including Ms. Chasse, began speculating as to how wonderful the world would be if only President Bush could see this movie.\"\n",
      "* * * * * * * * * \n",
      "13507\n",
      "First of all, the actor they have to play Jesus has blue eyes... half the actors they have playing Jews have blue eyes. Aren't there enough brown-eyed actors out there? Jesus being depicted as having blue eyes is one of my pet peeves. He was a full-blooded Jew! Second of all, what is it with old English-language movies that are supposed to take place in non-English-speaking countries, and everybody has English accents? (Another example is David Lean's \\Dr. Zhivago\\\".) Aren't there enough either Jewish actors or actors who can do a Israeli accent? The movie often is not true to the Scriptures, and so seems to doubt the legitimacy of Jesus's claim to be the Messiah. In the bible, when Jesus is baptized by John, a voice comes from heaven saying \\\"This is my beloved son, in whom I am well pleased\\\" (Matthew 3:17, Mark 1:11, Luke 3:22). In the movie, John the Baptist says this! The screenwriter seems to be trying to portray the believers as crazy, as well. For example, in the bible, the angel Gabriel tells Mary she will become pregnant with the Son of God (Luke 1:26-38), but in the movie, we do not see or hear any angel - Mary appears to be talking to a moonbeam, and when Mary's mother hears her talking to someone and peeks in on her, she doesn't hear or see anyone either. Also, in the movie, when Jesus is speaking to the Pharisees in the Temple in Jerusalem, he says, \\\"You shall not see me here again, not until you learn to cry, 'Blessed is he who comes in the name of the Lord', for I and my father are one and the same.\\\" The correct line (Matthew 23:39 and Luke 13:35)is \\\"You will not see me again until you say, 'Blessed is he who comes in the name of the Lord.'\\\" Period. Jesus never claimed to be God. The movie cuts out a lot of important parts (the Sermon on the Mount is very expurgated), but then spends a lot of time on stuff that isn't even in the bible (a whole scene with Mary Magdalene talking with a john). It seems like the screenwriter, instead of wanting to do a movie version of the Scriptures, wanted to make a movie about what he thinks might have really happened behind (and between) the scenes. The movie has one gem though - during the scene where Jesus tells the parable of the Prodigal Son, at Matthew the tax collector's house, I had tears streaming down my face. It is the best movie I've seen about Jesus's ministry (but that isn't saying much, because the others are just terrible). \\\"Jesus Christ Superstar\\\" is my favourite movie about Jesus's last days (\\\"The Passion of the Christ\\\" is way too graphic), though I like how \\\"Jesus of Nazareth\\\", instead of just ending with Jesus's death, continues on and shows his resurrection.\"\n",
      "* * * * * * * * * \n",
      "13526\n",
      "I watch bad movies.<br /><br />This movie is not good enough to be a bad movie. Not an ounce of humor, not an ounce of talent throughout.<br /><br />I am LAZY.<br /><br />Usually, I see a bad movie and curse. This was so bad, I actually made a review to try and save others from the completely boring mess I fell victim to.<br /><br />I am smashing my copy of this movie.<br /><br />It's too lame even to use clear a room. So boring. Watch 'Bloodsucking Freaks' or 'Shock, shock, shock' for absolute crap that has some merit as entertainment. This sludge looks awful, is awful, and whoever made it should feel awful.\n",
      "* * * * * * * * * \n",
      "13678\n",
      "It was obvious that this movie is designed to appeal to the Chick Flick audience, to which i have sat through quite a few and enjoyed most. However, this was a very irritating attempt by Heather Graham to become the next Meg Ryan ( who became annoying as hell in her own right ). Her acting was overdone and it appeared that she was overanxious compared to her colleagues who were relaxed in their roles. This film might have been more, as there was suitable budget for settings, actors and a decent story line. My wife and I both agreed that this was 'Muck' at the end, as the film ended on a painful embarrassing high! Better luck next time, hope Miss Graham sticks to the type of films that she belongs in like From Hell.\n",
      "* * * * * * * * * \n",
      "13749\n",
      "VILLA RIDES (1968) turns out to be something of a big disappointment! And even though Sam Peckinpah had a hand in the screenplay, along with Robert Towne, it still emerges as a leadenly written movie dryly directed by the undistinguished Buzz Kulik. Firstly, top billed Yul Brynner as Pancho Villa is wrong for the part! He's not charismatic enough to play the great Mexican revolutionary! His one note performance lacks the fire and gusto Anthony Quinn or Gilbert Roland could have brought to the role. Brynner simply looks like a Russian aristocrat dressed up like a Mexican bandit who is in the middle of the Mexican revolution instead of the Russian one. Also, second billed Robert Mitchum is totally wasted in the picture! His part as a biplane flying ace lobbing home-made bombs from the air in the cause of the revolution is a poorly written meager role that could have been played by any minor star. Mitch hasn't a decent line in the entire movie and brings to one's mind his other Mexican revolution picture the far superior \\Bandido\\\" (1956) which unfortunately nobody seems to have any interest in releasing on DVD. Besides lacking any kind of style \\\"Villa Rides\\\" also suffers badly without the presence of a female star! There is starlet Grazia Buccella as a young Mexican girl who gives Mitchum the glad eye but her casting is merely perfunctory. Someone like Claudia Cardinale or Jean Peters could have perhaps added a couple of badly needed notches to the faltering story line.<br /><br />There are a couple of good action scenes in the movie but a couple of good action scenes do not a movie make and the less than perfect Panavision picture quality plus the over repetitive Maurice Jarre theme tune doesn't help matters.<br /><br />As is Paramount's wont there are no extras - not even a trailer! Yup, a disappointing movie and DVD presentation that could have been and should have been a whole lot better.\"\n",
      "* * * * * * * * * \n",
      "14037\n",
      "Most action films are crass of Hindi cinema, especially of Sunny and his family <br /><br />The film is typical Sunny type with bashes, big dialogues and melodrama<br /><br />The film also has typical Rajiv Rai ingredients of many henchmen and a weird villain<br /><br />The starting is okay and then the shift to Kenya is good but then the film goes on and on <br /><br />The sequence of events move at a slow pace and nothing that great happens<br /><br />They are many stupid scenes like the Kenya policemen are shown like jokers especially Sharat<br /><br />The climax too is prolonged<br /><br />Rajiv Rai does an okay job Music is okay, only 1 song works and that is the last TOOFAN Camera-work is good<br /><br />Sunny Deol is as usual, Chunky acts like a monkey while his serious scenes are laughable, Naseer is alright heroines are pure wood Amrish Puri is not even half as scary as he was in TRIDEV the rest are okay\n",
      "* * * * * * * * * \n",
      "14123\n",
      "Words can't describe how bad this movie is. I can't explain it by writing only. You have too see it for yourself to get at grip of how horrible a movie really can be. Not that I recommend you to do that. There are so many clichés, mistakes (and all other negative things you can imagine) here that will just make you cry. To start with the technical first, there are a LOT of mistakes regarding the airplane. I won't list them here, but just mention the coloring of the plane. They didn't even manage to show an airliner in the colors of a fictional airline, but instead used a 747 painted in the original Boeing livery. Very bad. The plot is stupid and has been done many times before, only much, much better. There are so many ridiculous moments here that i lost count of it really early. Also, I was on the bad guys' side all the time in the movie, because the good guys were so stupid. \\Executive Decision\\\" should without a doubt be you're choice over this one, even the \\\"Turbulence\\\"-movies are better. In fact, every other movie in the world is better than this one.\"\n",
      "* * * * * * * * * \n"
     ]
    },
    {
     "name": "stdout",
     "output_type": "stream",
     "text": [
      "14358\n",
      "This film is pure, distilled, unadulterated boredom. I knew nothing of it before I entered the dark room, took my seat. I was seduced by the \\mysterious and suspenseful\\\" blurb on the poster I suppose. Also, Lena Headey is nice and unconventionally sexy, and Richard Jenkins is always a reliable guy to have around, so the cast seemed reasonable. It may have been his name above the title that convinced me to go with this instead of whatever else was on. I should've gone to see Valkyrie for the second time instead.<br /><br />The thin plot revolves around Headley's Gina McVey, her boyfriend, her father, her sister and her sister's husband who for some reason are being stalked, in a very louche and unenthusiastic manner, by their evil doppelgangers who emerge from mirrors that mysteriously smash. There could be a great film behind this idea (not exactly an original idea, mind you, but still...) and in fact, if the filmmakers had shorn away all the supporting cast and simply stuck to Headey's character's story, The Broken could've made a reasonable 20-minute short. As it is, it is desperately unmotivated and boring, and terribly inconsistent.<br /><br />For instance, in one scene, a mirror smashes on its own in a room housing all the main characters; they look puzzled but quickly forget about it. In another scene, a mirror smashes in an empty room, and a doppelganger is visible as she \\\"steps out\\\" of the shards left hanging on the wall. So why did the first mirror smash if no creepy crawly was to come crawling out? Just for a little thrill? There are far too many scenes of the characters in the dimly-lit London flats, peering around corners cos they thought they heard something, but seeing nothing there and moving on. We begin to wonder, why doesn't this malevolent doppelgang actually ever want to try to scare them? Scare the characters and you have a chance of scaring the audience. But we, the audience, will need to start threatening each other, in the darkness of the theater, if we want to have any thrills during The Broken. By the way, once we've spent time with these evil doubles, we are totally bemused as to why anyone should be expected to be frightened of them - they just stand around, blank looks on their faces, perhaps totally harmless after killing their others.<br /><br />There are some nice moods and touches throughout, and I dare say director Sean Ellis could fashion a genuinely stylish and suspenseful mystery movie if he was to hire an imaginative screenwriter next time.\"\n",
      "* * * * * * * * * \n",
      "14452\n",
      "Jason Alexander is a wonderful actor, but it's ridiculous to cast him as a cuddly romantic lead. The fact that he dances so well, croons so effectively, and throws himself into the part so completely somehow just made him seem all the more creepy. In his more cutesy moments (with the girl in the train station, in the final number with Rosie), I couldn't take my eyes off him he was so repellent. You keep expecting him to drop the nice-guy act and start snarling. Vanessa Williams was the real star, the only performance that was better than the 1963 movie. By the way, if you see a production of the stage musical, the 1963 movie and this 1995 movie, you'll see three versions that have more revisions (different songs, same songs assigned to different characters and in different situations) than any other musical I've ever seen.\n",
      "* * * * * * * * * \n",
      "14615\n",
      "Anyone who thinks this film has not been appreciated for its comic genius must have been smoking with the two stoners in the film. This film is NOT under-rated...it is a bad movie. <br /><br />There should be no comparisons between this film and The Naked Gun or Airplane since the latter two films are well written and funny. Class Reunion is neither of those things. The sad thing is it had such potential (good cast, good story lines) but the good jokes are few and far between. The scenes that were supposed to be funny came off more annoying than amusing. The stoner guys, the vampire, the blind girl...NOT FUNNY. The only funny character were Delores (the one who sold her soul to the devil).<br /><br />National Lampoon has made some really good films (Animal House, Vacation) but this isn't one of them. I certainly expected more from John Hughes.\n",
      "* * * * * * * * * \n",
      "14942\n",
      "<br /><br />What an absolutely crappy film this is. How or why this movie was made and what the hell Billy Bob Thornton and Charlize Theron were doing signing up for this mediocre waste of time is beyond me. Strong advise for anyone sitting down to catch a flick: DO NOT waste your time on this 'film'.\n",
      "* * * * * * * * * \n",
      "15044\n",
      "I thought I had seen this movie, twice in fact. Then I read all the other reviews, and they didn't quite match up. A man and three young students, two girls and a boy, go to this town to study alleged bigfoot sightings. I still feel pretty confident that this is the movie I saw, despite the discrepancies in the reviews. Therefore I'm putting my review back: If you like the occasional 'B' movie, as I do, then Return to Boggy Creek is the movie for you! Whether it's setting the sleep timer, and nodding off to your favorite movie-bomb, or just hanging out with friends. Boggy Creek, the mute button, and you've got a fun night of improv. Look out! Is the legend true? I think we just might find out, along with a not-so-stellar cast. Will there be any equipment malfunctions at particularly key moments in the film? Does our blonde, manly, young hero have any chest hair? Will the exceptionally high-tech Technicolor last the entire film? You'll have to watch to find out for yourself.\n",
      "* * * * * * * * * \n",
      "15074\n",
      "Gee, what a crappy movie this was! I cannot understand what people find so scary about \\The Grudge\\\". The director plays one trick (I'd have to admit a very good one, that is brought to life very stylized) and then he repeats it for the rest of the movie over and over again. As a consequence I startled a few times in the first quarter of the movie, but once I knew the drill I practically fell asleep as The Grudge grew more and more predictable by the minute. To conclude, I can say that there are a lot better movies in the genre to begin with, that the so-called predecessor \\\"The Ring\\\" was way scarier and that buying a ticket for \\\"The Grudge\\\" is a waste of money.\"\n",
      "* * * * * * * * * \n",
      "15212\n",
      "I ended up watching this movie before even going through any of the reviews, on the request of a female. Just out of curiosity, I thought, let me find out if there are people who actually recommend others to watch this movie. I am quite shocked to find such long and positive reviews on this website that makes me conclude that it's a scam.<br /><br />As far as my opinion goes, I have to ask,\\are these filmmakers retarded or do they assume that the viewers are retarded?\\\" The movie is atrocious on so many levels and I'm not even talking about the story or presentation.<br /><br />So, these bunch of guys plus one girl (the lead actress) form a Music band; guessing from the constant presence of guitars it is supposed to be a ROCK band. Hell, when did dancers started becoming the part of a Rock band??? Anyway, let me accept it as the-Bollywood-version-of-a- Rock-band, but amusingly enough all the scores which actually had these two guitarists doing all kinds of cool \\\"ROCK GESTURES\\\" and I am assuming they were playing the instruments, the sound of the guitar was completely missing!!! I simply can't comprehend the magnitude of stupidity here....<br /><br />I am just going to conclude here because it is absolutely not worth pointing out any further flaws in the movie. Bollywood directors seem to have no shame anymore!!!!!!!!\"\n",
      "* * * * * * * * * \n",
      "15305\n",
      "\\Nada\\\" was the most inadequate follow-up to \\\"Les NOces Rouges\\\" which,with hindsight,appears now as the last good movie of Chabrol's golden era (1967-1973) \\\"Nada\\\" is Chabrol's first real attempt at a wholly political movie;its previous work \\\"les Noces Rouges\\\" had also political elements but it was more a psychological thriller with the usual look at society in French provinces.\\\"Nada\\\" includes terrorists,ambassador,hostage-taking,a lot of blood,not really Chabrol's field.A heterogeneous cast gives the movie the coup de grâce :only Duchaussoy,who had already played with the director ,and Maurice Garrel are up to scratch.Viviane Romance ,one of Duvivier's actresses (\\\"la Belle Equipe\\\" \\\"Panique\\\") ,is wasted as a madam (Gabrielle).Italian actors (Fabio Testi,Lou Castel)are awful.<br /><br />With \\\"Nada\\\" this a second period of barren inspiration for Chabrol .It would be \\\"Violette Nozières\\\" before he was again at the top of his game.\"\n",
      "* * * * * * * * * \n",
      "15312\n",
      "The teasers for Tree of Palme try to pass it off as a sort of allegory for a fairy tale with actual meaning, then immediately start raving about the animation. I should have known what that meant.<br /><br />The main character, Palme, is a good example of the whole movie's problem. One minute, Palme is a humble hero in search of himself, the next a violent psycho with an unhealthy fixation on a girl he once took care of.<br /><br />Like all of the characters in the movie, Palme is poorly defined. You do not bond with the characters at all, although Shatta has acquired a couple of fan girls. It seems that the writer was more interested in cramming all the drama and complexity he could into this movie than actually exploring his characters' motivations and personalities.<br /><br />New, useless story lines were being introduced in the last fifteen minutes of the movie. The writer seriously needed to streamline his story. Perhaps he was trying to be epic, but it was simply too much information for a two-hour movie. However I can't help but wonder if a plot with so many dimensions and characters would have been better suited for a TV series or graphic novel.<br /><br />In the last five minutes of the movie, I simply could not endure the sheer lack of quality any longer and began laughing at how contrived the characters, the relationships, and the whole plot was. I touched my companion and he started cracking up too, as did a young man seated behind us. We tried so hard to control ourselves, but we simply could not take the terrible quality of this movie.<br /><br />On the bright side, the animation is incredible and viewers will find themselves admiring the lush backgrounds and charming character designs. The animation almost guides you; when you don't care about the characters, it tells you how to feel.\n",
      "* * * * * * * * * \n",
      "15349\n",
      "Knights was just a beginning of a series, a pilot, one might say. The plot (I really shouldn't call it that, there wasn't any plot) wasn't logical at all and there were many mistakes, like [warning, I'm summarizing the plot]:<br /><br />In the beginning of the movie someone said that there was only a couple of those cyborgs (the bad guys) but after the climax, Nea found out that there were many many more left of them. And it was told that cyborgs were hard to kill, but after a month's training, Nea could kill them with a single blow.<br /><br />The movie was just pure kicking. I wasn't surprised at all, when I found out that the leading star was a kick boxer.<br /><br />There was ONE positive thing in the whole movie: it really gave a great deal of laughter when watching it and talking about it with my friends. I recommend watching it, if you are in need of laughter.\n",
      "* * * * * * * * * \n",
      "15364\n",
      "This movie is horrible if you pay attention to it. It's a perfect movie if you just watch the colorful images dance across the screen - each one with no apparent connection to the next. I rented this movie because I'm a David Bowie fan, and I really appreciate musicals. In finality, Bowie was in the film for a total of ten minutes and the songs and dance sequences were sparse and left something to be desired. The moral of the story was really befuddling. I couldn't tell if it was about racial issues in London in the 1950s or about not selling out. For the first half of the movie I was chuckling at how cheesy it was but I liked the campiness of the \\no selling out\\\" message. When blacks started being murdered I thought my tape had gotten messed up. Maybe I rented half of two different movies? Nope, there was a \\\"Keep Britain White\\\" song and dance sequence. I'm sorry, but WWII is not something you can write a musical about. At least not a musical that could conceivably be described as \\\"campy\\\" as I have several times in this review. Overall I'd say this movie could do a whole lot better if it made up its mind and cast better actors. (And put David Bowie in it for longer goddammit!) My grade: C-\"\n",
      "* * * * * * * * * \n",
      "15477\n",
      "Shallow, shallow script ...stilted acting ...the shadows of boom mikes lingering over the actors' heads in scenes ...worth watching because Kate Mulgrew plays the most selfish mother in TV movie history and it's all before Ben Affleck got his teeth capped.\n",
      "* * * * * * * * * \n",
      "15631\n",
      "A gave it a \\2\\\" instead of a \\\"1\\\" (awful) because there is no denying that many of the visuals were stunning, a lot of talent went into the special effects and artwork. But that wasn't enough to save it.<br /><br />The \\\"sepia\\\" toned, washed out colors sort of thing has been done before many times in other movies. Nothing new there. I can see there were some hat-tips to other old, classic movies. OK. No problem with that.<br /><br />But a movie has got to be entertaining and interesting, not something that would put you to sleep.<br /><br />The story line and the script of this movie WAS awful, the characters two dimensional. Slow moving. Some of the scenes were pretty to look at, but ultimately, as a whole, it was quite boring, I couldn't recommend it.\"\n",
      "* * * * * * * * * \n"
     ]
    },
    {
     "name": "stdout",
     "output_type": "stream",
     "text": [
      "15680\n",
      "All these reviewers are spot on. I've seen many bad films over the years, believe me, and this beats the lot!<br /><br />This is not just a \\so bad it's good\\\" exploiter waste of time, but a genuine, hilarious, movie atrocity.<br /><br />CHECK OUT the white furry monster type thing!<br /><br />WET YOURSELF LAUGHING at Thom Christopher's \\\"spell-weaving\\\" acting!<br /><br />GAPE IN SHEER A**E-CLENCHING DISBELIEF! at the threadbare sets!<br /><br />This is one of those \\\"European co-productions\\\". No wonder we have so many wars. I swear, some of the people taking part in 'Wizards of the Lost Kingdom' aren't actually aware they are appearing in a film!<br /><br />FACT! I originally watched this movie on HTV Wales late one night while suffering from concussion and sleep deprivation. I had to track down a copy several weeks later to make sure it was really this awful. It is. Worse even than Lee Majors in The Norseman, more laughable than all of John Derek's films, this is, truly, the Citizen Kane of Trash.\"\n",
      "* * * * * * * * * \n",
      "15789\n",
      "The Derek's have over the 1980s produced a few decent bids to acquire the title \\worst movie of all time\\\", and this is probably their prime achievement in these stakes. In fact, this film can be regarded as belonging to the \\\"so bad, it's good\\\" category, right up there with the products of the likes of Edward Wood Jr. or Doris Wishman. This explains the IMDb voting pattern for this film with some people handing out top marks.<br /><br />Anthony Quinn made the odd dodgy film in his time, but this performance as a randy ghost is so incredibly bad, it has to be seen to be believed.\"\n",
      "* * * * * * * * * \n",
      "15920\n",
      "STAR RATING: ***** Saturday Night **** Friday Night *** Friday Morning ** Sunday Night * Monday Morning <br /><br />The American military has just launched a major new stealth fighter plane that can evade detection unlike any other. A renegade pilot (Steve Touissant) steals it and plots to hold the US government to ransom with it. So they are forced to send in their best man John Sands (Seagal, who else?) to stop him, in exchange for his freedom from a detention centre where his mind was to be wiped of all the incriminating information he's learned over the years.<br /><br />I skipped Attack Force because I could tell from the cover and all the post production tampering that had occurred that it would be crap and when all the negative reviews and low user rating came pouring in it just confirmed what I thought. But I decided to give FOF a go because Shadow Man (by the same director) wasn't bad and, what the hell, Seagal was my favourite action star once and maybe, just maybe, he could make a great film again. Oh what a fool I was.<br /><br />Dubbing, horrendous stock footage of aerial stealth fighter jets, awful camera work, cheap production values, risible, unconvincing fight scenes that have become Seagal's trademark and a boring, sleep inducing plot that doesn't go anywhere.<br /><br />Thankfully his next film, Once Upon a Time in the Hood (which I'll be skipping), apparently marks the end of his contract with Sony, meaning no more of these awful European lensed action films and his next film Prince of Pistols might mark a return to theatres. Hell, he's done it before and Stallone will have managed to do it before him (Rocky Balboa.) <br /><br />This isn't a Flight of Fury. It isn't even a flight of fun. It's a flight that fails to even take off the ground. *\n",
      "* * * * * * * * * \n",
      "16013\n",
      "This esteemed production has it's fans. But to paraphrase the classic bad review of 'Mary Reilly,' Moby Dick is like a painting, only slower.<br /><br />This is because the philosophical grounds for a movie \\production\\\" are never to make a great film, rather it's to substitute the lack of a strong guiding idea (in this case for a books transference to film) with a list of hopelessly atomized, undynamic but dazzling conceits in an effort to trick viewers into thinking they've seen greatness. As viewers & critics are apt to fall for this, Oscars follow, feeding the whole dumb equation.<br /><br />I don't share in the pleasure all these reviewers found. Moby Dick is stunningly uninvolving. Actors dutifully recite essays about Jonah, Moby Dick, the ocean, Moby Dick, Moby Dick... all things that can't respond, and not one of which is absorbing in the slightest. It's dramatically inert. It doesn't build. In narrative terms Moby Dick (as a movie) is little more than a foregone conclusion in search of an actual story. After half an hour I was muttering \\\"Oh terrific... another oath ...another 4 minute soliloquy!\\\"<br /><br />In the failed effort to involve you, it's a pretty campy overacting showcase. A lot of grey hair here. Starbuck is supposed to be a golden god. (!)<br /><br />One knows one is looking at a great director when he makes the medium his own rather than trying to replicate the feel of someone else's paintings & palette, or reverently embalming a classic as Huston does here. Paintings and books are nice but they're a different mediums. A movie like this fails to grasp that an honestly enjoyable piece of crap (Village of the Damned) is better in most respects than an insufferable piece of culture. This is the Eat Your Vegetables school of film-making.<br /><br />One appreciates the work that must have been done to make the movie, but not the narrative. Only a few segments reflecting maritime research are interesting; the recording of shanties as a means of structuring work & various sea efforts; and the technology of whaling. And that doesn't call for a two-plus hour movie.\"\n",
      "* * * * * * * * * \n",
      "16118\n",
      "I went to see it in hopes of some good old fashioned Alice Entertainment.Once I realized I would not be getting that,I watched it for a pretty well made movie (in terms of filming,and yeah..that was it).But aside from it having a good film quality,considering I had been watching grainy movies all day long,there was nothing good about that movie.<br /><br />He killed 42.Why were Tweedle Dee and Dum played by Mudler and Scully?Serisouly,Who can answer that for me?Who can answer anything awful about this movie for me.<br /><br />I agree with whoever said it was just one big long inside joke for the staff.That's all it seemed to be.<br /><br />Poor Mr.Carroll.I'm so sorry somebody did that to his wonderful tales.\n",
      "* * * * * * * * * \n",
      "16632\n",
      "This has the absolute worst performance from Robert Duval who sounds just like William Buckley throughout the entire film. His hammy melodramatic acting takes away from any dramatic interest. I'm not sure if this was deliberate scene stealing or inadvertent but it's the only thing I can recall from a truly forgettable film. This picture should be shown in every amateur acting class of an example of what not to do. Thank God, Duvall went on to bigger and better things and stopped trying to effect a cultured accent. He is a good character actor but that's about it. Klaus is so much better. His performance is muted and noteworthy.\n",
      "* * * * * * * * * \n",
      "16720\n",
      "This movie features a gorgeous brunette named Danielle Petty. She has stunning green eyes, and is in the first few scenes and the last scene. She is the only thing about this movie that is not repulsive. She may not have a future as an actress, because this kind of movie is the kind of offensive disaster that kills careers.<br /><br />The movie itself has absolutely nothing to recommend it. It is not a good horror film, or a good fake journalistic report, or remotely well done. There is no skill apparent in it's production. It is like a bad student film. The story's horrific elements do not make you sick, it is the fact that it is so poorly done that makes you sick. I would give this movie ZERO stars if I could.\n",
      "* * * * * * * * * \n",
      "16732\n",
      "The movie starts with a nice song Looks like a thriller, with Arbaaz Khan walking around in a suspicious way but then suddenly we are forced to a comedy With the routine stupid idiots like GOLMAAL with Tusshar, Sharman, Kunal and Rajpal acting like grown up kids Their scenes are quite funny first and then get boring There is a bored sub plot of Tanushree's brother being killed Towards the end the film tries to get serious with the villain kidnapping our heroes but here it gets even stupid Then a lengthy bashing bashing climax straight out of HERA PHERI and wait, there is also a long chase in Payal's house<br /><br />The film is so boring that it makes you fall asleep<br /><br />Direction by Priyan is very bad music(Pritam) is routine except the first song<br /><br />Cinematography is bad, the film has a cheap look throughout<br /><br />Rajpal Yadav is good in his 1st scene where he goes to pay his rent and i was happy that the actor isn't loud and over the top like other films But No, He becomes his usual self and gets irritating most of the times Tusshar should not speak in a film, his dial delivery is terrible Sharman is the saving grace, He is the sole actor who acts very well in this film Kunal Khemmu tries hard in his first comic film as an adult, But doesn't impress much Tanushree is bad as always Arbaaz Khan gets less scope and is usual Payal is a non actress Murli Sharma is terrible\n",
      "* * * * * * * * * \n",
      "16783\n",
      "What's up with Robert \\Pretentious\\\" Altman? Was he saving on lighting? Everything was so dark in this boring movie that it was laughable. I mean, have you ever seen a lawyer's office where everyone works by candlelight?<br /><br />Don't waste your time. In fact, don't waste your time with anything Altman makes: It's all a pretentious waste of film.\"\n",
      "* * * * * * * * * \n",
      "17071\n",
      "I just watched this movie. In one word: sucky! The story is bad, the acting is, if possible, even worse. The movie has one or two nice moments, but thats it and having those two small good moments, doesn't make up for anything in between, before or after those moments. A montrocity of a movie, not even worth watching on tv...\n",
      "* * * * * * * * * \n",
      "17219\n",
      "I saw this movie originally in the theater, when I was 10. Even at that age the 'humor' was mildly insulting to my adolescent intelligence.<br /><br />In the past, whenever I would see Ed Begley Jr. or jeff Goldblum I would cringe and start to feel very uncomfortable and even slightly sad. Until I was reminded of the existence of this movie today, I was unsure why I felt that way. Apparently I blocked my memory of this movie yet my negative feelings towards two of the perpetrators remained. Apparently I forgot that I saw this movie but subconsciously mourned the pieces of my soul that had been stolen, nay EATEN by the creators of this inhuman work.<br /><br />I haven't been brave enough to try watching it as an adult. I imagine that as part of the healing process that I should probably look at confronting this childhood fear so that I can *truly* put it behind me. Some regression therapy and / or hypnosis might not be a bad idea either.\n",
      "* * * * * * * * * \n",
      "17390\n",
      "This was really a very bad movie. I am a huge fan of Italian Horror, Argento, Mario Bava, Fulci and yes, even our good friend here Lamberto sometimes comes out with a good one. I found the first two 'Demons' films to be highly entertaining - they were so bad they were great but this one is just so bad that it is really, really bad. It is intensely boring, the story never goes anywhere and I hated the characters - the wife slapping husband and whiny cry-baby pain in the *** wife drove me mad, there was nowhere near enough of the story devoted to the Ogre who was probably the best actor in the whole film. I turned it off about three quarters of the way through because I was very, very BORED! Don't bother.\n",
      "* * * * * * * * * \n",
      "17509\n",
      "I am not so much like Love Sick as I image. Finally the film express sexual relationship of Alex, kik, Sandu their triangle love were full of intenseness, frustration and jealous, at last, Alex waked up and realized that they would not have result and future.Ending up was sad.<br /><br />The director Tudor Giurgiu was in AMC theatre on Sunday 12:00PM on 08/10/06, with us watched the movie together. After the movie he told the audiences that the purposed to create this film which was to express the sexual relationships of Romanian were kind of complicate.<br /><br />On my point of view sexual life is always complicated in everywhere, I don't feel any particular impression and effect from the movie. The love proceeding of Alex and Kiki, and Kiki and her brother Sandu were kind of next door neighborhood story.<br /><br />The two main reasons I don't like this movie are, firstly, the film didn't told us how they started to fall in love? Sounds like after Alex moved into the building which Kiki was living, then two girls are fall in love. It doesn't make sense at all. How a girl would fall in love with another girl instead of a man. Too much fragments, you need to image and connect those stories by your mind. Secondly, The whole film didn't have a scene of Alex and Kik's sexual intercourse, that 's what I was waiting for",
      "",
      ". However, it still had some parts were deserved to recommend. The \\ear piercing \\\" part was kind of interesting. Alex was willing to suffer the pain of ear piercing to appreciate kik's love. That was a touching scene which gave you a little idea of their love. Also, the scene of they were lying in the soccer field, the conversation express their loves were truthful and passionate.\"\n",
      "* * * * * * * * * \n",
      "17522\n",
      "I managed to sneak away one night and go to the movie theater to see this one, thinking I was in for a treat. Boy, was I wrong. Considering the talent involved, this has to be one of the worst movies I've ever seen. Everyone in it was miscast, and I find it incredible to read on this site that there are people out there who actually liked it.\n",
      "* * * * * * * * * \n",
      "17541\n",
      "It was interesting to see how accurate the writing was on the geek buzz words, yet very naive on the corporate world. The Justice Department would catch more of the big corp giants if they did such naive things to win. The real corporate world is much more subtle and interesting, yet every bit as sinister. I seriously doubt ANY corp would actually kill someone directly; even the mod is more indirect these days. In the real world, they do kill people with nicotine, pollution, additives, poisons, etc. This movie must have been developed by some garage geeks, I think, and the studios didn't know the difference. They just wanted something to capitalize on the Microsoft antitrust case in the news.\n",
      "* * * * * * * * * \n",
      "17620\n",
      "My dear Lord,what a movie! Let's talk about the \\special effects\\\" first. Don't get me wrong here, I am not one of those effect fanatics but I was truly thinking that superimposition was a practice of the long gone past, mainly the 60's. So for some time I thought they might have recorded this movie a long time ago and it took them forever to cut and release it. But as far as I know they did not have cell phones in the 60's...<br /><br />What I am looking for in movies is mainly a good story with a really good message. Acting is secondary, effects are secondary, I do not even mind a few little inconsistencies. However, in a movies like this bad acting, incredibility, etc. add up to make a bad movie even worse - that's what happened for me with the Celestine Prophecy.<br /><br />My wife said the book was actually really good and even though I am not into all that spiritual stuff I can somehow see that it can be brought across in a believable way - the movie failed to do so.<br /><br />There could be one single reason to watch this one though. If you really love cheesy movies it'll be the right one for you. If the IMDb stars were for cheesiness instead of quality I MUST have rated this movie ten stars.<br /><br />By the way, three stars are for the fact that there are worse movies out there, like \\\"Critical Mass\\\" (look up the comments on that one - hilarious). The Celestine Prophecy is at least entertaining to a certain degree.\"\n",
      "* * * * * * * * * \n",
      "17628\n",
      "I am not from America and I know what 'Wife Swap' is. When a show came out of that name I was thrilled to see some cool glamorized sexual moments from the program. But what I got was a real sucking stupidity. I was misjudged by its title name, it has no adult contents, no nudity, not even vulgar dialogues (broad casted threw Hallmark channel and I think they edited/mute out such contents to make it neat).<br /><br />A show which gives a picture of current American/western family state, overweight chubby peoples, polluted teenagers, and their sucking family goings. In each episode two wives/two mothers (more correctly) were chosen to live in each others home and re-changes each others family routine with their new own rule. Sometimes its turns out to be good or more evenly bad. On the ending section each mothers are brought back with their husband and try to conclude what they did to each families past days. It's the sucking portion of the program were each contenders fights for their rights. I was sucked to see all of these instead of seeing some cool adult sex stuff. I mean who make this program, more than that who gave the name \\Wife Swap\\\"; its better to be called as \\\"Mother Swap\\\". All in all it corrupts all the great things the real Wife Swap stands for! <br /><br />Wife Swap = Average Sucking Reality Show.\"\n",
      "* * * * * * * * * \n",
      "17634\n",
      "After the debacle of the first Sleepaway Camp, who thought that a franchise could be born. SC II is superior in aspect. More inspired killings and just whole lot more fun. While that might not be saying much (compared to the first movie), Sleepaway Camp II is worth the rental.<br /><br />Pros: Entertaining, doesn't take itself too seriously like SC I. Inspired Killings. Cons: Crappy acting and mullets abound.<br /><br />Bottom Line: 5/10<br /><br />\n",
      "* * * * * * * * * \n"
     ]
    },
    {
     "name": "stdout",
     "output_type": "stream",
     "text": [
      "17643\n",
      "I was forced to watch this whole series of films as a young child and I was told they were REAL! Talk about child abuse. I would have been less frightened of Dracula or Frankenstein. This series is only good for people who believe in this ridiculousness and who want to indoctrinate their children into believing the same. Besides the obvious issues associated with brainwashing and indoctrination, there's also the bad acting, bad writing, and BAD \\special effects\\\". They are just all around terrible, terrible movies. Yes, believable (and horrifying) to a kid, but I can't imagine a grown-up buying into this shlock. Although, I must say, that I would be interested in seeing them today, as an adult. They might have a certain midnight/cult movie feel to them.\"\n",
      "* * * * * * * * * \n",
      "17654\n",
      "Murders are occurring in a Texas desert town. Who is responsible? Slight novelties of mystery and racial tensions (the latter really doesn't fit), but otherwise strictly for slasher fans, who will appreciate the gore and nudity, which are two conventional elements for these films.<br /><br />Dana Kimmell (of FRIDAY THE 13TH PART 3 infamy) stars as the bratty quasi-detective teen.<br /><br />*1/2 out of ****<br /><br />MPAA: Rated R for violence and gore, nudity, and some language.\n",
      "* * * * * * * * * \n",
      "17655\n",
      "This movie starts out with a certain amount of promise; but, in my view, begins to lose it when the protagonist kidnaps the good Samaritan who comes to his aid when his car breaks down. That this well-meaning stranger begins to fix his car while he is away making a phone call is implausible enough, but that she is one of the few people in the country who can help him put his family's life back on track is the type of coincidence beginning writers are warned against using in their stories.<br /><br />I found this movie average at best. Art direction could have been much better, as could have been cinematography. The acting was good, and so was Eva van der Gucht's singing.\n",
      "* * * * * * * * * \n",
      "17699\n",
      "Horror fans (I'm speaking to the over 12's, although if you're under 12 I apologise for what you might deem an insult): In short, if you appreciate having your imagination disturbed by well written, original storytelling, punctuated by unpredictable well planted scares, and delivered via convincing performances, then I can heartily recommend - AVOIDING THESE STEAMERS - made by directors who have apparently long since past their sell by date. It's no accident that almost every episode feels as if it were made in the 1980's. Not to put blame squarely on the shoulders of some of these old boys (or indeed the 80's) because where would we be without certain movies from the likes of Argento, Carpenter, Landis, Dante and Barker (Actually Clive, WTF are you doing in there?! Glad to see Romero had the good sense to give it a miss as I'm sure he was asked to partake...). More perhaps we should point the finger at creator Mick Garris whose credentials include the logic defying and depressingly ill-advised TV remake of Stanley Kubrick's masterpiece 'The Shining'.<br /><br />Perhaps it is an indication of the state of television today. Are we so starved of good TV horror that we applaud any old sloppy schlock that the networks excrete onto our sets? Sadly, maybe so.<br /><br />Normally I wouldn't see the point of adding a comment that doesn't argue the faults and merits of a production, I'd just rate it accordingly. However, as this series is woefully lacking in any merit (with perhaps the sole exception of the theme tune) I write this as more of a warning than a review: DON'T WASTE YOUR TIME AND MONEY. If you disagree with me then it's more than likely that you haven't seen enough decent horror. Perhaps the earlier films of some of these directors would be a much better place to start, but if these 'Masters' of Horror were being assessed on these works alone, they'd never have been allowed to graduate with even their Bachelor's degree. Unless of course they were studying for a degree from the University Of S**t.\n",
      "* * * * * * * * * \n",
      "17733\n",
      "This movie is chilling reminder of Bollywood being just a parasite of Hollywood. Bollywood also tends to feed on past blockbusters for furthering its industry.<br /><br />Vidhu Vinod Chopra made this movie with the reasoning that a cocktail mix of \\Deewar\\\" and \\\"On the Waterfront\\\" will bring home an Oscar. It turned out to be rookie mistake.<br /><br />Even the idea of the title is inspired from the Elia Kazan classic. In the original, Brando is shown as raising doves as symbolism of peace.<br /><br />Bollywood must move out of Hollywood's shadow if it needs to be taken seriously.\"\n",
      "* * * * * * * * * \n",
      "17771\n",
      "Just as \\ITS A MAD, MAD, MAD, MAD WORLD\\\" is at the top of my list for all time greatest comedies ever made, this one is at the very bottom. (Of course, I could be wrong-not having seen \\\"SAVING SILVERMAN\\\") In other words, it's a lame, lame, lame, lame comedy.<br /><br />Rating: 1/2* out of *****\"\n",
      "* * * * * * * * * \n",
      "17946\n",
      "As a physics student, I've become aware of many idiot professors, and other so-called experts, in the field. As I continue with my studies, I learn more and more about real physics experiments going on, and about the people who are doing things right.<br /><br />Then, my friends tell me of this \\physics movie\\\" they want to see. Knowing nothing of it, I'm excited, hoping that the information will be presented well.<br /><br />I've done REAL quantum mechanics; this wasn't it.<br /><br />This movie starts with the basic assumption that anything that occurs to a subatomic particle can, and will, occur to you, if you just open your eyes. Let's think about that, for just a moment.<br /><br />Our bodies are composed of somewhere around 10^30 such subatomic particles. That is a million billion billion billion particles! The more \\\"mysterious\\\" quantum effects of just two particles can have a 50% probability of cancelling each other out completely. As you add more and more particles into the mix, it becomes almost impossible to have a large net quantum result. To tell us to believe that this is a valid assumption, with no rationality behind it...it's just stupid.<br /><br />My friend, also in physics, and I counted 3 facts during the course of this movie. But they were presented in the most misleading manner I've EVER SEEN.<br /><br />I cannot say as much for the neural portion of the movie, as I have not had any kind of medical training. It seemed as though it might have had a slight bit more truth to it, remembering my days in biology, but I cannot say.<br /><br />At least this film had a redeeming quality: the dancing peptides (or whatever they actually were) scene. Not to ruin the invaluable plot that drives this movie, but the main character goes to a wedding, where she sees all different types of personalities \\\"driven\\\" by their peptides*, and then the film cuts to the dance floor, where we are spliced between people dancing, sometimes surrounded by CG peptides, and a fully CG scene, filled with dancing peptides. The film, at that point, was trying to tell us how we're \\\"addicted to emotions,\\\" so we're treated to the full song of that smash hit, \\\"Addicted to Love.\\\"<br /><br />This scene was redeeming, because anyone who could go through THAT scene, and still take this movie seriously...well, you are the ones that need to \\\"open your eyes.\\\"\"\n",
      "* * * * * * * * * \n",
      "18170\n",
      "I was so disgusted by this film, I felt obligated to warn off others. This film has no story, plot or hint of purpose. The film starts after the standard \\lets be scary\\\" movie intro, which by now every film watcher has become accustomed. So we can ignore the beginning completely. We are soon introduced to the main actress and from this point it becomes clear to all that you have just wasted your hard earned and would be better off watching static. (Unless you have seen white noise - EEK) Acting is a DISGRACE and all of them should return to the travelling pantomime from where they came. Having said that, even the best actors in the world would struggle to make this film remotely watch able. Their poor performances merely contribute to the disaster. Senseless violence and what I can only assume is the written word of yet another junked up \\\"eccentric\\\" writer, who probably considers himself to be an artist, has resulted in a film which will test your patience. It was not until my fellow watcher turned to me and said, \\\"We have been watching this for 45 mins\\\" did I realise that this film is as thin and tasteless as a cup of tea without a tea bag. Clearly something was missing and unfortunately it wasn't the audience. Rather than suggest what the film is missing, let me tell you what it has: Dumb Blonde (surprise surprise), Victims, bad-monster-guy-thing, about 2 mins of storyline which is stretched over hours, days, weeks, months... and credits.<br /><br />Want a silver lining? Well, the blonde girl is a bit saucy looking in some of the scenes, but expect to want to see her face ripped off for the rest of the film!\"\n",
      "* * * * * * * * * \n",
      "18363\n",
      "This film is a Pia Zadora special! When viewing it, I was reminded of the classic cartoon showing a Hollywood starlet; in urgent need of another role but afraid of becoming typecast for 'B' movie or soft porn roles; who says at her casting session \\Well of course I do not normally do roles requiring nudity, but if it is artistically necessary for the film...............\\\". This recollection brought up a very naughty image of a similar cartoon showing Pia at such a session saying \\\"Well of course I do not normally take any roles requiring actual acting, but if it will really give me sufficient exposure to enhance my status as a sex symbol..................\\\". This is probably grossly unfair, the rather sordid tale is the fault of Harold Robbins book; considering the nature of the story Pia's exposures certainly do not receive undue attention, and perhaps Pia (who once won an acting award in Butterfly) is deliberately satirising her part rather than attempting to act in an almost unplayable role. Critics usually point first to the actors as the problem whenever a film proves disappointing, but this is grossly unfair; the scriptwriters and director are far more often the guilty parties. The real problem with \\\"The Lonely Lady\\\" is that the screenplay, like the original book, looks for sensation rather than substance, and nothing can help with this. <br /><br />     The screenplay for this film is abysmal, but whether the story could have been filmed more successfully with a better script, tauter directing and really competent acting must remain a matter of personal judgement. As it was released, my viewers rating for it would depend upon whether I am assessing my personal opinion, or assessing to what extent the film succeeds in providing what it aims at doing. My personal rating for it would be two out of ten; but to some extent this film probably provides exactly what its sponsors intended, and judged on this basis a quality rating of four out of ten would be reasonable. Being in a charitable mood, and wanting to make it clear that I am not blaming Pia for my disappointment, I will give an IMDb rating of four.\"\n",
      "* * * * * * * * * \n",
      "18855\n",
      "Maaan, where do i start with this god awful movie. Bad bad bad story telling. I do not know what the director was thinking when he made this movie. Namaste London was quite an enjoyable movie to be honest..even the soundtrack was good. But in this one..oh my good..for a movie which is supposed to be a musical one..the songs are soooo bad. AR Rahman should have been the music director. <br /><br />Given two great actors a much better job should have been done by the director. Even though the first half sucks, the last 30 mins of the movie are OK. Performances from Salman and Ajay save the movie from being a total disaster.<br /><br />Watch it if you have nothing better to do. The last good movie from Bollywood i watched ( and i do watch a load of them) is Dev D and Wake Up Sid.\n",
      "* * * * * * * * * \n",
      "18920\n",
      "I think the biggest failing something can have is to be boring. Bad is actually better than boring. This thing has no breath. It does have the interesting fact of taking place in Cambodia. How many American made films of the 30's take place in Cambodia. Nevertheless, the conflict there is a little hard to figure out. Even the troop movements are a little confusing. What drags it to a resounding halt is the love story. Why those two guys are so totally transfixed on the dippy blonde I don't know. I thought he should continue to use his Zombies (such as they are) and forget all about her. The movie just plods along. The perfect microcosm is where one of the principle characters follows a Cambodian priest through the water to get to the secret place where the hieroglyphics (or whatever) that explain how to turn people into zombies is kept. I thought they would never get there. One guy takes two steps. He stops. He looks around. The other guy hides behind some columns. He takes two steps. He stops. He looks around. The other guy hides behind some bushes. This is the movie in a nutshell. Then there is the bad acting and insipid dialogue. I actually have a lot of patience when it comes to B movies. This one is insufferable. By the way, a more apt title would be Revolt of the Hypnotized.\n",
      "* * * * * * * * * \n",
      "19016\n",
      "The week before I saw Iowa, I saw Art School Confidential, in which a pretentious student makes a film and can't decide whether he wants it to be art or violent exploitation. Iowa could be the film that he made. I can see elements of much better movies in Iowa - Spun and Natural Born Killers. However, in addition to artiness, both those movies had good character development and coherent story lines. Iowa. This movie stumbles to a preposterous end. I have to admit that it had consistency. This movie is bad from beginning to end and not particularly worse or better in any part. The actors all did what they could. Roseanna Arquette deserves better. She demonstrates that she is very talented, very funny, and very sexy. But why does she have to demonstrate it in this turd ball.\n",
      "* * * * * * * * * \n"
     ]
    },
    {
     "name": "stdout",
     "output_type": "stream",
     "text": [
      "19219\n",
      "I disliked Frosty returns and this one. Both of the films are absurd with poorly written characters and bad voices. The voices could have been done but Frosty returns was worst than this because of the unalike snowman they drew. Frosty's winterwonder land was great and so was the original heartwarming Drama. The only good thing about this film was Frosty the snowman was alike of the classic 60s and a funny line like when they were talking about things that are not real and then Frosty walks by the window humming, whistling whatever he was doing but everything else was badly written and badly animated and I barely got the plot. I saw the DVD cover at the library about 2 or 3 years ago and the art looked crappy so I didn't pick it up until this year because the pictures on the back looked a little touching but I played this film. It was a hassle poorly art characters just like the DVD and it was just terrible about what's going on. I watched this at night and found it dull that I fell asleep on the whole thing (Wait I always do that when I watch something while I go to sleep) But this movie was overall boring<br /><br />Overall rating: Grade -C<br /><br />This is like another holiday special bad rip-off in the frosty returns and this one. This one is the badly 4th sequel like Home alone 4 well i thought that movie was OK but home alone 3 was great. But it's like a bad home alone 3 and 4 people hate like this. My sister didn't watch it that much because when she came into my room to watch 2 minutes and a half of it, she walked away like \\I hate the animation!\\\" I agree to her just like the 3rd one Frosty returns. Plain awful!\"\n",
      "* * * * * * * * * \n",
      "19224\n",
      "I don't want to go too far into detail, because I can't really justify wasting much time on reviewing this film, but I had to give an alternate opinion to hopefully help people avoid the movie. The animation is crud and the story alternates between boring/pointless to extremely irritating. The humor was completely lost on the audience, and yes - Ghost in the Shell fans, this is NOT an action sci-fi or anything like that - its an attempt at slapstick comedy, and the humor just did not work after being translated. It was a total chore to watch this movie, and horrible way for me to kick off the film fest, especially considering how excited I was and how open I was for anything - I wasn't expecting a Ghost in the Shell sequel, but I was expecting something entertaining, and it simply didn't achieve this. Yaaawwnnn... Rent Kino's Journey instead.\n",
      "* * * * * * * * * \n",
      "19344\n",
      "You don't expect much from a PRC picture, and with rare exceptions--mainly from Edgar G. Ulmer and a few by Joseph H. Lewis or Lew Landers--that's exactly what you get: not much. This \\epic\\\" about Nazis in Africa trying to incite an Arab revolt against the British isn't much different. The script, by longtime PRC hacks Arthur St. Claire and Sherman Lowe, is trite, laughable, full of unfunny \\\"wisecracks\\\" and plot holes the size of Outer Mongolia. The direction, by longtime PRC no-budget specialist Al Herman, is semi-comatose at best. The performances, though--except for spectacularly incompetent and irritatingly hammy lead Walter Woolf King--aren't really half bad. Veteran comedian Parkyakarkus is actually the best thing about the film. He plays a guy from Brooklyn masquerading as a razor-blade salesman and brightens up the screen considerably when he shows up. He's got great comic timing, charm to spare and seems to be having a heck of a good time. Duncan Renaldo is fairly convincing as an Arab sheik--despite his Spanish accent--and veteran bad guy George J. Lewis as Renaldo's Arab rival does his usual fine job of villainy, even if he goes a bit over the top sometimes. Joan Woodbury is quite pretty and has a nice light touch, and she and Renaldo have great chemistry together, although--like the rest of the cast--she has none at all with King. H.B. Warner, whose career stretched back to the silent era, lends a shred of dignity to the low-rent proceedings, even though he blows his lines several times and, PRC being PRC, they weren't cut out. There's a great deal of stock footage spliced in from a big-budget silent movie with a similar Arab theme--although I have no idea which one it is--and, PRC being PRC, no effort was made to try to make it inconspicuous: I've seldom seen stock footage that was so blatantly obvious.<br /><br />\\\"A Yank in Libya\\\" isn't very good, of course--well, OK, it stinks--but it would be worth a look just to see Parkyakarkus in his prime. I had heard of him and knew that he was the father of actor/director Albert Brooks and Super Dave Osborne, but had never actually seen him in anything before. It was worth watching this tenth-rate PRC \\\"extravaganza\\\" just to see him in action. Otherwise, forget it.\"\n",
      "* * * * * * * * * \n",
      "19380\n",
      "I found this movie boring, monotonous and quite uninteresting with a hurried, shallow \\upbeat\\\" ending that didn't ring true to the overall story. Following these characters through a weekend of awful events, unfriendly attitudes and bad news just isn't my idea of a watchable, interesting movie and I got very tired of its \\\"one note\\\" theme and couldn't wait for it to end--in fact I almost stopped about halfway through. The whole movie just seemed pointless and wandering, and the characters were for the most part depressing and unpleasant, though the acting was good. A small movie with small ambitions and small appeal--sorry, but it just didn't make it with me, and I love good, small films! This one just didn't jell, though I kept watching it hoping and trusting that it would. I was disappointed, especially after two local reviewers put it on their \\\"Year's 10 Best\\\" list. I'd strongly recommend watching \\\"The House of Sand\\\" instead--now there's a good, small film!\"\n",
      "* * * * * * * * * \n",
      "19545\n",
      "Having grown up in Texas, and less than 15 miles from what used to be Gilley's, I can tell you that this movie is nauseating. The majority of Texans do not live like this movie indicates. The plot is weak, and the fake accents are amusing, and it reinforces the stereotypical image that all Texans are beer drinking, honky-tonkin', rednecks. The horribly fake Texas accents is what kills it for me. True, there is a certain Texas twang to most Texans' accents, but these people overdo it. You can't get someone from New Jersey and Ohio to do Texas accents. It just doesn't work. John Travolta should have stuck to disco-dancing or the 50s. Debra Winger was more convincing as Wonder Girl than she is as a Texan.\n",
      "* * * * * * * * * \n",
      "19604\n",
      "Don't get me wrong, Dan Jansen was a great speed skater. If there was one guy who deserved his gold medal at the Olympics it was Dan.<br /><br />But how can it be possible that Bill Corcoran has made such a bad movie about the incredible Dan Jansen story, because the real Dan Jansen story is truly incredible! Especially when you look at this movie through the eyes of a sportsman everything is wrong, the way Matt Keeslar and the other actors skate, their technique, the dimensions of the speedskating oval, it is all wrong!<br /><br />Shame on you, Bill Corcoran, Dan Jansen deserves better, a lot better!<br /><br />1 out of 10\n",
      "* * * * * * * * * \n"
     ]
    }
   ],
   "source": [
    "# false positives\n",
    "\n",
    "print(\"Examples of false positives:\")\n",
    "\n",
    "import random, time\n",
    "\n",
    "for i in range(0, len(ols_predictions)):\n",
    "    if (ols_predictions[i] == 1):\n",
    "        if (X_raw_train.iloc[i]['sentiment'] == 0):\n",
    "            if (random.uniform(0, 1) < 0.05): # to print only 5% of the false positives\n",
    "                print(i)\n",
    "                print(X_raw_train.iloc[i]['review'])\n",
    "                print('* * * * * * * * * ')\n"
   ]
  },
  {
   "cell_type": "markdown",
   "metadata": {},
   "source": [
    "---\n",
    "\n",
    "# <span style=\"color:red\">WARNING: Don't look at test set performance too much!</span>\n",
    "\n",
    "---\n",
    "\n",
    "The following cells show performance on your test set. Do not look at this too often! "
   ]
  },
  {
   "cell_type": "markdown",
   "metadata": {},
   "source": [
    "# Look at performance on the test set"
   ]
  },
  {
   "cell_type": "markdown",
   "metadata": {},
   "source": [
    "### MODEL: ordinary least squares"
   ]
  },
  {
   "cell_type": "code",
   "execution_count": 15,
   "metadata": {},
   "outputs": [
    {
     "name": "stdout",
     "output_type": "stream",
     "text": [
      "{'Pos': 2467, 'Neg': 2533, 'TP': 1032, 'TN': 1599, 'FP': 934, 'FN': 1435, 'Accuracy': 0.5262, 'Precision': 0.5249237029501526, 'Recall': 0.418321848398865, 'desc': 'ols_test'}\n"
     ]
    }
   ],
   "source": [
    "ols_performance_test = BinaryClassificationPerformance(ols.predict(X_test), y_test, 'ols_test')\n",
    "ols_performance_test.compute_measures()\n",
    "print(ols_performance_test.performance_measures)"
   ]
  },
  {
   "cell_type": "markdown",
   "metadata": {},
   "source": [
    "### MODEL: SVM, linear"
   ]
  },
  {
   "cell_type": "code",
   "execution_count": 16,
   "metadata": {},
   "outputs": [
    {
     "name": "stdout",
     "output_type": "stream",
     "text": [
      "{'Pos': 2467, 'Neg': 2533, 'TP': 2063, 'TN': 2095, 'FP': 438, 'FN': 404, 'Accuracy': 0.8316, 'Precision': 0.8248700519792083, 'Recall': 0.8362383461694366, 'desc': 'svm_test'}\n"
     ]
    }
   ],
   "source": [
    "svm_performance_test = BinaryClassificationPerformance(svm.predict(X_test), y_test, 'svm_test')\n",
    "svm_performance_test.compute_measures()\n",
    "print(svm_performance_test.performance_measures)"
   ]
  },
  {
   "cell_type": "markdown",
   "metadata": {},
   "source": [
    "### MODEL: logistic regression"
   ]
  },
  {
   "cell_type": "code",
   "execution_count": 17,
   "metadata": {},
   "outputs": [
    {
     "name": "stdout",
     "output_type": "stream",
     "text": [
      "{'Pos': 2467, 'Neg': 2533, 'TP': 2049, 'TN': 2102, 'FP': 431, 'FN': 418, 'Accuracy': 0.8302, 'Precision': 0.8262096774193548, 'Recall': 0.8305634373733279, 'desc': 'lgs_test'}\n"
     ]
    }
   ],
   "source": [
    "lgs_performance_test = BinaryClassificationPerformance(lgs.predict(X_test), y_test, 'lgs_test')\n",
    "lgs_performance_test.compute_measures()\n",
    "print(lgs_performance_test.performance_measures)"
   ]
  },
  {
   "cell_type": "markdown",
   "metadata": {},
   "source": [
    "### MODEL: Naive Bayes"
   ]
  },
  {
   "cell_type": "code",
   "execution_count": 18,
   "metadata": {},
   "outputs": [
    {
     "name": "stdout",
     "output_type": "stream",
     "text": [
      "{'Pos': 2467, 'Neg': 2533, 'TP': 1768, 'TN': 1907, 'FP': 626, 'FN': 699, 'Accuracy': 0.735, 'Precision': 0.7385129490392648, 'Recall': 0.7166599108228617, 'desc': 'nbs_test'}\n"
     ]
    }
   ],
   "source": [
    "nbs_performance_test = BinaryClassificationPerformance(nbs.predict(X_test), y_test, 'nbs_test')\n",
    "nbs_performance_test.compute_measures()\n",
    "print(nbs_performance_test.performance_measures)"
   ]
  },
  {
   "cell_type": "markdown",
   "metadata": {},
   "source": [
    "### MODEL: Perceptron"
   ]
  },
  {
   "cell_type": "code",
   "execution_count": 19,
   "metadata": {},
   "outputs": [
    {
     "name": "stdout",
     "output_type": "stream",
     "text": [
      "{'Pos': 2467, 'Neg': 2533, 'TP': 2076, 'TN': 2104, 'FP': 429, 'FN': 391, 'Accuracy': 0.836, 'Precision': 0.8287425149700599, 'Recall': 0.8415079043372518, 'desc': 'prc_test'}\n"
     ]
    }
   ],
   "source": [
    "prc_performance_test = BinaryClassificationPerformance(prc.predict(X_test), y_test, 'prc_test')\n",
    "prc_performance_test.compute_measures()\n",
    "print(prc_performance_test.performance_measures)"
   ]
  },
  {
   "cell_type": "markdown",
   "metadata": {},
   "source": [
    "### MODEL: Ridge Regression Classifier"
   ]
  },
  {
   "cell_type": "code",
   "execution_count": 20,
   "metadata": {},
   "outputs": [
    {
     "name": "stdout",
     "output_type": "stream",
     "text": [
      "{'Pos': 2467, 'Neg': 2533, 'TP': 2029, 'TN': 2011, 'FP': 522, 'FN': 438, 'Accuracy': 0.808, 'Precision': 0.7953743629949039, 'Recall': 0.8224564248074584, 'desc': 'rdg_test'}\n"
     ]
    }
   ],
   "source": [
    "rdg_performance_test = BinaryClassificationPerformance(rdg.predict(X_test), y_test, 'rdg_test')\n",
    "rdg_performance_test.compute_measures()\n",
    "print(rdg_performance_test.performance_measures)"
   ]
  },
  {
   "cell_type": "markdown",
   "metadata": {},
   "source": [
    "### MODEL: Random Forest Classifier"
   ]
  },
  {
   "cell_type": "code",
   "execution_count": 21,
   "metadata": {},
   "outputs": [
    {
     "name": "stdout",
     "output_type": "stream",
     "text": [
      "{'Pos': 2467, 'Neg': 2533, 'TP': 2152, 'TN': 1677, 'FP': 856, 'FN': 315, 'Accuracy': 0.7658, 'Precision': 0.7154255319148937, 'Recall': 0.8723145520875557, 'desc': 'rdf_test'}\n"
     ]
    }
   ],
   "source": [
    "rdf_performance_test = BinaryClassificationPerformance(rdf.predict(X_test), y_test, 'rdf_test')\n",
    "rdf_performance_test.compute_measures()\n",
    "print(rdf_performance_test.performance_measures)"
   ]
  },
  {
   "cell_type": "markdown",
   "metadata": {},
   "source": [
    "### ROC plot to compare performance of various models and fits"
   ]
  },
  {
   "cell_type": "code",
   "execution_count": 22,
   "metadata": {},
   "outputs": [
    {
     "data": {
      "image/png": "[encoded data removed]",
      "text/plain": [
       "<Figure size 432x288 with 1 Axes>"
      ]
     },
     "metadata": {
      "needs_background": "light"
     },
     "output_type": "display_data"
    }
   ],
   "source": [
    "fits = [ols_performance_test, svm_performance_test, lgs_performance_test, nbs_performance_test, prc_performance_test, rdg_performance_test, rdf_performance_test]\n",
    "\n",
    "for fit in fits:\n",
    "    plt.plot(fit.performance_measures['FP'] / fit.performance_measures['Neg'], \n",
    "             fit.performance_measures['TP'] / fit.performance_measures['Pos'], 'bo')\n",
    "    plt.text(fit.performance_measures['FP'] / fit.performance_measures['Neg'], \n",
    "             fit.performance_measures['TP'] / fit.performance_measures['Pos'], fit.desc)\n",
    "plt.axis([0, 1, 0, 1])\n",
    "plt.title('ROC plot: test set')\n",
    "plt.xlabel('False positive rate')\n",
    "plt.ylabel('True positive rate')\n",
    "plt.show()"
   ]
  },
  {
   "cell_type": "markdown",
   "metadata": {},
   "source": [
    "---\n",
    "\n",
    "# <span style=\"color:red\">SUBMISSION</span>\n",
    "\n",
    "---"
   ]
  },
  {
   "cell_type": "code",
   "execution_count": 24,
   "metadata": {},
   "outputs": [
    {
     "name": "stdout",
     "output_type": "stream",
     "text": [
      "movie_data is: <class 'pandas.core.frame.DataFrame'>\n",
      "movie_data has 25000 rows and 2 columns \n",
      "\n",
      "the data types for each of the columns in movie_data:\n",
      "id        object\n",
      "review    object\n",
      "dtype: object \n",
      "\n",
      "the first 10 rows in movie_data:\n",
      "         id                                             review\n",
      "0  12311_10  Naturally in a film who's main themes are of m...\n",
      "1    8348_2  This movie is a disaster within a disaster fil...\n",
      "2    5828_4  All in all, this is a movie for kids. We saw i...\n",
      "3    7186_2  Afraid of the Dark left me with the impression...\n",
      "4   12128_7  A very accurate depiction of small time mob li...\n",
      "Shape of HashingVectorizer X:\n",
      "(25000, 131072)\n",
      "Look at a few rows of the new quantitative features: \n",
      "   word_count  punc_count\n",
      "0         131           5\n",
      "1         169          15\n",
      "2         176          18\n",
      "3         112           5\n",
      "4         133           8\n",
      "5         331          20\n",
      "6         121          18\n",
      "7         230          22\n",
      "8          59           3\n",
      "9         224          14\n",
      "Size of combined bag of words and new quantitative variables matrix:\n",
      "(25000, 131074)\n",
      "(25000, 131074)\n",
      "Shape of X_test for submission:\n",
      "(25000, 131074)\n",
      "SUCCESS!\n",
      "Number of rows in the submission test set (should be 25,000): \n"
     ]
    }
   ],
   "source": [
    "# read in test data for submission\n",
    "# CHANGE FILE PATH and my_random_seed number (any integer other than 74 will do): \n",
    "raw_data, X_test_submission = process_raw_data(fn='../week04/final_data/moviereviews_test.tsv', my_random_seed=74, test=True)\n",
    "print(\"Number of rows in the submission test set (should be 25,000): \")"
   ]
  },
  {
   "cell_type": "markdown",
   "metadata": {},
   "source": [
    "---\n",
    "\n",
    "Choose a <span style=\"color:red\">*single*</span> model for your submission. In this code, I am choosing the Ordinary Least Squares model fit, which is in the `ols` object. But you should choose the model that is performing the best for you! "
   ]
  },
  {
   "cell_type": "code",
   "execution_count": 25,
   "metadata": {},
   "outputs": [
    {
     "name": "stdout",
     "output_type": "stream",
     "text": [
      "0.40176\n"
     ]
    }
   ],
   "source": [
    "# store the id from the raw data\n",
    "my_submission = pd.DataFrame(raw_data[\"id\"])\n",
    "# concatenate predictions to the id\n",
    "my_submission[\"prediction\"] = ols.predict(X_test_submission)\n",
    "# look at the proportion of positive predictions\n",
    "print(my_submission['prediction'].mean())"
   ]
  },
  {
   "cell_type": "code",
   "execution_count": 26,
   "metadata": {},
   "outputs": [
    {
     "data": {
      "text/html": [
       "<div>\n",
       "<style scoped>\n",
       "    .dataframe tbody tr th:only-of-type {\n",
       "        vertical-align: middle;\n",
       "    }\n",
       "\n",
       "    .dataframe tbody tr th {\n",
       "        vertical-align: top;\n",
       "    }\n",
       "\n",
       "    .dataframe thead th {\n",
       "        text-align: right;\n",
       "    }\n",
       "</style>\n",
       "<table border=\"1\" class=\"dataframe\">\n",
       "  <thead>\n",
       "    <tr style=\"text-align: right;\">\n",
       "      <th></th>\n",
       "      <th>id</th>\n",
       "      <th>review</th>\n",
       "      <th>word_count</th>\n",
       "      <th>punc_count</th>\n",
       "    </tr>\n",
       "  </thead>\n",
       "  <tbody>\n",
       "    <tr>\n",
       "      <th>0</th>\n",
       "      <td>12311_10</td>\n",
       "      <td>Naturally in a film who's main themes are of m...</td>\n",
       "      <td>131</td>\n",
       "      <td>5</td>\n",
       "    </tr>\n",
       "    <tr>\n",
       "      <th>1</th>\n",
       "      <td>8348_2</td>\n",
       "      <td>This movie is a disaster within a disaster fil...</td>\n",
       "      <td>169</td>\n",
       "      <td>15</td>\n",
       "    </tr>\n",
       "    <tr>\n",
       "      <th>2</th>\n",
       "      <td>5828_4</td>\n",
       "      <td>All in all, this is a movie for kids. We saw i...</td>\n",
       "      <td>176</td>\n",
       "      <td>18</td>\n",
       "    </tr>\n",
       "    <tr>\n",
       "      <th>3</th>\n",
       "      <td>7186_2</td>\n",
       "      <td>Afraid of the Dark left me with the impression...</td>\n",
       "      <td>112</td>\n",
       "      <td>5</td>\n",
       "    </tr>\n",
       "    <tr>\n",
       "      <th>4</th>\n",
       "      <td>12128_7</td>\n",
       "      <td>A very accurate depiction of small time mob li...</td>\n",
       "      <td>133</td>\n",
       "      <td>8</td>\n",
       "    </tr>\n",
       "  </tbody>\n",
       "</table>\n",
       "</div>"
      ],
      "text/plain": [
       "         id                                             review  word_count  \\\n",
       "0  12311_10  Naturally in a film who's main themes are of m...         131   \n",
       "1    8348_2  This movie is a disaster within a disaster fil...         169   \n",
       "2    5828_4  All in all, this is a movie for kids. We saw i...         176   \n",
       "3    7186_2  Afraid of the Dark left me with the impression...         112   \n",
       "4   12128_7  A very accurate depiction of small time mob li...         133   \n",
       "\n",
       "   punc_count  \n",
       "0           5  \n",
       "1          15  \n",
       "2          18  \n",
       "3           5  \n",
       "4           8  "
      ]
     },
     "execution_count": 26,
     "metadata": {},
     "output_type": "execute_result"
    }
   ],
   "source": [
    "raw_data.head()"
   ]
  },
  {
   "cell_type": "code",
   "execution_count": 27,
   "metadata": {},
   "outputs": [
    {
     "data": {
      "text/html": [
       "<div>\n",
       "<style scoped>\n",
       "    .dataframe tbody tr th:only-of-type {\n",
       "        vertical-align: middle;\n",
       "    }\n",
       "\n",
       "    .dataframe tbody tr th {\n",
       "        vertical-align: top;\n",
       "    }\n",
       "\n",
       "    .dataframe thead th {\n",
       "        text-align: right;\n",
       "    }\n",
       "</style>\n",
       "<table border=\"1\" class=\"dataframe\">\n",
       "  <thead>\n",
       "    <tr style=\"text-align: right;\">\n",
       "      <th></th>\n",
       "      <th>id</th>\n",
       "      <th>prediction</th>\n",
       "    </tr>\n",
       "  </thead>\n",
       "  <tbody>\n",
       "    <tr>\n",
       "      <th>0</th>\n",
       "      <td>12311_10</td>\n",
       "      <td>0</td>\n",
       "    </tr>\n",
       "    <tr>\n",
       "      <th>1</th>\n",
       "      <td>8348_2</td>\n",
       "      <td>0</td>\n",
       "    </tr>\n",
       "    <tr>\n",
       "      <th>2</th>\n",
       "      <td>5828_4</td>\n",
       "      <td>0</td>\n",
       "    </tr>\n",
       "    <tr>\n",
       "      <th>3</th>\n",
       "      <td>7186_2</td>\n",
       "      <td>0</td>\n",
       "    </tr>\n",
       "    <tr>\n",
       "      <th>4</th>\n",
       "      <td>12128_7</td>\n",
       "      <td>1</td>\n",
       "    </tr>\n",
       "  </tbody>\n",
       "</table>\n",
       "</div>"
      ],
      "text/plain": [
       "         id  prediction\n",
       "0  12311_10           0\n",
       "1    8348_2           0\n",
       "2    5828_4           0\n",
       "3    7186_2           0\n",
       "4   12128_7           1"
      ]
     },
     "execution_count": 27,
     "metadata": {},
     "output_type": "execute_result"
    }
   ],
   "source": [
    "my_submission.head()"
   ]
  },
  {
   "cell_type": "code",
   "execution_count": 28,
   "metadata": {},
   "outputs": [
    {
     "data": {
      "text/plain": [
       "(25000, 2)"
      ]
     },
     "execution_count": 28,
     "metadata": {},
     "output_type": "execute_result"
    }
   ],
   "source": [
    "my_submission.shape"
   ]
  },
  {
   "cell_type": "code",
   "execution_count": 29,
   "metadata": {},
   "outputs": [
    {
     "ename": "FileNotFoundError",
     "evalue": "[Errno 2] No such file or directory: '/home/ec2-user/data/moviereviews_submission.csv'",
     "output_type": "error",
     "traceback": [
      "\u001b[0;31m---------------------------------------------------------------------------\u001b[0m",
      "\u001b[0;31mFileNotFoundError\u001b[0m                         Traceback (most recent call last)",
      "\u001b[0;32m<ipython-input-29-c341f54ea125>\u001b[0m in \u001b[0;36m<module>\u001b[0;34m\u001b[0m\n\u001b[1;32m      1\u001b[0m \u001b[0;31m# export submission file as pdf\u001b[0m\u001b[0;34m\u001b[0m\u001b[0;34m\u001b[0m\u001b[0;34m\u001b[0m\u001b[0m\n\u001b[1;32m      2\u001b[0m \u001b[0;31m# CHANGE FILE PATH:\u001b[0m\u001b[0;34m\u001b[0m\u001b[0;34m\u001b[0m\u001b[0;34m\u001b[0m\u001b[0m\n\u001b[0;32m----> 3\u001b[0;31m \u001b[0mmy_submission\u001b[0m\u001b[0;34m.\u001b[0m\u001b[0mto_csv\u001b[0m\u001b[0;34m(\u001b[0m\u001b[0;34m'/home/ec2-user/data/moviereviews_submission.csv'\u001b[0m\u001b[0;34m,\u001b[0m \u001b[0mindex\u001b[0m\u001b[0;34m=\u001b[0m\u001b[0;32mFalse\u001b[0m\u001b[0;34m)\u001b[0m\u001b[0;34m\u001b[0m\u001b[0;34m\u001b[0m\u001b[0m\n\u001b[0m",
      "\u001b[0;32m~/opt/anaconda3/lib/python3.8/site-packages/pandas/core/generic.py\u001b[0m in \u001b[0;36mto_csv\u001b[0;34m(self, path_or_buf, sep, na_rep, float_format, columns, header, index, index_label, mode, encoding, compression, quoting, quotechar, line_terminator, chunksize, date_format, doublequote, escapechar, decimal)\u001b[0m\n\u001b[1;32m   3202\u001b[0m             \u001b[0mdecimal\u001b[0m\u001b[0;34m=\u001b[0m\u001b[0mdecimal\u001b[0m\u001b[0;34m,\u001b[0m\u001b[0;34m\u001b[0m\u001b[0;34m\u001b[0m\u001b[0m\n\u001b[1;32m   3203\u001b[0m         )\n\u001b[0;32m-> 3204\u001b[0;31m         \u001b[0mformatter\u001b[0m\u001b[0;34m.\u001b[0m\u001b[0msave\u001b[0m\u001b[0;34m(\u001b[0m\u001b[0;34m)\u001b[0m\u001b[0;34m\u001b[0m\u001b[0;34m\u001b[0m\u001b[0m\n\u001b[0m\u001b[1;32m   3205\u001b[0m \u001b[0;34m\u001b[0m\u001b[0m\n\u001b[1;32m   3206\u001b[0m         \u001b[0;32mif\u001b[0m \u001b[0mpath_or_buf\u001b[0m \u001b[0;32mis\u001b[0m \u001b[0;32mNone\u001b[0m\u001b[0;34m:\u001b[0m\u001b[0;34m\u001b[0m\u001b[0;34m\u001b[0m\u001b[0m\n",
      "\u001b[0;32m~/opt/anaconda3/lib/python3.8/site-packages/pandas/io/formats/csvs.py\u001b[0m in \u001b[0;36msave\u001b[0;34m(self)\u001b[0m\n\u001b[1;32m    182\u001b[0m             \u001b[0mclose\u001b[0m \u001b[0;34m=\u001b[0m \u001b[0;32mFalse\u001b[0m\u001b[0;34m\u001b[0m\u001b[0;34m\u001b[0m\u001b[0m\n\u001b[1;32m    183\u001b[0m         \u001b[0;32melse\u001b[0m\u001b[0;34m:\u001b[0m\u001b[0;34m\u001b[0m\u001b[0;34m\u001b[0m\u001b[0m\n\u001b[0;32m--> 184\u001b[0;31m             f, handles = get_handle(\n\u001b[0m\u001b[1;32m    185\u001b[0m                 \u001b[0mself\u001b[0m\u001b[0;34m.\u001b[0m\u001b[0mpath_or_buf\u001b[0m\u001b[0;34m,\u001b[0m\u001b[0;34m\u001b[0m\u001b[0;34m\u001b[0m\u001b[0m\n\u001b[1;32m    186\u001b[0m                 \u001b[0mself\u001b[0m\u001b[0;34m.\u001b[0m\u001b[0mmode\u001b[0m\u001b[0;34m,\u001b[0m\u001b[0;34m\u001b[0m\u001b[0;34m\u001b[0m\u001b[0m\n",
      "\u001b[0;32m~/opt/anaconda3/lib/python3.8/site-packages/pandas/io/common.py\u001b[0m in \u001b[0;36mget_handle\u001b[0;34m(path_or_buf, mode, encoding, compression, memory_map, is_text)\u001b[0m\n\u001b[1;32m    426\u001b[0m         \u001b[0;32mif\u001b[0m \u001b[0mencoding\u001b[0m\u001b[0;34m:\u001b[0m\u001b[0;34m\u001b[0m\u001b[0;34m\u001b[0m\u001b[0m\n\u001b[1;32m    427\u001b[0m             \u001b[0;31m# Encoding\u001b[0m\u001b[0;34m\u001b[0m\u001b[0;34m\u001b[0m\u001b[0;34m\u001b[0m\u001b[0m\n\u001b[0;32m--> 428\u001b[0;31m             \u001b[0mf\u001b[0m \u001b[0;34m=\u001b[0m \u001b[0mopen\u001b[0m\u001b[0;34m(\u001b[0m\u001b[0mpath_or_buf\u001b[0m\u001b[0;34m,\u001b[0m \u001b[0mmode\u001b[0m\u001b[0;34m,\u001b[0m \u001b[0mencoding\u001b[0m\u001b[0;34m=\u001b[0m\u001b[0mencoding\u001b[0m\u001b[0;34m,\u001b[0m \u001b[0mnewline\u001b[0m\u001b[0;34m=\u001b[0m\u001b[0;34m\"\"\u001b[0m\u001b[0;34m)\u001b[0m\u001b[0;34m\u001b[0m\u001b[0;34m\u001b[0m\u001b[0m\n\u001b[0m\u001b[1;32m    429\u001b[0m         \u001b[0;32melif\u001b[0m \u001b[0mis_text\u001b[0m\u001b[0;34m:\u001b[0m\u001b[0;34m\u001b[0m\u001b[0;34m\u001b[0m\u001b[0m\n\u001b[1;32m    430\u001b[0m             \u001b[0;31m# No explicit encoding\u001b[0m\u001b[0;34m\u001b[0m\u001b[0;34m\u001b[0m\u001b[0;34m\u001b[0m\u001b[0m\n",
      "\u001b[0;31mFileNotFoundError\u001b[0m: [Errno 2] No such file or directory: '/home/ec2-user/data/moviereviews_submission.csv'"
     ]
    }
   ],
   "source": [
    "# export submission file as pdf\n",
    "# CHANGE FILE PATH: \n",
    "my_submission.to_csv('/home/ec2-user/data/moviereviews_submission.csv', index=False)"
   ]
  },
  {
   "cell_type": "markdown",
   "metadata": {},
   "source": [
    "# Submit to Canvas: 1) the CSV file that was written in the previous cell and 2) the url to the repository (GitHub or other) that contains your code and documentation"
   ]
  },
  {
   "cell_type": "code",
   "execution_count": null,
   "metadata": {},
   "outputs": [],
   "source": []
  },
  {
   "cell_type": "code",
   "execution_count": null,
   "metadata": {},
   "outputs": [],
   "source": []
  },
  {
   "cell_type": "code",
   "execution_count": null,
   "metadata": {},
   "outputs": [],
   "source": []
  },
  {
   "cell_type": "code",
   "execution_count": null,
   "metadata": {},
   "outputs": [],
   "source": []
  },
  {
   "cell_type": "code",
   "execution_count": null,
   "metadata": {},
   "outputs": [],
   "source": []
  },
  {
   "cell_type": "code",
   "execution_count": null,
   "metadata": {},
   "outputs": [],
   "source": []
  },
  {
   "cell_type": "code",
   "execution_count": null,
   "metadata": {},
   "outputs": [],
   "source": []
  },
  {
   "cell_type": "code",
   "execution_count": null,
   "metadata": {},
   "outputs": [],
   "source": []
  },
  {
   "cell_type": "code",
   "execution_count": null,
   "metadata": {},
   "outputs": [],
   "source": []
  }
 ],
 "metadata": {
  "kernelspec": {
   "display_name": "Python 3",
   "language": "python",
   "name": "python3"
  },
  "language_info": {
   "codemirror_mode": {
    "name": "ipython",
    "version": 3
   },
   "file_extension": ".py",
   "mimetype": "text/x-python",
   "name": "python",
   "nbconvert_exporter": "python",
   "pygments_lexer": "ipython3",
   "version": "3.8.3"
  }
 },
 "nbformat": 4,
 "nbformat_minor": 2
}
