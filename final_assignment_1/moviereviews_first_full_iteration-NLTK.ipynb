{
 "cells": [
  {
   "cell_type": "markdown",
   "metadata": {},
   "source": [
    "# Movie reviews\n",
    "\n",
    "This notebook takes you though a complete iteration of Machine Learning Assignment 1 - Movie reviews. The assignment details (including links to download the data) can be found [here](https://docs.google.com/document/d/1WGYw99e5q6j5V0Zrf2HveagU6URt_kVvdR8B9HYQ99E/edit?usp=sharing). "
   ]
  },
  {
   "cell_type": "markdown",
   "metadata": {},
   "source": [
    "You are encouraged to create features beyond those available in the feature extraction documentation. Possibilities include the length of the comment/review, its grammar, punctuation, etc."
   ]
  },
  {
   "cell_type": "markdown",
   "metadata": {},
   "source": [
    "The Machine Learning task: \n",
    "This is a classification task. You will predict **Sentiment**, which is equal to **1 if the movie review is a “good” review** or **0 if it is not a “good” review**. "
   ]
  },
  {
   "cell_type": "markdown",
   "metadata": {},
   "source": [
    "Variables that should never be on the X side of the equation: \n",
    "- id\n",
    "- Sentiment\n",
    "- OR ANY VARIATION OF THESE!\n"
   ]
  },
  {
   "cell_type": "markdown",
   "metadata": {},
   "source": [
    "Your work will be assessed on: \n",
    "- how accurately your model classifies on a test set\n",
    "- how well your model generalizes\n",
    "- the organization and documentation of your Jupyter Notebooks\n",
    "- communication of your work in class reflections and final presentations\n",
    "- model improvement over the semester\n",
    "-  -10 points if you use a random_seed of 74 in your train/test data split"
   ]
  },
  {
   "cell_type": "code",
   "execution_count": null,
   "metadata": {},
   "outputs": [],
   "source": []
  },
  {
   "cell_type": "markdown",
   "metadata": {},
   "source": [
    "## import libraries we will use:"
   ]
  },
  {
   "cell_type": "code",
   "execution_count": 1,
   "metadata": {},
   "outputs": [],
   "source": [
    "# all imports and magic commands\n",
    "import numpy as np\n",
    "import pandas as pd\n",
    "import matplotlib.pyplot as plt\n",
    "# from my_measures import BinaryClassificationPerformance\n",
    "from sklearn.feature_extraction.text import HashingVectorizer\n",
    "from sklearn.feature_extraction.text import TfidfTransformer\n",
    "from scipy.sparse import csr_matrix, hstack\n",
    "from sklearn.preprocessing import StandardScaler\n",
    "from sklearn.model_selection import train_test_split\n",
    "%matplotlib inline"
   ]
  },
  {
   "cell_type": "markdown",
   "metadata": {},
   "source": [
    "using NLTK, let's explore the data"
   ]
  },
  {
   "cell_type": "code",
   "execution_count": null,
   "metadata": {},
   "outputs": [],
   "source": []
  },
  {
   "cell_type": "markdown",
   "metadata": {},
   "source": [
    "## Local BinaryClassificationPerformance()"
   ]
  },
  {
   "cell_type": "code",
   "execution_count": 2,
   "metadata": {},
   "outputs": [],
   "source": [
    "# my_measures\n",
    "class BinaryClassificationPerformance():\n",
    "    '''Performance measures to evaluate the fit of a binary classification model, v1.02'''\n",
    "    \n",
    "    def __init__(self, predictions, labels, desc, probabilities=None):\n",
    "        '''Initialize attributes: predictions-vector of predicted values for Y, labels-vector of labels for Y'''\n",
    "        '''probabilities-optional, probability that Y is equal to True'''\n",
    "        self.probabilities = probabilities\n",
    "        self.performance_df = pd.concat([pd.DataFrame(predictions), pd.DataFrame(labels).reset_index(drop=True)], axis=1, ignore_index=True)\n",
    "        self.performance_df.columns = ['preds', 'labls']\n",
    "        self.desc = desc\n",
    "        self.performance_measures = {}\n",
    "        self.image_indices = {}\n",
    "  \n",
    "    def compute_measures(self):\n",
    "        '''Compute performance measures defined by Flach p. 57'''\n",
    "        self.performance_measures['Pos'] = self.performance_df['labls'].sum()\n",
    "        self.performance_measures['Neg'] = self.performance_df['labls'].shape[0] - self.performance_df['labls'].sum()\n",
    "        self.performance_measures['TP'] = ((self.performance_df['preds'] == True) & (self.performance_df['labls'] == True)).sum()\n",
    "        self.performance_measures['TN'] = ((self.performance_df['preds'] == False) & (self.performance_df['labls'] == False)).sum()\n",
    "        self.performance_measures['FP'] = ((self.performance_df['preds'] == True) & (self.performance_df['labls'] == False)).sum()\n",
    "        self.performance_measures['FN'] = ((self.performance_df['preds'] == False) & (self.performance_df['labls'] == True)).sum()\n",
    "        self.performance_measures['Accuracy'] = (self.performance_measures['TP'] + self.performance_measures['TN']) / (self.performance_measures['Pos'] + self.performance_measures['Neg'])\n",
    "        self.performance_measures['Precision'] = self.performance_measures['TP'] / (self.performance_measures['TP'] + self.performance_measures['FP'])\n",
    "        self.performance_measures['Recall'] = self.performance_measures['TP'] / self.performance_measures['Pos']\n",
    "        self.performance_measures['desc'] = self.desc\n",
    "\n",
    "    def img_indices(self):\n",
    "        '''Get the indices of true and false positives to be able to locate the corresponding images in a list of image names'''\n",
    "        self.performance_df['tp_ind'] = ((self.performance_df['preds'] == True) & (self.performance_df['labls'] == True))\n",
    "        self.performance_df['fp_ind'] = ((self.performance_df['preds'] == True) & (self.performance_df['labls'] == False))\n",
    "        self.image_indices['TP_indices'] = np.where(self.performance_df['tp_ind']==True)[0].tolist()\n",
    "        self.image_indices['FP_indices'] = np.where(self.performance_df['fp_ind']==True)[0].tolist()"
   ]
  },
  {
   "cell_type": "markdown",
   "metadata": {},
   "source": [
    "### IMPORTANT!!! Make sure you are using `BinaryClassificationPerformance` v1.02"
   ]
  },
  {
   "cell_type": "code",
   "execution_count": 3,
   "metadata": {
    "scrolled": true
   },
   "outputs": [
    {
     "name": "stdout",
     "output_type": "stream",
     "text": [
      "Help on class BinaryClassificationPerformance in module __main__:\n",
      "\n",
      "class BinaryClassificationPerformance(builtins.object)\n",
      " |  BinaryClassificationPerformance(predictions, labels, desc, probabilities=None)\n",
      " |  \n",
      " |  Performance measures to evaluate the fit of a binary classification model, v1.02\n",
      " |  \n",
      " |  Methods defined here:\n",
      " |  \n",
      " |  __init__(self, predictions, labels, desc, probabilities=None)\n",
      " |      Initialize attributes: predictions-vector of predicted values for Y, labels-vector of labels for Y\n",
      " |  \n",
      " |  compute_measures(self)\n",
      " |      Compute performance measures defined by Flach p. 57\n",
      " |  \n",
      " |  img_indices(self)\n",
      " |      Get the indices of true and false positives to be able to locate the corresponding images in a list of image names\n",
      " |  \n",
      " |  ----------------------------------------------------------------------\n",
      " |  Data descriptors defined here:\n",
      " |  \n",
      " |  __dict__\n",
      " |      dictionary for instance variables (if defined)\n",
      " |  \n",
      " |  __weakref__\n",
      " |      list of weak references to the object (if defined)\n",
      "\n"
     ]
    }
   ],
   "source": [
    "help(BinaryClassificationPerformance)"
   ]
  },
  {
   "cell_type": "code",
   "execution_count": 4,
   "metadata": {},
   "outputs": [],
   "source": [
    "movie_data = pd.read_csv('../week04/final_data/moviereviews_train.tsv', sep='\\t')"
   ]
  },
  {
   "cell_type": "code",
   "execution_count": 7,
   "metadata": {},
   "outputs": [
    {
     "data": {
      "text/html": [
       "<div>\n",
       "<style scoped>\n",
       "    .dataframe tbody tr th:only-of-type {\n",
       "        vertical-align: middle;\n",
       "    }\n",
       "\n",
       "    .dataframe tbody tr th {\n",
       "        vertical-align: top;\n",
       "    }\n",
       "\n",
       "    .dataframe thead th {\n",
       "        text-align: right;\n",
       "    }\n",
       "</style>\n",
       "<table border=\"1\" class=\"dataframe\">\n",
       "  <thead>\n",
       "    <tr style=\"text-align: right;\">\n",
       "      <th></th>\n",
       "      <th>sentiment</th>\n",
       "    </tr>\n",
       "  </thead>\n",
       "  <tbody>\n",
       "    <tr>\n",
       "      <th>count</th>\n",
       "      <td>25000.00000</td>\n",
       "    </tr>\n",
       "    <tr>\n",
       "      <th>mean</th>\n",
       "      <td>0.50000</td>\n",
       "    </tr>\n",
       "    <tr>\n",
       "      <th>std</th>\n",
       "      <td>0.50001</td>\n",
       "    </tr>\n",
       "    <tr>\n",
       "      <th>min</th>\n",
       "      <td>0.00000</td>\n",
       "    </tr>\n",
       "    <tr>\n",
       "      <th>25%</th>\n",
       "      <td>0.00000</td>\n",
       "    </tr>\n",
       "    <tr>\n",
       "      <th>50%</th>\n",
       "      <td>0.50000</td>\n",
       "    </tr>\n",
       "    <tr>\n",
       "      <th>75%</th>\n",
       "      <td>1.00000</td>\n",
       "    </tr>\n",
       "    <tr>\n",
       "      <th>max</th>\n",
       "      <td>1.00000</td>\n",
       "    </tr>\n",
       "  </tbody>\n",
       "</table>\n",
       "</div>"
      ],
      "text/plain": [
       "         sentiment\n",
       "count  25000.00000\n",
       "mean       0.50000\n",
       "std        0.50001\n",
       "min        0.00000\n",
       "25%        0.00000\n",
       "50%        0.50000\n",
       "75%        1.00000\n",
       "max        1.00000"
      ]
     },
     "execution_count": 7,
     "metadata": {},
     "output_type": "execute_result"
    }
   ],
   "source": [
    "movie_data.describe()"
   ]
  },
  {
   "cell_type": "code",
   "execution_count": 8,
   "metadata": {},
   "outputs": [
    {
     "data": {
      "text/html": [
       "<div>\n",
       "<style scoped>\n",
       "    .dataframe tbody tr th:only-of-type {\n",
       "        vertical-align: middle;\n",
       "    }\n",
       "\n",
       "    .dataframe tbody tr th {\n",
       "        vertical-align: top;\n",
       "    }\n",
       "\n",
       "    .dataframe thead th {\n",
       "        text-align: right;\n",
       "    }\n",
       "</style>\n",
       "<table border=\"1\" class=\"dataframe\">\n",
       "  <thead>\n",
       "    <tr style=\"text-align: right;\">\n",
       "      <th></th>\n",
       "      <th>id</th>\n",
       "      <th>sentiment</th>\n",
       "      <th>review</th>\n",
       "    </tr>\n",
       "  </thead>\n",
       "  <tbody>\n",
       "    <tr>\n",
       "      <th>0</th>\n",
       "      <td>5814_8</td>\n",
       "      <td>1</td>\n",
       "      <td>With all this stuff going down at the moment w...</td>\n",
       "    </tr>\n",
       "    <tr>\n",
       "      <th>1</th>\n",
       "      <td>2381_9</td>\n",
       "      <td>1</td>\n",
       "      <td>\\The Classic War of the Worlds\\\" by Timothy Hi...</td>\n",
       "    </tr>\n",
       "    <tr>\n",
       "      <th>2</th>\n",
       "      <td>7759_3</td>\n",
       "      <td>0</td>\n",
       "      <td>The film starts with a manager (Nicholas Bell)...</td>\n",
       "    </tr>\n",
       "    <tr>\n",
       "      <th>3</th>\n",
       "      <td>3630_4</td>\n",
       "      <td>0</td>\n",
       "      <td>It must be assumed that those who praised this...</td>\n",
       "    </tr>\n",
       "    <tr>\n",
       "      <th>4</th>\n",
       "      <td>9495_8</td>\n",
       "      <td>1</td>\n",
       "      <td>Superbly trashy and wondrously unpretentious 8...</td>\n",
       "    </tr>\n",
       "  </tbody>\n",
       "</table>\n",
       "</div>"
      ],
      "text/plain": [
       "       id  sentiment                                             review\n",
       "0  5814_8          1  With all this stuff going down at the moment w...\n",
       "1  2381_9          1  \\The Classic War of the Worlds\\\" by Timothy Hi...\n",
       "2  7759_3          0  The film starts with a manager (Nicholas Bell)...\n",
       "3  3630_4          0  It must be assumed that those who praised this...\n",
       "4  9495_8          1  Superbly trashy and wondrously unpretentious 8..."
      ]
     },
     "execution_count": 8,
     "metadata": {},
     "output_type": "execute_result"
    }
   ],
   "source": [
    "movie_data.head()"
   ]
  },
  {
   "cell_type": "code",
   "execution_count": 9,
   "metadata": {},
   "outputs": [
    {
     "name": "stdout",
     "output_type": "stream",
     "text": [
      "With all this stuff going down at the moment with MJ i've started listening to his music, watching the odd documentary here and there, watched The Wiz and watched Moonwalker again. Maybe i just want to get a certain insight into this guy who i thought was really cool in the eighties just to maybe make up my mind whether he is guilty or innocent. Moonwalker is part biography, part feature film which i remember going to see at the cinema when it was originally released. Some of it has subtle messages about MJ's feeling towards the press and also the obvious message of drugs are bad m'kay.<br /><br />Visually impressive but of course this is all about Michael Jackson so unless you remotely like MJ in anyway then you are going to hate this and find it boring. Some may call MJ an egotist for consenting to the making of this movie BUT MJ and most of his fans would say that he made it for the fans which if true is really nice of him.<br /><br />The actual feature film bit when it finally starts is only on for 20 minutes or so excluding the Smooth Criminal sequence and Joe Pesci is convincing as a psychopathic all powerful drug lord. Why he wants MJ dead so bad is beyond me. Because MJ overheard his plans? Nah, Joe Pesci's character ranted that he wanted people to know it is he who is supplying drugs etc so i dunno, maybe he just hates MJ's music.<br /><br />Lots of cool things in this like MJ turning into a car and a robot and the whole Speed Demon sequence. Also, the director must have had the patience of a saint when it came to filming the kiddy Bad sequence as usually directors hate working with one kid let alone a whole bunch of them performing a complex dance scene.<br /><br />Bottom line, this movie is for people who like MJ on one level or another (which i think is most people). If not, then stay away. It does try and give off a wholesome message and ironically MJ's bestest buddy in this movie is a girl! Michael Jackson is truly one of the most talented people ever to grace this planet but is he guilty? Well, with all the attention i've gave this subject....hmmm well i don't know because people can be different behind closed doors, i know this for a fact. He is either an extremely nice but stupid guy or one of the most sickest liars. I hope he is not the latter.\n"
     ]
    }
   ],
   "source": [
    "sample_review=movie_data['review'][0]\n",
    "print(sample_review)"
   ]
  },
  {
   "cell_type": "markdown",
   "metadata": {},
   "source": [
    "## Basic features:"
   ]
  },
  {
   "cell_type": "markdown",
   "metadata": {},
   "source": [
    "- How long is the text?"
   ]
  },
  {
   "cell_type": "code",
   "execution_count": 10,
   "metadata": {},
   "outputs": [
    {
     "data": {
      "text/plain": [
       "['With',\n",
       " 'all',\n",
       " 'this',\n",
       " 'stuff',\n",
       " 'going',\n",
       " 'down',\n",
       " 'at',\n",
       " 'the',\n",
       " 'moment',\n",
       " 'with',\n",
       " 'MJ',\n",
       " \"i've\",\n",
       " 'started',\n",
       " 'listening',\n",
       " 'to',\n",
       " 'his',\n",
       " 'music,',\n",
       " 'watching',\n",
       " 'the',\n",
       " 'odd',\n",
       " 'documentary',\n",
       " 'here',\n",
       " 'and',\n",
       " 'there,',\n",
       " 'watched',\n",
       " 'The',\n",
       " 'Wiz',\n",
       " 'and',\n",
       " 'watched',\n",
       " 'Moonwalker',\n",
       " 'again.',\n",
       " 'Maybe',\n",
       " 'i',\n",
       " 'just',\n",
       " 'want',\n",
       " 'to',\n",
       " 'get',\n",
       " 'a',\n",
       " 'certain',\n",
       " 'insight',\n",
       " 'into',\n",
       " 'this',\n",
       " 'guy',\n",
       " 'who',\n",
       " 'i',\n",
       " 'thought',\n",
       " 'was',\n",
       " 'really',\n",
       " 'cool',\n",
       " 'in',\n",
       " 'the',\n",
       " 'eighties',\n",
       " 'just',\n",
       " 'to',\n",
       " 'maybe',\n",
       " 'make',\n",
       " 'up',\n",
       " 'my',\n",
       " 'mind',\n",
       " 'whether',\n",
       " 'he',\n",
       " 'is',\n",
       " 'guilty',\n",
       " 'or',\n",
       " 'innocent.',\n",
       " 'Moonwalker',\n",
       " 'is',\n",
       " 'part',\n",
       " 'biography,',\n",
       " 'part',\n",
       " 'feature',\n",
       " 'film',\n",
       " 'which',\n",
       " 'i',\n",
       " 'remember',\n",
       " 'going',\n",
       " 'to',\n",
       " 'see',\n",
       " 'at',\n",
       " 'the',\n",
       " 'cinema',\n",
       " 'when',\n",
       " 'it',\n",
       " 'was',\n",
       " 'originally',\n",
       " 'released.',\n",
       " 'Some',\n",
       " 'of',\n",
       " 'it',\n",
       " 'has',\n",
       " 'subtle',\n",
       " 'messages',\n",
       " 'about',\n",
       " \"MJ's\",\n",
       " 'feeling',\n",
       " 'towards',\n",
       " 'the',\n",
       " 'press',\n",
       " 'and',\n",
       " 'also',\n",
       " 'the',\n",
       " 'obvious',\n",
       " 'message',\n",
       " 'of',\n",
       " 'drugs',\n",
       " 'are',\n",
       " 'bad',\n",
       " \"m'kay.<br\",\n",
       " '/><br',\n",
       " '/>Visually',\n",
       " 'impressive',\n",
       " 'but',\n",
       " 'of',\n",
       " 'course',\n",
       " 'this',\n",
       " 'is',\n",
       " 'all',\n",
       " 'about',\n",
       " 'Michael',\n",
       " 'Jackson',\n",
       " 'so',\n",
       " 'unless',\n",
       " 'you',\n",
       " 'remotely',\n",
       " 'like',\n",
       " 'MJ',\n",
       " 'in',\n",
       " 'anyway',\n",
       " 'then',\n",
       " 'you',\n",
       " 'are',\n",
       " 'going',\n",
       " 'to',\n",
       " 'hate',\n",
       " 'this',\n",
       " 'and',\n",
       " 'find',\n",
       " 'it',\n",
       " 'boring.',\n",
       " 'Some',\n",
       " 'may',\n",
       " 'call',\n",
       " 'MJ',\n",
       " 'an',\n",
       " 'egotist',\n",
       " 'for',\n",
       " 'consenting',\n",
       " 'to',\n",
       " 'the',\n",
       " 'making',\n",
       " 'of',\n",
       " 'this',\n",
       " 'movie',\n",
       " 'BUT',\n",
       " 'MJ',\n",
       " 'and',\n",
       " 'most',\n",
       " 'of',\n",
       " 'his',\n",
       " 'fans',\n",
       " 'would',\n",
       " 'say',\n",
       " 'that',\n",
       " 'he',\n",
       " 'made',\n",
       " 'it',\n",
       " 'for',\n",
       " 'the',\n",
       " 'fans',\n",
       " 'which',\n",
       " 'if',\n",
       " 'true',\n",
       " 'is',\n",
       " 'really',\n",
       " 'nice',\n",
       " 'of',\n",
       " 'him.<br',\n",
       " '/><br',\n",
       " '/>The',\n",
       " 'actual',\n",
       " 'feature',\n",
       " 'film',\n",
       " 'bit',\n",
       " 'when',\n",
       " 'it',\n",
       " 'finally',\n",
       " 'starts',\n",
       " 'is',\n",
       " 'only',\n",
       " 'on',\n",
       " 'for',\n",
       " '20',\n",
       " 'minutes',\n",
       " 'or',\n",
       " 'so',\n",
       " 'excluding',\n",
       " 'the',\n",
       " 'Smooth',\n",
       " 'Criminal',\n",
       " 'sequence',\n",
       " 'and',\n",
       " 'Joe',\n",
       " 'Pesci',\n",
       " 'is',\n",
       " 'convincing',\n",
       " 'as',\n",
       " 'a',\n",
       " 'psychopathic',\n",
       " 'all',\n",
       " 'powerful',\n",
       " 'drug',\n",
       " 'lord.',\n",
       " 'Why',\n",
       " 'he',\n",
       " 'wants',\n",
       " 'MJ',\n",
       " 'dead',\n",
       " 'so',\n",
       " 'bad',\n",
       " 'is',\n",
       " 'beyond',\n",
       " 'me.',\n",
       " 'Because',\n",
       " 'MJ',\n",
       " 'overheard',\n",
       " 'his',\n",
       " 'plans?',\n",
       " 'Nah,',\n",
       " 'Joe',\n",
       " \"Pesci's\",\n",
       " 'character',\n",
       " 'ranted',\n",
       " 'that',\n",
       " 'he',\n",
       " 'wanted',\n",
       " 'people',\n",
       " 'to',\n",
       " 'know',\n",
       " 'it',\n",
       " 'is',\n",
       " 'he',\n",
       " 'who',\n",
       " 'is',\n",
       " 'supplying',\n",
       " 'drugs',\n",
       " 'etc',\n",
       " 'so',\n",
       " 'i',\n",
       " 'dunno,',\n",
       " 'maybe',\n",
       " 'he',\n",
       " 'just',\n",
       " 'hates',\n",
       " \"MJ's\",\n",
       " 'music.<br',\n",
       " '/><br',\n",
       " '/>Lots',\n",
       " 'of',\n",
       " 'cool',\n",
       " 'things',\n",
       " 'in',\n",
       " 'this',\n",
       " 'like',\n",
       " 'MJ',\n",
       " 'turning',\n",
       " 'into',\n",
       " 'a',\n",
       " 'car',\n",
       " 'and',\n",
       " 'a',\n",
       " 'robot',\n",
       " 'and',\n",
       " 'the',\n",
       " 'whole',\n",
       " 'Speed',\n",
       " 'Demon',\n",
       " 'sequence.',\n",
       " 'Also,',\n",
       " 'the',\n",
       " 'director',\n",
       " 'must',\n",
       " 'have',\n",
       " 'had',\n",
       " 'the',\n",
       " 'patience',\n",
       " 'of',\n",
       " 'a',\n",
       " 'saint',\n",
       " 'when',\n",
       " 'it',\n",
       " 'came',\n",
       " 'to',\n",
       " 'filming',\n",
       " 'the',\n",
       " 'kiddy',\n",
       " 'Bad',\n",
       " 'sequence',\n",
       " 'as',\n",
       " 'usually',\n",
       " 'directors',\n",
       " 'hate',\n",
       " 'working',\n",
       " 'with',\n",
       " 'one',\n",
       " 'kid',\n",
       " 'let',\n",
       " 'alone',\n",
       " 'a',\n",
       " 'whole',\n",
       " 'bunch',\n",
       " 'of',\n",
       " 'them',\n",
       " 'performing',\n",
       " 'a',\n",
       " 'complex',\n",
       " 'dance',\n",
       " 'scene.<br',\n",
       " '/><br',\n",
       " '/>Bottom',\n",
       " 'line,',\n",
       " 'this',\n",
       " 'movie',\n",
       " 'is',\n",
       " 'for',\n",
       " 'people',\n",
       " 'who',\n",
       " 'like',\n",
       " 'MJ',\n",
       " 'on',\n",
       " 'one',\n",
       " 'level',\n",
       " 'or',\n",
       " 'another',\n",
       " '(which',\n",
       " 'i',\n",
       " 'think',\n",
       " 'is',\n",
       " 'most',\n",
       " 'people).',\n",
       " 'If',\n",
       " 'not,',\n",
       " 'then',\n",
       " 'stay',\n",
       " 'away.',\n",
       " 'It',\n",
       " 'does',\n",
       " 'try',\n",
       " 'and',\n",
       " 'give',\n",
       " 'off',\n",
       " 'a',\n",
       " 'wholesome',\n",
       " 'message',\n",
       " 'and',\n",
       " 'ironically',\n",
       " \"MJ's\",\n",
       " 'bestest',\n",
       " 'buddy',\n",
       " 'in',\n",
       " 'this',\n",
       " 'movie',\n",
       " 'is',\n",
       " 'a',\n",
       " 'girl!',\n",
       " 'Michael',\n",
       " 'Jackson',\n",
       " 'is',\n",
       " 'truly',\n",
       " 'one',\n",
       " 'of',\n",
       " 'the',\n",
       " 'most',\n",
       " 'talented',\n",
       " 'people',\n",
       " 'ever',\n",
       " 'to',\n",
       " 'grace',\n",
       " 'this',\n",
       " 'planet',\n",
       " 'but',\n",
       " 'is',\n",
       " 'he',\n",
       " 'guilty?',\n",
       " 'Well,',\n",
       " 'with',\n",
       " 'all',\n",
       " 'the',\n",
       " 'attention',\n",
       " \"i've\",\n",
       " 'gave',\n",
       " 'this',\n",
       " 'subject....hmmm',\n",
       " 'well',\n",
       " 'i',\n",
       " \"don't\",\n",
       " 'know',\n",
       " 'because',\n",
       " 'people',\n",
       " 'can',\n",
       " 'be',\n",
       " 'different',\n",
       " 'behind',\n",
       " 'closed',\n",
       " 'doors,',\n",
       " 'i',\n",
       " 'know',\n",
       " 'this',\n",
       " 'for',\n",
       " 'a',\n",
       " 'fact.',\n",
       " 'He',\n",
       " 'is',\n",
       " 'either',\n",
       " 'an',\n",
       " 'extremely',\n",
       " 'nice',\n",
       " 'but',\n",
       " 'stupid',\n",
       " 'guy',\n",
       " 'or',\n",
       " 'one',\n",
       " 'of',\n",
       " 'the',\n",
       " 'most',\n",
       " 'sickest',\n",
       " 'liars.',\n",
       " 'I',\n",
       " 'hope',\n",
       " 'he',\n",
       " 'is',\n",
       " 'not',\n",
       " 'the',\n",
       " 'latter.']"
      ]
     },
     "execution_count": 10,
     "metadata": {},
     "output_type": "execute_result"
    }
   ],
   "source": [
    "sample_review.split()"
   ]
  },
  {
   "cell_type": "code",
   "execution_count": 11,
   "metadata": {},
   "outputs": [
    {
     "data": {
      "text/plain": [
       "433"
      ]
     },
     "execution_count": 11,
     "metadata": {},
     "output_type": "execute_result"
    }
   ],
   "source": [
    "len(sample_review.split())"
   ]
  },
  {
   "cell_type": "code",
   "execution_count": 12,
   "metadata": {},
   "outputs": [],
   "source": [
    "# let's clean it for < br/>\n",
    "sample_review = sample_review.replace(\"<br />\", \" \").replace(\"\\\\\", \"\").replace(\"\\'\", \"'\")"
   ]
  },
  {
   "cell_type": "code",
   "execution_count": 13,
   "metadata": {},
   "outputs": [
    {
     "data": {
      "text/plain": [
       "\"With all this stuff going down at the moment with MJ i've started listening to his music, watching the odd documentary here and there, watched The Wiz and watched Moonwalker again. Maybe i just want to get a certain insight into this guy who i thought was really cool in the eighties just to maybe make up my mind whether he is guilty or innocent. Moonwalker is part biography, part feature film which i remember going to see at the cinema when it was originally released. Some of it has subtle messages about MJ's feeling towards the press and also the obvious message of drugs are bad m'kay.  Visually impressive but of course this is all about Michael Jackson so unless you remotely like MJ in anyway then you are going to hate this and find it boring. Some may call MJ an egotist for consenting to the making of this movie BUT MJ and most of his fans would say that he made it for the fans which if true is really nice of him.  The actual feature film bit when it finally starts is only on for 20 minutes or so excluding the Smooth Criminal sequence and Joe Pesci is convincing as a psychopathic all powerful drug lord. Why he wants MJ dead so bad is beyond me. Because MJ overheard his plans? Nah, Joe Pesci's character ranted that he wanted people to know it is he who is supplying drugs etc so i dunno, maybe he just hates MJ's music.  Lots of cool things in this like MJ turning into a car and a robot and the whole Speed Demon sequence. Also, the director must have had the patience of a saint when it came to filming the kiddy Bad sequence as usually directors hate working with one kid let alone a whole bunch of them performing a complex dance scene.  Bottom line, this movie is for people who like MJ on one level or another (which i think is most people). If not, then stay away. It does try and give off a wholesome message and ironically MJ's bestest buddy in this movie is a girl! Michael Jackson is truly one of the most talented people ever to grace this planet but is he guilty? Well, with all the attention i've gave this subject....hmmm well i don't know because people can be different behind closed doors, i know this for a fact. He is either an extremely nice but stupid guy or one of the most sickest liars. I hope he is not the latter.\""
      ]
     },
     "execution_count": 13,
     "metadata": {},
     "output_type": "execute_result"
    }
   ],
   "source": [
    "sample_review"
   ]
  },
  {
   "cell_type": "code",
   "execution_count": 14,
   "metadata": {},
   "outputs": [
    {
     "data": {
      "text/plain": [
       "'I dont know why people think this is such a bad movie. Its got a pretty good plot, some good action, and the change of location for Harry does not hurt either. Sure some of its offensive and gratuitous but this is not the only movie like that. Eastwood is in good form as Dirty Harry, and I liked Pat Hingle in this movie as the small town cop. If you liked DIRTY HARRY, then you should see this one, its a lot better than THE DEAD POOL. 4/5'"
      ]
     },
     "execution_count": 14,
     "metadata": {},
     "output_type": "execute_result"
    }
   ],
   "source": [
    "movie_data['review'][5]"
   ]
  },
  {
   "cell_type": "code",
   "execution_count": 15,
   "metadata": {},
   "outputs": [
    {
     "data": {
      "text/plain": [
       "-0.42857142857142855"
      ]
     },
     "execution_count": 15,
     "metadata": {},
     "output_type": "execute_result"
    }
   ],
   "source": [
    "negative_words=[\"stupid\", \"liar\", \"guilty\", \"hate\", \n",
    "                \"boring\", \"bad\", \"not\", \"hates\", \"bad\", \n",
    "                \"terrible\", \"waste\", \"hated\", \"awful\", \"dumb\", \"idiot\",\n",
    "               \"badly\", \"mediocore\", \"ridiculous\", \"nonsense\", \"disaster\", \"monstrously\",\n",
    "               \"ill\"]\n",
    "positive_words=[\"great\", \"loved\", \"fun\", \"cute\", \"entertaining\", \"good\", \"wholesome\",\n",
    "               \"nice\", \"impressive\", \"funny\", \"classic\", \"pretty\", \"beautiful\"]\n",
    "# count the occurance of any of the posittive words iin the text:\n",
    "\n",
    "        \n",
    "        \n",
    "def getOccurrences(str, word):\n",
    "    # split the string by spaces in a\n",
    "    a = str.split(\" \")\n",
    " \n",
    "    # search for pattern in a\n",
    "    count = 0\n",
    "    for i in range(0, len(a)):\n",
    "         \n",
    "        # if match found increase count\n",
    "        if (word == a[i]):\n",
    "           count = count + 1\n",
    "            \n",
    "    return count \n",
    "\n",
    "def word_test(sample_review):\n",
    "    tot_pos=0\n",
    "    tot_neg=0\n",
    "    for word in range(0, len(negative_words)):\n",
    "        num=getOccurrences(sample_review, negative_words[word])\n",
    "        if num>0:\n",
    "            tot_neg+=num\n",
    "    for word in range(0, len(positive_words)):\n",
    "        num=getOccurrences(sample_review, positive_words[word])\n",
    "        if num>0:\n",
    "            tot_pos+=num\n",
    "    if (tot_pos+tot_neg)==0:\n",
    "        return 1.0\n",
    "    else:\n",
    "#     print(tot_pos, tot_neg)\n",
    "        return((tot_pos-tot_neg) / (tot_pos+tot_neg))\n",
    "\n",
    "word_test(sample_review)"
   ]
  },
  {
   "cell_type": "code",
   "execution_count": 16,
   "metadata": {},
   "outputs": [
    {
     "data": {
      "text/plain": [
       "pandas.core.series.Series"
      ]
     },
     "execution_count": 16,
     "metadata": {},
     "output_type": "execute_result"
    }
   ],
   "source": [
    "l=movie_data['review'].str.split(' ').str.len()\n",
    "type(l)"
   ]
  },
  {
   "cell_type": "code",
   "execution_count": 17,
   "metadata": {
    "scrolled": true
   },
   "outputs": [
    {
     "data": {
      "text/html": [
       "<div>\n",
       "<style scoped>\n",
       "    .dataframe tbody tr th:only-of-type {\n",
       "        vertical-align: middle;\n",
       "    }\n",
       "\n",
       "    .dataframe tbody tr th {\n",
       "        vertical-align: top;\n",
       "    }\n",
       "\n",
       "    .dataframe thead th {\n",
       "        text-align: right;\n",
       "    }\n",
       "</style>\n",
       "<table border=\"1\" class=\"dataframe\">\n",
       "  <thead>\n",
       "    <tr style=\"text-align: right;\">\n",
       "      <th></th>\n",
       "      <th>0</th>\n",
       "    </tr>\n",
       "  </thead>\n",
       "  <tbody>\n",
       "    <tr>\n",
       "      <th>0</th>\n",
       "      <td>0.571429</td>\n",
       "    </tr>\n",
       "    <tr>\n",
       "      <th>1</th>\n",
       "      <td>1.600000</td>\n",
       "    </tr>\n",
       "    <tr>\n",
       "      <th>2</th>\n",
       "      <td>0.000000</td>\n",
       "    </tr>\n",
       "    <tr>\n",
       "      <th>3</th>\n",
       "      <td>0.000000</td>\n",
       "    </tr>\n",
       "    <tr>\n",
       "      <th>4</th>\n",
       "      <td>1.000000</td>\n",
       "    </tr>\n",
       "    <tr>\n",
       "      <th>...</th>\n",
       "      <td>...</td>\n",
       "    </tr>\n",
       "    <tr>\n",
       "      <th>24995</th>\n",
       "      <td>2.000000</td>\n",
       "    </tr>\n",
       "    <tr>\n",
       "      <th>24996</th>\n",
       "      <td>1.500000</td>\n",
       "    </tr>\n",
       "    <tr>\n",
       "      <th>24997</th>\n",
       "      <td>1.000000</td>\n",
       "    </tr>\n",
       "    <tr>\n",
       "      <th>24998</th>\n",
       "      <td>0.000000</td>\n",
       "    </tr>\n",
       "    <tr>\n",
       "      <th>24999</th>\n",
       "      <td>2.000000</td>\n",
       "    </tr>\n",
       "  </tbody>\n",
       "</table>\n",
       "<p>25000 rows × 1 columns</p>\n",
       "</div>"
      ],
      "text/plain": [
       "              0\n",
       "0      0.571429\n",
       "1      1.600000\n",
       "2      0.000000\n",
       "3      0.000000\n",
       "4      1.000000\n",
       "...         ...\n",
       "24995  2.000000\n",
       "24996  1.500000\n",
       "24997  1.000000\n",
       "24998  0.000000\n",
       "24999  2.000000\n",
       "\n",
       "[25000 rows x 1 columns]"
      ]
     },
     "execution_count": 17,
     "metadata": {},
     "output_type": "execute_result"
    }
   ],
   "source": [
    "# list of strings\n",
    "lst = []\n",
    "# Calling DataFrame constructor on list\n",
    "# df = pd.DataFrame(lst)\n",
    "# df\n",
    "for i in range(0, len(movie_data['review'])): \n",
    "    n= word_test(movie_data['review'][i])\n",
    "    lst.append(n+1)\n",
    "    \n",
    "#     print(\"movie_data['sent_count']\",n)\n",
    "df = pd.DataFrame(lst)\n",
    "df  \n",
    "# word_test(movie_data['review'])"
   ]
  },
  {
   "cell_type": "markdown",
   "metadata": {},
   "source": [
    "## NLTK EXPLORATION"
   ]
  },
  {
   "cell_type": "code",
   "execution_count": 18,
   "metadata": {},
   "outputs": [],
   "source": [
    "from nltk.sentiment.vader import SentimentIntensityAnalyzer\n",
    "\n",
    "from nltk import tokenize\n",
    "lines_list = tokenize.sent_tokenize(sample_review)"
   ]
  },
  {
   "cell_type": "code",
   "execution_count": 19,
   "metadata": {},
   "outputs": [
    {
     "data": {
      "text/plain": [
       "[\"With all this stuff going down at the moment with MJ i've started listening to his music, watching the odd documentary here and there, watched The Wiz and watched Moonwalker again.\",\n",
       " 'Maybe i just want to get a certain insight into this guy who i thought was really cool in the eighties just to maybe make up my mind whether he is guilty or innocent.',\n",
       " 'Moonwalker is part biography, part feature film which i remember going to see at the cinema when it was originally released.',\n",
       " \"Some of it has subtle messages about MJ's feeling towards the press and also the obvious message of drugs are bad m'kay.\",\n",
       " 'Visually impressive but of course this is all about Michael Jackson so unless you remotely like MJ in anyway then you are going to hate this and find it boring.',\n",
       " 'Some may call MJ an egotist for consenting to the making of this movie BUT MJ and most of his fans would say that he made it for the fans which if true is really nice of him.',\n",
       " 'The actual feature film bit when it finally starts is only on for 20 minutes or so excluding the Smooth Criminal sequence and Joe Pesci is convincing as a psychopathic all powerful drug lord.',\n",
       " 'Why he wants MJ dead so bad is beyond me.',\n",
       " 'Because MJ overheard his plans?',\n",
       " \"Nah, Joe Pesci's character ranted that he wanted people to know it is he who is supplying drugs etc so i dunno, maybe he just hates MJ's music.\",\n",
       " 'Lots of cool things in this like MJ turning into a car and a robot and the whole Speed Demon sequence.',\n",
       " 'Also, the director must have had the patience of a saint when it came to filming the kiddy Bad sequence as usually directors hate working with one kid let alone a whole bunch of them performing a complex dance scene.',\n",
       " 'Bottom line, this movie is for people who like MJ on one level or another (which i think is most people).',\n",
       " 'If not, then stay away.',\n",
       " \"It does try and give off a wholesome message and ironically MJ's bestest buddy in this movie is a girl!\",\n",
       " 'Michael Jackson is truly one of the most talented people ever to grace this planet but is he guilty?',\n",
       " \"Well, with all the attention i've gave this subject....hmmm well i don't know because people can be different behind closed doors, i know this for a fact.\",\n",
       " 'He is either an extremely nice but stupid guy or one of the most sickest liars.',\n",
       " 'I hope he is not the latter.']"
      ]
     },
     "execution_count": 19,
     "metadata": {},
     "output_type": "execute_result"
    }
   ],
   "source": [
    "lines_list"
   ]
  },
  {
   "cell_type": "code",
   "execution_count": 20,
   "metadata": {},
   "outputs": [
    {
     "name": "stdout",
     "output_type": "stream",
     "text": [
      "With all this stuff going down at the moment with MJ i've started listening to his music, watching the odd documentary here and there, watched The Wiz and watched Moonwalker again.\n",
      "compound: -0.3182, \n",
      "neg: 0.071, \n",
      "neu: 0.929, \n",
      "pos: 0.0, \n",
      "Maybe i just want to get a certain insight into this guy who i thought was really cool in the eighties just to maybe make up my mind whether he is guilty or innocent.\n",
      "compound: 0.5563, \n",
      "neg: 0.075, \n",
      "neu: 0.699, \n",
      "pos: 0.226, \n",
      "Moonwalker is part biography, part feature film which i remember going to see at the cinema when it was originally released.\n",
      "compound: 0.0, \n",
      "neg: 0.0, \n",
      "neu: 1.0, \n",
      "pos: 0.0, \n",
      "Some of it has subtle messages about MJ's feeling towards the press and also the obvious message of drugs are bad m'kay.\n",
      "compound: -0.4588, \n",
      "neg: 0.14, \n",
      "neu: 0.8, \n",
      "pos: 0.06, \n",
      "Visually impressive but of course this is all about Michael Jackson so unless you remotely like MJ in anyway then you are going to hate this and find it boring.\n",
      "compound: -0.5574, \n",
      "neg: 0.203, \n",
      "neu: 0.66, \n",
      "pos: 0.137, \n",
      "Some may call MJ an egotist for consenting to the making of this movie BUT MJ and most of his fans would say that he made it for the fans which if true is really nice of him.\n",
      "compound: 0.771, \n",
      "neg: 0.048, \n",
      "neu: 0.778, \n",
      "pos: 0.174, \n",
      "The actual feature film bit when it finally starts is only on for 20 minutes or so excluding the Smooth Criminal sequence and Joe Pesci is convincing as a psychopathic all powerful drug lord.\n",
      "compound: 0.2732, \n",
      "neg: 0.087, \n",
      "neu: 0.771, \n",
      "pos: 0.141, \n",
      "Why he wants MJ dead so bad is beyond me.\n",
      "compound: -0.8687, \n",
      "neg: 0.524, \n",
      "neu: 0.476, \n",
      "pos: 0.0, \n",
      "Because MJ overheard his plans?\n",
      "compound: 0.0, \n",
      "neg: 0.0, \n",
      "neu: 1.0, \n",
      "pos: 0.0, \n",
      "Nah, Joe Pesci's character ranted that he wanted people to know it is he who is supplying drugs etc so i dunno, maybe he just hates MJ's music.\n",
      "compound: -0.5106, \n",
      "neg: 0.147, \n",
      "neu: 0.853, \n",
      "pos: 0.0, \n",
      "Lots of cool things in this like MJ turning into a car and a robot and the whole Speed Demon sequence.\n",
      "compound: 0.634, \n",
      "neg: 0.0, \n",
      "neu: 0.767, \n",
      "pos: 0.233, \n",
      "Also, the director must have had the patience of a saint when it came to filming the kiddy Bad sequence as usually directors hate working with one kid let alone a whole bunch of them performing a complex dance scene.\n",
      "compound: -0.8481, \n",
      "neg: 0.213, \n",
      "neu: 0.787, \n",
      "pos: 0.0, \n",
      "Bottom line, this movie is for people who like MJ on one level or another (which i think is most people).\n",
      "compound: 0.3612, \n",
      "neg: 0.0, \n",
      "neu: 0.884, \n",
      "pos: 0.116, \n",
      "If not, then stay away.\n",
      "compound: 0.0, \n",
      "neg: 0.0, \n",
      "neu: 1.0, \n",
      "pos: 0.0, \n",
      "It does try and give off a wholesome message and ironically MJ's bestest buddy in this movie is a girl!\n",
      "compound: 0.0, \n",
      "neg: 0.0, \n",
      "neu: 1.0, \n",
      "pos: 0.0, \n",
      "Michael Jackson is truly one of the most talented people ever to grace this planet but is he guilty?\n",
      "compound: 0.1145, \n",
      "neg: 0.149, \n",
      "neu: 0.604, \n",
      "pos: 0.247, \n",
      "Well, with all the attention i've gave this subject....hmmm well i don't know because people can be different behind closed doors, i know this for a fact.\n",
      "compound: 0.4939, \n",
      "neg: 0.0, \n",
      "neu: 0.84, \n",
      "pos: 0.16, \n",
      "He is either an extremely nice but stupid guy or one of the most sickest liars.\n",
      "compound: -0.874, \n",
      "neg: 0.4, \n",
      "neu: 0.519, \n",
      "pos: 0.082, \n",
      "I hope he is not the latter.\n",
      "compound: 0.4404, \n",
      "neg: 0.0, \n",
      "neu: 0.633, \n",
      "pos: 0.367, \n"
     ]
    }
   ],
   "source": [
    "for sentence in lines_list:\n",
    "    sid = SentimentIntensityAnalyzer()\n",
    "    print(sentence)\n",
    "    ss = sid.polarity_scores(sentence)\n",
    "    for k in sorted(ss):\n",
    "        print('{0}: {1}, '.format(k, ss[k]), end='')\n",
    "        print()\n"
   ]
  },
  {
   "cell_type": "code",
   "execution_count": 23,
   "metadata": {},
   "outputs": [
    {
     "name": "stdout",
     "output_type": "stream",
     "text": [
      "right: 17668 wrong: 7332 total: 25000\n"
     ]
    }
   ],
   "source": [
    "from nltk.tokenize.punkt import PunktSentenceTokenizer, PunktParameters\n",
    "\n",
    "punkt_params = PunktParameters()\n",
    "punkt_params.abbrev_types = set(['Mr', 'Mrs', 'LLC'])\n",
    "tokenizer = PunktSentenceTokenizer(punkt_params)\n",
    "\n",
    "def get_sentiment_given_paragraph(text):\n",
    "#     replace <br /><br /> with ' '\n",
    "    cleaned_sample=text.replace('<br />', ' ')\n",
    "    tokens = tokenizer.tokenize(cleaned_sample)\n",
    "    sentiment=0\n",
    "    for sentence in tokens:\n",
    "        sid = SentimentIntensityAnalyzer()\n",
    "        ss = sid.polarity_scores(sentence)\n",
    "        sentiment+=ss['compound']\n",
    "    return(sentiment)\n",
    "right=0\n",
    "wrong=0\n",
    "# check if it works:\n",
    "for i in range(0,25000):\n",
    "    verdict=get_sentiment_given_paragraph(movie_data['review'][i])\n",
    "#     print(get_sentiment_given_paragraph(movie_data['review'][i]))\n",
    "#     print(movie_data['sentiment'][i])\n",
    "    if (verdict>0 and movie_data['sentiment'][i] == 1 ) or (verdict<0 and movie_data['sentiment'][i] == 0 ):\n",
    "        right+=1\n",
    "    else:\n",
    "        wrong+=1\n",
    "print('right:', right, 'wrong:', wrong, 'total:', right+wrong)"
   ]
  },
  {
   "cell_type": "code",
   "execution_count": 24,
   "metadata": {},
   "outputs": [
    {
     "data": {
      "text/html": [
       "<div>\n",
       "<style scoped>\n",
       "    .dataframe tbody tr th:only-of-type {\n",
       "        vertical-align: middle;\n",
       "    }\n",
       "\n",
       "    .dataframe tbody tr th {\n",
       "        vertical-align: top;\n",
       "    }\n",
       "\n",
       "    .dataframe thead th {\n",
       "        text-align: right;\n",
       "    }\n",
       "</style>\n",
       "<table border=\"1\" class=\"dataframe\">\n",
       "  <thead>\n",
       "    <tr style=\"text-align: right;\">\n",
       "      <th></th>\n",
       "      <th>0</th>\n",
       "    </tr>\n",
       "  </thead>\n",
       "  <tbody>\n",
       "    <tr>\n",
       "      <th>0</th>\n",
       "      <td>0.571429</td>\n",
       "    </tr>\n",
       "    <tr>\n",
       "      <th>1</th>\n",
       "      <td>1.600000</td>\n",
       "    </tr>\n",
       "    <tr>\n",
       "      <th>2</th>\n",
       "      <td>0.000000</td>\n",
       "    </tr>\n",
       "    <tr>\n",
       "      <th>3</th>\n",
       "      <td>0.000000</td>\n",
       "    </tr>\n",
       "    <tr>\n",
       "      <th>4</th>\n",
       "      <td>1.000000</td>\n",
       "    </tr>\n",
       "    <tr>\n",
       "      <th>...</th>\n",
       "      <td>...</td>\n",
       "    </tr>\n",
       "    <tr>\n",
       "      <th>24995</th>\n",
       "      <td>2.000000</td>\n",
       "    </tr>\n",
       "    <tr>\n",
       "      <th>24996</th>\n",
       "      <td>1.500000</td>\n",
       "    </tr>\n",
       "    <tr>\n",
       "      <th>24997</th>\n",
       "      <td>1.000000</td>\n",
       "    </tr>\n",
       "    <tr>\n",
       "      <th>24998</th>\n",
       "      <td>0.000000</td>\n",
       "    </tr>\n",
       "    <tr>\n",
       "      <th>24999</th>\n",
       "      <td>2.000000</td>\n",
       "    </tr>\n",
       "  </tbody>\n",
       "</table>\n",
       "<p>25000 rows × 1 columns</p>\n",
       "</div>"
      ],
      "text/plain": [
       "              0\n",
       "0      0.571429\n",
       "1      1.600000\n",
       "2      0.000000\n",
       "3      0.000000\n",
       "4      1.000000\n",
       "...         ...\n",
       "24995  2.000000\n",
       "24996  1.500000\n",
       "24997  1.000000\n",
       "24998  0.000000\n",
       "24999  2.000000\n",
       "\n",
       "[25000 rows x 1 columns]"
      ]
     },
     "execution_count": 24,
     "metadata": {},
     "output_type": "execute_result"
    }
   ],
   "source": [
    "# list of strings\n",
    "nltk_sentiment_calc = []\n",
    "# Calling DataFrame constructor on list\n",
    "# df = pd.DataFrame(lst)\n",
    "# df\n",
    "for i in range(0, len(movie_data['review'])): \n",
    "    n= get_sentiment_given_paragraph(movie_data['review'][i])\n",
    "    nltk_sentiment_calc.append(n)\n",
    "    \n",
    "#     print(\"movie_data['sent_count']\",n)\n",
    "nltk_calc_df = pd.DataFrame(nltk_sentiment_calc)\n"
   ]
  },
  {
   "cell_type": "code",
   "execution_count": 25,
   "metadata": {},
   "outputs": [
    {
     "data": {
      "text/html": [
       "<div>\n",
       "<style scoped>\n",
       "    .dataframe tbody tr th:only-of-type {\n",
       "        vertical-align: middle;\n",
       "    }\n",
       "\n",
       "    .dataframe tbody tr th {\n",
       "        vertical-align: top;\n",
       "    }\n",
       "\n",
       "    .dataframe thead th {\n",
       "        text-align: right;\n",
       "    }\n",
       "</style>\n",
       "<table border=\"1\" class=\"dataframe\">\n",
       "  <thead>\n",
       "    <tr style=\"text-align: right;\">\n",
       "      <th></th>\n",
       "      <th>0</th>\n",
       "    </tr>\n",
       "  </thead>\n",
       "  <tbody>\n",
       "    <tr>\n",
       "      <th>0</th>\n",
       "      <td>-0.7913</td>\n",
       "    </tr>\n",
       "    <tr>\n",
       "      <th>1</th>\n",
       "      <td>3.9172</td>\n",
       "    </tr>\n",
       "    <tr>\n",
       "      <th>2</th>\n",
       "      <td>-3.9041</td>\n",
       "    </tr>\n",
       "    <tr>\n",
       "      <th>3</th>\n",
       "      <td>-0.3397</td>\n",
       "    </tr>\n",
       "    <tr>\n",
       "      <th>4</th>\n",
       "      <td>1.6465</td>\n",
       "    </tr>\n",
       "    <tr>\n",
       "      <th>...</th>\n",
       "      <td>...</td>\n",
       "    </tr>\n",
       "    <tr>\n",
       "      <th>24995</th>\n",
       "      <td>1.9641</td>\n",
       "    </tr>\n",
       "    <tr>\n",
       "      <th>24996</th>\n",
       "      <td>3.0501</td>\n",
       "    </tr>\n",
       "    <tr>\n",
       "      <th>24997</th>\n",
       "      <td>2.2361</td>\n",
       "    </tr>\n",
       "    <tr>\n",
       "      <th>24998</th>\n",
       "      <td>-1.3752</td>\n",
       "    </tr>\n",
       "    <tr>\n",
       "      <th>24999</th>\n",
       "      <td>-0.6925</td>\n",
       "    </tr>\n",
       "  </tbody>\n",
       "</table>\n",
       "<p>25000 rows × 1 columns</p>\n",
       "</div>"
      ],
      "text/plain": [
       "            0\n",
       "0     -0.7913\n",
       "1      3.9172\n",
       "2     -3.9041\n",
       "3     -0.3397\n",
       "4      1.6465\n",
       "...       ...\n",
       "24995  1.9641\n",
       "24996  3.0501\n",
       "24997  2.2361\n",
       "24998 -1.3752\n",
       "24999 -0.6925\n",
       "\n",
       "[25000 rows x 1 columns]"
      ]
     },
     "execution_count": 25,
     "metadata": {},
     "output_type": "execute_result"
    }
   ],
   "source": [
    "nltk_calc_df"
   ]
  },
  {
   "cell_type": "markdown",
   "metadata": {},
   "source": [
    "# Function for feature building and extraction on natural language data"
   ]
  },
  {
   "cell_type": "code",
   "execution_count": 33,
   "metadata": {},
   "outputs": [],
   "source": [
    "# function that takes raw data and completes all preprocessing required before model fits\n",
    "def process_raw_data(fn, my_random_seed, test=False):\n",
    "    # read and summarize data\n",
    "    movie_data = pd.read_csv(fn, sep='\\t')\n",
    "    print(\"movie_data is:\", type(movie_data))\n",
    "    print(\"movie_data has\", movie_data.shape[0], \"rows and\", movie_data.shape[1], \"columns\", \"\\n\")\n",
    "    print(\"the data types for each of the columns in movie_data:\")\n",
    "    print(movie_data.dtypes, \"\\n\")\n",
    "    print(\"the first 10 rows in movie_data:\")\n",
    "    print(movie_data.head(5))\n",
    "    if (not test):\n",
    "        print(\"The rate of 'good' movie reviews in the dataset: \")\n",
    "        print(movie_data['sentiment'].mean())\n",
    "\n",
    "    # vectorize Bag of Words from review text; as sparse matrix\n",
    "    if (not test): # fit_transform()\n",
    "        hv = HashingVectorizer(n_features=2 ** 17, alternate_sign=False)\n",
    "        X_hv = hv.fit_transform(movie_data.review)\n",
    "        fitted_transformations.append(hv)\n",
    "        print(\"Shape of HashingVectorizer X:\")\n",
    "        print(X_hv.shape)\n",
    "    else: # transform() \n",
    "        X_hv = fitted_transformations[0].transform(movie_data.review)\n",
    "        print(\"Shape of HashingVectorizer X:\")\n",
    "        print(X_hv.shape)\n",
    "    \n",
    "    # http://scikit-learn.org/stable/modules/generated/sklearn.feature_extraction.text.TfidfTransformer.html\n",
    "    if (not test):\n",
    "        transformer = TfidfTransformer()\n",
    "        X_tfidf = transformer.fit_transform(X_hv)\n",
    "        fitted_transformations.append(transformer)\n",
    "    else:\n",
    "        X_tfidf = fitted_transformations[1].transform(X_hv)\n",
    "    \n",
    "    # create additional quantitative features\n",
    "    # features from Amazon.csv to add to feature set\n",
    "    \n",
    "    #FEATURES:\n",
    "    movie_data['word_count'] = movie_data['review'].str.split(' ').str.len()\n",
    "#     movie_data['punc_count'] = movie_data['review'].str.count(\"\\.\")\n",
    "#     movie_data['sent_count']=[]\n",
    "    lst = []\n",
    "    # Calling DataFrame constructor on list\n",
    "    # df = pd.DataFrame(lst)\n",
    "    # df\n",
    "    for i in range(0, len(movie_data['review'])): \n",
    "        n= word_test(movie_data['review'][i])\n",
    "        lst.append(n+1)\n",
    "    #     print(\"movie_data['sent_count']\",n)\n",
    "    movie_data['sent_count']= pd.DataFrame(lst)\n",
    "    movie_data['nltk']= nltk_calc_df\n",
    "#     pd.DataFrame(dict(foo=range(10)))\n",
    "#     df \n",
    "\n",
    "#     X_quant_features = movie_data[[\"word_count\", \"punc_count\",  'sent_count']]\n",
    "    X_quant_features = movie_data[[\"word_count\", 'sent_count', 'nltk']]\n",
    "    print(\"Look at a few rows of the new quantitative features: \")\n",
    "    print(X_quant_features.head(10))\n",
    "    \n",
    "    # Combine all quantitative features into a single sparse matrix\n",
    "    X_quant_features_csr = csr_matrix(X_quant_features)\n",
    "    X_combined = hstack([X_tfidf, X_quant_features_csr])\n",
    "    X_matrix = csr_matrix(X_combined) # convert to sparse matrix\n",
    "    print(\"Size of combined bag of words and new quantitative variables matrix:\")\n",
    "    print(X_matrix.shape)\n",
    "    \n",
    "    # Create `X`, scaled matrix of features\n",
    "    # feature scaling\n",
    "    if (not test):\n",
    "        sc = StandardScaler(with_mean=False)\n",
    "        X = sc.fit_transform(X_matrix)\n",
    "        fitted_transformations.append(sc)\n",
    "        print(X.shape)\n",
    "        y = movie_data['sentiment']\n",
    "    else:\n",
    "        X = fitted_transformations[2].transform(X_matrix)\n",
    "        print(X.shape)\n",
    "    \n",
    "    # Create Training and Test Sets\n",
    "    # enter an integer for the random_state parameter; any integer will work\n",
    "    if (test):\n",
    "        X_submission_test = X\n",
    "        print(\"Shape of X_test for submission:\")\n",
    "        print(X_submission_test.shape)\n",
    "        print('SUCCESS!')\n",
    "        return(movie_data, X_submission_test)\n",
    "    else: \n",
    "        X_train, X_test, y_train, y_test, X_raw_train, X_raw_test = train_test_split(X, y, movie_data, test_size=0.2, random_state=my_random_seed)\n",
    "        print(\"Shape of X_train and X_test:\")\n",
    "        print(X_train.shape)\n",
    "        print(X_test.shape)\n",
    "        print(\"Shape of y_train and y_test:\")\n",
    "        print(y_train.shape)\n",
    "        print(y_test.shape)\n",
    "        print(\"Shape of X_raw_train and X_raw_test:\")\n",
    "        print(X_raw_train.shape)\n",
    "        print(X_raw_test.shape)\n",
    "        print('SUCCESS!')\n",
    "        return(X_train, X_test, y_train, y_test, X_raw_train, X_raw_test)"
   ]
  },
  {
   "cell_type": "code",
   "execution_count": 34,
   "metadata": {},
   "outputs": [
    {
     "data": {
      "text/html": [
       "<div>\n",
       "<style scoped>\n",
       "    .dataframe tbody tr th:only-of-type {\n",
       "        vertical-align: middle;\n",
       "    }\n",
       "\n",
       "    .dataframe tbody tr th {\n",
       "        vertical-align: top;\n",
       "    }\n",
       "\n",
       "    .dataframe thead th {\n",
       "        text-align: right;\n",
       "    }\n",
       "</style>\n",
       "<table border=\"1\" class=\"dataframe\">\n",
       "  <thead>\n",
       "    <tr style=\"text-align: right;\">\n",
       "      <th></th>\n",
       "      <th>id</th>\n",
       "      <th>sentiment</th>\n",
       "      <th>review</th>\n",
       "    </tr>\n",
       "  </thead>\n",
       "  <tbody>\n",
       "    <tr>\n",
       "      <th>0</th>\n",
       "      <td>5814_8</td>\n",
       "      <td>1</td>\n",
       "      <td>With all this stuff going down at the moment w...</td>\n",
       "    </tr>\n",
       "    <tr>\n",
       "      <th>1</th>\n",
       "      <td>2381_9</td>\n",
       "      <td>1</td>\n",
       "      <td>\\The Classic War of the Worlds\\\" by Timothy Hi...</td>\n",
       "    </tr>\n",
       "    <tr>\n",
       "      <th>2</th>\n",
       "      <td>7759_3</td>\n",
       "      <td>0</td>\n",
       "      <td>The film starts with a manager (Nicholas Bell)...</td>\n",
       "    </tr>\n",
       "    <tr>\n",
       "      <th>3</th>\n",
       "      <td>3630_4</td>\n",
       "      <td>0</td>\n",
       "      <td>It must be assumed that those who praised this...</td>\n",
       "    </tr>\n",
       "    <tr>\n",
       "      <th>4</th>\n",
       "      <td>9495_8</td>\n",
       "      <td>1</td>\n",
       "      <td>Superbly trashy and wondrously unpretentious 8...</td>\n",
       "    </tr>\n",
       "  </tbody>\n",
       "</table>\n",
       "</div>"
      ],
      "text/plain": [
       "       id  sentiment                                             review\n",
       "0  5814_8          1  With all this stuff going down at the moment w...\n",
       "1  2381_9          1  \\The Classic War of the Worlds\\\" by Timothy Hi...\n",
       "2  7759_3          0  The film starts with a manager (Nicholas Bell)...\n",
       "3  3630_4          0  It must be assumed that those who praised this...\n",
       "4  9495_8          1  Superbly trashy and wondrously unpretentious 8..."
      ]
     },
     "execution_count": 34,
     "metadata": {},
     "output_type": "execute_result"
    }
   ],
   "source": [
    "movie_data.head()"
   ]
  },
  {
   "cell_type": "code",
   "execution_count": 22,
   "metadata": {},
   "outputs": [
    {
     "data": {
      "text/plain": [
       "count    11043.000000\n",
       "mean         0.646020\n",
       "std          0.478225\n",
       "min          0.000000\n",
       "25%          0.000000\n",
       "50%          1.000000\n",
       "75%          1.000000\n",
       "max          1.000000\n",
       "Name: sentiment, dtype: float64"
      ]
     },
     "execution_count": 22,
     "metadata": {},
     "output_type": "execute_result"
    }
   ],
   "source": [
    "movie_data['sentiment'].where(movie_data['sent_count'] > 1).describe()"
   ]
  },
  {
   "cell_type": "code",
   "execution_count": 23,
   "metadata": {},
   "outputs": [
    {
     "data": {
      "text/plain": [
       "1.0    7134\n",
       "0.0    3909\n",
       "Name: sentiment, dtype: int64"
      ]
     },
     "execution_count": 23,
     "metadata": {},
     "output_type": "execute_result"
    }
   ],
   "source": [
    "movie_data['sentiment'].where(movie_data['sent_count'] > 1).value_counts()"
   ]
  },
  {
   "cell_type": "code",
   "execution_count": 38,
   "metadata": {},
   "outputs": [],
   "source": [
    "#scipy iimprot intergrate "
   ]
  },
  {
   "cell_type": "markdown",
   "metadata": {},
   "source": [
    "# Create training and test sets from function"
   ]
  },
  {
   "cell_type": "code",
   "execution_count": 35,
   "metadata": {
    "scrolled": true
   },
   "outputs": [
    {
     "name": "stdout",
     "output_type": "stream",
     "text": [
      "movie_data is: <class 'pandas.core.frame.DataFrame'>\n",
      "movie_data has 25000 rows and 3 columns \n",
      "\n",
      "the data types for each of the columns in movie_data:\n",
      "id           object\n",
      "sentiment     int64\n",
      "review       object\n",
      "dtype: object \n",
      "\n",
      "the first 10 rows in movie_data:\n",
      "       id  sentiment                                             review\n",
      "0  5814_8          1  With all this stuff going down at the moment w...\n",
      "1  2381_9          1  \\The Classic War of the Worlds\\\" by Timothy Hi...\n",
      "2  7759_3          0  The film starts with a manager (Nicholas Bell)...\n",
      "3  3630_4          0  It must be assumed that those who praised this...\n",
      "4  9495_8          1  Superbly trashy and wondrously unpretentious 8...\n",
      "The rate of 'good' movie reviews in the dataset: \n",
      "0.5\n",
      "Shape of HashingVectorizer X:\n",
      "(25000, 131072)\n",
      "Look at a few rows of the new quantitative features: \n",
      "   word_count  sent_count    nltk\n",
      "0         433    0.571429 -0.7913\n",
      "1         158    1.600000  3.9172\n",
      "2         378    0.000000 -3.9041\n",
      "3         379    0.000000 -0.3397\n",
      "4         367    1.000000  1.6465\n",
      "5          89    1.000000  0.6067\n",
      "6         112    0.000000 -0.3099\n",
      "7         132    0.000000 -0.5685\n",
      "8         163    1.000000  1.7765\n",
      "9          43    2.000000  1.3679\n",
      "Size of combined bag of words and new quantitative variables matrix:\n",
      "(25000, 131075)\n",
      "(25000, 131075)\n",
      "Shape of X_train and X_test:\n",
      "(20000, 131075)\n",
      "(5000, 131075)\n",
      "Shape of y_train and y_test:\n",
      "(20000,)\n",
      "(5000,)\n",
      "Shape of X_raw_train and X_raw_test:\n",
      "(20000, 6)\n",
      "(5000, 6)\n",
      "SUCCESS!\n",
      "Number of fits stored in `fitted_transformations` list: \n",
      "3\n"
     ]
    }
   ],
   "source": [
    "# create an empty list to store any use of fit_transform() to transform() later\n",
    "# it is a global list to store model and feature extraction fits\n",
    "fitted_transformations = []\n",
    "\n",
    "# CHANGE FILE PATH and my_random_seed number (any integer other than 74 will do): \n",
    "X_train, X_test, y_train, y_test, X_raw_train, X_raw_test = process_raw_data(fn='../week04/final_data/moviereviews_train.tsv', my_random_seed=14)\n",
    "\n",
    "print(\"Number of fits stored in `fitted_transformations` list: \")\n",
    "print(len(fitted_transformations))"
   ]
  },
  {
   "cell_type": "code",
   "execution_count": 36,
   "metadata": {},
   "outputs": [
    {
     "name": "stdout",
     "output_type": "stream",
     "text": [
      "  (0, 3989)\t8.335647697032506\n",
      "  (0, 4412)\t1.7754138699959905\n",
      "  (0, 4793)\t27.133007006149967\n",
      "  (0, 5983)\t5.564819217543911\n",
      "  (0, 8412)\t70.57782809110465\n",
      "  (0, 8564)\t0.991129732661582\n",
      "  (0, 11008)\t18.64692897925703\n",
      "  (0, 13677)\t0.49229386382049717\n",
      "  (0, 15498)\t3.124746102864991\n",
      "  (0, 18429)\t12.816591443220764\n",
      "  (0, 19772)\t4.500408401221109\n",
      "  (0, 21858)\t79.42098927174258\n",
      "  (0, 22965)\t2.5366961122953584\n",
      "  (0, 23389)\t10.921524171688507\n",
      "  (0, 23579)\t1.5037935198432184\n",
      "  (0, 24734)\t0.7708982127649663\n",
      "  (0, 25819)\t2.329504392249618\n",
      "  (0, 28066)\t11.611616715210138\n",
      "  (0, 29397)\t28.384529712941433\n",
      "  (0, 31925)\t1.9137108155118951\n",
      "  (0, 32448)\t2.848667634749281\n",
      "  (0, 35080)\t23.085363894922864\n",
      "  (0, 36102)\t61.86049398398591\n",
      "  (0, 37777)\t0.5794082972690775\n",
      "  (0, 38500)\t58.66558642393408\n",
      "  :\t:\n",
      "  (19999, 92716)\t2.5549604538516024\n",
      "  (19999, 94464)\t27.04969265408981\n",
      "  (19999, 97469)\t1.9499346942946802\n",
      "  (19999, 99120)\t2.7627839481270864\n",
      "  (19999, 100105)\t10.827409525203336\n",
      "  (19999, 100590)\t20.793580848184995\n",
      "  (19999, 101440)\t1.8216720577321925\n",
      "  (19999, 101512)\t7.179583289910171\n",
      "  (19999, 103968)\t9.0082734799204\n",
      "  (19999, 104824)\t6.106307201379495\n",
      "  (19999, 104921)\t28.179439553211015\n",
      "  (19999, 105368)\t9.048690878793295\n",
      "  (19999, 108195)\t6.67524842703095\n",
      "  (19999, 112443)\t5.407967870182513\n",
      "  (19999, 118517)\t2.249640255179214\n",
      "  (19999, 118604)\t6.760139134811622\n",
      "  (19999, 119234)\t2.19646318819543\n",
      "  (19999, 119340)\t3.272847405930552\n",
      "  (19999, 120741)\t1.6340964181868929\n",
      "  (19999, 122621)\t2.3465685768110514\n",
      "  (19999, 125719)\t7.034081369980652\n",
      "  (19999, 128135)\t6.372665031268979\n",
      "  (19999, 129720)\t26.85876200985081\n",
      "  (19999, 131072)\t0.6676552178798394\n",
      "  (19999, 131074)\t1.0479389208748005\n"
     ]
    }
   ],
   "source": [
    "print(X_train)"
   ]
  },
  {
   "cell_type": "raw",
   "metadata": {},
   "source": []
  },
  {
   "cell_type": "markdown",
   "metadata": {},
   "source": [
    "# Fit (and tune) Various Models"
   ]
  },
  {
   "cell_type": "markdown",
   "metadata": {},
   "source": [
    "### MODEL: ordinary least squares"
   ]
  },
  {
   "cell_type": "code",
   "execution_count": 37,
   "metadata": {},
   "outputs": [
    {
     "name": "stdout",
     "output_type": "stream",
     "text": [
      "{'Pos': 10051, 'Neg': 9949, 'TP': 5023, 'TN': 5110, 'FP': 4839, 'FN': 5028, 'Accuracy': 0.50665, 'Precision': 0.5093287365645913, 'Recall': 0.49975126853049445, 'desc': 'ols_train'}\n"
     ]
    }
   ],
   "source": [
    "from sklearn import linear_model\n",
    "ols = linear_model.SGDClassifier(loss=\"squared_loss\")\n",
    "ols.fit(X_train, y_train)\n",
    "\n",
    "ols_performance_train = BinaryClassificationPerformance(ols.predict(X_train), y_train, 'ols_train')\n",
    "ols_performance_train.compute_measures()\n",
    "print(ols_performance_train.performance_measures)"
   ]
  },
  {
   "cell_type": "code",
   "execution_count": null,
   "metadata": {},
   "outputs": [],
   "source": []
  },
  {
   "cell_type": "markdown",
   "metadata": {},
   "source": [
    "### MODEL: SVM, linear"
   ]
  },
  {
   "cell_type": "code",
   "execution_count": 38,
   "metadata": {},
   "outputs": [
    {
     "name": "stdout",
     "output_type": "stream",
     "text": [
      "{'Pos': 10051, 'Neg': 9949, 'TP': 10051, 'TN': 9949, 'FP': 0, 'FN': 0, 'Accuracy': 1.0, 'Precision': 1.0, 'Recall': 1.0, 'desc': 'svm_train'}\n"
     ]
    }
   ],
   "source": [
    "from sklearn import linear_model\n",
    "svm = linear_model.SGDClassifier()\n",
    "svm.fit(X_train, y_train)\n",
    "\n",
    "svm_performance_train = BinaryClassificationPerformance(svm.predict(X_train), y_train, 'svm_train')\n",
    "svm_performance_train.compute_measures()\n",
    "print(svm_performance_train.performance_measures)"
   ]
  },
  {
   "cell_type": "markdown",
   "metadata": {},
   "source": [
    "### MODEL: logistic regression"
   ]
  },
  {
   "cell_type": "code",
   "execution_count": 39,
   "metadata": {},
   "outputs": [
    {
     "name": "stdout",
     "output_type": "stream",
     "text": [
      "{'Pos': 10051, 'Neg': 9949, 'TP': 10051, 'TN': 9949, 'FP': 0, 'FN': 0, 'Accuracy': 1.0, 'Precision': 1.0, 'Recall': 1.0, 'desc': 'lgs_train'}\n"
     ]
    }
   ],
   "source": [
    "from sklearn import linear_model\n",
    "lgs = linear_model.SGDClassifier(loss='log')\n",
    "lgs.fit(X_train, y_train)\n",
    "\n",
    "lgs_performance_train = BinaryClassificationPerformance(lgs.predict(X_train), y_train, 'lgs_train')\n",
    "lgs_performance_train.compute_measures()\n",
    "print(lgs_performance_train.performance_measures)"
   ]
  },
  {
   "cell_type": "markdown",
   "metadata": {},
   "source": [
    "### MODEL: Naive Bayes"
   ]
  },
  {
   "cell_type": "code",
   "execution_count": 40,
   "metadata": {},
   "outputs": [
    {
     "ename": "ValueError",
     "evalue": "Negative values in data passed to MultinomialNB (input X)",
     "output_type": "error",
     "traceback": [
      "\u001b[0;31m---------------------------------------------------------------------------\u001b[0m",
      "\u001b[0;31mValueError\u001b[0m                                Traceback (most recent call last)",
      "\u001b[0;32m<ipython-input-40-0d47685ebaf1>\u001b[0m in \u001b[0;36m<module>\u001b[0;34m\u001b[0m\n\u001b[1;32m      1\u001b[0m \u001b[0;32mfrom\u001b[0m \u001b[0msklearn\u001b[0m\u001b[0;34m.\u001b[0m\u001b[0mnaive_bayes\u001b[0m \u001b[0;32mimport\u001b[0m \u001b[0mMultinomialNB\u001b[0m\u001b[0;34m\u001b[0m\u001b[0;34m\u001b[0m\u001b[0m\n\u001b[1;32m      2\u001b[0m \u001b[0mnbs\u001b[0m \u001b[0;34m=\u001b[0m \u001b[0mMultinomialNB\u001b[0m\u001b[0;34m(\u001b[0m\u001b[0;34m)\u001b[0m\u001b[0;34m\u001b[0m\u001b[0;34m\u001b[0m\u001b[0m\n\u001b[0;32m----> 3\u001b[0;31m \u001b[0mnbs\u001b[0m\u001b[0;34m.\u001b[0m\u001b[0mfit\u001b[0m\u001b[0;34m(\u001b[0m\u001b[0mX_train\u001b[0m\u001b[0;34m,\u001b[0m \u001b[0my_train\u001b[0m\u001b[0;34m)\u001b[0m\u001b[0;34m\u001b[0m\u001b[0;34m\u001b[0m\u001b[0m\n\u001b[0m\u001b[1;32m      4\u001b[0m \u001b[0;34m\u001b[0m\u001b[0m\n\u001b[1;32m      5\u001b[0m \u001b[0mnbs_performance_train\u001b[0m \u001b[0;34m=\u001b[0m \u001b[0mBinaryClassificationPerformance\u001b[0m\u001b[0;34m(\u001b[0m\u001b[0mnbs\u001b[0m\u001b[0;34m.\u001b[0m\u001b[0mpredict\u001b[0m\u001b[0;34m(\u001b[0m\u001b[0mX_train\u001b[0m\u001b[0;34m)\u001b[0m\u001b[0;34m,\u001b[0m \u001b[0my_train\u001b[0m\u001b[0;34m,\u001b[0m \u001b[0;34m'nbs_train'\u001b[0m\u001b[0;34m)\u001b[0m\u001b[0;34m\u001b[0m\u001b[0;34m\u001b[0m\u001b[0m\n",
      "\u001b[0;32m~/opt/anaconda3/lib/python3.8/site-packages/sklearn/naive_bayes.py\u001b[0m in \u001b[0;36mfit\u001b[0;34m(self, X, y, sample_weight)\u001b[0m\n\u001b[1;32m    639\u001b[0m \u001b[0;34m\u001b[0m\u001b[0m\n\u001b[1;32m    640\u001b[0m         \u001b[0mself\u001b[0m\u001b[0;34m.\u001b[0m\u001b[0m_init_counters\u001b[0m\u001b[0;34m(\u001b[0m\u001b[0mn_effective_classes\u001b[0m\u001b[0;34m,\u001b[0m \u001b[0mn_features\u001b[0m\u001b[0;34m)\u001b[0m\u001b[0;34m\u001b[0m\u001b[0;34m\u001b[0m\u001b[0m\n\u001b[0;32m--> 641\u001b[0;31m         \u001b[0mself\u001b[0m\u001b[0;34m.\u001b[0m\u001b[0m_count\u001b[0m\u001b[0;34m(\u001b[0m\u001b[0mX\u001b[0m\u001b[0;34m,\u001b[0m \u001b[0mY\u001b[0m\u001b[0;34m)\u001b[0m\u001b[0;34m\u001b[0m\u001b[0;34m\u001b[0m\u001b[0m\n\u001b[0m\u001b[1;32m    642\u001b[0m         \u001b[0malpha\u001b[0m \u001b[0;34m=\u001b[0m \u001b[0mself\u001b[0m\u001b[0;34m.\u001b[0m\u001b[0m_check_alpha\u001b[0m\u001b[0;34m(\u001b[0m\u001b[0;34m)\u001b[0m\u001b[0;34m\u001b[0m\u001b[0;34m\u001b[0m\u001b[0m\n\u001b[1;32m    643\u001b[0m         \u001b[0mself\u001b[0m\u001b[0;34m.\u001b[0m\u001b[0m_update_feature_log_prob\u001b[0m\u001b[0;34m(\u001b[0m\u001b[0malpha\u001b[0m\u001b[0;34m)\u001b[0m\u001b[0;34m\u001b[0m\u001b[0;34m\u001b[0m\u001b[0m\n",
      "\u001b[0;32m~/opt/anaconda3/lib/python3.8/site-packages/sklearn/naive_bayes.py\u001b[0m in \u001b[0;36m_count\u001b[0;34m(self, X, Y)\u001b[0m\n\u001b[1;32m    761\u001b[0m     \u001b[0;32mdef\u001b[0m \u001b[0m_count\u001b[0m\u001b[0;34m(\u001b[0m\u001b[0mself\u001b[0m\u001b[0;34m,\u001b[0m \u001b[0mX\u001b[0m\u001b[0;34m,\u001b[0m \u001b[0mY\u001b[0m\u001b[0;34m)\u001b[0m\u001b[0;34m:\u001b[0m\u001b[0;34m\u001b[0m\u001b[0;34m\u001b[0m\u001b[0m\n\u001b[1;32m    762\u001b[0m         \u001b[0;34m\"\"\"Count and smooth feature occurrences.\"\"\"\u001b[0m\u001b[0;34m\u001b[0m\u001b[0;34m\u001b[0m\u001b[0m\n\u001b[0;32m--> 763\u001b[0;31m         \u001b[0mcheck_non_negative\u001b[0m\u001b[0;34m(\u001b[0m\u001b[0mX\u001b[0m\u001b[0;34m,\u001b[0m \u001b[0;34m\"MultinomialNB (input X)\"\u001b[0m\u001b[0;34m)\u001b[0m\u001b[0;34m\u001b[0m\u001b[0;34m\u001b[0m\u001b[0m\n\u001b[0m\u001b[1;32m    764\u001b[0m         \u001b[0mself\u001b[0m\u001b[0;34m.\u001b[0m\u001b[0mfeature_count_\u001b[0m \u001b[0;34m+=\u001b[0m \u001b[0msafe_sparse_dot\u001b[0m\u001b[0;34m(\u001b[0m\u001b[0mY\u001b[0m\u001b[0;34m.\u001b[0m\u001b[0mT\u001b[0m\u001b[0;34m,\u001b[0m \u001b[0mX\u001b[0m\u001b[0;34m)\u001b[0m\u001b[0;34m\u001b[0m\u001b[0;34m\u001b[0m\u001b[0m\n\u001b[1;32m    765\u001b[0m         \u001b[0mself\u001b[0m\u001b[0;34m.\u001b[0m\u001b[0mclass_count_\u001b[0m \u001b[0;34m+=\u001b[0m \u001b[0mY\u001b[0m\u001b[0;34m.\u001b[0m\u001b[0msum\u001b[0m\u001b[0;34m(\u001b[0m\u001b[0maxis\u001b[0m\u001b[0;34m=\u001b[0m\u001b[0;36m0\u001b[0m\u001b[0;34m)\u001b[0m\u001b[0;34m\u001b[0m\u001b[0;34m\u001b[0m\u001b[0m\n",
      "\u001b[0;32m~/opt/anaconda3/lib/python3.8/site-packages/sklearn/utils/validation.py\u001b[0m in \u001b[0;36mcheck_non_negative\u001b[0;34m(X, whom)\u001b[0m\n\u001b[1;32m   1045\u001b[0m \u001b[0;34m\u001b[0m\u001b[0m\n\u001b[1;32m   1046\u001b[0m     \u001b[0;32mif\u001b[0m \u001b[0mX_min\u001b[0m \u001b[0;34m<\u001b[0m \u001b[0;36m0\u001b[0m\u001b[0;34m:\u001b[0m\u001b[0;34m\u001b[0m\u001b[0;34m\u001b[0m\u001b[0m\n\u001b[0;32m-> 1047\u001b[0;31m         \u001b[0;32mraise\u001b[0m \u001b[0mValueError\u001b[0m\u001b[0;34m(\u001b[0m\u001b[0;34m\"Negative values in data passed to %s\"\u001b[0m \u001b[0;34m%\u001b[0m \u001b[0mwhom\u001b[0m\u001b[0;34m)\u001b[0m\u001b[0;34m\u001b[0m\u001b[0;34m\u001b[0m\u001b[0m\n\u001b[0m\u001b[1;32m   1048\u001b[0m \u001b[0;34m\u001b[0m\u001b[0m\n\u001b[1;32m   1049\u001b[0m \u001b[0;34m\u001b[0m\u001b[0m\n",
      "\u001b[0;31mValueError\u001b[0m: Negative values in data passed to MultinomialNB (input X)"
     ]
    }
   ],
   "source": [
    "from sklearn.naive_bayes import MultinomialNB\n",
    "nbs = MultinomialNB()\n",
    "nbs.fit(X_train, y_train)\n",
    "\n",
    "nbs_performance_train = BinaryClassificationPerformance(nbs.predict(X_train), y_train, 'nbs_train')\n",
    "nbs_performance_train.compute_measures()\n",
    "print(nbs_performance_train.performance_measures)"
   ]
  },
  {
   "cell_type": "markdown",
   "metadata": {},
   "source": [
    "### MODEL: Perceptron"
   ]
  },
  {
   "cell_type": "code",
   "execution_count": 42,
   "metadata": {},
   "outputs": [
    {
     "name": "stdout",
     "output_type": "stream",
     "text": [
      "{'Pos': 10051, 'Neg': 9949, 'TP': 10051, 'TN': 9949, 'FP': 0, 'FN': 0, 'Accuracy': 1.0, 'Precision': 1.0, 'Recall': 1.0, 'desc': 'prc_train'}\n"
     ]
    }
   ],
   "source": [
    "from sklearn import linear_model\n",
    "prc = linear_model.SGDClassifier(loss='perceptron')\n",
    "prc.fit(X_train, y_train)\n",
    "\n",
    "prc_performance_train = BinaryClassificationPerformance(prc.predict(X_train), y_train, 'prc_train')\n",
    "prc_performance_train.compute_measures()\n",
    "print(prc_performance_train.performance_measures)"
   ]
  },
  {
   "cell_type": "markdown",
   "metadata": {},
   "source": [
    "### MODEL: Ridge Regression Classifier"
   ]
  },
  {
   "cell_type": "code",
   "execution_count": 43,
   "metadata": {},
   "outputs": [
    {
     "name": "stdout",
     "output_type": "stream",
     "text": [
      "{'Pos': 10051, 'Neg': 9949, 'TP': 10051, 'TN': 9949, 'FP': 0, 'FN': 0, 'Accuracy': 1.0, 'Precision': 1.0, 'Recall': 1.0, 'desc': 'rdg_train'}\n"
     ]
    }
   ],
   "source": [
    "from sklearn import linear_model\n",
    "rdg = linear_model.RidgeClassifier()\n",
    "rdg.fit(X_train, y_train)\n",
    "\n",
    "rdg_performance_train = BinaryClassificationPerformance(rdg.predict(X_train), y_train, 'rdg_train')\n",
    "rdg_performance_train.compute_measures()\n",
    "print(rdg_performance_train.performance_measures)"
   ]
  },
  {
   "cell_type": "markdown",
   "metadata": {},
   "source": [
    "### MODEL: Random Forest Classifier"
   ]
  },
  {
   "cell_type": "code",
   "execution_count": 44,
   "metadata": {},
   "outputs": [
    {
     "name": "stdout",
     "output_type": "stream",
     "text": [
      "{'Pos': 10051, 'Neg': 9949, 'TP': 8887, 'TN': 6097, 'FP': 3852, 'FN': 1164, 'Accuracy': 0.7492, 'Precision': 0.6976214773530104, 'Recall': 0.884190627798229, 'desc': 'rdf_train'}\n"
     ]
    }
   ],
   "source": [
    "from sklearn.ensemble import RandomForestClassifier\n",
    "rdf = RandomForestClassifier(max_depth=2, random_state=0)\n",
    "rdf.fit(X_train, y_train)\n",
    "\n",
    "rdf_performance_train = BinaryClassificationPerformance(rdf.predict(X_train), y_train, 'rdf_train')\n",
    "rdf_performance_train.compute_measures()\n",
    "print(rdf_performance_train.performance_measures)"
   ]
  },
  {
   "cell_type": "markdown",
   "metadata": {},
   "source": [
    "### ROC plot to compare performance of various models and fits"
   ]
  },
  {
   "cell_type": "code",
   "execution_count": 46,
   "metadata": {
    "scrolled": false
   },
   "outputs": [
    {
     "data": {
      "image/png": "[encoded data removed]",
      "text/plain": [
       "<Figure size 432x288 with 1 Axes>"
      ]
     },
     "metadata": {
      "needs_background": "light"
     },
     "output_type": "display_data"
    }
   ],
   "source": [
    "fits = [ols_performance_train, \n",
    "        svm_performance_train, \n",
    "        lgs_performance_train, \n",
    "#         nbs_performance_train, \n",
    "        prc_performance_train, \n",
    "        rdg_performance_train, \n",
    "        rdf_performance_train]\n",
    "\n",
    "for fit in fits:\n",
    "    plt.plot(fit.performance_measures['FP'] / fit.performance_measures['Neg'], \n",
    "             fit.performance_measures['TP'] / fit.performance_measures['Pos'], 'bo')\n",
    "    plt.text(fit.performance_measures['FP'] / fit.performance_measures['Neg'], \n",
    "             fit.performance_measures['TP'] / fit.performance_measures['Pos'], fit.desc)\n",
    "plt.axis([0, 1, 0, 1])\n",
    "plt.title('ROC plot: test set')\n",
    "plt.xlabel('False positive rate')\n",
    "plt.ylabel('True positive rate')\n",
    "plt.show()"
   ]
  },
  {
   "cell_type": "markdown",
   "metadata": {},
   "source": [
    "### looking at reviews based on their classification\n",
    "\n",
    "Let's say we decide that Ordinary Least Squares (OLS) Regression is the best model for generalization. Let's take a look at some of the reviews and try to make a (subjective) determination of whether it's generalizing well. "
   ]
  },
  {
   "cell_type": "code",
   "execution_count": 47,
   "metadata": {},
   "outputs": [],
   "source": [
    "ols_predictions = ols.predict(X_train)"
   ]
  },
  {
   "cell_type": "markdown",
   "metadata": {},
   "source": [
    "### let's look at some false positives:"
   ]
  },
  {
   "cell_type": "code",
   "execution_count": 48,
   "metadata": {},
   "outputs": [
    {
     "name": "stdout",
     "output_type": "stream",
     "text": [
      "Examples of false positives:\n",
      "1\n",
      "Not that \\a film by Ulli Lommel\\\" filled me with hope, but I must confess that ZODIAC KILLER managed to sink beneath my lowest expectations. There is a recent trend among young filmmakers of utilizing digital video for their early projects, which is all well and good for giving these kids the opportunity to create work without spending all their money on expensive film stock. But many of these young filmmakers have also wised up to the notion of filtering the finished movie so that it appears qualitatively more like celluloid. The effect is never perfect, but it helps. Unfiltered digital video really only works for the \\\"mockumentary\\\" style, because it never looks like anything other than video. Therein lies the primary trouble with ZODIAC KILLER. Watching the movie feels like watching a daytime soap opera about a murderer. It does not feel like watching a movie. And what's even more unforgivable is that the Lommel is NOT a young filmmaker. He ought to know better. He ought to know that it's virtually impossible to generate horror (or even suspense!) on video. For the love of god this guy has been directing since the sixties! He may be the only director who has failed to improve over a forty year career in the business. And lucky us, he wrote the script too! So you can expect convoluted actions that mean nothing, unjustified behavior, and at least one truly pretentious plot element that will leave you utterly unsatisfied. Please, please miss this film. You'll thank me later.\"\n",
      "* * * * * * * * * \n",
      "46\n",
      "This horror movie is really weak...that is if this is the correct movie I am commenting on. Nothing really terrible goes on as a family adopts a cute little German Shepard pup. I had a German Shepard and it is a really good dog. I did not get the idea to get one from this movie though, but rather from the comedy \\K-9\\\". That is another story all together though. This movie really doesn't have much horror at all as the most horrific scene is at the end and it looks really cheesy. Also, we see a guy almost put his hand into a lawn mower. That is about it. The father suspects something though, as his family seems to be getting rather strange, somewhere he finds out if you hold a mirror to them while they are sleeping you can see if they are possessed. All in all a really weak horror movie even by television standards...television movies that do work are out there as \\\"This House Possessed\\\" is pretty good and there is another haunted house movie about a woman and these strange creatures that is also rather good. This one is really rather dull.\"\n",
      "* * * * * * * * * \n",
      "57\n",
      "Maybe I'm really getting old, but this one just missed me and the old Funny Bone completely. Surely there must be something powerful wrong with this Irishman (that's me, Schultz!). Lordy, lordy what I would give to see the light! Firstly, that Phil Silvers manic energy, wit and drive was very much a part of the comedic upbringing and overall education in life, if you will. Although it is possible that the series, first titled: \\YOU'LL NEVER GET RICH\\\" (1955-59*) could have gotten on the CBS TV Network with someone else in the title role of Sgt. Bilko, it is very hard to picture any other Actor/Comedian in the business wearing those Master Sergeant's stripes.<br /><br />Such a strong identification is inescapable, though not the same sort of career-wrecking typecasting of a nightmare that it proved to be to some other guys, like Clayton More(\\\"THE LONE RANGER\\\"), George Reeves (\\\"THE ADVENTURES OF SUPERMAN\\\") and Charles Nelson Riley (\\\"UNCLE CROC'S BLOCK\\\").<br /><br />One major stumbling block to successfully adapting and updating such a work from the 1950's TV Screen to the 1990's Movie-going public is our collective memory. Without being sure about what percentage of the crowd remembered the Bilko character from seeing the original run and early syndication revivals, and their numbers were surely considerable; even a large segment of the young had seen Bilko reruns in recent times. It was obvious that the new film and the source were miles; or even light years apart.<br /><br />So as not to be thought of as a totally square, old grouch please let's consider some other points.<br /><br />Right here today, the 14th Day of November In The Year of Our Lord 2007, let me swear and affirm under Oath that I have been a Steve Martin fan for nearly 30 years, Furthermore, I've enjoyed the wit and talents of Bilko '96 Co-Stars Dan Akroyd and the Late Phil Hartman. After all, it was the talents of guys like this and so many others, Alumni of \\\"NBC;s Saturday NIGHT\\\" and \\\"SECOND CITY TV\\\" that kept the last quarter of the 20th Century laughing. But a BILKO re-make; it just didn't click.<br /><br />Perhaps if the film had been made as a Service Comedy (always liked 'em!) but without the Bilko Show names and gave it some identity of it self it would be more highly regarded by crabby, old guys like me.<br /><br />So, we've already had so many sitcom and cartoon series turned into movies lately, what's next? Howse about somebody doing Hal Roach's World War II Army Comedy Series of Sergeants DOUBLEDAY & AMES and TV's 1st Cartoon Series \\\"CRUSADER RABBIT\\\"? Remember where you heard it first! POODLE SCHNITZ!\"\n",
      "* * * * * * * * * \n",
      "139\n",
      "This is one strange hacked together film, you get the feeling that the bond company had to come in on this one, I'm not surprised there's no credits on it, who would want to be associated with this film. The Acting of all involved is terribly stilted and the plot jumps around all over, it all makes very little sense. As I said before it looks like the bond company had to come in because it seems like there was alot of footage that wasn't shot that needed to be, and all the music was very ill-fitting library music (cheap I guess). Very, very odd. I might actually buy a DVD of it though, if it could let me in on what the hell was going on, and what happened to this movie.\n",
      "* * * * * * * * * \n",
      "142\n",
      "I don't like this film, but then I didn't think much of the book either which, although lauded by many as a \\masterpiece\\\", I found lacking in character development and disjointed and illogical in plot, although it was far more readable than Fante's dreadful first effort \\\"Road to Los Angeles\\\" not published until Fante became fashionable in the mid 80s.<br /><br />I was intrigued to see what sort of soup Towne would make with such meager ingredients. He has worked hard script-wise to repair the many shortcomings of the book but for my money didn't rescue it. There was never a movie in Ask the Dust while ever he tried to stay faithful to the book. I consider this film Towne's folly.<br /><br />In a word: forgettable.\"\n",
      "* * * * * * * * * \n",
      "256\n",
      "This is not an all-around terrible comedy, but it is very DULL. It has barely any laughs, and it wastes its lavish production values. There is one poignant moment near the end, when Fu Manchu offers a dose of his elixir to his \\nemesis\\\" and tells him that \\\"You've been my one worthy adversary; and now we can start all over again\\\". That scene, however, along with Burt Kwouk's amusing cameo in the beginning, are the only memorable parts of the movie. (*1/2)\"\n",
      "* * * * * * * * * \n",
      "394\n",
      "I'm never much for classic films. Movies like Patton, Going My Way, How Green was My Valley, The Godfather, Casablanca, Annie Hall, Gone with the Wind, Lawrence of Arabia, and Citizen Kane bore me. However, I would much rather watch any one of those films 3,469 times while being tied up on a chair than watch An American in Paris once in the most luxurious suite ever. If I did the latter, I'd probably be sleeping the entire time.<br /><br />The color art direction and the music didn't interest me, Gershwin or non-Gershwin. The dancing and the singing could help an insomniac fall to sleep. The dialogue doesn't match up to Singin' in the Rain. Basically, this movie is boring. The only other film that I fell asleep while watching was Butch Cassidy and the Sundance Kid. But you can't blame me. I only slept 5 minutes the night before.<br /><br />1 star/10 (Too bad we can't give zeroes.)\n",
      "* * * * * * * * * \n",
      "395\n",
      "\\New Best Friend\\\" is another entry in the \\\"steal another woman's life\\\" sub-genre; the best of which are \\\"Single White Female\\\" and \\\"The Hand That Rocks the Cradle\\\"; the worse of which you can catch almost any afternoon on the Lifetime Channel. For some reason this type of identity theft happens exclusively to women.<br /><br />There are just two basic ways to play this type of story. You can make the woman evil at the beginning and let the audience watch knowingly as she hatches and implements her evil scheme. Or you use misdirection to make her appear a good person, as a seemingly unplanned series of events break in her favor until she is revealed to be evil in the climatic scene. Unfortunately the makers of \\\"New Best Friend\\\" could not decide how they wanted to play it and things crash and burn early. We first meet Alicia (Mia Kirshner) scamming the college's financial aid office for scholarship money. We now know that she is a bad person and will view all her subsequent activity with suspicion. But the director and editor apparently forgot that this revelation had been made and spend the next 50 minutes laying misdirection to make us think that Alicia is a good person. This introduces the only element of suspense, not about whether she is evil but about when the director and editor will wise up and stop wasting our time with transparent misdirection.<br /><br />\\\"New Best Friend\\\" suffers more than most from the teen movie curse of a cast too old to be portraying undergraduate students. There are really only two big parts, Hadley (Meredith Monroe) and Alicia (Kirshner). They were 31 and 26 respectively at the time of the production. It almost works for the 26 year-old Kirshner when she plays the mousy version of Alicia but it becomes glaring when she is transformed into the glamed-up version of Alicia. Monroe's casting is simply a joke, about like having Nicholette Sheridan try to pass as a classmate on \\\"Lizzie McGwire\\\". She looks much closer to a mid-life crisis than to a term paper.<br /><br />The producers must have owed a lot of favors because this age issue extends to most of the supporting characters. Taye Diggs who plays the town sheriff is younger than most of the students.<br /><br />The basic setup is that Hadley and two other rich party girls (played by Dominque Swain-age 21 and Rachel True-age 35) are undergrad roommates at college. They share (as their student residence) a mansion that is nicer and better furnished than the mansion on Real World-New Orleans (a premise more believable than soccer moms playing students). Alicia moves into the mansion and begins to take over Hadley's life. At least that way Swain finally gets a roommate from her own generation so the two can have a lesbian scene. Swain's supporting performance is the only good thing about \\\"New Best Friend\\\" and her love scene with Kirshner is fantastic, so cool and artsy that it doesn't fit with any of the other segments, maybe it was subcontracted out to a good director and cinematographer.<br /><br />The unintentionally hilarious story is presented in a series of dreary flashbacks of rampant sex and nonstop parties, each proceeded by a shot of a comatose Alicia in a hospital bed. About half of Kirshner's screen time is spent lying motionless with a tube in her mouth. Not a good career move Mia.<br /><br />Then again, what do I know? I'm only a child.\"\n",
      "* * * * * * * * * \n",
      "519\n",
      "<br /><br />One would expect a movie with a famous comedian in the lead role, to be a funny movie. This is not the case here. I laughed out loud once throughout the whole movie, and that wasn't even during the final comedy-scene (which one would also expect to be the funniest). This is one you can watch when it comes to TV, don't spend any other money renting it.\n",
      "* * * * * * * * * \n",
      "537\n",
      "All logic goes straight out of the train window in this British horror film, set in the London underground and starring the usually reliable Franka Potente (Run Lola Run), Franka plays Kate, a businesswoman on the way from an office party to meet friends who falls asleep at an underground station, only to wake up and find she has been locked in and finds herself being chased by \\someone\\\" or \\\"something\\\" with killer intentions.<br /><br />Plot holes and unbelievability are rife and there are very few moments that are actually jumpy/ scary but plenty that are just plain dull.<br /><br />All in all an unpleasant film that should just stay locked underground forever and do us all a favour.<br /><br />The only plus point here is the inclusion in the cast of popular veteran actor Ken Campbell, who's done better than this  that's even including \\\"Erasmus Microman\\\"!.\"\n",
      "* * * * * * * * * \n",
      "567\n",
      "Well I watched this last night and the one thing that didn't make it completely terrible is that it was straight forward. There was no beating around the bush that this kid was the Anti-Christ. However the movie was just poorly written. For example, they never explained how they made the dentist incident an \\Accident\\\" or at the end how the cop just miraculously ended up at the house in time to save the kid without the police even being called yet. The death scenes were just really bad and not entertaining at all. The kid they chose to play the Anti-Christ was boring and they really could've picked a better kid. Just don't waste your time watching this.\"\n",
      "* * * * * * * * * \n",
      "617\n",
      "What was the point of this movie? What was the plot? I do not know. Shaq can't act, people don't know how to direct, and I am Kazaam! A genie who raps? Come on. Maybe Eminem or Linkin Park will be in a movie like this. I remember I watched this just to kill time. It didn't really interest me. I just remember thinking, \\Who put Shaq in this movie???\\\" The whole story seemed stupid too. It made no sense whatsoever. I guess an unrealized moral of this movie is that you can find anything in the ghetto and anything can happen. I can't comment much more because this movie is so terrible there's nothing worth commenting about. I \\\"wish\\\" this movie would go away.\"\n",
      "* * * * * * * * * \n",
      "687\n",
      "Every once in a while , someone out of the blue looks at me a little sideways and asks \\What's with SNITCH'D\\\" ? I know immediately they have a case of barely-hidden amusement + horror. You see, I was the cinematographer on the film.<br /><br />Let me clarify some points regarding this \\\"interesting life experience\\\".<br /><br />Originally, SNITCH'D was called ONE HARD HIT. I met James Cahill in July of 1999, a day after I wrapped TRIANGLE SQUARE, a great little 35mm feature that like so many indie features of the era never got distribution despite festival accolades...it fell eternal victim to the fine print of SAG's notorious Experimental Feature contract. But I digress...<br /><br />I though I was on a roll, and when James asked me to shoot his little gangster flick in 16mm with a shooting budget of about $25,000, not wanting to break pace, I took it. After all, CLERKS, EL MARIACHI... I too believed the myth back then.<br /><br />Let's just chalk it up as \\\"film school\\\" for many involved, myself included. SNITCH'D was shot over two weeks in August, 1999, in Aliso Viejo and Santa Ana, CA. Cahill taught Drama at a High School in the latter city ( yes, he is a Drama and English teacher...consider THAT while watching the film, or even observing the use of apostrophe in title ), hence the locations and cast.<br /><br />Of note in his cast were the only known dramatic appearance of L.A.'s Channel 2 Morning News weather girl Vera Jimenez, and of greater impact, the debut of Eva Longoria, who had just arrived in Hollywood and was as eager as I to get a film under her belt. I must say her professional dedication, focus and \\\"let's do this\\\" attitude kept me inspired and was a foreshadow of her stardom-yet-to-come. <br /><br />SNITCH'D suffered from poor optics, few lights or electricity, several boom operators du jour, and delivery of an uncorrected offline for duplication. None of that overshadows the actual content, which speaks for itself.<br /><br />Anyway, by 2003, the film was sold to distributors ( at a net loss, I understand ) who inexplicably had no photos of Eva on the box ( by then she was a rising, working name ) but who did manage to obtain a clear photo of what appears to be an authentic Latino gangster to lend credibility to SNITCH'D. Since Cahill's other passion is antiquarian book dealing, it appears to confirm he believes you can, in fact, judge a book by it's cover... as so many have picked up this DVD based on it's sleeve. ----------------- One year later, Eva, now on a soap, and I met James for one day to shoot a simple short film he had concocted, SPLIT SECOND, which I think has never seen any play despite festival intent. <br /><br />6 years later, I was hired to shoot another Cahill film titled JUAREZ, Mexico. I though he had worked out the process; my participation was contingent on casting, script and crew control, and the resultant film actually looked promising in dailies, for what it was... a cheap detective story surrounding the mass murders of girls in Juarez; despite claims here and elsewhere, the film has NEVER appeared in any festival or venue, although Cahill has repeatedly claimed the film has distribution and was simply awaiting release to coincide with the DVD release of two studio pictures on the same subject, VIRGIN OF JUAREZ and BORDER TOWN.\"\n",
      "* * * * * * * * * \n",
      "688\n",
      "This movie was messed up. A sequel to \\John Carpenter's Vampires\\\", this didn't add up right. I'm not sure that I enjoyed this much. It was a little strange. Stick to the first \\\"Vampires\\\", it's a good movie. \\\"Vampires: Los Muetos\\\" wasn't a good attempt of a sequel.<br /><br />4/10\"\n",
      "* * * * * * * * * \n",
      "724\n",
      "Yay!... I think. It's hard to say. It's hard to have an emotion about a movie that has no emotion. This movie is as sterile as a surgeon's scalpel. For a setting, it has a few stone pillars, some stone seats, a couple stone crosses and some stone actors. They have no emotion! The only thing that saves this movie is the fact that it is Hamlet, and Hamlet is a terrificly written piece of literature. The dubbing really wasn't all that bad though. The voices stuck true to the dull, gloomy, dreary, life-sucking atmosphere the movie gave forth. I have seen this version of Hamlet on the fabulous Mystery Science Theater 3000 three times, and each of the three times, I was on the brink of turning off the TV, despite it being MST 3K.<br /><br />Not an uplifting production of a drama that deserves so much better.\n",
      "* * * * * * * * * \n",
      "838\n",
      "I thought they should have called this movie \\Whites\\\" instead of \\\"Heights\\\". Godawful...the kind of film that makes people hate New Yorkers. People who are so self obsessed and think their lives are so important...give me a break. Such a lily white cast that Glenn Close was the most ethnic character in it, this film was crying out for someone real to come in and steal it...and so they introduce, get this, a character even whiter than the rest of the cast (I thought he was an albino at first)who's supposed to be Welsh!I'm still trying to decipher that accent! Intellectually dishonest...this movie is the kind of film that's able to fool so many people into thinking it's worthwhile because it has the trappings of something more ambitious. Better to fill the theaters with MI5-10 than with this pretentious crap...must have been a better play because you can't fall off the floor.\"\n",
      "* * * * * * * * * \n",
      "1045\n",
      "holy Sh*t this was god awful. i sat in the theater for for an hour and ten minutes and i thought i was going to gouge out my eyes much in the manor Oedipus Rex. dear god. this movie deserves no more credit than anything done by a middle school film buff. please save your money, this movie can offer you nothing. unless you enjoy sideshows and sleeping in movie theaters. you know, h3ll, bring your girlfriend and make things interesting. you will be the only ones there anyway. F@ck this slide show. <br /><br />Ye Be Warned.<br /><br />I recommend not watching this.<br /><br />hello.<br /><br />how are you?<br /><br />I'm pretty good.<br /><br />enjoying this day?<br /><br />I am.<br /><br />this comment was one-hundred times more fun than pretending to watch this daym movie. this is sad.\n",
      "* * * * * * * * * \n",
      "1195\n",
      "Christopher Lee is one of my favorite actors! I'm trying to view all of his work. He has been known to single-handedly save movies with his presence. Unfortunately, this is not one of them. This movie suffers from a low budget and it's production values are disturbing. Please...for the love of Christopher....avoid this film!\n",
      "* * * * * * * * * \n",
      "1199\n",
      "Tim Robbins and John Cusack are two actors I have appreciated throughout their careers, and that was the only reason for choosing to watch this movie. Well, all I can say is I totally regretted it! These two great actors humiliate themselves all the way through by performing a number of irrelevant, unimaginative and kitch to the extreme (not that this is bad on its own)sketches that are supposed to make people laugh, but fail to do so. The only reason I can think is that the director was their friend, and they decided to support his movie by starring in it-I can't think of anything else because this movie is SO cheap! Fortunately Tim Robbins and John Cusack haven't disappointed me ever since. I would recommend you to avoid this film, unless you want your opinion about the two actors spoiled.\n",
      "* * * * * * * * * \n",
      "1207\n",
      "Robert Wagner is the evil boss of Digicron, a telecommunications company with a virus that kills people.<br /><br />'so you're saying that the software virus has become a real virus that can kill people - that may be medically possible but not possible from my system' <br /><br />'i'm having to write some new virus software of my own to trap it - it may take some time'<br /><br />'but it's not going after software, it's killing people'<br /><br />watch out for the 'i'm into virology' love moment and perhaps first ever film plot to feature death by braille keyboard\n",
      "* * * * * * * * * \n",
      "1224\n",
      "This movie was so poorly written and directed I fell asleep 30 minutes through the movie. The jokes in the movie are corny and even though the plot is interesting at some angles, it is too far fetched and at some points- ridiculous. If you are 11 or older you will overlook the writing in the movie and be disappointed, but if you are 10 or younger this is a film that will capture your attention and be amazed with all the stunts (which I might add are poorly done) and wish you were some warrior to. The casting in this movie wasn't very good, and the music was very disappointing because it was like they were trying to build up the tension but it didn't fit at all. On a scale of 1-10 (10 being excellent, 1 being horrible) the acting in this movie is a 4. Brenda Song is talented in comedy, but with this kind of movie, in some of the more serious scenes, her acting was laughable. When she made some of her \\fighting\\\" poses, I started laughing out loud. I think the worst thing about this movie is definitely the directing, for example, the part where her enemy turns out to be the person the evil villain is possesing, how her voice turns dark and evil, I think that was incredibly stupid, and how Wendy's (Brenda Song)teachers were all her teachers at school being possessed by monks, that was pretty ridiculous to. So to sumamrize it all, a disappointing movie, but okay if you're 10 or under.\"\n",
      "* * * * * * * * * \n",
      "1286\n",
      "I have never understood the appeal of this show. The acting is poor (Debra Jo Rupp being a notable exception), the plots of most episodes are trite and uninspiring, the dialogue is weak, the jokes unfunny and it is painful to try and sit through even half an episode. Furthermore the link between this show and the '70s' is extremely tenuous beyond the style of dress and the scenery and background used for the show -it seems to be nothing more than a modern sitcom with the same old unfunny, clichéd scripts that modern sitcoms have dressed up as depicting a show from twenty years ago in the hope that it will gain some nostalgic viewers or something like that. Both \\Happy Days\\\" and \\\"The Wonder Years\\\" employ the same technique much more effectively and are actually a pleasure to watch in contrast to this horrible, pathetic excuse for a show\"\n",
      "* * * * * * * * * \n",
      "1293\n",
      "Anything that might have been potentially interesting in this material is sunk in the first few seconds with a disclaimer that the events we're about to see can't ever be known and \\This is the whisper [rumor] most often told\\\" about one of Hollywood's most sensational \\\"mysteries.\\\"<br /><br />Okay. So we're not getting anything new (and E!'s \\\"Mysteries & Scandals\\\" gives you a better foothold on the particular incident...and that's not much of an endorsement). What do we get?<br /><br />We learn that Hollywood is a nest of viper's and decadents. No big news there. More interesting we learn what a washed up director is willing to do to regain his position of power in the entertainment industry and/or political establishment. It raises the question of whether Peter Bogdanovich is speaking from his own experience through these characters. But what's told is so cynical and ugly and muddled, we're left feeling guilty for witnessing a bunch of hooey that passes itself off as history.<br /><br />The tone of the film has a curious madcap quality that I found more irritating than fun. We're not empathetic with anyone. And the great \\\"Citizen Kane\\\" polishes off the relationship between Davies and Hearts in a much more convincing way. In \\\"The Cat's Meow\\\" we're not ever sure of Davies motives for being with Hearst. As soon as we're told one thing, she's off doing the other.<br /><br />And are we to believe that Davies was the love of Chaplain's life? Or is he just trying to cockold one of America's most powerful--and apparently moronic--citizens. The film never makes it clear.<br /><br />What is convincing are the production values. There's a glorious recreation of the yacht and period costumes. I got more out of looking at the construction of some of the lapels on the men's jackets than following a story that libels many of the the most well-known personalities in Hollywood history. No one will remember that the screenplay is pure fiction. The disclaimers that frame the film only make it all the more tentative and unsatisfying.<br /><br />The performers can't be faulted, although Meg Tilly goes way past parody here. Kirsten Dunst never disappoints. She gives the most sincere performance in a sea of scenery chewing. Only Joanna Lumley rises above the material, but so much so that she seems to be distancing herself from the whole enterprise rather than narrating it. One of her first lines is, \\\"I'm not here!\\\" And I'm sure she wishes she wasn't.<br /><br />This isn't on par with Bogdanovich's trashy, so-bad-it's-good \\\"At Long Last Love.\\\" It's perched on attempting something serious, but hesitates and stumbles chiefly because it's so full of bitterness towards \\\"the beast\\\" named Hollywood. This is \\\"National Enquirer\\\" filmmaking. And it not only soils the names of those who the film places on board the Oneida that weekend, but the audience gets pretty dirty as well.\"\n",
      "* * * * * * * * * \n",
      "1337\n",
      "save your money. i have been a fan of fullmoon productions for a long time and i have never seen them make a movie as bad as this. the casting is terrible, the story is even worse and the special affects are worse than any movie iv'e seen sence the 80's. this movie is so bad i cant even suggest renting it.\n",
      "* * * * * * * * * \n",
      "1426\n",
      "I'm both amused and disgusted by the people who claim that this movie is so accurate about Vietnam, and WERE NEVER THERE. This movie is about as true about the whole Vietnam war as the Rodney King beating is true about ALL police officers. Yes, bad things do (and did) happen, but in general the people there are just like you and me. They have morals, they are not killing machines, they do not all do drugs. Atrocities were the exception in Vietnam, not the rule. They happened far more infrequently than the \\hype\\\" would lead you believe. Oliver Stone has a knack for making movies that show the Vietnam war as this brutal bloodbath, but are based as much in reality as Star Wars. If you honestly believe the stereotypes of Vietnam, do yourself a favour and learn the truth. Fact: the Viet Cong and NVA did far worse things to the South Vietnamese than ANY soldier in the US Armed Forces ever did. Fact: the soldiers in World War II treated the enemy far worse in general than the soldiers in Vietnam did, and they were WELCOMED when they came home. The fine Americans who served this country in Vietnam deserve our respect; though the war was badly fought from a political standpoint, no one could have asked for more from our soldiers, and it is a great disservice to assert that this kind of \\\"mostly true\\\" fiction is the way things really were there.\"\n",
      "* * * * * * * * * \n",
      "1467\n",
      "STRANGER THAN FICTION angered me so much, I signed up on IMDb just to write this review. STRANGER THAN FICTION is a surprisingly complex, touching and thought-provoking movie until the very end. Once you suspend multiple lapses of logic (why didn't Will Ferrell hear Emma Thompson's voice 10 years ago when she fist started writing her book? \\The phone rang. The phone rang again.\\\" How could she not know it's him calling? etc.), the movie challenges one's thoughts about mortality, fate, and sacrifice.<br /><br />The brief history of literary themes provided by Dustin Hoffman should especially entertain former English majors. And Maggie Gyllenhaal is always a pleasure, even though Will Ferrell might just as easily be an ax murderer as a bumbling soul. Her quick trust of him is a mighty big leap of faith.<br /><br />Ah, but the ending. Until the very end, I would have given 9 out of 10 stars to this movie. The movie as a metaphor for life's journey, as a tribute to the notion of 'writing true,' as a reminder that great literature is either comedy or tragedy, but not both, is outstanding. The entire movie leads the viewer to understand and accept the moment of Will Ferrell's fate. And no matter how endearing a character he may have become, we know full well why we will accept the ending. The last act occurs, the screen goes white, the credits roll. A profound and powerful end to an almost perfect film. An end that would have been debated for weeks.<br /><br />NO!!!!!!!!!! No credits rolled. Say it isn't so. Say Hollywood didn't tack on another 10 minutes of crap that completely undermined the integrity and heart of the movie. Dustin Hoffman got it right when he said, \\\"It's no longer a masterpiece; it's OK.\\\" An apt review of the movie. Except to me, it wasn't even OK. I was so offended about the betrayal of 'writing true,' about the decision to pander the film that I actually burst into angry tears explaining this on the ride home from the movie. I don't often cry. I could care less about most movies, but I am still angry about this one.<br /><br />My questions for Zack Helm, the writer, are this: did the original movie end when the screen went white? And were you forced by the vapid movie powers-that-be to tack on an ending unfaithful to the core of the movie? Or did you tack that maudlin ending on yourself? I've read you're brilliant. I hope your original script ended the movie the first time.<br /><br />I know Zack Helm will never see this review, and I've been unable to find a contact for him to ask myself. But, please, movie-goers, am I the only one who feels this way about STRANGER THAN FICTION? One good thing came from me seeing this movie: I doubly admire LOST IN TRANSLATION now.\"\n",
      "* * * * * * * * * \n",
      "1562\n",
      "Not even Timothy Hutton or David Duchovny could save this dead fish of a film. For starters, the script was definitely written to be made into a B-film, but somehow Duchovny (looking for a star vehicle to elevate himself out of television) and Hutton (looking for the \\two\\\" of a \\\"one-two punch\\\" he had hoped would define his career after \\\"Ordinary People\\\") became attached to the picture. Cheesy lines, big bad wipes from scene to scene (Come on--who uses wipes after 12th Grade Telecommunications class?), and plain old bad acting sink this film. Even Duchovny is not immune to the bad acting plague that is this film. Only Timothy Hutton rises above the material at all. I must admit feeling Duchovny's pain as he read the lines that are the voice-over. While I found myself laughing when I'm sure the director wanted me to feel terrified, nothing prepared me for the closing line of Duchonvey's voice-over: \\\"if you ever need a doctor, be sure to call 911.\\\" If only the studio had called 911, this dog of a motion picture would never have been made. Avoid at all costs. <br /><br />\"\n",
      "* * * * * * * * * \n",
      "1661\n",
      "was this tim meadows first acting role in a movie? the character, leon, is funny enough but shortly after that the sexual jokes and humor are too dumb to listen to anymore. some movies can get away with the sexual jokes, and base their audiences to know that right when the advertising comes on. some movies that do this are american pie and scary movie. scary movie was stupid, and american pie wouldnt have done well without the sexual jokes. the only role, besides leon, that had some humor that followed was will ferrell. the character really was dumb and that was all, the dumb humor was all that had me watching. the movie was ok, and nothing else. i dont really understand why the snl people that are dying to leave the show always get a movie based on a character they played on the show. the skits last about 5 minutes, and if they can make a movie off a 5 minute skit, then what is the world coming to? molly shannon had superstar, cheri o'terri had scary movie, but she wasnt a leading role, and will had elf. but that was good, but he did some dumb movie, but i cant remember, and mike myers with wayne's world. how come the mad tv crew dont ever get movie deals? seen only one guy break through, but only in like 2 movies and a tv show with andy dick. but that guy relies on comedy for his life to continue, funny or not. this movie is not good, but had some positive humor. what a waste of film and people's money. (D D-)\n",
      "* * * * * * * * * \n",
      "1698\n",
      "You already know how painful to watch this movie is. But I wonder why one of the worst movies ever should include one the most beautiful cars. Why the cars should be not only the victim of violation, but also the only true actors and performers in it. So how on Earth you Porsche, Lamborghini or whatever could allow those people to get in touch with your cars and ruin you reputation for which you give millions.Stop the getting an advantage of the cars and earn money on their chests. It is painful for those who love cars. It is painful for those who love movies.<br /><br />I want my money back !!!\n",
      "* * * * * * * * * \n",
      "1770\n",
      "One of the worst movies I've seen shoddy camera work, crappy filter usage, film was grainy, script was terrible, i mean come on, how predictable was the big battle at the end.....<br /><br />some of the fight scenes were okay i guess....<br /><br />some scenes were so bad it was comical ...like Sorbo getting the horse and riding at the end...LOL i mean really ..a horse? Oh cant forget how the bad assassins roll around in the same vehicle throughout the entire movie..one would think that after killling key witness and federal agents, they woulda been tracked down..ETC, ETC really don't bother watching it...\n",
      "* * * * * * * * * \n",
      "1792\n",
      "Clint Eastwood is Bronco Billy, the leader of a Wild West troupe, one of six regular misfits who comprise a struggling-to-break-even touring show. The seventh member of the bunch is a woman, Billy's assistant, but such women never last long, and the position is chronically open. Enter Antoinette Lilly (Sandra Locke  Eastwood's girlfriend at the time). It seems Miss Lilly, as Doc (Scatman Crothers) calls her, is a would-be heiress who will only receive her long-deceased father's estate if she's married by the time she turns 30, so on the eve of that birthday she gets hitched to the cartoonish Geoffrey Lewis.<br /><br />So, what's the plot of this film? It's hard to say. There's the romantic tension between Billy and Miss Lilly, but the problem is that for the first half of the movie she's so haughtily insipid and detestable that when she suddenly becomes 'one of the troupe' halfway through the film, it's not only unbelievable, but the audience is well past caring about her. There's the chronic lack of funds behind the Wild West show, but this topic isn't touched upon enough to really be the raison d'etre of the film. There's Miss Lilly's predicament of being stranded in the rural west, cut off from the funds that fuel her spoiled life of luxury (she's mistakenly believed to be dead by her family and the press). But are we really supposed to believe that she couldn't get back to New York and her waiting fortune if she gave it a bit of effort?<br /><br />No, the point of this film seems to be that Billy is the leader of a family, a lovable bunch of losers who hang together through thick and thin. This is a warm, fuzzy film  or at least tries to be. <br /><br />Along the way, Clint shows us his skills with a gun, even foiling a bank robbery in a shooting that is grotesquely out of place in an otherwise relatively non-violent film. One of the gang is arrested on an old draft evasion charge; Billy bribes the local sheriff. The show's tent burns down; an orphanage makes them a new one. But numerous mundane pitfalls do not a plot make.<br /><br />Compounding the problem is the acting, or lack thereof. Aside from Scatman Crothers, the supporting cast is quite amateurish. Eastwood isn't on top of his game either, though he looks better simply by virtue of being surrounded by such a lackluster bunch.<br /><br />And for all this, the film plods on for 116 minutes. To what point? Good question ",
      " <br /><br />4 out of 10\n",
      "* * * * * * * * * \n",
      "1824\n",
      "As a big fan of David Mamet's films and plays, especially his first film House of Games that also starred Joe Mantegna, I was expecting great things from this film. Instead, I found myself annoyed by the film's superficiality and lack of credibility. Racial slurs are thrown about without any feeling or meaning behind them, in the hopes of setting up a racial tension that for me never materialized. Identity is totally reevaluated and men become \\heroes\\\" for no apparent reason. Because of his oaths taken as a cop, the lead character adamantly refuses to perform one relatively small action that would harm no one and could possibly save lives, and yet performs another action which is very violent and VERY illegal, but then still refuses the minor action. In addition, a highly unbelievable subplot involving a man who has killed his family is introduced just for the sake of a plot point that was all but advertised with skywriting, and the cop's reaction to that occurrence stretch credulity way beyond all reasonable limits. Needless to say, after expecting another exciting thriller from David Mamet, I was extremely disappointed to say the least. 3 out of 10.\"\n",
      "* * * * * * * * * \n",
      "1857\n",
      "This movie was so badly written, directed and acted that it beggars belief. It should be remade with a better script, director and casting service. The worst problem is the acting. You have Jennifer Beals on the one hand who is polished, professional and totally believable, and on the other hand, Ri'chard, who is woefully miscast and just jarring in this particular piece. Peter Gallagher and Jenny Levine are just awful as the slave owning (and keeping) couple, although both normally do fine work. The actors (and director) should not have attempted to do accents at all--they are inconsistent and unbelievable. Much better to have concentrated on doing a good job in actual English. The casting is ludicrous. Why have children of an \\African\\\" merchant (thus less socially desirable to the gens de couleur society ) been cast with very pale skinned actors, while the supposedly socially desirable Marcel, has pronounced African features, including an obviously dyed blond \\\"fro\\\"? It's as if the casting directors cannot be bothered to read the script they are casting and to chose appropriate actors from a large pool of extremely talented and physically diverse actors of color. It's just so weird! This could be a great movie and should be re-made, but with people who respect the material and can choose appropriate and skilled actors. There are plenty of good actors out there, and it would be fun to see how Jennifer Beals, Daniel Sunjata and Gloria Reuben would do with an appropriate cast, good script and decent direction.\"\n",
      "* * * * * * * * * \n",
      "2024\n",
      "Brilliant book with wonderful characterizations and insights into human nature, particularly the nature of addiction, which still resonate strongly today.<br /><br />As for the movie... eh. Nothing special. The cameraman clearly had an unfortunate addiction to circling and circling and CIRCLING around everything, making the viewer quite nauseous. Why the director didn't put a stop to this is beyond me--but maybe he was too busy trying, and somehow failing, to draw good performances from these normally excellent but inappropriately-cast actors. All in all, a weak adaptation. Your three hours would be better spent reading (or re-reading) the book.\n",
      "* * * * * * * * * \n",
      "2060\n",
      "When it comes to horror movies, I am more than willing to suspend disbelief, ignore sub-par production values, and overlook plot holes in the interest of a good scare. This movies simply has no good scares to offer. It can't even be enjoyed as camp. Bad dialogue, bad acting, bad direction, the kills were predictable and poorly staged, the music was annoying, the camera work was wretched, even the costumes were bad. I felt really bad for the actors, who were obviously trying, but who had to deal with terrible, contrived dialogue and an obvious lack of direction. I doubt they got any rehearsal, either. It's embarrassing to watch, and so boring than making it through to the contrived \\surprise\\\" ending requires tremendous endurance. It's quite easily one of the worst movies I've ever seen.<br /><br />I don't normally write reviews, but this one was so bad that I felt compelled to warn others. This movie is a complete waste of time. If you must watch this movie, don't miss the \\\"Making of\\\"-featurette. The writer/director seems to be under the impression that making the killer a woman was kind of bold, daring move. (Seen it.) He and the cast spend half an hour deconstructing this film as if it's a new-age \\\"Citizen Kane.\\\" It's like listening to a group of third-graders take you behind the scenes of their Christmas pageant. They truly think they've created something of substance. It's sad, really",
      " The only reason I gave this movie a \\\"2\\\" is because I think \\\"1\\\" should be reserved for true atrocities, like \\\"Manos: Hands of Fate\\\" and \\\"Space Mutiny.\\\" So \\\"American Nightmare\\\" isn't the WORST movie I've ever seen, but I'd have to say that it's somewhere in the bottom fifty.\"\n",
      "* * * * * * * * * \n",
      "2066\n",
      "Kill Me Later\\ has an interesting initial premise: a suicidal woman (Selma Blair) on the verge of jumping off the top of an office building is protects a bank robber (Max Beesley) who promises to \\\"kill her later.\\\"<br /><br />The actual execution of this premise, however, falls flat as almost every action serves as a mere device to move the plot toward its predictable conclusion. Shoddily written characters who exhibit no motive for their behaviors compromise the quality of acting all around. Lack of character depth especially diminishes Selma Blair's performance, whose character Shawn vacillates from being morose to acting \\\"cool\\\" and ultimately comes across as a confused dolt. This is unfortunate, as under other circumstances Ms. Blair is an appealing and capable actress.<br /><br />Compounding matters for the worse is director Dana Lustig's insistence on using rapid cuts, incongruous special effects (e.g. look for an unintentionally hilarious infrared motorcycle chase at the end), and a hip soundtrack in the hopes of appealing to the short attention spans of the MTV crowd. Certainly Ms. Lustig proves that she is able to master the technical side of direction, but in no way does her skill help overcome the film's inherent problems and thus the movie drags on to the end. Clearly, Lustig has a distinct visual style; however it is perhaps better suited to music videos than to feature film.<br /><br />The producers (Ram Bergman & Lustig)can be commended for their ability to realize this film: they were able to scare up $1.5 million to finance the film, secure a good cast, and get domestic and foreign distribution. This is no small feat for an independent film. Yet given the quality of the product, the result is a mixed bag.\"\n",
      "* * * * * * * * * \n",
      "2131\n",
      "The movie is steeped in religion, so it is impossible to separate it from religion in commenting upon it. In my opinion, this movie pretends to explore deep issues, but thrives on stereotypes and prejudices; with little true insight. What the people in the movie (and therefore, the writer) failed to see was grace. They failed to understand that God is the author of beauty and He is the Creator of passion and sexual gratification in the proper context of marriage bonds. To imply that the people of the society in which the story is based believe that nudity is sinful, and both the man & the woman enjoying the act of marriage is dirty, is just an oversimplification. Such stereotypes really don't exist, for even Jewish holy writings speak clearly of the caring husband who will seek his wife's pleasure before his own. Scripture says that a man ought to love his wife as his own flesh, and that no man ever hated his own flesh, but he nourishes and cherishes it. Even if you want to ignore the New Testament, the writers & characters completely ignore that there are passages such as the Song of Solomon in the Old Testament, and the even the book of Proverbs which says, \\Rejoice in the wife of thy youth, let her breasts satisfy you always\\\"! How can that be read in any way other way than that God knows, and approves of, and smiles on, the marital union and the enjoyment thereof? Real men don't ignore the value and needs of their wives. Those that do deny a very basic teaching of the Judeo/Christian religion. God NEVER said those things. It's absurd. Sonia rebelled because of the misapplication of the teachings of the true God of Abraham. It didn't need to be so. How sad. What Sonia desperately needed was TRUTH, not tradition. In knowing, loving and obeying God, we love others more; before ourselves. That is the faith of the God of Abraham, Isaac, Jacob & Joseph; once for all delivered to the Saints; bought & paid for by Jesus Christ, the Righteous. But alright, ignore all this and abandon ancient, holy Scripture and turn to the wisdom of homeless people & ghosts. That's a good plan. I would never recommend this movie; partly because the sexual content is unnecessarily graphic, but also because it really doesn't offer any valuable insight. Check out \\\"Yentl\\\" if you want to see a much more useful treatment of Jewish tradition at odds with society.\"\n",
      "* * * * * * * * * \n",
      "2199\n",
      "Soldier Blue is a movie with pretensions: pretensions to be some sort of profound statement on man's inhumanity to man, on the white man's exploitation of and brutality towards indigenous peoples; a biting, unflinching and sardonic commentary on the horrors of Vietnam. Well, sorry, but it fails miserably to be any of those things. What Soldier Blue actually is is pernicious, trite, badly made, dishonest rubbish.<br /><br />Another reviewer here hit the nail on the head in saying that it appears to be a hybrid of two entirely different movies. What it is basically is a lame, clichéd, poorly acted \\odd couple\\\" romance - Strauss and Bergen overcoming their prejudices about the other's lifestyle and falling in love (ah, bless) - bookended by two sickening massacres which wouldn't have been out of place in a Lucio Fulci splatter flick.<br /><br />There is no excuse for the repulsive, prurient, gore-drenched climax, in which cute little native American children are variously shot, sliced, dismembered and impaled in loving and graphic close-up, and large-breasted native American women are molested, raped and strung up - no excuse, that is, except box office. (The massacre itself, whilst repulsive in its misplaced intention, is very badly staged and shot; a bunch of actors lying around with bright red paint smeared on them, intercut with a few special-effects sequences of beheading/dismemberment - dismemberments, incidentally, which utilised real amputees in their filming. Now that's what I call exploitation.)<br /><br />Forget all the pap you've heard (including the ludicrous commentaries that begin and end the movie) about this being a \\\"protest\\\", an indictment of American brutality towards the native peoples. This film doesn't give a stuff about the plight of the Cheyenne; had it done so it would have featured some involving native American characters, would have led us to get to know and to care about the nameless, faceless innocents who get slaughtered at the climax. Instead what we get is the silly white bread romance of Bergen and Strauss (lousy actors both, in this at least), with plenty of blood, guts and severed heads thrown in to attract the curious.<br /><br />Which is a terrible shame, because there is a movie to be made about the Sand Creek massacre, about all of the real life massacres the US (and Britain, and all so-called \\\"civilised\\\" nations) have participated in over the centuries (Iraq?). this just isn't that movie.\"\n",
      "* * * * * * * * * \n",
      "2206\n",
      "This is one of the most hateful and cruel movies I've seen in a long time. Sadly I was duped into sticking with it, since Donald Sutherland's presence misleadingly gave it some credibility. [That's the last time that'll happen.]<br /><br />Lesley Ann Warren's character was annoyingly whiny and as stupid as they come. There were smarter characters than hers who were killed in the film. Thats just one of many things in this movie that made me ask, \\Where is the justice?\\\"<br /><br />Why is late-night cable so filled with sadistic garbage filled with pathological mayhem? Most of these films seem to have a particular problem with women, and seem to focus on them being terrorized and murdered. This film could have been every bit as suspenseful without being sick and twisted in the process. All it ends up doing is turning the viewer's stomach with its sickness, and insulting the viewer's intelligence.<br /><br />The cast is misleadingly good. My guess is that they BAGGED Sutherland first, and used him to lure the others like lemmings into this.<br /><br />I'm kicking myself for wasting time, giving this piece of garbage a chance.\"\n",
      "* * * * * * * * * \n",
      "2380\n",
      "Set in South Africa, a young black guy tries to land a part in a 'gangsta' movie. But with no knowledge of street life, he's told to find out what that life is really like or he won't get the part. He manages to work his way into a gang led by an old friend of his from school and his chances of appearing in the film decline as he commits crimes to be accepted. But for the gang's leader, the burgeoning disaster of his new friend's life suggests a golden opportunity to do something better with his own.<br /><br />While that may sound relatively interesting, it's anything but. The first half of it is incredibly meandering and tedious, while the \\hijacking\\\" only takes place towards the end with some very poorly executed low speed car chases. In those \\\"chases\\\", only two police cars are used, both of which are early 90's Nissan Sunny's. Not only would these be rather cheap to pick up (and I find it rather hard to believe they'd be using such mundane old cars in South Africa in the year 2000), but as far as I can remember, there's only 2 involved and none of them get a scratch once. The car chases are very badly shot, with distant and badly timed camera angles and minimal traffic on the roads, and they're all over in around 2 minutes at maximum as you're supposed to believe that a very small kid is actually a highly skilled driver who can easily evade the police despite the driving being pedestrian and utterly unexciting. This now leads me onto the characters and the acting, which are equally bad. The aforementioned kid who drives the car, looks about 13 years old and supposedly is extremely skilled at losing the incredibly inept police. Everybody else is equally unconvincing, so much that they even look bored at times themselves.<br /><br />At the closing scene of the movie, our main character (\\\"Sox Moraka\\\") is asked by the gang leader to steal a car from a car park. While having trouble opening it, the Police arrive and ask him what he's doing and he replies by telling him it's their car. After a brief argument they try to arrest him and he then holds the Police at gunpoint and jumps back in their car. After he's in, the Police return fire and in turn he gets wounded. After another pathetic chase sequence, they decide to abandon the car and set it alight to destroy any evidence. What follows here is one of the most downright laughable and hideously awful special effects I've ever seen. When the car \\\"explodes\\\", superimposed flames suddenly appear from every window with awful sound effects that aren't even in time. It's so badly done and so phony looking that it's hard to even put it into words, and really needs to be seen to be believed. If you watch it in slow motion it looks even funnier. I've seen better effects than this in murder reconstruction documentaries. The car is a Volkswagen Golf MK2 GTi. Something that wouldn't be worth a huge amount at all, and they seriously couldn't afford to destroy it with a real explosion? I'd love to know how large the budget for this movie was. It feels so cheap that I'm surprised it made it outside of South Africa, and even more surprised it made it to a DVD release.<br /><br />I know it's not a big budget Hollywood production. I know it's meant to depict gangs in impoverished townships of South Africa who steal cars from the middle class in and sell the parts on the black market, but with the laughable effects, poorly executed car chases, awful acting and ludicrous characters, any sense of reality is completely lost.<br /><br />Overall, I most certainly do NOT advise you to watch this. If you want to have a laugh and see one of the most poorly done, low budget messes of amovie ever created, then I'd recommend it for that, and only that.<br /><br />It is a wretched, poorly made, poorly edited, poorly paced and tedious piece of low budget drivel that fails on all counts. I've seen many South African movies, including lots of cheap NuImage/Nu-World action pictures, and despite their cheesiness, they're far better than this on all counts.\"\n",
      "* * * * * * * * * \n",
      "2501\n",
      "I can't say I'm all that experienced in misty Mundae flicks having seen only a handful, but it's obvious that this was made on a shoestring, and while it might have been respectable that the filmmakers were able to make a Tomb Raider rip-off inside a garage, it isn't because it's completely obvious that this is what they were doing. The film only runs for forty five minutes, and this is definitely a good thing as there isn't nearly enough plot here to stretch it out for any longer. It has something to do with an evil Nazi scientist (who looks about as evil as a porn star playing a Nazi scientist ever could), a mummy, which is clearly a man wrapped up in toilet roll and Misty - this film's version of Tomb Raider, who keeps her top on for much less time than Angelina Jolie did in the big budget version. I have to say that even in spite of its shortcomings, this film could have been better. It's got Misty Mundae for a start, and even better than that if you ask me is the fact that it also stars the even hotter Darian Caine. The pair gets to engage in all the lesbian sex that you would expect from a Seduction Cinema film and this is at the expense of the nonexistent plot, although that isn't really a bad thing. Obviously, this is a rubbish film - but the fact that it's short is to its credit, and if you're after a bit of lesbian sex, you could do worse.\n",
      "* * * * * * * * * \n",
      "2638\n",
      "Oh dear god. This was horrible. There is bad, then there was this. This movie makes no sense at all. It runs all over the map and isn't clear about what its saying at all. The music seemed like it was trying to be like Batman. The fact that 'Edison' isn't a real city, takes away. Since I live in Vancouver, watching this movie and recognizing all these places made it unbearable. Why didn't they make it a real city? The only writing that was decent was'Tilman' in which John Heard did a fantastic job. He was the only actor who played his role realistically and not over the top and campy. It was actually a shame to see John Heard play such a great bad guy with a lot of screen time, and the movie be a washout. Too bad. Hopefully someone important will see it, and at least give John Heard credit where credit is due, and hire him as lead bad guy again, which is where he should be. on the A List.\n",
      "* * * * * * * * * \n",
      "2653\n",
      "I picked up this movie in the hope it would be similar to the hilarious \\The Gamers\\\" by Dead Gentlemen Productions (which is highly recommendable, by the way). Boy, what a disappointment! The movie is shot in this fake documentary style made famous by the office but it fails to deliver. The reason is partly the stiff acting but mostly the writing and directing. True, it can be funny to use every singe cliché there is about role playing games, but here it is done in such a way that it becomes extremely predictable. Already at the beginning of each scene you know what the \\\"joke\\\" will be about. But maybe the biggest problem is that everything is depicted way over the top. There is no subtlety in this movie, if there would be captions \\\"LAUGH NOW\\\" or a cheap 80s-style fake-laughter track it would not make much difference. With some scenes you can't help to think \\\"Yea, I get why they thought this would be funny\\\" but the way it is executed takes all momentum out of the possible joke.\"\n",
      "* * * * * * * * * \n",
      "2826\n",
      "Mighty Morphin Power Rangers came out in 1993, supposedly based on the Japanese sentai television show that started back in the 1970s. Now as a fan of Japanese action films and series, you would think I would get a kick out of this show.<br /><br />You could not be more wrong. What worked in the Japanese version has become a complete abomination of television with mighty morphin power rangers.<br /><br />MMPR is based on five teenagers who get powers to becomes costumed superheroes with robotic dinosaurs who form an even bigger robot.<br /><br />Now this premise is more far fetched and more laughable than anything in either Transformers movie, yet, the ridiculousness of this show is often overlooked.<br /><br />It was followed by two really bad, and I do mean, really bad movie knock offs, and the actors starring in this series, completely disappeared from the scene.<br /><br />If you must choose, try watching Japan's Zyuranger series instead.<br /><br />Also, what's up with the awful long 1990s haircuts and all the earrings on the guys? It makes them all look feminine!\n",
      "* * * * * * * * * \n",
      "2946\n",
      "This movie was laughably bad. A friend rented it from Netflix and made me watch it. There are so many gaffes and goofs that it's impossible to even bother getting to know the characters and the plot. How about these for example...<br /><br />The \\Vermont Airport\\\" surrounded by palm trees<br /><br />Ben's miraculously appearing shirt during a phone conversation<br /><br />The priest's palatial office... complete with a folding card table desk<br /><br />There is a decent story hidden behind a very bad movie. But even if you look past the technical flaws, you'll find horrid acting and casting. I was most tickled by the casting of a flamboyantly gay actor to play the right-wing religious zealot brother. His opening scene, sitting in his immaculate apartment, stroking his kitty cat, was hilarious.<br /><br />I applaud the writer/director/producer/editor/star/caterer/cast dentist/composer (and whatever else he did on this move) for actually getting a movie like this distributed. If you have nothing better to do, it could be a fun group movie or even the basis of a drinking game but don't rent it for a powerful story about homophobia and gay marriage.\"\n",
      "* * * * * * * * * \n",
      "2975\n",
      "Robert Forster, normally a very strong character actor, is lost at sea here cast as a New York family man seeking revenge on the thugs who murdered his son and attacked his wife in a home invasion. Scary subject matter exploited for cheapjack thrills in the \\Death Wish\\\" vein. It isn't difficult to scoff at these smarmy proceedings: the dialogue is full of howlers, the crime statistics are irrevocably dated, and the supporting characters are ridiculously over-written (particularly a despicable judge who allows an accused murderer to walk right out of the courtroom). Low-rent production is contemptible in its self-righteousness, especially as the violence in our cities has only increased. * from ****\"\n",
      "* * * * * * * * * \n",
      "3181\n",
      "Last night I decided to watch the prequel or shall I say the so called prequel to Carlito's Way - \\Carlito's Way: Rise to Power (2005)\\\" which went straight to DVD...no wonder .....it completely ...and I mean completely S%&KS !!! waist of time watching it and I think it would be a pure waist of time writing about it.... I don't understand how De Palma agreed on producing this sh#t-fest of a movie....except for only one fact that I tip my hat to... Jay Hernandez who plays the young Brigante.... reminded me how De Niro got into the shoes of Brando to portray the young Don Corleone in Godfather II ...but the difference De Niro was amazing and even got an Oscar for it !!! Jay Hernandez well he has guts for trying to be a young Pacino.... too bad for him I don't think he will be playing in film anymore and by the way after I watched this sh#$%ty movie, I sat down and watched the original Carlitos way to get the bad taste out of my mouth.\"\n",
      "* * * * * * * * * \n"
     ]
    },
    {
     "name": "stdout",
     "output_type": "stream",
     "text": [
      "3261\n",
      "I have seen most, if not all of the Laurel & Hardy classic films. I have always enjoyed there comical stupidly, even after watching it over and over again. This new film attempts to bring back the classic with two new actors who resemble both Laurel & Hardy, however fails miserably for various reasons. One of which is how out of place their cloths are (still early 20th century) however are both portrayed in the 90's setting. Some of the former dialogue was brought back, however it also fails miserably to come close to the classic series. This film could very well be the worst film I have ever seen and should be pulled off the shelf and locked away forever. The real Laurel & Hardy are surly spinning in their graves at such a bad imitation.\n",
      "* * * * * * * * * \n",
      "3288\n",
      "Before starting to watch the show, I've heard it was great and aesthetically very interesting. What a deception, the scripts are so dumb that I am quite sure the authors are son and grandson of Scoobidoo writers. And what about the SFX and colors, they are so extreme that it is painful to watch, colors are not saturated they are over saturated, like scripts are overwritten and show is overrated. This show is like a bad pie in which a child would have put only sugar and butter thinking that because these ingredients are the best, they are sufficient. Unfortunately for this show, the only two ingredients of this show are finally vacuity and a total lack of credibility.\n",
      "* * * * * * * * * \n",
      "3343\n",
      "It's been about 14 years since Sharon Stone awarded viewers a leg-crossing that twisted many people's minds. And now, God knows why, she's in the game again. \\Basic Instinct 2\\\" is the sequel to the smash-hit erotica \\\"Basic Instinct\\\" featuring a sexy Stone and a vulnerable Michael Douglas. However, fans of the original might not even get close to this one, since \\\"Instinct 2\\\" is painful film-making, as the mediocre director Michael Caton-Jones assassinates the legacy of the first film.<br /><br />The plot of the movie starts when a car explosion breaks in right at the beginning. Catherine Tramell (Sharon Stone, trying to look forcefully sexy) is a suspect and appears to be involved in the murder. A psychiatrist (a horrible David Morrisey) is appointed to examine her, but eventually falls for an intimate game of seduction.<br /><br />And there it is, without no further explanations, the basic force that moves this \\\"Instinct\\\". Nothing much is explained and we have to sit through a sleazy, C-class erotic film. Sharon Stone stars in her first role where she is most of the time a turn-off. Part of it because of the amateurish writing, the careless direction, and terrifyingly low chemistry. The movie is full of vulgar dialogues and even more sexuality (a menage a trois scene was cut off so that this wouldn't be rated NC-17) than the first entrance in the series. \\\"Instinct\\\" is a compelling torture.<br /><br />To top it off, everything that made the original film a guilty pleasure is not found anywhere in the film. The acting here is really bad. Sharon Stone has some highlights, but here, she gets extremely obnoxious. David Morrisey stars in the worst role of his life, and seems to never make more than two expressions in the movie- confused and aroused. \\\"Instinct 2\\\" is a horrible way to continue an otherwise original series, that managed to put in thriller with erotica extremely well. Paul Verhoeven, how I miss you....<br /><br />\\\"Basic Instinct 2\\\" never sounded like a good movie, and, indeed, it isn't. Some films should never get out of paper, and that is the feeling you get after watching this. Now, it is much easier to understand why Douglas and David Cronenberg dropped out, and why Sharon Stone was expecting a huge paycheck for this......-----3/10\"\n",
      "* * * * * * * * * \n",
      "3436\n",
      "This is, without a doubt, the most offensive \\chick flick\\\" I have seen in years, if not ever. The writing & characterizations are so riddled with stereotypes that the film verges on parody. Before walking out of the theater an hour and five minutes into this disaster, we were subjected to the following themes: having a baby will solve all of your problems, \\\"performer types\\\" are miserable messes, & musicians can't be good mothers unless they toss their dreams for a more conventional lifestyle. What a waste of a talented cast & some great-looking sets & costumes. When Natasha Richardson told Toni Collette that unless she lives a more mainstream life, she'll end up - shudder - \\\"alone!\\\", I felt queasy. I can't believe this movie made it to theatrical release. It's the sort of fare one expects from those \\\"women's\\\" cable channels that I always pass right by when channel-surfing. I am female and over 35, so I should be part of this film's target audience, but boy, does \\\"Evening\\\" miss its target.\"\n",
      "* * * * * * * * * \n",
      "3574\n",
      "Awwww....yes, it is heartwarming and all that some unlucky family gets adopted by ABC/Sears and has their home \\renovated.\\\" That's where the humanistic appeal ends. I liked it early in its run, but now this show has become disgustingly excessive.<br /><br />Ten needy families could be given relatively luxurious homes with lots of goodies for every one family that each episode of this show splurges on. The people at Habitat For Humanity must be shaking their heads in disbelief. For example, is it necessary for a healthy sixteen year old boy to have a jacuzzi in his bedroom, or have his bed tricked-out with \\\"Low Rider\\\" hydraulics? Does the mom really need her dilapidated, non-running and rusted out old pick-up truck restored and \\\"pimped\\\" by some of the best customizers in California? A new one would have done the job quite nicely, and probably for a third of the price. Do people really need a sixty-five inch plasma screen in every room of the house? And then there's the issue of who pays the increased property taxes and utility bills. Even after the zaniacs at \\\"Makeover\\\" leave, somebody still has earn a living. I doubt the friendly folks down at Social Services will see the humor in all of this largess.<br /><br />This show is nothing more than a ratings grabber for ABC, and a tacit commercial for its sponsors.\"\n",
      "* * * * * * * * * \n",
      "3640\n",
      "Very bad but watchable science fiction film that suffers from abominable special effects, poor acting, and a ridiculous story. The film opens with a spaceship returning from exploration on Mars with a woman and a man with green slime on his arm. She, through some hokey plot contrivances, begins to tell what happened on this fateful trip as almost all the tapes seemed to be magnetically wiped off. Four astronauts take on this journey: a military type played by Gerald Mohr, a poor man's Humphrey Bogart who enjoys saying the word \\Irish\\\" and has the acting savvy of a codfish, then there is Naura Hayden, a beautiful redhead and only female crew member on flight with three men wearing the most formfitting suits possible to accentuate all her curves, next, Les Tremaine, a wonderful character actor from cheap sci-fi films like this as the egghead, and last, Jack Kruschen as Sammy - the guy from Brooklyn with jokes and doesn't seem too bright although chosen for his expertise in electronics. None of these performers are really any good, and all of them say their dialog with little conviction. Watch Tremaine as he utters that scientific nonsense! Really, the best out of the four is Kruschen - and that really says a lot about this film. But bad acting aside, the movie just falls apart when they land on Mars via flashback. The Angry Red Planet had a real cheap budget because Mars is really the American Southwest with a heavy red tint over it. When the story calls for something that might look Martian, there are drawings placed with a heavy red tint over them. You can tell they are drawings The monsters are perhaps even worse as we get a Bat-rat-spider with a size upwards of 40 feet that looks like some kids got together piecing dead animals together. The other significant creature is a giant amoeba with an oscillating eye. Whew! These are bad. There is a nice drawing of a Martian city, but there just was not enough of this in the film. Despite all these big problems, The Angry Red Planet is a fun bad film. It is really fascinating to see how far we have come as a civilization. Most of the stuff they used in the movie is so outdated. One guy is using an electric razor with a cord and I thought they can get to Mars but they are still using cords. Director Ib Melchior gives an interesting look to much of the film even with the budgetary constraints, but the story by him and Sid Pink doesn't fly. And how bout that ending with the music and the psychedelic colors? Groovy man!\"\n",
      "* * * * * * * * * \n",
      "3674\n",
      "with all the European studios involved in this one, you would think you'd at least get some pretty photography; but the local color is kept to a minimum.<br /><br />Irritation #1 is Mira Sorvino using a Russian accent in order to play a Spanish cop - WTF? The story is hopelessly confused. There's a supposed romantic back story that is intentionally confused - is she or isn't she a lesbian? - serving no purpose whatsoever. The cops in the movie are the most stupid to have graced a serial killer film in a long time. There seems to be some message about the mid-'30s Spanish Civil War But since pretty much everybody involved in that is dead, one doesn't see the point in it.<br /><br />Despite the bull-fighting backdrop of part of the narrative (which part? who can tell), you never even get a good look at a bull fight. Earnest Hemingway would have punched the director in the nose - with my blessings.\n",
      "* * * * * * * * * \n",
      "3717\n",
      "Sitting down to watch the 14th season of the Bachelor (\\On the Wings of Love\\\"), I knew I would be in for an \\\"interesting\\\" time. I had watched some of the previous seasons of the Bachelor in passing; watching an episode or two and missing the next three or so. I find that the Bachelor is often appealing and intriguing, though its quality and morality are often lacking.<br /><br />\\\"On the Wings of Love\\\" details the journey taken by Jake, a 31 year old commercial pilot from Dallas, Texas, to find true love, as true a love as one can find in a season-long reality-drama dating show. Jake meets 25 beautiful girls from all over the country. He begins to get to know them a bit, but it is mostly superficial; how well can you get to know someone in a few 5 minute conversations? Jake tries to make his true intentions known from the very beginning, at least to the audience. He noted that he doesn't just want love or a good time, but he wants a fiancé or wife. We can only assume that he has made this clear to the women in the competition as well. If that is the case, it might explain, to a degree, some of the women's actions. The women are super competitive. While they don't even know Jake at all yet, they are still in it to win it no matter what the cost.<br /><br />Not only were the women competitive, but they were also confident and catty. Threats, backstabbing, and warnings of \\\"Watch out!\\\" all show that these women weren't there for a good time either. Jake noted that he was not just looking for sex appeal, but looking for \\\"a connection.\\\" However, the girls pulled out all the stops to try to impress Jake with said sex appeal. They arrived at the mansion in skimpy dresses  either low-cut or short.<br /><br />While some girls seemed to maintain their sense of decorum, others missed that memo altogether. One girl, Channy, noted that Jake was a \\\"good guy\\\" to whom she could be a \\\"naughty girl.\\\" She went on to say that Jake could land on her \\\"runway anytime.\\\" She got flack from the other girls for her provocative statement which showed their take on these situations.<br /><br />So, a reality dating show couldn't be that bad, could it? Besides the obvious issue of sex-driven attraction, there are other issues that mar this seemingly harmless show. Is this the right way to find a future mate; vying for someone's attention by flaunting oneself to extreme proportions? Unfortunately, however, that is what America has reduced dating to these days: pleasure and sex without commitment and a little happiness on the side.<br /><br />Another problem is the premature emotional attachment by which many of the girls bound themselves to Jake. A few girls in particular seemed to be overly attached. One girl said \\\"If I don't get that first impression rose it will kill me!\\\" As mentioned before, they don't even know him yet and she was talking about a specific rose, not just one of the 15 roses to keep from being eliminated.<br /><br />Michelle, in particular, seemed to have some issues with attachment to Jake. The other girls noticed it too. After one particular Michelle outburst, Vienna asserted that Michelle had a \\\"mental breakdown and we've only been here an hour.\\\" Michelle got the last rose of the evening on the first show  narrowly missing elimination  and was extremely emotional about it. The other girls thought it was simply ridiculous. Another girl also cried, but because she was eliminated.<br /><br />It began with Survivor, and from there it just took off  reality TV. It shows our entertainment interests as a country; if we weren't watching the shows and giving them good ratings, the networks would not continue to run them. The only logical conclusion that can be drawn is that enough of America is hooked. One thing is clear: America (in general) loves reality TV and its ensuing trappings.<br /><br />This begs me to question: why is it that we even like reality TV? What is it about it that draws us to it? Is it because we see the similarities to our own lives, or is it because we want to be sure that we are more stable and less pathetic than others? Whatever it is that draws us to it, we should be careful of the media and entertainment that we allow to fill our minds. I'm not saying that all reality TV shows are bad; however, I am saying that we need to evaluate each one.<br /><br />Episodes used for critique: Season Premier and Episode 2.\"\n",
      "* * * * * * * * * \n",
      "3748\n",
      "It wasn't notable enough to be truly horrible, it was just incredibly lame. The story was not half bad, but the execution was just horrendous.<br /><br />To start with, it moved too fast for us to emotionally get involved with what was going on. It was just paced badly. The dialog was so utterly un-sparkling, just flat and boring.<br /><br />And the characters, cripes almightly, they made Deadpool boring. How the hell do you make Deadpool boring? He wasn't even funny. He wasn't crazy. He was just an annoying guy with a couple of swords he did not even know how to use properly.<br /><br />Gambit was boring. And since when did he have telekenisis to make the cards just float and fly around, or super strength to leap hundreds of feet into the air? And what the heck was up with all the stupid helicopter moves? I mean, we know they are mutants, but they still exist within the realm of physics. A round bo staff is not a helicopter blade, you cannot fly by twirling super-duper fast. Which Gambit wouldn't be able to do anyway. Nor Deadpool, especially when using it as a replacement for real fight choreography.<br /><br />And this film stands as proof that wire work should only be used by fight coordinators who know WTH they are doing, and know better than to use it in every. single. shot. as a replacement for real fight choreography.<br /><br />Three of the most physical fighters in Marvel comics (Logan, Creed, and Wilson), and some of the worst fight choreography I have ever seen in recent film memory. It was as if the stunt coordinator just shrugged his shoulders and left it all up to the special effects guys.<br /><br />And then you had the break out, with all these mutants who did nothing. Even mutants who had been shown in their cells to have powers (nice to see a Quicksilver nod), did f-all when they got out. Only Emma-really-lame-for-this-film-Frost and Cyclops did something.<br /><br />And since when was Logan so pretty? And the stupid, \\The bullet will take his memory away.\\\" Don't you think Xavier and the X-Men would have noticed the big freaking bullet holes in his adamantium skull when they X-rayed him in X1? I felt sorry for Liev Schrieber man, he actually brought in a good Sabretooth considering the script. He made one of Marvel's more simple super villains feel real. But he could not save the film from it's own epic lameness.<br /><br />Seriously, this was \\\"Daredevil\\\" level of suck. Decent story, good actors, absolutely horrible execution.\"\n",
      "* * * * * * * * * \n",
      "3939\n",
      "\\Plan B\\\" is strictly by-the-numbers fare except for one thing. I surprisingly found it to be rather insulting.<br /><br />Jon Cryer is the \\\"star\\\" of this film and plays his usual, smarmy, egotistical, snotty character that was actually endearing in \\\"Pretty In Pink\\\" and has NOT been amusing ever since. Grating doesn't even begin to describe his performance. Ricky (Mark Matheisen) is a muscular, blonde, struggling actor who (gasp!) is only worried about his hair and getting laid. Talk about a stock character...ugh. At least the other three characters are somewhat engaging. Lisa Darr and Lance Guest play a grounded, optimistic, caring couple who are struggling to conceive. Since they are not whiny drama queens, however, their roles are apparently considered boring and they aren't given enough screen time. Sara Mornell rounds out the cast by playing Gina, your usual nice and good-looking young woman who just can't seem to find the right partner in love. I've seen this character a million times before but at least her performance overcomes some of the shortfalls caused by the predictability of her situation.<br /><br />What startled me about this film was its juvenile promotion of stereotypes. They introduced a Russian character for the sole purpose of mocking him and making fun of the way he talked. He was portrayed as being wild, ignorant and amazingly shallow. They were just getting warmed up though for the usual nonsense about gays. Gina decides to be gay for a while since she isn't having any luck with guys. Honestly. That wasn't that bad except they really went overboard when Gina brought a lesbian to a Christmas party her friends were throwing. Her lesbian date had very short hair (like I'm sure all lesbians do). She also got quite upset (like I'm sure all lesbians do) when Gina had the nerve to put on lipstick(!). Finally, her date goes around the party hitting on just about every woman there and mouths off when Gina expresses her disappointment. Of course, we all know how gay people can't stay faithful for so much as a couple of hours much less months or even years, right? (Please note the sarcasm in that statement. Thank you.)<br /><br />This film was based on a tired and predictable premise to begin with but Cryer's unlikable performance combined with the idiotic stereotyping sinks this movie to the lower depths of cinema. 2/10\"\n",
      "* * * * * * * * * \n",
      "4024\n",
      "Christopher Durang must have been taught by a memorably awful nun, because he just can't let go of the concept. The play, \\Sister Mary Ignatius Explains It All For You,\\\" was presented -- at least in Hollywood -- in precisely the same tone as Diane Keaton's lecture scenes here. Sister Mary was an exaggeration, a lampoon, a bitter satire of a serenely confident, doctrinaire and highly judgmental nun -- and as played by Lynn Redgrave, she was hilarious. But the movie insists that we take this exaggeration absolutely seriously -- while, as mentioned, maintaining the same tone in the \\\"explains it all\\\" scenes. The two approaches clash headlong and in the last twenty minutes, the movie goes off the track, plunges into the gorge, and explodes. There are no survivors. It could have worked, if the tone of the scenes with the four former students, and their encounter with Sister Mary, been pitched the same as the Sister Mary scenes. Or if the Sister Mary scenes been presented more realistically. This way simply doesn't work at all.\"\n",
      "* * * * * * * * * \n",
      "4243\n",
      "OK, If you're looking for another Bastketball Diaries, this is completely the wrong film.<br /><br />I revolves around two brothers. Max, the younger, has a major cocaine addiction. Adam, the eldest, is a doctor. This movie is suppose to show the plunge from reality to the extreme lows that drugs make possible. It however, does not. It shows that cocaine can be fun no matter what the situation happens to be present. Most of the movie focus is on Max and his parting ways. Eventually Adam, can no longer take the stress from his job and begins to use as well (perscription drugs).<br /><br />This movie has almost no climax. Doesn't descend into what cocaine really does to you, has boring and low-budget scenes, and the acting of the eldest brother, Adam, is horrific.<br /><br />I have no idea how this movie has managed to pass and receive awards, it is not a heart-wencher. If you want a clear and true story movie on the extreme world of drugs- rent, if not buy 'The Basketball Diaries'. And notice the difference.<br /><br />Try to avoid this movie but, if you think you will enjoy. Try and see for yourself...\n",
      "* * * * * * * * * \n",
      "4300\n",
      "I saw 'Descent' last night at the Stockholm Film Festival and it was one huge disappointment. Disappointment because the storyline was potentially powerful, the prospect of seeing Rosario Dawson in a smaller intimate movie was exciting and, being a fan (sounds pervy, I'm not!) of 'rape/revenge' flicks of the 70's, I was needless to say very curious to check this movie out. My conclusion: let's stick to the classics! Yes, the storyline has potential but the dialogs are flat, the actors unconvincing. Even Dawson is empty. Some would say that it's a right depiction of the college world in the US, that the emptiness of the characters serve a purpose and all that jazz but it just makes the whole movie unsubstantial. Just like the scene where Dawson gets raped: it seriously lacks intensity! I wasn't expecting anything 'Irreversible'-style but still, aren't we suppose to feel compassion for her? I didn't. Not for a minute, she was so lame all the way ;-) And I read that the photography was impressive. Well, it is good indeed but nothing ground-breaking either. I must admit that the screening at the festival wasn't so good so maybe I missed out something here but at the end of the movie, I couldn't help thinking 'I feel like watching Argento's 'Inferno' again. lol. More seriously, the first scene in the club is beautifully shot and all but I had the bitter sensation of watching a longer and more boring version of the scene in the filthy bar near the American-Canadian border in Lynch's 'Twin Peaks - Fire Walk with Me'... the crude red and blue lighting, the heavy bass music, the general lascivious/decadent atmosphere... No, I just couldn't get into this movie. Too bad.\n",
      "* * * * * * * * * \n",
      "4564\n",
      "This movie lost me with the crossbow RPG (rocket-propelled grenade). It was like someone cut and pasted a scene from Robocop. I half expected Beowulf to say exclaim, \\I LIKE IT!\\\"<br /><br />I watched this because I like Chris Bruno from \\\"The Dead Zone\\\" TV show and he did his part. He chose a strange accent, but at least he kept it consistent for the whole movie -- unlike any of his costars. They kept slipping into all kinds of speech from old English to modern English, sometimes in the same sentence.<br /><br />There are already many comments on how this movie is different from the source material. However, even on its own, this movie's plot is not good. It's just boring, which even the low budget doesn't excuse. Having a low budget means that you need to at least have a good story, dialog and decent acting. Those things don't cost much. Instead, they spent their money on half-assed CGI and some decent costumes and sets.<br /><br />Life is too short to watch this movie.\"\n",
      "* * * * * * * * * \n",
      "4568\n",
      "It utterly defeats me why Godard is taken so seriously - and One Plus One is a great example of his ineptitude as both a filmmaker and an 'intellectual' polemicist. It's hard to credit that Godard actually believed all that Marxist and Maoist kant. Anyone with half a brain could work out the bankruptcy of those 'isms' and how many people they had destroyed and were continuing to destroy even as Godard was making his films supporting them. As a filmmaker, ask yourself: would you have boring voice-overs reading tedious political diatribes at your audience, and then, when you couldn't think of anything else to do, layer another voice-over to the first voice-over, which had lost its listeners after the first 100 words in any case? Brilliant, Jean-Luc! As for Godard insisting on making a film with the Rolling Stones: of course he did; wouldn't you? It was the only guarantee of getting such mindless rubbish seen in the first place: the genius of the Stones eclipsing a talentless and babbling political idiot set loose with a camera. The bookshop scene wasn't worthy of even the worst fringe theatre, and was an insult to the intelligence of even the young children who were used to play in it - as could be readily seen. Copping-out by allowing friendly critics to claim that all this artless crap was a satire on mainstream film-making is no more than a safe get-out to offer those who clearly see Godard's poverty of intellect and arrogant contempt for his audience. Ironic that Godard's one-time great friend, Truffaut, with Nuit Americain, made the best film about film-making ever, and Godard made the worst with Le Mepris! Incidentally, Godard didn't choose the Stones' track of Sympathy With the Devil. It just happened to be the track they were working on when the 'film' started shooting at Barnes Olympic Studios.\n",
      "* * * * * * * * * \n",
      "4751\n",
      "This movie is a good example of the extreme lack of good writers and directors in Hollywood. The fact that people were paid to make this piece of junk shows that there is a lack of original ideas and talent in the entertainment business. The idea that audiences paid to see this movie (and like an idiot I rented the film) is discouraging also.<br /><br />Obsessed teacher (3 years prior) kills teenager's family because he wants her. For no reason he kills the mother, father and brother. From the first five minutes you see the bad acting and direction. Years later, obsessed teacher breaks out of prison. HMM--usual bad writing--no one in the town he terrorized knows until the last minute. Obsessed teacher somehow becomes like a Navy SEAL and can sneak around, sniff out people and with a knife is super killer. Sure!!! Now obsessed teacher kills hotel maid for no reason, knifes bellhop for the fun of it, and starts to hunt down the teenager's friends. Now there is the perfect way to get the girl to love you. Obsessed teacher sneaks out of hotel---again it is stupid, ever cop would know his face--but he walks right by them. Now he kills two cops outside teenager's house and somehow sneaks into her bedroom and kills her boyfriend.<br /><br />There is not one single positive thing about this piece of garbage. If any other profession put out work of this low quality, they would be fired. Yet these idiots are making hundreds of thousands of dollars for writing and directing this trash.\n",
      "* * * * * * * * * \n",
      "4766\n",
      "It a bit peculiar that a story that is placed in a part of Oslo where a very high percentage of the local residents is from an Asian background does NOT EVEN SHOW ONE ASIAN OR AFRICAN person, not even as an extra. That fact probably describes Norwegian race relations in general. - However.<br /><br />NO SPOILERS - ONLY A BRIEF INTRODUCTORY DESCRIPTION:<br /><br />Buddy portrays four young people living in a flat-share in Oslo. The protagonist are two young men that don't manage to direct their life in any serious fashion, and one might say that the film could be about being indecisive and avoiding responsibility - a sort of fear of growing up. The narrative plays on typical teenage dreams and fantasies and lifestyle role models. Quite the cliché. Although the story is mildly funny, the acting is good and as a 'young person' one can sort of identify with the characters `crazy' situations and complicated love affairs, I don't find the story or the characters very believable. To polished and lacking in depth. This film uses all the classic audience pleasing tricks to make an entertaining film that has as much intellectual depth as `Friends' (yes that show on TV).<br /><br />Has Norwegian film finally found its identity?: Audience pleasers in well known American style.<br /><br />How about watching Lukas Moodysson's Tillsammans (Together).\n",
      "* * * * * * * * * \n",
      "4813\n",
      "Thanks to a dull, dimensionless screenplay by Neil Simon, and lackluster direction from Robert Moore, Chapter Two becomes a shrill showcase for Marsha Mason who received her third of four Oscar nods for Chapter Two giving the same performance here that she gave in Cinnderella Liberty(73), The Goodbye Girl(77), Audrey Rose(78) and Only When I Laugh(81);only this time she doesn't have a child to drag around. Chapter Two is the third and last feature film for Moore having previously directed Neil Simon's The Cheap Detective(78) and Murder By Death(76). Caan is miscast, the characters are mono-dimensional, the dialog is overly analytical, and there's virtually no establishing detail. The first half is a less-than-captivating, meet cute, coy romance between a blinkered Caan and a chipper Mason, and the dreary second half makes you long for the first half. The NYC locations as well as Joe Bologna, and a painfully thin Valerie Harper are irrelevant, but at least they provide some welcome distraction. And last and least, there's an awful song played during the credits.\n",
      "* * * * * * * * * \n",
      "4882\n",
      "This \\Debuted\\\" today on the SciFi channel and all I can say is \\\"I am speechless\\\" I taped it today so I could watch it tonight after work. I had high hopes, Now I am tearing apart the closets looking for a length of rope so I can hang myself. Possibly the worst movie I have ever seen. I wish I could say something nice like \\\"It was fun to make fun of this movie\\\" but this movie is giving me nothing to work with. I know you are not supposed to post spoilers here with out prior warning but I am going to anyway \\\"This movie sucks\\\" There I said it! They should show this flick to film students to show them what NOT to do! My nine year old niece could make a better film. The only decent thing about this film is the sound and/or sound track. OH! I just found a rusty C-clamp in my old tool box. I am going to put it on the thumb of my left hand and tighten it until the pain erases the memory of what my eyes have seen. I could just tape over this VHS but I think I will burn it in the fire pit instead. I could wash with soap but I fear I will never be clean again. Christmas is coming. Buy this movie and give it to people you hate. -Mike\"\n",
      "* * * * * * * * * \n",
      "4915\n",
      "This isn't one of those reviews about poor special effects or technology, or being dated, issues that only the dorkiest people could relate with, but rather a review on the story telling, which most of us are truly interested in.<br /><br />The plot is about a combination of WWII Allied and German Navy members, and two civilians (the hero and heroine), who are thrust together on a German U boat and wind up in a savage land of dinosaurs.<br /><br />The manipulations aren't so bad by film standards, and we know from the plot that realism isn't going to be high. What films like this need are credible and likable characters, along with some semblance of reason in the actions.<br /><br />This film lacks both. For a full length film, only 6 characters are given any time, and 3 of them are barely looked into. McClure's hero is beyond \\routine\\\", and doesn't make much sense in any era.<br /><br />The female seems to be looking for an answer to a riddle about the land of dinosaurs they entered, but the riddle is not much of a riddle, and we could care less.<br /><br />A lot of failure in a film that should have been better, even for its time.\"\n",
      "* * * * * * * * * \n",
      "4917\n",
      "Bad Movie - saw it at the TIFF and the movie gives me a sense of 'been there done that' - it reminds me alot of the movie Blow - expect the Blow was actually interesting.<br /><br />This one story told two ways and both times it is not told that well.<br /><br />\n",
      "* * * * * * * * * \n",
      "5065\n",
      "Don't bother. A little prosciutto could go a long way, but all we get is pure ham, particularly from Dunaway. The plot is one of those bumper car episodes... the vehicle bounces into another and everything changes direction again, until we are merely scratching our heads wondering if there were ever a plot. Gina Phillips is actually good, but it's hard playing across from a mystified Dunaway playing Lady Macbeth lost in the Marx's Brother's Duck Soup. Ah, the Raven...now there's an actor. And there is the relative who just lies and bed and looks ghostly. Or Dr. Dread who's filled with lots of gloom and no working remedies. I'm one of those suckers who just has to see a movie to the end. Quoth the Raven, \\Nevermore.\\\"\"\n",
      "* * * * * * * * * \n",
      "5366\n",
      "I don't believe they made this film. Completely unnecessary. The first film was okay. But there was no need for a sequel, certainly not after a television series that was already a sequel to the first film. This film feels like a soap-opera. The writing is so bad, it's utterly simple. The jokes don't come across, the acting is flat, it's shot like a soap, it lacks any direction. The first film had a good emotional spine behind it. Every character had a little arc. It was very simple then but somehow it worked and I could see the merit of that film. But this time around, there is no cohesive story-line. The characters are dull stereotypes and nothing interesting happens. One good thing: the Brazilian boy who plays Axel Daeseleire's son is pretty well cast. That was their one moment of creative success on this film. I hear they already shot a second television series as a sequel to 'Team Spirit 2' but please God, don't let them make a third feature installment...\n",
      "* * * * * * * * * \n",
      "5646\n",
      "The film is pretty confusing and ludicrous. The plot is awful...but on the plus side the acting is pretty good, with a few good shouts and rants. Sharon stone is OK this time...not even half as good as the original mind you. The murders aren't as gory as the first one either, which is a shame. Its not the unpredictable mess everyone say it is though. The sex is pretty graphic at times while others it is clear it is fake (they are fully clothed). The script is weak most of the time, but the scenes with banter and arguments between Dr.Glass and Washburn are highlights. The plot twists a few times, but the ending is awful. The tension is always constant with a huge dollop of 'Oh my god!'. The chase sequences are brilliantly directed, and shots and camera angles are impressive and bring a bit of class to an otherwise, rush-felt film. Sharon stone is a bit old for this too. The bits where we see her breasts were, in the first one, delights. This time around, they are too horrid to describe. The films its self is rather average, but it is worth a go. Mainly because the film does deserve some good buzz...with the opening sequence being a highlight. Not to be critical, but if you liked the first one - leave this one. Don't ruin the run. You'll be glad you left this stone unturned.\n",
      "* * * * * * * * * \n",
      "5819\n",
      "I watched this film version of R.D. Blackmore's classic novel as a substitute until the 2001 A&E version was released on video. And what a poor substitution it proved to be!!!!<br /><br />This version does not have the authentic, I-feel-like-I'm-there aspect of the A&E movie. The actors are, for the most part, wooden (with Sean Bean the exception) and the \\romance\\\" seems forced and contrived. In fact, there is no kissing until the end of the movie!!!! The triangle between John Ridd, Lorna Doone (or Lady Lorna Dugal, whichever you prefer)and the evil Carver Doone isn't mentioned or expanded upon. We don't get much insight into Carver here, or as to why he has some (if any) romantic feelings for Lorna. This movie cuts out many of the key and interesting characters of the novel, such as Counsellor Doone, and John's sharp-tongued youngest sister Lizzie which were crucial to the plot. The screenplay itself is lacking in conviction. The political intrigue also doesn't figure in the script. The way Lorna came into being with the Doones isn't true to the original story. Now, don't get me wrong, Clive Owen is a handsome and talented actor (watch Gosford Park and King Arthur for confirmation) but he comes across as bland and stoic throughout, and long hair (it may have been a bad wig) just doesn't suit him!!!! Polly Walker is a lovely and accomplished actress (see Enchanted April and Patriot Games, in which she also costarred with Sean Bean), but she appears colorless and lackluster. She has a cold sore on her lip that make-up can't hide, and the costumes don't seem authentic. The late Robert Stephens does a respectable turn as Sir Ensor Doone, although he only refers to Lorna as his favorite rather than his granddaughter, which she was reputed to be in the book. Also, it seems to me that Owen and Walker are too old for their roles (maybe it's the make-up) and the scenery is brown, cold, gray and barren, without so much of a hint of a sunny sky. I understand that it is set in Southwest England, but it is green there and they do get their sunshine!!! The portrayal of Tom Faggus' character and his \\\"death\\\", which doesn't happen in the novel, depresses the film even more. The one positive note is Sean Bean's performance as Carver. Although it doesn't even come close to matching Aidan Gillen's portrayal in the A&E movie, Bean does make one mean villain. In short, watch this only if you've got a few hours to kill, but don't expect anything exciting or for it to be true to the novel. See any other version ( but I highly recommend A&E's film) over this tired adaptation.\"\n",
      "* * * * * * * * * \n",
      "5873\n",
      "I have been using IMDb for years and I never wanted to get involved in the commentary of movies",
      "until now. This documentary has so many problems that I hardly know what to say. I am not a Muslim, nor am I an Islamic studies expert, but I know enough to shed some light on the obvious one-sided viewpoint that this documentary espouses. <br /><br />The problems with this movie begin with the fact that it is a documentary. Most of the documentaries that I have seen anchor themselves around a few valid points and then surround those points with debatable interpretations and misinformation. This is certainly the case with Islam: What the West Needs to Know. Yes, there are fundamentalists around the world, and some of them are Muslim, but to build a documentary about all of Islam around a small percentage of radicalized people is incredibly misleading. This is really a documentary about the fundamentalist aspects of Islam and nothing more.<br /><br />For those who would like to more objectively explore some of the issues raised in this documentary, here are several points that may help. <br /><br />There was nothing positive about Islam presented in the documentary.<br /><br />The documentary focuses on the Middle East, but more Muslims live outside of that region. More Muslims live in China, believe it or not, than in Saudi Arabia. About 40% of all Muslims live in Pakistan, Bangladesh, India and Indonesia.<br /><br />The translation of the Qur'an used in the documentary is a questionable one. I watched the documentary while viewing another translation and the differences were striking. I had been warned about the translation that was used in the documentary and now I know why. Surrah 98:6 is a good example. The documentary suggests that the Surrah says that disbelievers will go to hell. But the translation I have reads instead: \\Those who reject Truth among the People of the Book and among the Polytheists will be in hellfire.\\\" The difference is that those who reject Truth are those people who know about God and the Truth of God and decide to reject it anyways. <br /><br />The movie mentioned that there is no morality inherent in Islam, but this is not true. Although it is true that much comes from the Qur'an and Hadith, Islam also recognizes a concept called 'Urf or \\\"normative behavior.\\\" Obviously what is normative can be interpreted many ways, but 'Urf is meant to be \\\"good\\\" behavior, what an average person would consider right or wrong.<br /><br />The documentary presents Shar'ia (Islamic Law) as being one unified body of knowledge that all Muslims follow. This is simply not true. There are many Islamic schools of law and they range from progressive and modernist to fundamentalist in the way they interpret law. <br /><br />The Hadith tradition is similar. There are thousands of Hadith and each school of law accepts some and rejects others. Using the Hadith without serious scholarship to determine which ones are accurate, real and applicable, is indiscriminately picking and choosing quotations from history that fit what you want to say",
      " which is what the documentary did.<br /><br />What I hope people realize is that fundamentalism is the problem, not Islam or any other religion. Christianity has fundamentalists that shoot abortion clinic doctors and so on. I know this is not the same as suicide bombing, just understand that the righteousness of fundamentalism is arguably the problem. If you feel you have THE answer, then everyone else must be wrong. But if you feel you have AN answer you can work together with other people's views about politics, religion, God, or whatever.\"\n",
      "* * * * * * * * * \n",
      "5982\n",
      "The plot of this movie hangs on one important point: that this murderer was also a responsible, loving, caring father. Not that being a father and a murderer is impossible. But this man is shown murdering a teenage girl without provocation or reason and without emotion. This girl was someone's daughter. I don't think a father who cared so much about his own daughter could have been so cold-blooded to someone else's daughter. Or, alternately, could have been so cold blooded and yet worry about and care for his own daughter. And the idea that a convicted murderer would actually ask his victim's parents to take in and care for his daughter is beyond belief.<br /><br />That said, the characters were acted with conviction by the actors. I thought changing Scott Bakula's eye color did make him seem more cold and menacing than he usually is. You couldn't see into his eyes at all.\n",
      "* * * * * * * * * \n",
      "5997\n",
      "What a crime...<br /><br />You forgot to brush your teeth...let's make a 30 minute show about it and have a couple of kids make some noise and then have the dad lecture them all because that's what he has to do.<br /><br />But, don't forget Uncle Joey has to make some weird noises and cooky faces, then Uncle Jesse has to show up with his black leather jacket and some jeans and look pretty for a few minutes while everybody discusses how Mother would have done things if she were around..<br /><br />Yep, full of zany little adventures about a whole bunch of nothing and an entire overlong story to build around it.<br /><br />Full House will not only bore you to tears, but it will make you age twenty times faster than you normally would.\n",
      "* * * * * * * * * \n",
      "6027\n",
      "This movie masquerades as a social commentary, when in fact it is every bit as ridiculous as the very racism it condemns. The premise of this movie: African-American = Strong... any other race = weak. The worst part is when Rapaport pulls a gun on Omar Epps and a Jewish guy. The Jewish guy, in stereotypical fashion, crumbles in fear and starts pleading for his life... but the big, strong, defiant Omar Epps stands strong with no fear. We also have the condemnation of every fraternity member as being a arrogant preppie drunk or rapist. The raped white girl, of course, begins considering lesbianism since she's just a weak white girl after all. When the nerdy white guy is rejected by the fraternity members he of course must fall in with the skinheads, who are incredible cowards; especially the big muscular guy who is beaten down quickly by the strong black men. Wait... BUSTA RHYMES BEAT UP A GUY TWICE HIS SIZE??? Yeah, right.<br /><br />Of course the black men NEVER reject their own people and Omar Epps moves in with them easily. The scenes where Ice Cube threatens his white roommates and keeps them in line are just stupid -- of course he is the dominating one while his weak white roommates sit in fear of him and eventually move out. This movie was just terrible and the ending made me actually laugh out loud. The overly long slow-motion between Epps and Banks gets hilarious with the faces they make -- it's like watching my nephew and cousins making faces at each other (and they're all under 5). Do yourself a favor and skip this crapfest.\n",
      "* * * * * * * * * \n",
      "6160\n",
      "Jean-Marc Barr (Being Light, The big blue, Dogville) has directed and interpreted this strange movie which is the second installment of some kind of trilogy. I might be wrong but I don't think this movie's part of the Dogma '95 manifesto, though it really looks like it. I'm not really sure of what I think about this film. All actors are good. They deliver pretty good performances, especially Rosanna Arquette and Jean-Marc Barr. The story is somehow interesting. But I don't know, there's something about the movie that I don't like. The sex scenes are way too long. It goes from an interesting work of art to an erotic piece of crap I don't know exactly where it stands. Sure it's not a bad movie, but I won't suggest people to see it neither I'll tell them not to watch. Just do as you want. If you feel curious and you're open-minded, give it a try, you might like it.\n",
      "* * * * * * * * * \n",
      "6170\n",
      "OK the plot is, wait you got me there is no true discernible plot here just a string of optically fogged sex scenes, strung together by scenes of photographers taking pictures of pretty ladies (Sometimes a combination of the two) Then a demon comes around kills the men, rapes and kills the women, and waxes poetic about the meaning of life. Moronic special effects, bad acting and bizarre philosophy aside, you get what you expect from a film with a title like this. I guess it would have to be someone's cup of tea, just not mine as I have yet to see a good Kazuo 'Gaira' Komizu directed film.<br /><br />DVD Extras: Subtitled Interview with Director Kazuo Komizu Part 1 (Part 2 is on the Entrails of a Beautiful Woman DVD); and Theatrical Tailer<br /><br />My Grade: F\n",
      "* * * * * * * * * \n",
      "6361\n",
      "The first point that calls the attention in \\For Ever Mozart\\\" is the absence of a plot summary in IMDb. The explanation is simple since there is no story, screenplay, plot or whatever might recall the minimum structure of a movie. Jean-Luc Godard is one of the most overrated and pretentious directors of the cinema industry and this pointless crap is among his most hermetic films. I believe that neither himself has understood what is this story about; but there are intellectuals that elucubrate to justify or explain this messy movie, and it is funny to read their reviews. <br /><br />My vote is one.<br /><br />Title (Brazil): \\\"Para Sempre Mozart\\\" (\\\"Forever Mozart\\\")\"\n",
      "* * * * * * * * * \n",
      "6569\n",
      "I see where a few people involved in this debacle wrote reviews to share their side of the story, and I thought what they wrote was helpful in understanding it. The fact that they basically came up with excuses -- rewrites, budget constraints, production formats etc -- simply underlines how bad this movie is. And my criticisms in panning it are not personally directed but simply a warning that this one doesn't make the cut.<br /><br />It's watchable, but barely so. There are plot holes in every corner, the dialogue borders on the ridiculous, and the ending is telegraphed a mile away. The modestly interesting feature of a hologram interacting with a recon team get drowned in silly dialogue like who makes a meal in the midst of what is supposed to be a tense and deadly encounter with an unknown enemy. Would ya wrassle us up some Hamburger Helper Sally, between us getting killed by these automated carpet sweepers? Apparently this elite team equipped with the latest gizmos and red plastic tubed wonder armor has no access to MREs. Once they get into the last rooms they treat the place more like a four star motel than a deadly encounter zone.<br /><br />The rationale for the encounter with the fearsome Rook is that it can't be killed single handedly. Yet only one scene ago, the hero making that case abandoned King to do exactly that. Huh? Vivian Woo was attractive and hands down the best acted character in the movie. But that's not saying much.\n",
      "* * * * * * * * * \n"
     ]
    },
    {
     "name": "stdout",
     "output_type": "stream",
     "text": [
      "6988\n",
      "I'm into bad movies but this has NOTHING going for it. Despite what the morons above have said, it is NOT funny. I know comedy AND underground movies but this is so boring that the Director / Writer should be prohibited from EVER directing anything but local cable access EVER again! To love movies and comedy is to despise this film. I may never get over how unfunny and boring this work was. If you like this movie you ARE a pothead as sober there is NOTHING here. ZERO! If you need to compare underground movies, see \\Kentucky Fried Movie\\\" or early John Waters. The movie starts by defining satire and I defy anyone to show me the satire. The rule for comedy is THIS ... If it's FUNNY you can say or do ANYTHING but if it's NOT funny you are not satirical, you are not edgy, you are merely pathetic and this movie is simply not funny. ZERO!\"\n",
      "* * * * * * * * * \n",
      "7045\n",
      "This movie was a mess. It had the absolute worst editing I have ever seen. It was almost like at the end of a scene the writer wanted to go to commercial, and the filmmaker added a second of black screen to fulfill the writers dream.<br /><br />Under the messy direction and editing, there was a glimmer of something good. A good idea, a compelling spark. But somewhere it went wrong.<br /><br />The story is about a quasi-psychic priest who is trying to solve a string of murders. The first thing that is hard to bite into is Richard Grieco as a priest. Well the part doesn't call for him to be a good priest and he succeeds rather well. The second problem is Dennis Hopper as the crazy bad guy. He always plays the crazy bad guy. Very ho hum.<br /><br />Oh, a thought occured to me that maybe all the jumpy, horrible editing and disconnected plot was trying to add a sense of the confusion the character (Grieco) was experiencing. And just to prove that it was contrived they rolled the credits backwords. Not a good sign for any movie.<br /><br />\n",
      "* * * * * * * * * \n",
      "7147\n",
      "Genghis Cohn is a (very) mildly entertaining British movie about a German police commissioner in the late 1950's who is haunted by the ghost of a Jewish comedian that he killed 15 years earlier while serving under Hitler in the SS. The ghost comes back and wants his killer to live as a Jew to atone for the murders he committed.<br /><br />Otto, the German policeman actually knows this ghost's name because, the last thing he did before he died was said, in Yiddish, `Kiss my ass'. The policeman didn't speak Yiddish, so he asked around until he found the meaning. The `kiss my ass' left such an impression that everybody involved with that killing learned and remembered the comedian's name, Genghis Cohn.<br /><br />There are a bunch of men who are murdered in the jurisdiction of the police commissioner, and there are no helpful clues. The men are murdered with a set of knives that are missing from the local butcher. The butcher announces that his knives are missing while the commissioner is in the store to get a liver and onion sandwich, so the commissioner is a suspect. The first man is killed while making love to the butcher's wife, so the butcher is a suspect. But the butcher maintains that he would be very busy if he killed every man that slept with his wife. All the men are killed immediately after the climax of lovemaking.<br /><br />I think I might be a bit angrier than the ghost of Genghis Cohn if I was killed like he was. He seems to be very good-natured about it, as if he was just in a mild car accident. I can only guess that it is because it is a British movie and they are known for being a very polite people. He uses some of his material from his stand-up routing, and I just didn't find it very funny.<br /><br />I gave this movie a 4 because it was just kind of goofy. I thought it should have been a little more serious than it was. The movie turns out to be a murder mystery (where did this come from?), and it seemed that Genghis should have been more helpful than he was. The movie gave me a tiny look into Jewish culture, but was only skin-deep. Do all Jews love liver and onion sandwiches? Do they all say `shtoop' and `meshuganah' in their daily vocabulary? Isn't there more important stuff that we should know about the culture?<br /><br />I saw this movie at a Jewish community center in Berkeley, CA, and I was the only person in the room whose hair was not fully gray or white. (I have no gray or white hair.) There were 18 of us, and after the movie they stayed for about 20 minutes to discuss the movie. There were 2 main concerns expressed there: 1. The movie was way too light-hearted and future generations might not understand the gravity of what happened and 2. As the Holocaust survivors are dying off, future generations will not know what really happened. I thought that this second concern was ridiculous and I told them I thought they didn't need to worry because there is tons of literature out there and there will always be people who like to watch movies, like myself. The murder of 6,000,000 people by a very bad man will not ever be forgotten. I write this last paragraph because they charged me with telling others about my experience that day.\n",
      "* * * * * * * * * \n",
      "7157\n",
      "This film was absolutely...ugh i can't find the word oh wait... crap! I mean when it started i was like yeah this looks good and then after it was so boring. I nearly fell asleep and it had nothing to do with the fact that i caught a late showing because it was utter filth. Ram Gopal Varma has tried his best but the cast could never live up to the cast of the original Sholay i mean what was he thinking doing a remake. What was he trying to do? Be like Sanjay Leeli Bhansani and win all the awards next year like he did for Black? Ajay and that other guy were good especially the other guy who played raj because out of all of them he was the one to look at. What was Amitabh doing? He's destroying his own dignity by doing all these stupid films. First Nishabd then Cheeni Kum then Jhoom Barabar Jhoom and now this i mean hes got to gather a bit of his money and move as far away from Bollywood as possible before he loses all his respect and I'm telling you he's already past half his way. I mean all this is really good for the other actors like Shah Rukh Khan who's getting a really good name now because of the recent downfall of Amitabh. I never really liked him because he thinks he's God and i just knew Abhishek was going to be in that movie. <br /><br />If you want to save your £17.75 and spend it on something good go watch Heyy Babyy because that's just the funniest movie ever and it's number one in the charts!\n",
      "* * * * * * * * * \n",
      "7167\n",
      "This is a weak film with a troubled history of cuts and re-naming. It doesn't work at all. Firstly the dramaturgy is all wrong. It's very slow moving at first and then hastily and unsatisfactorily moves to an end. But there is also (and that may have to do with the cuts) an uneasy moving between genres. It starts off with being a thriller to be taken at face value and then degenerates into a farce rather than satire. the ending may be funny but it's also so blunt that I almost felt it insulted my intelligence (what little there is). So the film tries to be everything but does not really succeed on any level at all. You can also see that in the very unsteady character development.You almost get the impression Connery plays three roles rather than one.\n",
      "* * * * * * * * * \n",
      "7169\n",
      "This movie has a very Broadway feel - the backdrop, the acting, the 'noise'- and yet that's all it has. Some 'sense' of a Broadway without the bang. <br /><br />The movie is slow-paced, the picture disjointed, the singing 'pops up' on you so that you suddenly are reminded it's a musical. <br /><br />Disappointing: Sinatra <br /><br />Intolerable: Sinatra's fiancé---surely, the pitch and the accent of her voice was unnecessary. <br /><br />Tolerable: Mr \\i remember the numbers on my dice\\\" <br /><br />Delight: Brando's understated singing (very biased!)<br /><br />Surprise: how much Jean Simmons looks like Vivien Leigh in her Havana scenes. It's the bone structure! How i would've killed to have seen Miss Leigh in a role challenging Brando again.\"\n",
      "* * * * * * * * * \n",
      "7191\n",
      "This was far and away the worst movie i've ever seen in my entire life. It was slow, boring, not scary, not funny, not dramatic, not entertaining.<br /><br />Sarah Michelle Gellar was up to her old playbook of empty expressions of fright and shock. She couldn't sell her character nor could anyone else in the picture.<br /><br />For those who thought the Grudge was 'kind of alright' then don't go see this unless you get enjoyment out of wasting your time and your life.<br /><br />I saw this movie for free by the way so I don't want this to come across as a rant from a guy that lost 8 bucks on a terrible movie. It was free, it still sucked, I hated it.<br /><br />Avoid.\n",
      "* * * * * * * * * \n",
      "7216\n",
      "Apparently Hollywood is just handing out money to anyone with a camera and the ability to speak. This movie was mind numbingly bad. The casting was terrible, the acting unspeakable, and the story filled with holes. Script? who needs script? I was surprised that the movie wasn't as verbally vulgar as I thought it would be, however I got enough shots of T&A to last me a lifetime. The movie was like listening to a 19 year old street racer with ADD (who decided to buy a car instead of go to college) tell a story. Being so poorly scripted, I thought the two brothers in the film were lovers at first. The scenes at the racetrack, along with the main female actor in the film kept making me think of Herbie: Fully Loaded. This is the kind of film is what Grindhouse modeled itself after...only the writers thought they were being serious.\n",
      "* * * * * * * * * \n",
      "7415\n",
      "Normally I'm quite disposed to like low budget gonzo films, but Darkman III is so appallingly unengaging that I feel nothing but contempt for it.<br /><br />It looks and feels like a TV show, and a particularly shoddy one at that. The sets are sparse, the lighting flat, the score and effects disjointed, and the camerawork is film school 101. There's no plot to speak of, the characters are one dimensional, and the actors are sleepwalking. Most of the cast look like they should be doing soft core porn..... In fact, the only reward that I got from this mess was spotting the startling squint faced Roxann Biggs-Dawson (B'Elanna from Star Trek: Voyager) without her Klingon bumpy head makeup on. Her skin tone is about two shades lighter than it is in Voyager; either she's been bleached down for this role, or blacked up for Voyager. Very strange either way.\n",
      "* * * * * * * * * \n",
      "7432\n",
      "Remember a film you seemed to enjoy in the past that doesn't quite meet those same feelings as an adult? That occurred to me when I went back to school..the National Lampoon's Class Reunion. The film has a perfect opportunity for laughs, but surprisingly wanders aimlessly as we see a bizarre collection of characters such a woman who sold her soul to the devil and can shoot out flames of fire from her mouth, a man who appears to be a vampire, and a lunatic killer dressed as a woman and wears sacks over his head. You have the class president who believes he's the best thing since sliced bread(but as we see in the film, he's a coward and joke), a couple of pot smokers who don't even know they are at their own class reunion, and a man named Gary for whom know one even knew existed(and no one can seem to remember his name..this is the one running joke I enjoyed). There is a plump pervert who likes to grab women in inappropriate places, a deaf and blind woman who has a screeching holler when calling for her dog, and the cook(you know her from \\goonies\\\" and \\\"Throw Mama From The Train\\\")who loves to place food on people's plates with her hands! The film is essentially about a nutcase who is(or at least attempting to)taking revenge on his classmates for a gag they pulled on him(they arranged for him to sleep with his own twin sister!). The film follows the characters as they search for the killer canvasing darkened, trashed hallways of the old high school. They were told of the killer by his psychologist who seems a bit odd himself. The film has a few good gags that work(pretty much early on), but the film slowly gets worse each passing minute. The film's true problem is that it really doesn't know where to go. The film is pretty much a one-joke premise for it has unassured direction..if it really has any direction at all. The cast is enthusiastic enough, but the material they are to make funny just doesn't have the quality to hold any interest. It's a curio for fans of early 80's comedy relics that are forgotten(this one rightfully so).\"\n",
      "* * * * * * * * * \n",
      "7448\n",
      "For months I've been hearing about this little movie and now I've seen it. I find it cute, cute how so many fledgling directors make movies where they combine other people's creative ideas in order to make their own one-joke premise of a movie. Troops, Swingblade, any of the million Blair Witch parodies come to mind. If all that these directors want is a foot inside Hollywood's door then they're doing the right thing and they should keep it up because combining plot outlines is how Hollywood makes films. How many times have you heard the phrase, \\It's Animal House meets Back to the Future\\\"; \\\"It's Wall Street meets Dead Poet's Society\\\"; or \\\"Shakespeare in Love meets Star Wars\\\"? I remember when independent films meant original and daring not safe and predictable.\"\n",
      "* * * * * * * * * \n",
      "7547\n",
      "It's sort of hard for me to say it, because I so greatly enjoyed both \\Targets\\\" and \\\"Paper Moon\\\", but I thought \\\"The Last Picture show\\\" was a somewhat fascinating but overly self-indulgent film. Its main positive, as far as I'm concerned, is the stunning photography. But for me the film had nothing to offer beyond surface beauty (and a kind of hidden beauty, at that). The characters were very hard to relate to or to care about. Basically you had this very slow pace and this naturalistic style of acting, but it was all there to prop up a very formulaic and predictable story, complete with all the trappings one would expect from any small town melodrama -- everything from the boy cheating with his teacher's wife to the handicapped kid who everyone picks on. It was like \\\"American Graffiti\\\" without the joy of life.<br /><br />Some might say this film is more realistic -- nowadays a lot of people seem to think that realism is the only virtue a film can possess. But for me the film was simply oppressive, and I want to see it again about as badly as I'd like to spend a few hours in that miserable town the characters live in.<br /><br />Maybe this film really just belongs to its time -- perhaps if I'd seen it in 1971 I would have been impressed by its novelty, just by seeing something different on the screen. But that would basically assume that I had never seen anything like, say, Godard's \\\"Breathless\\\". Maybe the overt references to classic films would have appealed to the movie geek in me and helped me to overlook some of the film's weaknesses. But in the post-Tarantino world that hardly seems unique or special either.<br /><br />It is interesting though how he uses the films in the film to give his own film more depth. We see 3 films as I recall in the picture show. First we see Vincente Minnelli's \\\"Father of the Bride\\\" -- Liz Taylor's exquisite looks provide a contrast to Sonny's girlfriend and Minnelli's studied upper-middle class milieu contrasts to the character's \\\"real life\\\" surroundings in a similar way. Later, clips from Howard Hawks' \\\"Red River\\\" emphasize the theme of a broken friendship between a mentor and a protégé. It really just reminds me that Bogdanovich is kissing his own mentor's butt, much as he did if I remember correctly by selecting a Hawks film as part of his own on-screen reverie with Boris Karloff in \\\"Targets\\\". I guess in 1971 this kind of thing was new but looking at it today it just seems self-indulgent, like so much of the rest of this film.<br /><br />Ultimately, I'd rather see another film by Hawks, Ford or Minnelli than to have Bogdanovich's film remind us of why they were so striking in such a less-than-subtle way. Maybe he intends to remind us of the giants whose time had passed -- all he really does is remind us how small he and most of his contemporaries are in relation.\"\n",
      "* * * * * * * * * \n",
      "7649\n",
      "For the love of god please don't see this movie! Its a waste of time, the plot is predictable, as are the romantic scenes. Trying to build too much with very little, this film and its evil predictable villain is just lame. The characters aren't developed, and most of the film is padded out with shots of Rome, which is much more interesting than the actual film. To top all of that, the acting is a disgrace. I know everyone tries to find their niche, but this is truly a disaster. I can't believe that someone actually paid however many millions of pounds to put this film on screen. Don't waste money or time on this film, go see your grandma or something worthwhile instead.\n",
      "* * * * * * * * * \n",
      "7686\n",
      "I tend to love everything the great late Paul Naschy (R.I.P.) ever was in. While not all films starring Naschy are great, they all have a specific charm that can be found nowhere but in Naschy-flicks, and they are always entertaining. There is no rule without exception, however, as \\El Mariscal Del Infierno\\\" aka. \\\"The Devil's Possessed\\\" (1974) proves. While the film does have the specific Naschy-flick-charm, it sadly drags far too much and gets really, really dull in-between. Naschy stars as the evil Baron Gilles De Lancré, who oppresses the people and uses black magic and bloody rituals to stay in power. When Gaston de Malebranche (Guillermo Bredeston), who fought side by side with Gilles De Lancré against the British, learns about the Baron's evil behavior, he decides to turn against his former comrade in arms and help the people free themselves from the satanic Baron's tyranny...<br /><br />Directed by León Klimovsky, who is best known for directing Naschy in \\\"La Noche De Walpurgis\\\" (\\\"The Werewolf Vs. The Vampire Woman\\\", 1971), the film was scripted by Naschy himself. Naschy often scripted his own films, and one must say that he mostly did a better, more original job than it is the case here. \\\"El Mariscal Del Infierno\\\" is mostly built up as a historical adventure rather than a Horror film, and it gets quite boring throughout the middle. It often resembles the Sword and Sandal films from the 50s, only that this film is set in medieval times. The Satanic part was probably only added because the great Paul Naschy's name is linked to the Horror genre. The film has its good parts: Paul Naschy giving weird speeches, Paul Naschy looking weird, Paul Naschy doing Satanic stuff, Paul Naschy torturing innocent victims, etc. But sadly, most of the film concentrates on the boring hero and the good guys, and these moments are boring. The female cast members are nice to look at, but, unlike most Naschy films, this one features no nudity and sleaze. There is some gore, but it mostly looks clumsy and isn't as fun too look at as it is the case with most other Naschy films. Overall, \\\"El Mariscal Del Infierno\\\" is only worth a look for my fellow Naschy-enthusiasts. There are dozens of films starring the Spanish Horror deity which should be seen before this one, such as \\\"El Jorobado De La Morgue\\\" (\\\"The Hunchback of the Morgue\\\", 1973), \\\"La Orgia De Los Muertos\\\" (\\\"The Hanging Woman\\\", 1973), \\\"El Espanto Surge De La Tumba\\\" (\\\"Horror Rises From The Tomb\\\", 1973), \\\"Latidos De Panico\\\" (\\\"Panic Beats\\\", 1983), \\\"Rojo Sangre\\\" (2004), or any of the 'Waldemar Daninsky' werewolf films. R.I.P. Paul Naschy. Legends never die!\"\n",
      "* * * * * * * * * \n",
      "7767\n",
      "It SURPRISINGLY had a plot! ;) I've seen movies with less plot (I don't wanna mention Asian movies but...). I thought the camera wasn't bad at all for a cheap movie like this, and also the atmosphere wasn't too bad. There is no real reason for most things people do and the way they react to what happens. Although I do think that about a lot of movies, in this case it was horrible, of course.<br /><br />It ripped off some movies SO badly just for single scenes. The acting was bad but I've seen worse. The movie was bad but I've seen worse. Watching this film is an experience between boredom, laughing fits, death wish, sadism, horniness and entertainment on a low level.<br /><br />So if you like gory movies with stupid plots this one is the right film for you.<br /><br />I gave it 3/10, because it CAN be entertaining if you don't expect to see a good movie and you're in the right mood.\n",
      "* * * * * * * * * \n",
      "7885\n",
      "This flick was a blow to me. I guess little girls should aspire to be nothing more than swimsuit models, home makers or mistresses, since that seems to be all they'll ever be portrayed as anyway. It is truly saddening to see an artist's work and life being so unjustly misinterpretated. Inconcievably (or perhaps it should have been expected), Artemisia's entire character and all that she stands for, had been reduced to a standard Hollywood, female character; a pitiful, physically flawless, helpless little creature, displaying none of the character traits that actually got her that place in history which was being mutilated here. Sadder yet, was to see that a great part of the audience was too badly educated in the area to comprehend the incredible gap between the message conveyed in the film, and reality. To portray the artist as someone in love with her real-life rapist, someone whom she in reality accused of raping her even when under torture, just plain pisses me off. If the director had nothing more substantial to say she should have refrained from basing her story on a real person.\n",
      "* * * * * * * * * \n",
      "7934\n",
      "When my own child is begging me to leave the opening show of this film, I know it is bad. I wanted to claw my eyes out. I wanted to reach through the screen and slap Mike Myers for sacrificing the last shred of dignity he had. This is one of the few films in my life I have watched and immediately wished to \\unwatch\\\", if only it were possible. The other films being 'Troll 2' and 'Fast and Furious', both which are better than this crap in the hat.<br /><br />I may drink myself to sleep tonight in a vain attempt to forget I ever witnessed this blasphemy on the good Seuss name.<br /><br />To Mike Myers, I say stick with Austin or even resurrect Waynes World. Just because it worked for Jim Carrey, doesn't mean Seuss is a success for all Canadians.<br /><br />\"\n",
      "* * * * * * * * * \n",
      "8069\n",
      "Are you kidding that was AWFUL!!! <br /><br />But that notwithstanding I got given this film and 3 others and they were all on DVD. The film starts of pretty much an OK movie but goes downhill from about the middle onwards.<br /><br />And the ending well let's just say it was one of the most anti climatic endings in recent film history. Lots of gore in the end sequence and if you like a dose of schlock horror then this is the film for you....<br /><br />3/10\n",
      "* * * * * * * * * \n",
      "8084\n",
      "The Good Earth is perhaps the most boring film I've seen in my life. The plot is slow and lacking. The acting is borderline comical. While I love Paul Muni, I can now say i have seen a film that does not do his true ability justice. The only saving grace I found with this film is it's production value. The use of hundreds of extras throughout the film creates a very believable and interesting environment. Also, the beautiful effects used to create the illusion of millions of wasps sells easily and was revolutionary at the time. Other than the production value I can say little else that is good or entertaining about this film.\n",
      "* * * * * * * * * \n",
      "8313\n",
      "as an actor I really like independent films but this one is amateur at best.<br /><br />The boys go to Vermont for a civil service yet when the plane lands it flies over a palm tree - were the directors aware that palm trees are not in Vermont? Pines yes - palms no. And the same for the wedding service - again nice grove of palm trees.<br /><br />When the boys are leaving VT they apparently could not get a ticket on any major airline since the plane that is filmed is Federal Express. Did they ship themselves Overnight in a crate? Come on guys little details like this separate an indi film from totally amateur.<br /><br />The Christian brother is far gayer than Arthur with his bleached hair and tribal band tattoo. The two should have switched roles.<br /><br />The minor characters are laughable and overact something terrible.<br /><br />Applause to the directors for making a gay film but pay some attention to your locations and casting next time\n",
      "* * * * * * * * * \n",
      "8409\n",
      "Definitely the worst movie I have ever seen... Can somebody tell me where should have I laughed? There's not a single hint or shadow of an idea. The three leading actors are pestilential, especially the one (I think it's Aldo) from Sicily who _can't_ make a Sicilian accent!!! Not to say about the dream-like insertion about Dracula... just another expedient, drawn from the worst cabaret tradition, to make this \\film\\\" last a little longer. Massironi and Littizzetto do what they can, but this so-called movie was really too, too hard to rescue. I would have given it \\\"0\\\"/10, but the lowest mark was 1/10 and so I had to overestimate it by one mark.\"\n",
      "* * * * * * * * * \n",
      "8424\n",
      "This film is one giant pant load. Paul Schrader is utterly lost in his own bad screenplay. And his directing is about as comatose as it can be without his actually having been sleepwalking during the process. <br /><br />The worst though is Woody Harrelson, whom I ordinarily like when he's properly cast. He plays \\the walker\\\", a homosexual man in D.C. who plays social companion to the bored wives of the Washington elite. He couldn't have been more one dimensional if he had been cut out of a magazine and bounced around in front of the camera on a popsicle stick. His \\\"southern accent\\\" is that \\\"off the rack\\\" version that decrescendos from the beginning to the end of every line he delivers, as though the heat and humidity of the South is still draining him of every ounce of energy he has. It is monotonous. But, his is not the worst accent in the movie. His \\\"boyfriend\\\", played by Moritz Bleibtreau, attempts to affect some kind of a Mid East accent that is so clumsy he can barely deliver the bad lines written for him. He is incapable of rolling his r's in spite of the fact that in real life he is German, and speaks several languages - one of them being Italian! That's kind of a good reason to cast someone else don't ya think? <br /><br />From the story, to the screenplay, to the directing, to the camera work, to the performances by the leads, this movie is bad from beginning to end. The only tolerable moments in this film came from three supporting actresses: Lily Tomlin, Lauren Bacall, and Kristin Scott Thomas. Only these three managed to make it through this movie with their dignity in tact. In fact, all three are excellent, in spite of being trapped in a really bad film. Ufortunately, no one could ever be good enough to redeem this endless series of flaws. If you like these three actresses, watch them in something else. This movie is not worth your time.\"\n",
      "* * * * * * * * * \n",
      "8444\n",
      "If you're the kind of movie-goer who enjoys original content and intelligent suspense...then look elsewhere, kids, cause Sleepwalkers really sucks. Usually I'm more eloquent than that, but...wow...this was bad. I especially love it when Charles offers Tanya a ride home, she declines, and then he is seen WALKING HOME. Where's his car?? Anyway, just don't see it, folks. I really want to be more specific, but words escape me. Cats jumping on people. A guy getting stabbed by corn. Cheesey lines up the proverbial \\wazoo\\\". Just don't see it. Wait, I take that back! See it for writer Stephen King's cameo as the guy who owns the graveyard. He's actually pretty good. Even with guest appearances by Mark Hamill and Ron Perlman, King gives the best performance of the film. But, other than that...wow...BAD.\"\n",
      "* * * * * * * * * \n",
      "8644\n",
      "Rip off of \\Scream\\\" or especially \\\"I know what you did last summer\\\", there's some entertainment here, and a little scary, but they needed some originality.<br /><br />An entertainment score? 6.5/10 Overall? 5.5/10\"\n",
      "* * * * * * * * * \n",
      "8754\n",
      "Black and White film. Good photography. Believable characters. <br /><br />Just awful.<br /><br />I have wasted another perfect evening watching a film that other rated as \\worthy\\\" and \\\"very good.\\\" There is some good acting here and the back ground setting for the plot is good (more should have been done with this) but it is very slow to grow and never develops. It is totally bases on sex without much romance with much un needed nudity. More could have been done with the main characters. If you are looking for something to watch with you family this in not the movie and if not you will have trouble sitting through it. Though this film is long its only about 1 inch deep!\"\n",
      "* * * * * * * * * \n",
      "8871\n",
      "Well, I can once and for all put an end to the question: 'What is the worst movie ever made...ever?' It is Flight of Fury, starring and co-written by Steven Seagal. Sure there are lots of famously bad movies, but this one takes the cake in that it takes itself so seriously.<br /><br />It is a Romanian-made film that speaks to just how far Romania has to go to catch up with Bollywood. It also speaks to just how utterly devoid of intellect and talent Steven Seagal has become. This movie is so bad that you literally feel violated after watching it and need to crouch in the corner of the shower and cry, knowing that nothing will make you feel clean again.<br /><br />It was released only on video (I can't imagine why) and I suspect the workers that had to make the DVD's had to wear protective gear and receive regular counseling.\n",
      "* * * * * * * * * \n",
      "8886\n",
      "I'm sorry, but this is such a bad movie it's hilarious. Football hooligans arguing in a travel lodge? Suits? Shades?! Alan clearly had no idea what he was talking about when he made this, it is as far from the truth as you can get.<br /><br />The casting was atrocious...Gary Oldman as a football hooligan? He doesn't look scary, act scary or even come across as someone who would like football. And as for Yeti? What the hell? Suits, shades and sitting in a travelodge childishly taunting each other with \\its about time you got your nappy on\\\". Please.<br /><br />And the Yeti's gang spraying the ICC's underwear? <br /><br />I don't see how anyone can even take this film seriously!.<br /><br />4/10. Its possibly the most inaccurate portrayal of the crisis of the late eighties hooliganism i have ever seen.\"\n",
      "* * * * * * * * * \n",
      "9054\n",
      "This is one of the worst things to ever come out of England, so that says a lot right there. The tension when we have to find out whether or not Lembach is staying is amazing though. The upside is seeing the nice secretary, Sheila, in her picnic table print underwear for awhile after being captured by Dr. Rat Face. This movie has several views of London too although none of them are good. There is also a point in which there is almost a car accident which gets your heart rate back to just below normal. There is also a watch that gets teleported away, and the fear of the woman not getting her watch back is parallel to the horror of \\The Sixth Sense\\\" only a lot more dull and British. Add on a furious gun fight between the British police and the Dr. Rat, which results in nothing, plus the electrocuting of a lot of people, plus a cat and you have yourself... ummm... A British movie. The MST3K version is pretty good although not one of there bests.\"\n",
      "* * * * * * * * * \n",
      "9274\n",
      "This is an in-name-only sequel to \\A Christmas Story,\\\" originally entitled \\\"A Summer Story.\\\" Ralphie narrates his family adventures during the summer when they moved to a small hick-town in the middle of nowhere. Hilarity, unfortunately, does not ensue.<br /><br />The original worked because of its irreverent nature and honesty - everyone could relate to it. This one is simply stupid and not very funny at all. Charles Grodin's last movie - no wonder! It's one of his poorest roles. I felt sorry for him.<br /><br />Mary Steenburgen is given little to do, everything's formulaic, and you have to wonder why they even bothered.<br /><br />And I mean, come on - a competition with spinning tops?! Sadly, it's the best part of the movie...\"\n",
      "* * * * * * * * * \n",
      "9339\n",
      "I'm a sucker for a good romance, but this one doesn't qualify as either good or a romance. I had the plot nailed down before the credits were through. With such poor dialog, plot and character development, I suggest investing your hour and a half elsehere. I had to rush out and rent Serendipity for the third time so I could get the bad taste of this one out of my mouth.\n",
      "* * * * * * * * * \n",
      "9424\n",
      "\\A death at a college campus appears to be a suicide but is actually a cover for murder. The dead man's roommate finds himself embroiled in a mystery as he tries to uncover the truth behind the young man's murder. Twists and turns, as well as some false leads, makes this a tough case for our collegiate hero to solve, let alone (keep) out of the clutches of the killer,\\\" according to the DVD sleeve's synopsis.<br /><br />The stars may be bigger than the movie. Handsome Charles Starrett (as Ken Harris), who has a small \\\"lingerie\\\" scene, became one of the top western stars of the forties, peaking in \\\"The Return of the Durango Kid\\\" (1945). The man playing his father, Robert Warwick (as Joseph Harris), was one of the most respected actors of the teens, beginning with his performance in \\\"Alias Jimmy Valentine\\\" (1915). Watch out for red herrings. <br /><br />**** A Shot in the Dark (2/1/35) Charles Lamont ~ Charles Starrett, Robert Warwick, James Bush\"\n",
      "* * * * * * * * * \n",
      "9429\n",
      "I used to review videos for Joe Bob Briggs' legendary \\We Are The Weird\\\" newsletter. I saw a lot of stinkers, but this by far was the worst, and the years have not been kind - it remains the most indecent crime against cinema I have ever witnessed. Don't get me wrong - CAGED TERROR is nominally more technically competent than, say, MONSTER-A-GO-GO or THE GUY FROM HARLEM or something of that ilk. What solidifies its claim as Worst Movie Of All Time for me is its unique blend of bare proficiency with crippling pretension. Is it a Vietnam commentary? An ecological protest? An incitement to race riot? A study of man's inhumanity to man? A novel exercise in padding nature footage out to (nearly) feature length? In short: a hep young urban professional (possibly the most loathesome screen character ever) somehow seduces a nubile Asian-American associate into camping in the woods with him. After brow-beating her with quasi-philosophical clap for the better part of an hour, they run across two wandering veterans, the unforgettable Jarvis (a righteous brother) and the Troubadour (guitar-toting Manson Family reject). Hey, a plot twist! Tension! Action! Suspense! Well, no, just a climactic getting-locked-in-a-makeshift-wire-chicken-coop-and-lightly-belittled scene. The victim in question stares listlessly at the captors and mutters, \\\"No... no... please... don't...\\\" Meanwhile, Jarvis addresses the Troubadour as \\\"Trouby\\\" once every two minutes, bringing to mind nothing so much as the alien star of Juan Picquer's POD PEOPLE. That's about all that happens in CAGED TERROR, and such a synopsis perhaps makes it seem almost tolerable. But trust me, I've seen thousands of movies in my life, and this one has remained, for the past eight years since I first saw it, the absolute worst. (I pop it in the old VCR once every two years or so just to reassure myself, and reassure myself I certainly do.) I think the element which makes CAGED TERROR so particularly hateful is this: very little happens, and although what little does happen happens quite poorly and quite slowly, what truly makes it compulsively unwatchable is the suffocating sense that the filmmakers REALLY, REALLY WANT to shove some kind of message down your throat. But because CAGED TERROR is so incompetent and ineffectual, what was intended as a civics lesson becomes a crash course in intense viewing discomfort. This film is 75 minutes long and feels like three and a half hours. It's terrible, truly truly terrible. Folks, trust me, I saw GHOSTS THAT STILL WALK and this one is worse. Go see it! You'll thank me. And curse me. Just for the record, my favorite line: (In CAGED TERROR but perhaps EVER) \\\"Yeah, well, you probably think the Song of Solomon was an allegory for Christ's love for the church...!\\\" (NOTE: Must be delivered in a tone of concerted condecension.)\"\n",
      "* * * * * * * * * \n",
      "9461\n",
      "\\Absolute Beginners\\\" was a film for the younger generation, a multi-time film that discussed the issues that teens were facing in Britain and how these troubled, constantly hitting each note, teen's problems can relate to the youth of tomorrow. It could have been dubbed the \\\"Moulin Rouge\\\" of the 80s, but it disappeared. It made its very shallow mark on the world, snuck under the radar, and can now be found collecting dust at either the musical section, the comedy section, or the politically obscure section of that seedy video store that doesn't need chain money to survive. Alas, that wasn't where I found it  but I found it, watched it, tried my hardest to sing along with it, stared into Bowie's eyes, but found myself faded by the end. Did it not survive the test of time? Is 1950s London too far removed from our current society? Is Bowie too creepy? I think \\\"Absolute Beginners\\\" falls somewhere into each of these questions as the perfect example of cinema that starts out with a bang, but withers to a mere sparkle by the end.<br /><br />\\\"Absolute Beginners\\\" opens with a huge number that takes us through the non-gritty streets of London which involve theft nightly, prostitutes on every corner, dance throughout, booze like rivers, and the swankiest ties on nearly every individual. Sounds like a place we would all hate to be ",
      " right? Director Julien Temple keeps the mood light and flashy throughout most of the songs as we attempt to learn something about a plethora of our main characters. The one we follow most is Colin played by Eddie O'Connell who follows his dreams of being a photographer while shooting his favorite girl, Suzette (played by Patsy Kensit). These two have chemistry, and while Suzette looks like a pre-rehab Lohan, to me they worked. There was a huge spark between them, the chemistry was like lava, and I believed that these two could take me down a road I had never traveled. I was ready  but then, something happened. Temple takes us out of the nightlife, takes us out of the city we grew up with at the beginning, and completely reverses the roles without any dedication to the first. Suzette runs away, Colin becomes a pervert, and Bowie ",
      " well ",
      " I am not quite sure what his role is but he sings amazingly well while climbing a mountain  I can tell you that much. Temple gives us this flashy city, this opportunity to see those that inhabit it, but leaves us hanging high and dry when it is time to pull the trigger. We learn about Colin, mainly, but nobody else. I could probably watch this film again and still be equally confused as to whom is angry at whom, and what importance fashion had to that era. Also, were they teens really  they all seemed like they were pushing their late 20s, but maybe it was my TV.<br /><br />Character development thrown right out the door, Temple tries to overcompensate by giving us bigger, more lavish songs using even more characters that we know nothing about. One of my favorite songs in the film uses this thought as a prime example. Temple uses a split house to show us the lives of Colin's parents (of which I didn't know it was them until after the film) and a song which screams apathy. Great song, too many characters, not enough time, suddenly dragged into another scene of missing coherency, and it just falls apart in your hands. Then, if that wasn't enough, we are rocking our heads to the beat of some great songs, rubbing our noggin' trying to understand where our characters are or are going, and Temple throws in hatred, anger, and politics into the final act. While I was hoping that this film would have a dedicated theme, I didn't think racism would be on the top of the bill. Suddenly, friends are missing, people are angry, and there is some random guy running around fighting Colin because he lives in poverty and has a friend of a different race? Somebody help me out here. It seemed completely rushed and overwhelming  nearly to the point of wanting to turn the film off. To me, the ending of \\\"Absolute Beginners\\\" was nowhere near the excitement from the opening number. That first part set the pace, and Temple could not keep up.<br /><br />Overall, I must say that Temple can direct a music video, but I don't think he was quite prepared for the feature film. I don't think this film will ever make it into full \\\"cult\\\" status, and will probably remain unremembered or in the dollar bin for years to come. It is a fun film to watch initially, but when we get to that final part, it just explodes from the inside. I wanted some cutting edge work, but instead what I found was a freaky Bowie coupled with characters I cared nothing for. I could see how this film could relate to the youth of the 80s, but by the end it just felt forced. I think everyone in this production should have taken a moment and listened to \\\"Motivation\\\" by the ever-freaky Bowie in this film, it may have helped solidify this feature into better cult status. I am glad that I watched this film once, but that is all that my small brain can take. I loved the way that Temple caught me from the beginning, but he couldn't control his characters (way too many), and the songs didn't seem to match the final moments of the film. It came out of nowhere, and it was unwelcomed. If this was a film about racism, it needed to be from the beginning. \\\"Absolute Beginners\\\" was a welcomed adventure, but I don't think I will be dusting this film off in the future.<br /><br />Grade: ** out of *****\"\n",
      "* * * * * * * * * \n",
      "9516\n",
      "This was not the worst movie I've ever seen, but that's about as much as can be said about it. It starts off with some good atmosphere; the hospital is suitably sterile and alienating, the mood is set to \\eerie\\\". And then...nothing. Well, somethings. Just somethings that clearly don't fit in...and no effort is made to clarify the connection between the bizarre and yet not particularly intimidating critters, and the hospital they've taken over. I mean, come on, biker duds? Some band watched a bit too much Gwar.<br /><br />My personal favorite was the head demon, who looks rather a lot like a middle-aged trucker desperately attempting menace, while simultaneously looking like he'd really like prefer to sag down on an afghan-covered couch, undo his belt, pop a can of cheap beer (probably Schlitz), and watch the game. Honestly, I've seen far scarier truckers. At truckstops. Drinking coffee. WWWwoooooohHHHHHoooooooo!!!! Scary!!<br /><br />The other monsters are even more cartoonish, and even less scary. At least, on the DVD, the videos give some explanation of their presence in the hospital...they apparently just randomly pop up in places, play some bippy \\\"metal\\\", and cause people to be dead a bit. Barring a few good special effects, and acting that is not entirely terrible given a lack of decent writing, there's just nothing here. It's a background-noise movie only.\"\n",
      "* * * * * * * * * \n",
      "9557\n",
      "The animation looks like it was done in 30 seconds, and looks more like caricatures rather than characters. I've been a fan of Scooby Doo ever since the series premiered in 1969. I didn't think much of the Scooby Doo animated movies, (I'm talking about the TV Series, not the full length movies.), but some of them were pretty cool, and I like most people found Scrappy Doo to be an irritant, but this series is pure garbage. As soon as I saw the animation, and heard the characters, (and I use that term loosely) speak, I cringed. Also, Mystery Inc., was a team, and without the entire crew to compliment each other, it just seems like opening up a box of chocolates to find someone has already ate the best ones, and the only thing left are the ones nobody wants. What's New Scooby Doo was better than this. If you're going to have a Scooby Doo TV series, include the elements that made the series endure so long. The entire cast of characters, and quality animation. They need to put this one back under the rock from where it came.\n",
      "* * * * * * * * * \n",
      "9798\n",
      "Drew Barrymore plays young Holly Gooding, who moves in with aspiring hack screenwriter Patrick Highsmith (George Newbern) and completely disrupts his life by claiming that her \\doppelganger\\\", or evil twin, is out to kill her and her family.<br /><br />This silly horror film is kind of hard to take seriously, even if the film-makers and actors themselves seem to be dead serious. \\\"Doppelganger\\\" is muddled, with some unpleasantly dumb dialog.<br /><br />Some viewers will note that Drew's character's name is drawn from Audrey Hepburn's role in \\\"Breakfast at Tiffany's\\\", and that Newbern's character's name is a play on the name of famed author Patricia Highsmith (he is actually trying to re-write \\\"Breakfast\\\" as a horror film, believe it or not!).<br /><br />I suppose that it deserves some credit for not being quite your typical horror film - I mean, writer/director Avi Nesher seems to genuinely care for his characters, and gives his film more plot than standard slasher fare.<br /><br />After a silly villain-explains-everything-to-the-audience confrontation, the film goes on to submit a hideous, out-there climax that has to be seen to be believed. This film certainly does not skimp on the gore.<br /><br />But hey! Drew kills her mother in this one. No, I'm not joking. Jaid Barrymore shows up near the beginning only to get violently slaughtered.<br /><br />Drew is always very watchable, and very sexy in this one. Newbern comes off as a likable-enough, \\\"nice\\\" sort of guy. But the highpoint of the film has to be the scene with Sally Kellerman, an attractive veteran who's very professional in her one scene as a former nun who's started a phone sex business(!!!!!!).<br /><br />The film is basically junk but fairly amusing on a sleazy, sordid little level.<br /><br />4/10\"\n",
      "* * * * * * * * * \n",
      "9876\n",
      "Whoever wrote the screenplay for this movie obviously never consulted any books about Lucille Ball, especially her autobiography. I've never seen so many mistakes in a biopic, ranging from her early years in Celoron and Jamestown to her later years with Desi. I could write a whole list of factual errors, but it would go on for pages. In all, I believe that Lucille Ball is one of those inimitable people who simply cannot be portrayed by anyone other than themselves. If I were Lucie Arnaz and Desi, Jr., I would be irate at how many mistakes were made in this film. The filmmakers tried hard, but the movie seems awfully sloppy to me.\n",
      "* * * * * * * * * \n",
      "9932\n",
      "The original \\Cube\\\" is a fantastic B-movie rich with paranoia, meaty characterization, and fine over-the-top performances. It's creepy, cryptic, and cool. And it stands perfectly well, on its own, without a stupid sequel like \\\"Cube Zero.\\\" <br /><br />This third (!) film in the Cube series is part retread (most of the booby traps are sadly recycled), part aberration. It takes the bold step of explaining what the cube is - something that was never revealed in the first movie - but, since said explanation is bland, I'd rather it was kept a secret. There are some potentially interesting references to the society that exists outside of the cube, but they never develop beyond hints about some kind of political-religious totalitarian state. So, what little social commentary there is feels flat and unfocused.<br /><br />What works? Basically nothing. The acting is purely amateur hour, the pacing is slow (how much of this movie consists of two nerds watching a screen?), and the gore effects, while revolting, fail to convince. In short, \\\"Cube Zero\\\" reminded me of a \\\"Cube\\\" fan-fic, a sloppy and sophomoric clone of a good movie that definitely did not need a sequel.\"\n",
      "* * * * * * * * * \n",
      "10016\n",
      "Superman II - The Richard Donner Cut should be a fan's dream come true. At long last, footage only seen in photos and scenes that only existed on the printed page would finally come to life. A director that was unable to complete his vision would have the opportunity to have his vision restored. It seems like a winning situation. And then you start watching this assembly of footage and you realize this \\esoteric dream\\\" is a very real nightmare of sloppiness and incompetence. While it's entirely possible that no movie could compete with the finished perfect version each of us has imagined over the years it really should have been a thrill to finally see this project. And it is only a very few times.<br /><br />You know things are shaky when the very first bit of text on screen looks like home brew computer graphics. But then we start seeing new footage (alternates from Superman - The Movie for the trial) and that first bit of hesitation fades away. Hey, this is pretty neat! Things are alright for these few fleeting moments until we see footage from STM intermixed with new effects for this project, and it doesn't convince at all. And from this point on, it never ever lets up. It's probably not right to judge a movie because of bad visual effects, but when this is supposedly the direct follow up to a movie whose tag line was \\\"You'll Believe A Man Can Fly\\\" it's difficult to believe anything shown on screen here. The best effects in this are from the original productions.<br /><br />Another issue with this re-cut. A lot of it just doesn't make sense. The only reason any of it really works is because we've all seen the theatrical version of Superman II, a movie that does make sense. Lester's Superman II fills in the holes of this assembly. Part of this could be because Donner didn't get to complete shooting, the other part could be because the makers of this project were intent on using as little Lester material as possible. What we end up with is an assembly of footage that makes Superman IV look airtight and coherent.<br /><br />After viewing this, one gets the sense that while Lester was faithful and comfortable using Donner material, Michael Thau and his team were extremely disrespectful towards anything filmed by Lester. The best scenes in The Donner Cut are the ones lifted relatively intact from the released version of Superman II. That includes the moon sequence and the diner sequence, not ironically, both were filmed by Donner. But anything else from that movie filmed by Lester is re-edited in such a hasty fashion, that it now makes Lester seem like a ham fisted know nothing. While Lester honored the Donner material, Lester here is thrown under the bus.<br /><br />So is there anything good in this release? Well Marlon Brando is in it, and that's neat to see. In fact watching any of the material shot by Donner is neat since it was all filmed at the same time as Superman - The Movie. But that only highlights the problems of this release. Any of the major scenes (really just Lois jumping and scenes with Marlon Brando) would have been better served as completed scenes in a deleted scenes section. Instead they are shoe horned into a nonsensical narrative with inferior performances (many alternate takes from familiar scenes are used) sloppy edits and bad decisions.<br /><br />Watch the opening scene at the Daily Planet. Why are we looking at Jackie Cooper's back as he calls for Lois and Clark? At the end why do we have Lois walking into her dark apartment only to have that followed by Jackie Cooper walking into a dark bathroom turning the lights on? I was initially confused by this, because I expected to see Lois. The entire assembly is filled with questionable choices like this.<br /><br />Battle scenes are a mess too, with no geography between cuts. It's just random action. Of course, the major action scenes were shot by Lester and his material is only used as a bridge to the next set of Donner outtakes or alternates. They should have used more of Lester's footage, but probably had too much pride to admit that.<br /><br />The sloppiness extends to the military missile as well. As noted elsewhere, the missile shown in The Donner Cut bears the designation \\\"XK 10\\\" while we all know it's the \\\"XK 101\\\"! A blind man in STM knows that! The producers of this assembly, who tried so hard to honor the original film, dropped the ball less than five minutes in and that mistake is indicative of the quality of the entire production. For all the supposed care that was put into this, the final product has an air of shoddiness to it that is inescapable.<br /><br />The entire affair would probably be easier to digest if Warner's didn't make this a separate release here in the states. As it is, we're expected to pay for what is essentially a bonus disc of deleted scenes with a \\\"Play All\\\" option. It's really only worth one viewing so that we can finally see the legendary cut scenes, but after that initial viewing, I expect that this will be an excellent magnet for dust and little else. I know after my experience of watching this, I had new respect for Lester's version. It's by no means perfect, but Lester realized the deficiencies that were in the script that stand out here in bold relief. He managed to make a movie that has entertained for many years and will continue to do so, while this new re-cut will most likely only be remembered as a footnote in that films history.\"\n",
      "* * * * * * * * * \n",
      "10167\n",
      "This film is another of director Tim Burton's attempts to capitalize on a familiar title to bring his `vision' to the screen. He has done it with `Batman', `Sleepy Hollow' and now this. This is not a remake. The only thing it has in common with the original is that it has simians that can speak (and Charleton Heston makes a cameo). Burton has reconstituted the entire story, watering it down for today's mass viewership.<br /><br />The original Planet of the Apes was a product of its time. During the 1960's America was struggling to redefine its civilization. It was a turbulent time of soul searching and rethinking social norms. It was the civil rights era where groups long considered inferior demanded to be treated as equal. In that context, POTA was allegorical, reflecting the philosophical turmoil confronting the audiences of the day. POTA was an extremely intelligent film that broached difficult questions and elegantly held the oppressions of American society up to scrutiny by making the white guy justify his intelligence to a species he considered inferior. The dialectic between Colonel Taylor (Charleton Heston), Dr. Cornelius (Roddy McDowall) and Dr. Zira (Kim Hunter) was thought provoking and intelligent with ironies both subtle and obvious.<br /><br />Burton's version is as much a product of today's times as POTA was of the sixties. This is Apes for Dummies. It is superficial and jejune, substituting politically correct platitudes for intelligent dialogue and focusing more on form than substance. The `surprise' ending is utterly incongruous and contributes nothing to the film except a cliffhanger that sets up the sequel. While the ending of the original POTA gracefully tied everything together in a single powerful scene, Burton's ending simply mocks the audience, taunting, `I know something you don't know, and you are going to have to wait for the sequel to find out.'<br /><br />From a technical perspective, as is always the case with Burton's film, the film is excellent. The makeup is fantastic and Burton's camerawork is outstanding (though I continue to dislike his dark look). However, thirty-three years of advancements in prosthetic makeup can not compensate for the insultingly vacuous script.<br /><br />The story has been reduced to a monster movie. The humans band together behind Captain Davidson (Mark Wahlberg) to fight the monstrous Apes, aided and abetted by a few turncoats (notably Helena Bonham Carter as Ari). The presentation is formulaic and simplistic with plenty of violence, perfect for today's fast food mentality.<br /><br />The acting is mixed. Mark Wahlberg is a fine actor who is simply miscast in this role. Walberg is excellent at playing dark, sullen characters that are tormented but strong. This part requires an inspirational hero, a profile not in Wahlberg's repertoire. Helena Bonham Carter is a brilliant actor whose character is so far beneath her ability that the disconnect is laughable. She tries desperately to do something with the flimsy character, but her interpretation presents like a cross between a college peace demonstrator and love sick teenager.<br /><br />Then there is Tim Roth. His is a virtuoso performance, single-handedly saving the film from total ruin. Roth is diabolically hateful as the malevolent General Thade. He creates one of the most villainous and despicable bad guys I can remember in some time. Additionally, his physical acting is superlative, rendering a chimp-man that is such a perfect meld that one can almost believe that the species exists.<br /><br />This film is a great disappointment. It is decent entertainment, as long as you check your brain at the door. I rated it a 3/10. From a technical perspective it is much better than that, perhaps a 9/10. However the story is an insult to the original franchise. It is simply another attempt by Burton at self adulation, using a familiar title to attract throngs to the box office so lots of people can see what a genius he is. Of course it's true, but it would be great if he used that talent to produce substantial films, instead of simple minded pap formulated for mass consumption.\n",
      "* * * * * * * * * \n",
      "10363\n",
      "This is a pretty bad movie. But not so bad as it's reputation suggests. The production values aren't too bad and there is the odd effective scene. And it does have an 80's cheezoid veneer that means that it is always kind of fun. Watch out, too, for Jimmy Nail's brief appearance - his attempt at an American accent is so astoundingly rubbish it's fantastic. Fantastic too are Sybil Danning's breasts - they make a brief appearance in the movie but the scene is repeated umpteen times in the end credits in what can only be described as the 12\\ remix of Sybil Danning's boobs. Has to be seen to be believed. As a horror movie it isn't scary, the effects are silly and Christopher Lee turns up to sleepwalk through his performance. I guess he was buying a new house and needed some cash for the deposit. The two central characters - the man and the woman - were so negligible that I have forgotten almost everything about them and I just watched this movie earlier tonight. The werewolves are noticeably less impressive than in the original movie, in fact, bizarrely, they sometimes look more like badly burned apes. The eastern European setting is quite good and the music provided by the new wave band Babel, while being pretty terrible, does at least give the film some added cheese.<br /><br />Overall? Good for a laugh. Not good quality but did you seriously expect it to be? And, at the very least, you've always got Sybil's knockers.\"\n",
      "* * * * * * * * * \n",
      "10437\n",
      "\\The 700 Club\\\" has to be the single most bigoted television program in the history of television itself. To make matters worse, it's been on the air since 1966, implying that thousands if not millions of people are buying into its hate and lies. Headed by Pat Robertson, the unscrupulous, megalomaniacal founder and leader of the Christian Coalition, \\\"The 700 Club\\\" takes us from misinformation to misunderstanding, broadcasting \\\"news\\\" as they like to think of it and trying to convince its audience that all of the world's problems are to blame on homosexuals, Wiccans, New Age spiritualists, Muslims, Jews, Hindus, non-Fundamentalist Christians, Democrats, single mothers, foreigners, feminists, evolutionists, environmentalists, NASA scientists, and anyone else who doesn't share their fanatical religious views. It's actually the best fake news since \\\"The Daily Show\\\" or the \\\"Weekend Update\\\" segment of \\\"Saturday Night Live,\\\" or since \\\"FOX News,\\\" for that matter. Of course, Pat's always the one who makes each of the decisions, saying whatever comes to mind and not giving a damn who it offends or hurts. In the meantime, he continues his part in the struggle to transform the United States into a militarized police state by having the Religious Wrong stick their noses in everything they can and asking for one donation after another - no less than a measly $100 to become a member, by the way - to fund Pat's African diamond mines and buy oil from companies reprimanded by the government in the past for their abuse of the environment. No, never mind that Pat was good friends with the genocidal dictators of Zaire and Zimbabwe in order to help him acquire such wealth; it's all for the greater glory of God, don't you know? And of course, the hosts of \\\"The 700 Club\\\" are always willing to read letters \\\"written by viewers\\\" as they like to put it, coincidentally each typed in the same format and all on the same color of paper by \\\"viewers\\\" supposedly healed of various afflictions by the said hosts (they claim to have \\\"words of knowledge\\\" come to them) but who NEVER APPEAR on the program to say what happened to them. Honestly, how can anyone take a show seriously when they're using a poor applause recording? It should make people wonder why there's no studio audience.<br /><br />The sad thing that Pat's cronies and viewers don't realize or just don't WANT to realize are the horrible things he's done and said. This is a guy who agreed with Jerry Falwell that the September 11, 2001 terrorist attacks on the United States were the result of God punishing us for our acceptance of homosexuality and feminism. Ironic, considering that Pat has twice publicly referred to the implementation of a nuclear weapon in the State Department; I have little doubt it was his wealth that kept him from getting arrested for such statements. His rants against homosexuals, single mothers, and any number of sexual practices he considers \\\"sinful\\\" are interesting, considering he was known to frequent a number of brothels during the Korean War. As the Bible says, be fruitful and multiply, so congratulations, Pat - thanks to you, there's probably a number of children born to single Korean mothers. Then, of course, there was the time he called for the assassination of Venezuelan President Hugo Chavez (not that he's a saint, but still). Oh, yes, and let's not soon forget the time this \\\"crusader for human life\\\" supported forced abortions in China. Very \\\"Christian\\\" of him, wouldn't you say?<br /><br />And just in case Pat has forgotten, I haven't forgotten his little speech that evangelical Christians today are \\\"being treated exactly as the Jews were in Nazi Germany.\\\" Honestly, to compare his \\\"plight\\\" to the horrors of the Holocaust is almost unforgivable. Speaking of which, need I mention about how he blatantly lied that homosexuality ran rampant among the Nazi party in a pathetic attempt to discredit homosexuals? Of course, history shows us that the Nazis acted toward homosexuals the same way they acted toward Jews. Pat Robertson is one of the biggest liars in history. If he was Pinocchio, his nose would encircle the Earth.<br /><br />Unfortunately, more and more people continue to believe him every day. This is your wake-up call, people; \\\"The 700 Club\\\" is one of the most if not the single most vile program in television history. It's evil masquerading as good; it's a wolf-in-sheep's-clothing. It's bigoted filth that tries to look clean, pretty, and loving. It's living proof that hateful, dangerous religious views aren't confined to certain groups in the Middle East. Even those who are not of the Christian faith know that it goes against everything Jesus taught, and if Jesus was to appear to this \\\"club,\\\" He wouldn't be emulating them. Instead, He'd be chastising them as He did the Pharisees of His time and overturning the money bins of their telethons as He did in front of the synagogue in His time. All I can say is thank God that Pat had no chance of becoming President; if he did, he'd be the harbinger of Armageddon - and not on the side of the good guys.\"\n",
      "* * * * * * * * * \n",
      "10468\n",
      "It is not un-common to see U.S. re-makes of foreign movies that fall flat on their face, but here is the flip side!!! This is an awful re-make of the U.S. movie \\Wide Awake\\\" by the British!<br /><br />\\\"Wide Awake\\\" is strange but entertaining and funny! \\\"Liam\\\" on the other hand is just strange. I must give credit to \\\"Liam\\\" for one thing, and that is making it clear that I made the right choice in changing my religion!\"\n",
      "* * * * * * * * * \n",
      "10590\n",
      "OK first of all the video looks like it was filmed in the 80s I was shocked to find out it was released in 2001. Secondly the plot was all over the place, right off the bat the story is confusing. Had there been some brief prologue or introduction the story would've been better. Also I appreciate fantasy but this film was too much. It was bizarre and badly filmed. The scenes did not flow smoothly and the characters were odd. It was hard to follow and maybe it was the translation but it was even hard to understand. I love Chinese epic films but if you're looking for a Chinese epic fantasy film i would recommend the Promise (visually stunning, the plot is interesting and good character development) not this film. Beware you will be disappointed.\n",
      "* * * * * * * * * \n",
      "10631\n",
      "I'm a huge Randolph Scott fan, but this film is a dud. The whole thing has a canned, fake, soundstage feel to it, with truly awful rear-screen projection. It has a good plot idea that the screenwriter has successfully buried in a nitwit script, which makes it impossible for the audience to become immersed in the action and truly care about any of the characters. The directing is pedestrian, and only accentuates how bad the script is instead of helping to improve it. I've seen plenty of thoroughly enjoyable \\soundstage productions\\\" before, but this is not one of them. All it does is make you appreciate the gritty Scott/Boetticher films all the more.<br /><br />Randolph Scott is tanned, trim, and shines that million dollar smile throughout. He's always a pleasure...even in the worst of his films. Aside from Scott, the other main reason I wanted to see this movie was due to how much I enjoyed Ms. Wymore in Errol Flynn's movie, \\\"Rocky Mountian\\\". In \\\"Man Behind the Gun\\\", she is just as beautiful, and you can tell she's a good actress, but she was forced to say some pretty dumb lines, and the blocking she was given by the director was truly awful. I've only seen Phil Carey in \\\"Operation Pacific\\\", and he plays the exact same character here...an arrogant pain-in-the-butt you want to beat into unconsciousness. I guess it proves he's a good actor...he made me hate him. There are some lame attempts at comic relief that only detract from the film, in my opinion. Although there are many elements to knock, I must say that I found myself truly enjoying the two Spanish songs sung in the musical numbers...but that's not why we go to see Randolph Scott movies, right?<br /><br />There are definitely worse Scott films out there, and this one certainly isn't unbearable, but it also certainly couldn't be deemed anything beyond mediocre.\"\n",
      "* * * * * * * * * \n"
     ]
    },
    {
     "name": "stdout",
     "output_type": "stream",
     "text": [
      "10941\n",
      "Look carefully at the wonderful assortment of talent put together to make this movie: Connery, Fishburne, Capshaw, Harris, Underwood, Beatty, Thigpen, even cameos by Slezak, Lange, and Plimpton. They prove, in spades, the adage that a good cast cannot save a bad script. The story line requires so many leaps of faith from the audience that its implausibility should have exceeded even Hollywood standards. It's not particularly original, and the \\twists\\\" are downright cruel.\"\n",
      "* * * * * * * * * \n",
      "10976\n",
      "Unfortunately I made a mistake and I paid 7 Euros at the movie theater to watch this shallow meaningless movie. My points;<br /><br />Film is based on 2 things;<br /><br />1) Ethnical point of View: As it happens on most of the American Films, the writer thinks itself as an expert after learning 2 or 3 things about the Asian culture. But unfortunately it is not enough. Knowing kunefe and 2 names of other foods doesn't make a person understand a culture. For example shaving is the sign of clean life in Asia but everyone was trying the girl to stop that. Lebanese people are Christian (Ok they got that) and their cultural forms and beliefs and approaches are completely different from other Arabic countries. The main difference between eastern and western culture is we don't make ethnocentrism. So we don't judge people after their first question about our life as the father figure did in all of the film. <br /><br />2) Sexual revolution of a girl: There is nothing much to say about this. Show me 10 girls which had these on their sexual awakening than I will say that I am wrong.<br /><br />I wrote this comment because the producers are promoting the film in the black humor genre. Please watch Dr.Strangelove and understand the meaning of black humor. A black humor has to reflect the truth and has to focus the audience to the funny parts of it. Where is the truth? Where is the meaning about the movie.\n",
      "* * * * * * * * * \n",
      "11154\n",
      "This must be one of the most overrated Spanish films in history. Its lack of subtlety and complexity and its total political correction make it really childish, with only good/bad characters. The world is just not like this, and good movies show complex characters with opposite impulses, dilemmas, etc. However, what I HATE most about this film is Bola's friend's father. The director tries to teach us a good lesson: tattoo artists with shaved heads are not always bad guys, in fact they can be better than the average looking dad (wow, this is like... philosophy, or something). Thank you, Achero. I'll propose you for the Nobel prize of literature.\n",
      "* * * * * * * * * \n",
      "11217\n",
      "Hilarious, laugh out loud moments ... and yet not a comedy. I particularly liked the planted gag of the ambulance soaking the \\filthy bum\\\" who then shouts after them in anger \\\"you filthy bums\\\", I mean wow, someone's online degree in literature is paying off! The worst script imaginable, with plot introductions in an instant, ridiculous movement in the story, ZERO character development (even between the characters who meet .. it's as if they all have known and trusted each other for years) dodgy voice over with added echo effects, and plot holes.. oh God are there plot holes!! To be honest I write this not even having watched the entire thing, but I certainly expect the last 30 mins or so to not exactly enhance the already pathetic attempt in cinema ... thank god we've got a good looking lead to somewhat make us forget that the film is a load of ... well ... use you imagination for the conclusion of that particular sentence!\"\n",
      "* * * * * * * * * \n",
      "11227\n",
      "After mob boss Vic Moretti (late great Anthony Franciosa) kills his lady whom has been cheating on him with Derek, their new chauffeur/ Vietnam vet, and blames it on the poor guy, Derek finds himself in jail where he has to contend with a corrupt warden, Vic's prisoner brother who runs the jail, and, oh yeah illegal experiments conducted by a shady CIA agent (great genre-mainstay and first time director John Saxon) to turn various prisoners into super-human invincible zombies. Of course things get out of hand and it's up to Derek, and the rest of the unchanged prisoners, to save the day after the infected ones take the jail over.<br /><br />John Saxon is a great talented actor & as a director Saxon is a... great talented actor. To say this movie (John's sole directorial outing to date) lacks a certain visual flair would be a bit of an understatement. However, the film isn't totally without merit. The dialog, while idiotic, is just bad enough to be humorous sometimes. Sadly, this isn't really enough for the movie to coast by on that alone and it takes forever for the film to even start coming into it's own (which is fairly late in the movie). As such, the most I can recommend this film is to say that if you're a fan of Saxon (which I indeed am), it's worth one watch, just go in with low expectations and you should be fine.<br /><br />Eye Candy: Dana Lis Mason and Tane McClure get topless<br /><br />My Grade: D+\n",
      "* * * * * * * * * \n",
      "11239\n",
      "I always get frustrated by films that were obviously written by one gender. Especially when they obviously don't do enough research to find out when something not only doesn't ring true, but rings blatently false.<br /><br />The scene I am remembering is the one in the bathroom where Jack tells his football teammates that he got Diane pregnant. In no way, shape, or form would a guy ever cheer another guy getting a girl pregnant in high school. They might cheer about the guy having sex with the hot cheerleader, but I can also guarantee that the first the football team heard about it would not be at a urinal.<br /><br />It was obvious that this film didn't take itself so seriously, and it wasn't hideously bad, but come on!\n",
      "* * * * * * * * * \n",
      "11277\n",
      "I didn't think the French could make a bad movie, but I was, clearly, very wrong. As has been said before, this film essentially uses its title character as a point of departure; its portrayal of her life and person have little or nothing to do with the real Artemisia Gentileschi. <br /><br />The script is awful -- pretentious, stilted, and vapid -- and its rewriting of the facts is unusually offensive even in a genre that all too often makes its living by distorting, rather than retelling, history. Along with some fairly decent set design, Valentina Cervi's physical charms are the primary asset of this movie, and it's obvious from the beginning that the filmmakers were aware of this too; they waste no time in contriving various \\erotic\\\" sequences which have far more to do with titillation than with plot or character development. Unfortunately, the appeal of seeing a pretty young girl in a state of feigned sexual arousal cannot, and does not, sustain this movie. The acting is unremarkable, and the score is all too generic despite an interesting chord or two. The cinematography is OK, and there are some pretty colors, but there are also some pretty ridiculous sequences using distorted-lens effects more appropriate for a 1960s freakout movie than a costume drama. In any event, the script leaves the camera dwelling all too often on Artemisia's body, and all too seldom on her paintings.<br /><br />All told, a near-complete failure. It's not intelligent or tasteful enough to be a serious film, and it's too slow and pretentious to work as soft-core pornography. So the French can fail, after all!\"\n",
      "* * * * * * * * * \n",
      "11382\n",
      "I don't remember \\Barnaby Jones\\\" being no more than a very bland, standard detective show in which, as per any Quinn Martin show, Act I was the murder, Act II was the lead character figuring out the murder, Act III was the plot twist (another character murdered), Act IV was the resolution and the Epilogue was Betty (Lee Meriwether) asking her father-in-law Barnaby Jones (Buddy Ebsen) how he figured out the crime and then someone saying something witty at the end of the show.<br /><br />One thing I do remember was the late, great composer Jerry Goldsmith's excellent theme song. Strangely, the opening credit sequence made me want to see the show off and on for the seven seasons the show was on the air. I will also admit that it was nice to see Ebsen in a role other than Jed Clampett despite Ebsen being badly miscast. I just wished the show was more entertaining than when I first remembered it.<br /><br />Update (1/11/2009): I watched an interview with composer Jerry Goldsmith on YouTube through their Archive of American Television channel. Let's just say that I was more kind than Goldsmith about the show \\\"Barnaby Jones.\\\"\"\n",
      "* * * * * * * * * \n",
      "11637\n",
      "A sad, sad sight indeed is The Munster's Revenge. The Munsters are brought back one last time(Fred Gywnne received a huge paycheck to come back to the role of Herman Munster)in this made-for-TV movie about a pair of wax replicas of Grandpa and Herman that are robots \\terrorizing\\\" the city as preparation for a robbery of a mummy's stash at an exhibit. With the police on their heels, the two elderly television icons try to find out who is actually behind the crimes in order to clear their names. We get to see them dress in drag as waitresses(a minor highpoint in the film), grandpa turns into a bat with attached wire a couple times(one time even flying to Transylvania with Herman somehow invoking his frequent flyer miles I guess), and a most annoying relative \\\"the Phantom\\\" constantly sings and breaks glass ad nausium! What is most sad is hard to pinpoint: is it that Gywnne(especially) and Al Lewis look so haggard in every scene and so indifferent to the material. Is it the hokey costumes of the robots that have that school production values look about them. Maybe it is the ridiculous script. Sid Caesar's crazy, mostly unfunny antics. Or perhaps it is seeing something which brought me joy and fond memories as a child being treated to a super K-Mart fashion makeover. At any even, the result is decidedly disappointing and silly even for Munster standards. As for the rest of the cast, Yvonne De Carlo is adequate in a most vacuous role(though showing more cleavage than usual for a woman of her years and experience). K. C. Martell makes an ever-so-not affable Eddie Munster. Jo McDonell is an attractive Marilyn. Bob Hastings as the aforementioned Phantom looks and acts and speaks in the most absurd manner. The film has a real cheap feel about it even for a made-for-TV movie.\"\n",
      "* * * * * * * * * \n",
      "11900\n",
      "I'm not sure if Carpenter is looking to raise questions on abortion, and make the really heavy-handed and obvious point that a woman should be allowed an abortion if Satan is the father, but it drags on and on. Ron Perlman is laughable. The baby is really stupid looking, basically a crab with a baby head mounted on it. You can pretty much see the material on the Satan costume. What a mess. This episode has about five minutes of story and 55 minutes of tedium. Very, very bad. And the ending is just ridiculous. After learning his baby is dead, does the devil destroy the abortion clinic and kill everyone in a huge, bloody, gory, uproar? NO! He just puts his head down and sulks out of the room. Terrible.\n",
      "* * * * * * * * * \n",
      "11960\n",
      "There are only two movies I would give a 1/10 to, this stinker and \\The Man who Fell to Earth.\\\" I remember seeing Protocol at a theater in the early 80s when I was in high school. The script is insulting to anyone (including a high school student's) intelligence. It completely lost me with the \\\"hillarious\\\" gag of someone getting shot in the butt. Goldie Hawn is supposed to be charming but comes across as vapid and moronic. Then there are offensive stereotypes about Arabs, followed by Goldie winning over everyone by spouting populist dribble. The acting was terrible, including Goldie Hawn's. I could not stand to see another movie she was in until IMO she redeemed herself in Everyone Says I Love You. This is the kind of movie you make if you want to put no effort into screenplay writing. The worst.\"\n",
      "* * * * * * * * * \n",
      "12082\n",
      "I think it's a great movie!! It's fun, maybe a little unrealistic, but fun and dramatic!! I would like to see it again, if they were showing it in TV!! Just 1 question: Are we still talking about the same movie???\n",
      "* * * * * * * * * \n",
      "12255\n",
      "I thought that My Favorite Martian was very boring and drawn out!! It was not funny at all. The audience just sat through the whole movie and didn't laugh at all!!! Not even the kids laughed!! That is sad for a Disney movie!! I thought they could have found somebody better to play the martian rather than Christopher Lloyd!! He was really stupid!! And he was not funny!! I thought the talking suit was really dumb!!! In the original television series the suit doesn't talk and move around!! In my opinion they should not have wasted their time on this movie!! I give it two thumbes down!! Really a waste of time and I would not recommend the movie to anybody!!! Thank You!!\n",
      "* * * * * * * * * \n",
      "12299\n",
      "Peter Fonda is so intentionally enervated as an actor that his lachrymose line-readings cancel out any irony or humor in the dialogue. He trades sassy barbs and non-witty repartee with Brooke Shields as if he were a wooden block with receding hair; even his smaller touches (like fingering a non-existent mustache on his grizzled face) don't reveal a character so much as an unsure actor being directed by himself, an unsure filmmaker. In the Southwest circa 1950, a poor gambler (not above a little cheating) wins an orphaned, would-be teen Lolita in a botched poker game; after getting hold of a treasure map promising gold in the Grand Canyon, the bickering twosome become prospectors. Some lovely vistas, and an odd but interesting cameo by Henry Fonda as a grizzled canyon man, are the sole compensations in fatigued comedy-drama, with the two leads being trailed by cartoonish killers who will stop at nothing until they get their hands on that map. Shields is very pretty, but--although the camera loves her pouty, glossy beauty--she has no screen presence (and her tinny voice has no range whatsoever); every time she opens her mouth, one is inclined to either cringe or duck. *1/2 from ****\n",
      "* * * * * * * * * \n",
      "12358\n",
      "Like a relative that gives you a bad gift, Soul Survivors has its heart in the right place but trips up with a bad execution. Stephen Carpenter's writing/directing effort borrows freely from other, better films, such as Jacob's Ladder and Abre Los Ojos (Open Your Eyes). For those who haven't seen either of these films, I won't give the premise away; suffice to say it's not nearly as well handled here than in those two superior films.<br /><br />Melissa Sagemiller stars as Cassie, about to go away to college. Her current boyfriend Sean (Ben Affleck) and ex-boyfriend Matt (Wes Bentley), both friends, and Annabel (acerbic Eliza Dushku) are in a car accident after being pursued by two killers (?) in transparent masks. She survives the wreck, but while attending college has visions of the hospital ordeal and dead people reappear and disappear, leaving her in a state of total confusion: who is dead? Who's alive? What's real?<br /><br />Soul Survivors has the look of a bad been-there, done-that, gore-filled, blood-splattered, body-stacking teen exploitation flick. True, it has its share of killer-stalking-the-victim scenes (plentiful, repetitive, and mind-numbing), but at least it attempts to build suspense through ideas rather than cliches, unfortunately rather unsuccessfully. It breeds confusion much more often than cohesion, as the story becomes jumbled, messy and incoherent near key points of the mystery (predictable as it is.)<br /><br />Horror fans who pick up a copy will have no idea they are in for a film that is more concerned with building an uneasy facade of reality than delivering a body count. Credit goes to Carpenter for attempting to create something beyond a derivative teen horror flick; too bad he's created a derivative psychological thriller. Sagemiller also deserves kudos for showing strength in the central performance, actually developing her character and evoking some sense of emotion as the unraveling Cassie. It's great the filmmakers try something different, but the film ends up a mixed bag and failed experiment.<br /><br />4 out of 10\n",
      "* * * * * * * * * \n",
      "12381\n",
      "I watched this film few times and all i can say that this is low budget rubbish and that it does not have anything to do with a real history facts. Actors performances is very poor but it is result of limited acting possibilities. Anyone who watched this film now probably think of Hitler as some crazy skinny lunatic who running with a gun like some Chicago gangster. I can only to say that there is much better films about Hitler and Germany in those years and that Rise of evil is very much under average. I can recommend German film Downfall in which you can see brilliant performance of Switzerland actor Bruno Ganz in a roll of Adolf Hitler.\n",
      "* * * * * * * * * \n",
      "12410\n",
      "So I had heard from a few people that this film had brought them to tears in the theater. As I watched it for the first time I was expecting another romantic, tear-jerking Barbra Streisand film; Something like The Way We Were. I was certainly wrong. The chemistry between the two main characters, Esther Hoffman and her John Howard, was nonexistent, making it impossible to get attached to the characters. There wasn't anything romantic about it. Streisand's character fell for an alcoholic drug addict who couldn't sing a single note without making me want to hit the fast-forward button. At one point her character finds her husband in bed with another woman and she forgives him about five minutes later. There's nothing romantic about a deadbeat rock star and a woman who can't seem to realize it until he actually dies. Parts of the movie seemed to drag on and on, and I kept asking myself when it was going to end.<br /><br />The death of John Howard was completely predictable. There was totally obvious foreshadowing of his reckless behavior early on in the movie, and when he died I felt no emotion whatsoever. It wasn't a tragic accident, it was him basically being an idiot. Not to mention throughout the movie I was distracted by his hideous beard.<br /><br />The only parts of this movie worth seeing are the Streisand songs. The ending of the movie when she sings \\With One More Look At You/Watch Closely Now\\\" was my reason for giving this film a whopping 3/10. Those 7 minutes were the only part of the movie I actually felt an emotion other than irritation and anger.\"\n",
      "* * * * * * * * * \n",
      "12420\n",
      "Antonioni's movies have aged not well. What always surprised me about them is that, besides an unquestionable plastic beauty, there is a dull and didactic \\psychology\\\" of the characters and situations. Remember, for instance, the conversations between Mastroianni and the \\\"wicked capitalistic\\\" that wants sing up him in \\\"La notte\\\", or Monica Vitti laughing at the peasants flirting in the train in \\\"La aventura\\\", or Ferzetti dropping the glass of ink at the end of the same film. <br /><br />I have reviewed yesterday \\\"Zabriskie Point\\\". In this film there are a lot of nice and elaborate shots of the Rod Taylor office, the streets and highways of L.A., the publicity advertisements, the deserts,etc., that show the fascination of the author in his American journey, in the same way than Wim Wenders years later. Unfortunately, there are too a lot of hippie-leftist clichés that spoil the movie: - The boy leaves the meeting, steals an aeroplane and flies over the desert in order to liberate himself and find \\\"something different\\\". - The executives in grey suites speak all the time about speculation. - The girl looks at the \\\"object women\\\" in the swimming pool and leaves because she wants not to be like them. - The couple of fat middle-class in the caravan speak, in front of the beauty of the nature, of building a hotel and earning a lot of money. - Last but not the least, a lot of couples making love in the desert. What a hippie platitude!<br /><br />Sorry, today, half a century after the \\\"revolution\\\" of \\\"La Aventura\\\" we can see that the king is naked, and his films (except \\\"Le amiche\\\" and perhaps \\\"Il grido\\\") are only a handful of aestheticism and commonplaces.\"\n",
      "* * * * * * * * * \n",
      "12433\n",
      "First, I realize that a \\1\\\" rating is supposed to be reserved for the worst of the worst. This movie gets that from me because, as one reviewer points out, it's not bad in a self-aware, over-the-top sort of way that might allow it to have some comic or cult value. It simply misses its mark on every count. **Contains possible spoilers** The dialog is completely disingenuous. The continuity is so deliberate it's painful. Daniel just finishes speaking of his lost love, and with his final word the flamenco dancers start. The mock-shock of what's her name (see? I don't even remember her character's name, let alone the name of the forgettable actress) when her husband (the Baldwin) first tells her that her friend is the bad guy. The car and the motorcycle chases did all the right things. Vegetable carts gone flying. Cars crashing into each other. Motorcycles going down the stairs. People nearly being hit, but remarkably, no one is. Oh, that's right... except for the one guy who has been stabbed several times, is obviously stumbling along the curb with knife wounds, and an approaching car apparently didn't notice him there. Hmmm. <br /><br />It's becoming more and more remarkable to me that movies like this can be made. There is so much pressure in the film industry to make money, you'd think that someone in Hollywood would think of making good films worth seeing. Now there's a novel idea. <br /><br />My suggestion: don't see this film. Don't rent the DVD. Don't watch it on cable. There are lots of other things you could be doing that will leave you feeling more satisfied.\"\n",
      "* * * * * * * * * \n",
      "12511\n",
      "I look around in the video store still in shock how Steven Seagal with his track record of Bad action movies can still have 3 movies hit the shelves in less than a Year.Attack force being the 3rd no less promised the first-time entrance into the Sci Fi Genre for our ever widening Seagal.Visions of bad movie entertainment flashed before my gullible eyes.Sadly this is not the case one bit with no entertainment and a movie as bad as they come.<br /><br />Seagal rebounded a tiny bit with the Trashy-but enjoyable Shadow Man last time we saw him.However Attack force has to be his absolute worst movie ever!Don't argue for out for a Kill,Ticker,or even Black Dawn folks.This is the bottom of the Septic tank here.<br /><br />Anyone who says this is Steven Seagal's return to form should be forced to write a 100 page essay on the word Taste. <br /><br />Seagal is yet another agent/I'm a supreme bad-ass yet again named Lawson wants revenge for the killing of his Team that leads him to a nefarious plot to distribute a really bad drug to the unsuspecting public.Not to mention the dealers are not from around here.<br /><br />The whole Production from Directing to the acting is poor.Was this movie shot in the Dark?Its gotta be the most poorly lighted movie since Howling 2.The action is terrible and very badly done.<br /><br />The Producers have also unwisely decided to do what the fans hate the most:throw in stunt double after stunt double and horribly dubbed Steven Seagal.Who seems to show little enthusiasm here.Can ya blame him?<br /><br />While it has been said that Attack Force was not the movie Stevie signed on for(originally Harvester)and surely has to be better than Attack force.The post-production tampering has not made it more coherent and made Seagal look worse.I feel bad for Directer Michael Keusch and writer Joe Halpin as they are gonna be judged forever for the ill-advised production re-shoots.<br /><br />So Now This leaves Seagal in the impossible position to come up with something to atone for this mess.But after seeing how bad Attack Force has turned out do we really want him to make another movie?\n",
      "* * * * * * * * * \n",
      "12579\n",
      "Things get dull early an often in this in this mawkish jazz bio fiction written and directed by Spike Lee.<br /><br />Bleek Gilliam (Denzell Washington) is a happenin' jazz trumpeter that fronts a quintet packing them in at Below the Underdog. His problems include an incompetent manager, a stage hogging sax player and two girlfriends that he's playing musical mattress with. The real love of his life though is his trumpet and his music. The band's manager, Giant, has a dangerous gambling problem and proves to be an ineffective negotiator with greedy club owners and would be best jettisoned but Bleek remains loyal for as long as possible. It will prove to his undoing as an artist but ironically contribute to his growth as a man.<br /><br />As Bleek, Denzell Washington is all wrong as the ambitious trumpeter with a babe on each arm. He's too sweet a guy to be so self centered about his art, dispensing patience and love to those close to him with a low key remoteness. He simply lacks the fire. Wesley Snipes who plays Henderson the sax player would have been far more suited for the role but even he would have to mouth the flaccid throw away scribblings of Lee's torpid dialogue. As Giant, Lee hits the trifecta with an abysmal performance to match his writing and direction. Loosely attempting to mirror the grubby but sympathetic Ratso Rizzo to Bleek's Joe Buck he adopts a limp and even the \\I'm walkin' here\\\" moment from Midnight Cowboy. In this case you wish the taxi would run him over and be done with it.<br /><br />Lee's script is all tepid argument, heavy handed ribbing and veiled insult with some requisite clumsy editorializing that Lee has to inject to remain down. The scenes between the band members backstage and in rehearsal lack spark and are only surpassed in dreariness by the Bleek, Giant conversations that have an ad lib look and go in circles. Completing this travesty is Lee's pretentious visual style. Tracking shots, zooms and pans are wasted and without significance to scenes. They just wander.<br /><br />Blues is Lee's love letter to jazz (made implicit by the mountains of memorabilia plastered all over the sets) and it's all sentimental clap trap that lacks passion and verve. Jazz on film is better served by Tavernier's \\\"Round Midnight\\\" and Eastwood's \\\"Bird\\\" which get below the surface, reveal more sides of the form, the pain behind it in addition to offering infinitely superior lead performances by Forrest Whitaker and the real deal Dexter Gordon. This Spike Lee Joint doesn't even offer a mild buzz. It's some pretty bad homegrown.\"\n",
      "* * * * * * * * * \n",
      "12590\n",
      "This was awful. Andie Macdowell is a terrible actress. So wooden she makes a rocking horse look like it could do a better job. But then remember that turn in Four Weddings, equally as excruciating. Another film that portrays England as full of Chocolate box cottages, and village greens. I mean that school, how many schools apart from maybe Hogwarts look like that? The twee police station looked like the set from Heartbeat ( a nauseating British series set in the 60s).This film just couldn't make its mind up what it wanted to be- a comedy or a serious examination of the undercurrents in women's friendships. If it had stuck to the former then the graveyard sex scenes and the highly stupid storming of the wedding might just have worked( i say just). But those scenes just didn't work with the tragedy in the second half. I also find it implausible that Kate would ever speak to Molly again after her terrible behaviour. A final note- what is a decent actress like Staunton doing in this pile of poo? Not to mention Anna Chancellor. Macdowell should stick to advertising wrinkle cream.\n",
      "* * * * * * * * * \n",
      "12671\n",
      "OK, the portrayal of the stereotyped 'indians' in this story is just plain WRONG. I do agree that Elvis looks rather good here, but yeah, his skin color does seem to change during the movie. I was thinking, OK,...he was never THAT tan in real life. It's some of the most obvious brown 'indian' makeup that I have ever seen. It's as bad as the 'indians' on 'F-Troop' and the old Hollywood westerns who were played by Jewish and Italian American actors and not real Native Americans!<br /><br />This movie is o.k., but typically lame story and mediocre songs, like in all of Elvis' later films. He just did them because Colonel Parker had him tied down to long term movie contacts to squeeze as much money out of Elvis as possible! I keep thinking 'thank God' that Elvis stopped making movies forever not long after this movie came out. It is cool to see character actors Joan Blondell, Katy Jurado, L.Q. Jones, Henry Jones and Burgess Meredith in this movie, though.<br /><br />Burgess Meredith's 'indian' makeup is absolutely AWFUL. It's The worst of the bunch for sure. What were the filmmakers thinking? Was Mr. Meredith doing this one just for the money or what? I do love certain Elvis movies, though. For example: 'Love Me Tender', 'Jailhouse Rock', 'Viva Las Vegas'. I can even stand to watch his movie with future TV co-stars Mary Tyler Moore and Ed Asner,'Change Of Habit' in which Elvis plays an inner-city doctor.<br /><br />Oh well, at least Elvis made a FEW good films, but the mediocre and bad ones overwhelm the decent and good ones.<br /><br />I'll always love ELVIS! Thank you, Thank you very much!\n",
      "* * * * * * * * * \n",
      "12807\n",
      "One of the those \\coming of age\\\" films that should have nostalgia for adults and promise for the kids. This movie has neither. It is a poor excuse to let Sylvia Kristel's body double frolic with a dorky Eric Brown. To make matters worse, the movie is either silly or stupid when it tries to be funny, sexy, or dramatic. Laugh awkwardly as we are supposed to believe that a teenager would go alone with burying a dead woman in his front yard. Ponder vigorously on why a woman famous for Emmanuelle needs a body double. As the movie went on and on, I started to imagine a hybrid of Private Lessons and Little Miss Millions that had Sylvia Kristel seduce Jennifer Love Hewitt as Howard Hesseman makes us nostalgic for WKRP. Watch this to laugh at other people's stupidity, or for Ed Begley Jr.'s committed performance, or to wonder what Sylvia Kristel would look like with Jennifer Love Hewitt. But I can give you an idea of your lesson, stay away from movies staring Sylvia Kristel that are not Emmanuelle.\"\n",
      "* * * * * * * * * \n",
      "13030\n",
      "It really doesn't matter that Superman comic books are unbelievably naive and their target is ten year old. What matters is that \\Superman Returns\\\" is bad movie. <br /><br />In the beginning,a question for You Dear Readers, how many of You actually believe that Superman will be defeated by bald Kevin Spacey? Anyone? Just as I thought. No spoilers here. So let's get to some major issues right now.<br /><br />Firstly, this movie looks like commercial (scene in the bar with Superman/Clark Kent drinking Budweiser is only scene which looks as it supposed to). Imagine commercial of Superman, two and half hour long. Let's be serious this isn't \\\"Amadeus\\\" or \\\"The Departed\\\". You actually feel, that this movie is way too long. And special effects are not so special by the way.<br /><br />Secondly, scenario is silly. Sometimes even if something is acceptable in comic, in cinema it looks just stupid. And it's like that in this case. Of course dialogs are disgrace. I can't believe somebody took money to write them. How many times we will be fed with villain making speeches? How many times laws of physics will be raped? (Jesus, it's not only the matter of Superman's strength but also a resistance of materials his dealing with.) How many times Lois Lane will be fooled by Kent? How many times Hollywood producers will seek for a story in a trashy comic books? Since there's hard to make a good story, why having a weak story for a starter? It just doesn't work. Guys, get a grip. Try harder, please. Or just stay on this strike forever, who cares. I got the feeling that WGA is permanently on strike. No offense. I'm not questioning the lame money those people are paid, but the quality of the product they deliver. In this case there is no quality at all. (At this point You may ask yourself: is it that bad? Yes it is.)<br /><br />Thirdly, acting is weak, which is quite a surprise since Bryan Singer (Usual Suspects) is directing. Kevin Spacey is having fun, but he's the only one. Audience is rather not in the mood for jokes. Thing is that comic book hero can be developed into real personality, with clear motivations but also with doubts, fears, some depth. In this case nobody did that job, and characters aren't really interesting.<br /><br />Finally, whole effort of creators turns this movie into parody. Second unit is so bad that attracts attention, since there's nothing interesting going on on screen anyway. The harder they try (if they try), the funnier it gets (but it isn't laugh You could expect).<br /><br />Final conclusion? One word: shame. <br /><br />This particular movie, ladies and gents, is camp. Don't waste Your time and don't waste Your money too. Stay home, read a book.\"\n",
      "* * * * * * * * * \n",
      "13042\n",
      "Unimaginably stupid, redundant and humiliating closure to the \\Nightmare on Elm Street\\\"-series! Part 6 is so incompetent that it looks like director Rachel Talalay intentionally wanted to turn Wes Craven's initial premise into one big bad and tasteless joke. This isn't just the worst entry in the \\\"Elm Street\\\" saga; it's also one of the most embarrassing horror movies ever made and it downright offends fans of the genre! The story is dumb, the character drawings are ridiculous, the structure is all murky and  most of all  the special and visual effects resemble those of a Tom & Jerry cartoon. The sequences in which Freddy Krueger murders his victims are endless and very uninteresting. Were we supposed to be petrified when a jabbering Freddy turned Breckin Meyer into a video game-character and pogo-sticked him around the walls of a house? The story takes us back to Springwood and it appears that Freddy all of a sudden has a middle-aged daughter. You'd think he would mention that in one of his previous adventures, but no",
      " There's only one teenage-survivor in Springwood and Krueger uses him to get into contact with his long lost daughter. Another reason why this final installment is so awful is the completely illogical structure. The John Doe-boy is introduced as the leading character but then all of a sudden he dies and the plot continues to revolve on two adults! How about that: Freddy Krueger, who spent five entire films killing nothing but teenagers, eventually gets beaten by two adults wearing 3D-glasses! Sort of like ruins the whole essence, doesn't it? As far as I'm concerned, \\\"Nightmare on Elm Street\\\" has always been a dreadfully overrated series but, up until now, even the weakest entries had at least some redeeming elements. \\\"Freddy's Dead\\\", however, is simply unendurable and nobody should waste his/her precious time watching it.\"\n",
      "* * * * * * * * * \n",
      "13055\n",
      "First of all, let's get a few things straight here: a) I AM an anime fan- always has been as a matter of fact (I used to watch Speed Racer all the time in Preschool). b) I DO like several B-Movies because they're hilarious. c) I like the Godzilla movies- a lot.<br /><br />Moving on, when the movie first comes on, it seems like it's going to be your usual B-movie, down to the crappy FX, but all a sudden- BOOM! the anime comes on! This is when the movie goes WWWAAAAAYYYYY downhill.<br /><br />The animation is VERY bad & cheap, even worse than what I remember from SPEED RACER, for crissakes! In fact, it's so cheap, one of the few scenes from the movie I \\vividly\\\" remember is when a bunch of kids run out of a school... & it's the same kids over & over again! The FX are terrible, too; the dinosaurs look worse than Godzilla. In addition, the transition to live action to animation is unorganized, the dialogue & voices(especially the English dub that I viewed) was horrid & I was begging my dad to take the tape out of the DVD/ VHS player; The only thing that kept me surviving was cracking out jokes & comments like the robots & Joel/Mike on MST3K (you pick the season). Honestly, this is the only way to barely enjoy this movie & survive it at the same time.<br /><br />Heck, I'm planning to show this to another fellow otaku pal of mine on Halloween for a B-Movie night. Because it's stupid, pretty painful to watch & unintentionally hilarious at the same time, I'm giving this movie a 3/10, an improvement from the 0.5/10 I was originally going to give it.<br /><br />(According to my grading scale: 3/10 means Pretty much both boring & bad. As fun as counting to three unless you find a way to make fun of it, then it will become as fun as counting to 15.)\"\n",
      "* * * * * * * * * \n",
      "13139\n",
      "I hate this programme: not only is the very concept ludicrous, but it tries so hard to be feasible (something that was left out of similar \\I confess\\\" ending programmes like, Muder: She Wrote).<br /><br />Sigh. Why is it that the writers can't ever be intelligent enough in this programme to come up with evidence that would stick and win a decision in court?<br /><br />Come on: after X-amount of years of the cases being unsolved, why must EVERY SUSPECT, EVERY EPISODE *CONFESS* (damn it!) to a murder which would otherwise go unsolved?<br /><br />I bet all police wish that criminals were this good sportsmen: \\\"Aw, shucks, officer, you're a bright one - I guess if you've uncovered enough to convince yourself I did it, I may as well admit to it and make it easier for you in court. What can I say? It's a fair cop.\\\"<br /><br />Absolute dog s**t and an insult to those of us with with enough brains to even have heard of I.Q.\"\n",
      "* * * * * * * * * \n",
      "13146\n",
      "For some reason, various young couples hiking through the Italian Alps split up to see who can reach their campsite designation first. James (Gregory Lee Kenyon) enters a cave, finds a skeleton of an ancient demonic gladiator and becomes possessed by the spirit of \\Tyranus\\\" when he puts on a helmet belonging to the corpse. He then spends the rest of the film running around in the woods hunting down his friends and hacking off their limbs to add to some stew to bring the undead \\\"Demonicus\\\" back to life. This shot-on-digital Full Moon release is stupid, senseless, has terrible acting and sound and the (Los) Angeles National Forest is a poor substitute for Italy. However, it's pretty high on the unintentional laugh scale thanks mainly to the overwrought lead performance. Whether bug-eyed running around in cheap-looking armor brandishing a sword or spouting neurotic Latin gibberish about demons and resurrection, Kenyon's ridiculous facial expressions and awkward line delivery must be seen to be believed. Oh well, at least he's not boring like most of the rest of the cast.\"\n",
      "* * * * * * * * * \n",
      "13148\n",
      "When I look back on my college days at Ohio University, there will always be one event in which I will remember with fond memories. Channel 23 is OU's local access channel and until the last few years, pretty much played anything they were sent. This included many DIY movies ranging from a guy microwaving marshmallow Peeps and then scanning pictures of them online, to a version of Macbeth starring 8th graders who had apparently just learned how to make squibs.<br /><br />However, the king, in my opinion, of the channel 23 lineup was Midnight Skater. The first time I watched it was around 2AM. I should have been studying. Or sleeping. Or watching regular TV. But no, all that is for pussies. My roommate and I watched Midnight Skater, and when it was complete, I don't think either of us believed that any of the movie had just happened. But sure enough, it was on a few nights later, and we had to come to grips that this movie did, in fact, exist.<br /><br />I could go on and on about how awful it is, but its the sort of awful that makes life worth living. The plot is disjointed, the acting terrible, the everything soul scarring, but by god, if there are others watching with you, its impossible not to have a good time watching it. Its sort of like the first time you hear \\Guts\\\" by Chuck Pahalniuk. You hear it, you're disgusted and shaken, but five minutes later, all you want and desire is to make someone else experience the abject horror you just endured.<br /><br />Long story short, Midnight Skater, for all of its epic flaws, makes for some very late night fun. Plus, I desperately want the Theme to Midnight Skater. Kudos to whoever wrote it and sang it. Sweet God I love that song.\"\n",
      "* * * * * * * * * \n",
      "13175\n",
      "I remember when this came out a lot of kids were nuts about it. I guess I was a bit too old to get all excited and I was a fan of real martial arts films and always found this a bit cheesy.<br /><br />In the early 90's we were swamped with programs such as this making kids feel like they could fight and be a power ranger or an equal to these kids on 3 Ninjas. I think eventually parents and film makers alike got sick of it because all we had in reality was abunch of kids going around punching and hitting everyone.<br /><br />Many kids movies have some big point they're trying to make and its nice for your kids to watch and get the message, this one doesn't have any message at all...it just exploits a million difference things in less than 90 minutes.<br /><br />The movie has no great visual qualities but would one expect it to? The acting is pretty bad. Victor Wong is a cool actor but it was embarrassing to see him here.. The short, fat, gimped eyed old fart as a powerful ninja that was just hilarious. The kids over acted way too much and the youngest ninja Tum Tum was maybe the worst kid actor I have ever seen.<br /><br />The movie has a plot that anyone knows before they even read the review. 3 ninjas...yea you know they're gonna fight a bunch of bad guys and win obviously... Need I say more. Sorry if I spoiled it for anyone.<br /><br />With all that said KIDS WILL LOVE IT. This movie is aimed at kids and only children could enjoy it. If you don't mind your kid seeing movies about kids fighting this is a good movie to let them see. If you don't mind allowing your children to see complete garbage that has nothing to do with real martial arts, real acting or reality period then you have found a movie for your kids... I say kids because I think even the girls will like it... I recall all the girls having a crush on Rocky.<br /><br />2 out of 10 stars because I think you can make a movie for kids and still make it enjoyable for adults..this movie failed big time at that.. It is beyond cheesy and nothing original or unique and I would not allow a child of mine to watch it... Kung Fu the TV series is on DVD and there's tons of great Shaw Brothers films out there...Why not show your children things that will really entertain them and not make them dumb along the way, perhaps even teach them some moves and not just how to kick a man between the legs as grandpa did on 3 Ninjas...no no no...never kick a man between the legs ...never .. thats so unninja like.\n",
      "* * * * * * * * * \n",
      "13280\n",
      "This is the first Guinea Pig film from Japan and this is the sickest, in my opinion. A bunch of guys torture a girl for several days before finally killing her. And at this point, I will say that these films are NOT real! They are faked horror films which try to be as realistic as possible.<br /><br />The scenes are sickening but also unrealistic in many cases. For example, when they kick the girl in the floor, we can clearly see how they kick and stump the floor near the girl! And how stupid this looks! The sound effects are also unrealistic and don't make sense. Other scenes include animal intestines thrown on the girl, the girl exposed to loud noises for many hours, the ripping off of fingernails, worms placed on the wounds in the girl's body, the eye pierced and mutilated in horrific detail and stuff like that. Very sick and mean spirited film and has absolutely nothing valuable or cinematically significant. This first entry is the sickest and most amateurish Guinea Pig, although it is not as bloody as the next part, Flowers of Flesh and Blood, which tries to be as shocking as possible.<br /><br />Guinea Pig: Devil's Experiment is perhaps the sickest thing I've seen and the closest thing to snuff there is. This is still (of course) faked s(n/t)uff, the only difference to genuine \\snuff film\\\" is that no one dies or hurts for real in this film. I cannot recommend this to anyone since thi s is so s****y and repulsive. They who consider this is a great horror film understand nothing about cinema and the real meaning of it. I watched this as a curiosity (as the other parts in the series) and now I know how insignificant trash these are. They work only in shock level and that's not too valuable cinematic achievement. Devil's Experiment is perhaps the sickest film I've seen and Mermaid in a Manhole (Guinea Pig 4) is perhaps the most disgusting film I've seen. So these are pretty extreme in my book, but that's all they are.\"\n",
      "* * * * * * * * * \n",
      "13284\n",
      "First of all.....<br /><br />What the hell? Why in the world are they trying to sell a low budget piece of crap on late night TV with the promise of disturbing, offensive sick garbage that any normal real human being with a soul couldn't watch. <br /><br />What the crap is funny about a dog being injured, a grandma getting her head knocked off...a guy getting his hand blown to pieces and two girls going to the bathroom? what in the hell has this world come to that people find comedy in some thing so completely sick. Anyone who thinks this kind of material is funny, should not even be allowed to walk the earth. <br /><br />But from what I hear its not even offensive...so...they promise comedy through demented piles of sick garbage...and they cant even pull that off.\n",
      "* * * * * * * * * \n",
      "13296\n",
      "If I could give it a zero, I'd change my mind and give it a -10 instead. Absolutely horrible movie with no movie plot, doesn't make sense of what is happening. Just PLAIN BORING. Please don't waste your money on this one. Pleaseee!!! This movie could have done so well if it truly depicted the real zodiac killer's story, but nopes, I didn't feel anything but disgust while watching it. Do yourself a favor and rent some classic movies instead, its better to watch a movie you've already seen like 3-4 times than watch this crap! I don't understand why people even bother to make such movies when they know its not going to do well. Zodiac killer should be called 'Boriac killer' instead!!!\n",
      "* * * * * * * * * \n",
      "13393\n",
      "1 out of 10.<br /><br />This is the kind of movie that you cant believe you just wasted 2 hours of your life as you see the credits role. I honestly think I could make a better Vampire movie.... and I know nothing. The only thing that does not just suck (harder than a Vampire) is Jason Scott Lee.... his character is at least a little bit cool, has some mystery, and kicks a little butt.\n",
      "* * * * * * * * * \n",
      "13441\n",
      "I was really looking forward to watching this, being that I love Danny Dyer and I think Gillian Anderson is a gifted actress. The beginning was interesting. I liked the relationship between the two stars. It then quickly jumps to the main plot, which is they get attacked by a group of strangers and Dyer gets beaten extremely bad while Anderson gets raped. They then decide to go for some revenge. Sounds good, right? Well, it's not. The story gets boring and side-tracked, and certain things get really weird. I won't give out any details, but things happen that I, for one, have no desire to see. I like to give all movies the benefit of the doubt, and I really wanted to like this one. It just didn't work out. I give it a 3 out of 10, mainly for the acting.\n",
      "* * * * * * * * * \n",
      "13479\n",
      "My goodness is this movie bad. I was totally misled by my local movie review because this is certifiable garbage. Yeah, yeah, good guys wear white, bad guys wear black....and the good guys always win. Now go home and hug your kids, and feel how good Hollywood has made you feel. Blech! I can't believe this brain dead movie was made by Wes Craven. I'm guessing he needed a little money to pay the mortgage, so he made this piece of dung. It is the sort of production that makes anyone who watches movies regularly believe they could do as good or better than such an experienced director.<br /><br />Ya see, a bad guy wants a sweet girl who loves her daddy to do a wittle IL' bad thing or he's gonna hurt her daddy. But being Ms. All-American girl next door, we know she's gonna save the day and beat the bad guys...the end. Girl power ROCKS.<br /><br />C'mon now, only an idiot would find this entertaining...\\a roller coaster ride,\\\" let alone something fresh or new. All those \\\"super-duper\\\" reviews you see on this site are from industry hacks who are either making money off this flick, paying back a favor, or they have sold their souls to the devil.<br /><br />Rachael McAdams is beautiful....yup, that's it. Not a good performance, not a horrible one...she's just cute. She would have had to show a whole lot of skin to save this movie. She isn't tough enough to be a good female action lead.<br /><br />Cillian Murphy was at least passable in 28 Days. But here he plays a dumb villain pretending to be a smart one. He gets his ass kicked to and fro by the 5'5'' McAdams, because after all, she was a cheerleader...and a field hockey player...and I'm sure she owns all the Tae Bo tapes...so she should be able to kick the crap out of an international terrorist for hire. I wouldn't trust him to steal a pack of gum from 7-11.<br /><br />Ya see, this movie was done before, except before they did it well. Go re-rent any of the Die Hard movies. You have loved ones in danger, international terrorists, except the characters are more likable and believable and the bad guys are WAY more competent and interesting. I simply don't understand how Hollywood can continue to make such crap as if they were oblivious to the proper models they can readily copy. No wonder movie revenues are down.<br /><br />Throw your $6 down the toilet and save yourself 2 hours of your life you'll never get back.<br /><br />ciao, FreddyShoop\"\n",
      "* * * * * * * * * \n",
      "13903\n",
      "Did anyone stop to realise what sort of movie they were producing here ? Now let`s a former marine officer becomes assinged to a group of kids at a cadet school so this should be a family comedy right ? Wrong . This is just a gross comedy aimed at teenagers with many bad taste moments .It might have been watchable in an extremely dumb way at this point but I found Damon Wayans voice to be irritating beyond belief . Does he speak like that in real life ? If he does then he has my sympathy but he won`t be getting any of my money from watching his movies\n",
      "* * * * * * * * * \n",
      "14096\n",
      "\\Demons III: The Ogre\\\" is not related pre-sequel are on \\\"The Demons\\\" and \\\"The Demons 2 are cool hip horror 1980 classic.\\\"Demons III: The Ogre\\\" is very stupid, bored, cheap monster. I am very confuse about the writer is \\\"Demons III: The Ogre\\\" (Lamberto Bava and Dardano Sacchetti are poor quality writer and stupid who the bored William Shakespeare ghost or demon's egg from Spider's web or what Huhuhuhuhu make the girl dream). I am very sorry, very very very very boring movie. I Bought The special DVD box called \\\"Demons\\\" on the 3 different movies called \\\"Demons III: The Ogre\\\", \\\"The Other Hell\\\", and \\\"Black Demons\\\" don't have closed captioned and Subtitles is cost $ 14.99 from Best Buy store in the City of Downey. Why the Lamberto Bava and Dardano Sacchetti are poor quality writer who make the stupid movie almost like \\\"Halloween III\\\" don't have Michael Myer monster but the people wear Halloween. I am very confused. I really love \\\"The Demons\\\" and \\\"The Demons 2 are better the boring stupid \\\"Demons III: The Ogre\\\" is not part for \\\"The Demons\\\" and \\\"The Demons 2\\\" are same demons.<br /><br />Thank you Juan Antonio De La Torre\"\n",
      "* * * * * * * * * \n",
      "14125\n",
      "I imagine when Hitchcock scholars and experts find themselves together, the talk is not of the Master's great films like \\North By Northwest\\\" or \\\"Strangers On A Train\\\", but a lesser-known effort like this one from 1931, obscure and seriously flawed, which showcases the great director in fledgling form.<br /><br />Emily and Fred Hill (Joan Barry and Harry Kendall) are a middle-class London couple scrimping to stay ahead. He begrudges their lot; she accepts it. Change comes in the form of a letter from an uncle, saying he will set them up so they can enjoy a life of globetrotting luxury. They make plans for a world cruise. But their problems have only begun.<br /><br />Just ask Richard Hannay, Roger O. Thornhill, or Marion Crane. Well, Marion's indisposed at the moment, but you get the idea. Travel and Hitchcock go together like moths and candlelight, setting one up for a perilous journey at best. This is perhaps Hitchcock's earliest foray into this theme, and not his most successful or memorable. Hitchcock tries to mix comedy with another element, in this case domestic drama rather than suspense, but the two do not cohere, at least not here.<br /><br />The Hills are a dull, flat couple, with no chemistry or personality. When they find themselves at the Folies Bergère, in the form of cross-cutting with footage that looks ten years older than the rest of this film, they are abashed at the outfits of the female performers. \\\"The curtain's gone up too soon!\\\" gasps Emily. \\\"They aren't dressed.\\\"<br /><br />When the Hills drift away from each other on an ocean cruise, it seems a mercy killing more than a tragic thing, even if the people they partner off with are drips, too. Emily's man, Gordon (Percy Marmont) carries around photographs of himself sitting next to empty chairs, which he suggests be filled by Emily. Fred's girl \\\"the Princess\\\" (Betty Amann) has Clara Bow's eyes and Wallace Beery's five o'clock shadow. There's also an obnoxious fellow passenger, a dowdy spinster whom Hitchcock always introduces with a cartoonish horn cue. Subtlety was still to come.<br /><br />Everything is shot in an abrupt manner, with confusing blocking and strained dialogue. Hitchcock tries for some early comedy with Fred and his umbrella that doesn't come off, and Kendall seems to aim for laughs while Berry plays for tears. When Fred and Emily break off, they are seen being jostled on a pair of wedged-together rickshaws, one of many clunky attempts at symbolism.<br /><br />Emily's the only vaguely sympathetic character, in part because she really cares about her husband and agonizes over her affair with Gordon, but mostly because she's among the first of Hitchcock's many magnetic blondes, her platinum ringlets whipping around her face like a Botticelli aboard the open deck of a Chinese junk near the film's conclusion.<br /><br />Matters conclude with a dangerous situation as set-piece for the protagonists to come to grips with, and presumably repair their relationship. Only they aren't active participants in the resolution, and except for the fate of a friendly cat, nothing about the ending resonates.<br /><br />At least you get some enjoyable views of London in the early 1930s, and a chance to see Hitchcock when he was still working for food. \\\"Rich And Strange\\\" is Hitchcock paying his dues, and learning his trade, one for scholars but not casual film goers.\"\n",
      "* * * * * * * * * \n",
      "14139\n",
      "How this piece of garbage was put to film is beyond me. The only actor who is at all known to me is Judge Reinhold, an accomplished actor whose presence is merely a justification for putting it into production.<br /><br />I don't even think it is worth a nomination for a rotten tomato award, this film really does make B movies a cinematic enjoyment. A car travelling along the freeway with police in tow, and no one knows how to stop the car, yeah, right.<br /><br />The script must have been written on the back of a cigarette carton. Most made for TV movies are awful but this redefines the word. Check out the acting skills of the bridge operator, pure Oscar material.\n",
      "* * * * * * * * * \n",
      "14142\n",
      "One of the most peculiar oft-used romance movie plots is this one: A seriously messed-up man falls in love with a terminally ill woman, who turns his life around before dying. Occasionally this story is done well and realistically (as in \\The Theory of Flight\\\", an excellent weepie), but more frequently it's done like it is here, where as usual the heroine dies of \\\"Old Movie Disease\\\". You know, the terminal illness that has no symptoms but one fainting spell and a need to lie down as you're telling your lover goodbye forever; and your looks aren't affected one bit (and since this is the 70's, neither is your sex life). This is one of the worst versions made of that particular story, where a very silly script puts two incompatible and unbelievable characters together, and they're played by actors who are completely at sea.<br /><br />This has got to be the worst performance of Al Pacino's career, and I say that after having seen \\\"The Devil's Advocate\\\" only two days ago! He plays a control-freak, emotionally constipated race-car driver, and plays an unlikeable character lifelessly. He seems to constantly be asking himself why he's staying around the grating Marthe Keller (so does the audience), and spends most of the movie just... standing there, usually with his mouth hanging open. The only time he shows any sign of life is towards the end, where his character proves that he's changed from uptight to liberated by doing a hilariously bad Mae West imitation. Hey, it *was* the seventies!<br /><br />Marthe Keller is equally terrible as the dying love interest; her character was conceived as bold and free and touching and uninhibited and full of life even though dying, and was probably meant to be played with an actress with the sensitivity of, say, Vanessa Redgrave or Julie Christie. Instead, they got the expressionless face and heavy German accent of Ms. Keller, who comes across as more of a scary Teutonic stereotype (\\\"You VILL eat ze omelet!\\\") than anything like lovable. She's supposed to be reforming Pacino and filling him with courage and spirit and all that, but it doesn't work that way, it's more like she's harping on his faults in the most obnoxious possible fashion. This makes for one of the least convincing romances in movie history, where you can't believe she'd be with someone she finds so worthless, and you can't believe he's with someone who gets on his nerves that much.<br /><br />Some bad-movie fans call this a cult classic, mostly because of Pacino's silly \\\"liberating\\\" Mae West imitation. The scene is a scream, especially in context, but not worth sitting through the rest of the film for. No, only see the film if you're a serious bad-movie aficionado who is especially interested in studying Extreme Lack of Chemistry between leading actors, or Very Bad Casting (not only are the leads terrible, but Pacino's other girlfriend is played by an actress who looks and sounds just likes Keller with shorter hair, I got them totally confused). This isn't one of those laugh-a-minute bad movies like \\\"The Conqueror\\\", it's just a really, really bad movie.<br /><br />\"\n",
      "* * * * * * * * * \n",
      "14147\n",
      "The movie and acting are not bad and Jay Hernandez does a good job playing Calito Brigante but the movie forgets it's suppose to be a prequel to a hit movie. The makers of this prequel clearly did not watch the original Carlito's Way or at least did not care about continuity. This movie is a prequel which means the original movie has already laid out some history for us and this movie should end where the original begins or at least lead up to it. Not one of Carlito's close old friends from the original make an appearance in this movie, they're not even mentioned. Luis Guzman, Pachanga in the original, is in the movie but he plays a completely different character. The original takes place in 1975 and the prequel takes place in 1969-70. Considering this movie takes place less than 5 years earlier, wouldn't you think one of Carlito's long time friends would make an appearance? In the original, Carlito start's out being released from jail after spending 5 years in jail. That's only a few month's between the end of the prequel and the start of the original! ***Semi Spoiler*** We know from the beginning of the original, Carlito has spent 5 years in prison so when the prequel gives us this Hollywood happy ending it's an insult to the intelligence of fans of the original. What happen to Gail? It's the lack of continuity that made this film go direct to video release.\n",
      "* * * * * * * * * \n",
      "14199\n",
      "From the start this film was awful! Why was it that bad?? If it isn't the naked women, not only in need of a decent plastic surgeon but also the expertise of a dentist followed by a free hand out of Colgate whitening!! Then it's the 'crazy' old guy at the gas station, who isn't so much crazy, but more \\I'm not sure how to act a great deal so I will stare straight ahead and look as stupid as I can while pretending to shout in robotic tones about something in the woods\\\"!! Then back to these naked nymphs in need of a cure for gingivitis.... apparently, without touching you...and this is according to the opening scene.... they can cause a nasty looking red rash on your neck, which I assumed to be a chunk of flesh missing but just looks as though it could do with some TCP to clear it right up. Then you have Sophie Holland who plays Ally, I have never seen such baaaaaad acting, she is more of a \\\"me me me, if I'm not having fun no-one else is, and I don't wanna do this so I won't, and I'm the meanest cow on the planet, I'm sarcastic, petty and if I don't get things my way I will sulk!\\\", kind of person.... reminds me more of a 6 yr old girl's attitude. I don't think it's even worth mentioning the dire camera angles that remind me of Blair Witch, or how low-budget the film actually was that when Judd was hacking at the 'locked' door it was in fact open before he reached to unlock it from the other side!! This film is completely laughable! If it were a spoof then it would have been successful...only just though, but, as a horror film is was just plain wrong!!! I can't even being to describe everything that went t!ts up in this movie I would run out of room! Although it was funny to watch Andrew drip raspberry juice in his ear every time he opened his mouth while Tom Savini's character was completely blind to the two hiding under the table directly in his line of vision!! It was even funnier when these two thought they could escape on a god damn tractor, which as we all know is thee number one hated vehicle to get stuck behind since its so god damn slow! So is it any wonder they don't get away with it?? And how many people do you know that can slice open their wrist and then run around for hours as if nothing ever happened! No pain, no weakening from blood loss, nothing!? But the silliest part is when all of a sudden (and i mean that literally) it's one YEAR later and Molly is still wandering the woods after having escaped the nymphs, and then lo and behold, Shaun Hutson picks her up...of course not without a line to promote his books!! (altho admittedly he is one of my fav authors) but suddenly, and with absolutely no hint of an xplanation as to how and why... she's evil herself and lures Hutson to his death, then we cut to the crazy dude from the beginning suddenly wandering round the woods with a petrol can, even after his 'dazzling' performance on why no-one should ever venture there for whatever reason...cue the nymphs stupidly slappin each other around a bit for fun while Crazy pours petrol everywhere....and here endeth the film....finally! My conclusion....if you hadn't already guessed by now....absolute rubbish! There was no proper thought went into it at all, whoever was aiming the camera needed firing...and come to think of it so did 99% of the cast! If the right director, actors, and budget got behind this it could have been decent. But, once again, low-budget English horror films but the rest of the genre, the country, and the English film-making industry to shame!! (And I'm English so I'm allowed to say that)! In fact the only decent and exciting part of the movie is in the first 15-20 mins when we watch it turn from night to day over a field type area. All I kept thinking throughout this was \\\"Jesus Christ in heaven why oh why did you allow someone to make this, its absolute cow's testicles!!\\\" But I can't turn a film off after I've started watching it unfortunately. I had to watch From Dusk Til Dawn afterwards just to remind myself that Tom Savini does have it in him to act well! If there was an option for 0/10 then believe me I woulda chose that, cuz this film isn't even worth the one point I did give it! <br /><br />But this is just my opinion, watch it and decide for yourself.\"\n",
      "* * * * * * * * * \n",
      "14268\n",
      "This movie \\Joshua\\\" is extremely disturbing, and downright pointless. It actually makes me shudder to think there are people who would enjoy watching it. Without giving away the story it is about a young boy's reaction to his newborn sister, and that is just the tip of the iceberg. During the entirety of this movie the viewer is subjected to some of the most unsettling child behavior imaginable. Adding insult to injury, by the end of this movie there is absolutely no real outcome except the fruition of pure evil at the hands of a child no less, who outsmarted a whole group of dumb adults. There is no redemption, no justice served, and a whole group of adults who are not smart enough to see what is going on around them. Frankly, I did not enjoy watching this movie. It was extremely unsettling. Even for those who might enjoy horror movies, this movie could be too much. Despite the fact this movie was well acted, the story itself is so disturbing that watching it was equivalent to a 90 minute wait in a dentist's waiting room in anticipation of some painful dental procedure.\"\n",
      "* * * * * * * * * \n",
      "14513\n",
      "It's common practice for a film about repression to be somewhat muted in style and tone. There's a difference, however, between using restraint and encouraging narcolepsy among audience members. In \\The Secret Lives of Dentists,\\\" starring Campbell Scott and Hope Davis, director Alan Rudolph plays as close to the vest as possible, with the result being a film that never amounts to much beyond a rumination on how teeth are a metaphor for married life.<br /><br />Scott gives a fine performance in the role of David Hurst, a dentist married to another dentist (Davis). Rudolph sets up the dynamic of their relationship quickly - he is completely absorbed in the day-to-day duties of being the parenthood, she is quietly disillusioned with their frantic family life - and then ratchets up the tension when Scott may or may not witness his wife with another man. From this point on, the film focuses on whether or not David is going to confront his wife Dana about her possible adultery, or whether she will beat him to the punch and leave for good. From time to time, David is treated to visits from an imaginary \\\"friend\\\" in the form of a former patient played by Denis Leary (borrowing heavily from Brad Pitt's Tyler Durden in \\\"Fight Club\\\").<br /><br />While there is enough uncertainty about Dana's infidelity and David's instability to warrant examination, the last two thirds of the film are embarrassingly empty of theme or narrative. Instead, Rudolph creates drama out of a nasty fever that travels slowly through the Hurst family, culminating in a pointless hospital visit at the film's climax. The film never picks up on the hints at what David is really capable of if he wasn't so dedicated to his family; neither does it spend much time looking at Dana's precarious balancing act between her family life and her other, more fulfilling ambitions.<br /><br />By choosing to spend the majority of the film worrying over a fever gone awry, Rudolph kills the momentum of his film. By the time the fifth member of the family shows up sweating and sickly, the film has used up all the good graces of Scott's well-measured performance. David and Dana end up retracing their steps over and over again until a less than cathartic finale. With nothing to build on over the last hour, the conclusion seems awkward and patched-on. \\\"The Secret Lives of Dentists\\\" takes a common theme and does nothing to improve upon it. Altogether, a disappointing, unimaginative film.\"\n",
      "* * * * * * * * * \n",
      "14558\n",
      "I usually enjoy Loretta Young's early movies: her acting back then was light and breezy, and she sure knew how to wear clothes. But this one is just a loser from the word go except for a funny supporting turn by Glenda Farrell. Young is a hatcheck girl who talks her writer-husband (Paul Lukas) into becoming a championship bridge player. It's not the most cinematic of games, and the long, talky middle part in which their marriage falls apart just about kills the film.<br /><br />There's one interesting bit though. As Lukas and Ferdinand Gottschalk start their climactic game, a series of quick shots show airplanes, trains, football games, even a diver in mid-air, freezing in anticipation of the event. It's the earliest use of a freeze frame I've seen in an American film. Wish the rest of it were that inventive-and funny.\n",
      "* * * * * * * * * \n"
     ]
    },
    {
     "name": "stdout",
     "output_type": "stream",
     "text": [
      "14839\n",
      "<br /><br />I recently viewed this atrocity in my film program, and I thought it was awful, as I said in my tagline, it was pretentious, trite, petty and phenomenally self-important.<br /><br />I consider myself a fan of film, and all the things that film has to offer. If I want to watch a documentary on the Cannes Festival, I will watch A&E....and they would probably be alot more objective about it.<br /><br />I dont recommend it, period.<br /><br />\n",
      "* * * * * * * * * \n",
      "14857\n",
      "RKS films always have been commercial films which suited the 90's, from GHAYAL, DAMINI<br /><br />His last few films KHAKEE were watchable FAMILY was crap<br /><br />This film is a decent film but could be better<br /><br />The problem lies in there is lot of old fashioned clichés thrown in and many scenes come out too filmy and lengthy<br /><br />Ajay Devgan's character is shown very well but his character gets heroic which could be subtle<br /><br />The lengthy flashback could be avoided as thigns are simply long drawn<br /><br />Even the street play in the second half look too simplistic and hardly a solution though the message is well brought out<br /><br />Direction by RKS is decent, though it could be better Music is okay<br /><br />Ajay Devgan looks the part very well and is at ease playing his part mostly though at times he does look ill at ease in light scenes He excels in dramatics Vidya excels in the scene front of media Pankaj has a not proper defined role and too filmy yet he excels in his part Darshan Jariwala hams as the old age villain the rest are okay\n",
      "* * * * * * * * * \n",
      "14916\n",
      "I must admit I burst out laughing when I saw one reviewer compare this to LOTR. Well yes, if you exclude the dwarfs, the cast of thousands, the great special effects, the big battles, the strong characterization, the decent plot, the good acting, the classy direction and everything else. Which leaves you with the walking. And boy, does this film do walking! If Mr Piano had his way, this would probably be an uninterrupted three hours of hardcore walking through the Wisconsin countryside, but every 40 minutes or so these pesky Martians pop up for a few seconds to interrupt him before he goes for another bit of a ramble. You've never seen so much walking in a movie. If this really had a $20m budget, most of it must have gone on Mr Piano's shoes, because he had to get through plenty of pairs with all the walking he does. Which explains why there's no money left for decent effects, a decent video camera or proper actors. Honestly, it's like watching some bizarre fetish video for people with a thing about going for long walks in period costumes. Even on fast-forward, this is a looonnnggg walk.<br /><br />As for the sci-fi stuff, I think it was a mistake to put Martians in the film: they only get in the way of the walking, which is clearly much more interesting to the director than the story.<br /><br />I wonder how much Mr Piano charges to walk dogs?\n",
      "* * * * * * * * * \n",
      "14954\n",
      "After the reasonably successful MASTI which was tad better Inder Kumar returned again with a comedy PYAARE MOHAN based on the Hollywood film SEE NO EVIL, HEAR NO EVIL <br /><br />The film reminds you of HUM HAI KAMAAL KE(1994) where Kader and Anupam play the blind and deaf<br /><br />This movie is a tedious exercise<br /><br />The film has jokes of such nonsense that you don't feel like laughing like Snehal Dabi's head getting stuck in the back of the horse and all those type comedies which we don't laugh at now but mock <br /><br />The film starts off in a clichéd manner and some scenes are funny sadly such moments don't last long as the story never moves in this half even the comedy gets boring The twist is well handled and the second half becomes an action film where the blind guy and the deaf go to rescue the heroines and we have all OTT chase scenes and fight scenes<br /><br />Direction by Inder Kumar is bad Music is okay, one song stands out I LOVE YOU MY ANGEL<br /><br />Vivek is awful in the comic scenes, his timing is very bad and is okay in serious scenes For some reason he keeps doing comedy and ruined his career Fardeen Khan is tad better but too wooden Amongst the rest Esha and Amrita are the heroines Boman Irani annoys here Snehal Dabbi is okay\n",
      "* * * * * * * * * \n",
      "15112\n",
      "The premise and subject about making a criminal realize what his victims went through by capturing his family hostage sounds promising and interesting. But this is the only interesting part which was also dealt 20 years ago with quite finesse by director Ravi Tandon in his film \\Jawab'(1985) too. The problem here is Ace Director Rajkumar Santoshi found himself in some sort of confusion as to whether to make it a fast paced action-thriller (viz. Khakee) or an emotions-rich heavy duty drama (Viz. Damini) and this confusion is quite evident in the final outcome. If we ignore two of his-Pukar (2000) and Lajja(2001), this brilliant director has always given us fairly engrossing films with high entertainment value. Therefore this film comes as a surprise, as to what made this script sensitive director going for half-baked characterization of both of his protagonists-Amitabh Bachchan and Aryeman. As the film is getting over, audience didn't know whom to hate and whom to sympathize with and this factor is the major limiting force in the complete narration. Therefore what starts as a war between a common man and an underworld don ends on a strange note of self-realization and regret by the Don about what went wrong with his own family. The revelation of Don's son as a real baddie does not come as a surprise element in the climax which if compared to similar situation in 'Khakee\\\" worked so effectively with Aishwarya's character. That is not all, there is more to it. The whole dramatization of life of an Underworld Don, operating from abroad looks quite illogical. His openly landing up at Mumbai from where he is suppose to be absconding as well as running after his enemies and shooting them himself does not look believable. Pitching a mediocre, newcomer actor like Aryeman opposite Mr. Bachchan is again not a good idea. But nonetheless film has some plus points. Ashok Mehta's fine camera-work, two good fight sequences (co-ordinator Abbas Ali Moughal), some light well-acted scenes of Akshay Kumar in the Ist half, Santoshi's fast-paced slick treatment and of course Mr. Bachchan as usual trying hard to put some life into his lifeless character. But all these put together does not make this viewing an exciting experience for you and your Family!\"\n",
      "* * * * * * * * * \n",
      "15182\n",
      "I came here for a review last night before deciding which TV movie to settle in front of, and those I found made this one look unmissable. How misled I feel!<br /><br />Firstly, it needs to be pointed out up front that this is very much a housewife's daytime movie. The performances are wooden, every sentence is an attempt at 'poignant' in the way that housewife's daytime movies and bad soap operas always are, and it is based in that predictable and well-trodden premise that men (particularly soldiers) are essentially violent and incompassionate. The whole movie is about the 'drama' apparent in the moments when the male characters threaten to develop a second dimension.<br /><br />If that sounds tolerable (or even enjoyable) to you, then be warned. Linda Hamilton's German accent, while quite good, is painfully distracting - as is her face, for some reason. The other performances are no doubt an enduring source of embarrassment to their perpetrators, with painfully thin and obvious characterizations being the order of the day. There are few surprises, but do watch for the 'Monty Pythonesque' endless supply of food and drink that miraculously appears from the hungry soldiers' knapsacks!<br /><br />I wasn't expecting action, but I had hoped for beautiful or textural or emotionally charged. What I got was a particularly bad Christmas 'feelgood' story that will have an intelligent audience cringing with the crapulence of it all.<br /><br />Watch it under the folowing circumstances: 1: There's nothing else on. 2: You are a fan of predictable 'housewife takes on men and wins' TV movies. 3: The only way you can appreciate a true story is when Hollywood turns it into a feature film. 4: You've imbibed enough nog that your emotions are easily stirred by unsophisticated storytelling.\n",
      "* * * * * * * * * \n",
      "15444\n",
      "This is indeed quite the strange movie... First, we have an ex-U.S.-gymnast trying to turn actor (or something), and this seems to be the only role he ever got (that I know of anyway) -- and for good reason. While he does pull off the role well enough to keep some interest, it is a rather bland and flat performance. Second, we have the WORST EVER sound effects ever used in a movie!!! I'm not kidding. This alone makes the movie extremely comical, but in that annoying way. hehe And third, while we have a generally decent acting supporting cast (including the required hot chick!), an actually not-so-bad story, and some cool visuals; the dialogue, fight scenes involving gymnastics (hilarious!), and overall execution of the plot are weak. This movie would have been barely better as a network TV movie (too bad Fox wasn't around in 1985). It's one of those movies that's simply bad, yet you can't resist watching and even enjoying it once you get used to it, especially now that it has found the perfect eternal home on late night TV and cable.\n",
      "* * * * * * * * * \n",
      "15567\n",
      "Vic (Richard Dreyfuss) is a mob boss, leaving a mental institution, back to his world of gangsters. How can a director have a cast with Richard Dreyfuss, Ellen Barkin, Jeff Goldblum, Diane Lane (very gorgeous), Gabriel Byrne, Gregory Hines, Kyle MacLachlan, Burt Reynolds, Billy Idol and a make such a waste of time? This movie is a comedy that is not funny, having a constellation in the cast. My vote is four.<br /><br />Title (Brazil):' Prazer em Matar-te!' ('Pleasure in Killing You!')<br /><br />\n",
      "* * * * * * * * * \n",
      "15590\n",
      "I wanted to vote zero or lower. I loved the commentary. It IS the worst movie ever made and 'unendurable' is the perfect word for it, unless there is something worse that Roget never thought of. I am also at a loss to think of anything negative enough to accurately describe Bo Derek. The best that could be said of her is, she's consistent.\n",
      "* * * * * * * * * \n",
      "15603\n",
      "Although the beginning suggests All Quiet on the Western Front, this silly and superficial version of war falls far astray of its much better contemporary. This depicts the funnest war ever fought, with the first hour and a half devoted to romance and good times.<br /><br />When we finally see some battle, it is lame: An enemy plane flies over? Shoot it down (in one shot). Sniper in the tree? Kill him before he gets a shot off. Enemy soldiers in the woods? Not to worry, they gladly surrender. Ho-hum.<br /><br />Tepid, turgid, predictable...<br /><br />\n",
      "* * * * * * * * * \n",
      "15748\n",
      "Many days after seeing Conceiving Ada, I am still in awe that any group of people would spend so much time to make such an atrocious film.<br /><br />No one ought see this film in hopes of learning anything of consequence about Ada Lovelock, her colleagues or the product of her endeavors.<br /><br />Likewise, no one ought to see this film in hopes of being entertained.<br /><br />As a sci-fi film, this would unquestionably be a horrendous failure. Somehow, the main character manages to bring the past to life and interact with it on her personal computer--with the advice and encouraging words of Timothy Leary. I doubt anyone could suspend their disbelief enough to keep this from seeming absolutely absurd.<br /><br />As a drama film, this would unquestionably be a horrendous failure. Somehow, the writer/director manages to fill eighty-five minutes with constant, unnecessary, annoying and trivial drama over essentially nothing. I doubt that anyone could feel that all the drama in the film serves only as an irritating distraction.<br /><br />I find it difficult to fully express my degree of contempt for Conceiving Ada. The circumstances under which I saw it forbid me from leaving the theater but there is no question that I would have otherwise. I am still angry that I wasted the time that it took to see it. Only that I might more effectively criticize this movie, I wish that I were more articulate.\n",
      "* * * * * * * * * \n",
      "15846\n",
      "It really is that bad of a movie. My buddy rented it because he, well, is an idiot. But then again, I must be an idiot too because I watched the whole damn thing! The actors were on par with high school drama geeks who think that are going places. The only place they will be going is back to waiting tables at Luby's. All I could think of while I was watching this \\gem\\\" was how it actually got made. I mean, some \\\"screenwriter\\\" actually thought that this premise was fresh, original and lucrative. Then some moron with money believed in the script so much that he decided to fork some cash over with the naive misconception that he was going to make a return on it. Actors were cast, locations were scouted, make-up artists were hired, computer animators fresh out of Al Collins graphic Design School were brought in and this turd started to take form.<br /><br />There obviously were a ton of things that I hated about this move but the one thing the drove me the craziest was the overuse of music. Every single minute of this flick was scored. There was not a single break in music. And at times it was mixed higher than the dialogue, not that it made you miss some vital plot point or anything.<br /><br />After it was over, we decided to watch Mystic River. It was like driving a 1980 VW Diesel Rabbit then switching to a BMW 740il. You couldn't get two more opposite movies in terms of quality.\"\n",
      "* * * * * * * * * \n",
      "15915\n",
      "MY EYES! IN THE NAME OF GOD AND ALL THAT IS HOLY MAKE ME UNSEE THIS MOVIE! what drugs are you people on! this could very well be the worst movie ever! i felt like i was on a bad acid trip the whole time, i need to call a therapist to help me deal with the trauma of this epic disaster. From start to finish glow ropes is an unholy masterpiece of satanic cinema. when i thought to watch this movie with my Jewish best friend and his family we thought \\oh hey, this may be funny! it will probably be bad but still a little funny\\\" how wrong we were, we were not prepared for how awful this movie could be. All of my friends lined up for lobotomies as soon as the film was over, and during the course of the movie, one of my friends attempted to hang himself with his belt while another tried to slit his wrists with a wooden spoon. I wish I had watched the video from The Ring instead, that way the pain and suffering would be over in only seven short days. For all who wish to see this movie, YOU ARE NOT PREPARED! you may think you are some sort of \\\"tough guy\\\" by renting this but this movie will break you, push you to the ground and urinate on you.\"\n",
      "* * * * * * * * * \n",
      "15966\n",
      "i was given the book version of Kazaam for my 8th birthday, and people always say the book versions are always better than the movie, but this time they were wrong. At least with the movie it's over soon.<br /><br />The acting in this is terrible, which i expected from a film with Shaq who plays a magical rapping genie that comes out of an old ghetto blaster (which there was probably a good reason he was trapped in there). The kid in the film that plays Max is whiny and a terrible actor. He's bullied by neighborhood kids, which i don't blame them because he's a little douche bag.<br /><br />The story is just plain stupid and extremely cliché. About a boy who's father is always working and never around who finds a new friend who makes his life better and eventually helps him reconnect with his father.<br /><br />Even at 8 years old i thought this was a stupid idea. It's a surprise any of the people whom worked on this film had careers after wards because it's an embarrassment and should have never been made. i could ramble on even more about how this movie sucks, but you should already know just by reading the plot.\n",
      "* * * * * * * * * \n",
      "16077\n",
      "I did not expect a lot from this movie, after the terrible \\Life is a Miracle\\\". It turns out that this movie is ten times worse than \\\"Life ...\\\". I have impression that director/writer is just joking with the audience: \\\" let me see how much emptiness can you (audience) sustain\\\". Dialogues are empty, ... scenario is minimalistic. In few moments, photography is really nice. Few sarcastic lines are semi-funny, but it is hard to genuinely laugh during this \\\"comedy\\\". I've laughed to myself for being able to watch the movie until the end. If you can lift yourself above this director's fiasco, ... you will find good acting of few legends (Miki Manojlovic, Aleksandar Bercek), and very good performance of Emir's son Stribor Kusturica.<br /><br />In short: too bad for such a great director ! Emir Kusturica is still young and should be making top-rated movies. Instead, he chooses to do this low-budget just-for-my-private theater movie, with arrogant attitude toward the world trends and negligence toward his old fans.\"\n",
      "* * * * * * * * * \n",
      "16184\n",
      "Prior to this film, I had only seen two films by director Andrea Bianchi: the trashy zombie flick Le Notti del Terrore (1981), famous amongst horror fans for its unforgettable performance from man-child Peter Bark, and the enjoyably sleazy giallo Strip Nude For Your Killer. Neither film was a particularly spectacular piece of cinema, but both were entertaining in their own special way (and the fact that they featured plenty of gore and nudity didn't hurt). Massacre, however, is dull, dull, dull, despite quite a bit of splatter and the odd spot of gratuitous bare flesh.<br /><br />The story, about a series of murders in a hotel where the cast and crew of a horror film are residing during their shoot, is confusing and oh-so boring: when the blood isn't flowing and the skin isn't on show, the film is a real struggle to sit through (it took me four attempts to finish), with endless scenes of unlikeable characters bickering among themselves and doing very little of note.<br /><br />The only point of interest about the film is that its producer, Lucio Fulci, used several of its death scenes to pad out his mega-gory movie Cat In The Brain (AKA Nightmare Concert). And if you've already seen that film, then there is very little reason to bother with Massacre.\n",
      "* * * * * * * * * \n",
      "16212\n",
      "Uh oh! Another gay film. This time it's showing the black side. Bet your last dollar it's gonna have an unhappy ending! But WHY? With only less than a half dozen exceptions, ALL gay films have to end in death or an \\addio\\\" finale. It's like all the European Film Noir releases in the 40's, 50's, 60's, and 70's. The lead...male or female must die or ride off alone into oblivion. Why in God's name must writers, directors, and producers have the audience leave the theatre feeling depressed? After all, it's supposed to be gay...not glum. Maybe the category should be changed to a 'glum' film. A large percentage of gay relationships DO last and the couples DO ride off together into the sunset! No matter who writes or produces, he only shows the down side of gay life and gives the incorrect impression of gay lifestyle. This movie just proves my point. If you rent the DVD, take an antidepressant, for here comes another 'gay' film! This is WRONG!\"\n",
      "* * * * * * * * * \n",
      "16310\n",
      "I have an awful pan-and-scan videotape of \\Boom!\\\", and I want to see it in all its widescreen glory. So I voted \\\"1\\\" and hope you will too. Together, we can pull this movie down into the pits of cinematic dross, and hope that someone will see an opportunity for BIG MONEY in releasing \\\"Boom!\\\" in its Director's Cut Extended Version. The movie is one of my howling favorites",
      "you just look at the people involved, the director, the actors, the cameraman, and you say to yourself, \\\"Yep, I guess you can fool some of the people for a lot of time.\\\" Producers considering the DVD release of \\\"Boom!\\\" should note that, everywhere it's been shown, there have been sellout crowds in the theaters. But it hasn't been up to Frostbite Falls yet.\"\n",
      "* * * * * * * * * \n",
      "16346\n",
      "I haven't seen anything this bad since I walked out of the James Bond movie \\Moonraker\\\" twenty years ago. I managed to sit through the entirety of this one only because of Tilda Swinton, but there was nothing she could do to save this beast.<br /><br />As a cross between \\\"Pi\\\", \\\"Orlando\\\", and \\\"Tron\\\", this movie failed miserably in every aspect of moviemaking. The characters were cardboard and unable to evoke any kind of sympathy. The plot was wholly unbelievable. The acting was, with the exception of Swinton, amateur. The computer graphics were worse than in \\\"Tron.\\\" Timothy Leary was extremely annoying. I could go on, but what's the point.<br /><br />The only good thing I can say about this film is that Tilda Swinton was in it. I have no idea why an actress of her caliber consented to appear in such a dud, but she most likely regrets it now.<br /><br />Don't waste your money or your time on this stinker. There's nothing worth seeing here.\"\n",
      "* * * * * * * * * \n",
      "16483\n",
      "How a director of Altman's experience could ever expect us to want to spend time with, or to care about what happens to, a lead character who is neurotic, a whiner, a jerk with no redeeming qualities -- that is the central puzzle about this profoundly confused piece of work. A monstrous piece of trash. In addition to this crippling flaw, the plot line requires serious concentration to follow. The setup that the Branagh character walks into is so obviously a setup from the start that we are inclined to wonder whether the writer and director have totally lost respect for their audience. This latter issue is at the core of the film: it represents directorial self-indulgence with profound contempt for the taste, values, and intelligence of the viewer. Very unusual for Mr. Altman.<br /><br />Patrick Watson\n",
      "* * * * * * * * * \n",
      "16538\n",
      "From the first time I saw the box cover of the movie and the stretched out photography I thought this guy, this friend of the 'Scwarz' must be like 6 foot or 6ft 2in. <br /><br />Not 5 feet tall. Not that, it's his fault. <br /><br />At any rating, I turned on the movie one cool night in Tucson, out on the second story-deck with a good cigar and let it roll. At that time my wife was having an affair and things were going down hill for me, so I needed a good diversion. But, as bad as the movie was...I totally enjoyed it, with a bottle of Merlot too, I might admit. <br /><br />Truly, I have watched this movie many times. It always makes me feel good!! It's not that it 'tries too hard' to be cool or that 'It's so close' to hitting the mark for an action film....It's frantic. And then truly clueless. Then frantic again. It's the best of the best when it comes to a slow speed chase scene. Wow!! I never felt safer in my life. Warm and happy too. I was thankful that they conserved on the gasoline during the chase, due to less production in the summer months...anywho <br /><br />The direction was 'uninspired' the action and fight sequences needed to be choreographed, or re-choreographed and tightened up, the sound was off the delivery didn't hit you, it just kept on going, the other way. The 'locals' of that village that they were in, the town rather, were 'Off cue' they also did not seem to follow what was happening very well, the would look and even 'stare' into the camera lens. Like a deer in the head lights kind of thing only some of them with a smile, a smiling deer. <br /><br />I feel bad because 'Columbu' I just bet has a good heart and a caring spirit for people in America as well as for his own countrymen. <br /><br />However \\Baretta's Island\\\" is very lethargic and unbelievable. Even still I like it a lot. My now x-wife hates it, but I love it! <br /><br />The funny thing is, I am pretty discriminating when it comes to movies I like or even 'love'. All in all, I like Franco. So there it is. <br /><br />As a movie adding addendum to this if you like killing a few hours with truly fun to watch, straight to video-B movies or 'bad' movies for your little library collection then, if you can find it, check out 'The Big Sweat' (1991) with Robert Z' Dar..you know the big guy from 'TANGO & CASH'. 'The Big Sweat', a bomb of a cop story with no real plot discovery and acting that is so lame, it might as well be 'on crutches' and at the end of 'The Big Sweat' I think they ran out of money, because they had a picture of the cast and just set it on fire and let it burn during the credits. -Good fun. <br /><br />But all in all, not as good as Baretta's Island', I gave it a '1' and an overall rating of 'awful' for awful-good B' movie. I'm waiting for the sequel, maybe like 'Baretta's revenge on Montazuma' (Franco takes a Mexican vacation and gets sick on the water then, declares war on the water co.) or 'Baretta's powder war' where as he would stake out a large drug lord in his country and chemically gene-splice and create a hybrid super bug (insect) that would be bred and dropped into the cocaine fields and eat the coke and upon passing it through the bug, it forms a chemical reaction that turns the coke to pure powdered sugar. Then another sequel he would have to get the young people rescued from excessive sugar addiction and so on. He could get a major tooth paste company to endorse and partially fund the project with careful product placement in the feature. Right?(*)\"\n",
      "* * * * * * * * * \n",
      "16818\n",
      "I love Alec Guinness. And that's saying a lot after this film. Actually, he is not bad in it. He just seems to stand aside, be urbane and his usual delightful self, but invest nada. It is obvious the girl he is matched with is a featherweight, even as an inexperienced young French girl. Sir Alec wouldn't have chosen her when he was young and very obviously isn't too happy about it now.<br /><br />The interesting character is the brooding brother of the odd \\Suzanne\\\", another twit. \\\"Donald\\\" aspires to be a French Heathcliffe and I waited in vain for the source of his mystery. What deep dark secret was he hiding behind that forehead? Was he in love with the father's mistress? Why did he jerk Suzanne's hair when she plotted to bring the disparate parts of this turkey together on the country estate? Or perhaps he had simply had enough of her obnoxious acting.<br /><br />The film would have been charming with Guiness and the \\\"older woman\\\" reminiscing and seeing Paris together. THAT would have been a great story! Two lovely experienced people in a beautiful city after the destruction of World War II. Why didn't somebody come up with that? I suggest watching Alec Guiness in \\\"The Card\\\", a little known but worthwhile film.\"\n",
      "* * * * * * * * * \n",
      "16855\n",
      "It seems to me, as a recent film school graduate, that in these times of New Zealand film reaching new heights, the general public seems to think every New Zealand film made is great. Sione's Wedding proves this is dead wrong.<br /><br />It's completely overrated and not funny, and far from the 'hilarious' film other users of IMDb have commented. The only really funny thing I found in this film was Derek the wannabe black guy, but other than that the jokes were recycled crap that we'd all heard before.<br /><br />Being of half-Samoan decent, I wanted to see how the film was going to deal with Polynesian representation. It was a complete balls-up - I know it's a supposed comedy, but I didn't feel like the characters had anything new to say about Polynesian identity, even if it was in a tongue-in-cheek manner. I was most disappointed with the ending of the film and the resolution of the character's relationships - Mikaele was the player who only messed around with white women, comes to slightly turn his ways when the 'Dusky Maiden' comes to town, has an epiphany that maybe he should start looking for a stable relationship, then at the very last minute rejects it and accepts his position as a Polynesian Playboy for palagi women. I didn't understand why they did this.<br /><br />All in all, it was very disappointing. My whole family went to see it expecting to have a good laugh, but ended up being really bitter about paying to see it at the cinema. The jokes are lame at best, the acting, particularly of Sefa's girlfriend, APPALLING, and honestly I would've been happy if I had got my hands on one of those pirated copies of the film to save myself the $15 ticket price.<br /><br />I think the only good thing to come from the movie is that it's the second step (behind No. 2, of course, a far superior film to this one) in the birth of Polynesian cinema. I hope Pacific filmmakers in the future can learn from Sione's Wedding in how to NOT reflect Polynesia and have something more meaningful and sensible to say. Even if it is done in a comedic fashion.\n",
      "* * * * * * * * * \n",
      "16912\n",
      "Channel surfing and caught this on LOGO. It was one of those \\I have to watch this because it's so horribly bad\\\" moments, like Roadhouse without the joy. The writing is atrocious; completely inane and the acting is throw-up-in-your-mouth bad.<br /><br />There's low budget and then there is the abyss which is where this epic should be tossed and never seen from again. I mean, the main characters go to a ski retreat in some rented house and the house is, well, ordinary which is no big deal, but they choose to show all the houseguests pouring over it like it was the Sistine Chapel. I'm sorry but watching 6 guys stare into every 10'x10' boring room with a futon in it and gushing is lame. I guess they didn't learn anything from the Bad News Bears in Breaking Training (see hotel room check scene)...wow a toilet !!! yaayyyyy !!!! I don't buy the its all over the top so anything goes routine. If it smells like...and it looks like...well, you know the rest.<br /><br />Avoid like the plague.<br /><br />edit: Apparently other more close minded reviewers believe that since I disliked this movie, I am an \\\"obvious hater\\\" which I can only assume means I am phobic, which of course is not true. I decided to do this wacky, crazy thing and judge the movie based on the actual content of the film and not by its mere presence (i.e. its refreshing to see...)<br /><br />Sure, it may be refreshing to see but that doesn't equate into a great movie, just give them some better material to work with and tighter direction. In fact, I applaud the effort. Frankly, I'd rather go listen to my Kitchens of Distinction catalogue than watch this again.\"\n",
      "* * * * * * * * * \n",
      "16985\n",
      "i searched video store everywhere to find this movie, being the huge elvis fan that i am, and i found it to be a huge disappointment. kurt russel had most of the \\elvis moves\\\" down and the voice imitation was great, but the dubbed in singing voice of elvis just didnt work for me. the voice didnt always match up with russels mouth, and it was hard for me to get lost in the plot because it bothered me that it was noticeable. also, there were so many freaking discrepancies in the film, people who dont know much about elvis would probably think them to be facts. songs are sung by him earlier than he recorded them in real life, the time when he got his first guitar is wrong, im pretty sure his brother jesse garron was buried in an unmarked grave, not one with a huge headstone reading JESSE GARRON. i know it was just a tv movie, but they skipped over important events, like the come-back-special, and dragged some scenes out for way too long. if you want to see a good movie that shows elvis in his prime rent THATS THE WAY IT IS, or another elvis concert. hearing and seeing the real elvis preform is the only way to truly see his talent. (brilliant statement i know, but still...go out and rent a good elvis flic.)\"\n",
      "* * * * * * * * * \n",
      "17096\n",
      "I had high expectations for this indie having perused the many thumbs up reviews. Then....<br /><br />Here's my additional 'two cents' to the already posted, excellent 'lost in translation' review. Premise: Morgan is 'stuck' in a dusty small town where he meets lovely Scarlet who is working in the local supermarket. Can Morgan help elevate the lovely Scarlet from her trailer trash life?<br /><br />Realistic dialog? NOT. How about that shopping in Target. First, Freeman looks at the Target interior as if he's walked into Harrods. Then, he's bowled over at a T-shirt rack confirming he has NEVER been in any store visited by lovely Scarlet. Morgan is detached from any and all aspects of Scarlet's reality and is portrayed as gleeful in his ignorance of everyone and everything in Scarlet's life.<br /><br />One reviewer enjoyed the Scarlet and ex-hubby fight scene where her survival, a car in this instance, requires she physically attack her ex hubbie. Does Freeman run to her defense....naw...he's cowering in disbelief and totally incapable of dealing with such a blunt aspect of her very real, sorry lot in life. <br /><br />Freeman's character believes a car wash and new very revealing, tight fitting blouse is the key to Scarlet's job interview. Another sign that Freeman is CLUELESS. Freeman's endless 'stage talk' where all aspects of Scarlet's reality are reduced to one or another stage related Freeman experience was irritating. <br /><br />Freeman is right to emphasize that Scarlet is young with her future ahead of her and then conveniently ignores the brick walls she faces vis a vis: uneducated, no white collar skills or experience, VERY POOR, no family support and a lifetime of low self esteem. Scarlet learns such life lessons from Freeman as: some people pay $100 for a T-shirt and a revealing blouse may open doors in lieu of her lack of education and white collar job skills. In the end Freeman offers Scarlet little more than strange diversion with a 'star',not even paying for gas for Scarlet's dead of night return to her unchanged life in a town the name of which Freeman cares not to know.\n",
      "* * * * * * * * * \n",
      "17111\n",
      "I saw the capsule comment said \\great acting.\\\" In my opinion, these are two great actors giving horrible performances, and with zero chemistry with one another, for a great director in his all-time worst effort. Robert De Niro has to be the most ingenious and insightful illiterate of all time. Jane Fonda's performance uncomfortably drifts all over the map as she clearly has no handle on this character, mostly because the character is so poorly written. Molasses-like would be too swift an adjective for this film's excruciating pacing. Although the film's intent is to be an uplifting story of curing illiteracy, watching it is a true \\\"bummer.\\\" I give it 1 out of 10, truly one of the worst 20 movies for its budget level that I have ever seen.\"\n",
      "* * * * * * * * * \n",
      "17137\n",
      "I dont know about you, but I've always felt drawn to 'ART' cinema. The first 'art' film I managed to get a hold of was Peter Greenaway's \\The Cook, The Thief, His Wife and Her Lover\\\", which blew my mind and creative spiret into overdrive. The film was the ultimate paradox, both beautiful and grotesque...this is what 'art cinema' was about, exploring intellectual ideas and bringing the visceral to the screen with purpose. Life, real life, can be like living in a madhouse, and art expressed shows it for what it is. I love movies of all types, but especially those that both entertain and have something to say, whether I agree with it's stance or no...<br /><br />\\\"8 1/2 WOMEN\\\", is a dry, clinical 'comedy' where a father and son gather a harem to fufill their many sexual fantasies. There is only a very brief allusion to Fellini in the film, unlike what the previews have suggested. The main focus of the film falls on the 'close' relationship between father and son, brought together after the mothers' death. In the early scenes of the film the fathers' sadness is believable, you can feel his pain. What happens afterwards is plain by Greenaway standards, the gathering of the harem, observations on love and death, and flesh displayed for the sake of flesh...One could argue this, but I feel the movie to be shallow and pointless. And the idea that this could be a comedy is perplexing to me. The acting for the most part if fine,...especially good are Polly Walker and Amanda Plummer(though poor Mandy should put her clothes back on) What the film lacks is a compelling story, and the usual Greenaway touches of excess that made his other films so wonderful to watch. <br /><br />While filled with moments of insight, and the occasional taboo, \\\"8 1/2 Women\\\" is too cut and paste to be considered art, too bland to considered 'funny', and simply too dull to be considered worthwhile.<br /><br />Save your money...I can only recommend this film as a sleeping aid.<br /><br />4 out of 10\"\n",
      "* * * * * * * * * \n",
      "17138\n",
      "Five-year-old Michael sees his mother getting axed to death by his serial killer father \\The Highwayman,\\\" who later commits suicide. \\\"20 years later\\\" grown Mike (Gordon Currie, from PUPPET MASTER 4 and 5) invites seven of his friends to his secluded grandparents home to \\\"master their own fears\\\" at a Halloween night costume party. Morty, a life-size wooden doll kept in the attic by the Indian handyman, becomes possessed by the dead father's spirit and kills them off using their phobias. Characters are thrown out a window, drowned in a toilet, eaten by rats, blown up, etc. Morty morphs into the dad and a tree, walks around and makes stupid wisecracks. After finding a girl chopped up and stuffed in a cardboard box, the characters remain in the house, act cheerful, crack jokes and have sex.<br /><br />The Morty design is good and Betsy Palmer (Mrs. Voorhees from the original Friday THE 13TH) is surprisingly delightful as the grandmother, but this thing is even more senseless and confusing than the original and is full of false scares, bad acting, brain-dead characters, repeat flashback footage and annoying distorted camera-work. Plus the only two minority characters (the Indian and a half-black girl) are the first to die. BLAH!\"\n",
      "* * * * * * * * * \n",
      "17161\n",
      "What a stinkeroo this turned out to be!!! At one time, much earlier in her career, Linda Darnell was one of my favorites - no great shakes as an Actress, but very beautiful and pleasant (particularly in films like \\The Mark of Zorro\\\" and \\\"Blood and Sand\\\") but when I saw this monstrosity, the memories of her golden days faded quickly. The story is unbelievable and farcical, the acting second-rate, the supporting cast insufferable. I cannot think of a more immature performance by anyone when compared to Tab Hunter, and Donald Gray had to be the most boring leading man they could have picked. Added to this, was the terrible photography (and I am not just referring to the color!) Everyone associated with this, must have shuddered whenever it was shown.\"\n",
      "* * * * * * * * * \n",
      "17577\n",
      "The premise of Cabin Fever starts like it MIGHT have something to offer. A group of college teens after finals (in the fall?) goes to a resort cabin in the woods where one by one they are attacked by an unseen flesh eating virus.<br /><br />Unfortunately, the first paragraph is where any remote elements of film quality stop. Cabin Fever is little more than college kids looking for sex, booze, talking non-stop about nothing, and seeing how many F-bombs they can get into 1:40 minutes or however long this mess is.<br /><br />The kids act and react stupidly to everything around them. One of them for instance discovers that the skin virus has infected her legs, so what does she do? She keeps shaving her legs failing to take proper medical attention for her wounds. The scene is little more than a gross out. In another scene, Rider Strong from \\Boy Meets World\\\" gets bitten on the hand by some kid who only says \\\"Pancakes\\\" and likes to do karate kicks on those who sit next to him. If you can figure out the reason for why the \\\"Pancakes\\\" kid was included, I'd love to know. Anyway, Rider pets a wild dog and goes off to wash his bitten hand in a most likely contaminated creek. Another kid likes to drop F-bombs in reacting to everything around him and shoot squirrels. Why? Your guess is as good as mine!<br /><br />Rider Strong is the ONLY kid with any recognition in this movie. He tries to calm people down in-between the yelling and screaming and F*** Y**! bombs that people are throwing around. When the kids aren't yelling, they are having or talking about sex or talking nonsense to the other adult characters who are EVEN MORE (if that is possible)idiotic than the kids! The idiot cop with an IQ of 60 at best may be one of the WORST acting jobs I have ever seen in a movie. You talk about people not playing with a full deck, this dork doesn't even know how to find the cards! LOL! I was like, \\\"Will you PLEASE shut up already?!\\\" He makes the kid actors look like geniuses! The only part that I sort of liked was Rider's scary story (although gory) about the deranged bowling alley guy. In interviews, Rider said that he had a great deal of respect for director Eli Roth. But the problem is that Mr. Roth appears to be going for little more than shock and gore. There are far too many bad things about this movie for Mr. Roth to get any credit. I wish I could agree with Rider and find something likable about this movie. Maybe the fall scenery in the beginning? Actually, Rider Strong JUST saves this movie from being a 1! Hopefully, he was compensated for this junk!\"\n",
      "* * * * * * * * * \n",
      "17593\n",
      "At what point exactly does a good movie go bad? When does a movie go from \\watchable\\\" to \\\"where's that &^@_+#!* OFF switch\\\"? Thank goodness for DVDs, like this one, that can be borrowed from the library - for free! Likewise, thank goodness for the \\\"fast forward\\\" switch on the DVD player. I feel sorry for those people who were duped at the box office.<br /><br />At one point (I've forgotten exactly when because now it's all just a blur), our \\\"hero,\\\" Luke Wilson starts running through traffic; I think he was looking for a cab. It was at that point when I gave up, realizing I couldn't care whether he found his ride or got run over by a garbage truck.<br /><br />The last time the movie was interesting was when Luke Wilson climbs out of the dumpster, hair dryer in hand, and first meets the \\\"heroine,\\\" Uma Thurman. That scene ended with the purse-snatching criminal dangling helplessly from the fire escape far, far above the departing Luke and Uma. That was the last time the movie was funny, and when was that scene? Ten minutes into the flick?<br /><br />Every time the movie tried to become \\\"funny,\\\" it couldn't. Every time the movie approached \\\"excitement,\\\" it fizzled out, heading in the opposite direction. When a musical score might have helped squeeze life out of this dullard, the sound track stayed empty and silent.<br /><br />The sex scenes were not needed and were beyond lame; the damage to sets and props unnecessary and childish. When Uma turns into the crazy ex-girlfriend, I felt like I was watching \\\"The 40 Year Old Virgin Meets Pulp Fiction\\\"; that's when I realized that there was no turning back because I thoroughly disliked \\\"The 40 Year Old Virgin\\\" and \\\"Pulp Fiction.\\\"<br /><br />Luke Wilson's sidekick, Rainn Wilson (also seen in the dreary \\\"The Last Mimzy\\\") adds nothing but insult to injury in this awful movie. Rainn Wilson, the King of Television Boredom, should stay with that equally awful medium. Hey, Rainn Wilson! Leave full-length motion pictures alone! Every time Uma's rival, Anna Faris, came on screen, I expected Jason or Freddy or some fright flick monster to jump out from behind the scenery; once you see Anna Faris in \\\"Scary Movie,\\\" that's all you ever see, no matter the movie, no matter the medium. The character played by Wanda Sykes was just plain awful and was so out of place in this flick.\"\n",
      "* * * * * * * * * \n",
      "17852\n",
      "The King Maker is a film about a series of real (citation needed) events that occurred during the Portuguese Occupation in Indochina.<br /><br />Although the costumes and art direction are commendable, the movie still fails to impress the viewer. The acting, in particular, was extremely poor. Some of the actors are trying hard to let tears down and the accents, both real and fake, are extremely irritating. The storyline was also too dumb and too stupid to be true and it seemed more like a history lesson. The movie couldn't even capture that sort of regal and century-old air and it looked more like a botched attempt to make an Asian version of Elizabeth.<br /><br />Final say? Costumes and art direction give the film a breath of fresh air, but the execution was extremely poor and the actors couldn't even give natural bursts of emotion. In short, the movie sounded more like hullabaloo than a script.\n",
      "* * * * * * * * * \n",
      "17862\n",
      "In fact, it never was. I'm not sure why Billy Crystal wanted to recreate a 1940s screwball comedy. What a vacuous shambles! None of these people come close to a Cary Grant, Spencer Tracy, Katherine Hepburn, etc, and anyway, today's audience isn't as receptive to this facile muck. Writing is trivial. The hackneyed plot is razor thin and obvious. The chemistry between the leading characters is non-existent. It's interesting that Julia Roberts seems to think she's a reincarnation of some big star from the \\golden age of Hollywood\\\", whenever that may be. It's an effect she tries and fails to attain yet again with Richard Gere in Runaway Bride.\"\n",
      "* * * * * * * * * \n",
      "17899\n",
      "...but the actress playing the daughter just doesn't come across as credible.<br /><br />It doesn't work for me when I see an actress of about 25 years playing the role of a 12-year-old... Other commentators have suggested that this is one of the messages of this film, that children may sometimes seem more adult-like than adults, but with the casting as it is in this film, it just doesn't work for me.<br /><br />you might want to check other comments to find out what this film is actually about, because i couldn't bear watching it to the end.<br /><br />i agree that the premise for this film is beautiful though - I wish another director would try to pick up this story again.\n",
      "* * * * * * * * * \n",
      "17918\n",
      "The film gives a rather condensed version of what is contained in the book, which as far as I can tell by doing some research and investigative fact checking is largely a work of fiction. In reality, there are no ancient scrolls and if the author was hard pressed I'm sure he'd have to admit he's never laid eyes on any scrolls in ancient Aramaic found in Peru. These \\valuable\\\" texts written as usual by anonymous, were destroyed by the evil \\\"truth haters\\\" in the church and in the local government. That's rather strange, as all kinds of New Age crap comes out each year---hundreds of books, dozens of movies--and the Roman Catholic church doesn't seem to me to be hell bent on destroying the movement which it probably views as I do, a total crock of doody. I'm no fan of the church, mind you, but at least the ancient texts which they base their faith on are real.<br /><br />It's a typical pattern of scam artists and religious hucksters to claim to have seen or translated ancient documents which unfortunately got destroyed by \\\"evil\\\" men or in Joseph Smith's case, got taken back to Heaven once translated. Therefore, the actual texts cannot be found in any museums like the Smithsonian, nor the translations checked by specialists in ancient languages like Coptic or Aramaic. It's a scam. In one sense, I admire anybody smart enough to come up with a great idea and make millions off it, but I couldn't do it myself, as I've no desire to mislead the public with more New Agey hokum.<br /><br />Occasionally, a genuine ancient text does get found hidden away and lost for years. The Gospel of Judas, a Gnostic text, was discovered and after carbon dating and diligent study of the text, deemed authentic by experts. The Gospel of Judas was referenced as heretical around 300 C.E.. No church documents from that time mention any Celestine Prophecies as authentic, heretical or anything else.<br /><br />We are evolving towards something--that much is true---but the optimism in the Celestine Prophecy is based on nothing but fiction and lies, and a philosophy built on a foundation of lies, like a castle built on sand will collapse. The harsh, ugly, overpopulated, cruel world of Blade Runner is more likely what it'll be like over the Horizon, than some Utopian Hippie Commune where all is love and peace! I tell people the truth and they hate me, but tell them what they want to hear, even if pure piffle, and one can make millions. The Celestine Prophecy is what the world wants to hear. Too bad it is a castle built on sand. Don't get me wrong. I wish to God, the Celestine Vision was reality, only it's not. No ancient philosophy at any time expressed ideas given in the Insights with the modern concept of spiritual evolution going hand in hand with biological evolution. These New Agey ideas did not exist in the ancient world and did not exist until Darwininan Evolution became well-known. That means the ideas in the Celestine Prophecies cannot be older than the 1800s C.E, and do not go back to the early B.C.E period or near the time of Jesus of Nazareth. This type of claim by New Agers is not at all unusual. Wiccans claim their brand of magic and witchcraft -- the \\\"old religion\\\" goes back to the stone age, when in reality no Book of Shadows has ever been known to exist prior to Gerald Gardner who lived in the 1900s and was the buddy of Aleister Crowley.<br /><br />New Age gurus tell lies and claim their ideas are based on ancient teachings, when the ancients would thumb their noses at such absurdities that are preached by Gurus today. Why do they do what they do, perpetrate such fraud? Simple: there are millions of dollars to be made, and the modern Guru acquires power over his or her followers. They compete fiercely and have a strong hatred for their competition despite their claims of love for all things. Each New Age group bitter opposes the others. It's a struggle for your minds and your wallets.<br /><br />But learn one thing from me, that is actually similar to one of the insights, learn to follow your own instincts and look for guidance from within. That I can agree with wholeheartedly.\"\n",
      "* * * * * * * * * \n",
      "17921\n",
      "The directors cut version, which was the one I saw, was very long for this type of movie. Almost two hours is way too long. If you have the choice, definitely go for the non-directors cut.<br /><br />The main plot is almost not taken up at all, the movie consists to the main part of several murder scenes, which are connected but the feeling is that they're only shown in order to fill the movie with splatterish violence. The connection is not revealed until the latter part and the lack of context bored me out long before I was there.<br /><br />As a horror movie it doesn't work. You never get the required feel for the characters due to mediocre acting and the general disposition (character is presented, 15 minutes later character is dead). This pictures strong side lies in the splatter part.\n",
      "* * * * * * * * * \n",
      "18078\n",
      "Vipul Shah has done some really impressive work as a filmmaker in the past. 'Waqt - The Race Against Time' and 'Namaste London' were entertaining and interesting to watch. 'Singh Is Kinng' was fun, which he produced. His latest outing as a filmmaker 'London Dreams' comes up as his careers weakest fare.<br /><br />'London Dreams' has a mediocre storyline, it's about how success turns friendship into hatred. Agreed, it has the potential but when you watch 'London Dreams' you wonder what's happening? This film has maybe the worst climax in recent times. Vipul Shah the writer puts Vipul Shah the director down. <br /><br />The first hour is boring, The second hour is better; but again the climax is horrendous. How can anyone forgive a person who decided to destroy you? I won't. Ajay Devgn suddenly decides to go to India and ask forgiveness to his diaper buddy, thanks to his uncle Om Puri. When he reaches India, rather than slapping or abusing him Salman welcomes him with band baja and says he was the reason behind the entire fiasco? Was Vipul Shah's intension to show Salman's character as a GOD? If yes, than you've failed completely. The only question I want to ask Vipul Shah is that, would you welcome a person who destroyed you with such a great reception? Write what you feel, don't fool us {the audience}, we are sensible enough to understand what's good or not. <br /><br />This is a musical but the music by Shankar-Eshaan-Loy is terrible. Not a single song stays in your mind. <br /><br />Salman is superb though. He carries the film on his shoulders and does really, really well in the emotional scenes. But again his character is shown as a GOD, which makes him look like a retard in the end. Ajay is equally good, but Salman has over-shadowed him completely. Asin is wasted, and what is a great talent like Om Puri doing in this film? Rannvijay hams, though Aditya Roy Kapoor excels. Brinda Parekh is alright as the vamp.<br /><br />On the whole, this dream remains a dream!\n",
      "* * * * * * * * * \n",
      "18216\n",
      "Made one year before ILSA, SHE-WOLF OF THE SS, BLACKSNAKE could have easily been called SUSAN, SHE-WOLF OF THE PLANTATION and it probably inspired the producers behind the Nazi sexploitation epics to go ahead with their more infamous films because the stories are identical: a gorgeous, horny, head strong (but stupid) blonde woman degrades and kills many people under her control, whom all hate her and want her dead. Sounds familiar? Director Russ Meyer and David Friedman, the producer behind the ILSA flicks, are good friends and they started their careers together. So, obviously, there's a connection there. Looking at BLACKSNAKE, I can't help but think that Russ Meyer wanted to move on and do something else than his typical busty women epics because XXX movies were all the rage during the mid 1970s, and Russ Meyer films, though filled with nudity and kinkiness and violence, were never even close to real porn. His films started to look positively quaint next to DEEP THROAT and other hard-core porno blockbusters. Meyer knew he couldn't compete with such films and BLACKSNAKE is sorta the end result of such a quandary in his career. He obviously wanted to branch out into different uncharted territory. But BLACKSNAKE bombed at the B.O. and Meyer quickly returned to making VIXEN type of films that, even if they still weren't pornographic, they were most definitely more over-the-top than any of his previous films.<br /><br />It's no wonder BLACKSNAKE was a B.O. failure. It's just terrible. Trash-o-rama. Jaw-droppingly bad. It's a quasi-campy take on slavery, if you can imagine that. The end result is jarring. One minute, we're in typical Meyer territory: exuberant, playful and silly, and then the next minute, super serious meditation on slavery and violence. Huh? It just doesn't work. The slavery/racism aspect is woefully mishandled and veers this movie in the true exploitation category. But BLACKSNAKE is not as sleazy as ILSA SHE WOLF OF THE SS and those kind of films, so I imagine fans of the latter were disappointed by it, which would explain the almost lack of interest in this movie from either exploitation fans or Russ Meyer fans. Meyer blames the failure of BLACKSNAKE because, and I quote, \\It didn't have enough breasts in it.\\\" Well, I'm sorry Russ, but the film is just bad, breast or no breasts. But he's right though about the low breast quota. Except for Anouska and the maid, the film's cast is male. Meyer replaces his usual bevy of buxom babes with throng of hunks with massive pecs, in the form of anonymous black actors playing the slaves and the big David (Darth Vader) Prowse. And with Anouska's right hand man around, who is portrayed as a ruthless but clever gay man who enjoys the power he has over the men, one can only wonder what Meyer was really trying to create here.<br /><br />BLACKSNAKE stars David Warbeck, who is lusted after by Anouska and her right hand man. Poor David. He looks totally befuddled by the whole experience. He did seem to have fun making the movie but you can clearly see that, at times, he has no idea what's going on. And then there's Anouska Hempel. She's a beautiful woman...for the 1970s, not the 1870s. With her makeup and hair, she looks like a typical 1970s Brit pin-up babe than a turn of the century dominatrix. And her wardrobe is hilarious. At one time, she actually unzips her leather boots! I didn't know they had zippers in those days. But the character she plays is, in itself, really degrading (no pun intended). She's nothing but a cipher to the object of lust and scorn of every men (and that woman) on the island. For example, one night, when David and Anouska are getting it on, her annoying slave driver walks in the room, knocks David unconscious and tries to rape her, groping her savagely. The next day, the slave driver is still working for Anouska and the two act as if nothing had happened. It's totally ludicrous. Under any circumstance, had her character been a real person, Anouska would have whipped the slave driver senseless and kicked his butt off the island. Or even killed him. But the fact that the woman keeps him on her plantation after he tried to rape her is stretching the flimsy story and characters' credulity to the max.<br /><br />Ridiculous details like this, and the thoroughly startling blaxploitation angle makes BLACKSNAKE a strangely unpleasant but watchable movie. Watchable in the train wreck variety. I just couldn't help but watch the film for the utter baseless aspects of it all (the excellent cinematography sorta makes it easier to watch). So, this being an exploitation film, I guess it succeeded in doing what it was supposed to do. But BLACKSNAKE is mainly for Russ Meyer completists.\"\n",
      "* * * * * * * * * \n",
      "18277\n",
      "This is just plain bad. Sometimes remakes, even if they stray from the original, are good on their own. They can bring another viewpoint and achieve a certain interpretation that makes them unique and enjoyable. This was as poorly thought out and carried out as can be. This wasn't any good even standing on it's own. Viggo Mortenson is a top-notch actor, but some of his selections of roles and projects leaves something to be desired. The original \\Vanishing Point\\\" was such a thrilling, psychological adventure; this is not an adventure at all, and is not enjoyable or entertaining whatsoever. This was made from a by-the-numbers approach to film-making, stuffing in plot points that someone in Hollywood believes will please what they see as today's film-going audience. Basically, they see us as a bunch of idiots. It's insulting that someone will put this out as a feature film, and even attempt to remake a cult classic this sloppily. The manipulative plot devices, the \\\"make-it-obvious-so-they-don't-miss-the-point\\\" aspects, ridiculous dialogue, stereotyped characters, amateurish direction...<br /><br />This is plain bad....\"\n",
      "* * * * * * * * * \n",
      "18300\n",
      "I despise horror movies, that is no secret. No plot, bad acting and gallons of blood are staples of these mistakes of cinema, and this \\movie\\\" is no exception. I cannot believe some cable stations actually run this garbage. (This particular garbage was released straight-to-video, as I recall.) As mentioning any other movie would be a great insult to that other movie, I say this: All of the Phantasm movies, all of the Jason movies, Freddy movies, Chucky movies, and most of the Michael Myers movies can be summed up in one word: TERRIBLE!!!<br /><br />Rating (Phantasm III): 0.5/10\"\n",
      "* * * * * * * * * \n",
      "18593\n",
      "I remember watching \\Lost Missile\\\" (actually throwing a fit until my brother and several cousins at whose home I was an overnight guest agreed to watch it with me - I was, from time to time, the Eric Cartman of the 1960s - sorry, guys) and being somewhat embarrassed when the sustained wave of million-degree heat emerged as a plot device - even as a second-grader I knew that a mere missile just couldn't carry the energy around for that much heat or devastation over more than the duration and limited radius of a nuclear detonation. <br /><br />My inflicting that turkey on loving relatives was a self-punishing crime.<br /><br />The film's production values were very good. The acting isn't bad (apart from the Shatnerism of the actor who played governor's aide that someone else here mentioned).<br /><br />But the idea of a missile Easy-Baking the surface of the Earth by means of the heat of its exhaust... no.<br /><br />How'd the people at \\\"Mystery Science Theater 3000\\\" miss \\\"The Lost Missile,\\\" anyway? <br /><br />It's a great classic of unintentional comedy - watch it if you want something to drink beer to some weekend.\"\n",
      "* * * * * * * * * \n",
      "18632\n",
      "Gods...where to start. I was only able to stomach about the first 10 minutes before I turned it off in disgust. Aside from the actor playing Robin Hood himself, the rest were just terrible. And, I can only stretch my suspension of disbelief only so far.<br /><br />From the very opening of the first episode, I lost count of how many errors, plot holes, and horrible costumes there were. It began with some poor peasant trying to hunt for a deer to feed his family. All well and good. However, the poor blighter must have been mostly deaf, because a handful of soldiers, in full armour, on horseback, were able to sneak up on him to within about 10 feet.<br /><br />Then, as he's running away, he goes from having them 10 feet behind him, to a shot where you cannot even see them at all, immediately followed by them about 20 feet behind him again. Then, he runs into some bushes, and is immediately manhandled by two of the soldiers...who just mere seconds before, were galloping on horseback, dozens of feet behind him.<br /><br />The \\armour\\\" on the soldiers is so painfully obviously cloth which they tried to make look like maille, and miserably failed. Not to mention, the lead soldier's \\\"armour\\\" being about 5 sizes too big for the poor fellow. Seriously, he looks like he is a small child wearing his father's over-sized armour! Finally, Robin manages to fire about 5, perfectly aimed shots all around one soldier's hand, in the span of about 2 seconds, from what appears to be a recurve bow. No human alive could make those kinds of shots, in that short amount of time, with a scoped rifle, much less a bow.<br /><br />After that, they escape the soldiers and stop to help an amazingly well dressed and clean \\\"peasant\\\" with digging a ditch...something that all noblemen were willing to do all the time, right? How this sorry excuse for a series ever got a second season is beyond me. The production costs (at least for what I saw) must have soared in the dozens of dollars (or Euros)...<br /><br />Seriously - I think a highschool drama class could have put on a better rendition. This was so bad, even that terrible Kevin Costner version of Robin Hood was better.<br /><br />I highly suggest you skip this monstrosity, and go rent or buy the mid-80's \\\"Robin of Sherwood\\\" series. Much better written, acted, costumed, and produced.<br /><br />For shame, BBC...for shame...\"\n",
      "* * * * * * * * * \n",
      "18808\n",
      "As much as I love Rodney Dangerfield, this was a terrible movie. The plot was kind of a holistic rip off of various movies, but unfortunately they forgot to rip off any good jokes. In addition it was annoying and boring and that's being kind. If you're looking for a good laugh, rent a copy of Private Parts.\n",
      "* * * * * * * * * \n"
     ]
    },
    {
     "name": "stdout",
     "output_type": "stream",
     "text": [
      "18940\n",
      "This Charles outing is decent but this is a pretty low-key performance. Marlon Brando stands out. There's a subplot with Mira Sorvino and Donald Sutherland that forgets to develop and it hurts the film a little. I'm still trying to figure out why Charlie want to change his name. Every movie with \\Charles\\\" has been pretty bad.\"\n",
      "* * * * * * * * * \n",
      "18942\n",
      "....ripoff of a dozen better films. Particularly Steven Martin's \\LA Story\\\", which at least had the grace to be obviously fictional even though it starred his then-girlfriend playing his girlfriend in the film.<br /><br />Yes, naive boys and girls, \\\"20 Dates\\\" IS a mockumentary, although I am not absolutely certain that was Myles Berkowitz's intent when he started. My impression is that he started the project semi-seriously, then quickly realized that it would be pathetic and not funny unless he made the situations more and more ridiculous. As a result, the whole thing has an uneasy, cheap and insincere feeling about it.<br /><br />As someone smartly pointed out, the film has two of the \\\"dates\\\" suing and putting restraining orders on Myles and yet they appear in the film, which would be impossible as it would require a consent form. It also appears to me that the majority of women who appear as \\\"the dates\\\" are professional actresses (albiet not famous ones, excepting Tina Carrere) -- they are simply too obviously pretty, polished, thin and comfortable in front of the camera to be average civilians.<br /><br />Mr. Berkowitz makes a classic error in only casting this kind of very pretty thin actress, instead of utilizing a variety of believable women, which might have made the premise (even in a mockumentary) more believable and funnier. He also skates over what is probably his real-world problem, and which is that both the movie character and the real world Myles Berkowitz appear to be functionally unemployed (his real life IMDb credits are practically non-existent, excepting this film). Even in the world of the movie, his ex-wife divorced him for never being employed. I think the viewer (let alone Mr. Berkowitz's real life dates) are deserving of an explanation of he manages to live in one of the most expensive urban environments in the US, in a luxury apartment, driving a fancy car and eating out at pricey restaurants when he doesn't seen to have any source of income whatsoever. (Is he drug dealer? Living off his rich parents? No clue!)<br /><br />You can get away with most anything in a film, if the jokes are really funny. \\\"20 Dates\\\" is painfully, embarrassingly UN-funny. Mr. Berkowitz's idea of a joke is to have his character, while on restaurant dates, announce to his companions how the food served is likely to give him either diarrhea or constipation -- the WORST kind of childish potty humor.<br /><br />It is not very surprising to discover that Mr. Berkowitz never made a film before \\\"20 Dates\\\" and in the last 8 years, has not made a single film, appeared as an actor in anyone else's film OR had a writing or producing credit of any kind. My gut instinct tells me that this film was not financed by \\\"Elie\\\" (the gangster money man who appears off-camera) but more likely by Mr. Berkowitz's affluent parents, or perhaps represents a shocking abuse of credit cards. Whichever it was, we can all rest easy that we are unlikely to have to see Myles Berkowitz or any of his creative efforts EVER AGAIN. Hallelujah!!!\"\n",
      "* * * * * * * * * \n",
      "19041\n",
      "I got this movie out of Blockbuster in one of those racks were you can get like 5 movies for 20 bucks. I'd have to say I got my money's worth on this one. I had expected horrible dialogue, crappy monsters, and shaky cameras. Well, as Meatloaf said, two outta three ain't bad.<br /><br />The acting is bad, though not as bad as some movies I've seen. Or maybe I've watched so many low budget movies recently I've lost perspective. There are some bits were the acting is downright terrible, but for the most part it's of at least High School Play level.<br /><br />The CG for the Sasquatch in this movie is probably the second-worst part. The first thing I thought when I saw it (and I noticed another reviewer agreed with me) was that a man in an ape suit would have been better. Clunky stop-motion animation would have looked better.<br /><br />So you may be asking why I call the CG the second-worst part. That's because the very worst part of the movie is the sound effects. They are loud, annoying, and constant. I've been camping, I know what insects sound like in the woods at night, and while they can be loud, they're not deafening like the cacophony in this movie. Usually when the \\background\\\" sounds drown out the movie's dialogue, it's a bad thing, but from what I caught of the dialogue of this film, I wasn't missing much.<br /><br />The action was infrequent and boring. The tension was non-existent, as was any sense of empathy with the characters. Speaking of the characters, they were all cookie-cutter and bland. The only mildly engaging byplay was between...actually, I can't think of anything. There was a line or two that made me crack a wan smile, but that was about it.<br /><br />The cinematography was decent, a step or two above what you'd normally see in a movie like this. However, it still had that \\\"home movie\\\" quality to it that you get with movies made on pocket change and a prayer. <br /><br />If you're like me and get a kick out of shoestring budget genre flicks, and you see this one in the dollar bin, think about grabbing it. Otherwise, stay away at all costs.\"\n",
      "* * * * * * * * * \n",
      "19261\n",
      "I'm not a huge Star Trek fan, but I was looking forward to this. I was intrigued by the pre-hype descriptions of the Enterprise, its cramped-submarine styling and rough-edged technology compared to the Treks we are used to.<br /><br />I didn't see anything all that interesting in this pilot. I found the plot to be convoluted and confusing.<br /><br />I will admit that I did like some of the character development - the depictions of the humans as an 'adolescent' species ready to outgrow their britches was entertaining.<br /><br />And that Vulcan babe had one hell of an incredible rack.<br /><br />But I don't think I'm going to get hooked on this series.<br /><br />3/10\n",
      "* * * * * * * * * \n",
      "19336\n",
      "My wife and I just finished this movie and I came onto to IMDb to commiserate with the reviewers that found this movie less than satisfactory. However, of the 10 pages of reviews, only a handful are negative. I feel that this movie is a great concept gone horribly awry and I want to warn those who are looking to watch the movie into the future.<br /><br />I admit, I'm more inspired to write reviews when I don't like a movie than as to when I do, so my handful of reviews are all negative. Still, that doesn't mean I'm biased towards not enjoying a movie, but I often find more eloquent reviews of movies I do enjoy.<br /><br />Paris je t'aime is the most pretentious movie I've seen in years. By using an \\intelligent\\\" concept and attaching some big talent to a couple of the WAY to many short stories, the movie ends up the worst of all worlds. It is art for arts sake, but something that a 2 year old could dream up and accomplish. Giving the director free reign of 5 minutes of screen time proves why there is a division of labor even in entertainment. Directors can't write, writers can't direct. (I'd like to throw in also that Clint Eastwood is overrated, but that is because he's an actor turn director {which rarely works, either}).<br /><br />What ends up on the screen is a garbled mess of short stories that don't make any sense, are not completed in 5 minutes and in total, spoil Paris to me. Why call it Paris je t'aime when a more apropos title is cluster f*ck? There are only a couple stories that are watchable, most notably the piece by Alfonso Cuarón, but everything else will fall into obscurity. The Coen brothers short is passable, but can you name a movie of theirs that does not contain a scene with a pick guitar? It's as if all the directors decided on doing whatever it is they want to do and chose Paris as the place to do it. As we all love Paris, present company included, we are blinded by the fact that this movie SUCKS. In fact, I think they put the directors names on each of the shorts because directors saw how poor of a film this is and decided to make sure they were blamed only for their 5 minutes. Seriously. SERIOUSLY.<br /><br />People, Natalie Portman is NOT a good actress. She is is not a pixie dream girl waiting to be yours. And Maggie Gyllenhaal, why?!? Are you people acting or just regurgitating performances from other movies? I'm looking at you Natalie Portman (Garden State, Closer), Elijah Wood (Sin City) and Catalina Sandino Moreno (Maria Full of Grace).<br /><br />One final comment on the acting: I give double kudos to Nick Nolte for acting and looking more humane than you have in ages or perhaps ever will again. Find his short on youtube as his 5 minutes are quite enjoyable.<br /><br />Writing short stories is very difficult and only a handful of authors have gotten it right. I'm thinking of Ernst Hemingway, Raymond Carver, F. Scott Fitzgerald, and John Cheever, just to name a few. It is much harder than writing a full novel and only the truly talented can accomplish this. The same can be said about short films. It appears that only one director will live on in the annals of history.<br /><br />If you uphold Paris as a gem to be discovered and reflected through your own lenses with your own story, then don't expect to enjoy this movie at all. The directors either didn't care or were lazy. In either scenario, by the time you are reading this it means you rented it. Praise be that you didn't pay 10 dollars a head in theaters for it.\"\n",
      "* * * * * * * * * \n",
      "19431\n",
      "Okay, the film festival crowd probably loved it. But your average, popcorn munching movie goer who has scraped to-gether the ten or fifteen bucks it costs to see a movie these days will probably wonder why he or she made this choice. If it's stamped \\Copolla\\\" it's automatically great stuff, right? Wrong! It's a neat spoof of filmdom's pretensions. But it's terribly \\\"in.\\\" I worry when film makers are more concerned about entertaining themselves rather than the public. It's interesting as a cinematic curio and it does have a chuckle or two in it. But once it's run its course in the movies and on TV, the dust will grow thick on the film cans and tape boxes holding it. Hardly either epochal or an epic!\"\n",
      "* * * * * * * * * \n",
      "19476\n",
      "Forget Plan 9, this is the ultimate fiasco, a costume drama, ineptly directed, scripted, acted, etc. This film is based on Isabel Allende's not-so-much-better novel. I hate Meryl Streep and Antonio Banderas (in non-Spanish films), and the other actors, including Winona, my favourite actress and Jeremy Irons try hard to get over such a terrible script. Plenty of mistakes (like, for example, since when does it snow in Xmas in Chile?) and very cruel, with tons of that evil named \\magic realism\\\", this stands out as the worst movie of all time. It totally sucks!!!\"\n",
      "* * * * * * * * * \n",
      "19521\n",
      "Put a DVD of this flick in a time capsule, and it will definitely illustrate for future generations a perfect example of one which warrants the minimal rating on a 1-to-10-star scale.<br /><br />Bill Cosby and Ray Romano have been at the top - in ratings and with tens of millions in earnings annually - with their television series'. Yet each has had no success in big-screen offerings. This has also been true for other TV personalities - perhaps because many of the stories which are presented for two hours or so seem more suited to either a 10-minute skit, or at most, the 22 or 23 minutes of drama during a half-hour program.<br /><br />This film, however, doesn't have one single element which would warrant two or three minutes of time on MAD TV, SNL, or anywhere else on a screen or stage.<br /><br />Its origination date is listed as 2002, but release date - to DVD only - is shown as 2004. It also was filmed not long before Rodney Dangerfield's death, so its one redeeming value is that it probably provided at lease a few hundred thousand more dollars for his heirs.<br /><br />I'd never heard of it, but found it when turning-on my set, and frankly became fascinated by it. Some movies are so truly awful that they rate a sort of top rating in reverse - so bad that you can move the dial backwards to a 9 or 10. \\Plan 9 from Outer Space\\\" is the best example - and the Bruce Jenner/Village People opus, \\\"Can't Stop the Music,\\\" is another.<br /><br />Unfortunately this flick falls short even there. Even if Rodney's earlier work (as well as some of his fellow cast-members') fell short of \\\"Citizen Kane\\\" or \\\"Casablanca,\\\" there were many moments of humor and a story providing at least a modicum of interest.<br /><br />Unfortunately, this presentation doesn't seem to possess even a minute or two's worth of such material.\"\n",
      "* * * * * * * * * \n",
      "19658\n",
      "I'll say it again: this movie was totally lame. Kids will like it, sure, but adults...doubtful. The whole thing was basically a rehash of the original, which is to be expected, since they pretty much explored the whole concept in the first movie, but still, did they have to completely rehash the entire movie? I mean, everything is re-done from the Little Mermaid. The worst part of it is Morgana \\Ursula's crazy sister\\\" who appears out of nowhere and threatens Melody, which is ridiculous since Triton is there with his magic trident. Why didn't Triton do anything about it? Because the plot required him to do nothing. I could go on, but I won't. The whole thing is a shameless attempt to rake in more money from the Little Mermaid, and was obviously thrown together without any thought, because they knew it would sell. Overall it is a terrible waste of time.\"\n",
      "* * * * * * * * * \n",
      "19680\n",
      "Ah, Channel 5 of local Mexican t.v. Everyday, at 2:00 a.m. they air Horror movies from the 70's to early 2000's. It was \\Return To Cabin By The Lake\\\" the movie that aired yesterday. I regret for watching it.<br /><br />The original \\\"Cabin By The Lake\\\" was a regularly popular low budgeter and it was good accepted. The problem is that this sequel is horrible, not even unintentionally funny and tries to imitate the original. Ugh. The plot is really stupid in all the sense of the word.<br /><br />The movie at some points looks like a soap-opera because of it's absurd dialogs, cinematography, and direction.<br /><br />My advice is : avoid this one at all costs. It's a movie that it shouldn't be watched by anyone. Not even for lovers of mediocre film-making.<br /><br />You have been warned.\"\n",
      "* * * * * * * * * \n",
      "19746\n",
      "Stephen King adaptation (scripted by King himself) in which a young family, newcomers to rural Maine, find out about the pet cemetery close to their home. The father (Dale Midkiff) then finds out about the Micmac burial ground beyond the pet cemetery that has powers of resurrection - only of course anything buried there comes back not quite RIGHT.<br /><br />Below average \\horror\\\" picture starts out clumsy, insulting, and inept, and continues that way for a while, with the absolute worst element being Midkiff's worthless performance. It gets a little better toward the end, with genuinely disturbing finale. In point of fact, the whole movie is really disturbing, which is why I can't completely dismiss it - at least it has SOMETHING to make it memorable. Decent supporting performances by Fred Gwynne, as the wise old aged neighbor, and Brad Greenquist, as the disfigured spirit Victor Pascow are not enough to really redeem film.<br /><br />King has his usual cameo as the minister.<br /><br />Followed by a sequel also directed by Mary Lambert (is it any wonder that she's had no mainstream film work since?).<br /><br />4/10\"\n",
      "* * * * * * * * * \n",
      "19755\n",
      "What an appalling film. Don't get me wrong, Gene Hackman and Denzel Washington are good actors, but aside from a few interesting set pieces, the film is mostly taken up with hysterical submariners shouting, crying, sweating and generally freaking out when anything goes wrong.<br /><br />Take that with simplistic asides to make sure the audience still understand what's going on (the scene where Denzel Washington explains to a radio repairman how he must be like Scotty in Star Trek is nothing more than a joke) and you have a dumbed down thriller not worthy of the acting.<br /><br />Let us just hope that the real nuclear US Navy is not in the hands of such a script!<br /><br />\n",
      "* * * * * * * * * \n",
      "19760\n",
      "There seems to be an overwhelming response to this movie yet no one with the insight to critique its methodology, which is extremely flawed. It simply continues to propogate journalistic style analysis, which is that it plays off of the audiences lack of knowledge and prejudice in order to evoke an emotional decry and outburst of negative diatribe.<br /><br />Journalism 101: tell the viewer some fact only in order to predispose them into drawing conclusions which are predictable. for instance, the idea of civil war, chaos, looting, etc were all supposedly unexpected responses to the collapse of governmental infrastructure following Hussein's demise: were these not all symptomatic of an already destitute culture? doctrinal infighting as symptomatic of these veins of Islam itself, rather than a failure in police force to restrain and secure? would they rather the US have declared marshall law? i'm sure the papers here would've exploded with accusations of a police state and fascist force.<br /><br />aside from the analytical idiocy of the film, it takes a few sideliners and leaves the rest out claiming \\so-and-so refused to be interviewed...\\\" yet the questions they would've asked are no doubt already answered by the hundred inquisitions those individuals have already received. would you, as vice president, deign to be interviewed by a first time writer/producer which was most certainly already amped to twist your words. they couldn't roll tape of Condi to actually show her opinion and answer some of the logistics of the questions, perhaps they never watched her hearing.<br /><br />this is far from a neutral glimpse of the situation on the ground there. this is another biased, asinine approach by journalists - which are, by and large, unthinking herds.<br /><br />anyone wanting to comment on war ought at least have based their ideas on things a little more reliable than NBC coverage and CNN commentary. these interpretations smack of the same vitriol which simply creates a further bipartisanism of those who want to think and those who want to be told by the media what to think.\"\n",
      "* * * * * * * * * \n",
      "19770\n",
      "I may have seen worse films than this, but I if I have, I don't remember. Or possibly blocked them out. Who knows,if I was to undergo hypnotherapy, I may remember them, along, maybe, with been abducted by aliens as a child, or other traumas. If so, I would happily exchange those memories for the ones I have of watching this film.<br /><br />I should give the film some credit: It did produce an emotional response. I actually started to become angry at scenes that spoofed other films and TV programs, that this travesty was dirtying them by association. I am terrified that I may be unable to watch films like Dr Strangelove again without this film flitting across my minds eye.\n",
      "* * * * * * * * * \n",
      "19842\n",
      "This rubbish excuse for television is the single most god-awful piece of trash ever to hit Australian television. The house-mates are dull, uninteresting, ridiculously unintelligent and are picked on the basis that you would be likely to attempt to murder them if you had to live with them. As far as I am concerned Big Brother is the decline of western society, showing how us as a society are on a steep slope to becoming brain-dead morons. Whatever happened to television that didn't target the lowest common denominator of society as an audience? This cannot be classified as entertainment. I think that it true that Channel Ten can remove your soul. It happened to Rove McManus who was once a respectable comedian and, once moving to Channel 10, become horribly unfunny. With the exception of The Simpsons which is highly intelligently made.\n",
      "* * * * * * * * * \n"
     ]
    }
   ],
   "source": [
    "# false positives\n",
    "\n",
    "print(\"Examples of false positives:\")\n",
    "\n",
    "import random, time\n",
    "\n",
    "for i in range(0, len(ols_predictions)):\n",
    "    if (ols_predictions[i] == 1):\n",
    "        if (X_raw_train.iloc[i]['sentiment'] == 0):\n",
    "            if (random.uniform(0, 1) < 0.05): # to print only 5% of the false positives\n",
    "                print(i)\n",
    "                print(X_raw_train.iloc[i]['review'])\n",
    "                print('* * * * * * * * * ')\n"
   ]
  },
  {
   "cell_type": "markdown",
   "metadata": {},
   "source": [
    "---\n",
    "\n",
    "# <span style=\"color:red\">WARNING: Don't look at test set performance too much!</span>\n",
    "\n",
    "---\n",
    "\n",
    "The following cells show performance on your test set. Do not look at this too often! "
   ]
  },
  {
   "cell_type": "markdown",
   "metadata": {},
   "source": [
    "# Look at performance on the test set"
   ]
  },
  {
   "cell_type": "markdown",
   "metadata": {},
   "source": [
    "### MODEL: ordinary least squares"
   ]
  },
  {
   "cell_type": "code",
   "execution_count": 49,
   "metadata": {},
   "outputs": [
    {
     "name": "stdout",
     "output_type": "stream",
     "text": [
      "{'Pos': 2449, 'Neg': 2551, 'TP': 1169, 'TN': 1336, 'FP': 1215, 'FN': 1280, 'Accuracy': 0.501, 'Precision': 0.4903523489932886, 'Recall': 0.47733768885259287, 'desc': 'ols_test'}\n"
     ]
    }
   ],
   "source": [
    "ols_performance_test = BinaryClassificationPerformance(ols.predict(X_test), y_test, 'ols_test')\n",
    "ols_performance_test.compute_measures()\n",
    "print(ols_performance_test.performance_measures)"
   ]
  },
  {
   "cell_type": "markdown",
   "metadata": {},
   "source": [
    "### MODEL: SVM, linear"
   ]
  },
  {
   "cell_type": "code",
   "execution_count": 50,
   "metadata": {},
   "outputs": [
    {
     "name": "stdout",
     "output_type": "stream",
     "text": [
      "{'Pos': 2449, 'Neg': 2551, 'TP': 2080, 'TN': 2111, 'FP': 440, 'FN': 369, 'Accuracy': 0.8382, 'Precision': 0.8253968253968254, 'Recall': 0.8493262556145366, 'desc': 'svm_test'}\n"
     ]
    }
   ],
   "source": [
    "svm_performance_test = BinaryClassificationPerformance(svm.predict(X_test), y_test, 'svm_test')\n",
    "svm_performance_test.compute_measures()\n",
    "print(svm_performance_test.performance_measures)"
   ]
  },
  {
   "cell_type": "markdown",
   "metadata": {},
   "source": [
    "### MODEL: logistic regression"
   ]
  },
  {
   "cell_type": "code",
   "execution_count": 51,
   "metadata": {},
   "outputs": [
    {
     "name": "stdout",
     "output_type": "stream",
     "text": [
      "{'Pos': 2449, 'Neg': 2551, 'TP': 2077, 'TN': 2150, 'FP': 401, 'FN': 372, 'Accuracy': 0.8454, 'Precision': 0.8381759483454398, 'Recall': 0.8481012658227848, 'desc': 'lgs_test'}\n"
     ]
    }
   ],
   "source": [
    "lgs_performance_test = BinaryClassificationPerformance(lgs.predict(X_test), y_test, 'lgs_test')\n",
    "lgs_performance_test.compute_measures()\n",
    "print(lgs_performance_test.performance_measures)"
   ]
  },
  {
   "cell_type": "markdown",
   "metadata": {},
   "source": [
    "### MODEL: Naive Bayes"
   ]
  },
  {
   "cell_type": "code",
   "execution_count": 52,
   "metadata": {},
   "outputs": [
    {
     "ename": "AttributeError",
     "evalue": "'MultinomialNB' object has no attribute 'feature_log_prob_'",
     "output_type": "error",
     "traceback": [
      "\u001b[0;31m---------------------------------------------------------------------------\u001b[0m",
      "\u001b[0;31mAttributeError\u001b[0m                            Traceback (most recent call last)",
      "\u001b[0;32m<ipython-input-52-a30e9e01d50e>\u001b[0m in \u001b[0;36m<module>\u001b[0;34m\u001b[0m\n\u001b[0;32m----> 1\u001b[0;31m \u001b[0mnbs_performance_test\u001b[0m \u001b[0;34m=\u001b[0m \u001b[0mBinaryClassificationPerformance\u001b[0m\u001b[0;34m(\u001b[0m\u001b[0mnbs\u001b[0m\u001b[0;34m.\u001b[0m\u001b[0mpredict\u001b[0m\u001b[0;34m(\u001b[0m\u001b[0mX_test\u001b[0m\u001b[0;34m)\u001b[0m\u001b[0;34m,\u001b[0m \u001b[0my_test\u001b[0m\u001b[0;34m,\u001b[0m \u001b[0;34m'nbs_test'\u001b[0m\u001b[0;34m)\u001b[0m\u001b[0;34m\u001b[0m\u001b[0;34m\u001b[0m\u001b[0m\n\u001b[0m\u001b[1;32m      2\u001b[0m \u001b[0mnbs_performance_test\u001b[0m\u001b[0;34m.\u001b[0m\u001b[0mcompute_measures\u001b[0m\u001b[0;34m(\u001b[0m\u001b[0;34m)\u001b[0m\u001b[0;34m\u001b[0m\u001b[0;34m\u001b[0m\u001b[0m\n\u001b[1;32m      3\u001b[0m \u001b[0mprint\u001b[0m\u001b[0;34m(\u001b[0m\u001b[0mnbs_performance_test\u001b[0m\u001b[0;34m.\u001b[0m\u001b[0mperformance_measures\u001b[0m\u001b[0;34m)\u001b[0m\u001b[0;34m\u001b[0m\u001b[0;34m\u001b[0m\u001b[0m\n",
      "\u001b[0;32m~/opt/anaconda3/lib/python3.8/site-packages/sklearn/naive_bayes.py\u001b[0m in \u001b[0;36mpredict\u001b[0;34m(self, X)\u001b[0m\n\u001b[1;32m     76\u001b[0m         \u001b[0mcheck_is_fitted\u001b[0m\u001b[0;34m(\u001b[0m\u001b[0mself\u001b[0m\u001b[0;34m)\u001b[0m\u001b[0;34m\u001b[0m\u001b[0;34m\u001b[0m\u001b[0m\n\u001b[1;32m     77\u001b[0m         \u001b[0mX\u001b[0m \u001b[0;34m=\u001b[0m \u001b[0mself\u001b[0m\u001b[0;34m.\u001b[0m\u001b[0m_check_X\u001b[0m\u001b[0;34m(\u001b[0m\u001b[0mX\u001b[0m\u001b[0;34m)\u001b[0m\u001b[0;34m\u001b[0m\u001b[0;34m\u001b[0m\u001b[0m\n\u001b[0;32m---> 78\u001b[0;31m         \u001b[0mjll\u001b[0m \u001b[0;34m=\u001b[0m \u001b[0mself\u001b[0m\u001b[0;34m.\u001b[0m\u001b[0m_joint_log_likelihood\u001b[0m\u001b[0;34m(\u001b[0m\u001b[0mX\u001b[0m\u001b[0;34m)\u001b[0m\u001b[0;34m\u001b[0m\u001b[0;34m\u001b[0m\u001b[0m\n\u001b[0m\u001b[1;32m     79\u001b[0m         \u001b[0;32mreturn\u001b[0m \u001b[0mself\u001b[0m\u001b[0;34m.\u001b[0m\u001b[0mclasses_\u001b[0m\u001b[0;34m[\u001b[0m\u001b[0mnp\u001b[0m\u001b[0;34m.\u001b[0m\u001b[0margmax\u001b[0m\u001b[0;34m(\u001b[0m\u001b[0mjll\u001b[0m\u001b[0;34m,\u001b[0m \u001b[0maxis\u001b[0m\u001b[0;34m=\u001b[0m\u001b[0;36m1\u001b[0m\u001b[0;34m)\u001b[0m\u001b[0;34m]\u001b[0m\u001b[0;34m\u001b[0m\u001b[0;34m\u001b[0m\u001b[0m\n\u001b[1;32m     80\u001b[0m \u001b[0;34m\u001b[0m\u001b[0m\n",
      "\u001b[0;32m~/opt/anaconda3/lib/python3.8/site-packages/sklearn/naive_bayes.py\u001b[0m in \u001b[0;36m_joint_log_likelihood\u001b[0;34m(self, X)\u001b[0m\n\u001b[1;32m    775\u001b[0m     \u001b[0;32mdef\u001b[0m \u001b[0m_joint_log_likelihood\u001b[0m\u001b[0;34m(\u001b[0m\u001b[0mself\u001b[0m\u001b[0;34m,\u001b[0m \u001b[0mX\u001b[0m\u001b[0;34m)\u001b[0m\u001b[0;34m:\u001b[0m\u001b[0;34m\u001b[0m\u001b[0;34m\u001b[0m\u001b[0m\n\u001b[1;32m    776\u001b[0m         \u001b[0;34m\"\"\"Calculate the posterior log probability of the samples X\"\"\"\u001b[0m\u001b[0;34m\u001b[0m\u001b[0;34m\u001b[0m\u001b[0m\n\u001b[0;32m--> 777\u001b[0;31m         return (safe_sparse_dot(X, self.feature_log_prob_.T) +\n\u001b[0m\u001b[1;32m    778\u001b[0m                 self.class_log_prior_)\n\u001b[1;32m    779\u001b[0m \u001b[0;34m\u001b[0m\u001b[0m\n",
      "\u001b[0;31mAttributeError\u001b[0m: 'MultinomialNB' object has no attribute 'feature_log_prob_'"
     ]
    }
   ],
   "source": [
    "nbs_performance_test = BinaryClassificationPerformance(nbs.predict(X_test), y_test, 'nbs_test')\n",
    "nbs_performance_test.compute_measures()\n",
    "print(nbs_performance_test.performance_measures)"
   ]
  },
  {
   "cell_type": "markdown",
   "metadata": {},
   "source": [
    "### MODEL: Perceptron"
   ]
  },
  {
   "cell_type": "code",
   "execution_count": 53,
   "metadata": {},
   "outputs": [
    {
     "name": "stdout",
     "output_type": "stream",
     "text": [
      "{'Pos': 2449, 'Neg': 2551, 'TP': 2083, 'TN': 2105, 'FP': 446, 'FN': 366, 'Accuracy': 0.8376, 'Precision': 0.8236457097667063, 'Recall': 0.8505512454062882, 'desc': 'prc_test'}\n"
     ]
    }
   ],
   "source": [
    "prc_performance_test = BinaryClassificationPerformance(prc.predict(X_test), y_test, 'prc_test')\n",
    "prc_performance_test.compute_measures()\n",
    "print(prc_performance_test.performance_measures)"
   ]
  },
  {
   "cell_type": "markdown",
   "metadata": {},
   "source": [
    "### MODEL: Ridge Regression Classifier"
   ]
  },
  {
   "cell_type": "code",
   "execution_count": 54,
   "metadata": {},
   "outputs": [
    {
     "name": "stdout",
     "output_type": "stream",
     "text": [
      "{'Pos': 2449, 'Neg': 2551, 'TP': 2040, 'TN': 2056, 'FP': 495, 'FN': 409, 'Accuracy': 0.8192, 'Precision': 0.8047337278106509, 'Recall': 0.8329930583911801, 'desc': 'rdg_test'}\n"
     ]
    }
   ],
   "source": [
    "rdg_performance_test = BinaryClassificationPerformance(rdg.predict(X_test), y_test, 'rdg_test')\n",
    "rdg_performance_test.compute_measures()\n",
    "print(rdg_performance_test.performance_measures)"
   ]
  },
  {
   "cell_type": "markdown",
   "metadata": {},
   "source": [
    "### MODEL: Random Forest Classifier"
   ]
  },
  {
   "cell_type": "code",
   "execution_count": 55,
   "metadata": {},
   "outputs": [
    {
     "name": "stdout",
     "output_type": "stream",
     "text": [
      "{'Pos': 2449, 'Neg': 2551, 'TP': 2138, 'TN': 1544, 'FP': 1007, 'FN': 311, 'Accuracy': 0.7364, 'Precision': 0.6798092209856915, 'Recall': 0.8730093915884034, 'desc': 'rdf_test'}\n"
     ]
    }
   ],
   "source": [
    "rdf_performance_test = BinaryClassificationPerformance(rdf.predict(X_test), y_test, 'rdf_test')\n",
    "rdf_performance_test.compute_measures()\n",
    "print(rdf_performance_test.performance_measures)"
   ]
  },
  {
   "cell_type": "markdown",
   "metadata": {},
   "source": [
    "### ROC plot to compare performance of various models and fits"
   ]
  },
  {
   "cell_type": "code",
   "execution_count": 57,
   "metadata": {},
   "outputs": [
    {
     "data": {
      "image/png": "[encoded data removed]",
      "text/plain": [
       "<Figure size 432x288 with 1 Axes>"
      ]
     },
     "metadata": {
      "needs_background": "light"
     },
     "output_type": "display_data"
    }
   ],
   "source": [
    "fits = [ols_performance_test, \n",
    "        svm_performance_test, \n",
    "        lgs_performance_test, \n",
    "#         nbs_performance_test, \n",
    "        prc_performance_test, \n",
    "        rdg_performance_test, \n",
    "        rdf_performance_test]\n",
    "\n",
    "for fit in fits:\n",
    "    plt.plot(fit.performance_measures['FP'] / fit.performance_measures['Neg'], \n",
    "             fit.performance_measures['TP'] / fit.performance_measures['Pos'], 'bo')\n",
    "    plt.text(fit.performance_measures['FP'] / fit.performance_measures['Neg'], \n",
    "             fit.performance_measures['TP'] / fit.performance_measures['Pos'], fit.desc)\n",
    "plt.axis([0, 1, 0, 1])\n",
    "plt.title('ROC plot: test set')\n",
    "plt.xlabel('False positive rate')\n",
    "plt.ylabel('True positive rate')\n",
    "plt.show()"
   ]
  },
  {
   "cell_type": "markdown",
   "metadata": {},
   "source": [
    "---\n",
    "\n",
    "# <span style=\"color:red\">SUBMISSION</span>\n",
    "\n",
    "---"
   ]
  },
  {
   "cell_type": "code",
   "execution_count": 59,
   "metadata": {},
   "outputs": [
    {
     "name": "stdout",
     "output_type": "stream",
     "text": [
      "movie_data is: <class 'pandas.core.frame.DataFrame'>\n",
      "movie_data has 25000 rows and 2 columns \n",
      "\n",
      "the data types for each of the columns in movie_data:\n",
      "id        object\n",
      "review    object\n",
      "dtype: object \n",
      "\n",
      "the first 10 rows in movie_data:\n",
      "         id                                             review\n",
      "0  12311_10  Naturally in a film who's main themes are of m...\n",
      "1    8348_2  This movie is a disaster within a disaster fil...\n",
      "2    5828_4  All in all, this is a movie for kids. We saw i...\n",
      "3    7186_2  Afraid of the Dark left me with the impression...\n",
      "4   12128_7  A very accurate depiction of small time mob li...\n",
      "Shape of HashingVectorizer X:\n",
      "(25000, 131072)\n",
      "Look at a few rows of the new quantitative features: \n",
      "   word_count  sent_count    nltk\n",
      "0         131    0.000000 -0.7913\n",
      "1         169    0.500000  3.9172\n",
      "2         176    1.500000 -3.9041\n",
      "3         112    2.000000 -0.3397\n",
      "4         133    1.333333  1.6465\n",
      "5         331    0.000000  0.6067\n",
      "6         121    1.333333 -0.3099\n",
      "7         230    2.000000 -0.5685\n",
      "8          59    0.000000  1.7765\n",
      "9         224    2.000000  1.3679\n",
      "Size of combined bag of words and new quantitative variables matrix:\n",
      "(25000, 131075)\n",
      "(25000, 131075)\n",
      "Shape of X_test for submission:\n",
      "(25000, 131075)\n",
      "SUCCESS!\n",
      "Number of rows in the submission test set (should be 25,000): \n"
     ]
    }
   ],
   "source": [
    "# read in test data for submission\n",
    "# CHANGE FILE PATH and my_random_seed number (any integer other than 74 will do): \n",
    "raw_data, X_test_submission = process_raw_data(fn='../week04/final_data/moviereviews_test.tsv', my_random_seed=14, test=True)\n",
    "print(\"Number of rows in the submission test set (should be 25,000): \")"
   ]
  },
  {
   "cell_type": "markdown",
   "metadata": {},
   "source": [
    "---\n",
    "\n",
    "Choose a <span style=\"color:red\">*single*</span> model for your submission. In this code, I am choosing the Ordinary Least Squares model fit, which is in the `ols` object. But you should choose the model that is performing the best for you! "
   ]
  },
  {
   "cell_type": "code",
   "execution_count": 60,
   "metadata": {},
   "outputs": [
    {
     "name": "stdout",
     "output_type": "stream",
     "text": [
      "0.49108\n"
     ]
    }
   ],
   "source": [
    "# store the id from the raw data\n",
    "my_submission = pd.DataFrame(raw_data[\"id\"])\n",
    "# concatenate predictions to the id\n",
    "my_submission[\"prediction\"] = ols.predict(X_test_submission)\n",
    "# look at the proportion of positive predictions\n",
    "print(my_submission['prediction'].mean())"
   ]
  },
  {
   "cell_type": "code",
   "execution_count": 61,
   "metadata": {},
   "outputs": [
    {
     "data": {
      "text/html": [
       "<div>\n",
       "<style scoped>\n",
       "    .dataframe tbody tr th:only-of-type {\n",
       "        vertical-align: middle;\n",
       "    }\n",
       "\n",
       "    .dataframe tbody tr th {\n",
       "        vertical-align: top;\n",
       "    }\n",
       "\n",
       "    .dataframe thead th {\n",
       "        text-align: right;\n",
       "    }\n",
       "</style>\n",
       "<table border=\"1\" class=\"dataframe\">\n",
       "  <thead>\n",
       "    <tr style=\"text-align: right;\">\n",
       "      <th></th>\n",
       "      <th>id</th>\n",
       "      <th>review</th>\n",
       "      <th>word_count</th>\n",
       "      <th>sent_count</th>\n",
       "      <th>nltk</th>\n",
       "    </tr>\n",
       "  </thead>\n",
       "  <tbody>\n",
       "    <tr>\n",
       "      <th>0</th>\n",
       "      <td>12311_10</td>\n",
       "      <td>Naturally in a film who's main themes are of m...</td>\n",
       "      <td>131</td>\n",
       "      <td>0.000000</td>\n",
       "      <td>-0.7913</td>\n",
       "    </tr>\n",
       "    <tr>\n",
       "      <th>1</th>\n",
       "      <td>8348_2</td>\n",
       "      <td>This movie is a disaster within a disaster fil...</td>\n",
       "      <td>169</td>\n",
       "      <td>0.500000</td>\n",
       "      <td>3.9172</td>\n",
       "    </tr>\n",
       "    <tr>\n",
       "      <th>2</th>\n",
       "      <td>5828_4</td>\n",
       "      <td>All in all, this is a movie for kids. We saw i...</td>\n",
       "      <td>176</td>\n",
       "      <td>1.500000</td>\n",
       "      <td>-3.9041</td>\n",
       "    </tr>\n",
       "    <tr>\n",
       "      <th>3</th>\n",
       "      <td>7186_2</td>\n",
       "      <td>Afraid of the Dark left me with the impression...</td>\n",
       "      <td>112</td>\n",
       "      <td>2.000000</td>\n",
       "      <td>-0.3397</td>\n",
       "    </tr>\n",
       "    <tr>\n",
       "      <th>4</th>\n",
       "      <td>12128_7</td>\n",
       "      <td>A very accurate depiction of small time mob li...</td>\n",
       "      <td>133</td>\n",
       "      <td>1.333333</td>\n",
       "      <td>1.6465</td>\n",
       "    </tr>\n",
       "  </tbody>\n",
       "</table>\n",
       "</div>"
      ],
      "text/plain": [
       "         id                                             review  word_count  \\\n",
       "0  12311_10  Naturally in a film who's main themes are of m...         131   \n",
       "1    8348_2  This movie is a disaster within a disaster fil...         169   \n",
       "2    5828_4  All in all, this is a movie for kids. We saw i...         176   \n",
       "3    7186_2  Afraid of the Dark left me with the impression...         112   \n",
       "4   12128_7  A very accurate depiction of small time mob li...         133   \n",
       "\n",
       "   sent_count    nltk  \n",
       "0    0.000000 -0.7913  \n",
       "1    0.500000  3.9172  \n",
       "2    1.500000 -3.9041  \n",
       "3    2.000000 -0.3397  \n",
       "4    1.333333  1.6465  "
      ]
     },
     "execution_count": 61,
     "metadata": {},
     "output_type": "execute_result"
    }
   ],
   "source": [
    "raw_data.head()"
   ]
  },
  {
   "cell_type": "code",
   "execution_count": 62,
   "metadata": {},
   "outputs": [
    {
     "data": {
      "text/html": [
       "<div>\n",
       "<style scoped>\n",
       "    .dataframe tbody tr th:only-of-type {\n",
       "        vertical-align: middle;\n",
       "    }\n",
       "\n",
       "    .dataframe tbody tr th {\n",
       "        vertical-align: top;\n",
       "    }\n",
       "\n",
       "    .dataframe thead th {\n",
       "        text-align: right;\n",
       "    }\n",
       "</style>\n",
       "<table border=\"1\" class=\"dataframe\">\n",
       "  <thead>\n",
       "    <tr style=\"text-align: right;\">\n",
       "      <th></th>\n",
       "      <th>id</th>\n",
       "      <th>prediction</th>\n",
       "    </tr>\n",
       "  </thead>\n",
       "  <tbody>\n",
       "    <tr>\n",
       "      <th>0</th>\n",
       "      <td>12311_10</td>\n",
       "      <td>1</td>\n",
       "    </tr>\n",
       "    <tr>\n",
       "      <th>1</th>\n",
       "      <td>8348_2</td>\n",
       "      <td>0</td>\n",
       "    </tr>\n",
       "    <tr>\n",
       "      <th>2</th>\n",
       "      <td>5828_4</td>\n",
       "      <td>0</td>\n",
       "    </tr>\n",
       "    <tr>\n",
       "      <th>3</th>\n",
       "      <td>7186_2</td>\n",
       "      <td>0</td>\n",
       "    </tr>\n",
       "    <tr>\n",
       "      <th>4</th>\n",
       "      <td>12128_7</td>\n",
       "      <td>0</td>\n",
       "    </tr>\n",
       "  </tbody>\n",
       "</table>\n",
       "</div>"
      ],
      "text/plain": [
       "         id  prediction\n",
       "0  12311_10           1\n",
       "1    8348_2           0\n",
       "2    5828_4           0\n",
       "3    7186_2           0\n",
       "4   12128_7           0"
      ]
     },
     "execution_count": 62,
     "metadata": {},
     "output_type": "execute_result"
    }
   ],
   "source": [
    "my_submission.head()"
   ]
  },
  {
   "cell_type": "code",
   "execution_count": 63,
   "metadata": {},
   "outputs": [
    {
     "data": {
      "text/plain": [
       "(25000, 2)"
      ]
     },
     "execution_count": 63,
     "metadata": {},
     "output_type": "execute_result"
    }
   ],
   "source": [
    "my_submission.shape"
   ]
  },
  {
   "cell_type": "code",
   "execution_count": 64,
   "metadata": {},
   "outputs": [],
   "source": [
    "# export submission file as pdf\n",
    "# CHANGE FILE PATH: \n",
    "my_submission.to_csv('my_moviereviews_submission2.csv', index=False)"
   ]
  },
  {
   "cell_type": "markdown",
   "metadata": {},
   "source": [
    "# Submit to Canvas: 1) the CSV file that was written in the previous cell and 2) the url to the repository (GitHub or other) that contains your code and documentation"
   ]
  },
  {
   "cell_type": "code",
   "execution_count": null,
   "metadata": {},
   "outputs": [],
   "source": []
  },
  {
   "cell_type": "code",
   "execution_count": null,
   "metadata": {},
   "outputs": [],
   "source": []
  },
  {
   "cell_type": "code",
   "execution_count": null,
   "metadata": {},
   "outputs": [],
   "source": []
  },
  {
   "cell_type": "code",
   "execution_count": null,
   "metadata": {},
   "outputs": [],
   "source": []
  },
  {
   "cell_type": "code",
   "execution_count": null,
   "metadata": {},
   "outputs": [],
   "source": []
  },
  {
   "cell_type": "code",
   "execution_count": null,
   "metadata": {},
   "outputs": [],
   "source": []
  },
  {
   "cell_type": "code",
   "execution_count": null,
   "metadata": {},
   "outputs": [],
   "source": []
  },
  {
   "cell_type": "code",
   "execution_count": null,
   "metadata": {},
   "outputs": [],
   "source": []
  },
  {
   "cell_type": "code",
   "execution_count": null,
   "metadata": {},
   "outputs": [],
   "source": []
  }
 ],
 "metadata": {
  "kernelspec": {
   "display_name": "Python 3",
   "language": "python",
   "name": "python3"
  },
  "language_info": {
   "codemirror_mode": {
    "name": "ipython",
    "version": 3
   },
   "file_extension": ".py",
   "mimetype": "text/x-python",
   "name": "python",
   "nbconvert_exporter": "python",
   "pygments_lexer": "ipython3",
   "version": "3.8.3"
  }
 },
 "nbformat": 4,
 "nbformat_minor": 2
}
